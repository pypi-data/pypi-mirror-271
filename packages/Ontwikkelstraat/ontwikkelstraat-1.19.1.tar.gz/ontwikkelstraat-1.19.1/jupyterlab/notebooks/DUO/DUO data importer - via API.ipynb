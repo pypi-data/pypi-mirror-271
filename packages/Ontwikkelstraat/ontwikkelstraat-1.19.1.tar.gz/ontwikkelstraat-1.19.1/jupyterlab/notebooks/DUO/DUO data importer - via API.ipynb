{
 "cells": [
  {
   "cell_type": "code",
   "execution_count": null,
   "id": "799ea1f1",
   "metadata": {},
   "outputs": [],
   "source": [
    "import contextlib\n",
    "\n",
    "print('working')\n",
    "import pydal.objects\n",
    "# %run ~/work/__init__edwh__new.ipynb\n",
    "#!pip install pydal httpx[http2] trio\n",
    "from pydal import DAL\n",
    "import os, pathlib, httpx, trio\n",
    "if workdir := pathlib.Path('/home/jovyan/work').exists():\n",
    "    workdir.chdir()\n",
    "elif pathlib.Path('.jupyterlab/notebooks/DUO').exists():\n",
    "    os.chdir('.jupyterlab/notebooks')\n",
    "elif pathlib.Path('.').absolute().name == 'DUO':\n",
    "    os.chdir('..')\n",
    "elif pathlib.Path('.').absolute().name == 'notebooks':\n",
    "    pass\n",
    "else:\n",
    "    raise ValueError(os.getcwd())\n",
    "print(os.getcwd())"
   ]
  },
  {
   "cell_type": "code",
   "execution_count": null,
   "id": "c8ac95a8",
   "metadata": {
    "collapsed": false,
    "jupyter": {
     "outputs_hidden": false
    }
   },
   "outputs": [],
   "source": []
  },
  {
   "cell_type": "markdown",
   "id": "34db6e28",
   "metadata": {},
   "source": [
    "[Datamodel](https://www.edustandaard.nl/app/uploads/2022/11/Canoniek-model-RIO-Generiek-20221121.pdf)\n",
    "\n",
    "Bronnen:\n",
    "https://onderwijsdata.duo.nl/datasets/rio_nfo_po_vo_vavo_mbo_ho\n",
    "\n",
    " * [Onderwijslocatiegebruiken](https://onderwijsdata.duo.nl/datasets/rio_nfo_po_vo_vavo_mbo_ho/resources/a86ef529-66dd-4fee-94f2-a947d4fc4617)\n",
    "   `https://onderwijsdata.duo.nl/api/3/action/datastore_search?resource_id=a86ef529-66dd-4fee-94f2-a947d4fc4617&limit=5`\n",
    "   > Op deze pagina vindt u de bestanden met betrekking tot de registratie instellingen en opleidingen (nfo, po, vo, vavo, mbo en ho). Deze bestanden kunt u handmatig downloaden of via de API (Application Programming Interface) te raadplegen. Voor vragen of uitgebreidere documentatie, waaronder het overkoepelend relatiemodel, kunt u contact opnemen met gegevensmagazijn@duo.nl.\n",
    " * [informatiemodel en begrippen](https://www.rio-onderwijs.nl/informatiemodel-en-begrippen)\n",
    "\n",
    "\n",
    "Betere alternatieven:\n",
    "https://datascience.stackexchange.com/questions/63101/collaborating-on-jupyter-notebooks"
   ]
  },
  {
   "cell_type": "code",
   "execution_count": null,
   "id": "24cbd19c",
   "metadata": {
    "is_executing": true
   },
   "outputs": [],
   "source": [
    "# duodb.mbo_relaties_opleidingseenheden_erkenningen.truncate()\n",
    "import ipywidgets as widgets\n",
    "import contextlib\n",
    "output = widgets.Output()\n",
    "display(output)\n",
    "\n",
    "table_progress = widgets.IntProgress()\n",
    "concurrent_requests = widgets.IntProgress(max=15)\n",
    "table_progress.value = 0\n",
    "\n",
    "with output:\n",
    "    display(table_progress, concurrent_requests)\n",
    "\n",
    "fieldmap  = dict(int='integer', timestamp='datetime', numeric='float',int4='integer')\n",
    "import slugify\n",
    "from functools import partial\n",
    "fieldname = partial(slugify.slugify, separator='_')\n",
    "\n",
    "def define_table(db, name, js):\n",
    "    fields = [pydal.Field(fieldname(f['id']), fieldmap.get(f['type'], f['type'])) for f in js['result']['fields'] if f['id']!='_id']\n",
    "    with contextlib.suppress(SyntaxError):\n",
    "        return db.define_table(name, *fields)\n",
    "    return db[name]\n",
    "\n",
    "async def get(url, client, output):\n",
    "    for retry in range(15):\n",
    "        try:\n",
    "            # print('requesting', url)\n",
    "            concurrent_requests.value += 1\n",
    "            js =  (await client.get(url, timeout=5)).json()\n",
    "            # print('received', url)\n",
    "            with output:\n",
    "                print('+', len(js['result']['records']))\n",
    "            return js\n",
    "        except (httpx.HTTPError, httpx.RemoteProtocolError) as e:\n",
    "            with output:\n",
    "                print('retry',retry,':', url )\n",
    "        finally:\n",
    "            concurrent_requests.value -= 1\n",
    "    return {}\n",
    "\n",
    "\n",
    "async def load_table(table:pydal.objects.Table, lock:trio.Lock,  client:httpx.Client, url, total, max_retries=5):\n",
    "    table_progress.value += 1\n",
    "    table_output = widgets.Output()\n",
    "    pbar = widgets.IntProgress(max=total)\n",
    "    display(pbar, table_output)\n",
    "    with table_output:\n",
    "        display(pbar, f'Loading {table._tablename} from  {url}')\n",
    "    check_for_trunk = True # flag to check only after the first request\n",
    "    while True:\n",
    "        js = await get(url, client, table_output)\n",
    "        if check_for_trunk:\n",
    "            async with lock:\n",
    "                actual_rows_in_table = table._db(table).count()\n",
    "                with table_output:\n",
    "                    print(f'expecting {total} rows in table, actual: {actual_rows_in_table}')\n",
    "                    if total != actual_rows_in_table:\n",
    "                        print('Truncating table', table._tablename, 'because', actual_rows_in_table, '!=', total)\n",
    "                        table.truncate()\n",
    "\n",
    "            check_for_trunk = False\n",
    "        if (nr_of_records := len(js['result']['records'])) == 0:\n",
    "            break\n",
    "        # assert len(js['result']['records']) == js['result']['total'], \"Niet alle data is in de resultset beschikbaar\"\n",
    "        # with table_output:\n",
    "        #     print('inserting', nr_of_records, 'records into', table._tablename)\n",
    "        async with lock:\n",
    "            for record in js['result']['records']:\n",
    "                rec = {fieldname(k):v for k,v in record.items() if k != '_id'}\n",
    "                for f in js['result']['fields']:\n",
    "                    if f['type'] == 'timestamp':\n",
    "                        lower_id = fieldname(f['id'])\n",
    "                        rec[lower_id] = rec[lower_id].replace('T',' ') if rec[lower_id] else None\n",
    "                    table.insert(**rec)\n",
    "            pbar.value += nr_of_records\n",
    "#            duodb.commit()\n",
    "        url = 'https://onderwijsdata.duo.nl' + js['result']['_links']['next']\n",
    "    table_output.clear_output()\n",
    "    with table_output:\n",
    "        print(f'Done with {table._tablename} excepted', total, 'records, inserted', pbar.value, 'records, for a total of ', table._db(table).count(), 'records')\n",
    "    pbar.close()\n",
    "    #pbar.close()\n",
    "    table_progress.value += 1\n",
    "\n",
    "\n",
    "#resource_map = dict(\n",
    "#    onderwijslocatiegebruiken = 'a86ef529-66dd-4fee-94f2-a947d4fc4617',\n",
    "#    onderwijslocaties = 'a7e3f323-6e46-4dca-a834-369d9d520aa8',\n",
    "#)\n",
    "api = httpx.get('https://onderwijsdata.duo.nl/api/3/action/package_show?id=rio_nfo_po_vo_vavo_mbo_ho').json()\n",
    "from pprint import pp\n",
    "resource_map = {resource['name']:resource['id'] for resource in  api['result']['resources']}\n",
    "resource_map = {k:v for k,v in resource_map.items() if not k.endswith('cohorten')}\n",
    "# resource_map = {resource['name']:resource['id'] for resource in  api['result']['resources'] if resource['name'].startswith(('aangeboden','onderwijslocatie','onderwijsbesturen','onderwijsaanbieders')) and not resource['name'].endswith('cohorten') }\n",
    "if 'duodb' not in locals():\n",
    "    duodb = pydal.DAL('sqlite://duo-data.sqlite3', folder='./DUO')\n",
    "resource_map |= {\n",
    "    'leerlingen_po_per_vestiging':'9278ae97-4014-49f4-91fc-8cc255c2595d',\n",
    "    'leerlingen_vo_per_vestiging':'d49219cc-2f36-4c2d-8007-b385ba44ec8d'\n",
    "}\n",
    "\n",
    "\n",
    "async def main():\n",
    "    concurrent_table_limiter = trio.CapacityLimiter(concurrent_requests.max)\n",
    "    duodb_lock = trio.Lock()\n",
    "    table_progress.max = len(resource_map) * 2 # 1 for starting the table, 1 for finishing the table\n",
    "    async with httpx.AsyncClient(timeout=5, http2=True, limits=httpx.Limits(max_connections=concurrent_requests.max, max_keepalive_connections=concurrent_requests.max)) as client, trio.open_nursery() as nursery:\n",
    "        for idx, (naam, gid) in enumerate(resource_map.items()):\n",
    "            # print(idx,'/',len(resource_map),':',naam,':', gid)\n",
    "            js = await get(f'https://onderwijsdata.duo.nl/api/3/action/datastore_search?resource_id={gid}&limit=1', client, output)\n",
    "            if 'result' not in js:\n",
    "                pp(js)\n",
    "                continue\n",
    "            table = define_table(duodb, naam, js)\n",
    "            async with concurrent_table_limiter:\n",
    "                nursery.start_soon(\n",
    "                    load_table, table, duodb_lock, client, f'https://onderwijsdata.duo.nl/api/3/action/datastore_search?resource_id={gid}&limit=500', int(js['result']['total'])\n",
    "                )\n",
    "trio.run(main)"
   ]
  },
  {
   "cell_type": "code",
   "execution_count": null,
   "id": "84ec5d5e",
   "metadata": {
    "is_executing": true
   },
   "outputs": [],
   "source": [
    "mem(mem.onderwijslocatiegebruiken).select(limitby=(0,10)).as_dict()\n"
   ]
  },
  {
   "cell_type": "code",
   "execution_count": null,
   "id": "ae82b276",
   "metadata": {
    "is_executing": true
   },
   "outputs": [],
   "source": [
    "\n",
    "gid = 'd49219cc-2f36-4c2d-8007-b385ba44ec8d'\n",
    "js = httpx.get(f'https://onderwijsdata.duo.nl/api/3/action/datastore_search?resource_id={gid}&limit=10').json()"
   ]
  },
  {
   "cell_type": "code",
   "execution_count": null,
   "id": "73fbf0f2",
   "metadata": {
    "is_executing": true
   },
   "outputs": [],
   "source": [
    "# duodb.leerlingen_vo_per_vestiging.truncate()"
   ]
  },
  {
   "cell_type": "code",
   "execution_count": null,
   "id": "e23cee0f",
   "metadata": {
    "is_executing": true
   },
   "outputs": [],
   "source": [
    "duodb.commit()"
   ]
  },
  {
   "cell_type": "code",
   "execution_count": null,
   "id": "d06c0061",
   "metadata": {
    "is_executing": true
   },
   "outputs": [],
   "source": []
  }
 ],
 "metadata": {
  "kernelspec": {
   "display_name": "Python 3 (ipykernel)",
   "language": "python",
   "name": "python3"
  },
  "language_info": {
   "codemirror_mode": {
    "name": "ipython",
    "version": 3
   },
   "file_extension": ".py",
   "mimetype": "text/x-python",
   "name": "python",
   "nbconvert_exporter": "python",
   "pygments_lexer": "ipython3",
   "version": "3.10.11"
  }
 },
 "nbformat": 4,
 "nbformat_minor": 5
}
