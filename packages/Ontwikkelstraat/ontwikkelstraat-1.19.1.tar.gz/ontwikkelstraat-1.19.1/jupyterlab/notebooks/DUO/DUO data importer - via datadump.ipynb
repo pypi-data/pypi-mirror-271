{
 "cells": [
  {
   "cell_type": "code",
   "execution_count": null,
   "id": "c018eba1-e063-4558-aeab-2255632d25f4",
   "metadata": {
    "tags": []
   },
   "outputs": [],
   "source": [
    "import contextlib\n",
    "import json\n",
    "\n",
    "print('working')\n",
    "import pydal.objects\n",
    "\n",
    "try:\n",
    "    import typedict\n",
    "except ImportError:\n",
    "    !pip install typedict\n",
    "%run ~/work/__init__edwh__new.ipynb\n",
    "!pip install pydal httpx[http2] trio ipywidgets chardet\n",
    "from pydal import DAL, Field\n",
    "import os, pathlib, httpx, trio\n",
    "import typedict as typedict\n",
    "\n",
    "if (workdir := pathlib.Path('/home/jovyan/work')).exists():\n",
    "    os.chdir(workdir)\n",
    "elif pathlib.Path('.jupyterlab/notebooks/DUO').exists():\n",
    "    os.chdir('.jupyterlab/notebooks')\n",
    "elif pathlib.Path('.').absolute().name == 'DUO':\n",
    "    os.chdir('..')\n",
    "elif pathlib.Path('.').absolute().name == 'notebooks':\n",
    "    pass\n",
    "else:\n",
    "    raise ValueError(os.getcwd())\n",
    "print(os.getcwd())"
   ]
  },
  {
   "cell_type": "code",
   "execution_count": null,
   "id": "56fb57b7-35f7-4cad-92ba-4583f578e04b",
   "metadata": {
    "tags": []
   },
   "outputs": [],
   "source": [
    "if 'duodb' not in locals():\n",
    "    duodb = pydal.DAL('sqlite://duo-data.sqlite3', folder='./DUO/db')\n",
    "import slugify\n",
    "from functools import partial\n",
    "\n",
    "def fieldname(name):\n",
    "    if name.isdigit():\n",
    "        name = 'jaar_'+name\n",
    "    return slugify.slugify(name, separator='_',replacements=[['-','_']])\n"
   ]
  },
  {
   "cell_type": "markdown",
   "id": "34db6e28",
   "metadata": {},
   "source": [
    "[Datamodel](https://www.edustandaard.nl/app/uploads/2022/11/Canoniek-model-RIO-Generiek-20221121.pdf)\n",
    "\n",
    "Bronnen:\n",
    "https://onderwijsdata.duo.nl/datasets/rio_nfo_po_vo_vavo_mbo_ho\n",
    "\n",
    " * [Onderwijslocatiegebruiken](https://onderwijsdata.duo.nl/datasets/rio_nfo_po_vo_vavo_mbo_ho/resources/a86ef529-66dd-4fee-94f2-a947d4fc4617)\n",
    "   `https://onderwijsdata.duo.nl/api/3/action/datastore_search?resource_id=a86ef529-66dd-4fee-94f2-a947d4fc4617&limit=5`\n",
    "   > Op deze pagina vindt u de bestanden met betrekking tot de registratie instellingen en opleidingen (nfo, po, vo, vavo, mbo en ho). Deze bestanden kunt u handmatig downloaden of via de API (Application Programming Interface) te raadplegen. Voor vragen of uitgebreidere documentatie, waaronder het overkoepelend relatiemodel, kunt u contact opnemen met gegevensmagazijn@duo.nl.\n",
    " * [informatiemodel en begrippen](https://www.rio-onderwijs.nl/informatiemodel-en-begrippen)\n",
    "\n",
    "\n",
    "Betere alternatieven:\n",
    "https://datascience.stackexchange.com/questions/63101/collaborating-on-jupyter-notebooks"
   ]
  },
  {
   "cell_type": "code",
   "execution_count": null,
   "id": "bb3e1229",
   "metadata": {
    "collapsed": false,
    "jupyter": {
     "outputs_hidden": false
    }
   },
   "outputs": [],
   "source": [
    "# duodb.mbo_relaties_opleidingseenheden_erkenningen.truncate()\n",
    "import ipywidgets as widgets\n",
    "import contextlib\n",
    "import json\n",
    "import chardet\n",
    "\n",
    "def autodetect(content):\n",
    "    return chardet.detect(content).get(\"encoding\")\n",
    "\n",
    "output = widgets.Output()\n",
    "display(output)\n",
    "\n",
    "\n",
    "class Field(typedict.TypeDict):\n",
    "    id: str\n",
    "    type: str\n",
    "\n",
    "\n",
    "layout = widgets.Layout(width='500px', height='40px')  #set width and height\n",
    "table_progress = widgets.IntProgress(description='Tables:')\n",
    "concurrent_requests = widgets.IntProgress(max=15, description='Reqs:')\n",
    "table_progress.value = 0\n",
    "\n",
    "HTTPX_LIMITS = httpx.Limits(max_connections=concurrent_requests.max, max_keepalive_connections=concurrent_requests.max)\n",
    "RETRIES = 15\n",
    "TIMEOUT = 90\n",
    "RECORD_BATCH_SIZE = 100\n",
    "\n",
    "with output:\n",
    "    display(table_progress, concurrent_requests)\n",
    "\n",
    "fieldmap = dict(int='integer', timestamp='datetime', numeric='float', int4='integer')\n",
    "\n",
    "\n",
    "api = httpx.get('https://onderwijsdata.duo.nl/api/3/action/package_show?id=rio_nfo_po_vo_vavo_mbo_ho').json()\n",
    "\n",
    "resource_map = {resource['name']: resource['id'] for resource in api['result']['resources']}\n",
    "# resource_map = {k: v for k, v in resource_map.items() if (not k.endswith('cohorten'))} # and 'nfo' not in k\n",
    "resource_map = {k: v for k, v in resource_map.items() if\n",
    "                k.startswith('aangeboden') and k.endswith('opleidingen') or k in [\n",
    "                    'onderwijsbesturen', 'onderwijslocatiegebruiken',\n",
    "                    'onderwijslocaties',\n",
    "                    'onderwijsaanbieders',\n",
    "                    'relaties_onderwijsbesturen_onderwijsaanbieders',\n",
    "                    'relaties_onderwijslocatiegebruiken_vestigingserkenningen',\n",
    "                ]}  # and 'nfo' not in k\n",
    "\n",
    "\n",
    "resource_map |= {\n",
    "    'leerlingen_po_per_vestiging': '9278ae97-4014-49f4-91fc-8cc255c2595d',\n",
    "    'leerlingen_vo_per_vestiging': 'd49219cc-2f36-4c2d-8007-b385ba44ec8d'\n",
    "}\n",
    "\n",
    "\n",
    "def define_table(db, table_name, fields: list[Field]):\n",
    "    dal_fields = []\n",
    "    for idx, field in enumerate(fields):\n",
    "        name = 'duo_id' if (name := field['id']) == '_id' else name\n",
    "        fields[idx]['id'] = name  # update the name accordingly\n",
    "        dal_fields.append(pydal.Field(fieldname(name), fieldmap.get(field['type'], field['type'])))\n",
    "\n",
    "    with contextlib.suppress(SyntaxError):\n",
    "        # supress table already exists on retry\n",
    "        return db.define_table(table_name, *dal_fields)\n",
    "\n",
    "    return db[name]\n",
    "\n",
    "\n",
    "async def get(url, client, output):\n",
    "    for retry in range(RETRIES):\n",
    "        try:\n",
    "            # print('requesting', url)\n",
    "            concurrent_requests.value += 1\n",
    "            response = await client.get(url, timeout=TIMEOUT)\n",
    "            # print('received', url)\n",
    "            # print('Charset:', response.encoding)\n",
    "            # print('Content-Type:', response.headers['Content-Type'])\n",
    "            # for line in response.text.splitlines():\n",
    "            #     if 'Australi' in line:\n",
    "            #         print(line)\n",
    "            #         break\n",
    "            js = response.json()\n",
    "            # print('received', url)\n",
    "            # with output:\n",
    "            #     print('+', len(js['result']['records']))\n",
    "            return js\n",
    "        except (httpx.HTTPError, httpx.RemoteProtocolError) as e:\n",
    "            with output:\n",
    "                print('retry', retry, ':', url, 'cause:', e)\n",
    "        finally:\n",
    "            concurrent_requests.value -= 1\n",
    "    raise RuntimeError(f'Failed to get {url} after {RETRIES}')\n",
    "\n",
    "\n",
    "async def load_data(db: DAL, table: pydal.objects.Table, lock: trio.Lock, pbar, fields: list[Field],\n",
    "                    rows: list[list[any]]):\n",
    "    field_names = [fieldname(f['id']) for f in fields]\n",
    "    timestamps_field_indexes = [i for i, f in enumerate(fields) if f['type'] == 'timestamp']\n",
    "\n",
    "    async with lock:\n",
    "        table.truncate()\n",
    "\n",
    "    bulk = []\n",
    "    for row_idx, row in enumerate(rows):\n",
    "        for ts_index in timestamps_field_indexes:\n",
    "            row[ts_index] = value.replace('T', ' ') if (value := row[ts_index]) else None\n",
    "        # if 'Australi' in str(row):\n",
    "        #     print(row)\n",
    "        bulk.append(dict(zip(field_names, row)))\n",
    "        if row_idx % RECORD_BATCH_SIZE == 0:\n",
    "            pbar.value = row_idx\n",
    "            async with lock:\n",
    "                table.bulk_insert(bulk)\n",
    "                bulk = []\n",
    "                db.commit()\n",
    "    if bulk:\n",
    "        async with lock:\n",
    "            table.bulk_insert(bulk)\n",
    "    pbar.value = row_idx + 1\n",
    "\n",
    "\n",
    "async def process_table(db: DAL, table_name: str, gid: str, lock: trio.Lock, client: httpx.Client):\n",
    "    table_progress.value += 1\n",
    "\n",
    "    pbar = widgets.IntProgress(layout=layout, description=table_name, tooltip=table_name)\n",
    "    display(pbar)\n",
    "\n",
    "    try:\n",
    "        js = await get(f'https://onderwijsdata.duo.nl/api/3/action/datastore_search?resource_id={gid}&limit=1', client,\n",
    "                       output)\n",
    "        pbar.max = estimated = js['result']['total']\n",
    "        fields = js['result']['fields']\n",
    "    except (json.JSONDecodeError, KeyError):\n",
    "        pbar.tooltip = f'❌ {table_name}'\n",
    "        pbar.description = f'❌ {table_name}'\n",
    "        pbar.bar_style='danger'\n",
    "        print('failed to get', table_name)\n",
    "        return\n",
    "\n",
    "    table = define_table(db, table_name, fields)\n",
    "    async with lock:\n",
    "        table_length_mismatch = estimated != db(table).count()\n",
    "    if table_length_mismatch:\n",
    "        pbar.bar_style = 'success'\n",
    "        try:\n",
    "            js = await get(f'https://onderwijsdata.duo.nl/datastore/dump/{gid}?format=json', client, output)\n",
    "        except json.JSONDecodeError:\n",
    "            return\n",
    "        records = js['records']\n",
    "        pbar.tooltip = f'{len(records)}:{table_name}'\n",
    "        await load_data(db, table, lock, pbar, fields, records)\n",
    "    else:\n",
    "        pbar.bar_style = 'success'\n",
    "        pbar.tooltip = f'🥫{estimated}:{table_name}'\n",
    "        pbar.description = '🥫' + pbar.description\n",
    "    table_progress.value += 1\n",
    "\n",
    "\n",
    "async def main():\n",
    "    duodb_lock = trio.Lock()\n",
    "    table_progress.max = len(resource_map) * 2  # 1 for starting the table, 1 for finishing the table\n",
    "    table_progress.description += f':{table_progress.max / 2}'\n",
    "    async with httpx.AsyncClient(timeout=TIMEOUT, http2=True, limits=HTTPX_LIMITS,\n",
    "                                 default_encoding=autodetect) as client, trio.open_nursery() as nursery:\n",
    "        for idx, (name, gid) in enumerate(resource_map.items()):\n",
    "            print('starting', name, gid, idx, '/', len(resource_map))\n",
    "            nursery.start_soon(\n",
    "                process_table, duodb, name, gid, duodb_lock, client\n",
    "            )\n",
    "\n",
    "\n",
    "trio.run(main)\n",
    "duodb.commit()\n",
    "print('done')"
   ]
  },
  {
   "cell_type": "code",
   "execution_count": null,
   "id": "d06c0061",
   "metadata": {
    "tags": []
   },
   "outputs": [],
   "source": []
  },
  {
   "cell_type": "markdown",
   "id": "a0914cca-3446-458d-9e24-1b5b49090a5c",
   "metadata": {
    "jupyter": {
     "outputs_hidden": false
    },
    "user_expressions": []
   },
   "source": [
    "## Leerlingaantallen \n",
    "Dit gebeurd voor elke sector apart, en helaas zijn er hoogstens voor het MBO nu cijfers beschikbaar via RIO, voor de anderen moet er nog een koppeling gemaakt worden met elk van de scholen. \n",
    "Al deze bestanden zijn CSV bestanden (;-gescheiden) waardoor ze eenvoudig te parsen zijn. \n",
    "\n",
    "### PO\n",
    "via https://duo.nl/open_onderwijsdata/primair-onderwijs/aantal-leerlingen/historisch-overzicht-leerlingen-schoolvestiging.jsp : \n",
    " * https://duo.nl/open_onderwijsdata/images/06.-historisch-overzicht-aantal-leerlingen-per-schoolvestiging.csv\n",
    "   - gebruikt instellingscode (brin) en nummer vestigings, wat samen de brincode per vestiging is. Dit is per jaar, zodat we eventueel grafiekjes kunnen maken. \n",
    "   - bij aantallen kan ook tekst voorkomen als \"<5\" \n",
    "   - bevat ook een denominatie per vestiging "
   ]
  },
  {
   "cell_type": "code",
   "execution_count": null,
   "id": "6be38624-4482-4e9c-818c-d4936329c785",
   "metadata": {
    "collapsed": false,
    "jupyter": {
     "outputs_hidden": false
    },
    "user_expressions": []
   },
   "outputs": [],
   "source": [
    "import httpx, csv "
   ]
  },
  {
   "cell_type": "code",
   "execution_count": null,
   "id": "5a3c4ae7-a4b6-4267-84dc-d27d992eca86",
   "metadata": {
    "collapsed": false,
    "jupyter": {
     "outputs_hidden": false
    },
    "user_expressions": []
   },
   "outputs": [],
   "source": [
    "def save_table(db, tablename, url):\n",
    "    print('downloading',tablename, url)\n",
    "    resp = httpx.get(url, follow_redirects=True)\n",
    "    lines = list(resp.iter_lines())    \n",
    "    print('downloaded',len(lines),'lines of csv file')\n",
    "    ten_percent = len(lines)//10\n",
    "    reader = csv.DictReader(lines, delimiter=';')\n",
    "    for lineno, line in enumerate(reader):\n",
    "        fieldname_map = {fn:fieldname(fn) for fn in reader.fieldnames}\n",
    "        if tablename not in db:\n",
    "            print(fieldname_map)\n",
    "            print(pydal.Field)\n",
    "            print(pydal.Field('brinnummer'))\n",
    "            db.define_table(tablename, *[pydal.Field(fn) for fn in fieldname_map.values()])\n",
    "            db[tablename].truncate()\n",
    "        record = {fieldname_map[key]:value for key,value in line.items()}\n",
    "        db[tablename].insert(**record)\n",
    "        if lineno % ten_percent == 0: \n",
    "            print(lineno, round(100*lineno/len(lines)),'%')\n",
    "    print('100%')\n",
    "    db.commit()\n",
    "save_table(duodb, 'po_aantallen_bron', 'https://duo.nl/open_onderwijsdata/images/06.-historisch-overzicht-aantal-leerlingen-per-schoolvestiging.csv')"
   ]
  },
  {
   "cell_type": "code",
   "execution_count": null,
   "id": "cf2e1c99-ccce-494e-98fe-e83f794bc8f2",
   "metadata": {
    "tags": []
   },
   "outputs": [],
   "source": [
    "duodb.executesql('''drop view if exists po_aantallen;''')\n",
    "duodb.executesql('''\n",
    "create view po_aantallen as\n",
    "select brinnummer||po_aantallen_bron.vestigingsnummer as vestigingsnummer,\n",
    "       round(sum(case when leerlingen_2022 = '<5' then 2.5 else cast(leerlingen_2022 as integer) end)) as aantal_2022,\n",
    "       round(sum(case when leerlingen_2021 = '<5' then 2.5 else cast(leerlingen_2021 as integer) end)) as aantal_2021,\n",
    "       round(sum(case when leerlingen_2020 = '<5' then 2.5 else cast(leerlingen_2020 as integer) end)) as aantal_2020,\n",
    "       round(sum(case when leerlingen_2019 = '<5' then 2.5 else cast(leerlingen_2019 as integer) end)) as aantal_2019\n",
    "       from po_aantallen_bron\n",
    "    group by brinnummer, vestigingsnummer\n",
    "''')\n",
    "duodb.executesql('''drop table if exists po_aantallen_materialized;''')\n",
    "duodb.executesql('''create table po_aantallen_materialized as select * from po_aantallen;''')\n"
   ]
  },
  {
   "cell_type": "markdown",
   "id": "3ad01b01-81ca-43eb-96e8-9b03866d5655",
   "metadata": {
    "jupyter": {
     "outputs_hidden": false
    },
    "user_expressions": []
   },
   "source": [
    "### VO \n",
    "via https://duo.nl/open_onderwijsdata/voortgezet-onderwijs/aantal-leerlingen/aantal-leerlingen.jsp: \n",
    " * https://duo.nl/open_onderwijsdata/images/03.-leerlingen-vo-per-vestiging-en-bestuur-(vavo-apart)-2022.csv\n",
    "   - gebruikt \"vestigingsnummer\", ofwel de brin-locatie\n",
    "   "
   ]
  },
  {
   "cell_type": "code",
   "execution_count": null,
   "id": "6b844bde-29cf-49a7-ae9f-7bfeabcfa018",
   "metadata": {
    "collapsed": false,
    "jupyter": {
     "outputs_hidden": false
    },
    "user_expressions": []
   },
   "outputs": [],
   "source": [
    "save_table(duodb, 'vo_aantallen_bron', 'https://duo.nl/open_onderwijsdata/images/03.-leerlingen-vo-per-vestiging-en-bestuur-(vavo-apart)-2022.csv')"
   ]
  },
  {
   "cell_type": "code",
   "execution_count": null,
   "id": "6b2639fd-3ace-45ce-9751-eb6d64f8229b",
   "metadata": {
    "tags": []
   },
   "outputs": [],
   "source": [
    "duodb.executesql('''drop view if exists vo_aantallen;''')\n",
    "duodb.executesql('''\n",
    "create view vo_aantallen as\n",
    "select vestigingsnummer, totaal_aantal_leerlingen as aantal from vo_aantallen_bron\n",
    "''')\n",
    "duodb.executesql('''drop table if exists vo_aantallen_materialized;''')\n",
    "duodb.executesql('''create table vo_aantallen_materialized as select * from vo_aantallen;''')\n"
   ]
  },
  {
   "cell_type": "markdown",
   "id": "eb006d55-2ad3-43c7-b02b-e77ba9318222",
   "metadata": {
    "jupyter": {
     "outputs_hidden": false
    },
    "user_expressions": []
   },
   "source": [
    "### MBO\n",
    "Via https://duo.nl/open_onderwijsdata/middelbaar-beroepsonderwijs/aantal-studenten/studenten-mbo-rio.jsp: \n",
    " * https://duo.nl/open_onderwijsdata/images/onderwijslocaties-mbo-met-inschrijvingen-en-geografische-gegevens-per-1-oktober-2022.csv \n",
    "   - gebruikt o.a. de kolom `onderwijslocatie`, wat komt uit de RIO, dus daar is makkelijk op te koppelen "
   ]
  },
  {
   "cell_type": "code",
   "execution_count": null,
   "id": "21fe49c2-f2d0-41b2-bc31-6a9c3344a28d",
   "metadata": {
    "collapsed": false,
    "jupyter": {
     "outputs_hidden": false
    },
    "user_expressions": []
   },
   "outputs": [],
   "source": [
    "save_table(duodb, 'mbo_aantallen_bron', 'https://duo.nl/open_onderwijsdata/images/onderwijslocaties-mbo-met-inschrijvingen-en-geografische-gegevens-per-1-oktober-2022.csv')"
   ]
  },
  {
   "cell_type": "code",
   "execution_count": null,
   "id": "5a7c52c5-644e-4099-8561-4bdc9ee077e8",
   "metadata": {
    "tags": []
   },
   "outputs": [],
   "source": [
    "duodb.executesql('''drop view if exists mbo_aantallen;''')\n",
    "duodb.executesql('''\n",
    "create view mbo_aantallen as\n",
    "select onderwijslocatie, aantal_hoofdinschrijvingen as aantal from mbo_aantallen_bron\n",
    "''')\n",
    "duodb.executesql('''drop table if exists mbo_aantallen_materialized;''')\n",
    "duodb.executesql('''create table mbo_aantallen_materialized as select * from mbo_aantallen;''')\n"
   ]
  },
  {
   "cell_type": "markdown",
   "id": "e123eb53-3967-4b99-b0ba-d8cc6b3e3f37",
   "metadata": {
    "jupyter": {
     "outputs_hidden": false
    },
    "user_expressions": []
   },
   "source": [
    "### HO\n",
    "Via https://duo.nl/open_onderwijsdata/hoger-onderwijs/aantal-studenten/studenten-hbo.jsp: \n",
    " * https://duo.nl/open_onderwijsdata/images/01a.-ingeschrevenen-hbo-2022.csv \n",
    " "
   ]
  },
  {
   "cell_type": "code",
   "execution_count": null,
   "id": "279e7812-e7d4-4041-ac91-5208e7759487",
   "metadata": {
    "collapsed": false,
    "jupyter": {
     "outputs_hidden": false
    },
    "user_expressions": []
   },
   "outputs": [],
   "source": [
    "save_table(duodb, 'ho_aantallen_bron', 'https://duo.nl/open_onderwijsdata/images/01a.-ingeschrevenen-hbo-2022.csv')"
   ]
  },
  {
   "cell_type": "code",
   "execution_count": null,
   "id": "66b0c60a-5ee6-481c-9176-87321b6694c1",
   "metadata": {
    "tags": []
   },
   "outputs": [],
   "source": [
    "duodb.executesql('''drop view if exists ho_aantallen;''')\n",
    "duodb.executesql('''\n",
    "create view ho_aantallen as\n",
    "select brin_nummer_actueel as brin,\n",
    "       round(sum(case when jaar_2022 = '<5' then 2.5 else cast(jaar_2022 as integer) end)) as aantal_2022,\n",
    "       round(sum(case when jaar_2021 = '<5' then 2.5 else cast(jaar_2021 as integer) end)) as aantal_2021,\n",
    "       round(sum(case when jaar_2020 = '<5' then 2.5 else cast(jaar_2020 as integer) end)) as aantal_2020,\n",
    "       round(sum(case when jaar_2019 = '<5' then 2.5 else cast(jaar_2019 as integer) end)) as aantal_2019\n",
    "  from ho_aantallen_bron\n",
    " group by brin_nummer_actueel\n",
    "''')\n",
    "duodb.executesql('''drop table if exists ho_aantallen_materialized;''')\n",
    "duodb.executesql('''create table ho_aantallen_materialized as select * from ho_aantallen;''')\n"
   ]
  },
  {
   "cell_type": "markdown",
   "id": "5f507803-d0ca-4031-852a-01395ce40cb5",
   "metadata": {
    "jupyter": {
     "outputs_hidden": false
    },
    "user_expressions": []
   },
   "source": [
    "### WO \n",
    "via https://duo.nl/open_onderwijsdata/hoger-onderwijs/aantal-studenten/studenten-wo.jsp: \n",
    "  * https://duo.nl/open_onderwijsdata/images/04.-inschrijvingen-wo-2022.csv \n",
    "    - ook hier alleen  BRIN nummers, eventueel zou een koppeling op studienummer wellicht mogelijk zijn, maar dat is voor ons niet zo boeiend, want WO doen we nu toch amper wat mee. "
   ]
  },
  {
   "cell_type": "code",
   "execution_count": null,
   "id": "1db6d072-4ef7-4650-aa23-ba8488df89ce",
   "metadata": {
    "collapsed": false,
    "jupyter": {
     "outputs_hidden": false
    },
    "user_expressions": []
   },
   "outputs": [],
   "source": [
    "save_table(duodb, 'wo_aantallen_bron', 'https://duo.nl/open_onderwijsdata/images/04.-inschrijvingen-wo-2022.csv')"
   ]
  },
  {
   "cell_type": "code",
   "execution_count": null,
   "id": "84bb2d34-5d09-46e1-ab8d-b1ef35017406",
   "metadata": {
    "tags": []
   },
   "outputs": [],
   "source": [
    "duodb.executesql('''drop view if exists wo_aantallen;''')\n",
    "duodb.executesql('''\n",
    "create view wo_aantallen as\n",
    "select brin_nummer_actueel as brin,\n",
    "       round(sum(case when jaar_2022 = '<5' then 2.5 else cast(jaar_2022 as integer) end)) as aantal_2022,\n",
    "       round(sum(case when jaar_2021 = '<5' then 2.5 else cast(jaar_2021 as integer) end)) as aantal_2021,\n",
    "       round(sum(case when jaar_2020 = '<5' then 2.5 else cast(jaar_2020 as integer) end)) as aantal_2020,\n",
    "       round(sum(case when jaar_2019 = '<5' then 2.5 else cast(jaar_2019 as integer) end)) as aantal_2019\n",
    "  from wo_aantallen_bron\n",
    " group by brin_nummer_actueel\n",
    "\n",
    "''')\n",
    "duodb.executesql('''drop table if exists wo_aantallen_materialized;''')\n",
    "duodb.executesql('''create table wo_aantallen_materialized as select * from wo_aantallen;''')\n"
   ]
  },
  {
   "cell_type": "code",
   "execution_count": null,
   "id": "d3ddd4a4",
   "metadata": {
    "collapsed": false,
    "jupyter": {
     "outputs_hidden": false
    },
    "tags": []
   },
   "outputs": [],
   "source": [
    "for statement in [_.strip() for _ in '''\n",
    "drop view if exists aangeboden_opleiding;\n",
    "create view aangeboden_opleiding as\n",
    "with source_tables as (select onderwijslocatiecode, onderwijsaanbiederid, 'aangeboden_bo_opleidingen' as ao_table\n",
    "                       from aangeboden_bo_opleidingen\n",
    "                       union all\n",
    "                       select onderwijslocatiecode, onderwijsaanbiederid, 'aangeboden_ho_opleidingen' as ao_table\n",
    "                       from aangeboden_ho_opleidingen\n",
    "                       union all\n",
    "                       select onderwijslocatiecode, onderwijsaanbiederid, 'aangeboden_mbo_opleidingen' as ao_table\n",
    "                       from aangeboden_mbo_opleidingen\n",
    "                       union  all\n",
    "                       select onderwijslocatiecode, onderwijsaanbiederid, 'aangeboden_so_opleidingen' as ao_table\n",
    "                       from aangeboden_so_opleidingen\n",
    "                       union all\n",
    "                       select onderwijslocatiecode, onderwijsaanbiederid, 'aangeboden_vavo_opleidingen' as ao_table\n",
    "                       from aangeboden_vavo_opleidingen\n",
    "                       union all\n",
    "                       select onderwijslocatiecode, onderwijsaanbiederid, 'aangeboden_vo_opleidingen' as ao_table\n",
    "                       from aangeboden_vo_opleidingen\n",
    "                       union all\n",
    "                       select onderwijslocatiecode, onderwijsaanbiederid, 'aangeboden_vso_opleidingen' as ao_table\n",
    "                       from aangeboden_vso_opleidingen\n",
    "                       union all\n",
    "                       select onderwijslocatiecode, onderwijsaanbiederid, 'aangeboden_nfo_opleidingen' as ao_table\n",
    "                       from aangeboden_nfo_opleidingen)\n",
    "select onderwijslocatiecode, onderwijsaanbiederid, group_concat(ao_table, ',') as sources\n",
    "from source_tables\n",
    "group by onderwijslocatiecode, onderwijsaanbiederid;\n",
    "drop index if exists olg_idx;\n",
    "create unique index olg_idx on onderwijslocatiegebruiken (onderwijslocatiecode, onderwijsbestuurid, uitbedrijfdatum);\n",
    "drop index if exists oa_idx;\n",
    "create index oa_idx on onderwijsaanbieders (onderwijsaanbiederid, naam, einddatum_periode);\n",
    "drop index if exists ol_idx;\n",
    "create unique index ol_idx on onderwijslocaties (onderwijslocatiecode, gps_latitude, gps_longitude, plaatsnaam, straatnaam, huisnummer, huisnummertoevoeging, postcode);\n",
    "drop index if exists ob_idx;\n",
    "create index ob_idx on onderwijsbesturen (onderwijsbestuurid, naam);\n",
    "drop table if exists aangeboden_opleidingen_materialized;\n",
    "create table aangeboden_opleidingen_materialized as\n",
    "select onderwijsaanbiederid, onderwijslocatiecode, sources\n",
    "from aangeboden_opleiding\n",
    "group by onderwijslocatiecode;\n",
    "drop index if exists ao_idx;\n",
    "create unique index ao_idx on aangeboden_opleidingen_materialized (onderwijslocatiecode, onderwijsaanbiederid, sources);\n",
    "\n",
    "drop index if exists roa_idx;\n",
    "create index roa_idx on relaties_onderwijsbesturen_onderwijsaanbieders (onderwijsaanbiederid, onderwijsbestuurid);\n",
    "drop index if exists rov_idx;\n",
    "create index rov_idx on relaties_onderwijslocatiegebruiken_vestigingserkenningen (onderwijslocatiecode);\n",
    "drop view if exists edwh_onderwijslocaties;\n",
    "create view edwh_onderwijslocaties as \n",
    "select case\n",
    "           when oa.naam is null and olg.uitbedrijfdatum is not null then 'Niet langer gebruikt'\n",
    "           when oa.naam is null and olg.uitbedrijfdatum is null then 'Geen opleiding geregistreerd'\n",
    "           else oa.naam end                                                                                   as naam\n",
    "     , group_concat(ob.naam, '; ')                                                                            as besturen\n",
    "     , ol.straatnaam\n",
    "     , ol.huisnummer\n",
    "     , ol.huisnummertoevoeging\n",
    "     , ol.postcode\n",
    "     , ol.plaatsnaam\n",
    "     , ol.gps_latitude\n",
    "     , ol.gps_longitude\n",
    "     , ol.onderwijslocatiecode\n",
    "     , replace(replace(ao.sources, 'aangeboden_', ''), '_opleidingen', '')                                    as sources\n",
    "     , group_concat(distinct rov.vestigingscode)                                                              as vestiging_brins\n",
    "     , case\n",
    "           when coalesce(olg.uitbedrijfdatum, oa.einddatum_periode, 'Y') = 'Y' then 'Y'\n",
    "           else 'N' end                                                                                       as in_bedrijf\n",
    "     , coalesce(sum(mbo_aantallen.aantal), 0)\n",
    "    + coalesce(sum(po_aantallen.aantal_2022), 0)\n",
    "    + coalesce(sum(vo_aantallen.aantal), 0)\n",
    "    + coalesce(sum(ho_aantallen.aantal_2022), 0)\n",
    "    + coalesce(sum(wo_aantallen.aantal_2022), 0)\n",
    "                                                                                                              as aantal_leerlingen_per_vestiging\n",
    "     , coalesce(sum(mbo_aantallen.aantal), 0)\n",
    "    + coalesce(sum(po_aantallen.aantal_2022), 0)\n",
    "    + coalesce(sum(vo_aantallen.aantal), 0)\n",
    "    + coalesce(sum(ho_aantallen.aantal_2022), 0)\n",
    "    + coalesce(sum(wo_aantallen.aantal_2022), 0)                                                              as aantal_leerlingen_per_organisatie\n",
    "from onderwijslocatiegebruiken olg\n",
    "         left outer join onderwijslocaties ol\n",
    "                         on olg.onderwijslocatiecode = ol.onderwijslocatiecode\n",
    "         left outer join onderwijsbesturen ob\n",
    "                         on olg.onderwijsbestuurid = ob.onderwijsbestuurid and ob.einddatum_periode is null\n",
    "         left outer join aangeboden_opleidingen_materialized ao on ol.onderwijslocatiecode = ao.onderwijslocatiecode\n",
    "         left outer join onderwijsaanbieders oa\n",
    "                         on oa.onderwijsaanbiederid = ao.onderwijsaanbiederid -- and oa.einddatum_periode is null\n",
    "         left outer join relaties_onderwijsbesturen_onderwijsaanbieders roa\n",
    "                         on roa.onderwijsaanbiederid = oa.onderwijsaanbiederid\n",
    "                             and roa.onderwijsbestuurid = ob.onderwijsbestuurid\n",
    "         left outer join relaties_onderwijslocatiegebruiken_vestigingserkenningen rov\n",
    "                         on rov.onderwijslocatiecode = ol.onderwijslocatiecode\n",
    "         left outer join mbo_aantallen_materialized as mbo_aantallen on mbo_aantallen.onderwijslocatie = ol.onderwijslocatiecode\n",
    "         left outer join po_aantallen_materialized as po_aantallen on po_aantallen.vestigingsnummer = rov.vestigingscode\n",
    "         left outer join vo_aantallen_materialized as vo_aantallen on vo_aantallen.vestigingsnummer = rov.vestigingscode\n",
    "         left outer join ho_aantallen_materialized as ho_aantallen on rov.vestigingscode like ho_aantallen.brin || '%'\n",
    "         left outer join wo_aantallen_materialized as wo_aantallen on rov.vestigingscode like wo_aantallen.brin || '%'\n",
    "-- where ol.plaatsnaam = 'Assen' -- ###########################\n",
    "group by oa.naam\n",
    "       , oa.onderwijsaanbiederid\n",
    "       , ol.straatnaam\n",
    "       , ol.huisnummer\n",
    "       , ol.huisnummertoevoeging\n",
    "       , ol.postcode\n",
    "       , ol.plaatsnaam\n",
    "       , ol.gps_latitude\n",
    "       , ol.gps_longitude\n",
    "       , ol.onderwijslocatiecode\n",
    "       , rov.onderwijslocatiecode\n",
    "'''.split(';\\n')]:\n",
    "    print(statement)\n",
    "    print('result:',duodb.executesql(statement))\n",
    "    print()\n",
    "    "
   ]
  },
  {
   "cell_type": "code",
   "execution_count": null,
   "id": "2e010845",
   "metadata": {
    "collapsed": false,
    "jupyter": {
     "outputs_hidden": false
    },
    "tags": []
   },
   "outputs": [],
   "source": [
    "duodb.commit()"
   ]
  },
  {
   "cell_type": "code",
   "execution_count": null,
   "id": "ac51e4da-1139-4698-9c7d-61b8d333fc33",
   "metadata": {
    "tags": []
   },
   "outputs": [],
   "source": [
    "%%sql sqlite:///DUO/db/duo-data.sqlite3\n",
    "select * from edwh_onderwijslocaties limit 10;"
   ]
  },
  {
   "cell_type": "code",
   "execution_count": null,
   "id": "8220718d-a12c-4e6d-93dd-5ce9423b3632",
   "metadata": {
    "tags": []
   },
   "outputs": [],
   "source": [
    "!ls -alh DUO/db/*.sqlite3\n"
   ]
  },
  {
   "cell_type": "code",
   "execution_count": null,
   "id": "21f76fbe-6b80-4806-ba67-b9f0e5360a6e",
   "metadata": {},
   "outputs": [],
   "source": [
    "#originele_import = %sql sqlite:///DUO/all_with_gid.db select * from scholen"
   ]
  },
  {
   "cell_type": "code",
   "execution_count": null,
   "id": "9001ebe2-681f-4d79-a65f-5330877184cd",
   "metadata": {},
   "outputs": [],
   "source": []
  }
 ],
 "metadata": {
  "kernelspec": {
   "display_name": "Python 3 (ipykernel)",
   "language": "python",
   "name": "python3"
  },
  "language_info": {
   "codemirror_mode": {
    "name": "ipython",
    "version": 3
   },
   "file_extension": ".py",
   "mimetype": "text/x-python",
   "name": "python",
   "nbconvert_exporter": "python",
   "pygments_lexer": "ipython3",
   "version": "3.10.11"
  }
 },
 "nbformat": 4,
 "nbformat_minor": 5
}
