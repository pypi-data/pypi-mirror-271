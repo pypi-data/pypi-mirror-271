{
 "cells": [
  {
   "cell_type": "code",
   "execution_count": null,
   "metadata": {
    "tags": []
   },
   "outputs": [],
   "source": [
    "import contextlib, json, os, pathlib\n",
    "\n",
    "if (workdir := pathlib.Path('/home/jovyan/work')).exists():\n",
    "    os.chdir(workdir)\n",
    "elif pathlib.Path('.jupyterlab/notebooks/DUO').exists():\n",
    "    os.chdir('.jupyterlab/notebooks')\n",
    "elif pathlib.Path('.').absolute().name == 'DUO':\n",
    "    os.chdir('..')\n",
    "elif pathlib.Path('.').absolute().name == 'notebooks':\n",
    "    pass\n",
    "else:\n",
    "    raise ValueError(os.getcwd())\n",
    "print(os.getcwd())\n",
    "\n",
    "%run ~/work/__init__edwh__new.ipynb\n",
    "# !pip install pydal httpx[http2] trio typedict\n",
    "!pip install geopy\n",
    "\n",
    "import pydal\n",
    "from pydal import DAL, Field\n",
    "import httpx, trio\n",
    "from tabulate import tabulate\n",
    "import typedict as typedict\n",
    "from geopy.distance import geodesic as distance "
   ]
  },
  {
   "cell_type": "code",
   "execution_count": null,
   "metadata": {
    "collapsed": false,
    "jupyter": {
     "outputs_hidden": false
    },
    "tags": []
   },
   "outputs": [],
   "source": [
    "if 'duodb' not in locals():\n",
    "    duodb = pydal.DAL('sqlite://duo-data.sqlite3', folder='./DUO', auto_import=True)\n",
    "    DUODB = \"sqlite:///DUO/db/duo-data.sqlite3\"\n",
    "print(len(duodb.tables),'tabellen in duodata')"
   ]
  },
  {
   "cell_type": "code",
   "execution_count": null,
   "metadata": {
    "collapsed": false,
    "jupyter": {
     "outputs_hidden": false
    },
    "tags": []
   },
   "outputs": [],
   "source": [
    "%%sql $PG \n",
    "select id, name, effdt, prio, effstatus, gid from organisation where gid like 'c5c83398%'"
   ]
  },
  {
   "cell_type": "code",
   "execution_count": null,
   "metadata": {
    "collapsed": false,
    "jupyter": {
     "outputs_hidden": false
    },
    "tags": []
   },
   "outputs": [],
   "source": [
    "%sql select prio, count(*) from organisation_effdted_now group by prio"
   ]
  },
  {
   "cell_type": "code",
   "execution_count": null,
   "metadata": {
    "tags": [],
    "user_expressions": []
   },
   "outputs": [],
   "source": [
    "%%sql $DUODB\n",
    "select * from edwh_onderwijslocaties limit 10 "
   ]
  },
  {
   "cell_type": "code",
   "execution_count": null,
   "metadata": {
    "collapsed": false,
    "jupyter": {
     "outputs_hidden": false
    },
    "tags": []
   },
   "outputs": [],
   "source": [
    "%%sql $PG\n",
    "select count(distinct coc) as cocs, count(distinct gid) as gids, count(distinct brin) as brins from organisation"
   ]
  },
  {
   "cell_type": "markdown",
   "metadata": {
    "user_expressions": []
   },
   "source": [
    "## Opschonen van ongebruikte organisaties\n",
    "\n",
    "Organisaties die we nu niet gebruiken kunnen we het beste eerst verwijderen, dat scheelt veel met het matchmaken en errors, omdat we weten dat de scholen die overblijven, er ook echt toe doen.\n",
    "\n",
    "Een organisatie is ongebruikt als:\n",
    " * er geen items aan hangen, dwz middels een tag koppeling in de `mv__item_tags` tabel\n",
    " * er geen (j)eddie wijzigingen in de org tabel zijn geweest, dwz de `prio <= 100` (want 0 == history en 100 == DUO)\n"
   ]
  },
  {
   "cell_type": "code",
   "execution_count": null,
   "metadata": {
    "collapsed": false,
    "jupyter": {
     "outputs_hidden": false
    },
    "tags": []
   },
   "outputs": [],
   "source": [
    "%%sql $PG\n",
    "select org.name, count(mit.*) as items, max(org.prio) as prio\n",
    "  from organisation_effdted_now org\n",
    "  left outer join mv__item_tags mit on org.tag_gid::uuid = mit.tag_gid\n",
    "group by org.name\n",
    "having count(mit.*) = 0 and max(org.prio) <= 100\n",
    "order by 3 desc\n",
    "limit 10"
   ]
  },
  {
   "cell_type": "markdown",
   "metadata": {
    "user_expressions": []
   },
   "source": [
    "gebruik bovenstaande query om alle organisaties te verwijderen die niet gebruikt worden"
   ]
  },
  {
   "cell_type": "code",
   "execution_count": null,
   "metadata": {
    "collapsed": false,
    "jupyter": {
     "outputs_hidden": false
    },
    "tags": []
   },
   "outputs": [],
   "source": [
    "%%sql $PG \n",
    "delete from organisation where gid in (\n",
    "  select org.gid\n",
    "    from organisation_effdted_now org\n",
    "    left outer join mv__item_tags mit on org.tag_gid::uuid = mit.tag_gid\n",
    "  group by org.gid\n",
    "  having count(mit.*) = 0 and max(org.prio) <= 100\n",
    ")\n",
    "\n"
   ]
  },
  {
   "cell_type": "markdown",
   "metadata": {
    "user_expressions": []
   },
   "source": [
    "## Onderzoek van identifiers\n",
    "Van de beschikbare identifiers zijn er best veel beschikbaar. Nu we de tabel hebben geschoond van niet relevante organisaties,\n",
    "houden we een lijst over van waar we echt *wel* op moeten zoeken."
   ]
  },
  {
   "cell_type": "code",
   "execution_count": null,
   "metadata": {
    "collapsed": false,
    "jupyter": {
     "outputs_hidden": false
    },
    "tags": []
   },
   "outputs": [],
   "source": [
    "scan = %sql select case when prio > 0 then 1 else 0 end as handmatig, name, coc, street, number, city, lonlat, brin, vestigingscode  from organisation_effdted_now\n",
    "counted = [(row.count(None), row) for row in scan if row.count(None) > 0]\n",
    "counted.sort(key=lambda row: row[0], reverse=True)\n",
    "counted[0:5]"
   ]
  },
  {
   "cell_type": "code",
   "execution_count": null,
   "metadata": {
    "collapsed": false,
    "jupyter": {
     "outputs_hidden": false
    },
    "tags": []
   },
   "outputs": [],
   "source": [
    "import math \n",
    "from dataclasses import dataclass \n",
    "@dataclass \n",
    "class Point:\n",
    "    gid:uuid.UUID\n",
    "    latlon:tuple[int,int]\n",
    "    \n",
    "    def __post_init__(self):\n",
    "        self.latlon = float(self.latlon[0]), float(self.latlon[1])\n",
    "        \n",
    "    def __hash__(self):\n",
    "        return self.gid.int\n",
    "    \n",
    "    def near(self, b:\"Point\", level:int=10) -> bool:\n",
    "        \"\"\"Level == 7 roughly for half a km.\"\"\"\n",
    "        alat, alon = self.latlon\n",
    "        blat, blon = b.latlon \n",
    "        difflat = int((alat-blat) * 1000) \n",
    "        difflon = int((alon-blon) * 1000)\n",
    "        return abs(difflat) + abs(difflon)< level\n",
    "            \n",
    "        # avoid the sqrt because power is quicker \n",
    "        # using powers avoid the use for abs, because each negative float squared is positive anyway\n",
    "        # dist = (difflat**2 + difflon**2)\n",
    "        # result = dist < level**2\n",
    "        # m = self.distance(b).m\n",
    "        # if m < 1000:\n",
    "        #     print(f'{difflat:6} {difflon:6} -> {dist:8} | {m:12}')\n",
    "        # return result\n",
    "   \n",
    "    def distance(self, other):\n",
    "        return distance(self.latlon, other.latlon)\n",
    "    \n",
    "lonlats = %sql select gid, lonlat from organisation_effdted_now \n",
    "lonlats = [Point(uuid.UUID(gid),tuple(lonlat.strip('()').split(',')[::-1])) for gid, lonlat in lonlats if lonlat]\n",
    "lonlats[:10]"
   ]
  },
  {
   "cell_type": "code",
   "execution_count": null,
   "metadata": {
    "collapsed": false,
    "jupyter": {
     "outputs_hidden": false
    },
    "tags": []
   },
   "outputs": [],
   "source": [
    "distances = {}\n",
    "from geopy.distance import geodesic as distance \n",
    "for source in tqdm(lonlats):\n",
    "    distances[source] = {other:source.distance(other) for other in lonlats if other != source and source.near(other)}\n",
    "    "
   ]
  },
  {
   "cell_type": "code",
   "execution_count": null,
   "metadata": {
    "collapsed": false,
    "jupyter": {
     "outputs_hidden": false
    },
    "tags": []
   },
   "outputs": [],
   "source": [
    "# Only keep keys when optional near locations are available. \n",
    "distances = {k:v for k,v in distances.items() if v}\n",
    "for key in list(distances.keys())[:5]:\n",
    "    print('##',key.gid)\n",
    "    for other, distance in distances[key].items():\n",
    "        print(other.gid, distance.m)"
   ]
  },
  {
   "cell_type": "markdown",
   "metadata": {
    "user_expressions": []
   },
   "source": [
    "### Controle van dubbele organisaties:\n",
    "er zijn 2 scholen in de data die nu dubbel geregistreerd lijken te zijn, maar waaraan ook artikelen gekoppeld zitten, of ze zijn door een %eddie bewerkt."
   ]
  },
  {
   "cell_type": "code",
   "execution_count": null,
   "metadata": {
    "collapsed": false,
    "jupyter": {
     "outputs_hidden": false
    }
   },
   "outputs": [],
   "source": [
    "%%sql\n",
    "select concat(city,'-',postalcode,'-',street,'-', number) as adres, count(*), json_agg(name) as namen, json_agg(substr(gid, 0,9)) as short_gids \n",
    "from organisation_effdted_now \n",
    "group by adres \n",
    "having count(*) > 1\n"
   ]
  },
  {
   "cell_type": "markdown",
   "metadata": {
    "user_expressions": []
   },
   "source": [
    "## Zoek naar brinlose organisaties\n",
    "Uit de subset van bestaande scholen, is `brin` de beste koppeling, zodat we vanuit daar kunnen koppelen met de `onderwijslocatiecode` om gegevens echt goed koppelbaar te maken. \n",
    "Daarom moeten we eerst de scholen allemaal voorzien van de brincode om daarna verder te koppelen.  \n",
    ":warn: Ook moeten we natuurlijk controleren dat de Brin wel klopt met onze gegevens! \n",
    "\n",
    "Ook leuk, we halen nog even de oude brin koppeling erbij. Dat kan **misschien** iets helpen: helaas, alles wat we nu vinden aan organisaties *lijken* later toegevoegd, want deze gids komen niet voor in de `all_with_gid.db` "
   ]
  },
  {
   "cell_type": "code",
   "execution_count": null,
   "metadata": {
    "user_expressions": []
   },
   "outputs": [],
   "source": [
    "originele_import = %sql sqlite:///DUO/all_with_gid.db select * from scholen \n",
    "originele_import = list(originele_import.dicts())\n",
    "originele_organisaties_gid_map = {i['org_gid']:i for i in originele_import}"
   ]
  },
  {
   "cell_type": "code",
   "execution_count": null,
   "metadata": {
    "collapsed": false,
    "jupyter": {
     "outputs_hidden": false
    }
   },
   "outputs": [],
   "source": [
    "%%sql $PG\n",
    "select brin, vestigingscode, count(*) from organisation_effdted_now\n",
    "group by brin, vestigingscode\n",
    "having count(*) > 1\n",
    "order by count(*) desc"
   ]
  },
  {
   "cell_type": "markdown",
   "metadata": {
    "user_expressions": []
   },
   "source": [
    "Van deze organisaties moeten willen we de rest van de gegevens weten:"
   ]
  },
  {
   "cell_type": "code",
   "execution_count": null,
   "metadata": {
    "collapsed": false,
    "jupyter": {
     "outputs_hidden": false
    }
   },
   "outputs": [],
   "source": [
    "bij_te_werken_organisaties = %sql $PG select gid, substr(gid,0,9) as short_gid, tag_gid, substr(tag_gid,0,9)as short_tag_gid, name, coc, street, number, city, lonlat, brin, vestigingscode, postalcode, is_active from organisation_effdted_now where brin is null or vestigingscode is null \n",
    "bij_te_werken_organisaties"
   ]
  },
  {
   "cell_type": "code",
   "execution_count": null,
   "metadata": {
    "collapsed": false,
    "jupyter": {
     "outputs_hidden": false
    }
   },
   "outputs": [],
   "source": [
    "from pprint import pprint\n",
    "from collections import Counter \n",
    "gevonden = {}\n",
    "organisaties_effdted_now = %sql $PG select * from organisation_effdted_now\n",
    "organisaties_gid_map = {org.gid:org for org in organisaties_effdted_now}\n",
    "\n",
    "for ori in originele_import: \n",
    "    zoek_gid = ori['org_gid'] # voeg quotes toe, want die zijn hieronder niet toe te voegen \n",
    "    gevonden[zoek_gid] = zoek_gid in organisaties_gid_map\n",
    "Counter(gevonden.values())\n"
   ]
  },
  {
   "cell_type": "code",
   "execution_count": null,
   "metadata": {
    "collapsed": false,
    "jupyter": {
     "outputs_hidden": false
    }
   },
   "outputs": [],
   "source": [
    "for bij_te_werken_org in bij_te_werken_organisaties:\n",
    "    if bij_te_werken_org.gid in originele_organisaties_gid_map:\n",
    "        print('bij te werken komt voor in oude import')\n",
    "        oude_org = originele_organisaties_gid_map[bij_te_werken_org.gid]\n",
    "        print(oude_org['BRIN NUMMER'], oude_org['VESTIGINGSNUMMER'], oude_org['POSTCODE'], oude_org['HUISNUMMER-TOEVOEGING'])\n",
    "        #pprint(oude_org)\n",
    "    else: \n",
    "        print('bij te werken komt niet voor in oude import')\n",
    "## HIER WAS IK GEBLEVEN"
   ]
  },
  {
   "cell_type": "code",
   "execution_count": null,
   "metadata": {
    "collapsed": false,
    "jupyter": {
     "outputs_hidden": false
    }
   },
   "outputs": [],
   "source": []
  },
  {
   "cell_type": "code",
   "execution_count": null,
   "metadata": {
    "collapsed": false,
    "jupyter": {
     "outputs_hidden": false
    }
   },
   "outputs": [],
   "source": [
    "%%sql $PG\n",
    "select * from organisation_effdted_now limit 5"
   ]
  },
  {
   "cell_type": "markdown",
   "metadata": {
    "user_expressions": []
   },
   "source": [
    "## Views maken om DUO data te combineren:"
   ]
  },
  {
   "cell_type": "code",
   "execution_count": null,
   "metadata": {
    "collapsed": false,
    "jupyter": {
     "outputs_hidden": false
    }
   },
   "outputs": [],
   "source": [
    "%%sql $DUODB\n",
    "select * from aangeboden_opleiding limit 10"
   ]
  },
  {
   "cell_type": "code",
   "execution_count": null,
   "metadata": {
    "collapsed": false,
    "jupyter": {
     "outputs_hidden": false
    }
   },
   "outputs": [],
   "source": [
    "%%sql $DUODB\n",
    "select * from edwh_onderwijslocaties limit 10"
   ]
  },
  {
   "cell_type": "markdown",
   "metadata": {},
   "source": [
    "# Taken:\n",
    " []: Controle op brin en vestigingscode als vinkje in organisatie overzicht (aanwezig en combi is uniek)\n",
    " []: Alarm wanneer combinatie plaats-straat-nummer niet uniek zijn (zou kunnen gebeuren, maar is zeer onwaarschijnlijk)\n",
    " []:"
   ]
  },
  {
   "cell_type": "code",
   "execution_count": null,
   "metadata": {
    "collapsed": false,
    "jupyter": {
     "outputs_hidden": false
    }
   },
   "outputs": [],
   "source": []
  }
 ],
 "metadata": {
  "kernelspec": {
   "display_name": "Python 3 (ipykernel)",
   "language": "python",
   "name": "python3"
  },
  "language_info": {
   "codemirror_mode": {
    "name": "ipython",
    "version": 3
   },
   "file_extension": ".py",
   "mimetype": "text/x-python",
   "name": "python",
   "nbconvert_exporter": "python",
   "pygments_lexer": "ipython3",
   "version": "3.10.11"
  }
 },
 "nbformat": 4,
 "nbformat_minor": 4
}
