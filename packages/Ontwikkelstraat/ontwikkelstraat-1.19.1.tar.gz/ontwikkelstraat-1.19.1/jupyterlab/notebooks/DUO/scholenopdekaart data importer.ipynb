{
 "cells": [
  {
   "cell_type": "code",
   "execution_count": 1,
   "id": "c018eba1-e063-4558-aeab-2255632d25f4",
   "metadata": {
    "tags": [],
    "ExecuteTime": {
     "end_time": "2024-01-24T14:58:45.626890615Z",
     "start_time": "2024-01-24T14:58:31.382591086Z"
    }
   },
   "outputs": [
    {
     "name": "stdout",
     "output_type": "stream",
     "text": [
      "Requirement already satisfied: pydal in /opt/conda/lib/python3.10/site-packages (20231114.3)\r\n",
      "Requirement already satisfied: httpx[http2] in /opt/conda/lib/python3.10/site-packages (0.25.2)\r\n",
      "Requirement already satisfied: trio in /opt/conda/lib/python3.10/site-packages (0.23.2)\r\n",
      "Requirement already satisfied: ipywidgets in /opt/conda/lib/python3.10/site-packages (8.1.1)\r\n",
      "Requirement already satisfied: chardet in /opt/conda/lib/python3.10/site-packages (5.2.0)\r\n",
      "Requirement already satisfied: thefuzz in /opt/conda/lib/python3.10/site-packages (0.20.0)\r\n",
      "Requirement already satisfied: httpcore==1.* in /opt/conda/lib/python3.10/site-packages (from httpx[http2]) (1.0.2)\r\n",
      "Requirement already satisfied: idna in /opt/conda/lib/python3.10/site-packages (from httpx[http2]) (3.6)\r\n",
      "Requirement already satisfied: sniffio in /opt/conda/lib/python3.10/site-packages (from httpx[http2]) (1.3.0)\r\n",
      "Requirement already satisfied: certifi in /opt/conda/lib/python3.10/site-packages (from httpx[http2]) (2023.11.17)\r\n",
      "Requirement already satisfied: anyio in /opt/conda/lib/python3.10/site-packages (from httpx[http2]) (4.1.0)\r\n",
      "Requirement already satisfied: h2<5,>=3 in /opt/conda/lib/python3.10/site-packages (from httpx[http2]) (4.1.0)\r\n",
      "Requirement already satisfied: h11<0.15,>=0.13 in /opt/conda/lib/python3.10/site-packages (from httpcore==1.*->httpx[http2]) (0.14.0)\r\n",
      "Requirement already satisfied: sortedcontainers in /opt/conda/lib/python3.10/site-packages (from trio) (2.4.0)\r\n",
      "Requirement already satisfied: attrs>=20.1.0 in /opt/conda/lib/python3.10/site-packages (from trio) (23.1.0)\r\n",
      "Requirement already satisfied: outcome in /opt/conda/lib/python3.10/site-packages (from trio) (1.3.0.post0)\r\n",
      "Requirement already satisfied: exceptiongroup in /opt/conda/lib/python3.10/site-packages (from trio) (1.2.0)\r\n",
      "Requirement already satisfied: ipython>=6.1.0 in /opt/conda/lib/python3.10/site-packages (from ipywidgets) (8.18.1)\r\n",
      "Requirement already satisfied: jupyterlab-widgets~=3.0.9 in /opt/conda/lib/python3.10/site-packages (from ipywidgets) (3.0.9)\r\n",
      "Requirement already satisfied: comm>=0.1.3 in /opt/conda/lib/python3.10/site-packages (from ipywidgets) (0.1.3)\r\n",
      "Requirement already satisfied: widgetsnbextension~=4.0.9 in /opt/conda/lib/python3.10/site-packages (from ipywidgets) (4.0.9)\r\n",
      "Requirement already satisfied: traitlets>=4.3.1 in /opt/conda/lib/python3.10/site-packages (from ipywidgets) (5.14.0)\r\n",
      "Requirement already satisfied: rapidfuzz<4.0.0,>=3.0.0 in /opt/conda/lib/python3.10/site-packages (from thefuzz) (3.5.2)\r\n",
      "Requirement already satisfied: hyperframe<7,>=6.0 in /opt/conda/lib/python3.10/site-packages (from h2<5,>=3->httpx[http2]) (6.0.1)\r\n",
      "Requirement already satisfied: hpack<5,>=4.0 in /opt/conda/lib/python3.10/site-packages (from h2<5,>=3->httpx[http2]) (4.0.0)\r\n",
      "Requirement already satisfied: matplotlib-inline in /opt/conda/lib/python3.10/site-packages (from ipython>=6.1.0->ipywidgets) (0.1.6)\r\n",
      "Requirement already satisfied: jedi>=0.16 in /opt/conda/lib/python3.10/site-packages (from ipython>=6.1.0->ipywidgets) (0.19.1)\r\n",
      "Requirement already satisfied: stack-data in /opt/conda/lib/python3.10/site-packages (from ipython>=6.1.0->ipywidgets) (0.6.3)\r\n",
      "Requirement already satisfied: decorator in /opt/conda/lib/python3.10/site-packages (from ipython>=6.1.0->ipywidgets) (5.1.1)\r\n",
      "Requirement already satisfied: pexpect>4.3 in /opt/conda/lib/python3.10/site-packages (from ipython>=6.1.0->ipywidgets) (4.9.0)\r\n",
      "Requirement already satisfied: prompt-toolkit<3.1.0,>=3.0.41 in /opt/conda/lib/python3.10/site-packages (from ipython>=6.1.0->ipywidgets) (3.0.41)\r\n",
      "Requirement already satisfied: pygments>=2.4.0 in /opt/conda/lib/python3.10/site-packages (from ipython>=6.1.0->ipywidgets) (2.17.2)\r\n",
      "Requirement already satisfied: parso<0.9.0,>=0.8.3 in /opt/conda/lib/python3.10/site-packages (from jedi>=0.16->ipython>=6.1.0->ipywidgets) (0.8.3)\r\n",
      "Requirement already satisfied: ptyprocess>=0.5 in /opt/conda/lib/python3.10/site-packages (from pexpect>4.3->ipython>=6.1.0->ipywidgets) (0.7.0)\r\n",
      "Requirement already satisfied: wcwidth in /opt/conda/lib/python3.10/site-packages (from prompt-toolkit<3.1.0,>=3.0.41->ipython>=6.1.0->ipywidgets) (0.2.12)\r\n",
      "Requirement already satisfied: pure-eval in /opt/conda/lib/python3.10/site-packages (from stack-data->ipython>=6.1.0->ipywidgets) (0.2.2)\r\n",
      "Requirement already satisfied: asttokens>=2.1.0 in /opt/conda/lib/python3.10/site-packages (from stack-data->ipython>=6.1.0->ipywidgets) (2.4.1)\r\n",
      "Requirement already satisfied: executing>=1.2.0 in /opt/conda/lib/python3.10/site-packages (from stack-data->ipython>=6.1.0->ipywidgets) (2.0.1)\r\n",
      "Requirement already satisfied: six>=1.12.0 in /opt/conda/lib/python3.10/site-packages (from asttokens>=2.1.0->stack-data->ipython>=6.1.0->ipywidgets) (1.16.0)\r\n",
      "working\n",
      "Python 3.10.10 | packaged by conda-forge | (main, Mar 24 2023, 20:08:06) [GCC 11.3.0]\n",
      "Requirement already satisfied: ipywidgets in /opt/conda/lib/python3.10/site-packages (8.1.1)\r\n",
      "Requirement already satisfied: traitlets>=4.3.1 in /opt/conda/lib/python3.10/site-packages (from ipywidgets) (5.14.0)\r\n",
      "Requirement already satisfied: widgetsnbextension~=4.0.9 in /opt/conda/lib/python3.10/site-packages (from ipywidgets) (4.0.9)\r\n",
      "Requirement already satisfied: jupyterlab-widgets~=3.0.9 in /opt/conda/lib/python3.10/site-packages (from ipywidgets) (3.0.9)\r\n",
      "Requirement already satisfied: comm>=0.1.3 in /opt/conda/lib/python3.10/site-packages (from ipywidgets) (0.1.3)\r\n",
      "Requirement already satisfied: ipython>=6.1.0 in /opt/conda/lib/python3.10/site-packages (from ipywidgets) (8.18.1)\r\n",
      "Requirement already satisfied: jedi>=0.16 in /opt/conda/lib/python3.10/site-packages (from ipython>=6.1.0->ipywidgets) (0.19.1)\r\n",
      "Requirement already satisfied: exceptiongroup in /opt/conda/lib/python3.10/site-packages (from ipython>=6.1.0->ipywidgets) (1.2.0)\r\n",
      "Requirement already satisfied: stack-data in /opt/conda/lib/python3.10/site-packages (from ipython>=6.1.0->ipywidgets) (0.6.3)\r\n",
      "Requirement already satisfied: prompt-toolkit<3.1.0,>=3.0.41 in /opt/conda/lib/python3.10/site-packages (from ipython>=6.1.0->ipywidgets) (3.0.41)\r\n",
      "Requirement already satisfied: pygments>=2.4.0 in /opt/conda/lib/python3.10/site-packages (from ipython>=6.1.0->ipywidgets) (2.17.2)\r\n",
      "Requirement already satisfied: matplotlib-inline in /opt/conda/lib/python3.10/site-packages (from ipython>=6.1.0->ipywidgets) (0.1.6)\r\n",
      "Requirement already satisfied: pexpect>4.3 in /opt/conda/lib/python3.10/site-packages (from ipython>=6.1.0->ipywidgets) (4.9.0)\r\n",
      "Requirement already satisfied: decorator in /opt/conda/lib/python3.10/site-packages (from ipython>=6.1.0->ipywidgets) (5.1.1)\r\n",
      "Requirement already satisfied: parso<0.9.0,>=0.8.3 in /opt/conda/lib/python3.10/site-packages (from jedi>=0.16->ipython>=6.1.0->ipywidgets) (0.8.3)\r\n",
      "Requirement already satisfied: ptyprocess>=0.5 in /opt/conda/lib/python3.10/site-packages (from pexpect>4.3->ipython>=6.1.0->ipywidgets) (0.7.0)\r\n",
      "Requirement already satisfied: wcwidth in /opt/conda/lib/python3.10/site-packages (from prompt-toolkit<3.1.0,>=3.0.41->ipython>=6.1.0->ipywidgets) (0.2.12)\r\n",
      "Requirement already satisfied: executing>=1.2.0 in /opt/conda/lib/python3.10/site-packages (from stack-data->ipython>=6.1.0->ipywidgets) (2.0.1)\r\n",
      "Requirement already satisfied: asttokens>=2.1.0 in /opt/conda/lib/python3.10/site-packages (from stack-data->ipython>=6.1.0->ipywidgets) (2.4.1)\r\n",
      "Requirement already satisfied: pure-eval in /opt/conda/lib/python3.10/site-packages (from stack-data->ipython>=6.1.0->ipywidgets) (0.2.2)\r\n",
      "Requirement already satisfied: six>=1.12.0 in /opt/conda/lib/python3.10/site-packages (from asttokens>=2.1.0->stack-data->ipython>=6.1.0->ipywidgets) (1.16.0)\r\n",
      "Requirement already satisfied: tqdm in /opt/conda/lib/python3.10/site-packages (4.65.2)\r\n",
      "Requirement already satisfied: pandas in /opt/conda/lib/python3.10/site-packages (2.1.3)\r\n",
      "Requirement already satisfied: pytz>=2020.1 in /opt/conda/lib/python3.10/site-packages (from pandas) (2023.3.post1)\r\n",
      "Requirement already satisfied: numpy<2,>=1.22.4 in /opt/conda/lib/python3.10/site-packages (from pandas) (1.26.2)\r\n",
      "Requirement already satisfied: python-dateutil>=2.8.2 in /opt/conda/lib/python3.10/site-packages (from pandas) (2.8.2)\r\n",
      "Requirement already satisfied: tzdata>=2022.1 in /opt/conda/lib/python3.10/site-packages (from pandas) (2023.3)\r\n",
      "Requirement already satisfied: six>=1.5 in /opt/conda/lib/python3.10/site-packages (from python-dateutil>=2.8.2->pandas) (1.16.0)\r\n",
      "Setting up for long running connection\n"
     ]
    },
    {
     "name": "stderr",
     "output_type": "stream",
     "text": [
      "/shared_code/edwh/core/pgcache/__init__.py:91: UserWarning: Magic aangeroepn, dat klopt nie. \n",
      "  warnings.warn(\"Magic aangeroepn, dat klopt nie. \")\n"
     ]
    },
    {
     "name": "stdout",
     "output_type": "stream",
     "text": [
      " * postgresql://postgres@pgpool:5432/backend\n",
      "Done.\n",
      "/home/jovyan/work\n"
     ]
    }
   ],
   "source": [
    "\n",
    "!pip install pydal httpx[http2] trio ipywidgets chardet thefuzz \n",
    "\n",
    "\n",
    "import collections\n",
    "import contextlib\n",
    "import dbm\n",
    "import json\n",
    "import dill\n",
    "import tqdm\n",
    "\n",
    "print('working')\n",
    "import pydal.objects\n",
    "from thefuzz import fuzz \n",
    "import hashlib\n",
    "\n",
    "try:\n",
    "    import typedict\n",
    "except ImportError:\n",
    "    !pip install typedict\n",
    "%run ~/work/__init__edwh__new.ipynb &2>&1>/dev/null \n",
    "from pydal import DAL, Field\n",
    "import os, pathlib, httpx, trio\n",
    "import typedict as typedict\n",
    "\n",
    "if (workdir := pathlib.Path('/home/jovyan/work')).exists():\n",
    "    os.chdir(workdir)\n",
    "elif pathlib.Path('.jupyterlab/notebooks/DUO').exists():\n",
    "    os.chdir('.jupyterlab/notebooks')\n",
    "elif pathlib.Path('.').absolute().name == 'DUO':\n",
    "    os.chdir('..')\n",
    "elif pathlib.Path('.').absolute().name == 'notebooks':\n",
    "    pass\n",
    "else:\n",
    "    raise ValueError(os.getcwd())\n",
    "print(os.getcwd())"
   ]
  },
  {
   "cell_type": "code",
   "execution_count": 2,
   "id": "56fb57b7-35f7-4cad-92ba-4583f578e04b",
   "metadata": {
    "tags": [],
    "ExecuteTime": {
     "end_time": "2024-01-24T14:58:45.628125575Z",
     "start_time": "2024-01-24T14:58:45.611778997Z"
    }
   },
   "outputs": [],
   "source": [
    "import slugify\n",
    "from functools import partial\n",
    "import httpx, csv \n",
    "def fieldname(name):\n",
    "    if name.isdigit():\n",
    "        name = 'jaar_'+name\n",
    "    return slugify.slugify(name, separator='_',replacements=[['-','_']])\n"
   ]
  },
  {
   "cell_type": "code",
   "execution_count": 3,
   "id": "6be38624-4482-4e9c-818c-d4936329c785",
   "metadata": {
    "collapsed": false,
    "tags": [],
    "user_expressions": [],
    "ExecuteTime": {
     "end_time": "2024-01-24T14:58:46.441491559Z",
     "start_time": "2024-01-24T14:58:45.618527734Z"
    }
   },
   "outputs": [],
   "source": [
    "sodk = httpx.get('https://redash.edwh.nl/api/queries/70/results.json?api_key=aVpyY7I0YkCPQ2kz3NoaiuIkJmjaOY4o62JhaNU0').json()['query_result']"
   ]
  },
  {
   "cell_type": "code",
   "execution_count": 4,
   "id": "9001ebe2-681f-4d79-a65f-5330877184cd",
   "metadata": {
    "tags": [],
    "ExecuteTime": {
     "end_time": "2024-01-24T14:58:46.469363811Z",
     "start_time": "2024-01-24T14:58:46.448527331Z"
    }
   },
   "outputs": [
    {
     "data": {
      "text/plain": "dict_keys(['id', 'query_hash', 'query', 'data', 'data_source_id', 'runtime', 'retrieved_at'])"
     },
     "execution_count": 4,
     "metadata": {},
     "output_type": "execute_result"
    }
   ],
   "source": [
    "sodk.keys()"
   ]
  },
  {
   "cell_type": "code",
   "execution_count": 5,
   "id": "d09b3e91-e144-4396-aafe-124cc39352fe",
   "metadata": {
    "tags": [],
    "ExecuteTime": {
     "end_time": "2024-01-24T14:58:46.669762555Z",
     "start_time": "2024-01-24T14:58:46.455625334Z"
    }
   },
   "outputs": [
    {
     "name": "stdout",
     "output_type": "stream",
     "text": [
      "scholen gevonden: 8869\n"
     ]
    }
   ],
   "source": [
    "source_orgs = sodk['data']['rows']\n",
    "print('scholen gevonden:',len(source_orgs))"
   ]
  },
  {
   "cell_type": "code",
   "execution_count": 6,
   "id": "644a59ab-5283-4838-b40f-277567aa8b36",
   "metadata": {
    "tags": [],
    "ExecuteTime": {
     "end_time": "2024-01-24T14:58:47.052626319Z",
     "start_time": "2024-01-24T14:58:46.670675370Z"
    }
   },
   "outputs": [
    {
     "name": "stderr",
     "output_type": "stream",
     "text": [
      "y|  source_orgs[1]:\n",
      "        {'bisId': 678,\n",
      "         'naam': 'Scholengemeenschap Spieringshoek voor Gymnasium Atheneum en '\n",
      "                 'HAVO',\n",
      "         'sanitizedNaam': 'scholengemeenschap-spieringshoek-voor-gymnasium-atheneum-en-havo',\n",
      "         'onderwijsconcept': None,\n",
      "         'adres': 'Van der Brugghenlaan 2',\n",
      "         'postcode': '3118LA',\n",
      "         'plaats': 'Schiedam',\n",
      "         'plaatsSlug': 'schiedam',\n",
      "         'onderwijssoortNiveau': 28,\n",
      "         'latitude': 51.919487,\n",
      "         'longitude': 4.378056,\n",
      "         'aantalleerlingen': 982,\n",
      "         'brinvests': '[{\"instelling\": \"00JR\", \"vestiging\": \"00\"}]',\n",
      "         'denominatie': 'Katholiek',\n",
      "         'denominatie_tip': 'Scholen voor katholiek onderwijs baseren hun '\n",
      "                            'onderwijs op katholieke visies, gewoonten en '\n",
      "                            'tradities.',\n",
      "         'onderwijstype': 'VO',\n",
      "         'onderwijstype_naam': 'Voortgezet onderwijs',\n",
      "         'onderwijstype_tip': 'Na de basisschool gaat een leerling naar het '\n",
      "                              'voortgezet onderwijs. Leerlingen kunnen naar '\n",
      "                              'het praktijkonderwijs, vmbo, havo of vwo.'}\n"
     ]
    }
   ],
   "source": [
    "_=y(source_orgs[1])"
   ]
  },
  {
   "cell_type": "code",
   "execution_count": 6,
   "id": "9b4bd4fb-6a28-4002-b4df-d02b2341e212",
   "metadata": {
    "ExecuteTime": {
     "end_time": "2024-01-24T12:17:54.675911042Z",
     "start_time": "2024-01-24T12:17:54.644593530Z"
    }
   },
   "outputs": [],
   "source": []
  },
  {
   "cell_type": "code",
   "execution_count": 7,
   "id": "7469d48e-e73e-458a-810e-e1c1e809b047",
   "metadata": {
    "ExecuteTime": {
     "end_time": "2024-01-24T14:58:47.057756420Z",
     "start_time": "2024-01-24T14:58:47.009843850Z"
    }
   },
   "outputs": [
    {
     "data": {
      "text/plain": "<Table organisation (id, platform, effdt, effstatus, gid, prio, brin, vestigingscode, name, aka, website, country_code, coc, coc_location, phone, street, number, postalcode, city, correspondence_city, correspondence_street, correspondence_number, correspondence_postalcode, correspondence_country, tag_gid, lonlat, scholen_op_de_kaart_url, email, ceo_name, ceo_email, ceo_phone, quality_assurance_plan, aantekeningen, validated_by, validated_ts, education_type, sector, education_level, so_cluster, so_type, denomination, concept, student_count, subjects_with_specialised_teachers, board_gid, last_saved_by)>"
     },
     "execution_count": 7,
     "metadata": {},
     "output_type": "execute_result"
    }
   ],
   "source": [
    "db.organisation"
   ]
  },
  {
   "cell_type": "code",
   "execution_count": 8,
   "id": "68c24ea6-6cf7-4580-8fea-773e155f8913",
   "metadata": {
    "ExecuteTime": {
     "end_time": "2024-01-24T14:58:47.163691943Z",
     "start_time": "2024-01-24T14:58:47.017123812Z"
    }
   },
   "outputs": [
    {
     "name": "stdout",
     "output_type": "stream",
     "text": [
      " * postgresql://postgres@pgpool:5432/backend\n",
      "10 rows affected.\n"
     ]
    },
    {
     "data": {
      "text/plain": "[(19783, 'SvS', '915dbbb1-84b0-4cb9-9409-0317b3f5d352', 'Vereniging Nutsschool Wassenaar', 40408348, 'Zijllaan', '39', 'WASSENAAR', '(4.4022312,52.1422118)', '561537d7-d1ff-4f6d-a282-1be84eae1016', None, None, 'NL', None, None, None, None, None, '04RT', '00', None, None, None, None, None, None, None, None, None, None, None, None, 'r', '|po|', '|bo|', None, None, None, None, None, None, 'T', datetime.datetime(2023, 2, 13, 16, 17, 21), 'T', 233, 'Locatiegegevens aan Organisatie.ipynb op basis van leerlingen.sqlite/leerlingen.json and all_with_gid.db', 100, '915dbbb1-84b0-4cb9-9409-0317b3f5d352', datetime.datetime(2023, 2, 13, 16, 17, 21), 19783),\n (18492, 'SvS', '64103761-65f6-467f-8369-0e3248468d36', 'Berg en Bosch Onderwijs', 30265539, 'Professor Bronkhorstlaan', '22', 'BILTHOVEN', '(5.2099236,52.1529179)', 'f58e7f96-bc8d-43ee-adee-8047196d8861', None, None, 'NL', None, None, None, None, None, '02RF', '00', None, None, None, None, None, None, None, None, None, None, None, None, 's', '|so|vso|', None, None, None, None, None, None, None, 'T', datetime.datetime(2023, 2, 13, 16, 17, 17), 'T', 365, 'Locatiegegevens aan Organisatie.ipynb op basis van leerlingen.sqlite/leerlingen.json and all_with_gid.db', 100, '64103761-65f6-467f-8369-0e3248468d36', datetime.datetime(2023, 2, 13, 16, 17, 17), 18492),\n (24943, 'SvS', '342d9c43-5b17-4b37-ad26-15c827c83a5d', 'Openbare basischool De Zeevonk', 34263476, 'Dr Jac P Thijsseweg', '24', 'ZANDVOORT', '(4.541327,52.3793)', '5f4d72fd-58d9-4dcb-9251-afe1942b5f68', None, None, 'NL', None, None, None, None, None, '09RU', '00', None, None, '2041BM', None, None, None, None, None, None, None, None, None, 'r', '|po|', '|VO-SO|', None, None, 'Openbaar', None, None, None, 'T', datetime.datetime(2024, 1, 24, 14, 53, 4, 29074), 'T', 232, \"Romy's scholenopdekaart data importer.ipynb (update_db_record)\", 150, '342d9c43-5b17-4b37-ad26-15c827c83a5d', datetime.datetime(2024, 1, 24, 14, 53, 4, 29074), 24943),\n (17966, 'SvS', '533ad823-f7f5-460e-bed5-d3ec53cf8c03', 'Samenwerkingsschool De Diamant', 1107731, 'Buorren', '34-A', 'OUDEGA GEM SMALLINGERLND', '(5.9954931,53.1254223)', '1d2d05b8-0ec9-4f28-a7aa-33b6edb92079', None, None, 'NL', None, None, None, None, None, '06QJ', '00', None, None, None, None, None, None, None, None, None, None, None, None, 'r', '|po|', '|bo|', None, None, None, None, None, None, 'T', datetime.datetime(2023, 2, 13, 16, 17, 15), 'T', 136, 'Locatiegegevens aan Organisatie.ipynb op basis van leerlingen.sqlite/leerlingen.json and all_with_gid.db', 100, '533ad823-f7f5-460e-bed5-d3ec53cf8c03', datetime.datetime(2023, 2, 13, 16, 17, 15), 17966),\n (20145, 'SvS', '9da21a16-bceb-48d3-909c-600c326a4d2a', 'School Met De Bijbel', 30249028, 'Kerkstraat', '7', 'RANDWIJK', '(5.7114077,51.954166)', 'cb278b3f-9e43-4f90-9e97-ebe5f54dff27', None, None, 'NL', None, None, None, None, None, '05XQ', '00', None, None, None, None, None, None, None, None, None, None, None, None, 'r', '|po|', '|bo|', None, None, None, None, None, None, 'T', datetime.datetime(2023, 2, 13, 16, 17, 22), 'T', 104, 'Locatiegegevens aan Organisatie.ipynb op basis van leerlingen.sqlite/leerlingen.json and all_with_gid.db', 100, '9da21a16-bceb-48d3-909c-600c326a4d2a', datetime.datetime(2023, 2, 13, 16, 17, 22), 20145),\n (18612, 'SvS', '685bce53-b879-4971-aaf9-976a603d4cad', 'Arembergschool', 71767789, 'Julianastraat', '2', 'ZWARTSLUIS', '(6.0693034,52.6441632)', '778ce8c7-b98c-40b0-8e1c-1aaa8e112bd1', None, None, 'NL', None, None, None, None, None, '03FU', '00', None, None, None, None, None, None, None, None, None, None, None, None, 'r', '|po|', '|bo|', None, None, None, None, None, None, 'T', datetime.datetime(2023, 2, 13, 16, 17, 17), 'T', 144, 'Locatiegegevens aan Organisatie.ipynb op basis van leerlingen.sqlite/leerlingen.json and all_with_gid.db', 100, '685bce53-b879-4971-aaf9-976a603d4cad', datetime.datetime(2023, 2, 13, 16, 17, 17), 18612),\n (24916, 'SvS', '7ede95b3-c121-46b1-8019-88a3456cda6e', 'OBS J.H. Isings', 8141209, 'Emperweg', '70', 'EMPE', '(6.134757,52.153316)', '030b73ab-2aef-4f5e-a8e3-271c73aeb40a', None, None, 'NL', None, None, None, None, None, '12VJ', '00', None, None, '7399AG', None, None, None, None, None, None, None, None, None, 'r', '|po|', '|VO SO|', None, None, 'Openbaar', None, None, None, 'T', datetime.datetime(2024, 1, 24, 14, 52, 40, 792140), 'T', 74, \"Romy's scholenopdekaart data importer.ipynb (update_db_record)\", 150, '7ede95b3-c121-46b1-8019-88a3456cda6e', datetime.datetime(2024, 1, 24, 14, 52, 40, 792140), 24916),\n (24798, 'SvS', '693230ad-8eee-47a5-8fb0-d6fde96f3e8c', 'Basisschool de Wegwijzer', 40062585, 'Winde', '37', 'KAMPEN', '(5.9025317,52.5554373)', '442ef02c-2dd2-4078-92d3-311c420ce5e1', datetime.datetime(2023, 10, 6, 7, 10, 38), 'evaslagboom@gmail.com', 'NL', 'de Wegwijzer', 'https://www.wegwijzerschoolkampen.nl/', 'directie@wegwijzerschool.nl', None, None, '13TQ', '00', 21216894, '038 33 166 10', '8265 ED', None, None, None, None, None, None, None, None, 'https://magazine.iriskampen.nl/wegwijzer/schoolgids', 'r', '|po|', '|bo|', None, None, None, None, '|Gymnastiek|', 'e330aa8e-70c1-4379-a54e-ea4112ca3344', 'T', datetime.datetime(2023, 10, 6, 7, 10, 38), 'T', 100, 'evaslagboom@gmail.com', 200, '693230ad-8eee-47a5-8fb0-d6fde96f3e8c', datetime.datetime(2023, 10, 6, 7, 10, 38), 24798),\n (22631, 'SvS', 'f3ad1199-5b5c-45d2-bf7d-31c6b12bc499', 'Openbare Basisschool De Bieshaar', 52479013, 'Kraailandhof', '3', 'HOOGLAND', '(5.3737706,52.1877438)', '1b02585c-c6c6-4db9-9e93-d7704fdd4221', None, None, 'NL', None, None, None, None, None, '16HT', '00', None, None, None, None, None, None, None, None, None, None, None, None, 'r', '|po|', '|bo|', None, None, None, None, None, None, 'T', datetime.datetime(2023, 2, 13, 16, 17, 29), 'T', 303, 'Locatiegegevens aan Organisatie.ipynb op basis van leerlingen.sqlite/leerlingen.json and all_with_gid.db', 100, 'f3ad1199-5b5c-45d2-bf7d-31c6b12bc499', datetime.datetime(2023, 2, 13, 16, 17, 29), 22631),\n (22573, 'SvS', 'f1f9b838-1ba7-42f8-bd6b-cc0f31e10cc8', 'Sin Victorschool', 11054744, 'De Gaard', '19', 'AFFERDEN GLD', '(5.6341069,51.8803512)', '02f9aeda-a33f-4b9e-beb1-550813c61520', None, None, 'NL', None, None, None, None, None, '06SW', '00', None, None, None, None, None, None, None, None, None, None, None, None, 'r', '|po|', '|bo|', None, None, None, None, None, None, 'T', datetime.datetime(2023, 2, 13, 16, 17, 29), 'T', 123, 'Locatiegegevens aan Organisatie.ipynb op basis van leerlingen.sqlite/leerlingen.json and all_with_gid.db', 100, 'f1f9b838-1ba7-42f8-bd6b-cc0f31e10cc8', datetime.datetime(2023, 2, 13, 16, 17, 29), 22573)]",
      "text/html": "<table>\n    <thead>\n        <tr>\n            <th>id</th>\n            <th>platform</th>\n            <th>gid</th>\n            <th>name</th>\n            <th>coc</th>\n            <th>street</th>\n            <th>number</th>\n            <th>city</th>\n            <th>lonlat</th>\n            <th>tag_gid</th>\n            <th>validated_ts</th>\n            <th>validated_by</th>\n            <th>country_code</th>\n            <th>aka</th>\n            <th>website</th>\n            <th>email</th>\n            <th>scholen_op_de_kaart_url</th>\n            <th>aantekeningen</th>\n            <th>brin</th>\n            <th>vestigingscode</th>\n            <th>coc_location</th>\n            <th>phone</th>\n            <th>postalcode</th>\n            <th>correspondence_city</th>\n            <th>correspondence_street</th>\n            <th>correspondence_number</th>\n            <th>correspondence_postalcode</th>\n            <th>correspondence_country</th>\n            <th>ceo_name</th>\n            <th>ceo_email</th>\n            <th>ceo_phone</th>\n            <th>quality_assurance_plan</th>\n            <th>education_type</th>\n            <th>sector</th>\n            <th>education_level</th>\n            <th>so_cluster</th>\n            <th>so_type</th>\n            <th>denomination</th>\n            <th>concept</th>\n            <th>subjects_with_specialised_teachers</th>\n            <th>board_gid</th>\n            <th>is_active</th>\n            <th>effdt</th>\n            <th>effstatus</th>\n            <th>student_count</th>\n            <th>last_saved_by</th>\n            <th>prio</th>\n            <th>gid_1</th>\n            <th>max</th>\n            <th>id_1</th>\n        </tr>\n    </thead>\n    <tbody>\n        <tr>\n            <td>19783</td>\n            <td>SvS</td>\n            <td>915dbbb1-84b0-4cb9-9409-0317b3f5d352</td>\n            <td>Vereniging Nutsschool Wassenaar</td>\n            <td>40408348</td>\n            <td>Zijllaan</td>\n            <td>39</td>\n            <td>WASSENAAR</td>\n            <td>(4.4022312,52.1422118)</td>\n            <td>561537d7-d1ff-4f6d-a282-1be84eae1016</td>\n            <td>None</td>\n            <td>None</td>\n            <td>NL</td>\n            <td>None</td>\n            <td>None</td>\n            <td>None</td>\n            <td>None</td>\n            <td>None</td>\n            <td>04RT</td>\n            <td>00</td>\n            <td>None</td>\n            <td>None</td>\n            <td>None</td>\n            <td>None</td>\n            <td>None</td>\n            <td>None</td>\n            <td>None</td>\n            <td>None</td>\n            <td>None</td>\n            <td>None</td>\n            <td>None</td>\n            <td>None</td>\n            <td>r</td>\n            <td>|po|</td>\n            <td>|bo|</td>\n            <td>None</td>\n            <td>None</td>\n            <td>None</td>\n            <td>None</td>\n            <td>None</td>\n            <td>None</td>\n            <td>T</td>\n            <td>2023-02-13 16:17:21</td>\n            <td>T</td>\n            <td>233</td>\n            <td>Locatiegegevens aan Organisatie.ipynb op basis van leerlingen.sqlite/leerlingen.json and all_with_gid.db</td>\n            <td>100</td>\n            <td>915dbbb1-84b0-4cb9-9409-0317b3f5d352</td>\n            <td>2023-02-13 16:17:21</td>\n            <td>19783</td>\n        </tr>\n        <tr>\n            <td>18492</td>\n            <td>SvS</td>\n            <td>64103761-65f6-467f-8369-0e3248468d36</td>\n            <td>Berg en Bosch Onderwijs</td>\n            <td>30265539</td>\n            <td>Professor Bronkhorstlaan</td>\n            <td>22</td>\n            <td>BILTHOVEN</td>\n            <td>(5.2099236,52.1529179)</td>\n            <td>f58e7f96-bc8d-43ee-adee-8047196d8861</td>\n            <td>None</td>\n            <td>None</td>\n            <td>NL</td>\n            <td>None</td>\n            <td>None</td>\n            <td>None</td>\n            <td>None</td>\n            <td>None</td>\n            <td>02RF</td>\n            <td>00</td>\n            <td>None</td>\n            <td>None</td>\n            <td>None</td>\n            <td>None</td>\n            <td>None</td>\n            <td>None</td>\n            <td>None</td>\n            <td>None</td>\n            <td>None</td>\n            <td>None</td>\n            <td>None</td>\n            <td>None</td>\n            <td>s</td>\n            <td>|so|vso|</td>\n            <td>None</td>\n            <td>None</td>\n            <td>None</td>\n            <td>None</td>\n            <td>None</td>\n            <td>None</td>\n            <td>None</td>\n            <td>T</td>\n            <td>2023-02-13 16:17:17</td>\n            <td>T</td>\n            <td>365</td>\n            <td>Locatiegegevens aan Organisatie.ipynb op basis van leerlingen.sqlite/leerlingen.json and all_with_gid.db</td>\n            <td>100</td>\n            <td>64103761-65f6-467f-8369-0e3248468d36</td>\n            <td>2023-02-13 16:17:17</td>\n            <td>18492</td>\n        </tr>\n        <tr>\n            <td>24943</td>\n            <td>SvS</td>\n            <td>342d9c43-5b17-4b37-ad26-15c827c83a5d</td>\n            <td>Openbare basischool De Zeevonk</td>\n            <td>34263476</td>\n            <td>Dr Jac P Thijsseweg</td>\n            <td>24</td>\n            <td>ZANDVOORT</td>\n            <td>(4.541327,52.3793)</td>\n            <td>5f4d72fd-58d9-4dcb-9251-afe1942b5f68</td>\n            <td>None</td>\n            <td>None</td>\n            <td>NL</td>\n            <td>None</td>\n            <td>None</td>\n            <td>None</td>\n            <td>None</td>\n            <td>None</td>\n            <td>09RU</td>\n            <td>00</td>\n            <td>None</td>\n            <td>None</td>\n            <td>2041BM</td>\n            <td>None</td>\n            <td>None</td>\n            <td>None</td>\n            <td>None</td>\n            <td>None</td>\n            <td>None</td>\n            <td>None</td>\n            <td>None</td>\n            <td>None</td>\n            <td>r</td>\n            <td>|po|</td>\n            <td>|VO-SO|</td>\n            <td>None</td>\n            <td>None</td>\n            <td>Openbaar</td>\n            <td>None</td>\n            <td>None</td>\n            <td>None</td>\n            <td>T</td>\n            <td>2024-01-24 14:53:04.029074</td>\n            <td>T</td>\n            <td>232</td>\n            <td>Romy&#x27;s scholenopdekaart data importer.ipynb (update_db_record)</td>\n            <td>150</td>\n            <td>342d9c43-5b17-4b37-ad26-15c827c83a5d</td>\n            <td>2024-01-24 14:53:04.029074</td>\n            <td>24943</td>\n        </tr>\n        <tr>\n            <td>17966</td>\n            <td>SvS</td>\n            <td>533ad823-f7f5-460e-bed5-d3ec53cf8c03</td>\n            <td>Samenwerkingsschool De Diamant</td>\n            <td>1107731</td>\n            <td>Buorren</td>\n            <td>34-A</td>\n            <td>OUDEGA GEM SMALLINGERLND</td>\n            <td>(5.9954931,53.1254223)</td>\n            <td>1d2d05b8-0ec9-4f28-a7aa-33b6edb92079</td>\n            <td>None</td>\n            <td>None</td>\n            <td>NL</td>\n            <td>None</td>\n            <td>None</td>\n            <td>None</td>\n            <td>None</td>\n            <td>None</td>\n            <td>06QJ</td>\n            <td>00</td>\n            <td>None</td>\n            <td>None</td>\n            <td>None</td>\n            <td>None</td>\n            <td>None</td>\n            <td>None</td>\n            <td>None</td>\n            <td>None</td>\n            <td>None</td>\n            <td>None</td>\n            <td>None</td>\n            <td>None</td>\n            <td>r</td>\n            <td>|po|</td>\n            <td>|bo|</td>\n            <td>None</td>\n            <td>None</td>\n            <td>None</td>\n            <td>None</td>\n            <td>None</td>\n            <td>None</td>\n            <td>T</td>\n            <td>2023-02-13 16:17:15</td>\n            <td>T</td>\n            <td>136</td>\n            <td>Locatiegegevens aan Organisatie.ipynb op basis van leerlingen.sqlite/leerlingen.json and all_with_gid.db</td>\n            <td>100</td>\n            <td>533ad823-f7f5-460e-bed5-d3ec53cf8c03</td>\n            <td>2023-02-13 16:17:15</td>\n            <td>17966</td>\n        </tr>\n        <tr>\n            <td>20145</td>\n            <td>SvS</td>\n            <td>9da21a16-bceb-48d3-909c-600c326a4d2a</td>\n            <td>School Met De Bijbel</td>\n            <td>30249028</td>\n            <td>Kerkstraat</td>\n            <td>7</td>\n            <td>RANDWIJK</td>\n            <td>(5.7114077,51.954166)</td>\n            <td>cb278b3f-9e43-4f90-9e97-ebe5f54dff27</td>\n            <td>None</td>\n            <td>None</td>\n            <td>NL</td>\n            <td>None</td>\n            <td>None</td>\n            <td>None</td>\n            <td>None</td>\n            <td>None</td>\n            <td>05XQ</td>\n            <td>00</td>\n            <td>None</td>\n            <td>None</td>\n            <td>None</td>\n            <td>None</td>\n            <td>None</td>\n            <td>None</td>\n            <td>None</td>\n            <td>None</td>\n            <td>None</td>\n            <td>None</td>\n            <td>None</td>\n            <td>None</td>\n            <td>r</td>\n            <td>|po|</td>\n            <td>|bo|</td>\n            <td>None</td>\n            <td>None</td>\n            <td>None</td>\n            <td>None</td>\n            <td>None</td>\n            <td>None</td>\n            <td>T</td>\n            <td>2023-02-13 16:17:22</td>\n            <td>T</td>\n            <td>104</td>\n            <td>Locatiegegevens aan Organisatie.ipynb op basis van leerlingen.sqlite/leerlingen.json and all_with_gid.db</td>\n            <td>100</td>\n            <td>9da21a16-bceb-48d3-909c-600c326a4d2a</td>\n            <td>2023-02-13 16:17:22</td>\n            <td>20145</td>\n        </tr>\n        <tr>\n            <td>18612</td>\n            <td>SvS</td>\n            <td>685bce53-b879-4971-aaf9-976a603d4cad</td>\n            <td>Arembergschool</td>\n            <td>71767789</td>\n            <td>Julianastraat</td>\n            <td>2</td>\n            <td>ZWARTSLUIS</td>\n            <td>(6.0693034,52.6441632)</td>\n            <td>778ce8c7-b98c-40b0-8e1c-1aaa8e112bd1</td>\n            <td>None</td>\n            <td>None</td>\n            <td>NL</td>\n            <td>None</td>\n            <td>None</td>\n            <td>None</td>\n            <td>None</td>\n            <td>None</td>\n            <td>03FU</td>\n            <td>00</td>\n            <td>None</td>\n            <td>None</td>\n            <td>None</td>\n            <td>None</td>\n            <td>None</td>\n            <td>None</td>\n            <td>None</td>\n            <td>None</td>\n            <td>None</td>\n            <td>None</td>\n            <td>None</td>\n            <td>None</td>\n            <td>r</td>\n            <td>|po|</td>\n            <td>|bo|</td>\n            <td>None</td>\n            <td>None</td>\n            <td>None</td>\n            <td>None</td>\n            <td>None</td>\n            <td>None</td>\n            <td>T</td>\n            <td>2023-02-13 16:17:17</td>\n            <td>T</td>\n            <td>144</td>\n            <td>Locatiegegevens aan Organisatie.ipynb op basis van leerlingen.sqlite/leerlingen.json and all_with_gid.db</td>\n            <td>100</td>\n            <td>685bce53-b879-4971-aaf9-976a603d4cad</td>\n            <td>2023-02-13 16:17:17</td>\n            <td>18612</td>\n        </tr>\n        <tr>\n            <td>24916</td>\n            <td>SvS</td>\n            <td>7ede95b3-c121-46b1-8019-88a3456cda6e</td>\n            <td>OBS J.H. Isings</td>\n            <td>8141209</td>\n            <td>Emperweg</td>\n            <td>70</td>\n            <td>EMPE</td>\n            <td>(6.134757,52.153316)</td>\n            <td>030b73ab-2aef-4f5e-a8e3-271c73aeb40a</td>\n            <td>None</td>\n            <td>None</td>\n            <td>NL</td>\n            <td>None</td>\n            <td>None</td>\n            <td>None</td>\n            <td>None</td>\n            <td>None</td>\n            <td>12VJ</td>\n            <td>00</td>\n            <td>None</td>\n            <td>None</td>\n            <td>7399AG</td>\n            <td>None</td>\n            <td>None</td>\n            <td>None</td>\n            <td>None</td>\n            <td>None</td>\n            <td>None</td>\n            <td>None</td>\n            <td>None</td>\n            <td>None</td>\n            <td>r</td>\n            <td>|po|</td>\n            <td>|VO SO|</td>\n            <td>None</td>\n            <td>None</td>\n            <td>Openbaar</td>\n            <td>None</td>\n            <td>None</td>\n            <td>None</td>\n            <td>T</td>\n            <td>2024-01-24 14:52:40.792140</td>\n            <td>T</td>\n            <td>74</td>\n            <td>Romy&#x27;s scholenopdekaart data importer.ipynb (update_db_record)</td>\n            <td>150</td>\n            <td>7ede95b3-c121-46b1-8019-88a3456cda6e</td>\n            <td>2024-01-24 14:52:40.792140</td>\n            <td>24916</td>\n        </tr>\n        <tr>\n            <td>24798</td>\n            <td>SvS</td>\n            <td>693230ad-8eee-47a5-8fb0-d6fde96f3e8c</td>\n            <td>Basisschool de Wegwijzer</td>\n            <td>40062585</td>\n            <td>Winde</td>\n            <td>37</td>\n            <td>KAMPEN</td>\n            <td>(5.9025317,52.5554373)</td>\n            <td>442ef02c-2dd2-4078-92d3-311c420ce5e1</td>\n            <td>2023-10-06 07:10:38</td>\n            <td>evaslagboom@gmail.com</td>\n            <td>NL</td>\n            <td>de Wegwijzer</td>\n            <td>https://www.wegwijzerschoolkampen.nl/</td>\n            <td>directie@wegwijzerschool.nl</td>\n            <td>None</td>\n            <td>None</td>\n            <td>13TQ</td>\n            <td>00</td>\n            <td>21216894</td>\n            <td>038 33 166 10</td>\n            <td>8265 ED</td>\n            <td>None</td>\n            <td>None</td>\n            <td>None</td>\n            <td>None</td>\n            <td>None</td>\n            <td>None</td>\n            <td>None</td>\n            <td>None</td>\n            <td>https://magazine.iriskampen.nl/wegwijzer/schoolgids</td>\n            <td>r</td>\n            <td>|po|</td>\n            <td>|bo|</td>\n            <td>None</td>\n            <td>None</td>\n            <td>None</td>\n            <td>None</td>\n            <td>|Gymnastiek|</td>\n            <td>e330aa8e-70c1-4379-a54e-ea4112ca3344</td>\n            <td>T</td>\n            <td>2023-10-06 07:10:38</td>\n            <td>T</td>\n            <td>100</td>\n            <td>evaslagboom@gmail.com</td>\n            <td>200</td>\n            <td>693230ad-8eee-47a5-8fb0-d6fde96f3e8c</td>\n            <td>2023-10-06 07:10:38</td>\n            <td>24798</td>\n        </tr>\n        <tr>\n            <td>22631</td>\n            <td>SvS</td>\n            <td>f3ad1199-5b5c-45d2-bf7d-31c6b12bc499</td>\n            <td>Openbare Basisschool De Bieshaar</td>\n            <td>52479013</td>\n            <td>Kraailandhof</td>\n            <td>3</td>\n            <td>HOOGLAND</td>\n            <td>(5.3737706,52.1877438)</td>\n            <td>1b02585c-c6c6-4db9-9e93-d7704fdd4221</td>\n            <td>None</td>\n            <td>None</td>\n            <td>NL</td>\n            <td>None</td>\n            <td>None</td>\n            <td>None</td>\n            <td>None</td>\n            <td>None</td>\n            <td>16HT</td>\n            <td>00</td>\n            <td>None</td>\n            <td>None</td>\n            <td>None</td>\n            <td>None</td>\n            <td>None</td>\n            <td>None</td>\n            <td>None</td>\n            <td>None</td>\n            <td>None</td>\n            <td>None</td>\n            <td>None</td>\n            <td>None</td>\n            <td>r</td>\n            <td>|po|</td>\n            <td>|bo|</td>\n            <td>None</td>\n            <td>None</td>\n            <td>None</td>\n            <td>None</td>\n            <td>None</td>\n            <td>None</td>\n            <td>T</td>\n            <td>2023-02-13 16:17:29</td>\n            <td>T</td>\n            <td>303</td>\n            <td>Locatiegegevens aan Organisatie.ipynb op basis van leerlingen.sqlite/leerlingen.json and all_with_gid.db</td>\n            <td>100</td>\n            <td>f3ad1199-5b5c-45d2-bf7d-31c6b12bc499</td>\n            <td>2023-02-13 16:17:29</td>\n            <td>22631</td>\n        </tr>\n        <tr>\n            <td>22573</td>\n            <td>SvS</td>\n            <td>f1f9b838-1ba7-42f8-bd6b-cc0f31e10cc8</td>\n            <td>Sin Victorschool</td>\n            <td>11054744</td>\n            <td>De Gaard</td>\n            <td>19</td>\n            <td>AFFERDEN GLD</td>\n            <td>(5.6341069,51.8803512)</td>\n            <td>02f9aeda-a33f-4b9e-beb1-550813c61520</td>\n            <td>None</td>\n            <td>None</td>\n            <td>NL</td>\n            <td>None</td>\n            <td>None</td>\n            <td>None</td>\n            <td>None</td>\n            <td>None</td>\n            <td>06SW</td>\n            <td>00</td>\n            <td>None</td>\n            <td>None</td>\n            <td>None</td>\n            <td>None</td>\n            <td>None</td>\n            <td>None</td>\n            <td>None</td>\n            <td>None</td>\n            <td>None</td>\n            <td>None</td>\n            <td>None</td>\n            <td>None</td>\n            <td>r</td>\n            <td>|po|</td>\n            <td>|bo|</td>\n            <td>None</td>\n            <td>None</td>\n            <td>None</td>\n            <td>None</td>\n            <td>None</td>\n            <td>None</td>\n            <td>T</td>\n            <td>2023-02-13 16:17:29</td>\n            <td>T</td>\n            <td>123</td>\n            <td>Locatiegegevens aan Organisatie.ipynb op basis van leerlingen.sqlite/leerlingen.json and all_with_gid.db</td>\n            <td>100</td>\n            <td>f1f9b838-1ba7-42f8-bd6b-cc0f31e10cc8</td>\n            <td>2023-02-13 16:17:29</td>\n            <td>22573</td>\n        </tr>\n    </tbody>\n</table>"
     },
     "execution_count": 8,
     "metadata": {},
     "output_type": "execute_result"
    }
   ],
   "source": [
    "%%sql\n",
    "with o_effdt as \n",
    "(select gid, max(effdt), max(id) as id from organisation where effdt <= now() group by gid)\n",
    "select * \n",
    "  from organisation o \n",
    "  inner join o_effdt on o.id = o_effdt.id\n",
    "limit 10"
   ]
  },
  {
   "cell_type": "code",
   "execution_count": 30,
   "id": "bce5790f-ef75-462c-b2f9-6e60adeb2eed",
   "metadata": {
    "collapsed": false,
    "ExecuteTime": {
     "end_time": "2024-01-24T15:11:09.967439151Z",
     "start_time": "2024-01-24T15:11:09.848280153Z"
    }
   },
   "outputs": [],
   "source": [
    "def check_for_end_of_number(char, next_char):\n",
    "    # Check if the current character is a space and the next character is a letter, if so it's the end of the number\n",
    "    if char == ' ' and next_char.isalpha():\n",
    "        return 'end_of_number'\n",
    "\n",
    "def process_address(address, number, street, continue_number=True):\n",
    "    # base case\n",
    "    if not address:\n",
    "        return number, street\n",
    "    # Check if we should stop continuing the number, because we've reached the end of it\n",
    "    if not continue_number:\n",
    "        return number, street\n",
    "\n",
    "    # Process the last character of the address\n",
    "    last_char = address[-1]\n",
    "    rest_of_address = address[:-1]\n",
    "\n",
    "    # Update number and street\n",
    "    # NOTE: number is reversed, so to have the correct order you need to add [::-1]\n",
    "    number += last_char if continue_number else \"\"\n",
    "    street = rest_of_address\n",
    "    next_char = \"\" if not rest_of_address else rest_of_address[-1]\n",
    "\n",
    "    # Classify the last character\n",
    "    char_classification = check_for_end_of_number(last_char, next_char)\n",
    "\n",
    "    # Update the continue_number flag based on classification\n",
    "    if char_classification == 'end_of_number':\n",
    "        continue_number = False\n",
    "\n",
    "    # Continue processing the rest of the address\n",
    "    return process_address(rest_of_address, number, street, continue_number)\n",
    "\n",
    "\n",
    "def update_db_record(db_row_gid, api_row_data):\n",
    "    \"\"\"\n",
    "    Update een database record met nieuwe waarden.\n",
    "\n",
    "    Args:\n",
    "        db_row_gid (str): GID van het database record.\n",
    "        api_row_data (dict): Gegevens van het API-record.\n",
    "    \"\"\"\n",
    "    last_db_row = db.executesql('''\n",
    "        SELECT *\n",
    "        FROM organisation\n",
    "        WHERE gid = %s\n",
    "        ORDER BY effdt DESC\n",
    "        LIMIT 1\n",
    "    ''', (db_row_gid,), as_dict=True)[0]\n",
    "    new_values = {\n",
    "        'name': api_row_data['api_row_naam'] if api_row_data['api_row_naam'] else last_db_row['name'],\n",
    "        'concept': api_row_data['api_row_onderwijsconcept'] if api_row_data['api_row_onderwijsconcept'] else last_db_row['concept'],\n",
    "        'street': api_row_data['api_row_street'] if api_row_data['api_row_street'] else last_db_row['street'],\n",
    "        'number': api_row_data['api_row_number'] if api_row_data['api_row_number'] else last_db_row['number'],\n",
    "        'postalcode': api_row_data['api_row_postcode'] if api_row_data['api_row_postcode'] else last_db_row['postalcode'],\n",
    "        'city': api_row_data['api_row_plaats'] if api_row_data['api_row_plaats'] else last_db_row['city'],\n",
    "        'brin': api_row_data['api_row_brin'] if api_row_data['api_row_brin'] else last_db_row['brin'],\n",
    "        'vestigingscode': api_row_data['api_row_vestigingscode'] if api_row_data['api_row_vestigingscode'] else last_db_row['vestigingscode'],\n",
    "        'lonlat': (api_row_data['api_row_longitude'], api_row_data['api_row_latitude']) if api_row_data['api_row_longitude'] is not None or api_row_data['api_row_latitude'] is not None else last_db_row['lonlat'],\n",
    "        'sector': api_row_data['api_row_onderwijstype'], # er is geen None waarde, dus altijd overnemen\n",
    "        # 'education_level': remove_weird_tokens(last_db_row['education_level']) if last_db_row['education_level'] else None,\n",
    "        'education_level': tuple(level for level in last_db_row['education_level'].split('|') if level != '') if last_db_row['education_level'] else None,\n",
    "        'subjects_with_specialised_teachers': tuple(level for level in last_db_row['subjects_with_specialised_teachers'].split('|') if level != '') if last_db_row['subjects_with_specialised_teachers'] else None,\n",
    "        'student_count': api_row_data['api_row_aantalleerlingen'] if api_row_data['api_row_aantalleerlingen'] != 1 else last_db_row['student_count'],\n",
    "        'effdt': 'NOW()',\n",
    "        'denomination': api_row_data['api_row_denominatie'], # komt sowieso niet voor, dus altijd overnemen\n",
    "        'prio': 150\n",
    "    }\n",
    "    db.organisation.sector.filter_in = lambda value: 'po' if value == 'BO' else value.lower()\n",
    "    #db_record = db(db.organisation.gid == db_row_gid).select().first().as_dict()\n",
    "    last_db_row.update(new_values)\n",
    "    # remove ivm duplicate key value, dit moet een nieuwe row zijn\n",
    "    del last_db_row['id']\n",
    "    # deze nieuwe regel is niet gevalideerd, dus mogelijke waarden van validatie niet overnemen, default is null \n",
    "    del last_db_row['validated_by']\n",
    "    del last_db_row['validated_ts']\n",
    "    # aangegeven dat dit bestand de bron is. \n",
    "    last_db_row['last_saved_by'] = 'Romy\\'s scholenopdekaart data importer.ipynb (update_db_record)'\n",
    "    db.organisation.insert(**last_db_row)\n",
    "\n",
    "\n",
    "\n",
    "def onderzoek_en_verzamel_gevonden_waarden(api_data):\n",
    "    \"\"\"\n",
    "    Onderzoekt de meest voorkomende waarden in de 'brinvests' van de API-gegevens en verzamelt gevonden waarden.\n",
    "\n",
    "    Args:\n",
    "        api_data (list): Lijst van API-gegevens.\n",
    "\n",
    "    Returns:\n",
    "        Tuple: Tuple van (gevonden_waarden).\n",
    "    \"\"\"\n",
    "    # Onderzoek de meest voorkomende waarden in de 'brinvests' van de API-gegevens\n",
    "    onderzoek = collections.Counter([x['brinvests'] for x in api_data])\n",
    "    meest_voorkomend = onderzoek.most_common()\n",
    "    meest_voorkomend_minstens_2 = [(woord, aantal) for woord, aantal in meest_voorkomend if aantal >= 2]\n",
    "\n",
    "    # Lijst om gevonden waarden op te slaan\n",
    "    gevonden_waarden = []\n",
    "\n",
    "    # Parse de JSON-geformatteerde strings en verzamel gevonden waarden\n",
    "    for json_str, _ in meest_voorkomend_minstens_2:\n",
    "        data_list = json.loads(json_str.replace(\"'\", \"\\\"\")) if json_str else None\n",
    "        if data_list:\n",
    "            gevonden_waarden.extend([(item, _) for item in data_list])\n",
    "\n",
    "    # Houd het aantal per combinatie bij\n",
    "    aantal_per_combinatie = collections.Counter()\n",
    "\n",
    "    # Handmatig het aantal bijhouden\n",
    "    for item, aantal in gevonden_waarden:\n",
    "        db_row_brin = item['instelling']\n",
    "        db_row_vestigingscode = item['vestiging']\n",
    "        aantal_per_combinatie[(db_row_brin, db_row_vestigingscode)] += aantal\n",
    "\n",
    "    return gevonden_waarden, aantal\n",
    "\n",
    "\n",
    "def rows_requirements(api_row, db_row=None):\n",
    "    api_row_brinvests_in_json = json.loads(api_row['brinvests'])\n",
    "    for api_brinvests in api_row_brinvests_in_json:\n",
    "        api_row_brinvest = api_brinvests['instelling'].upper().strip() + api_brinvests['vestiging'].upper().strip() if api_brinvests['instelling'] or api_brinvests['vestiging'] else 'None_api_brinvests'\n",
    "        api_row_brin = api_brinvests['instelling'].upper().strip() if api_brinvests['instelling'] else None\n",
    "        api_row_vestigingscode = api_brinvests['vestiging'].upper().strip() if api_brinvests['vestiging'] else None\n",
    "        api_row_naam = api_row['naam']\n",
    "        api_row_postcode = api_row['postcode'].replace(' ', '').upper() if api_row['postcode'] else None\n",
    "        api_row_adres = api_row['adres'] if api_row['adres'] else None\n",
    "        api_row_number, api_row_street = process_address(api_row_adres, \"\", \"\")\n",
    "        api_row_number = api_row_number[::-1].strip()\n",
    "        api_row_plaats = api_row['plaats'].upper()\n",
    "        api_row_longitude = api_row['longitude']\n",
    "        api_row_latitude = api_row['latitude']\n",
    "        api_row_aantalleerlingen = api_row['aantalleerlingen'] if api_row['aantalleerlingen'] else None\n",
    "        api_row_onderwijsconcept = api_row['onderwijsconcept'] if api_row['onderwijsconcept'] else None\n",
    "        api_row_bisid = api_row['bisId']\n",
    "        api_row_denominatie = api_row['denominatie']\n",
    "        api_row_onderwijstype = api_row['onderwijstype']\n",
    "        db_row_brinvest = None\n",
    "        db_row_brin = None\n",
    "        db_row_vestigingscode = None\n",
    "        db_row_gid = None\n",
    "        combinatie = None\n",
    "        if db_row is not None:\n",
    "            db_row_brinvest = db_row['brin'].upper().strip() + db_row['vestigingscode'].upper().strip() if db_row['brin'] or db_row['vestigingscode'] else 'None_db_brinvest'\n",
    "            db_row_brin = db_row['brin'].upper().strip() if db_row['brin'] else \"None_db_brin\"\n",
    "            db_row_vestigingscode = db_row['vestigingscode'].upper().strip() if db_row['vestigingscode'] else \"None_db_vestigingscode\"\n",
    "            db_row_gid = db_row['gid']\n",
    "            combinatie = (db_row_brin, db_row_vestigingscode)\n",
    "            \n",
    "\n",
    "        return locals()\n",
    "    \n",
    "# Een lijst met dictionaries die de databasegegevens bevatten.\n",
    "db_data = db.executesql('''\n",
    "        WITH o_effdt AS (\n",
    "            SELECT gid, MAX(effdt) AS max_effdt, MAX(id) AS id\n",
    "            FROM organisation\n",
    "            WHERE effdt <= NOW()\n",
    "            GROUP BY gid\n",
    "        )\n",
    "        SELECT o.gid, o.name, o.concept, o.street, o.number, o.postalcode, o.city, o.brin, o.vestigingscode, o.lonlat, o.student_count\n",
    "        FROM organisation AS o\n",
    "        INNER JOIN o_effdt ON o.id = o_effdt.id\n",
    "        WHERE o.effstatus = 'T'\n",
    "    ''', as_dict=True)\n",
    "\n",
    "# API-gegevens\n",
    "api_data = source_orgs\n",
    "\n",
    "# Gebruik van de functie om dubbele brinvest waardes eruit te vissen om later te kijken welke het beste ratio heeft vergeleken de brinvest uit de db\n",
    "dubbele_brinvest_waardes = onderzoek_en_verzamel_gevonden_waarden(api_data)\n",
    "dubbele_brinvest_list = []\n",
    "best_match_brinvest_dict = {}\n",
    "for dubbele_brinvest_waarde in dubbele_brinvest_waardes[0]:\n",
    "    (brinvest_dict, aantal) = dubbele_brinvest_waarde\n",
    "    brinvest = brinvest_dict['instelling'] + brinvest_dict['vestiging'] if brinvest_dict['instelling'] and brinvest_dict['vestiging'] else 'None_brinvest'\n",
    "    dubbele_brinvest_list.append(brinvest)\n",
    "\n",
    "# Verzamel unieke waarden van de sleutels uit de database\n",
    "handled_values_for_duplicates_db = set()\n",
    "handled_values_for_duplicates_api = set()"
   ]
  },
  {
   "cell_type": "code",
   "outputs": [],
   "source": [
    "db.rollback()"
   ],
   "metadata": {
    "collapsed": false,
    "ExecuteTime": {
     "end_time": "2024-01-24T13:54:31.339594235Z",
     "start_time": "2024-01-24T13:54:31.310758001Z"
    }
   },
   "id": "14cbac8501434f8b",
   "execution_count": 63
  },
  {
   "cell_type": "code",
   "execution_count": 64,
   "id": "1dafbf99-bc07-4bae-9adb-717b2ec3a385",
   "metadata": {
    "collapsed": false,
    "ExecuteTime": {
     "end_time": "2024-01-24T13:54:32.566013513Z",
     "start_time": "2024-01-24T13:54:32.429210641Z"
    }
   },
   "outputs": [
    {
     "name": "stderr",
     "output_type": "stream",
     "text": [
      "y|  db(db.organisation).select(db.organisation.id.max()).first()[db.organisation.id.max()]: 25051\n"
     ]
    }
   ],
   "source": [
    "max_before_inserts = y(db(db.organisation).select(db.organisation.id.max()).first()[db.organisation.id.max()])"
   ]
  },
  {
   "cell_type": "code",
   "execution_count": 31,
   "id": "5907c5d2-fcb2-496a-9b5c-bbf597a1ce7b",
   "metadata": {
    "collapsed": false,
    "ExecuteTime": {
     "end_time": "2024-01-24T15:30:10.266462847Z",
     "start_time": "2024-01-24T15:11:11.777795344Z"
    }
   },
   "outputs": [
    {
     "name": "stderr",
     "output_type": "stream",
     "text": [
      "100%|██████████| 7691/7691 [18:53<00:00,  6.78it/s]\n",
      "100%|██████████| 346/346 [00:01<00:00, 236.99it/s]\n",
      "100%|██████████| 8869/8869 [00:03<00:00, 2652.18it/s]"
     ]
    },
    {
     "name": "stdout",
     "output_type": "stream",
     "text": [
      "klaar\n"
     ]
    },
    {
     "name": "stderr",
     "output_type": "stream",
     "text": [
      "\n"
     ]
    }
   ],
   "source": [
    "for db_row in tqdm(db_data):\n",
    "    for api_row in api_data:\n",
    "        pair = (api_row['bisId'], api_row['onderwijstype'])\n",
    "        double_brinvest_dict_temp = {'ratio' : set(), 'row_requirements': []}\n",
    "        for row_requirements in [rows_requirements(api_row, db_row)]:\n",
    "            if row_requirements['db_row_brinvest'] == row_requirements['api_row_brinvest'] and not row_requirements['db_row_gid'] in handled_values_for_duplicates_db and not pair in handled_values_for_duplicates_api:\n",
    "                if row_requirements['api_row_brinvest'] in dubbele_brinvest_list:\n",
    "                    naam_ratio = fuzz.ratio(db_row['name'].lower(), row_requirements['api_row_naam'].lower())\n",
    "                    plaats_ratio = fuzz.ratio(db_row['city'].lower().split()[0] if db_row['city'] else 'None_db_city', row_requirements['api_row_plaats'].lower().split()[0] if row_requirements['api_row_plaats'] else 'None_api_plaats')\n",
    "                    adres_ratio = fuzz.ratio(db_row['street'].lower(), row_requirements['api_row_street'].lower())\n",
    "                    add_together_ratio = (naam_ratio + plaats_ratio + adres_ratio)\n",
    "                    double_brinvest_dict_temp['ratio'] = add_together_ratio\n",
    "                    double_brinvest_dict_temp['row_requirements'] = [row_requirements]\n",
    "                    brinvest_key = row_requirements['api_row_brinvest']\n",
    "                    if brinvest_key not in best_match_brinvest_dict:\n",
    "                        best_match_brinvest_dict[brinvest_key] = double_brinvest_dict_temp\n",
    "                    else:\n",
    "                        existing_brinvest_key = best_match_brinvest_dict[brinvest_key]\n",
    "                        existing_ratio = existing_brinvest_key['ratio']\n",
    "                        new_ratio = double_brinvest_dict_temp['ratio']\n",
    "                        if new_ratio > existing_ratio:\n",
    "                            (best_match_brinvest_dict.\n",
    "                             update({brinvest_key: {'ratio': double_brinvest_dict_temp['ratio'], 'row_requirements': double_brinvest_dict_temp['row_requirements']}}))\n",
    "                else:\n",
    "                    update_db_record(row_requirements['db_row_gid'], row_requirements)\n",
    "                    handled_values_for_duplicates_db.add(row_requirements['db_row_gid'])\n",
    "                    handled_values_for_duplicates_api.add(pair)\n",
    "                    break\n",
    "\n",
    "\n",
    "for brinvest_key, ratio_and_row_requirements in tqdm(best_match_brinvest_dict.items()):\n",
    "    for row_requirement in ratio_and_row_requirements['row_requirements']:\n",
    "        pair = (row_requirement['api_row']['bisId'], row_requirement['api_row']['onderwijstype'])\n",
    "        db_row_gid = row_requirement['db_row']['gid']\n",
    "        if db_row_gid not in handled_values_for_duplicates_db and pair not in handled_values_for_duplicates_api:\n",
    "            update_db_record(db_row_gid, row_requirement)\n",
    "            handled_values_for_duplicates_db.add(db_row_gid)\n",
    "            handled_values_for_duplicates_api.add(pair)\n",
    "\n",
    "\n",
    "for api_row in tqdm(api_data):\n",
    "    pair = (api_row['bisId'], api_row['onderwijstype'])\n",
    "    for row_requirements in [rows_requirements(api_row)]:\n",
    "        if pair not in handled_values_for_duplicates_api:\n",
    "            new_values = {\n",
    "                    'gid': uuid.uuid4(),\n",
    "                    'name': row_requirements['api_row_naam'],\n",
    "                    'concept': row_requirements['api_row_onderwijsconcept'],\n",
    "                    'street': row_requirements['api_row_street'],\n",
    "                    'number': row_requirements['api_row_number'],\n",
    "                    'postalcode': row_requirements['api_row_postcode'],\n",
    "                    'city': row_requirements['api_row_plaats'],\n",
    "                    'brin': row_requirements['api_row_brin'],\n",
    "                    'vestigingscode': row_requirements['api_row_vestigingscode'],\n",
    "                    'lonlat': (row_requirements['api_row_longitude'], row_requirements['api_row_latitude']) if row_requirements['api_row_longitude'] is not None and row_requirements['api_row_latitude'] is not None else None,\n",
    "                    'sector': row_requirements['api_row_onderwijstype'],\n",
    "                    'student_count': row_requirements['api_row_aantalleerlingen'],\n",
    "                    'effdt': 'NOW()',\n",
    "                    'prio': 150, \n",
    "                    'denomination': row_requirements['api_row_denominatie'],\n",
    "                    'last_saved_by': 'Romy\\'s scholenopdekaart data importer.ipynb (nieuwe scholen)'\n",
    "                }\n",
    "                \n",
    "            db.organisation.lonlat.filter_in = lambda value: (value[0], value[1]) if value is not None else None\n",
    "            db.organisation.sector.filter_in = lambda value: 'po' if value == 'BO' else value.lower()\n",
    "            db.organisation.insert(**new_values)\n",
    "            handled_values_for_duplicates_api.add(pair)\n",
    "            break\n",
    "print('klaar')"
   ]
  },
  {
   "cell_type": "code",
   "execution_count": 32,
   "id": "e2f82a87-de7c-492c-8b13-600157cae10a",
   "metadata": {
    "ExecuteTime": {
     "end_time": "2024-01-24T15:31:33.149855085Z",
     "start_time": "2024-01-24T15:31:33.121720626Z"
    }
   },
   "outputs": [],
   "source": [
    "db.commit()"
   ]
  },
  {
   "cell_type": "code",
   "outputs": [],
   "source": [
    "handled_values_for_duplicates_api_dict = set()\n",
    "count = 0\n",
    "\n",
    "for api_row in api_data:\n",
    "    pair = (api_row['bisId'], api_row['onderwijstype'])\n",
    "    if pair not in handled_values_for_duplicates_api_dict:\n",
    "        handled_values_for_duplicates_api_dict.add(pair)\n",
    "    else:\n",
    "        count += 1\n",
    "    if api_row['bisId'] == 23250:\n",
    "        print(api_row)\n",
    "\n",
    "print(len(handled_values_for_duplicates_api_dict))\n"
   ],
   "metadata": {
    "collapsed": false,
    "ExecuteTime": {
     "end_time": "2024-01-23T14:44:01.146149580Z",
     "start_time": "2024-01-23T14:44:01.146052915Z"
    }
   },
   "id": "99f4866c67aeca11",
   "execution_count": null
  }
 ],
 "metadata": {
  "kernelspec": {
   "display_name": "Python 3 (ipykernel)",
   "language": "python",
   "name": "python3"
  },
  "language_info": {
   "codemirror_mode": {
    "name": "ipython",
    "version": 3
   },
   "file_extension": ".py",
   "mimetype": "text/x-python",
   "name": "python",
   "nbconvert_exporter": "python",
   "pygments_lexer": "ipython3",
   "version": "3.10.6"
  }
 },
 "nbformat": 4,
 "nbformat_minor": 5
}
