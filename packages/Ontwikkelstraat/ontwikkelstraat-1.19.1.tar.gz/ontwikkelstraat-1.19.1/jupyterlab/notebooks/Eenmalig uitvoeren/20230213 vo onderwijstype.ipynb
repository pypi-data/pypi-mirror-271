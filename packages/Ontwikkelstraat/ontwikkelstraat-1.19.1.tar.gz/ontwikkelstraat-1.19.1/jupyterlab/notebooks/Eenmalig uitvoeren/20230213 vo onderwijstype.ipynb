{
 "cells": [
  {
   "cell_type": "code",
   "execution_count": 4,
   "metadata": {
    "collapsed": true
   },
   "outputs": [],
   "source": [
    "from edwh.core.backend.support import Environment\n",
    "import datetime\n",
    "#!pip install ujson  > /dev/null\n",
    "# import ujson\n",
    "!pip install dill tqdm pandas > /dev/null 2>&1\n",
    "import dill\n",
    "from tqdm import tqdm\n",
    "tqdm.pandas(desc='Jupyter')"
   ]
  },
  {
   "cell_type": "code",
   "execution_count": 5,
   "outputs": [
    {
     "name": "stderr",
     "output_type": "stream",
     "text": [
      "/shared_code/edwh/core/pgcache/__init__.py:89: UserWarning: Magic aangeroepn, dat klopt nie. \n",
      "  warnings.warn(\"Magic aangeroepn, dat klopt nie. \")\n"
     ]
    }
   ],
   "source": [
    "env = Environment(long_running=True)\n",
    "# orgtable = env.db.organisation\n",
    "# org2 = env.db.organisation_effdted_now\n",
    "# rows = env.db(org2).select(limitby=(0,10))\n",
    "# items = env.backend.search_items(None, search='', search_in=['name', 'description'])"
   ],
   "metadata": {
    "collapsed": false
   }
  },
  {
   "cell_type": "code",
   "execution_count": 64,
   "outputs": [],
   "source": [
    "from pydal import DAL, Field\n",
    "vodb = DAL('sqlite://vo.db', folder='work/data', migrate=False )\n",
    "def clean(onderwijstype):\n",
    "    geschoond_type = re.sub(r'[0-9]-[0-9]','',onderwijstype.replace('lj',''))\n",
    "    geschoond_type = re.sub(r'[0-9]','',geschoond_type)\n",
    "    geschoond_type = re.sub(r'uitbest. aan VAVO','',geschoond_type)\n",
    "    if 'Praktijkonderwijs' in geschoond_type:\n",
    "        geschoond_type = 'Praktijkonderwijs'\n",
    "    return geschoond_type.strip()\n",
    "vodb._adapter.connection.create_function(\"clean\", 1, clean)"
   ],
   "metadata": {
    "collapsed": false
   }
  },
  {
   "cell_type": "code",
   "execution_count": 71,
   "outputs": [
    {
     "data": {
      "text/plain": "[('00AH', 0, 'Brugjaar'),\n ('00AH', 0, 'HAVO'),\n ('00AH', 0, 'HAVO/VWO'),\n ('00AH', 0, 'VWO'),\n ('00AH', 7, 'Brugjaar'),\n ('00AH', 7, 'Engelse Stroom'),\n ('00AH', 7, 'HAVO'),\n ('00AH', 7, 'HAVO/VWO'),\n ('00AH', 7, 'Int. Baccelaureaat'),\n ('00AH', 7, 'VMBO TL'),\n ('00AH', 7, 'VWO'),\n ('00AH', 8, 'Brugjaar'),\n ('00AH', 8, 'VMBO TL'),\n ('00AH', 9, 'Brugjaar'),\n ('00AH', 9, 'HAVO'),\n ('00AH', 9, 'HAVO/VWO'),\n ('00AH', 9, 'VMBO TL'),\n ('00AH', 11, 'Brugjaar'),\n ('00AH', 17, 'Brugjaar'),\n ('00AH', 17, 'VMBO BL'),\n ('00AH', 17, 'VMBO KL'),\n ('00AH', 18, 'Brugjaar'),\n ('00AQ', 0, 'Brugjaar'),\n ('00AQ', 0, 'HAVO'),\n ('00AQ', 0, 'HAVO/VWO'),\n ('00AQ', 0, 'VMBO BL'),\n ('00AQ', 0, 'VMBO KL'),\n ('00AQ', 0, 'VMBO TL'),\n ('00AQ', 0, 'VWO'),\n ('00BD', 0, 'Brugjaar'),\n ('00BD', 0, 'HAVO'),\n ('00BD', 0, 'HAVO/VWO'),\n ('00BD', 0, 'VMBO BL'),\n ('00BD', 0, 'VMBO KL'),\n ('00BD', 0, 'VMBO TL'),\n ('00BD', 0, 'VWO'),\n ('00BD', 2, 'Brugjaar'),\n ('00BD', 2, 'HAVO/VWO'),\n ('00CB', 0, 'Brugjaar'),\n ('00CB', 0, 'HAVO'),\n ('00CB', 0, 'HAVO/VWO'),\n ('00CB', 0, 'VMBO'),\n ('00CB', 0, 'VMBO TL'),\n ('00CB', 0, 'VWO'),\n ('00CB', 1, 'Brugjaar'),\n ('00CB', 1, 'HAVO'),\n ('00CB', 1, 'HAVO/VWO'),\n ('00CB', 1, 'VMBO'),\n ('00CB', 1, 'VMBO TL'),\n ('00CB', 1, 'VWO'),\n ('00CB', 2, 'Brugjaar'),\n ('00CB', 2, 'HAVO'),\n ('00CB', 2, 'HAVO/VWO'),\n ('00CB', 2, 'VMBO'),\n ('00CB', 2, 'VMBO TL'),\n ('00CB', 2, 'VWO'),\n ('00CB', 4, 'Brugjaar'),\n ('00DI', 0, 'Brugjaar'),\n ('00DI', 0, 'VMBO BL'),\n ('00DI', 0, 'VMBO KL'),\n ('00DI', 1, 'Brugjaar'),\n ('00DI', 1, 'HAVO/VWO'),\n ('00DI', 1, 'VMBO'),\n ('00DI', 1, 'VMBO TL'),\n ('00DI', 2, 'Brugjaar'),\n ('00DI', 2, 'HAVO'),\n ('00DI', 2, 'HAVO/VWO'),\n ('00DI', 2, 'VWO'),\n ('00DI', 3, 'Brugjaar'),\n ('00DI', 3, 'VMBO BL'),\n ('00DI', 3, 'VMBO KL'),\n ('00DI', 3, 'VMBO TL'),\n ('00DI', 4, 'Praktijkonderwijs'),\n ('00DI', 6, 'Brugjaar'),\n ('00DI', 6, 'VMBO'),\n ('00DI', 6, 'VMBO TL'),\n ('00EF', 0, 'Brugjaar'),\n ('00EF', 0, 'VMBO BL'),\n ('00EF', 0, 'VMBO GL'),\n ('00EF', 0, 'VMBO KL'),\n ('00HI', 0, 'Brugjaar'),\n ('00HI', 0, 'HAVO'),\n ('00HI', 0, 'HAVO/VWO'),\n ('00HI', 0, 'VMBO'),\n ('00HI', 0, 'VMBO TL'),\n ('00HI', 0, 'VWO'),\n ('00HI', 3, 'Brugjaar'),\n ('00HI', 3, 'VMBO BL'),\n ('00HI', 3, 'VMBO GL'),\n ('00HI', 3, 'VMBO KL'),\n ('00IP', 0, 'Brugjaar'),\n ('00IP', 0, 'HAVO'),\n ('00IP', 0, 'HAVO/VWO'),\n ('00IP', 0, 'VMBO'),\n ('00IP', 0, 'VMBO TL'),\n ('00IP', 0, 'VWO'),\n ('00JR', 0, 'Brugjaar'),\n ('00JR', 0, 'HAVO'),\n ('00JR', 0, 'HAVO/VWO'),\n ('00JR', 0, 'VWO')]"
     },
     "metadata": {},
     "output_type": "display_data"
    }
   ],
   "source": [
    "prutsen = '''\n",
    "        select [brin nummer],\n",
    "                [vestigingsnummer],\n",
    "                \"ONDERWIJSTYPE VO EN LEER- OF VERBLIJFSJAAR\" as onderwijstype,\n",
    "                clean(\"ONDERWIJSTYPE VO EN LEER- OF VERBLIJFSJAAR\") as geschoond_type\n",
    "          from tsv1\n",
    "\n",
    "            sum(\n",
    "                        [LEER- OF VERBLIJFSJAAR 1 - MAN]+\n",
    "                        [LEER- OF VERBLIJFSJAAR 1 - VROUW]+\n",
    "                        [LEER- OF VERBLIJFSJAAR 2 - MAN]+\n",
    "                        [LEER- OF VERBLIJFSJAAR 2 - VROUW]+\n",
    "                        [LEER- OF VERBLIJFSJAAR 3 - MAN]+\n",
    "                        [LEER- OF VERBLIJFSJAAR 3 - VROUW]+\n",
    "                        [LEER- OF VERBLIJFSJAAR 4 - MAN]+\n",
    "                        [LEER- OF VERBLIJFSJAAR 4 - VROUW]+\n",
    "                        [LEER- OF VERBLIJFSJAAR 5 - MAN]+\n",
    "                        [LEER- OF VERBLIJFSJAAR 5 - VROUW]+\n",
    "                        [LEER- OF VERBLIJFSJAAR 6 - MAN]+\n",
    "                        [LEER- OF VERBLIJFSJAAR 6 - VROUW]\n",
    "                ) as llaantal\n",
    "\n",
    "    '''\n",
    "sql = '''\n",
    "select  [brin nummer],\n",
    "        [vestigingsnummer],\n",
    "        clean(\"ONDERWIJSTYPE VO EN LEER- OF VERBLIJFSJAAR\") as geschoond_type\n",
    "  from tsv1\n",
    "  group by [brin nummer], [vestigingsnummer], clean(\"ONDERWIJSTYPE VO EN LEER- OF VERBLIJFSJAAR\")\n",
    "'''\n",
    "output = vodb.executesql(sql)\n",
    "tabulate.tabulate(output, tablefmt='html')\n",
    "display(output[:100])"
   ],
   "metadata": {
    "collapsed": false
   }
  }
 ],
 "metadata": {
  "kernelspec": {
   "display_name": "Python 3",
   "language": "python",
   "name": "python3"
  },
  "language_info": {
   "codemirror_mode": {
    "name": "ipython",
    "version": 2
   },
   "file_extension": ".py",
   "mimetype": "text/x-python",
   "name": "python",
   "nbconvert_exporter": "python",
   "pygments_lexer": "ipython2",
   "version": "2.7.6"
  }
 },
 "nbformat": 4,
 "nbformat_minor": 0
}
