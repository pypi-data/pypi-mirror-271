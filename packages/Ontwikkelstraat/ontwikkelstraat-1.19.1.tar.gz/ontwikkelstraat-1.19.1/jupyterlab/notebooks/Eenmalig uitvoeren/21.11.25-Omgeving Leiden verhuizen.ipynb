{
 "cells": [
  {
   "cell_type": "markdown",
   "id": "0daaf436-f25e-4f5a-bbd9-a288b2572d56",
   "metadata": {},
   "source": [
    "# 'Omgeving Leiden' tag verhuizen en opschonen\n",
    "\n",
    "Het probleem is nu dat \n",
    " 1. `Omgeving Leiden` children heeft die verwijzen naar `item` gids en niet naar `tag` gids. \n",
    " 1. `Omgeving Leiden` op  een verkeerde plek in de boom staat\n"
   ]
  },
  {
   "cell_type": "code",
   "execution_count": null,
   "id": "2c2b5c3c-e7d8-4e25-9521-14879a0489f0",
   "metadata": {},
   "outputs": [],
   "source": [
    "%run ../__init__edwh__notebooks.ipynb"
   ]
  },
  {
   "cell_type": "markdown",
   "id": "25efc5be-54a8-4a4e-a582-5de7dedc89f7",
   "metadata": {},
   "source": [
    "# Probleem 1: .children\n",
    "Laten we beginnen met de Tag zelf. "
   ]
  },
  {
   "cell_type": "code",
   "execution_count": null,
   "id": "b0354059-d107-4c8c-af99-0774f493e66e",
   "metadata": {},
   "outputs": [],
   "source": [
    "tag = Tag(\"Omgeving Leiden\")"
   ]
  },
  {
   "cell_type": "markdown",
   "id": "bc5c58db-f7a8-4e68-8707-49ab027f9ed8",
   "metadata": {},
   "source": [
    "De `.children` waarnaar deze tag verwijst zijn gids uit de `item` tabel, en niet de `tag` tabel. Dat heb ik onjuist ingevoerd.  \n",
    "Eerst controleren we dat de gegevens inderdaad onjuist zijn:"
   ]
  },
  {
   "cell_type": "code",
   "execution_count": null,
   "id": "95139b52-99bb-401b-bb5c-cfbe667de1c5",
   "metadata": {},
   "outputs": [],
   "source": [
    "tag_children = tag.row.children\n",
    "len(tag_children)"
   ]
  },
  {
   "cell_type": "code",
   "execution_count": null,
   "id": "42c579ac-0872-40d0-9d22-a842b026e6f4",
   "metadata": {},
   "outputs": [],
   "source": [
    "# handig.names([Tag(_) for _ in tag_children])"
   ]
  },
  {
   "cell_type": "markdown",
   "id": "bea686ea-d1dd-4673-9a58-e6ccc4f92834",
   "metadata": {},
   "source": [
    "Hierboven zie je dat er geen tag voorkomt met dit gid.  \n",
    "Laten we de item tabel controleren: "
   ]
  },
  {
   "cell_type": "code",
   "execution_count": null,
   "id": "b0607ecf-d203-4ba8-a546-cd4c26c6c53a",
   "metadata": {},
   "outputs": [],
   "source": [
    "item_rows = db(db.item.gid.belongs(tag_children)).select(db.item.gid, db.item.name)\n",
    "for item_row in item_rows: \n",
    "    print(item_row)\n",
    "for child_tag in tag_children: \n",
    "    print(child_tag)\n",
    "    if child_tag not in [_.gid for _ in item_rows]:\n",
    "        # als dit niet geprint wordt zijn er geen tags die voorkomen, het zijn allemaal item tags. \n",
    "        print('echte child tag:',child_tag)"
   ]
  },
  {
   "cell_type": "markdown",
   "id": "2a126305-b57f-4346-98fe-7954c4c1ff9b",
   "metadata": {},
   "source": [
    "Hierboven zie je dat de `c534a1c2-6386-410d-9fad-18ff3a46542c` tag 2 keer voorkomt, zodat van de 11 gids, er 10 unieke zijn, en die 10 unieke gids komen dus voor in de items.   \n",
    "Wat betekend dat **alle** children van `Omgeving Leiden` items zijn, die hier niet in horen. Die mogen allemaal weg. "
   ]
  },
  {
   "cell_type": "code",
   "execution_count": null,
   "id": "a1a35bab-758f-4b46-a21e-60899a6780cc",
   "metadata": {},
   "outputs": [],
   "source": [
    "omgeving_leiden = Tag(\"Omgeving Leiden\")\n",
    "print('Voor de clear: Children van omgeving leiden:',omgeving_leiden.row.children)\n",
    "omgeving_leiden.row.update_record(children=[])\n",
    "print('Na de clear: Children van omgeving leiden:',omgeving_leiden.row.children)\n",
    "Tag.refresh(Tag.db)\n",
    "# herlaad zodat children leeg is, en de meest actuele versie van de database komt \n",
    "omgeving_leiden = Tag(\"Omgeving Leiden\")"
   ]
  },
  {
   "cell_type": "markdown",
   "id": "68ecc69f-eb8b-4283-8e79-9a7ba9065cd1",
   "metadata": {},
   "source": [
    "# Probleem 2: Verkeerde plek in de boom"
   ]
  },
  {
   "cell_type": "markdown",
   "id": "131d0355-8896-4150-b6d6-4e591c9a3873",
   "metadata": {},
   "source": [
    "## Er komt een nieuwe root node bij\n",
    "Omdat er meerdere omgevingsprojecten zijn (zoals leiden en zeeland) is het aannemelijk dat er meer bij komen. \n",
    "\n",
    "Daarom moet er een nieuwe rootnode bij komen \"Omgevingen\" waar een tag voor zeeland en bijvoorbeeld \"Omgeving Leiden\" bijkomen. \n",
    "\n",
    "Dus: \n",
    " 1. nieuwe tag `Omgevingen` zonder parent met metadata `System`\n",
    " 1. nieuwe tag `Omgeving Zeeland` met als parent `Omgevingen` en metadata `Item` (want het moet aan een item gekoppeld kunnen worden).  \n",
    " 1. aanpassing aan `Omgeving Leiden` met als parent `Omgevingen` en metadata `Item` (want het moet aan een item gekoppeld kunnen worden).  \n",
    " 1. op zoek naar alle items die eigenlijk bij Leiden horen (via school tags) en deze koppelen aan `Omgeving Leiden` als ze niet al gekoppeld zijn.  \n",
    "    Deze laatste bewerking valt onder een ander notebook, omdat dit regulatig uitgevoerd moet worden. \n",
    "   \n",
    " "
   ]
  },
  {
   "cell_type": "code",
   "execution_count": null,
   "id": "7c670a92-aa48-47bd-b253-2e9a139f39d5",
   "metadata": {},
   "outputs": [],
   "source": [
    "print('tag.parents:',handig.names(omgeving_leiden.parents()))\n",
    "print('tag.metatags:',handig.names(omgeving_leiden.metatags()))"
   ]
  },
  {
   "cell_type": "code",
   "execution_count": null,
   "id": "725a8ba1-e5bd-412e-879e-050e6de7bc82",
   "metadata": {},
   "outputs": [],
   "source": [
    "def _print(tag, parent, depth):\n",
    "    if tag == parent:\n",
    "        return False\n",
    "    print('   ' * depth, tag.name, handig.names(tag.metatags()))\n",
    "    if tag.name == 'User generated tags':\n",
    "        print('   ' * (depth + 1), ' *** hidden ***')\n",
    "    return tag.name != 'User generated tags'\n",
    "# 'parents' richting\n",
    "tag.walk(_print, direction='parents')"
   ]
  },
  {
   "cell_type": "markdown",
   "id": "f79573f3-a025-4fad-961f-24f5b6cd8d1e",
   "metadata": {
    "tags": []
   },
   "source": [
    "###  1. nieuwe tag `Omgevingen` zonder parent met metadata `System`"
   ]
  },
  {
   "cell_type": "code",
   "execution_count": null,
   "id": "098135b6-5e6f-437a-a2d0-f4ff1f93dc5a",
   "metadata": {},
   "outputs": [],
   "source": [
    "try:\n",
    "    TOmgevingen = Tag.new(\"Omgevingen\",\"Parent node voor omgeving tags.\", meta_tags=[TSystem])\n",
    "except:\n",
    "    TOmgevingen = Tag(\"Omgevingen\")\n",
    "TOmgevingen.walk(_print)"
   ]
  },
  {
   "cell_type": "code",
   "execution_count": null,
   "id": "12fe82e7-c12d-41a9-833d-140a9d98e245",
   "metadata": {},
   "outputs": [],
   "source": [
    "db.commit()"
   ]
  },
  {
   "cell_type": "markdown",
   "id": "e6abb2c9-2b22-4b19-ad4d-f2408c50f3fd",
   "metadata": {
    "tags": []
   },
   "source": [
    "###  2. nieuwe tag `Omgeving Zeeland` met als parent `Omgevingen` en metadata `Item`"
   ]
  },
  {
   "cell_type": "code",
   "execution_count": 32,
   "id": "3abd7352-dc46-44d1-a4d1-681d5bfe9000",
   "metadata": {},
   "outputs": [
    {
     "name": "stdout",
     "output_type": "stream",
     "text": [
      " Omgeving Zeeland ['System']\n"
     ]
    }
   ],
   "source": [
    "try:\n",
    "    TZeeland = Tag.new(\"Omgeving Zeeland\",\"Ervaringen uit Zeeland\", meta_tags=[TSystem], parents=[TOmgevingen])\n",
    "except:\n",
    "    pass \n",
    "Tag.refresh(Tag.db)\n",
    "TZeeland = Tag(\"Omgeving Zeeland\")\n",
    "TZeeland.walk(_print)\n",
    "db.commit()"
   ]
  },
  {
   "cell_type": "code",
   "execution_count": 33,
   "id": "d0868aaa-999d-4af7-8f76-5af7d8eef493",
   "metadata": {},
   "outputs": [
    {
     "name": "stdout",
     "output_type": "stream",
     "text": [
      " * postgresql://postgres@pgpool:5432/backend\n",
      "1 rows affected.\n"
     ]
    },
    {
     "data": {
      "text/html": [
       "<table>\n",
       "    <tr>\n",
       "        <th>id</th>\n",
       "        <th>platform</th>\n",
       "        <th>gid</th>\n",
       "        <th>name</th>\n",
       "        <th>slug</th>\n",
       "        <th>parents</th>\n",
       "        <th>description</th>\n",
       "        <th>meta_tags</th>\n",
       "        <th>children</th>\n",
       "    </tr>\n",
       "    <tr>\n",
       "        <td>32611</td>\n",
       "        <td>None</td>\n",
       "        <td>0b1b6d60-89e2-447d-8ce8-0ea257af8b71</td>\n",
       "        <td>Omgeving Zeeland</td>\n",
       "        <td>omgeving-zeeland</td>\n",
       "        <td>|c9e797f7-be49-44f6-a6ca-45dafb912022|</td>\n",
       "        <td>Ervaringen uit Zeeland</td>\n",
       "        <td>|19682a99-50a3-4fc0-bb67-e0f6eff5da55|</td>\n",
       "        <td>||</td>\n",
       "    </tr>\n",
       "</table>"
      ],
      "text/plain": [
       "[(32611, None, '0b1b6d60-89e2-447d-8ce8-0ea257af8b71', 'Omgeving Zeeland', 'omgeving-zeeland', '|c9e797f7-be49-44f6-a6ca-45dafb912022|', 'Ervaringen uit Zeeland', '|19682a99-50a3-4fc0-bb67-e0f6eff5da55|', '||')]"
      ]
     },
     "execution_count": 33,
     "metadata": {},
     "output_type": "execute_result"
    }
   ],
   "source": [
    "%%sql \n",
    "select * from tag where name = 'Omgeving Zeeland' order by id desc limit 1 "
   ]
  },
  {
   "cell_type": "code",
   "execution_count": null,
   "id": "8599167b-1f4e-4585-a3ba-778de7c2b932",
   "metadata": {},
   "outputs": [],
   "source": []
  },
  {
   "cell_type": "markdown",
   "id": "e55e097d-e3b0-46b4-a807-5e1e4e6d572a",
   "metadata": {
    "tags": []
   },
   "source": [
    "###  3. aanpassing aan `Omgeving Leiden` met als parent `Omgevingen` en metadata `Item`"
   ]
  },
  {
   "cell_type": "code",
   "execution_count": null,
   "id": "0edc75d8-e1ef-474f-a270-78ec23e75464",
   "metadata": {},
   "outputs": [],
   "source": [
    "TOmgevingLeiden = Tag('Omgeving Leiden')\n",
    "TOmgevingLeiden.row.update_record(parents=[TOmgevingen.gid], meta_tags=[TItem.gid])\n",
    "db.commit()\n",
    "Tag.refresh(Tag.db)\n",
    "TOmgevingLeiden = Tag('Omgeving Leiden')\n",
    "TOmgevingLeiden\n",
    "TOmgevingLeiden.walk(_print, direction='parents')"
   ]
  },
  {
   "cell_type": "code",
   "execution_count": null,
   "id": "015cde60-7f7e-4200-b025-9f1f4efdaa88",
   "metadata": {},
   "outputs": [],
   "source": []
  }
 ],
 "metadata": {
  "kernelspec": {
   "display_name": "Python 3 (ipykernel)",
   "language": "python",
   "name": "python3"
  },
  "language_info": {
   "codemirror_mode": {
    "name": "ipython",
    "version": 3
   },
   "file_extension": ".py",
   "mimetype": "text/x-python",
   "name": "python",
   "nbconvert_exporter": "python",
   "pygments_lexer": "ipython3",
   "version": "3.9.7"
  }
 },
 "nbformat": 4,
 "nbformat_minor": 5
}
