{
 "cells": [
  {
   "cell_type": "markdown",
   "source": [
    "# 0. Setup"
   ],
   "metadata": {
    "collapsed": false
   }
  },
  {
   "cell_type": "code",
   "execution_count": null,
   "outputs": [],
   "source": [
    "import os\n",
    "\n",
    "from edwh.core.backend.support import Environment\n",
    "from edwh.core.data_model import OrganisationPriority\n",
    "import datetime\n",
    "#!pip install ujson  > /dev/null\n",
    "# import ujson\n",
    "!pip install tqdm pandas\n",
    "from tqdm import tqdm\n",
    "tqdm.pandas(desc='Jupyter')"
   ],
   "metadata": {
    "collapsed": false
   }
  },
  {
   "cell_type": "code",
   "execution_count": null,
   "id": "b41d7e96-061a-4cdd-b8cd-39fecbedd49a",
   "metadata": {},
   "outputs": [],
   "source": [
    "env = Environment(long_running=True)\n",
    "\n",
    "db = env.db\n",
    "backend = env.backend"
   ]
  },
  {
   "cell_type": "code",
   "execution_count": null,
   "outputs": [],
   "source": [
    "import os\n",
    "os.chdir('/home/jovyan/work')"
   ],
   "metadata": {
    "collapsed": false
   }
  },
  {
   "cell_type": "code",
   "execution_count": null,
   "outputs": [],
   "source": [
    "import sqlite3\n",
    "import gc\n",
    "\n",
    "def dict_factory(cursor, row):\n",
    "    # https://stackoverflow.com/questions/3300464/how-can-i-get-dict-from-sqlite-query\n",
    "    d = {}\n",
    "    for idx, col in enumerate(cursor.description):\n",
    "        d[col[0]] = row[idx]\n",
    "    return d\n",
    "\n",
    "con = sqlite3.connect(\"data/all_with_gid.db\")\n",
    "con.row_factory = dict_factory\n",
    "cur = con.cursor()\n",
    "\n",
    "def query_all(sql) -> list[dict]:\n",
    "    cur.execute(sql)\n",
    "    return cur.fetchall()\n",
    "\n",
    "def query_one(sql) -> dict:\n",
    "    cur.execute(sql)\n",
    "    return cur.fetchone()"
   ],
   "metadata": {
    "collapsed": false
   }
  },
  {
   "cell_type": "markdown",
   "source": [
    "# 1. brin + vestigingsnummer"
   ],
   "metadata": {
    "collapsed": false
   }
  },
  {
   "cell_type": "code",
   "execution_count": null,
   "outputs": [],
   "source": [
    "# 'table' organisation_effdted_now contains the latest data with highest prio (same fields as db.organisation)\n",
    "table = db.organisation_effdted_now\n",
    "missing_info_query = table.brin == None\n",
    "missing_info_query |= table.vestigingscode == None\n",
    "latest_rows_missing_brin = db(missing_info_query).select().as_dict(key='gid')"
   ],
   "metadata": {
    "collapsed": false
   }
  },
  {
   "cell_type": "code",
   "execution_count": null,
   "outputs": [],
   "source": [
    "# brin info\n",
    "brin_rows = query_all(\"\"\"select * from scholen where \"BRIN NUMMER\" is not null and \"BRIN NUMMER\" != '';\"\"\")\n",
    "brinfo = {_['org_gid']: _ for _ in brin_rows}\n",
    "# clean up memory a bit:\n",
    "del brin_rows\n",
    "gc.collect()\n",
    "pass"
   ],
   "metadata": {
    "collapsed": false
   }
  },
  {
   "cell_type": "code",
   "execution_count": null,
   "outputs": [],
   "source": [
    "from edwh.core.data_model import OrganisationPriority\n",
    "from pprint import pprint\n",
    "\n",
    "incomplete = {}  # gid: reason\n",
    "\n",
    "updated_count = 0\n",
    "db.rollback()\n",
    "for gid, school in tqdm(latest_rows_missing_brin.items()):\n",
    "    info = brinfo.get(gid)\n",
    "    if not info:\n",
    "        # there is a row, but it's missing BRIN NUMMER -> irrelevant\n",
    "        incomplete[gid] = \"brin\"\n",
    "        continue\n",
    "\n",
    "    brin = info['BRIN NUMMER']\n",
    "    vestiging = info['VESTIGINGSNUMMER']\n",
    "    if brin in vestiging:\n",
    "        # VESTIGINGSNUMMER is brin + vestiging\n",
    "        # bijv. 06YL00 = 06YL + 00\n",
    "        vestiging = vestiging[4:]\n",
    "\n",
    "    if not vestiging:\n",
    "        incomplete[gid] = \"vestiging\"\n",
    "        continue\n",
    "\n",
    "    assert len(brin) == 4, f\"Incorrect brin: {brin} (gid: {gid})\"\n",
    "    assert len(\n",
    "        vestiging) == 2, f\"Incorrect vestiging: {vestiging} (gid: {gid}, brin: {brin}, VN: {info['VESTIGINGSNUMMER']})\"\n",
    "\n",
    "    # todo: soms is er wel een brin en geen vestigingsnummer,\n",
    "    # als de brin dan uniek is: brin wel invullen en kijken wat de huidige data is (voor vestigingsnummer)\n",
    "    backend.update_effectivedated(\n",
    "            db.organisation,\n",
    "            db.organisation.gid == gid,\n",
    "            values={\n",
    "                'brin': brin,\n",
    "                'vestigingscode': vestiging,\n",
    "            },\n",
    "            prio=OrganisationPriority.DUO,\n",
    "            last_saved_by=\"Locatiegegevens aan Organisatie.ipynb op basis van all_with_gid.db\"\n",
    "        )\n",
    "\n",
    "    updated_count += 1\n",
    "\n",
    "db.commit()\n",
    "print(f\"Updated {updated_count} out of {len(latest_rows_missing_brin)} items\")"
   ],
   "metadata": {
    "collapsed": false
   }
  },
  {
   "cell_type": "code",
   "execution_count": null,
   "outputs": [],
   "source": [
    "from collections import defaultdict\n",
    "# brin/vestiging zit NIET in all_updates, want de rest hangt daar van af!\n",
    "ALL_UPDATES = defaultdict(dict) # gid: changes by key: value"
   ],
   "metadata": {
    "collapsed": false
   }
  },
  {
   "cell_type": "markdown",
   "source": [
    "# 2. LeerlingNummers"
   ],
   "metadata": {
    "collapsed": false
   }
  },
  {
   "cell_type": "code",
   "execution_count": null,
   "outputs": [],
   "source": [
    "import collections\n",
    "import json\n",
    "\n",
    "leerling_info = collections.defaultdict(int) # key: (brin, vestiging); value: total leerlingen\n",
    "vestigingen = collections.defaultdict(list) # brin: [vestigingsnummers]\n",
    "\n",
    "with open('data/leerlingen.json') as f:\n",
    "    for row in json.load(f):\n",
    "        leerling_info[(row['brin'], int(row['vestigingscode']))] += row['leerling_aantal']\n",
    "        vestigingen[row['brin']].append(row['vestigingscode'])"
   ],
   "metadata": {
    "collapsed": false
   }
  },
  {
   "cell_type": "code",
   "execution_count": null,
   "outputs": [],
   "source": [
    "table = db.organisation_effdted_now\n",
    "query = table.student_count == None\n",
    "query |= table.student_count == 0\n",
    "query &= table.brin != None\n",
    "query &= table.vestigingscode != None\n",
    "\n",
    "rows = db(query).select(table.gid, table.brin, table.vestigingscode).as_dict(key='gid')"
   ],
   "metadata": {
    "collapsed": false
   }
  },
  {
   "cell_type": "code",
   "execution_count": null,
   "outputs": [],
   "source": [
    "missing = {}\n",
    "updated_count = 0\n",
    "for gid, org in tqdm(rows.items()):\n",
    "    if org['brin'] is None:\n",
    "        missing[gid] = 'brin'\n",
    "        continue\n",
    "    vestiging = org['vestigingscode']\n",
    "    if vestiging is None:\n",
    "        missing[gid] = 'vestiging'\n",
    "        continue\n",
    "    key = (org['brin'], int(vestiging))\n",
    "    student_count = leerling_info.get(key, None)\n",
    "    if not student_count:\n",
    "        missing[gid] =  f'student_count: {student_count}'\n",
    "        continue\n",
    "\n",
    "    ALL_UPDATES[gid]['student_count'] = student_count\n",
    "    # backend.update_effectivedated(\n",
    "    #     db.organisation,\n",
    "    #     db.organisation.gid == gid,\n",
    "    #     values={\n",
    "    #       \"student_count\": student_count\n",
    "    #     },\n",
    "    #     prio=OrganisationPriority.DUO.value,\n",
    "    #     last_saved_by=\"Locatiegegevens aan Organisatie.ipynb op basis van leerlingen.json\"\n",
    "    # )\n",
    "    updated_count += 1\n",
    "\n",
    "db.commit()\n",
    "\n",
    "print(f\"updated {updated_count} out of {len(rows)} items.\")"
   ],
   "metadata": {
    "collapsed": false
   }
  },
  {
   "cell_type": "markdown",
   "source": [
    "# 3. Overige Data\n",
    "## 3.1: geo (lonlat)"
   ],
   "metadata": {
    "collapsed": false
   }
  },
  {
   "cell_type": "code",
   "execution_count": null,
   "outputs": [],
   "source": [
    "table = db.organisation_effdted_now\n",
    "query = table.lonlat == None\n",
    "\n",
    "rows = db(query).select(table.gid).as_list()"
   ],
   "metadata": {
    "collapsed": false
   }
  },
  {
   "cell_type": "code",
   "execution_count": null,
   "outputs": [],
   "source": [
    "# lonlat\n",
    "lonlat_rows = query_all(\"\"\"select org_gid, geo from scholen where geo is not null;\"\"\")\n",
    "lonlat_info = {_['org_gid']: _ for _ in lonlat_rows}\n",
    "# clean up memory a bit:\n",
    "del lonlat_rows\n",
    "gc.collect()\n",
    "pass"
   ],
   "metadata": {
    "collapsed": false
   }
  },
  {
   "cell_type": "code",
   "execution_count": null,
   "outputs": [],
   "source": [
    "updated_count = 0\n",
    "missing = {}\n",
    "for row in tqdm(rows):\n",
    "    gid = row['gid']\n",
    "    lonlat = lonlat_info.get(gid, {}).get('geo')\n",
    "    if not lonlat:\n",
    "        missing[gid] =  f'geo info'\n",
    "        continue\n",
    "\n",
    "    ALL_UPDATES[gid]['lonlat'] = lonlat\n",
    "    # backend.update_effectivedated(\n",
    "    #     db.organisation,\n",
    "    #     db.organisation.gid == gid,\n",
    "    #     values={\n",
    "    #       \"lonlat\": lonlat\n",
    "    #     },\n",
    "    #     prio=OrganisationPriority.DUO,\n",
    "    #     last_saved_by=\"Locatiegegevens aan Organisatie.ipynb op basis van all_with_gid.db\"\n",
    "    # )\n",
    "    updated_count += 1\n",
    "\n",
    "db.commit()\n",
    "\n",
    "print(f\"updated {updated_count} out of {len(rows)} items.\")"
   ],
   "metadata": {
    "collapsed": false
   }
  },
  {
   "cell_type": "markdown",
   "source": [
    "## 3.2: sector + education type, education_level(s),"
   ],
   "metadata": {
    "collapsed": false
   }
  },
  {
   "cell_type": "code",
   "execution_count": null,
   "outputs": [],
   "source": [
    "con_leerlingen = sqlite3.connect(\"data/leerlingen.sqlite\")\n",
    "con_leerlingen.row_factory = dict_factory\n",
    "cur_leerlingen = con_leerlingen.cursor()\n",
    "\n",
    "def query_all_leerlingen(sql) -> list[dict]:\n",
    "    cur_leerlingen.execute(sql)\n",
    "    return cur_leerlingen.fetchall()\n",
    "\n",
    "def query_one_leerlingen(sql) -> dict:\n",
    "    cur_leerlingen.execute(sql)\n",
    "    return cur_leerlingen.fetchone()"
   ],
   "metadata": {
    "collapsed": false
   }
  },
  {
   "cell_type": "code",
   "execution_count": null,
   "outputs": [],
   "source": [
    "# ed_level_rows = query_all(\"\"\"select org_gid, ONDERWIJSSTRUCTUUR, VESTIGINGSNAAM from scholen where geo is not null;\"\"\")\n",
    "# ed_level_info = {_['org_gid']: (_['ONDERWIJSSTRUCTUUR'], _[\"VESTIGINGSNAAM\"]) for _ in ed_level_rows}\n",
    "# # clean up memory a bit:\n",
    "# del ed_level_rows\n",
    "# gc.collect()\n",
    "# pass"
   ],
   "metadata": {
    "collapsed": false
   }
  },
  {
   "cell_type": "code",
   "execution_count": null,
   "outputs": [],
   "source": [
    "db.rollback()\n",
    "table = db.organisation_effdted_now\n",
    "query = table.sector == None\n",
    "query |= table.education_type == None\n",
    "# query |= table.education_level == None\n",
    "query &= table.brin != None\n",
    "query &= table.vestigingscode != None\n",
    "\n",
    "rows = db(query).select(table.gid, table.brin, table.vestigingscode,\n",
    "                        table.sector, table.education_type, table.education_level).as_dict(key='gid')"
   ],
   "metadata": {
    "collapsed": false
   }
  },
  {
   "cell_type": "code",
   "execution_count": null,
   "outputs": [],
   "source": [
    "from collections import defaultdict\n",
    "\n",
    "# leerlingen.sqlite contains onderwijs_type & sector(s)\n",
    "sectors = defaultdict(list)\n",
    "info = query_all_leerlingen(\"\"\"select * from leerling_aantallen;\"\"\")\n",
    "\n",
    "for row in info:\n",
    "    key = (row['brin'], int(row['vestigingscode']))\n",
    "    value = (row['onderwijs_niveau'], row['onderwijs_type'])\n",
    "    sectors[key].append(value)\n",
    "\n",
    "del info\n",
    "\n",
    "# all_with_gid.db contains 'onderwijsstructuur' -> niveau(s)"
   ],
   "metadata": {
    "collapsed": false
   }
  },
  {
   "cell_type": "code",
   "execution_count": null,
   "outputs": [],
   "source": [
    "# def parse_education_level(onderwijsstructuur: str, vestigingsnaam: str) -> set[str]:\n",
    "#     # convert ONDERWIJSSTRUCTUUR to value allowed by ALLOWED_LEVELS\n",
    "#     levels = set()\n",
    "#     if not onderwijsstructuur:\n",
    "#         # todo: probably basisschool?\n",
    "#         return levels\n",
    "#     parts = onderwijsstructuur.lower().split('/')\n",
    "#\n",
    "#     if 'vwo' in parts:\n",
    "#         levels.add('vwo')\n",
    "#     if 'havo' in parts:\n",
    "#         levels.add('havo')\n",
    "#\n",
    "#     print(parts, vestigingsnaam)\n",
    "#\n",
    "#     return levels\n",
    "#\n",
    "# parse_education_level()"
   ],
   "metadata": {
    "collapsed": false
   }
  },
  {
   "cell_type": "code",
   "execution_count": null,
   "outputs": [],
   "source": [
    "from edwh.core.data_model import EDUCATION_SECTOR, EDUCATION_TYPE, EDUCATION_LEVEL\n",
    "\n",
    "ALLOWED_SECTORS = set(EDUCATION_SECTOR.keys())\n",
    "ALLOWED_TYPES = set(EDUCATION_TYPE.keys())\n",
    "ALLOWED_LEVELS = set(EDUCATION_LEVEL.keys())\n",
    "\n",
    "missing = {\n",
    "    'sector': [],\n",
    "    'type': [],\n",
    "}\n",
    "\n",
    "found = {\n",
    "    'sector': [],\n",
    "    'type': [],\n",
    "}\n",
    "\n",
    "for gid, existing_data in tqdm(rows.items()):\n",
    "    found_any = False\n",
    "    sector_key = (existing_data['brin'], int(existing_data['vestigingscode']))\n",
    "    sector_info = sectors.get(sector_key)\n",
    "\n",
    "    if not existing_data['sector'] and sector_info:\n",
    "        # update sector(s)\n",
    "        existing_data['sector'] = []\n",
    "        for aanbod in sector_info:\n",
    "            sector = aanbod[0]\n",
    "            assert sector in ALLOWED_SECTORS, f\"Invalid {sector=}\"\n",
    "            existing_data['sector'].append(sector)\n",
    "\n",
    "            if not existing_data['education_level'] and sector == \"po\":\n",
    "                # fill it in based on sector info\n",
    "                existing_data['education_level'] = [\"bo\"]\n",
    "\n",
    "        found['sector'].append(gid)\n",
    "        found_any = True\n",
    "    else:\n",
    "        missing['sector'].append(gid)\n",
    "\n",
    "    if not existing_data['education_type'] and sector_info:\n",
    "        # update eduction type (r or s)\n",
    "        for aanbod in sector_info:\n",
    "            type = aanbod[1]\n",
    "            assert type in ALLOWED_TYPES, f\"Invalid {type=}\"\n",
    "            existing_data['education_type'] = type\n",
    "            continue  # only one type!\n",
    "\n",
    "        found['type'].append(gid)\n",
    "        found_any = True\n",
    "    else:\n",
    "        missing['type'].append(gid)\n",
    "\n",
    "    if found_any:\n",
    "        if existing_data['education_type']:\n",
    "            ALL_UPDATES[gid]['education_type'] = existing_data['education_type']\n",
    "        if existing_data['education_level']:\n",
    "            ALL_UPDATES[gid]['education_level'] = existing_data['education_level']\n",
    "        if existing_data['sector']:\n",
    "            ALL_UPDATES[gid]['sector'] = existing_data['sector']\n",
    "\n",
    "        # backend.update_effectivedated(\n",
    "        #     db.organisation,\n",
    "        #     db.organisation.gid == gid,\n",
    "        #     values=existing_data,\n",
    "        #     prio=OrganisationPriority.DUO,\n",
    "        #     last_saved_by=\"Locatiegegevens aan Organisatie.ipynb op basis van leerlingen.sqlite\"\n",
    "        # )\n",
    "\n",
    "db.commit()\n",
    "\n",
    "print(\"Missing:\")\n",
    "print({level: len(missing[level]) for level in missing})\n",
    "print(\"Found:\")\n",
    "print({level: len(found[level]) for level in found})"
   ],
   "metadata": {
    "collapsed": false
   }
  },
  {
   "cell_type": "markdown",
   "source": [
    "# Niveau's"
   ],
   "metadata": {
    "collapsed": false
   }
  },
  {
   "cell_type": "code",
   "execution_count": null,
   "outputs": [],
   "source": [
    "from pydal import DAL, Field\n",
    "import tabulate, re\n",
    "\n",
    "vodb = DAL('sqlite://vo.db', folder='data', migrate=False)\n",
    "\n",
    "\n",
    "def clean(onderwijstype):\n",
    "    geschoond_type = re.sub(r'[0-9]-[0-9]', '', onderwijstype.replace('lj', ''))\n",
    "    geschoond_type = re.sub(r'[0-9]', '', geschoond_type)\n",
    "    geschoond_type = re.sub(r'uitbest. aan VAVO', '', geschoond_type)\n",
    "    if 'Praktijkonderwijs' in geschoond_type:\n",
    "        geschoond_type = 'Praktijkonderwijs'\n",
    "    return geschoond_type.strip()\n",
    "\n",
    "\n",
    "vodb._adapter.connection.create_function(\"clean\", 1, clean)\n",
    "\n",
    "sql = '''\n",
    "select  [brin nummer],\n",
    "        [vestigingsnummer],\n",
    "        clean(\"ONDERWIJSTYPE VO EN LEER- OF VERBLIJFSJAAR\") as geschoond_type\n",
    "  from tsv1\n",
    "  group by [brin nummer], [vestigingsnummer], clean(\"ONDERWIJSTYPE VO EN LEER- OF VERBLIJFSJAAR\")\n",
    "'''\n",
    "output = vodb.executesql(sql)"
   ],
   "metadata": {
    "collapsed": false
   }
  },
  {
   "cell_type": "code",
   "execution_count": null,
   "outputs": [],
   "source": [
    "niveaus_per_locatie = defaultdict(list)\n",
    "\n",
    "for brin, locatie, niveau in output:\n",
    "    key = (brin, locatie)\n",
    "    niveaus_per_locatie[key].append(niveau)"
   ],
   "metadata": {
    "collapsed": false
   }
  },
  {
   "cell_type": "code",
   "execution_count": null,
   "outputs": [],
   "source": [
    "db.rollback()\n",
    "table = db.organisation_effdted_now\n",
    "query = table.education_level == None\n",
    "query &= table.brin != None\n",
    "query &= table.vestigingscode != None\n",
    "\n",
    "rows = db(query).select(table.gid, table.brin, table.vestigingscode).as_dict(key='gid')"
   ],
   "metadata": {
    "collapsed": false
   }
  },
  {
   "cell_type": "code",
   "execution_count": null,
   "outputs": [],
   "source": [
    "missing = 0\n",
    "found = 0\n",
    "\n",
    "for gid, row in tqdm(rows.items()):\n",
    "    key = (row['brin'], int(row['vestigingscode']))\n",
    "    niveaus = niveaus_per_locatie.get(key)\n",
    "    if niveaus:\n",
    "        found += 1\n",
    "        ALL_UPDATES[gid]['education_level'] = niveaus\n",
    "    else:\n",
    "        missing += 1\n",
    "\n",
    "print(f'{missing=} - {found=} out of {len(rows)}')"
   ],
   "metadata": {
    "collapsed": false
   }
  },
  {
   "cell_type": "markdown",
   "source": [
    "# Push All Changes at once:"
   ],
   "metadata": {
    "collapsed": false
   }
  },
  {
   "cell_type": "code",
   "execution_count": null,
   "outputs": [],
   "source": [
    "print(\n",
    "    'will update:',\n",
    "    len(ALL_UPDATES),\n",
    "    'out of:',\n",
    "    db(db.organisation_effdted_now).count())"
   ],
   "metadata": {
    "collapsed": false
   }
  },
  {
   "cell_type": "code",
   "execution_count": null,
   "outputs": [],
   "source": [
    "db.rollback()\n",
    "for gid, changes in tqdm(ALL_UPDATES.items()):\n",
    "    backend.update_effectivedated(\n",
    "            db.organisation,\n",
    "            db.organisation.gid == gid,\n",
    "            values=changes,\n",
    "            prio=OrganisationPriority.DUO,\n",
    "            last_saved_by=\"Locatiegegevens aan Organisatie.ipynb op basis van leerlingen.sqlite/leerlingen.json and all_with_gid.db\"\n",
    "        )\n",
    "\n",
    "db.commit()"
   ],
   "metadata": {
    "collapsed": false
   }
  },
  {
   "cell_type": "code",
   "execution_count": null,
   "outputs": [],
   "source": [],
   "metadata": {
    "collapsed": false
   }
  }
 ],
 "metadata": {
  "kernelspec": {
   "display_name": "Python 3 (ipykernel)",
   "language": "python",
   "name": "python3"
  },
  "language_info": {
   "codemirror_mode": {
    "name": "ipython",
    "version": 3
   },
   "file_extension": ".py",
   "mimetype": "text/x-python",
   "name": "python",
   "nbconvert_exporter": "python",
   "pygments_lexer": "ipython3",
   "version": "3.10.9"
  }
 },
 "nbformat": 4,
 "nbformat_minor": 5
}
