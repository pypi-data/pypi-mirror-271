{
 "cells": [
  {
   "cell_type": "code",
   "execution_count": 1,
   "id": "c6f39ebc-c94a-45d4-99d2-35297f9e41bd",
   "metadata": {},
   "outputs": [
    {
     "name": "stdout",
     "output_type": "stream",
     "text": [
      "Python 3.11.6 | packaged by conda-forge | (main, Oct  3 2023, 10:40:35) [GCC 12.3.0]\n",
      "Requirement already satisfied: ipywidgets in /opt/conda/lib/python3.11/site-packages (8.1.2)\n",
      "Requirement already satisfied: comm>=0.1.3 in /opt/conda/lib/python3.11/site-packages (from ipywidgets) (0.1.4)\n",
      "Requirement already satisfied: ipython>=6.1.0 in /opt/conda/lib/python3.11/site-packages (from ipywidgets) (8.24.0)\n",
      "Requirement already satisfied: traitlets>=4.3.1 in /opt/conda/lib/python3.11/site-packages (from ipywidgets) (5.14.3)\n",
      "Requirement already satisfied: widgetsnbextension~=4.0.10 in /opt/conda/lib/python3.11/site-packages (from ipywidgets) (4.0.10)\n",
      "Requirement already satisfied: jupyterlab-widgets~=3.0.10 in /opt/conda/lib/python3.11/site-packages (from ipywidgets) (3.0.10)\n",
      "Requirement already satisfied: decorator in /opt/conda/lib/python3.11/site-packages (from ipython>=6.1.0->ipywidgets) (5.1.1)\n",
      "Requirement already satisfied: jedi>=0.16 in /opt/conda/lib/python3.11/site-packages (from ipython>=6.1.0->ipywidgets) (0.19.1)\n",
      "Requirement already satisfied: matplotlib-inline in /opt/conda/lib/python3.11/site-packages (from ipython>=6.1.0->ipywidgets) (0.1.7)\n",
      "Requirement already satisfied: prompt-toolkit<3.1.0,>=3.0.41 in /opt/conda/lib/python3.11/site-packages (from ipython>=6.1.0->ipywidgets) (3.0.43)\n",
      "Requirement already satisfied: pygments>=2.4.0 in /opt/conda/lib/python3.11/site-packages (from ipython>=6.1.0->ipywidgets) (2.17.2)\n",
      "Requirement already satisfied: stack-data in /opt/conda/lib/python3.11/site-packages (from ipython>=6.1.0->ipywidgets) (0.6.3)\n",
      "Requirement already satisfied: typing-extensions>=4.6 in /opt/conda/lib/python3.11/site-packages (from ipython>=6.1.0->ipywidgets) (4.11.0)\n",
      "Requirement already satisfied: pexpect>4.3 in /opt/conda/lib/python3.11/site-packages (from ipython>=6.1.0->ipywidgets) (4.9.0)\n",
      "Requirement already satisfied: parso<0.9.0,>=0.8.3 in /opt/conda/lib/python3.11/site-packages (from jedi>=0.16->ipython>=6.1.0->ipywidgets) (0.8.4)\n",
      "Requirement already satisfied: ptyprocess>=0.5 in /opt/conda/lib/python3.11/site-packages (from pexpect>4.3->ipython>=6.1.0->ipywidgets) (0.7.0)\n",
      "Requirement already satisfied: wcwidth in /opt/conda/lib/python3.11/site-packages (from prompt-toolkit<3.1.0,>=3.0.41->ipython>=6.1.0->ipywidgets) (0.2.13)\n",
      "Requirement already satisfied: executing>=1.2.0 in /opt/conda/lib/python3.11/site-packages (from stack-data->ipython>=6.1.0->ipywidgets) (2.0.1)\n",
      "Requirement already satisfied: asttokens>=2.1.0 in /opt/conda/lib/python3.11/site-packages (from stack-data->ipython>=6.1.0->ipywidgets) (2.4.1)\n",
      "Requirement already satisfied: pure-eval in /opt/conda/lib/python3.11/site-packages (from stack-data->ipython>=6.1.0->ipywidgets) (0.2.2)\n",
      "Requirement already satisfied: six>=1.12.0 in /opt/conda/lib/python3.11/site-packages (from asttokens>=2.1.0->stack-data->ipython>=6.1.0->ipywidgets) (1.16.0)\n",
      "Requirement already satisfied: tqdm in /opt/conda/lib/python3.11/site-packages (4.66.2)\n",
      "Requirement already satisfied: pandas in /opt/conda/lib/python3.11/site-packages (2.2.2)\n",
      "Requirement already satisfied: numpy>=1.23.2 in /opt/conda/lib/python3.11/site-packages (from pandas) (1.26.4)\n",
      "Requirement already satisfied: python-dateutil>=2.8.2 in /opt/conda/lib/python3.11/site-packages (from pandas) (2.9.0.post0)\n",
      "Requirement already satisfied: pytz>=2020.1 in /opt/conda/lib/python3.11/site-packages (from pandas) (2024.1)\n",
      "Requirement already satisfied: tzdata>=2022.7 in /opt/conda/lib/python3.11/site-packages (from pandas) (2024.1)\n",
      "Requirement already satisfied: six>=1.5 in /opt/conda/lib/python3.11/site-packages (from python-dateutil>=2.8.2->pandas) (1.16.0)\n",
      "Setting up for long running connection\n"
     ]
    },
    {
     "name": "stderr",
     "output_type": "stream",
     "text": [
      "/shared_code/edwh/core/pgcache/__init__.py:91: UserWarning: Magic aangeroepn, dat klopt nie. \n",
      "  warnings.warn(\"Magic aangeroepn, dat klopt nie. \")\n"
     ]
    },
    {
     "name": "stdout",
     "output_type": "stream",
     "text": [
      " * postgresql://postgres@pgpool:5432/backend\n",
      "Done.\n"
     ]
    }
   ],
   "source": [
    "%run ../__init__edwh__new.ipynb"
   ]
  },
  {
   "cell_type": "code",
   "execution_count": 2,
   "id": "4e3e8fdb-eb38-468b-bac7-09f9428ff5b2",
   "metadata": {},
   "outputs": [
    {
     "data": {
      "text/plain": [
       "<Row {'short_description': 'bla'}>"
      ]
     },
     "execution_count": 2,
     "metadata": {},
     "output_type": "execute_result"
    }
   ],
   "source": [
    "db(db.item).select(db.item.short_description, limitby=(10, 11)).first()"
   ]
  },
  {
   "cell_type": "code",
   "execution_count": 3,
   "id": "a298b2c7-d592-4533-bd49-f2aaac30be03",
   "metadata": {},
   "outputs": [
    {
     "name": "stdout",
     "output_type": "stream",
     "text": [
      "Op [Liemers College](https://www.liemerscollege.nl/Home) in Zevenaar wordt vanaf 2014 samengewerkt met vier andere scholen binnen het leerlab 'Verbinding curriculum, content en platform.' \n",
      "\n",
      "\n",
      "**Aanleiding**\n",
      "\n",
      "\n",
      "Het doel van de samenwerking 'Verbinding curriculum, content en platform' is het verkennen van manieren om leermateriaal, het curriculum en digitale platforms met elkaar te verbinden, met als uiteindelijk doel het leerproces van studenten effectiever en transparanter te maken. Zo kunnen de scholen beter het leerproces van de studenten monitoren, flexibeler inspelen op de individuele behoeften en een meer gepersonaliseerd leertraject aanbieden.\n",
      "\n",
      "\n",
      "\n",
      "**Werkwijze** \n",
      "\n",
      "\n",
      "Om deze doelstelling te bereiken, heeft het Liemers College samen met de andere scholen binnen het leerlab verschillende vormen van online leermateriaal ontwikkeld en uitgewisseld. Hierdoor hadden ze toegang tot een breder scala aan onderwijsmateriaal, wat hen in staat stelde om hun eigen onderwijs flexibeler vorm te geven. Zo heeft ook het Liemers College hun steentje bijgedragen en ontwikkelde de sectie economie de lesmaterialen: [inleiding economie](https://maken.wikiwijs.nl/93774/Thema_1_Inleiding_economie#!page-2830809) en [eigen bedrijf](https://maken.wikiwijs.nl/92970/Thema_4_Eigen_bedrijf) voor de leerlingen van havo en vwo jaar twee en drie. Het doel van dit lesmateriaal is om de leerlingen kennis te laten maken met economie, doormiddel van teksten, filmpjes en oefenvragen.\n",
      "\n",
      "Naast dat de sectie economie zich in heeft gezet voor de ontwikkeling van lesmateriaal, heeft de sectie Engels dit ook gedaan. Zo heeft de sectie lesmateriaal ontwikkeld voor de leerlingen van havo en vwo jaar één en twee. Hieruit kwamen vijf thema's naar voren die beschikbaar zijn op wikiwijs:\n",
      "\n",
      "\n",
      "* [Engelse stripboeken: lezen op niveau](https://maken.wikiwijs.nl/77600/Engelse_stripboeken_lezen_op_niveau___1havo_vwo#!page-1982046)\n",
      "* [Lezen op niveau](https://maken.wikiwijs.nl/92965/Lezen_op_niveau_Klas_1HAVO_en_1VWO#!page-2741568)\n",
      "* [Luisteren op niveau](https://maken.wikiwijs.nl/74344/Luisteren_op_niveau___klas_1HV___Newsround)\n",
      "* [Spreken op niveau](https://maken.wikiwijs.nl/72529/Spreken_op_Niveau)\n",
      "* [English jokes (spreken/schrijven)](https://maken.wikiwijs.nl/78455/English_Jokes#!page-2071869)\n",
      "\n",
      "\n",
      "Ook heeft de sectie levensbeschouwing meegewerkt aan het ontwikkelen van lesmateriaal. Hun hebben voor het eerste leerjaar voor de niveau's vmbo, havo en vwo de module ['Wat vind jij belangrijk?'](https://maken.wikiwijs.nl/82079/Thema_1__Wat_vind_jij_belangrijk_) ontworpen. Doormiddel van (keuze)opdrachten maakt de leerling kennis met het vak levensbeschouwing. \n",
      "\n",
      "**Resultaten**\n",
      "\n",
      "\n",
      "In onderzoek\n",
      "\n",
      "\n",
      "*Op Leerling2020.nl lees je [meer over deze praktijk](https://leerling2020.nl/deze-scholen-delen-hun-content/).* \n",
      "\n",
      "\n",
      " *Lees ook de praktijk van [Sancta Maria](https://delen.meteddie.nl/item/dd4a1716-d967-4ff5-a551-f103391a1607), [Het Stormink](https://delen.meteddie.nl/item/5f189fd4-503f-41af-bba3-a94bf94ff530), [Het Perron](https://delen.meteddie.nl/item/d7ed8aa6-2338-4855-96df-563e42976cb3) en [Het Greijdanus College](https://delen.meteddie.nl/item/d285252a-7f84-4724-93e7-05cc52228594) over de samenwerking*\n"
     ]
    }
   ],
   "source": [
    "print(db(db.item.gid == '2688c487-3d75-4356-b976-c7023de7c012').select(db.item.short_description).first().short_description)"
   ]
  },
  {
   "cell_type": "code",
   "execution_count": 4,
   "id": "109d4df2-c61b-4887-9cbc-d077e2196685",
   "metadata": {},
   "outputs": [
    {
     "data": {
      "text/plain": [
       "(1213, 1231)"
      ]
     },
     "execution_count": 4,
     "metadata": {},
     "output_type": "execute_result"
    }
   ],
   "source": [
    "(\n",
    "    db(db.item.short_description.ilike(\"%**Resultaten**%\")).count(),\n",
    "    db(db.item.short_description.ilike(\"%Resultaten%\")).count()\n",
    ")"
   ]
  },
  {
   "cell_type": "code",
   "execution_count": 5,
   "id": "774be6be-a9ce-41e6-a7c2-c6e7bcad928a",
   "metadata": {},
   "outputs": [
    {
     "data": {
      "text/plain": [
       "6"
      ]
     },
     "execution_count": 5,
     "metadata": {},
     "output_type": "execute_result"
    }
   ],
   "source": [
    "query = db.item.short_description.ilike(\"%Resultaten%\")\n",
    "query &= ~db.item.short_description.ilike(\"%**Resultaten**%\")\n",
    "query &= ~db.item.short_description.ilike(\"%**Resultaten:**%\")\n",
    "query &= ~db.item.short_description.ilike(\"%**Resultaten **%\")\n",
    "query &= ~db.item.short_description.ilike(\"%**Resulaten**%\")\n",
    "query &= ~db.item.short_description.ilike(\"%**Resultaat**%\")\n",
    "\n",
    "rows = db(query).select(db.item.gid, db.item.short_description)\n",
    "len(rows)"
   ]
  },
  {
   "cell_type": "code",
   "execution_count": 6,
   "id": "ec2ada6a-ec72-4f17-a140-1b9189b11852",
   "metadata": {},
   "outputs": [
    {
     "name": "stdout",
     "output_type": "stream",
     "text": [
      "1ed41a21-2b96-43ca-9187-16fb830a07b8 Op [KC Wilp-Achterhoek](https://www.kcwilpachterhoek.nl/) in Wilp-Achterhoek wordt vanaf 2018 gewerkt met een rapportfolio. \n",
      "\n",
      "**Aanleiding**\n",
      "\n",
      "Bij ons staat ontwikkelingsgericht leren centraal: ‘Ik ontdek, ik groei en ik ben’. Het gaat om de ontwikkeling van de leerling op basis van o.a. leerdoelen. Hoe dat verloopt, houden we niet bij in een klassiek rapport met cijfers, maar in een vorm die hier veel beter op aansluit: een rapportfolio.\n",
      "\n",
      "**Werkwijze**\n",
      "\n",
      "Dit rapportfolio is een map waarin de leerlingen werkjes, materialen en foto’s verzamelen waar ze trots op zijn. Omdat we de leerlingen een doorlopende leerlijn bieden van 2 tot 13 jaar, krijgen leerlingen vanaf de peutergroep een rapportfolio. Het rapportfolio wordt een verslag waarin beschreven staat wat de leerling ontdekt, doet en leert en laat daarmee de ontwikkeling zien. \n",
      "\n",
      "Hoe ziet die ontwikkeling eruit? Met andere woorden: wat zijn de leerdoelen die we voor deze leerling voor ogen hebben? Die leerdoelen bepaalt het kind samen met de leerkracht. Twee keer per jaar heeft elk kind met de leerkracht een gesprek hierover. Zo’n doel kan bijvoorbeeld zijn: zelf een vogelhuisje maken, oefenen met tafels, Duits leren omdat je ieder jaar naar Duitsland op vakantie gaat of leren een portret te tekenen. De leerdoelen die zij samen afspreken, leggen we vast in een kindplan. Doordat de leerlingen hun eigen leerdoel kiezen hebben ze meer eigenaarschap over het leerproces. \n",
      "\n",
      "Elke week werken de leerlingen in gemengde groepjes aan hun eigen leerdoelen gedurende een uur. Deze resultaten worden ook verzameld in het rapportfolio. De medewerkers kijken wie van hen het interessant vindt of de expertise heeft om een leerling bij een bepaald leerdoel te begeleiden. Met deze aanpak benutten we niet alleen de talenten van de kinderen, maar ook die van het personeel. \n",
      "\n",
      "Aan het eind van elke periode zijn er rapportfoliogesprekken met de ouders. Vanaf groep 4 zit ook de leerling bij dit gesprek. Zo geven we vorm aan de driehoek ouders - kind - school. Op basis van het rapportfolio presenteren de leerlingen hun eigen ontwikkeling aan hun ouders. Ze bereiden dit samen met de leerkracht voor. Door zelf te presenteren voelen de kinderen betrokkenheid bij hun eigen leerproces en weten ze waar hun eigen ontwikkelpunten liggen. \n",
      "\n",
      "*Lees ook over de [visie Ik ontdek, ik groei, ik ben](https://delen.meteddie.nl/Item/3b67eb44-c7ac-4535-bc4a-bbf7bfff88b3), over het [Speel-, leer- en ontdekplein](https://delen.meteddie.nl/Item/52f64b66-2e99-4193-b42c-513a45447864) en over de visie [Samen een Kindcentrum](https://delen.meteddie.nl/Item/837a22e1-dd90-4cd7-a7ff-ea15910f5060) van KC Wilp-Achterhoek.*\n",
      "\n",
      "Op [netwerkkindcentra.nl/plek-013](https://netwerkkindcentra.nl/plek-013) vind je nog veel meer ervaringen vanuit het Netwerk Kindcentra. Als lid van dit netwerk heb je daarbij de mogelijkheid om rechtstreeks in gesprek te gaan met collega's van andere Kindcentra over allerlei thema's. Nog geen lid? [Sluit je aan](https://netwerkkindcentra.nl/contact/)! Al wel lid? [Log direct in](https://teams.microsoft.com/l/team/19%3a61a7aa8b77284d2983ddbbb61a94728b%40thread.tacv2/conversations?groupId=5e575499-638c-4659-9a4f-7764d8f53e0e&tenantId=5516ed22-5e24-4c4b-8492-ccbe214d93f0)!  \n",
      "\n",
      "------------------\n",
      "b858f2b6-31b3-4a68-8b2d-021bbd154b90 Op het [CygnusGymnasium](https://www.cygnusgymnasium.nl/) in Amsterdam wordt gewerkt met een andere manier van het geven van Franse les. Ik begin met het aanleren van Frans door middel van gebaren, spreken en luisteren. Al na een week spreken leerlingen vlekkeloos kleine Franse zinnetjes. Pas later leren ze hoe ze die precies moeten schrijven. Leerlingen laten zich meeslepen – ook als Frans in de hogere leerjaren moeilijker wordt. De examenresultaten behoren tot de beste van Nederland – elk jaar opnieuw.\n",
      "\n",
      "In tijden van Corona is het wel even anders. Ik heb nu 200 leerlingen in plaats van 7 klassen. Ik moet continu reageren op leerlingen en collega's, online weliswaar. En er moet natuurlijk ook veel lesmateriaal ontwikkeld worden. Dat lesmateriaal probeer ik wel zoveel mogelijk te laten aansluiten bij wat ik al deed: leerlingen zoveel mogelijk laten spreken en luisteren. Door deze crisis werk ik veel meer samen met mijn collega's en leer ik ze ook veel beter kennen. Het is een heftige tijd, maar ook spannend en er is ruimte voor creativiteit. We doen iets waar we al langer over spreken: onderzoekend lesgeven, meer maatwerk. En tegelijk zijn er nieuwe problemen. Hoe kun je in deze situatie taalvaardigheden scherpen, slijpen? Leerlingen op een hoger niveau brengen?  Hoe ga je om met toetsen? Hoe houd je hen gemotiveerd, nu ze hun klasgenoten zo missen? Daarover spreken we met elkaar. Wat ook enorm helpt is de steun vanuit de schoolleiding. Die zetten een heldere koers uit, communiceren goed, first things first.\n",
      "\n",
      "*Op dnavandeleraar.nl lees je [meer over deze praktijk](https://dnavandeleraar.nl/onderwijs-in-tijden-van-corona-1/).*\n",
      "------------------\n",
      "f873d5d4-4ef9-4053-9d0b-011dc9094cad In Amersfoort wordt door Stichting Amersfoortse Brede Combinatie (ABC) gewerkt aan een wijkgerichte samenwerking tussen onderwijs, kinderopvang, welzijn, sport, en bijvoorbeeld de bieb. \n",
      "\n",
      "De samenwerking begon in 2000 binnen achterstandswijken in Amersfoort en in de nieuwe woonwijk Vathorst. Inmiddels wordt in alle wijken in Amersfoort samengewerkt.  \n",
      "Het doel van de Amersfoortse Brede Combinatie is om te werken vanuit de uitspraak It takes a village to raise a child. Daartoe wordt er gezorgd voor een breed aanbod van voorzieningen voor kinderen van 0 tot 13 jaar. Door de hoogwaardige samenwerking met partners in de wijken kan maatwerk per wijk worden geleverd. De vraag die constant wordt gesteld is: wat hebben kinderen en ouders in deze wijk nodig? Ouders van kinderen binnen de wijk worden betrokken en ondersteund en zijn dus deel van het netwerk. Gewerkt wordt met vrijwel alle organisaties die ook maar iets met kinderen te maken hebben. Voorbeelden van resultaten van de samenwerking zijn na-schoolse activiteiten, kinderwijkraden, preventieve trainingen voor kinderen die zorg nodig hebben, natuuractiviteiten, aandacht voor kinderen met overgewicht, ouderactiviteiten en bijvoorbeeld een social worker in de klas of het kindcentrum. Tijdens de Coronacrisis hebben de netwerken binnen de wijken zichzelf bewezen. Door de sterke netwerken konden er snel veel contacten zijn om toch activiteiten voor kinderen te organiseren. Duidelijk is dat er veel commitment bij de aangesloten organisaties in de wijken bestaat.  \n",
      "Verschillende succesfactoren zijn aan te wijzen voor het succes van de Amersfoortse Brede Combinatie. De eerste is dat het kind altijd centraal staat. Het gaat niet om de institutie of de organisatie die een activiteit organiseert, maar om het kind. Daarnaast gebeurt alles van onderaf. Activiteiten worden georganiseerd in wijken waar mensen enthousiast zijn. Organisaties melden zich nu zelf aan en het initiatief komt dus vanuit de partners zelf. Belangrijk is ook dat 2 van de 3 basispartners (kinderopvang, basisonderwijs, welzijn) betrokken moeten zijn bij activiteiten.  En eveneens belangrijk is dat er op de gemeentelijke begroting subsidie beschikbaar blijft voor ABC.\n",
      "Enkele gouden tips van mensen die actief zijn binnen de Amersfoortse Brede Combinatie: heb geduld en blijf vooral met elkaar in gesprek. Ook belangrijk is om alle partners te blijven betrekken, zodat iedereen op de hoogte is van alles wat er gebeurt.  \n",
      "\n",
      "------------------\n",
      "ae666a0c-4ff2-4e09-8068-09b39108f8f4 Bij Stichting [OPSPOOR](https://www.opspoor.nl/) wordt teruggekeken op de lastige en positieve kanten van corona. We zetten nu een enquête uit onder onze leraren om zo ons nieuwe plan van aanpak te kunnen maken. De enquête zal inzichtelijk maken wat op afstand wel en niet goed werkt. Dat kunnen we gebruiken bij een plan van aanpak als de scholen weer opengaan.\n",
      "\n",
      "In de eerste weken van corona hebben onze schoolteams het afstandsonderwijs op hun eigen manier aangepakt. Sommigen kozen voor herhaling van de leerstof, anderen draaiden hun normale lesprogramma. Ook koos het ene team voor live-instructies via Microsoft Teams en het andere voor het opnemen van instructievideo’s in het klaslokaal. Dit sluit goed aan bij de adviezen die wij in de eerste week hebben gegeven: blijf in deze periode bij je eigen visie en kernwaarden, kies een manier van werken die bij je school past en verwacht niet van jezelf dat je ineens volledig digitaal lesgeeft als je dat niet gewend bent.\n",
      "\n",
      "In de periode daarna zijn we in groepjes verschillende vraagstukken rondom digitaal onderwijs gaan onderzoeken, zoals: wat is didactisch een goede online les? Om hierover het gesprek te openen en anderen te inspireren, vloggen zes leraren en een intern begeleider (IB-er) over hun werkdagen en ervaringen. Zij delen hun video’s op een intern videokanaal in Microsoft Teams, waar alle schoolteams op kunnen reageren. Hetzelfde groepje is ook bezig met het maken van uitlegvideo’s van online middelen en een overzicht van didactische werkvormen die bij digitaal onderwijs passen. Een andere groep onderzoekt hoe je pedagogisch het beste kunt lesgeven in een virtuele klas. Want hoe stuur je bijvoorbeeld een kind uit de ‘klas’? Of kies je daar überhaupt niet voor?\n",
      "\n",
      "Wat ik een mooie ontwikkeling vind, is dat leraren samen onderzoeken hoe zij digitaal onderwijs efficiënter kunnen aanpakken. Ze ‘verdelen’ bijvoorbeeld de instructies per vak. Een leraar die affiniteit heeft met rekenen, filmt de rekeninstructies voor een aantal groepen, een leraar die affiniteit heeft met taal de taalinstructies. Zo krijgen we een handige databank met instructiefilmpjes, die we als de scholen weer opengaan ook goed kunnen gebruiken.\n",
      "\n",
      "Scholen doen er alles aan om de leerlijnen en leerdoelen te blijven volgen. Ze merken wel dat leerlingen hun aandacht er minder lang bij kunnen houden, helemaal nu het nieuwe en spannende van een online les eraf is. Daarom geven de meeste scholen ’s ochtends les en bedenken zij voor ’s middags andere activiteiten, zoals creatieve en bewegingsopdrachten. We verzamelen deze activiteiten in een map in Sharepoint. Een leuk voorbeeld hiervan is een lespakket over bomen, planten en dieren die in tuinen voorkomen, met bijbehorende fotografie-opdrachten.\n",
      "\n",
      "Er zijn ook scholen die deze periode gebruiken om te experimenteren met vakoverstijgend werken binnen actuele thema’s, zoals het coronavirus. Want wat is dat virus nou eigenlijk? Leerlingen gaan online in groepjes op onderzoek uit en maken van de resultaten een presentatie of video. Hier koppelen de leraren een aantal onderwijsdoelen aan. Ik denk dat het in deze periode extra belangrijk is om na te denken over hoe je leerstof aanbiedt en hoe je kinderen geactiveerd houdt. Voor welke vorm kies je? Laat je leerlingen samenwerken? Vraag je aan het eind van de dag nog even hoe een opdracht is gegaan?\n",
      "\n",
      "*Op Samenslimmerpo.nl lees je [meer over deze praktijk](https://www.samenslimmerpo.nl/artikel/les-op-afstand-schoolbestuur-opspoor-doet-het-zo).*\n",
      "------------------\n",
      "6281a3fd-a447-4653-88bf-1e2f5335bb22 Op het [Petrus Canisius College in Alkmaar](https://www.pcc.nu/?gclid=EAIaIQobChMImpjI47yt7gIViNV3Ch03-wA2EAAYASAAEgIlqvD_BwE) wordt vanaf januari 2015 gewerkt met een concept dat mentoren van leerjaar 3 en 4 experts van deelonderwerpen zijn die focussen op het beïnvloeden van motivatie en studiesucces. \n",
      "\n",
      "\n",
      "Onder de naam ‘Op naar de top!’ wordt iedere mentor eigenaar en specialist van één deelonderwerp op het terrein van cognitieve studievaardigheden en karakterontwikkeling: ”grit”, breinkennis, mindset, visuele en verbale informatieverwerking van grotere teksteenheden, geheugentechnieken, planning, digitale studieondersteuningsprogramma’s enzovoort. De mentor geeft zijn expertles niet alleen aan zijn/haar eigen klas, maar vervolgens ook aan alle andere klassen. Hiervoor gebruiken we in het rooster een roulatiesysteem zodat alle leerlingen elk onderwerp op dezelfde wijze gedoceerd krijgt. Een groot aantal leraren gaat zich specialiseren buiten het eigen vakgebied. De nieuw verworven kennis wordt gedeeld met collega’s waardoor het hele team sterker wordt, ook in de begeleiding van individuele leerlingen. Door deze manier van werken voelt het hele team zich betrokken bij én verantwoordelijk voor het behaalde studierendement van de totale jaarlaag. Het studierendement van leerlingen optimaliseert doordat het team professionaliseert . Met name de focus op karakter zorgt ervoor dat de leerlingen meer wilskracht en zelfregulatievaardigheden ontwikkelen waardoor ze tot betere studieresultaten komen.\n",
      "\n",
      "In jaarlaag 3 draait Op naar de top! op volle toeren. In [jaarlaag 4](https://www.lerarenontwikkelfonds.nl/voortgang-op-naar-de-top/) gaan we werken met 3 workshopmiddagen van workshops. De leerlingen maken daarin zelf een keuze, in overleg met hun coach. Ze krijgen hiervoor een strippenkaart. Op jaarbasis moeten ze dus 6 workshops gevolgd hebben. Er zijn 4 hoofdstromen op de workshopdagen met daarin steeds 2 verschillende workshops: 1) geheugen / brein / planning; 2) informatie verwerken; 3) persoonsvorming; 4) divers (faalangst en leren presenteren + op weg naar het profielwerkstuk: goede vragen leren maken). Daarnaast is er 1 workshop verplicht: onderpresteren. Een coach zal de leerlingen die dit betreft wijzen op deze workshop.\n",
      "\n",
      "*Op lerarenontwikkelfonds.nl lees je [meer over deze praktijk](https://www.lerarenontwikkelfonds.nl/initiatief/op-naar-de-top/).*\n",
      "------------------\n",
      "e097d392-974b-4213-a53e-ee8d175db548 Op [Innova](https://www.hetstedelijk.nl/nl/innova) in Enschede wordt vanaf 2017 gewerkt met de Zweedse onderwijsmethode Kunskapsskolan.\n",
      "\n",
      "**Aanleiding**\n",
      "\n",
      "In onderzoek.\n",
      "\n",
      "**Werkwijze**\n",
      "\n",
      "Leerlingen worden actief gecoacht en bij die gesprekken worden ouders ook betrokken. Leerlingen zijn verantwoordelijk voor hun eigen planning en krijgen pas huiswerk als ze achterlopen op de planning. De deelnemers spraken met docenten maar vooral ook met leerlingen over het systeem. Leerlingen kunnen er bijvoorbeeld ook voor kiezen een vak op een hoger, of lager, niveau te volgen dan zij formeel volgen.\n",
      "\n",
      "Innova stelde tien uitgangspunten op rondom het gepersonaliseerd leren:\n",
      "\n",
      "1. Leerlingen plannen hun eigen werk en rooster\n",
      "\n",
      "2. Leerlingen beslissen zelf hoe er getoetst wordt\n",
      "\n",
      "3. Leerlingen hebben veel vrijheid en weinig regels\n",
      "\n",
      "4. Leerlingen werken op hun eigen niveau\n",
      "\n",
      "5. Leerling zijn zelf verantwoordelijk voor hun leerproces\n",
      "\n",
      "6. Leerlingen stellen hun eigen doelen\n",
      "\n",
      "7. Leerlingen beslissen zelf of ze huiswerk hebben of niet\n",
      "\n",
      "8. Leerlingen worden niet ‘afgerekend’ op hun toetsresultaten\n",
      "\n",
      "9. Leerlingen hebben wekelijks een gesprek met hun coach\n",
      "\n",
      "10. Leerlingen kunnen hun ouders meenemen naar de coachingsgesprekken\n",
      "\n",
      "*Op Leerling2020.nl lees je [meer over deze praktijk](https://leerling2020.nl/op-deze-school-leer-ik-dat-het-niet-alleen-om-cijfers-draait/).*\n",
      "------------------\n"
     ]
    }
   ],
   "source": [
    "for row in rows:\n",
    "    print(row.gid, row.short_description)\n",
    "    print(\"------------------\")"
   ]
  },
  {
   "cell_type": "code",
   "execution_count": 7,
   "id": "731a7917-3e7c-41ee-9e97-56d5097472ed",
   "metadata": {},
   "outputs": [],
   "source": [
    "# omzetten"
   ]
  },
  {
   "cell_type": "code",
   "execution_count": 12,
   "id": "fd7c06d3-bb49-4f63-8175-f8c3aa8acb7f",
   "metadata": {},
   "outputs": [
    {
     "name": "stderr",
     "output_type": "stream",
     "text": [
      "0it [00:00, ?it/s]"
     ]
    },
    {
     "name": "stdout",
     "output_type": "stream",
     "text": [
      "Nothing to do!\n"
     ]
    },
    {
     "name": "stderr",
     "output_type": "stream",
     "text": [
      "\n"
     ]
    }
   ],
   "source": [
    "from tqdm import tqdm\n",
    "\n",
    "sources = [\n",
    "    \"**Resultaten**\",\n",
    "    \"**Resultaten:**\",\n",
    "    \"**Resultaten **\",\n",
    "    \"**Resulaten**\",\n",
    "    \"**Resultaat**\"\n",
    "]\n",
    "\n",
    "target = \"**Opbrengsten**\"\n",
    "\n",
    "query = db.item.id == 0\n",
    "\n",
    "for src in sources:\n",
    "    query |= db.item.short_description.ilike(f\"%{src}%\")\n",
    "\n",
    "count = db(query).count()\n",
    "rows = db(query).iterselect(db.item.id, db.item.short_description)\n",
    "\n",
    "for row in tqdm(rows, total=count):\n",
    "    description = row.short_description\n",
    "    for src in sources:\n",
    "        description = description.replace(src, target)\n",
    "\n",
    "    if description == row.short_description:\n",
    "        raise ValueError(\"Nothing changed!\")\n",
    "\n",
    "    row.update_record(short_description=description)\n",
    "else:\n",
    "    print(\"Nothing to do!\")\n",
    "\n",
    "db.commit()"
   ]
  },
  {
   "cell_type": "code",
   "execution_count": 14,
   "id": "6f4d457e-f8c7-4d23-8c35-301af7e986d1",
   "metadata": {},
   "outputs": [
    {
     "name": "stdout",
     "output_type": "stream",
     "text": [
      "Connecting to database ...\n",
      "Connected, truncating ...\n",
      "done. \n"
     ]
    }
   ],
   "source": [
    "from edwh.core.pgcache.clean import clean\n",
    "\n",
    "clean()"
   ]
  }
 ],
 "metadata": {
  "kernelspec": {
   "display_name": "Python 3 (ipykernel)",
   "language": "python",
   "name": "python3"
  },
  "language_info": {
   "codemirror_mode": {
    "name": "ipython",
    "version": 3
   },
   "file_extension": ".py",
   "mimetype": "text/x-python",
   "name": "python",
   "nbconvert_exporter": "python",
   "pygments_lexer": "ipython3",
   "version": "3.11.6"
  }
 },
 "nbformat": 4,
 "nbformat_minor": 5
}
