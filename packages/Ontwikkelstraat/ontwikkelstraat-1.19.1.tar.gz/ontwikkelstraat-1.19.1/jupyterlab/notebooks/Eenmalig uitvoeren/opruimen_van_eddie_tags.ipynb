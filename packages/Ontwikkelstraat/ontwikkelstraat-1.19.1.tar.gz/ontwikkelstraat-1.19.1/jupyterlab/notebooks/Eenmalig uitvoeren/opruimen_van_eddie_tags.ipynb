{
 "cells": [
  {
   "cell_type": "markdown",
   "metadata": {},
   "source": [
    "[taiga](https://taiga.edwh.nl/project/remco-ewcore/us/991?milestone=98)\n",
    "# Init postgress db"
   ]
  },
  {
   "cell_type": "code",
   "execution_count": null,
   "metadata": {
    "ExecuteTime": {
     "end_time": "2023-05-11T12:23:05.543385394Z",
     "start_time": "2023-05-11T12:22:59.407386237Z"
    }
   },
   "outputs": [],
   "source": [
    "%run work/__init__edwh__new.ipynb"
   ]
  },
  {
   "cell_type": "code",
   "execution_count": null,
   "metadata": {
    "ExecuteTime": {
     "end_time": "2023-05-11T12:23:05.551035465Z",
     "start_time": "2023-05-11T12:23:05.548442534Z"
    },
    "collapsed": false,
    "jupyter": {
     "outputs_hidden": false
    }
   },
   "outputs": [],
   "source": [
    "from pydal import DAL"
   ]
  },
  {
   "cell_type": "markdown",
   "metadata": {},
   "source": [
    "# Init sqlite tags db"
   ]
  },
  {
   "cell_type": "code",
   "execution_count": null,
   "metadata": {
    "ExecuteTime": {
     "end_time": "2023-05-11T12:23:05.587511869Z",
     "start_time": "2023-05-11T12:23:05.556841189Z"
    }
   },
   "outputs": [],
   "source": [
    "nieuwe_tags = DAL(\"sqlite://data/out.sqlite\")"
   ]
  },
  {
   "cell_type": "markdown",
   "metadata": {},
   "source": [
    "# Converteren van excel tags die zijn gestored in de sqlite db naar een dictionary"
   ]
  },
  {
   "cell_type": "code",
   "execution_count": null,
   "metadata": {
    "ExecuteTime": {
     "end_time": "2023-05-11T12:23:05.636245089Z",
     "start_time": "2023-05-11T12:23:05.586663932Z"
    }
   },
   "outputs": [],
   "source": [
    "sqlite_tags_as_dict = nieuwe_tags.executesql('''\n",
    "    select * from \"2021_22\"\n",
    "''', as_dict=True)\n",
    "sqlite_tags = {row[\"gid\"]: row for row in sqlite_tags_as_dict}\n",
    "print(len(sqlite_tags_as_dict))"
   ]
  },
  {
   "cell_type": "markdown",
   "metadata": {},
   "source": [
    "# Updaten van rijen in de postgress op basis van de sqlite rij"
   ]
  },
  {
   "cell_type": "code",
   "execution_count": null,
   "metadata": {
    "ExecuteTime": {
     "end_time": "2023-05-11T12:23:05.650373230Z",
     "start_time": "2023-05-11T12:23:05.647359090Z"
    }
   },
   "outputs": [],
   "source": [
    "\n",
    "def update_pg_row(postgres_gid, sqlite_row, replaced_by=None):\n",
    "    deprecated = sqlite_row[\"Deprecated\"] in (1,'1',True)\n",
    "    args = dict(\n",
    "        definition=sqlite_row[\"Definitie\"],\n",
    "        definition_source=sqlite_row[\"Bron definitie\"],\n",
    "        search_hints=sqlite_row[\"Extra zoekwoorden\"],\n",
    "        akas=[_.strip() for _ in sqlite_row[\"Alternatieve benamingen_; ipv _ !\"].split(';')],\n",
    "        questions=sqlite_row[\"Vragen horend bij hoofdtag\"],\n",
    "        definitions_of_done=sqlite_row[\n",
    "            \"Definitions of Done horend bij hoofdtag\"],\n",
    "        restrictions=sqlite_row[\"Wanneer tag wel/niet gebruiken\"],\n",
    "        name=sqlite_row[\"Hoofdtag\"],\n",
    "        related=[_.strip() for _ in sqlite_row[\"Relatie GID\"].split(';') if _.strip()],\n",
    "        remarks=(sqlite_row[\n",
    "                     \"Opmerking 1_[initialen]:…_verwijderen want is alternatieve benaming van een andere tag\"] + '\\n' +\n",
    "                 sqlite_row[\"Opmerking 2\"]).strip(),\n",
    "    )\n",
    "    args = {k: v for k, v in args.items() if v is not None and v != \"\" and v != [] and v != ['']}\n",
    "    args['deprecated'] = deprecated\n",
    "    if replaced_by is not None:\n",
    "        args['replaced_by'] = replaced_by\n",
    "    # print(db(db.tag.gid == postgres_gid)._update(**args))\n",
    "    db(db.tag.gid == postgres_gid).update(**args)\n",
    "    return deprecated"
   ]
  },
  {
   "cell_type": "markdown",
   "metadata": {},
   "source": [
    "# Vervangen van elke rij in postgres op basis van welke gid hij heeft(denk aan [\"\", \"geen\", uuid])\n",
    "\n",
    "De gid en id die hij heeft staan in de postgres db onder [\"Vervangen door [gid] of _geen_\" en \"tag-id; hoger is nieuwer\"]\n"
   ]
  },
  {
   "cell_type": "code",
   "execution_count": null,
   "metadata": {
    "ExecuteTime": {
     "end_time": "2023-05-11T12:23:06.802693626Z",
     "start_time": "2023-05-11T12:23:05.653657045Z"
    }
   },
   "outputs": [],
   "source": [
    "db.rollback()\n",
    "deprecation_count = 0\n",
    "for cnt, sqlite_row in enumerate(tqdm(sqlite_tags_as_dict), 1):\n",
    "    postgres_gid = sqlite_row[\"gid\"].strip()\n",
    "    # print(repr(postgres_gid))\n",
    "    deprecated = False\n",
    "    replaced_by = sqlite_row[\"Vervangen door [gid] of _geen_\"].strip()\n",
    "    if replaced_by == \"\":\n",
    "        # print('blanko')\n",
    "        deprecated = update_pg_row(postgres_gid, sqlite_row)\n",
    "    elif replaced_by == \"geen\":\n",
    "        # print('geen')\n",
    "        deprecated = update_pg_row(postgres_gid, sqlite_row)\n",
    "    else:\n",
    "        # print('replby:',repr(replaced_by))\n",
    "        deprecated = update_pg_row(postgres_gid, sqlite_row,\n",
    "                      replaced_by=replaced_by.replace(' ', '').replace('\\n', '').split(';')[0])\n",
    "    if deprecated:\n",
    "        deprecation_count+= 1\n",
    "display(deprecation_count)"
   ]
  },
  {
   "cell_type": "code",
   "execution_count": null,
   "metadata": {
    "ExecuteTime": {
     "end_time": "2023-05-11T12:23:06.850462884Z",
     "start_time": "2023-05-11T12:23:06.806209325Z"
    }
   },
   "outputs": [],
   "source": [
    "db.commit()"
   ]
  },
  {
   "cell_type": "code",
   "execution_count": null,
   "metadata": {
    "ExecuteTime": {
     "end_time": "2023-05-11T12:23:06.855354766Z",
     "start_time": "2023-05-11T12:23:06.824958919Z"
    }
   },
   "outputs": [],
   "source": [
    "\n",
    "for tag in [_ for _ in sqlite_tags_as_dict if ';' in _[\"Vervangen door [gid] of _geen_\"]]:\n",
    "    replaced_by = [_.strip() for _ in tag[\"Vervangen door [gid] of _geen_\"].strip().split(';')]\n",
    "    for repl in replaced_by:\n",
    "        print('⚠️', tag[\"Hoofdtag\"], ':', sqlite_tags[repl]['Hoofdtag'])"
   ]
  },
  {
   "cell_type": "markdown",
   "metadata": {},
   "source": [
    "# Wat moet er gebeuren voor verwijderde tags?\n",
    "\n",
    "De tags zijn te herkennen aan de depcrated kolom.\n",
    "\n",
    "Een translate dictionary die voor elke tag ingevuld staat en die de tag vervangt (een ander in geval van deprication) of de tag zelf als er geen vervanging is. Bij een verwijdering zonder vervanging is de value None\n",
    "\n",
    "1. maak een translate tabel van de oude naar de nieuwe tags:"
   ]
  },
  {
   "cell_type": "code",
   "execution_count": null,
   "metadata": {
    "ExecuteTime": {
     "end_time": "2023-05-11T12:23:07.857207503Z",
     "start_time": "2023-05-11T12:23:06.850806912Z"
    }
   },
   "outputs": [],
   "source": [
    "\n",
    "def replaced_by(tag):\n",
    "    if tag.deprecated:\n",
    "        if tag.replaced_by:\n",
    "            return tag.replaced_by\n",
    "        else:\n",
    "            return None\n",
    "    else:\n",
    "        return tag.gid\n",
    "\n",
    "\n",
    "translate = {tag.gid: replaced_by(tag) for tag in db(db.tag).select()}\n",
    "display({k:v for k,v in translate.items() if k != v })\n",
    "display(len({k:v for k,v in translate.items() if k != v }))"
   ]
  },
  {
   "cell_type": "code",
   "execution_count": null,
   "metadata": {
    "ExecuteTime": {
     "end_time": "2023-05-11T12:23:09.951165384Z",
     "start_time": "2023-05-11T12:23:07.861943218Z"
    }
   },
   "outputs": [],
   "source": [
    "\n",
    "if input('Rollback? y/n') == 'y':\n",
    "    db.rollback()\n",
    "    print('rollback')\n",
    "else:\n",
    "    print('no rollback')"
   ]
  },
  {
   "cell_type": "markdown",
   "metadata": {},
   "source": [
    "\n",
    "2. itereer over de artikelen:\n",
    "   ```\n",
    "    nieuwe_tags = []\n",
    "    itereer over de oude tags:\n",
    "        als de tag deprecated is:\n",
    "            vervang de tag met de nieuwe tag\n",
    "    update artikel\n",
    "   ```\n"
   ]
  },
  {
   "cell_type": "code",
   "execution_count": null,
   "metadata": {
    "ExecuteTime": {
     "end_time": "2023-05-11T12:23:16.006991354Z",
     "start_time": "2023-05-11T12:23:09.921574019Z"
    }
   },
   "outputs": [],
   "source": [
    "updated, withheld = 0, 0\n",
    "for idx, item in enumerate(tqdm(db(db.item.platform == 'SvS').select())):\n",
    "    prev = item.tags[:]\n",
    "    item.tags = list({translate.get(tag,tag) for tag in item.tags})\n",
    "\n",
    "    removed = len([tag for tag in item.tags if tag is None])\n",
    "    # if removed:\n",
    "    #   print(f'removing {removed} drepcated tags from {item.name}')\n",
    "    item.tags = [tag for tag in item.tags if tag]\n",
    "    if item.tags != prev:\n",
    "        updated += 1\n",
    "        # print(f'{item.gid} {prev} -> {item.tags}')\n",
    "    else:\n",
    "        withheld += 1\n",
    "    item.update_record()\n",
    "print(f'updated {updated} withheld {withheld}')"
   ]
  },
  {
   "cell_type": "code",
   "execution_count": null,
   "metadata": {
    "ExecuteTime": {
     "end_time": "2023-05-11T12:23:26.903528675Z",
     "start_time": "2023-05-11T12:23:16.008360878Z"
    }
   },
   "outputs": [],
   "source": [
    "deprecated_count = 0\n",
    "for pgtag in tqdm(db(db.tag).select()):\n",
    "    pgtag.parents = list({translate[tag] for tag in pgtag.parents or [] if translate[tag]})\n",
    "    pgtag.children = list({translate[tag] for tag in pgtag.children or [] if translate[tag]})\n",
    "    deprecated = translate[pgtag.gid] != pgtag.gid\n",
    "    deprecated_count += 1 if deprecated else 0\n",
    "    pgtag.update_record()\n",
    "print(f'deprecated {deprecated_count}')"
   ]
  },
  {
   "cell_type": "code",
   "execution_count": null,
   "metadata": {
    "ExecuteTime": {
     "end_time": "2023-05-11T12:23:26.936272896Z",
     "start_time": "2023-05-11T12:23:26.870997472Z"
    }
   },
   "outputs": [],
   "source": [
    "db.executesql('''\n",
    "select count(*), deprecated from tag  group by deprecated\n",
    "''')"
   ]
  },
  {
   "cell_type": "code",
   "execution_count": null,
   "metadata": {
    "ExecuteTime": {
     "end_time": "2023-05-11T12:23:26.936839458Z",
     "start_time": "2023-05-11T12:23:26.889402869Z"
    }
   },
   "outputs": [],
   "source": [
    "db.commit()"
   ]
  },
  {
   "cell_type": "code",
   "execution_count": null,
   "metadata": {
    "ExecuteTime": {
     "end_time": "2023-05-11T12:23:26.937072589Z",
     "start_time": "2023-05-11T12:23:26.919373214Z"
    }
   },
   "outputs": [],
   "source": []
  }
 ],
 "metadata": {
  "kernelspec": {
   "display_name": "Python 3 (ipykernel)",
   "language": "python",
   "name": "python3"
  },
  "language_info": {
   "codemirror_mode": {
    "name": "ipython",
    "version": 3
   },
   "file_extension": ".py",
   "mimetype": "text/x-python",
   "name": "python",
   "nbconvert_exporter": "python",
   "pygments_lexer": "ipython3",
   "version": "3.10.11"
  }
 },
 "nbformat": 4,
 "nbformat_minor": 4
}
