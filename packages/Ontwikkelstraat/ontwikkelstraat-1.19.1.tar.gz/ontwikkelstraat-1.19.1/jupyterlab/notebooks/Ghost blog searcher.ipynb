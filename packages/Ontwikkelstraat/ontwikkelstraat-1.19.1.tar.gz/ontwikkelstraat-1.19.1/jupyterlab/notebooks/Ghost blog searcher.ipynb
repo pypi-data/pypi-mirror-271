{
 "cells": [
  {
   "cell_type": "code",
   "execution_count": 3,
   "id": "113ff577-03ef-4c9e-a981-aea7b7fb1633",
   "metadata": {},
   "outputs": [
    {
     "name": "stdout",
     "output_type": "stream",
     "text": [
      "Python 3.9.7 | packaged by conda-forge | (default, Sep 29 2021, 19:20:46) \n",
      "[GCC 9.4.0]\n",
      " * postgresql://postgres@pgpool:5432/backend\n",
      "Done.\n"
     ]
    }
   ],
   "source": [
    "%run ./__init__edwh__notebooks.ipynb"
   ]
  },
  {
   "cell_type": "code",
   "execution_count": 105,
   "id": "a11f1d1c-f40e-4a01-a284-488b1606c1e9",
   "metadata": {},
   "outputs": [],
   "source": [
    "!pip install attrs nltk"
   ]
  },
  {
   "cell_type": "code",
   "execution_count": 140,
   "id": "160c2710-fc2b-4af2-9c1e-83d24784df3b",
   "metadata": {},
   "outputs": [
    {
     "name": "stdout",
     "output_type": "stream",
     "text": [
      "super lang tekst gestemd moet worden kijk hoe werkt en of werkt\n"
     ]
    },
    {
     "name": "stderr",
     "output_type": "stream",
     "text": [
      "[nltk_data] Downloading package stopwords to /home/jovyan/nltk_data...\n",
      "[nltk_data]   Package stopwords is already up-to-date!\n"
     ]
    }
   ],
   "source": [
    "from nltk.stem.snowball import SnowballStemmer \n",
    "import string, re\n",
    "from nltk import download\n",
    "download('stopwords')\n",
    "stemmer=SnowballStemmer(\"dutch\", ignore_stopwords=True)\n",
    "stemmer.stem(\"hebben\")\n",
    "split_re = re.compile(f'[{string.punctuation}{string.whitespace}]+')\n",
    "common = 'de het een die nu dat wat hij zij we hun hen ze al'.split(' ')\n",
    "\n",
    "def stemmed(body):\n",
    "    tokens = [t for t in split_re.split(body) if t]\n",
    "    tokens = [t.lower() for t in tokens]\n",
    "    tokens = [t for t in tokens if t not in common]\n",
    "    tokens = [stemmer.stem(t) for t in tokens]\n",
    "    return ' '.join(tokens)\n",
    "print(stemmed('Een super lange tekst, die nu gestemd moet worden. Kijken hoe dat werkt, en of dat werkt!'))"
   ]
  },
  {
   "cell_type": "code",
   "execution_count": 134,
   "id": "fb1bb6b6-0d72-40ca-98ba-9f49ba3ea3e4",
   "metadata": {},
   "outputs": [
    {
     "name": "stdout",
     "output_type": "stream",
     "text": [
      "REFRESH TOKEN\n"
     ]
    }
   ],
   "source": [
    "import ghost\n",
    "ghost = reload(ghost)\n",
    "SITE_CONFIG = {\n",
    "    'url': 'https://archief.meteddie.nl/', \n",
    "    'adminAPIKey': os.getenv('GHOST_ADMIN_API_KEY'),\n",
    "    'contentAPIKey': os.getenv('GHOST_CONTENT_API_KEY')\n",
    "}\n",
    "g = ghost.GhostAdmin(**SITE_CONFIG)"
   ]
  },
  {
   "cell_type": "code",
   "execution_count": 6,
   "id": "62a2421f-9d84-4345-ad8b-e924634d3b23",
   "metadata": {},
   "outputs": [],
   "source": [
    "alle_posts = g.getAllPosts()"
   ]
  },
  {
   "cell_type": "code",
   "execution_count": 40,
   "id": "0be5eadb-a046-4a0a-b3e5-38d5a5feb832",
   "metadata": {},
   "outputs": [
    {
     "data": {
      "text/plain": [
       "'Hier op het blog was het stil, maar bij ons op school gebeurt er heel veel! Halverwege het vorige sc'"
      ]
     },
     "execution_count": 40,
     "metadata": {},
     "output_type": "execute_result"
    }
   ],
   "source": [
    "post = alle_posts[3]\n",
    "\n",
    "body = ' '.join(BeautifulSoup(post['html']).stripped_strings)\n",
    "body[:100]"
   ]
  },
  {
   "cell_type": "code",
   "execution_count": 178,
   "id": "2c868c21-a9c1-461c-a6c1-aa199f4433ba",
   "metadata": {},
   "outputs": [
    {
     "data": {
      "text/plain": [
       "'proef'"
      ]
     },
     "execution_count": 178,
     "metadata": {},
     "output_type": "execute_result"
    }
   ],
   "source": [
    "\n",
    "stemmer.stem(\"proef\")"
   ]
  },
  {
   "cell_type": "markdown",
   "id": "0d59f10f-2838-4735-af50-52e52799bfd8",
   "metadata": {},
   "source": [
    "# FullTextSearch in sqlite3 \n",
    "https://www.sqlite.org/fts5.html"
   ]
  },
  {
   "cell_type": "code",
   "execution_count": 142,
   "id": "5b9f8c44-8d9f-425e-9a04-df70a0a4c96b",
   "metadata": {},
   "outputs": [],
   "source": [
    "import sqlite3 \n",
    "conn = sqlite3.connect(':memory:')\n",
    "cur = conn.cursor()"
   ]
  },
  {
   "cell_type": "markdown",
   "id": "00bd0117-32ad-4810-a8cf-d76a6deb49fc",
   "metadata": {},
   "source": [
    "`CREATE VIRTUAL TABLE ... USING FTS5(COLS, <OPTIONS>)`\n",
    " * `id unindexed` - ID wordt niet meegenomen in de search\n",
    " * `tokenize='trigram'` - experimenteel ding dat in delen van woorden zoekt, stemming is anders alleen Engels, en daar hebben we niks aan. "
   ]
  },
  {
   "cell_type": "code",
   "execution_count": 143,
   "id": "259b93b2-1dc3-4549-951a-37932f5ec1ed",
   "metadata": {},
   "outputs": [],
   "source": [
    "cur.execute(\"\"\"\n",
    "  create virtual table posts using FTS5(id unindexed, title, body, tokens, tokenize='trigram')\n",
    "\"\"\")\n",
    "fields = 'id,title,body,tokens'.split(',')"
   ]
  },
  {
   "cell_type": "code",
   "execution_count": 145,
   "id": "d560050e-3917-4111-ac2e-8a94410cc320",
   "metadata": {},
   "outputs": [
    {
     "data": {
      "text/plain": [
       "<sqlite3.Cursor at 0x7f2fd887c340>"
      ]
     },
     "execution_count": 145,
     "metadata": {},
     "output_type": "execute_result"
    }
   ],
   "source": [
    "# gebruik executemany om alles in 1 keer in te schieten, \n",
    "# en niet heel veel inserts (als backend dat ondersteund)\n",
    "cur.execute('delete from posts;')\n",
    "cur.executemany(\"\"\"\n",
    "  insert into posts values (?, ?, ?, ?)\n",
    "\"\"\", [(post['uuid'], post['title'],' '.join(BeautifulSoup(post['html']).stripped_strings), stemmed(' '.join(BeautifulSoup(post['html']).stripped_strings))) for post in alle_posts])\n",
    "cur.execute('commit')"
   ]
  },
  {
   "cell_type": "code",
   "execution_count": 179,
   "id": "72f69f97-a6a3-4b55-8754-63978efa48cd",
   "metadata": {},
   "outputs": [
    {
     "name": "stdout",
     "output_type": "stream",
     "text": [
      "...voorbeelden, [onderzoekjes] en [proefjes] voor [leerlingen], studies, cu...\n",
      "... lesvoorbeeld [onderzoekjes] en [proefjes] voor [leerling] studies cursu...\n",
      "\n"
     ]
    }
   ],
   "source": [
    "body_idx = fields.index('body')\n",
    "tokens_idx = fields.index('tokens')\n",
    "needle = 'onderzoekjes proefjes leerlingen'\n",
    "for row in cur.execute(f\"\"\"\n",
    "    select bm25(posts), id, title, snippet(posts, {body_idx} ,'[',']','...',64), snippet(posts, {tokens_idx}, '[',']','...',64)\n",
    "      from posts \n",
    "     where tokens match :stemmed\n",
    "       and body match :original\n",
    "     order by bm25(posts) desc \n",
    "     limit 10\n",
    "    \"\"\",{'stemmed':stemmed(needle),'original':needle}):\n",
    "    print(row[3])\n",
    "    print(row[4])\n",
    "    print()\n",
    "    "
   ]
  },
  {
   "cell_type": "code",
   "execution_count": 182,
   "id": "463a9e01-c735-4018-b917-5964b5ca1d83",
   "metadata": {},
   "outputs": [
    {
     "name": "stdout",
     "output_type": "stream",
     "text": [
      "('6f446263-2bb7-461a-8296-acbefde5add0', 'Ready for the Ride - Moreel Leiderschap &amp; Moraal', '...‘De [leerling]en leren hoofdzaken over geestelijke stromingen die in...')\n",
      "\n",
      "('da6ae360-47ab-4330-848a-9b32e7000851', 'Idee en LOF, een spannend stel…', '...svoorbeelden, [onderzoek]jes en [proef]jes voor [leerling]en, studies, c...')\n",
      "\n",
      "('03f25d76-738d-4d99-9f2e-9de0ddf8974f', 'WIG wordt warm!', '...[caption id=\"attachment_7525\" align=\"alignleft\" width=\"404\"] [Leerl]...')\n",
      "\n",
      "('d6fc8fe6-17c4-4f28-8697-426dce8a600d', 'Ready for the Ride - Moreel Leiderschap &amp; Ouders', 'Voor het inkoppen Ouders - Het opvoeden van [leerling]en tot morele ...')\n",
      "\n",
      "('071f9178-8d39-4011-8f48-1886ed884ddc', '4 je Talent', '...rbij [onderzoek]end leren centraal staat. [Leerling]en gaan [proef]onder...')\n",
      "\n",
      "('762cff06-26a1-47d3-9265-b5cbfb0c3290', 'Inventiviteit bij natuurkunde', '...orden in [proef]jes en praktische opdrachten. Laat [leerling]en zelf u...')\n",
      "\n"
     ]
    }
   ],
   "source": [
    "body_idx = fields.index('body')\n",
    "tokens_idx = fields.index('tokens')\n",
    "needle = 'onderzoek proef leerling'\n",
    "for row in cur.execute(f\"\"\"\n",
    "    with stemmed as (\n",
    "    select id\n",
    "      from posts \n",
    "     where tokens match :stemmed\n",
    "     order by bm25(posts) desc\n",
    "    ) select posts.id, title, snippet(posts, {body_idx} ,'[',']','...',64)\n",
    "      from posts inner join stemmed on posts.id = stemmed.id \n",
    "      where body match :original\n",
    "      order by bm25(posts) desc\n",
    "      limit 10\n",
    "    \"\"\",{'stemmed':stemmed(needle),'original':needle}):\n",
    "    print(row)\n",
    "    print()\n",
    "    "
   ]
  },
  {
   "cell_type": "code",
   "execution_count": null,
   "id": "874d4e30-df75-4127-8a4d-f04f611bb072",
   "metadata": {},
   "outputs": [],
   "source": []
  }
 ],
 "metadata": {
  "kernelspec": {
   "display_name": "Python 3 (ipykernel)",
   "language": "python",
   "name": "python3"
  },
  "language_info": {
   "codemirror_mode": {
    "name": "ipython",
    "version": 3
   },
   "file_extension": ".py",
   "mimetype": "text/x-python",
   "name": "python",
   "nbconvert_exporter": "python",
   "pygments_lexer": "ipython3",
   "version": "3.9.7"
  }
 },
 "nbformat": 4,
 "nbformat_minor": 5
}
