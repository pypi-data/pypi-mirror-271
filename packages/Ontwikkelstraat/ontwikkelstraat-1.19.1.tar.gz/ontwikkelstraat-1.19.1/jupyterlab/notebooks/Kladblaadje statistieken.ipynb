{
 "cells": [
  {
   "cell_type": "code",
   "execution_count": 1,
   "id": "cfe1315c-8639-4dcd-bf35-585da1a6baac",
   "metadata": {},
   "outputs": [
    {
     "name": "stdout",
     "output_type": "stream",
     "text": [
      "Python 3.9.7 | packaged by conda-forge | (default, Sep 29 2021, 19:20:46) \n",
      "[GCC 9.4.0]\n",
      "Heel veel packages aan het installeren\n",
      "Backend installeren\n",
      "\u001b[33mWARNING: The candidate selected for download or install is a yanked version: 'geventhttpclient' candidate (version 1.4.5 at https://devpi.edwh.nl/root/pypi/%2Bf/3f0/ab18d84ef26ba/geventhttpclient-1.4.5.tar.gz#sha256=3f0ab18d84ef26ba0c9df73ae2a41ba30a46072b447f2e36c740400de4a63d44 (from https://devpi.edwh.nl/remco/dev/+simple/geventhttpclient/))\n",
      "Reason for being yanked: <none given>\u001b[0m\n",
      "\u001b[31mERROR: pip's dependency resolver does not currently take into account all the packages that are installed. This behaviour is the source of the following dependency conflicts.\n",
      "ipykernel 6.6.0 requires traitlets<6.0,>=5.1.0, but you have traitlets 5.0.5 which is incompatible.\n",
      "distributed 2021.12.0 requires click>=6.6, but you have click 6.2 which is incompatible.\n",
      "anyio 3.4.0 requires idna>=2.8, but you have idna 2.7 which is incompatible.\u001b[0m\n",
      "jupyterlab niet stuk maken\n",
      "\u001b[31mERROR: pip's dependency resolver does not currently take into account all the packages that are installed. This behaviour is the source of the following dependency conflicts.\n",
      "backend 2.29.27 requires traitlets==5.0.5, but you have traitlets 5.1.1 which is incompatible.\u001b[0m\n",
      " * postgresql://postgres@pgpool:5432/backend\n",
      "Done.\n"
     ]
    }
   ],
   "source": [
    "%run ./__init__edwh__notebooks.ipynb"
   ]
  },
  {
   "cell_type": "code",
   "execution_count": 52,
   "id": "2b367cf2-1a51-4d86-9be5-b1130828d2e4",
   "metadata": {},
   "outputs": [
    {
     "data": {
      "text/plain": [
       "[(1,\n",
       "  '88838ec1-315b-46ca-8ad1-fe938747fa75',\n",
       "  datetime.datetime(2021, 12, 6, 14, 57, 47, 159589),\n",
       "  'search',\n",
       "  'test_http_signals',\n",
       "  'a309770b-9670-461f-8429-666a6bd6a2db',\n",
       "  'd62328f8-c52d-4ff4-befc-8888841a70f0',\n",
       "  1,\n",
       "  'ba2369b0-1df8-4139-82b1-7e4b74b3c3c6',\n",
       "  '537fa054-891e-4a18-9c70-49dfe431f507'),\n",
       " (2,\n",
       "  '20fb21eb-e056-4abf-9e4a-6919b910a114',\n",
       "  datetime.datetime(2021, 12, 6, 14, 57, 47, 159589),\n",
       "  'search',\n",
       "  'test_http_signals',\n",
       "  'a309770b-9670-461f-8429-666a6bd6a2db',\n",
       "  'd62328f8-c52d-4ff4-befc-8888841a70f0',\n",
       "  2,\n",
       "  '4573e05a-aede-45b6-9c5e-5fc14e2afdaf',\n",
       "  '537fa054-891e-4a18-9c70-49dfe431f507'),\n",
       " (3,\n",
       "  '2d2e8012-8ff0-47e5-ac2f-0b7979be905f',\n",
       "  datetime.datetime(2021, 12, 6, 14, 57, 47, 159589),\n",
       "  'browse-items',\n",
       "  'test_http_signals',\n",
       "  'a309770b-9670-461f-8429-666a6bd6a2db',\n",
       "  'd62328f8-c52d-4ff4-befc-8888841a70f0',\n",
       "  3,\n",
       "  'c38694a9-22c0-430c-a887-479e47a56a40',\n",
       "  '537fa054-891e-4a18-9c70-49dfe431f507'),\n",
       " (4,\n",
       "  '47c42103-f29c-459b-82fa-696f49fcba6f',\n",
       "  datetime.datetime(2021, 12, 6, 15, 4, 24, 243591),\n",
       "  'search',\n",
       "  'test_http_signals',\n",
       "  'f9162bf6-6592-4565-89a6-abcbd438cdbd',\n",
       "  '141d825d-dd32-4b3a-82ea-c12f60d81ee0',\n",
       "  1,\n",
       "  'ba2369b0-1df8-4139-82b1-7e4b74b3c3c6',\n",
       "  'a3f2a4ba-a0bc-4281-a43f-2ebb97ca0e23'),\n",
       " (5,\n",
       "  '7e8dd4d2-1825-4e73-a5ab-315d566f8f67',\n",
       "  datetime.datetime(2021, 12, 6, 15, 4, 24, 243591),\n",
       "  'search',\n",
       "  'test_http_signals',\n",
       "  'f9162bf6-6592-4565-89a6-abcbd438cdbd',\n",
       "  '141d825d-dd32-4b3a-82ea-c12f60d81ee0',\n",
       "  2,\n",
       "  '4573e05a-aede-45b6-9c5e-5fc14e2afdaf',\n",
       "  'a3f2a4ba-a0bc-4281-a43f-2ebb97ca0e23'),\n",
       " (6,\n",
       "  '5eccbc04-a7f7-49fa-a34a-58922fc7a76d',\n",
       "  datetime.datetime(2021, 12, 6, 15, 4, 24, 243591),\n",
       "  'browse-items',\n",
       "  'test_http_signals',\n",
       "  'f9162bf6-6592-4565-89a6-abcbd438cdbd',\n",
       "  '141d825d-dd32-4b3a-82ea-c12f60d81ee0',\n",
       "  3,\n",
       "  'c38694a9-22c0-430c-a887-479e47a56a40',\n",
       "  'a3f2a4ba-a0bc-4281-a43f-2ebb97ca0e23'),\n",
       " (7,\n",
       "  'ef5d03e2-46f8-403a-8c8c-9f876efec51c',\n",
       "  datetime.datetime(2021, 12, 6, 15, 7, 53, 13978),\n",
       "  'search',\n",
       "  'test_http_signals',\n",
       "  '6ea2ec81-05ef-412e-b7df-c0b08ad856d1',\n",
       "  '335c7272-0119-4624-aa71-42f58cc7ee69',\n",
       "  1,\n",
       "  'ba2369b0-1df8-4139-82b1-7e4b74b3c3c6',\n",
       "  '443e0bf2-a040-4335-b1d5-fbf1f5baa0c7'),\n",
       " (8,\n",
       "  'f59bdd76-a70e-4d64-abab-8255d99a1582',\n",
       "  datetime.datetime(2021, 12, 6, 15, 7, 53, 13978),\n",
       "  'search',\n",
       "  'test_http_signals',\n",
       "  '6ea2ec81-05ef-412e-b7df-c0b08ad856d1',\n",
       "  '335c7272-0119-4624-aa71-42f58cc7ee69',\n",
       "  2,\n",
       "  '4573e05a-aede-45b6-9c5e-5fc14e2afdaf',\n",
       "  '443e0bf2-a040-4335-b1d5-fbf1f5baa0c7'),\n",
       " (9,\n",
       "  'b349ed34-73d7-48cc-a3cf-406b5a33b8a0',\n",
       "  datetime.datetime(2021, 12, 6, 15, 7, 53, 13978),\n",
       "  'browse-items',\n",
       "  'test_http_signals',\n",
       "  '6ea2ec81-05ef-412e-b7df-c0b08ad856d1',\n",
       "  '335c7272-0119-4624-aa71-42f58cc7ee69',\n",
       "  3,\n",
       "  'c38694a9-22c0-430c-a887-479e47a56a40',\n",
       "  '443e0bf2-a040-4335-b1d5-fbf1f5baa0c7'),\n",
       " (10,\n",
       "  'dd9291a6-9dc3-4655-b3ef-ad0cf618750c',\n",
       "  datetime.datetime(2021, 12, 6, 15, 9, 47, 368731),\n",
       "  'search',\n",
       "  'test_http_signals',\n",
       "  '138d1599-88b9-4a20-b0e1-361f4a2bb882',\n",
       "  'd3da45bd-7463-4866-89e8-6f3e361b33c5',\n",
       "  1,\n",
       "  'ba2369b0-1df8-4139-82b1-7e4b74b3c3c6',\n",
       "  '26ff1842-684c-4350-9162-13463574eb87')]"
      ]
     },
     "execution_count": 52,
     "metadata": {},
     "output_type": "execute_result"
    }
   ],
   "source": [
    "import datetime \n",
    "from datetime import timedelta \n",
    "now = datetime.datetime.now()\n",
    "db.rollback()\n",
    "db.executesql('select * from signal where ts between %s and %s limit 10 ', placeholders=(now-timedelta(days=10),now))\n"
   ]
  },
  {
   "cell_type": "code",
   "execution_count": 53,
   "id": "f46b0a71-d502-4bc2-ade4-a4147cea86e9",
   "metadata": {},
   "outputs": [
    {
     "data": {
      "text/plain": [
       "288"
      ]
     },
     "execution_count": 53,
     "metadata": {},
     "output_type": "execute_result"
    }
   ],
   "source": [
    "db.rollback()\n",
    "last_stats = db(db.counts_per_minute).select(db.counts_per_minute.ts.max()).first()[db.counts_per_minute.ts.max()]\n",
    "ten_minutes_ago = datetime.datetime.now() - datetime.timedelta(minutes=10)\n",
    "db((db.signal.ts < ten_minutes_ago) &(db.signal.ts > last_stats)).count()"
   ]
  },
  {
   "cell_type": "code",
   "execution_count": 54,
   "id": "b9ba0c02-85b7-409c-9710-26da4d2ee35a",
   "metadata": {},
   "outputs": [
    {
     "data": {
      "text/plain": [
       "datetime.datetime(2021, 12, 8, 8, 34, 49, 801388)"
      ]
     },
     "execution_count": 54,
     "metadata": {},
     "output_type": "execute_result"
    }
   ],
   "source": [
    "ten_minutes_ago"
   ]
  },
  {
   "cell_type": "code",
   "execution_count": 55,
   "id": "84e671e8-5b58-449a-98e8-bfa0aafcff1b",
   "metadata": {},
   "outputs": [
    {
     "data": {
      "text/plain": [
       "<DAL uri=\"postgres://******@pgpool:5432/backend\">"
      ]
     },
     "execution_count": 55,
     "metadata": {},
     "output_type": "execute_result"
    }
   ],
   "source": [
    "db"
   ]
  },
  {
   "cell_type": "code",
   "execution_count": 83,
   "id": "3545e69b-3c2b-4852-95dd-da3eabdf86a5",
   "metadata": {},
   "outputs": [],
   "source": [
    "from pydal import SQLCustomType, DAL, Field\n",
    "try: \n",
    "    db.close()\n",
    "except: \n",
    "    pass \n",
    "db=DAL(db._uri)\n",
    "db.executesql(\"PGPOOL SET client_idle_limit = 3600;\")\n",
    "#uuid_type = SQLCustomType(type='string', native='uuid', encoder=lambda uuid:str(uuid), decoder=lambda str_:uuid.UUID(str_) )\n",
    "db.define_table('u1',Field('u',type=uuid_type))\n",
    "# db.define_table('u2',Field('u','uuid'))\n",
    "db.u1.insert(u=uuid.uuid4())\n",
    "db.close()"
   ]
  },
  {
   "cell_type": "code",
   "execution_count": 5,
   "id": "d0996fd3-4b8f-454f-bc2d-3bbb3bbd356d",
   "metadata": {},
   "outputs": [
    {
     "name": "stdout",
     "output_type": "stream",
     "text": [
      " * postgresql://postgres@pgpool:5432/backend\n",
      "1 rows affected.\n"
     ]
    },
    {
     "data": {
      "text/html": [
       "<table>\n",
       "    <tr>\n",
       "        <th>gid</th>\n",
       "    </tr>\n",
       "    <tr>\n",
       "        <td>a1498ae3-0f59-415b-bb6c-086d8e67ceb4</td>\n",
       "    </tr>\n",
       "</table>"
      ],
      "text/plain": [
       "[('a1498ae3-0f59-415b-bb6c-086d8e67ceb4',)]"
      ]
     },
     "execution_count": 5,
     "metadata": {},
     "output_type": "execute_result"
    }
   ],
   "source": [
    "%%sql\n",
    "select gid from tag where name = 'Schatkist'"
   ]
  },
  {
   "cell_type": "code",
   "execution_count": 6,
   "id": "6121b5d1-00ab-4ec0-8f84-5b1284966999",
   "metadata": {},
   "outputs": [],
   "source": [
    "tag = Tag('Schatkist')"
   ]
  },
  {
   "cell_type": "code",
   "execution_count": 10,
   "id": "f927d5cb-5cd1-4aed-b559-7ad6c9a87dc9",
   "metadata": {},
   "outputs": [],
   "source": [
    "schatkist_gid = tag.gid "
   ]
  },
  {
   "cell_type": "code",
   "execution_count": 11,
   "id": "cdf88af9-3bda-4bd7-993f-a5303c37a862",
   "metadata": {},
   "outputs": [
    {
     "name": "stdout",
     "output_type": "stream",
     "text": [
      " * postgresql://postgres@pgpool:5432/backend\n",
      "1 rows affected.\n"
     ]
    },
    {
     "data": {
      "text/html": [
       "<table>\n",
       "    <tr>\n",
       "        <th>id</th>\n",
       "        <th>tag_gid</th>\n",
       "        <th>attachment_gid</th>\n",
       "    </tr>\n",
       "    <tr>\n",
       "        <td>40</td>\n",
       "        <td>a1498ae3-0f59-415b-bb6c-086d8e67ceb4</td>\n",
       "        <td>4e13e496-80ef-4167-a117-eb15270304b6</td>\n",
       "    </tr>\n",
       "</table>"
      ],
      "text/plain": [
       "[(40, 'a1498ae3-0f59-415b-bb6c-086d8e67ceb4', '4e13e496-80ef-4167-a117-eb15270304b6')]"
      ]
     },
     "execution_count": 11,
     "metadata": {},
     "output_type": "execute_result"
    }
   ],
   "source": [
    "%%sql\n",
    "select * from sticker where tag_gid = :schatkist_gid "
   ]
  },
  {
   "cell_type": "code",
   "execution_count": 12,
   "id": "8116ab5b-b36b-4e23-8338-cbcd2894ac75",
   "metadata": {},
   "outputs": [
    {
     "name": "stdout",
     "output_type": "stream",
     "text": [
      " * postgresql://postgres@pgpool:5432/backend\n",
      "1 rows affected.\n"
     ]
    },
    {
     "data": {
      "text/html": [
       "<table>\n",
       "    <tr>\n",
       "        <th>id</th>\n",
       "        <th>platform</th>\n",
       "        <th>gid</th>\n",
       "        <th>attachment</th>\n",
       "        <th>filename</th>\n",
       "        <th>purpose</th>\n",
       "        <th>ts_uploaded</th>\n",
       "        <th>owner_gid</th>\n",
       "        <th>b2_uri</th>\n",
       "    </tr>\n",
       "    <tr>\n",
       "        <td>3909</td>\n",
       "        <td>SvS</td>\n",
       "        <td>4e13e496-80ef-4167-a117-eb15270304b6</td>\n",
       "        <td>attachment.attachment.bc2797142ef2ed42.YTE0OThhZTMtMGY1OS00MTViLWJiNmMtMDg2ZDhlNjdjZWI0LmpwZWc=.jpeg</td>\n",
       "        <td>a1498ae3-0f59-415b-bb6c-086d8e67ceb4.jpeg</td>\n",
       "        <td>attachment</td>\n",
       "        <td>2022-02-07 17:10:46</td>\n",
       "        <td>c8831058-34a3-42f1-ad83-eaf84aef2a30</td>\n",
       "        <td>None</td>\n",
       "    </tr>\n",
       "</table>"
      ],
      "text/plain": [
       "[(3909, 'SvS', '4e13e496-80ef-4167-a117-eb15270304b6', 'attachment.attachment.bc2797142ef2ed42.YTE0OThhZTMtMGY1OS00MTViLWJiNmMtMDg2ZDhlNjdjZWI0LmpwZWc=.jpeg', 'a1498ae3-0f59-415b-bb6c-086d8e67ceb4.jpeg', 'attachment', datetime.datetime(2022, 2, 7, 17, 10, 46), 'c8831058-34a3-42f1-ad83-eaf84aef2a30', None)]"
      ]
     },
     "execution_count": 12,
     "metadata": {},
     "output_type": "execute_result"
    }
   ],
   "source": [
    "%%sql\n",
    "select * from attachment where gid = '4e13e496-80ef-4167-a117-eb15270304b6'"
   ]
  },
  {
   "cell_type": "markdown",
   "id": "a9e21ca2-2289-4ac8-bf24-dba87834f854",
   "metadata": {},
   "source": [
    "## Verstuurde berichten achterhalen"
   ]
  },
  {
   "cell_type": "code",
   "execution_count": 13,
   "id": "7179db49-32cd-4839-9b59-1bcbd8acb5f1",
   "metadata": {},
   "outputs": [
    {
     "name": "stdout",
     "output_type": "stream",
     "text": [
      " * postgresql://postgres@pgpool:5432/backend\n",
      "19 rows affected.\n"
     ]
    },
    {
     "data": {
      "text/html": [
       "<table>\n",
       "    <tr>\n",
       "        <th>name</th>\n",
       "        <th>count</th>\n",
       "    </tr>\n",
       "    <tr>\n",
       "        <td>api-activity</td>\n",
       "        <td>569680</td>\n",
       "    </tr>\n",
       "    <tr>\n",
       "        <td>version</td>\n",
       "        <td>110037</td>\n",
       "    </tr>\n",
       "    <tr>\n",
       "        <td>new-session-token</td>\n",
       "        <td>107894</td>\n",
       "    </tr>\n",
       "    <tr>\n",
       "        <td>search</td>\n",
       "        <td>35534</td>\n",
       "    </tr>\n",
       "    <tr>\n",
       "        <td>read-organisation</td>\n",
       "        <td>30482</td>\n",
       "    </tr>\n",
       "    <tr>\n",
       "        <td>read-item</td>\n",
       "        <td>12998</td>\n",
       "    </tr>\n",
       "    <tr>\n",
       "        <td>read-user</td>\n",
       "        <td>3039</td>\n",
       "    </tr>\n",
       "    <tr>\n",
       "        <td>download-attachment</td>\n",
       "        <td>2048</td>\n",
       "    </tr>\n",
       "    <tr>\n",
       "        <td>login-failed</td>\n",
       "        <td>105</td>\n",
       "    </tr>\n",
       "    <tr>\n",
       "        <td>login-user</td>\n",
       "        <td>93</td>\n",
       "    </tr>\n",
       "    <tr>\n",
       "        <td>update-mark</td>\n",
       "        <td>27</td>\n",
       "    </tr>\n",
       "    <tr>\n",
       "        <td>server event</td>\n",
       "        <td>24</td>\n",
       "    </tr>\n",
       "    <tr>\n",
       "        <td>clean redis</td>\n",
       "        <td>15</td>\n",
       "    </tr>\n",
       "    <tr>\n",
       "        <td>update_me</td>\n",
       "        <td>12</td>\n",
       "    </tr>\n",
       "    <tr>\n",
       "        <td>reset-password</td>\n",
       "        <td>8</td>\n",
       "    </tr>\n",
       "    <tr>\n",
       "        <td>create-item</td>\n",
       "        <td>5</td>\n",
       "    </tr>\n",
       "    <tr>\n",
       "        <td>new-user</td>\n",
       "        <td>4</td>\n",
       "    </tr>\n",
       "    <tr>\n",
       "        <td>email-validation-requested</td>\n",
       "        <td>2</td>\n",
       "    </tr>\n",
       "    <tr>\n",
       "        <td>send-message</td>\n",
       "        <td>1</td>\n",
       "    </tr>\n",
       "</table>"
      ],
      "text/plain": [
       "[('api-activity', 569680),\n",
       " ('version', 110037),\n",
       " ('new-session-token', 107894),\n",
       " ('search', 35534),\n",
       " ('read-organisation', 30482),\n",
       " ('read-item', 12998),\n",
       " ('read-user', 3039),\n",
       " ('download-attachment', 2048),\n",
       " ('login-failed', 105),\n",
       " ('login-user', 93),\n",
       " ('update-mark', 27),\n",
       " ('server event', 24),\n",
       " ('clean redis', 15),\n",
       " ('update_me', 12),\n",
       " ('reset-password', 8),\n",
       " ('create-item', 5),\n",
       " ('new-user', 4),\n",
       " ('email-validation-requested', 2),\n",
       " ('send-message', 1)]"
      ]
     },
     "execution_count": 13,
     "metadata": {},
     "output_type": "execute_result"
    }
   ],
   "source": [
    "%%sql\n",
    "select name, count(*)  from signal group by name order by count(*) desc;    "
   ]
  },
  {
   "cell_type": "code",
   "execution_count": 12,
   "id": "6751f9da-cc82-491a-818a-f681f2f8eb28",
   "metadata": {},
   "outputs": [
    {
     "name": "stdout",
     "output_type": "stream",
     "text": [
      " * postgresql://postgres@pgpool:5432/backend\n",
      "1 rows affected.\n"
     ]
    },
    {
     "data": {
      "text/html": [
       "<table>\n",
       "    <tr>\n",
       "        <th>id</th>\n",
       "        <th>gid</th>\n",
       "        <th>ts</th>\n",
       "        <th>name</th>\n",
       "        <th>source</th>\n",
       "        <th>session_gid</th>\n",
       "        <th>user_gid</th>\n",
       "        <th>evidence_id</th>\n",
       "        <th>evidence_gid</th>\n",
       "        <th>related</th>\n",
       "        <th>source_1</th>\n",
       "    </tr>\n",
       "    <tr>\n",
       "        <td>872207</td>\n",
       "        <td>b7357970-7a3d-45e5-bd15-40a78ab44342</td>\n",
       "        <td>2022-03-15 14:40:59.680799</td>\n",
       "        <td>send-message</td>\n",
       "        <td>graphql-web</td>\n",
       "        <td>None</td>\n",
       "        <td>None</td>\n",
       "        <td>838451</td>\n",
       "        <td>94afadb8-900d-4ad8-b0b1-b62ca3573955</td>\n",
       "        <td>cb43c0e6-dc30-4751-ac15-f5b3cf74acad</td>\n",
       "        <td>{&#x27;api_activity_gid&#x27;: &#x27;cb43c0e6dc304751ac15f5b3cf74acad&#x27;, &#x27;origin_domain&#x27;: &#x27;localhost&#x27;, &#x27;visitor&#x27;: None, &#x27;author&#x27;: &#x27;3c8884bd-4fb4-485c-bb57-4c1d9e712395&#x27;, &#x27;message&#x27;: &#x27;supercalifragilistic en zo meer van Poppins&#x27;, &#x27;from_item&#x27;: &#x27;0da1c5e9-4572-4da6-af4f-14c277c90c97&#x27;, &#x27;reason&#x27;: &#x27;request_contact&#x27;}</td>\n",
       "    </tr>\n",
       "</table>"
      ],
      "text/plain": [
       "[(872207, UUID('b7357970-7a3d-45e5-bd15-40a78ab44342'), datetime.datetime(2022, 3, 15, 14, 40, 59, 680799), 'send-message', 'graphql-web', None, None, 838451, UUID('94afadb8-900d-4ad8-b0b1-b62ca3573955'), UUID('cb43c0e6-dc30-4751-ac15-f5b3cf74acad'), {'api_activity_gid': 'cb43c0e6dc304751ac15f5b3cf74acad', 'origin_domain': 'localhost', 'visitor': None, 'author': '3c8884bd-4fb4-485c-bb57-4c1d9e712395', 'message': 'supercalifragilistic en zo meer van Poppins', 'from_item': '0da1c5e9-4572-4da6-af4f-14c277c90c97', 'reason': 'request_contact'})]"
      ]
     },
     "execution_count": 12,
     "metadata": {},
     "output_type": "execute_result"
    }
   ],
   "source": [
    "%%sql \n",
    "select s.*, e.source\n",
    "  from evidence e\n",
    "    -- # checked, zo word het opgeslagen. \n",
    " inner join signal s on s.evidence_id = e.id and s.name = 'send-message' "
   ]
  },
  {
   "cell_type": "markdown",
   "id": "06551d3b-23ca-45c0-9846-3eb7aa09f921",
   "metadata": {},
   "source": [
    "### Zeer verouderde berichten ophalen"
   ]
  },
  {
   "cell_type": "code",
   "execution_count": 16,
   "id": "32d4899b-2b85-410a-96a3-790936d76000",
   "metadata": {},
   "outputs": [
    {
     "name": "stdout",
     "output_type": "stream",
     "text": [
      " * postgresql://postgres@pgpool:5432/backend\n",
      "28 rows affected.\n"
     ]
    },
    {
     "data": {
      "text/html": [
       "<table>\n",
       "    <tr>\n",
       "        <th>id</th>\n",
       "        <th>output</th>\n",
       "        <th>input</th>\n",
       "    </tr>\n",
       "    <tr>\n",
       "        <td>451212</td>\n",
       "        <td>2021-07-12 17:36:08</td>\n",
       "        <td>{&quot;item_id&quot;:&quot;81989d0a-d3a4-4bc3-8695-f00229502f91&quot;,&quot;question&quot;:&quot;&quot;}</td>\n",
       "    </tr>\n",
       "    <tr>\n",
       "        <td>380651</td>\n",
       "        <td>2021-04-30 16:30:34</td>\n",
       "        <td>{&quot;item_id&quot;:&quot;93c70e26-697c-4153-b1a8-7aa786582b85&quot;,&quot;question&quot;:&quot;testtes tes ttes tstes&quot;}</td>\n",
       "    </tr>\n",
       "    <tr>\n",
       "        <td>253149</td>\n",
       "        <td>2020-10-08 22:33:44</td>\n",
       "        <td>{&quot;item_id&quot;:&quot;e44f177e-fcf3-47ae-b8e6-6ea70134f0aa&quot;,&quot;question&quot;:&quot;Hier mogen jullie heel trots op zijn&quot;}</td>\n",
       "    </tr>\n",
       "    <tr>\n",
       "        <td>183778</td>\n",
       "        <td>2020-04-09 09:11:45</td>\n",
       "        <td>{&quot;item_id&quot;:&quot;c74f640b-1414-4275-88ba-88a289af8243&quot;,&quot;question&quot;:&quot;Hoi hoi,\\n\\nHet lukt mij niet om het document te downloaden. Er gebeurt niks als ik op de donloadknop druk. Heb me wel geregistreerd en ben ingelogd.\\n\\nGroetjes Margalith&quot;}</td>\n",
       "    </tr>\n",
       "    <tr>\n",
       "        <td>164372</td>\n",
       "        <td>2020-03-25 21:01:49</td>\n",
       "        <td>None</td>\n",
       "    </tr>\n",
       "    <tr>\n",
       "        <td>159545</td>\n",
       "        <td>2020-03-23 16:41:03</td>\n",
       "        <td>{&quot;item_id&quot;:&quot;802931ba-348b-4c62-baf9-08c91978eda0&quot;,&quot;question&quot;:&quot;tadaa!!&quot;}</td>\n",
       "    </tr>\n",
       "    <tr>\n",
       "        <td>159468</td>\n",
       "        <td>2020-03-23 16:18:30</td>\n",
       "        <td>{&quot;item_id&quot;:&quot;802931ba-348b-4c62-baf9-08c91978eda0&quot;,&quot;question&quot;:&quot;bla bla &quot;}</td>\n",
       "    </tr>\n",
       "    <tr>\n",
       "        <td>159467</td>\n",
       "        <td>2020-03-23 16:14:43</td>\n",
       "        <td>{&quot;item_id&quot;:&quot;802931ba-348b-4c62-baf9-08c91978eda0&quot;,&quot;question&quot;:&quot;hoi?!&quot;}</td>\n",
       "    </tr>\n",
       "    <tr>\n",
       "        <td>159447</td>\n",
       "        <td>2020-03-23 16:08:33</td>\n",
       "        <td>{&quot;item_id&quot;:&quot;802931ba-348b-4c62-baf9-08c91978eda0&quot;,&quot;question&quot;:&quot;Ik verzoek contact! &quot;}</td>\n",
       "    </tr>\n",
       "    <tr>\n",
       "        <td>157957</td>\n",
       "        <td>2020-03-20 16:45:14</td>\n",
       "        <td>{&quot;item_id&quot;:&quot;54c8c5df-b564-4fe5-9713-70a82b7b1282&quot;,&quot;question&quot;:&quot;Hallo backender die dit toevallig ziet&quot;}</td>\n",
       "    </tr>\n",
       "    <tr>\n",
       "        <td>157863</td>\n",
       "        <td>2020-03-20 14:34:01</td>\n",
       "        <td>{&quot;item_id&quot;:&quot;f20c7917-33b0-4525-b272-ed75895c7a6f&quot;,&quot;question&quot;:&quot;ddwa&quot;}</td>\n",
       "    </tr>\n",
       "    <tr>\n",
       "        <td>157853</td>\n",
       "        <td>2020-03-20 14:33:41</td>\n",
       "        <td>{&quot;item_id&quot;:&quot;f20c7917-33b0-4525-b272-ed75895c7a6f&quot;,&quot;question&quot;:&quot;wd&quot;}</td>\n",
       "    </tr>\n",
       "    <tr>\n",
       "        <td>157843</td>\n",
       "        <td>2020-03-20 14:33:05</td>\n",
       "        <td>{&quot;item_id&quot;:&quot;f20c7917-33b0-4525-b272-ed75895c7a6f&quot;,&quot;question&quot;:&quot;wadwa&quot;}</td>\n",
       "    </tr>\n",
       "    <tr>\n",
       "        <td>157833</td>\n",
       "        <td>2020-03-20 14:30:31</td>\n",
       "        <td>{&quot;item_id&quot;:&quot;f20c7917-33b0-4525-b272-ed75895c7a6f&quot;,&quot;question&quot;:&quot;wouw&quot;}</td>\n",
       "    </tr>\n",
       "    <tr>\n",
       "        <td>157806</td>\n",
       "        <td>2020-03-20 14:28:37</td>\n",
       "        <td>{&quot;question&quot;:&quot;dwa&quot;}</td>\n",
       "    </tr>\n",
       "    <tr>\n",
       "        <td>157805</td>\n",
       "        <td>2020-03-20 14:28:28</td>\n",
       "        <td>{&quot;question&quot;:&quot;dwa&quot;}</td>\n",
       "    </tr>\n",
       "    <tr>\n",
       "        <td>154029</td>\n",
       "        <td>2020-03-18 15:50:19</td>\n",
       "        <td>None</td>\n",
       "    </tr>\n",
       "    <tr>\n",
       "        <td>154024</td>\n",
       "        <td>2020-03-18 15:50:04</td>\n",
       "        <td>None</td>\n",
       "    </tr>\n",
       "    <tr>\n",
       "        <td>153649</td>\n",
       "        <td>2020-03-18 10:33:55</td>\n",
       "        <td>None</td>\n",
       "    </tr>\n",
       "    <tr>\n",
       "        <td>144910</td>\n",
       "        <td>None</td>\n",
       "        <td>None</td>\n",
       "    </tr>\n",
       "    <tr>\n",
       "        <td>144909</td>\n",
       "        <td>2020-03-11 11:52:24</td>\n",
       "        <td>None</td>\n",
       "    </tr>\n",
       "    <tr>\n",
       "        <td>144908</td>\n",
       "        <td>2020-03-11 11:50:23</td>\n",
       "        <td>None</td>\n",
       "    </tr>\n",
       "    <tr>\n",
       "        <td>144907</td>\n",
       "        <td>2020-03-11 11:49:41</td>\n",
       "        <td>None</td>\n",
       "    </tr>\n",
       "    <tr>\n",
       "        <td>144906</td>\n",
       "        <td>2020-03-11 11:48:58</td>\n",
       "        <td>None</td>\n",
       "    </tr>\n",
       "    <tr>\n",
       "        <td>144905</td>\n",
       "        <td>2020-03-11 11:48:49</td>\n",
       "        <td>None</td>\n",
       "    </tr>\n",
       "    <tr>\n",
       "        <td>142658</td>\n",
       "        <td>2020-03-10 13:33:03</td>\n",
       "        <td>None</td>\n",
       "    </tr>\n",
       "    <tr>\n",
       "        <td>100475</td>\n",
       "        <td>2020-02-05 13:48:05</td>\n",
       "        <td>None</td>\n",
       "    </tr>\n",
       "    <tr>\n",
       "        <td>574</td>\n",
       "        <td>Mon, 25 Nov 2019 22:04:04 GMT</td>\n",
       "        <td>None</td>\n",
       "    </tr>\n",
       "</table>"
      ],
      "text/plain": [
       "[(451212, '2021-07-12 17:36:08', '{\"item_id\":\"81989d0a-d3a4-4bc3-8695-f00229502f91\",\"question\":\"\"}'),\n",
       " (380651, '2021-04-30 16:30:34', '{\"item_id\":\"93c70e26-697c-4153-b1a8-7aa786582b85\",\"question\":\"testtes tes ttes tstes\"}'),\n",
       " (253149, '2020-10-08 22:33:44', '{\"item_id\":\"e44f177e-fcf3-47ae-b8e6-6ea70134f0aa\",\"question\":\"Hier mogen jullie heel trots op zijn\"}'),\n",
       " (183778, '2020-04-09 09:11:45', '{\"item_id\":\"c74f640b-1414-4275-88ba-88a289af8243\",\"question\":\"Hoi hoi,\\\\n\\\\nHet lukt mij niet om het document te downloaden. Er gebeurt niks als ik op de donloadknop druk. Heb me wel geregistreerd en ben ingelogd.\\\\n\\\\nGroetjes Margalith\"}'),\n",
       " (164372, '2020-03-25 21:01:49', None),\n",
       " (159545, '2020-03-23 16:41:03', '{\"item_id\":\"802931ba-348b-4c62-baf9-08c91978eda0\",\"question\":\"tadaa!!\"}'),\n",
       " (159468, '2020-03-23 16:18:30', '{\"item_id\":\"802931ba-348b-4c62-baf9-08c91978eda0\",\"question\":\"bla bla \"}'),\n",
       " (159467, '2020-03-23 16:14:43', '{\"item_id\":\"802931ba-348b-4c62-baf9-08c91978eda0\",\"question\":\"hoi?!\"}'),\n",
       " (159447, '2020-03-23 16:08:33', '{\"item_id\":\"802931ba-348b-4c62-baf9-08c91978eda0\",\"question\":\"Ik verzoek contact! \"}'),\n",
       " (157957, '2020-03-20 16:45:14', '{\"item_id\":\"54c8c5df-b564-4fe5-9713-70a82b7b1282\",\"question\":\"Hallo backender die dit toevallig ziet\"}'),\n",
       " (157863, '2020-03-20 14:34:01', '{\"item_id\":\"f20c7917-33b0-4525-b272-ed75895c7a6f\",\"question\":\"ddwa\"}'),\n",
       " (157853, '2020-03-20 14:33:41', '{\"item_id\":\"f20c7917-33b0-4525-b272-ed75895c7a6f\",\"question\":\"wd\"}'),\n",
       " (157843, '2020-03-20 14:33:05', '{\"item_id\":\"f20c7917-33b0-4525-b272-ed75895c7a6f\",\"question\":\"wadwa\"}'),\n",
       " (157833, '2020-03-20 14:30:31', '{\"item_id\":\"f20c7917-33b0-4525-b272-ed75895c7a6f\",\"question\":\"wouw\"}'),\n",
       " (157806, '2020-03-20 14:28:37', '{\"question\":\"dwa\"}'),\n",
       " (157805, '2020-03-20 14:28:28', '{\"question\":\"dwa\"}'),\n",
       " (154029, '2020-03-18 15:50:19', None),\n",
       " (154024, '2020-03-18 15:50:04', None),\n",
       " (153649, '2020-03-18 10:33:55', None),\n",
       " (144910, None, None),\n",
       " (144909, '2020-03-11 11:52:24', None),\n",
       " (144908, '2020-03-11 11:50:23', None),\n",
       " (144907, '2020-03-11 11:49:41', None),\n",
       " (144906, '2020-03-11 11:48:58', None),\n",
       " (144905, '2020-03-11 11:48:49', None),\n",
       " (142658, '2020-03-10 13:33:03', None),\n",
       " (100475, '2020-02-05 13:48:05', None),\n",
       " (574, 'Mon, 25 Nov 2019 22:04:04 GMT', None)]"
      ]
     },
     "execution_count": 16,
     "metadata": {},
     "output_type": "execute_result"
    }
   ],
   "source": [
    "%%sql\n",
    "select id,  (output::jsonb)['now'],  (input::jsonb)['payload']['variables']['variables']::json\n",
    "from api_activity\n",
    "where (input::text) like '%REQUEST_CONTACT%'\n",
    "-- where (input::jsonb)['payload']['variables']['template'] is not null\n",
    "order by id desc"
   ]
  }
 ],
 "metadata": {
  "kernelspec": {
   "display_name": "Python 3 (ipykernel)",
   "language": "python",
   "name": "python3"
  },
  "language_info": {
   "codemirror_mode": {
    "name": "ipython",
    "version": 3
   },
   "file_extension": ".py",
   "mimetype": "text/x-python",
   "name": "python",
   "nbconvert_exporter": "python",
   "pygments_lexer": "ipython3",
   "version": "3.9.7"
  }
 },
 "nbformat": 4,
 "nbformat_minor": 5
}
