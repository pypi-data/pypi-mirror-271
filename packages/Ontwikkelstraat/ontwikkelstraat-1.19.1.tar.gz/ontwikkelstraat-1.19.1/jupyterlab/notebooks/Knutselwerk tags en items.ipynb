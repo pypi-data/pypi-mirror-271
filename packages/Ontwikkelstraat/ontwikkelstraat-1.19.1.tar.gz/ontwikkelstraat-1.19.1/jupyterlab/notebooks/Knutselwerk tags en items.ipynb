{
 "cells": [
  {
   "cell_type": "markdown",
   "id": "0daaf436-f25e-4f5a-bbd9-a288b2572d56",
   "metadata": {},
   "source": [
    "# Regulier Tag Onderhoud"
   ]
  },
  {
   "cell_type": "code",
   "execution_count": null,
   "id": "2c2b5c3c-e7d8-4e25-9521-14879a0489f0",
   "metadata": {},
   "outputs": [],
   "source": [
    "%run ./__init__edwh__notebooks.ipynb"
   ]
  },
  {
   "cell_type": "code",
   "execution_count": null,
   "id": "361b7114-53ea-4a3f-85b7-183af6d30bce",
   "metadata": {},
   "outputs": [],
   "source": [
    "omgeving_leiden= Tag(\"Omgeving Leiden\")\n",
    "omgeving_leiden_gid = omgeving_leiden.gid"
   ]
  },
  {
   "cell_type": "code",
   "execution_count": null,
   "id": "ea014a1a-d83f-467e-b76c-3278fb3afbac",
   "metadata": {},
   "outputs": [],
   "source": [
    "%%sql\n",
    "select count(*)\n",
    "  from tag \n",
    " where (slug like  '%-leiden'\n",
    "        or slug like '%-zoeterwoude'\n",
    "        or slug like '%-voorschoten'\n",
    "        or slug like '%-oegstgeest'\n",
    "        or slug like '%-leiderdorp'\n",
    "      ) and meta_tags like '%|e5b80b90-1851-42d9-aebc-87327e87ed09|%'\n"
   ]
  },
  {
   "cell_type": "code",
   "execution_count": null,
   "id": "00b9ccb5-3aaf-4508-aa52-03e6c6d69ef5",
   "metadata": {},
   "outputs": [],
   "source": [
    "# TOrganisations is een globale tag omdat deze gedefinieerd is in __init__edw__notebooks.ipynb\n",
    "def organisatie_tags_in_gemeenten(*gemeenten):\n",
    "    slug_query = db.tag.id < 0 #query die niets oplevert \n",
    "    for gemeente in gemeenten:\n",
    "        # school namen hebben \n",
    "        slug_query |= db.tag.slug.like(f'%-{gemeente}')\n",
    "    return db(slug_query & (db.tag.meta_tags.contains(TOrganisations.gid))).select()"
   ]
  },
  {
   "cell_type": "code",
   "execution_count": null,
   "id": "6afd9bfd-42a4-4a0e-9cb8-ff1485046a9d",
   "metadata": {},
   "outputs": [],
   "source": [
    "organisatie_tags = organisatie_tags_in_gemeenten('leiden','zoeterwoude','voorschoten','oegstgeest','leiderdorp')\n",
    "organisatie_tags "
   ]
  },
  {
   "cell_type": "code",
   "execution_count": null,
   "id": "13a4e4fd-dd35-4e61-8d6f-20df56600ad1",
   "metadata": {},
   "outputs": [],
   "source": [
    "def items_tagged_with(tag):\n",
    "    active_items = db.item.author != None\n",
    "    active_items &=db.item.platform == 'SvS'\n",
    "    selected_tag = db.item.tags.contains(tag.gid)\n",
    "    return db(active_items & selected_tag).select()\n"
   ]
  },
  {
   "cell_type": "code",
   "execution_count": null,
   "id": "6bfecf67-59eb-408a-a67b-b061a4d86822",
   "metadata": {},
   "outputs": [],
   "source": [
    "items_tagged_with(omgeving_leiden)"
   ]
  },
  {
   "cell_type": "code",
   "execution_count": null,
   "id": "94beea1d-36a1-4b27-a2de-ebf482c395e1",
   "metadata": {},
   "outputs": [],
   "source": [
    "%%sql items << \n",
    "select item.id as id, item.gid as gid, item.name as name, u.name as author, tags, ts_changed\n",
    "  from item inner join \"user\" u  on item.author = u.gid\n",
    " where item.author is not null \n",
    "   and item.platform = 'SvS'\n",
    "   and item.tags like '%|{omgeving_leiden_gid}|%'"
   ]
  },
  {
   "cell_type": "code",
   "execution_count": null,
   "id": "fa9cb966-d69f-48af-bcd9-1633834dc9ca",
   "metadata": {},
   "outputs": [],
   "source": [
    "# converteer resultset naar een dataframe zodat we hier mee kunnen doorwerken\n",
    "items = items.DataFrame()"
   ]
  },
  {
   "cell_type": "code",
   "execution_count": null,
   "id": "f11c9a70-0d72-4b04-ac5c-b12b7eda4dbb",
   "metadata": {},
   "outputs": [],
   "source": [
    "# items['tags'] = items.progress_apply(lambda x: '\\n'.join([Tag(_).name for _ in x['tags'].split('|') if _.strip()]), axis=1)\n",
    "# items"
   ]
  },
  {
   "cell_type": "code",
   "execution_count": null,
   "id": "b23ec95c-e82f-440a-9412-47cda5afcd02",
   "metadata": {},
   "outputs": [],
   "source": [
    "for idx, item in items.iterrows():\n",
    "    # display(Markdown(f\"{item.id}|{item.gid}|{item.name}||{item.author:>20}|{item.tags}|{item.ts_changed}\"))\n",
    "    tag_names = sorted(handig.names([Tag(_) for _ in item.tags.split('|') if _]))\n",
    "    \n",
    "    display(Markdown(f\"## #{idx+1} - {item['name']} - *{item.author.strip()}*\"))\n",
    "    display(Markdown(f\"  * gid: `{item.gid}`\\n  * tags: \"+', '.join(f'`{_}`' for _ in tag_names)+f'\\n  * changed: {item.ts_changed}'))\n",
    "    display(Markdown(f\"\"))\n",
    "    "
   ]
  },
  {
   "cell_type": "code",
   "execution_count": null,
   "id": "59dbe337-dc1a-4aec-9285-b7c5013e1201",
   "metadata": {},
   "outputs": [],
   "source": []
  },
  {
   "cell_type": "code",
   "execution_count": null,
   "id": "ca956c0d-6ffb-4c39-9348-aa425d061171",
   "metadata": {},
   "outputs": [],
   "source": []
  }
 ],
 "metadata": {
  "kernelspec": {
   "display_name": "Python 3 (ipykernel)",
   "language": "python",
   "name": "python3"
  },
  "language_info": {
   "codemirror_mode": {
    "name": "ipython",
    "version": 3
   },
   "file_extension": ".py",
   "mimetype": "text/x-python",
   "name": "python",
   "nbconvert_exporter": "python",
   "pygments_lexer": "ipython3",
   "version": "3.9.7"
  },
  "toc-autonumbering": false,
  "toc-showcode": false,
  "toc-showmarkdowntxt": false
 },
 "nbformat": 4,
 "nbformat_minor": 5
}
