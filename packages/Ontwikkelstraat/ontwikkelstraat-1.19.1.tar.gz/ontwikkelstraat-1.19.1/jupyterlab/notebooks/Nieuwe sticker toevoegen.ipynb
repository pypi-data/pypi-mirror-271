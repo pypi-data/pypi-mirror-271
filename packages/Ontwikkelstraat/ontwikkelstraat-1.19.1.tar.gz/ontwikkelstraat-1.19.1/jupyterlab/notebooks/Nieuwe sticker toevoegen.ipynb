{
 "cells": [
  {
   "cell_type": "code",
   "execution_count": 1,
   "id": "1dd78062-d082-4834-8d01-38e8bf79a116",
   "metadata": {},
   "outputs": [
    {
     "name": "stdout",
     "output_type": "stream",
     "text": [
      "Dit duurt tussen een seconde en bijna 2 minuten. Wacht tot de output eindigt met \"Done.\"\n",
      "\n",
      "\n",
      "Python 3.9.7 | packaged by conda-forge | (default, Sep 29 2021, 19:20:46) \n",
      "[GCC 9.4.0]\n",
      " * postgresql://postgres@pgpool:5432/backend\n",
      "Done.\n"
     ]
    }
   ],
   "source": [
    "print('Dit duurt tussen een seconde en bijna 2 minuten. Wacht tot de output eindigt met \"Done.\"\\n\\n')\n",
    "%run ./__init__edwh__notebooks.ipynb"
   ]
  },
  {
   "cell_type": "markdown",
   "id": "c97273af-d127-4095-9b9b-675dd8123ea6",
   "metadata": {},
   "source": [
    "# Sticker toevoegen\n",
    "Om stickers toe te voegen is dit de \"handmatige\" procedure: \n",
    "##  Bijlage uploaden \n",
    " * open https://web2py.[domain]/init/default/quick_edit/0da1c5e9-4572-4da6-af4f-14c277c90c97\n",
    " * voeg onderaan de pagina de `.svg` bijlage toe. \n",
    " * wacht een paar seconden en ververs de pagina om te zien dat de bijlage geupload is. Deze zou nu onderaan de bijlagen moeten staan. \n",
    " * open de svg in een nieuw tabblad, en kopieer de GID van de bijlage en plak deze hieronder in de variabele `ATTACHMENT_GID`"
   ]
  },
  {
   "cell_type": "code",
   "execution_count": 2,
   "id": "4d4679a0-7ef2-44a6-b617-fb19e4cb7ec1",
   "metadata": {},
   "outputs": [],
   "source": [
    "ATTACHMENT_GID = '2ff8a8b6-d7b5-48be-ac8e-22f8227df4dc'"
   ]
  },
  {
   "cell_type": "markdown",
   "id": "09ffcbaa-853d-41bf-9ce2-9a145c09d981",
   "metadata": {},
   "source": [
    "## Tag informatie opgeven\n",
    "Voor een nieuwe tag zijn een `name` en `description` vereist.  \n",
    "Vul deze gegevens hieronder in. \n",
    "\n",
    "Elke tag wordt aangemaakt als child van stickers, en mag gemetatagged zijn met `Item`, maar is niet nodig. \n"
   ]
  },
  {
   "cell_type": "code",
   "execution_count": 3,
   "id": "1331730a-32a3-4336-82a8-2dc4f6d4c6f0",
   "metadata": {},
   "outputs": [],
   "source": [
    "STICKER_NAME='testje3'\n",
    "STICKER_DESCRIPTION='langere omschrijving3'"
   ]
  },
  {
   "cell_type": "markdown",
   "id": "17398328-4a15-4bbe-bfaa-b018a6f4fc60",
   "metadata": {},
   "source": [
    "Nu gaan we uitzoeken of de tag uberhaupt al bestaat of niet. "
   ]
  },
  {
   "cell_type": "code",
   "execution_count": 4,
   "id": "fb4a38ff-9b24-4ebd-801f-c1804cbf5e43",
   "metadata": {},
   "outputs": [
    {
     "name": "stdout",
     "output_type": "stream",
     "text": [
      "\"testje3\" bestaat al als Tag\n"
     ]
    }
   ],
   "source": [
    "TStickers = Tag('Stickers')\n",
    "try: \n",
    "    new_tag = Tag(STICKER_NAME)\n",
    "except KeyError: \n",
    "    # dit is goed, want we willen dat hij dit niet kan vinden. \n",
    "    new_tag = Tag.new(STICKER_NAME, STICKER_DESCRIPTION, parents=[TStickers])\n",
    "    db.commit() \n",
    "    Tag.refresh(Tag.db)\n",
    "    TStickers = Tag('Stickers') \n",
    "else: \n",
    "    print(f'\"{STICKER_NAME}\" bestaat al als Tag')\n",
    "    "
   ]
  },
  {
   "cell_type": "code",
   "execution_count": 5,
   "id": "14dc07c5-0a76-4be3-8da2-b4988bd7e673",
   "metadata": {},
   "outputs": [
    {
     "name": "stdout",
     "output_type": "stream",
     "text": [
      "<Tag testje3 <Row {'id': 32615, 'platform': None, 'gid': '74177976-dffb-4c0c-87a2-2a9f8645c15a', 'name': 'testje3', 'slug': 'testje3', 'parents': ['67ba8cd8-b564-4cb4-b1bc-10364c5edf16'], 'children': [], 'description': 'langere omschrijving3', 'meta_tags': []}>>\n"
     ]
    }
   ],
   "source": [
    "print(new_tag)"
   ]
  },
  {
   "cell_type": "code",
   "execution_count": 6,
   "id": "6ae6ad7a-f612-482b-a9a4-cedce0b893df",
   "metadata": {},
   "outputs": [
    {
     "name": "stdout",
     "output_type": "stream",
     "text": [
      " * postgresql://postgres@pgpool:5432/backend\n",
      "1 rows affected.\n"
     ]
    },
    {
     "data": {
      "text/html": [
       "<table>\n",
       "    <tr>\n",
       "        <th>id</th>\n",
       "        <th>platform</th>\n",
       "        <th>gid</th>\n",
       "        <th>name</th>\n",
       "        <th>slug</th>\n",
       "        <th>parents</th>\n",
       "        <th>description</th>\n",
       "        <th>meta_tags</th>\n",
       "        <th>children</th>\n",
       "    </tr>\n",
       "    <tr>\n",
       "        <td>32615</td>\n",
       "        <td>None</td>\n",
       "        <td>74177976-dffb-4c0c-87a2-2a9f8645c15a</td>\n",
       "        <td>testje3</td>\n",
       "        <td>testje3</td>\n",
       "        <td>|67ba8cd8-b564-4cb4-b1bc-10364c5edf16|</td>\n",
       "        <td>langere omschrijving3</td>\n",
       "        <td>||</td>\n",
       "        <td>||</td>\n",
       "    </tr>\n",
       "</table>"
      ],
      "text/plain": [
       "[(32615, None, '74177976-dffb-4c0c-87a2-2a9f8645c15a', 'testje3', 'testje3', '|67ba8cd8-b564-4cb4-b1bc-10364c5edf16|', 'langere omschrijving3', '||', '||')]"
      ]
     },
     "execution_count": 6,
     "metadata": {},
     "output_type": "execute_result"
    }
   ],
   "source": [
    "%%sql \n",
    "select * from tag\n",
    "-- where parents like '%|67ba8cd8-b564-4cb4-b1bc-10364c5edf16|%'\n",
    "where slug like '%'||'{STICKER_NAME}'||'%'"
   ]
  },
  {
   "cell_type": "code",
   "execution_count": 7,
   "id": "f7d49f6b-07ab-4b97-b601-f932eb6871e4",
   "metadata": {},
   "outputs": [
    {
     "name": "stdout",
     "output_type": "stream",
     "text": [
      " Stickers ['System']\n",
      "    SlimFit onderwijs ['User generated tags', 'Item']\n",
      "    Leerling2020 ['User generated tags', 'Item']\n",
      "    NRO Kennisrotonde []\n",
      "    Voortgezet Leren []\n",
      "    TOM (Team Onderwijs op Maat) []\n",
      "    Slimmerlerenmetict.nl -> PO Raad []\n",
      "    LOF (Lerarenontwikkelfonds) []\n",
      "    Leraren met Lef []\n",
      "    Leraar24.nl []\n",
      "    OnderwijsInc []\n",
      "    leraar.nl []\n",
      "    Kennisnet podcasts []\n",
      "    DNA van de leraar []\n",
      "    voordeklas.com []\n",
      "    Schoolleiders voor de Toekomst []\n",
      "    VO Raad []\n",
      "    PACT voor Kindcentra []\n",
      "    stichting leerKRACHT []\n",
      "    vernieuwenderwijs []\n",
      "    Facebook groepen []\n",
      "    Reformatorisch Dagblad []\n",
      "    Eenvandaag []\n",
      "    test-sticker ['System']\n",
      "    HUPP ['System']\n",
      "    Lesopafstand.nl ['System']\n",
      "    School aan Zet ['System']\n",
      "    Leren met de Stad ['System']\n",
      "    Meesterwerk Podcast ['System']\n",
      "    Gemeente Leiden ['System']\n",
      "    testje []\n",
      "    testje2 []\n",
      "    testje3 []\n"
     ]
    }
   ],
   "source": [
    "TStickers.walk(_print)"
   ]
  },
  {
   "cell_type": "markdown",
   "id": "dd791edf-2954-44e0-9f37-b50d95be99fb",
   "metadata": {},
   "source": [
    "##  Koppel de tag aan de attachment"
   ]
  },
  {
   "cell_type": "code",
   "execution_count": 8,
   "id": "3fc806ff-3eab-4230-befc-38a2019b8ae3",
   "metadata": {},
   "outputs": [
    {
     "name": "stdout",
     "output_type": "stream",
     "text": [
      " * postgresql://postgres@pgpool:5432/backend\n",
      "1 rows affected.\n"
     ]
    },
    {
     "data": {
      "text/html": [
       "<table>\n",
       "    <tr>\n",
       "        <th>id</th>\n",
       "        <th>platform</th>\n",
       "        <th>gid</th>\n",
       "        <th>attachment</th>\n",
       "        <th>filename</th>\n",
       "        <th>purpose</th>\n",
       "        <th>ts_uploaded</th>\n",
       "        <th>owner_gid</th>\n",
       "        <th>b2_uri</th>\n",
       "    </tr>\n",
       "    <tr>\n",
       "        <td>3827</td>\n",
       "        <td>SvS</td>\n",
       "        <td>2ff8a8b6-d7b5-48be-ac8e-22f8227df4dc</td>\n",
       "        <td>attachment.attachment.ba84196b7767269e.32313630396365392d303639302d346532302d616265352d6236326462653065626533382e737667.svg</td>\n",
       "        <td>21609ce9-0690-4e20-abe5-b62dbe0ebe38.svg</td>\n",
       "        <td>attachment</td>\n",
       "        <td>2021-05-20 10:01:56</td>\n",
       "        <td>3c8884bd-4fb4-485c-bb57-4c1d9e712395</td>\n",
       "        <td>https://f003.backblazeb2.com/file/nl-meteddie-delen-attachments/2ff8a8b6-d7b5-48be-ac8e-22f8227df4dc.svg</td>\n",
       "    </tr>\n",
       "</table>"
      ],
      "text/plain": [
       "[(3827, 'SvS', '2ff8a8b6-d7b5-48be-ac8e-22f8227df4dc', 'attachment.attachment.ba84196b7767269e.32313630396365392d303639302d346532302d616265352d6236326462653065626533382e737667.svg', '21609ce9-0690-4e20-abe5-b62dbe0ebe38.svg', 'attachment', datetime.datetime(2021, 5, 20, 10, 1, 56), '3c8884bd-4fb4-485c-bb57-4c1d9e712395', 'https://f003.backblazeb2.com/file/nl-meteddie-delen-attachments/2ff8a8b6-d7b5-48be-ac8e-22f8227df4dc.svg')]"
      ]
     },
     "execution_count": 8,
     "metadata": {},
     "output_type": "execute_result"
    }
   ],
   "source": [
    "%%sql\n",
    "select * from attachment \n",
    "where gid = :ATTACHMENT_GID"
   ]
  },
  {
   "cell_type": "code",
   "execution_count": 9,
   "id": "48809261-84d0-44ba-a754-ce92558b6d0c",
   "metadata": {},
   "outputs": [],
   "source": [
    "db.rollback()"
   ]
  },
  {
   "cell_type": "code",
   "execution_count": 10,
   "id": "8a10f406-b0da-4370-a4fe-d654bb786eeb",
   "metadata": {},
   "outputs": [
    {
     "name": "stdout",
     "output_type": "stream",
     "text": [
      "sticker reeds gekoppeld aan attachment\n"
     ]
    }
   ],
   "source": [
    "if db((db.sticker.attachment_gid==ATTACHMENT_GID)&(db.sticker.tag_gid==new_tag.gid)).count() == 0:\n",
    "    print('sticker nog niet gekoppeld aan attachment')\n",
    "    db.sticker.insert(tag_gid=new_tag.gid, attachment_gid=ATTACHMENT_GID)\n",
    "    print('nu wel')\n",
    "    db.commit()\n",
    "else:\n",
    "    print('sticker reeds gekoppeld aan attachment')"
   ]
  },
  {
   "cell_type": "code",
   "execution_count": 11,
   "id": "ff0a7cc0-524a-4698-8bc9-e01df4cf2dca",
   "metadata": {},
   "outputs": [
    {
     "name": "stdout",
     "output_type": "stream",
     "text": [
      " * postgresql://postgres@pgpool:5432/backend\n",
      "3 rows affected.\n"
     ]
    },
    {
     "data": {
      "text/html": [
       "<table>\n",
       "    <tr>\n",
       "        <th>id</th>\n",
       "        <th>tag_gid</th>\n",
       "        <th>attachment_gid</th>\n",
       "        <th>slug</th>\n",
       "        <th>filename</th>\n",
       "    </tr>\n",
       "    <tr>\n",
       "        <td>29</td>\n",
       "        <td>21609ce9-0690-4e20-abe5-b62dbe0ebe38</td>\n",
       "        <td>2ff8a8b6-d7b5-48be-ac8e-22f8227df4dc</td>\n",
       "        <td>gemeente-leiden</td>\n",
       "        <td>21609ce9-0690-4e20-abe5-b62dbe0ebe38.svg</td>\n",
       "    </tr>\n",
       "    <tr>\n",
       "        <td>32</td>\n",
       "        <td>c5a80e94-bf3d-4672-a560-9f2c65f3f43d</td>\n",
       "        <td>2ff8a8b6-d7b5-48be-ac8e-22f8227df4dc</td>\n",
       "        <td>testje2</td>\n",
       "        <td>21609ce9-0690-4e20-abe5-b62dbe0ebe38.svg</td>\n",
       "    </tr>\n",
       "    <tr>\n",
       "        <td>35</td>\n",
       "        <td>74177976-dffb-4c0c-87a2-2a9f8645c15a</td>\n",
       "        <td>2ff8a8b6-d7b5-48be-ac8e-22f8227df4dc</td>\n",
       "        <td>testje3</td>\n",
       "        <td>21609ce9-0690-4e20-abe5-b62dbe0ebe38.svg</td>\n",
       "    </tr>\n",
       "</table>"
      ],
      "text/plain": [
       "[(29, '21609ce9-0690-4e20-abe5-b62dbe0ebe38', '2ff8a8b6-d7b5-48be-ac8e-22f8227df4dc', 'gemeente-leiden', '21609ce9-0690-4e20-abe5-b62dbe0ebe38.svg'),\n",
       " (32, 'c5a80e94-bf3d-4672-a560-9f2c65f3f43d', '2ff8a8b6-d7b5-48be-ac8e-22f8227df4dc', 'testje2', '21609ce9-0690-4e20-abe5-b62dbe0ebe38.svg'),\n",
       " (35, '74177976-dffb-4c0c-87a2-2a9f8645c15a', '2ff8a8b6-d7b5-48be-ac8e-22f8227df4dc', 'testje3', '21609ce9-0690-4e20-abe5-b62dbe0ebe38.svg')]"
      ]
     },
     "execution_count": 11,
     "metadata": {},
     "output_type": "execute_result"
    }
   ],
   "source": [
    "%%sql \n",
    "select sticker.*, tag.slug, attachment.filename\n",
    "  from sticker\n",
    "    left outer join tag on sticker.tag_gid = tag.gid \n",
    "    left outer join attachment on sticker.attachment_gid=attachment.gid \n",
    " where attachment_gid = :ATTACHMENT_GID "
   ]
  },
  {
   "cell_type": "code",
   "execution_count": null,
   "id": "fc05d82b-6e83-4b1d-b4ec-bed82b034a04",
   "metadata": {},
   "outputs": [],
   "source": []
  }
 ],
 "metadata": {
  "kernelspec": {
   "display_name": "Python 3 (ipykernel)",
   "language": "python",
   "name": "python3"
  },
  "language_info": {
   "codemirror_mode": {
    "name": "ipython",
    "version": 3
   },
   "file_extension": ".py",
   "mimetype": "text/x-python",
   "name": "python",
   "nbconvert_exporter": "python",
   "pygments_lexer": "ipython3",
   "version": "3.9.7"
  }
 },
 "nbformat": 4,
 "nbformat_minor": 5
}
