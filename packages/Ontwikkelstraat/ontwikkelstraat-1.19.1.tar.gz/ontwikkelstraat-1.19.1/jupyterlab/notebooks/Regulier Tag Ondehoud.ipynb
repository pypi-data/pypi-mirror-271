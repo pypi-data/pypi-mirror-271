{
 "cells": [
  {
   "cell_type": "markdown",
   "id": "0daaf436-f25e-4f5a-bbd9-a288b2572d56",
   "metadata": {},
   "source": [
    "# Regulier Tag Onderhoud"
   ]
  },
  {
   "cell_type": "code",
   "execution_count": 9,
   "id": "2c2b5c3c-e7d8-4e25-9521-14879a0489f0",
   "metadata": {},
   "outputs": [
    {
     "name": "stdout",
     "output_type": "stream",
     "text": [
      "Python 3.9.7 | packaged by conda-forge | (default, Sep 29 2021, 19:20:46) \n",
      "[GCC 9.4.0]\n",
      " * postgresql://postgres@pgpool:5432/backend\n",
      "Done.\n"
     ]
    }
   ],
   "source": [
    "%run ./__init__edwh__notebooks.ipynb"
   ]
  },
  {
   "cell_type": "code",
   "execution_count": null,
   "id": "361b7114-53ea-4a3f-85b7-183af6d30bce",
   "metadata": {},
   "outputs": [],
   "source": [
    "omgeving_leiden= Tag(\"Omgeving Leiden\")"
   ]
  },
  {
   "cell_type": "markdown",
   "id": "9ea4bd55-6266-4dd3-8786-ea14ec4da2ed",
   "metadata": {
    "tags": []
   },
   "source": [
    "## Tag alle praktijken gekoppeld aan de scholen uit de leidse omgeving met 'Omgeving&nbsp;Leiden'\n",
    "Mits ze niet al gekoppeld zijn uiteraard.\n",
    "\n",
    "Voor het filteren welke organisatie tags relevant zijn, moet een tag voldoen aan twee regels: \n",
    " 1. de tag is gemetadateerd met `TOrganisations` ofwel `Tag('e5b80b90-1851-42d9-aebc-87327e87ed09')`\n",
    " 1. naam van de slug eindigt op `-<gemeentenaam>`. \n",
    " \n",
    "Gemeenten zijn: \n",
    " * leiden\n",
    " * zoeterwoude\n",
    " * voorschoten\n",
    " * oegstgeest\n",
    " * leiderdorp\n",
    " \n",
    " Het volgende aantal organisaties valt hieronder:"
   ]
  },
  {
   "cell_type": "code",
   "execution_count": null,
   "id": "ea014a1a-d83f-467e-b76c-3278fb3afbac",
   "metadata": {},
   "outputs": [],
   "source": [
    "%%sql\n",
    "select count(*)\n",
    "  from tag \n",
    " where (slug like  '%-leiden'\n",
    "        or slug like '%-zoeterwoude'\n",
    "        or slug like '%-voorschoten'\n",
    "        or slug like '%-oegstgeest'\n",
    "        or slug like '%-leiderdorp'\n",
    "      ) and meta_tags like '%|e5b80b90-1851-42d9-aebc-87327e87ed09|%'\n"
   ]
  },
  {
   "cell_type": "code",
   "execution_count": null,
   "id": "00b9ccb5-3aaf-4508-aa52-03e6c6d69ef5",
   "metadata": {},
   "outputs": [],
   "source": [
    "# TOrganisations is een globale tag omdat deze gedefinieerd is in __init__edw__notebooks.ipynb\n",
    "def organisatie_tags_in_gemeenten(*gemeenten):\n",
    "    slug_query = db.tag.id < 0 #query die niets oplevert \n",
    "    for gemeente in gemeenten:\n",
    "        # school namen hebben \n",
    "        slug_query |= db.tag.slug.like(f'%-{gemeente}')\n",
    "    return db(slug_query & (db.tag.meta_tags.contains(TOrganisations.gid))).select()"
   ]
  },
  {
   "cell_type": "code",
   "execution_count": null,
   "id": "6afd9bfd-42a4-4a0e-9cb8-ff1485046a9d",
   "metadata": {},
   "outputs": [],
   "source": [
    "organisatie_tags = organisatie_tags_in_gemeenten('leiden','zoeterwoude','voorschoten','oegstgeest','leiderdorp')\n",
    "organisatie_tags "
   ]
  },
  {
   "cell_type": "code",
   "execution_count": null,
   "id": "307a6039-bb06-4300-a938-7261e863f20a",
   "metadata": {},
   "outputs": [],
   "source": [
    "# Controleer of de items getagged zijn met de \"omgeving leiden\" tag\n",
    "for tag in [Tag(_) for _ in organisatie_tags]: \n",
    "    items = db(db.item.tags.contains(tag.gid) & (db.item.author != None) & (db.item.platform=='SvS')).select()\n",
    "    if items:\n",
    "        print('\\n',tag.name)\n",
    "        for item in items: \n",
    "            juist_getagged = omgeving_leiden.gid in item.tags \n",
    "            print(f\"   [{'X' if juist_getagged else ' '}] {item.name}\")"
   ]
  },
  {
   "cell_type": "code",
   "execution_count": null,
   "id": "e485ca40-d58f-492a-9508-cd3f40d78bbf",
   "metadata": {},
   "outputs": [],
   "source": [
    "# Update items die nog niet getagged zijn met de \"omgeving leiden\" tag\n",
    "# let op: items kunnen dubbel voorkomen in het lijstje hierboven, want ze kunnen met meerdere organisaties getagged zijn.\n",
    "for tag in [Tag(_) for _ in organisatie_tags]: \n",
    "    items = db(db.item.tags.contains(tag.gid)).select()\n",
    "    if items:\n",
    "        print('\\n',tag.name)\n",
    "        for item in items: \n",
    "            juist_getagged = omgeving_leiden.gid in item.tags \n",
    "            if not juist_getagged:\n",
    "                print(f' `{item.name}` wordt getagged met TOmgevingLeiden')\n",
    "                item.update_record(tags=item.tags+[omgeving_leiden.gid])\n",
    "db.commit()"
   ]
  },
  {
   "cell_type": "markdown",
   "id": "2063e90c-08b4-422e-9751-ba78405d90d3",
   "metadata": {},
   "source": [
    "## Welke items zijn nog niet gekoppeld aan scholen? \n"
   ]
  },
  {
   "cell_type": "code",
   "execution_count": 37,
   "id": "9814606e-6e48-47c3-a25d-7917c5221c28",
   "metadata": {},
   "outputs": [
    {
     "name": "stdout",
     "output_type": "stream",
     "text": [
      "Collecting strsimpy\n",
      "  Downloading strsimpy-0.2.1-py3-none-any.whl (45 kB)\n",
      "     |████████████████████████████████| 45 kB 2.1 MB/s             \n",
      "\u001b[?25hInstalling collected packages: strsimpy\n",
      "Successfully installed strsimpy-0.2.1\n"
     ]
    }
   ],
   "source": [
    "!pip install strsimpy "
   ]
  },
  {
   "cell_type": "code",
   "execution_count": 5,
   "id": "69a8aa48-67ae-4732-9205-d9cb2911c8ee",
   "metadata": {},
   "outputs": [],
   "source": [
    "!pip install -U attrs > /dev/null "
   ]
  },
  {
   "cell_type": "code",
   "execution_count": 7,
   "id": "a03ec029-4df8-4eef-9149-e8b155f0e823",
   "metadata": {},
   "outputs": [],
   "source": [
    "from attrs import define\n",
    "\n",
    "@define\n",
    "class Empty:\n",
    "    pass\n",
    "\n",
    "Empty()"
   ]
  },
  {
   "cell_type": "code",
   "execution_count": 33,
   "id": "22929065-a7c6-49b7-ab85-a88768397764",
   "metadata": {},
   "outputs": [],
   "source": [
    "from strsimpy.jaro_winkler import JaroWinkler\n",
    "jw=JaroWinkler()\n",
    "import re \n",
    "from IPython.display import display\n",
    "import ipywidgets as widgets\n",
    "\n",
    "@define\n",
    "class CompareName: \n",
    "    org:Tag\n",
    "    \n",
    "    def similar_to(self, written_name):\n",
    "        return jw.similarity(written_name, self.org.name)\n",
    "    \n",
    "    def bind_button(self, item_gid):\n",
    "        btn = widgets.Button(description=\"Koppel \"+self.org.name, layout=widgets.Layout(width='100ex', margin=\"0px 0px 0px 80px\"))\n",
    "        def bind(btn):\n",
    "            print(f'bind {self.org.name} to item:{item_gid}')\n",
    "        btn.on_click(bind)\n",
    "        return btn "
   ]
  },
  {
   "cell_type": "code",
   "execution_count": 34,
   "id": "98f45680-63f8-4386-8e4a-6bb7fa24c712",
   "metadata": {},
   "outputs": [
    {
     "name": "stdout",
     "output_type": "stream",
     "text": [
      "000543fd-cfb7-486d-9b7e-620177d6b9a5 Op [De Nieuwste School](https://denieuwsteschool.nl/) in Tilburg wordt sinds 2015 gewerkt aan vakoverstijgende vaardigheden, aan de hand van thema's\n",
      "[('De Nieuwste School', 'https://denieuwsteschool.nl/')]\n",
      "\tbest matches:\n"
     ]
    },
    {
     "data": {
      "application/vnd.jupyter.widget-view+json": {
       "model_id": "e6d12ac1303847c590c415096ef7a7d8",
       "version_major": 2,
       "version_minor": 0
      },
      "text/plain": [
       "Button(description='Koppel De Nieuwste School voor vwo havo mavo TILBURG', layout=Layout(margin='0px 0px 0px 8…"
      ]
     },
     "metadata": {},
     "output_type": "display_data"
    },
    {
     "data": {
      "application/vnd.jupyter.widget-view+json": {
       "model_id": "476548ddcafe42479788f01e5bcf653b",
       "version_major": 2,
       "version_minor": 0
      },
      "text/plain": [
       "Button(description='Koppel De Nieuwe Wiel LOPIK', layout=Layout(margin='0px 0px 0px 80px', width='100ex'), sty…"
      ]
     },
     "metadata": {},
     "output_type": "display_data"
    },
    {
     "data": {
      "application/vnd.jupyter.widget-view+json": {
       "model_id": "d2aead4dd39d4d378de5292e23445bab",
       "version_major": 2,
       "version_minor": 0
      },
      "text/plain": [
       "Button(description='Koppel De Nieuwe School Basisschool EDAM', layout=Layout(margin='0px 0px 0px 80px', width=…"
      ]
     },
     "metadata": {},
     "output_type": "display_data"
    },
    {
     "data": {
      "application/vnd.jupyter.widget-view+json": {
       "model_id": "2166e0a4cba74fc999c63b679bd09326",
       "version_major": 2,
       "version_minor": 0
      },
      "text/plain": [
       "Button(description='Koppel De Vrije School Widar DELFT', layout=Layout(margin='0px 0px 0px 80px', width='100ex…"
      ]
     },
     "metadata": {},
     "output_type": "display_data"
    },
    {
     "data": {
      "application/vnd.jupyter.widget-view+json": {
       "model_id": "9db1216de4bb41a0b0fb66cd6c17bb20",
       "version_major": 2,
       "version_minor": 0
      },
      "text/plain": [
       "Button(description='Koppel De Werveling Basisschool SOEST', layout=Layout(margin='0px 0px 0px 80px', width='10…"
      ]
     },
     "metadata": {},
     "output_type": "display_data"
    },
    {
     "name": "stdout",
     "output_type": "stream",
     "text": [
      "\n",
      "005feae7-cd97-4c08-9f53-f06fd9cd8e3e Op het [Lyceum Kralingen]() in Rotterdam wordt in tijden van Corona een bijdrage geleverd aan de zorg\n",
      "[('Lyceum Kralingen', '')]\n",
      "\tbest matches:\n"
     ]
    },
    {
     "data": {
      "application/vnd.jupyter.widget-view+json": {
       "model_id": "45694e509c5e451b9c897fd8f8fc13d6",
       "version_major": 2,
       "version_minor": 0
      },
      "text/plain": [
       "Button(description='Koppel Lyceum Schravenlant voor Atheneum en Havo SCHIEDAM', layout=Layout(margin='0px 0px …"
      ]
     },
     "metadata": {},
     "output_type": "display_data"
    },
    {
     "data": {
      "application/vnd.jupyter.widget-view+json": {
       "model_id": "d30b10cc3e784181a75dbe9938ca1800",
       "version_major": 2,
       "version_minor": 0
      },
      "text/plain": [
       "Button(description='Koppel Kindcentrum Berglaren GEMERT', layout=Layout(margin='0px 0px 0px 80px', width='100e…"
      ]
     },
     "metadata": {},
     "output_type": "display_data"
    },
    {
     "data": {
      "application/vnd.jupyter.widget-view+json": {
       "model_id": "483887a6d58742f7819181a0787d1b29",
       "version_major": 2,
       "version_minor": 0
      },
      "text/plain": [
       "Button(description='Koppel Kindcentrum Helmgras CASTRICUM', layout=Layout(margin='0px 0px 0px 80px', width='10…"
      ]
     },
     "metadata": {},
     "output_type": "display_data"
    },
    {
     "data": {
      "application/vnd.jupyter.widget-view+json": {
       "model_id": "53e48b0dfc2240f6bb3ce5ab208a87ba",
       "version_major": 2,
       "version_minor": 0
      },
      "text/plain": [
       "Button(description='Koppel Integraal Kindcentrum Regenboog OSS', layout=Layout(margin='0px 0px 0px 80px', widt…"
      ]
     },
     "metadata": {},
     "output_type": "display_data"
    },
    {
     "data": {
      "application/vnd.jupyter.widget-view+json": {
       "model_id": "0da7ced6928c4052a6976c084b24236b",
       "version_major": 2,
       "version_minor": 0
      },
      "text/plain": [
       "Button(description='Koppel Kandinsky College voor Lyceum Havo Mavo Vbo Lwoo NIJMEGEN', layout=Layout(margin='0…"
      ]
     },
     "metadata": {},
     "output_type": "display_data"
    },
    {
     "name": "stdout",
     "output_type": "stream",
     "text": [
      "\n",
      "009389d4-22a3-469d-9006-c25b4814d369 Op het [Montessori Lyceum Amsterdam (MLA)](https://www.montessorilyceumamsterdam.nl/) wordt sinds 2018 gewerkt met leerdoelen waardoor leerlingen zelf\n",
      "[('Montessori Lyceum Amsterdam (MLA)', 'https://www.montessorilyceumamsterdam.nl/')]\n",
      "\tbest matches:\n"
     ]
    },
    {
     "data": {
      "application/vnd.jupyter.widget-view+json": {
       "model_id": "92f97e6a334346caad96497b3bc71628",
       "version_major": 2,
       "version_minor": 0
      },
      "text/plain": [
       "Button(description='Koppel Montessorischool Almere Stad ALMERE', layout=Layout(margin='0px 0px 0px 80px', widt…"
      ]
     },
     "metadata": {},
     "output_type": "display_data"
    },
    {
     "data": {
      "application/vnd.jupyter.widget-view+json": {
       "model_id": "ff0817b853834a069a06d5ad17cd5ac0",
       "version_major": 2,
       "version_minor": 0
      },
      "text/plain": [
       "Button(description='Koppel Montessori Schiedam SCHIEDAM', layout=Layout(margin='0px 0px 0px 80px', width='100e…"
      ]
     },
     "metadata": {},
     "output_type": "display_data"
    },
    {
     "data": {
      "application/vnd.jupyter.widget-view+json": {
       "model_id": "cb44b541afe842cea2ed0811d48286b0",
       "version_major": 2,
       "version_minor": 0
      },
      "text/plain": [
       "Button(description='Koppel Montessori + Breda BREDA', layout=Layout(margin='0px 0px 0px 80px', width='100ex'),…"
      ]
     },
     "metadata": {},
     "output_type": "display_data"
    },
    {
     "data": {
      "application/vnd.jupyter.widget-view+json": {
       "model_id": "84ee6c8e6d4342dfb00f8775aff210fd",
       "version_major": 2,
       "version_minor": 0
      },
      "text/plain": [
       "Button(description='Koppel Montessori Kindcentrum De Krijtmolen AMSTERDAM', layout=Layout(margin='0px 0px 0px …"
      ]
     },
     "metadata": {},
     "output_type": "display_data"
    },
    {
     "data": {
      "application/vnd.jupyter.widget-view+json": {
       "model_id": "e781607973d94830bc2d18369a6558d7",
       "version_major": 2,
       "version_minor": 0
      },
      "text/plain": [
       "Button(description='Koppel Montessorischool de Linde AMSTELVEEN', layout=Layout(margin='0px 0px 0px 80px', wid…"
      ]
     },
     "metadata": {},
     "output_type": "display_data"
    },
    {
     "name": "stdout",
     "output_type": "stream",
     "text": [
      "\n",
      "00c22019-8e43-4d8e-9b93-26b6bc4c889c Op [X11](https://www.x11.nu/) in Utrecht is in 2016 een pilot gedraaid met het digitale portfolio Simulise waarin leerlingen door middel van leervrage\n",
      "[('X11', 'https://www.x11.nu/')]\n",
      "\tbest matches:\n"
     ]
    },
    {
     "data": {
      "application/vnd.jupyter.widget-view+json": {
       "model_id": "1c09323a8413466eb5f0a8f3ef49b33c",
       "version_major": 2,
       "version_minor": 0
      },
      "text/plain": [
       "Button(description='Koppel NUOVO Scholen, opb. vmbo, havo, vwo - X11 media en vormgeving Vondellaan UTRECHT Vo…"
      ]
     },
     "metadata": {},
     "output_type": "display_data"
    },
    {
     "data": {
      "application/vnd.jupyter.widget-view+json": {
       "model_id": "582beea1b61f4a789d4e1b34ebc43024",
       "version_major": 2,
       "version_minor": 0
      },
      "text/plain": [
       "Button(description='Koppel MaxX NEEDE', layout=Layout(margin='0px 0px 0px 80px', width='100ex'), style=ButtonS…"
      ]
     },
     "metadata": {},
     "output_type": "display_data"
    },
    {
     "data": {
      "application/vnd.jupyter.widget-view+json": {
       "model_id": "0af9635fa8e44680b45fdb60e5e82a78",
       "version_major": 2,
       "version_minor": 0
      },
      "text/plain": [
       "Button(description='Koppel Tuin 17 HETEREN', layout=Layout(margin='0px 0px 0px 80px', width='100ex'), style=Bu…"
      ]
     },
     "metadata": {},
     "output_type": "display_data"
    },
    {
     "data": {
      "application/vnd.jupyter.widget-view+json": {
       "model_id": "bea9891aaee14eaf9c6624a69de5c7b5",
       "version_major": 2,
       "version_minor": 0
      },
      "text/plain": [
       "Button(description='Koppel ROC A12 EDE GLD', layout=Layout(margin='0px 0px 0px 80px', width='100ex'), style=Bu…"
      ]
     },
     "metadata": {},
     "output_type": "display_data"
    },
    {
     "data": {
      "application/vnd.jupyter.widget-view+json": {
       "model_id": "aae59f82325c4dee8ab396c34a8a0ae5",
       "version_major": 2,
       "version_minor": 0
      },
      "text/plain": [
       "Button(description='Koppel DOK12 AMERSFOORT', layout=Layout(margin='0px 0px 0px 80px', width='100ex'), style=B…"
      ]
     },
     "metadata": {},
     "output_type": "display_data"
    },
    {
     "name": "stdout",
     "output_type": "stream",
     "text": [
      "\n",
      "00e0ec90-7ba5-4265-90f0-747b944963df Joke Middelbeek heeft ruim 40 jaar haar bijdrage geleverd in het onderwijs\n",
      "[]\n"
     ]
    }
   ],
   "source": [
    "db.rollback()\n",
    "\n",
    "\n",
    "# # join mv__item_tags aan mv__itemsearch \n",
    "# query = db.mv__item_tags.item_gid == db.mv__itemsearch.gid \n",
    "# query &= db.mv__itemsearch.public == True \n",
    "query = db.item.gid == db.mv__item_tags.item_gid \n",
    "query &= db.item.author == db.user.gid \n",
    "query &= ~db.user.email.like('%@roc.nl')\n",
    "query &= ~db.user.email.like('%@dutveul.nl')\n",
    "# zoek alleen naar items gekoppeld aan een school. \n",
    "query &= ~db.mv__item_tags.tag_gid.belongs([org.gid for org in TOrganisations.children()]) \n",
    "items_zonder_school_tag = db(query).select(db.item.short_description, db.mv__item_tags.item_gid, distinct=db.mv__item_tags.item_gid)\n",
    "for row in items_zonder_school_tag[:5]:\n",
    "    teaser = row.item.short_description.split('. ')[0]\n",
    "    print(row.mv__item_tags.item_gid, teaser[:150])\n",
    "    links = re.findall(r'\\[(.*?)\\]\\((.*?)\\)',teaser)\n",
    "    print(links)\n",
    "    if not links: \n",
    "        continue \n",
    "    written_name = links[0][0] # first hit, first element from the tuple\n",
    "    matches = sorted([CompareName(org) for org in TOrganisations.children()], key=lambda cn: cn.similar_to(written_name), reverse=True)\n",
    "    print('\\tbest matches:')\n",
    "    for m in matches[:5]:\n",
    "        display(m.bind_button(row.mv__item_tags.item_gid))\n",
    "    print()\n",
    "    "
   ]
  },
  {
   "cell_type": "code",
   "execution_count": 13,
   "id": "c4568131-cf0e-4e25-99c4-73aaa27f0302",
   "metadata": {},
   "outputs": [
    {
     "data": {
      "text/plain": [
       "7433"
      ]
     },
     "execution_count": 13,
     "metadata": {},
     "output_type": "execute_result"
    }
   ],
   "source": [
    "len(TOrganisations.children())"
   ]
  },
  {
   "cell_type": "code",
   "execution_count": null,
   "id": "39cee5aa-7286-41a8-bb8f-21868795c59b",
   "metadata": {},
   "outputs": [],
   "source": []
  }
 ],
 "metadata": {
  "kernelspec": {
   "display_name": "Python 3 (ipykernel)",
   "language": "python",
   "name": "python3"
  },
  "language_info": {
   "codemirror_mode": {
    "name": "ipython",
    "version": 3
   },
   "file_extension": ".py",
   "mimetype": "text/x-python",
   "name": "python",
   "nbconvert_exporter": "python",
   "pygments_lexer": "ipython3",
   "version": "3.9.7"
  }
 },
 "nbformat": 4,
 "nbformat_minor": 5
}
