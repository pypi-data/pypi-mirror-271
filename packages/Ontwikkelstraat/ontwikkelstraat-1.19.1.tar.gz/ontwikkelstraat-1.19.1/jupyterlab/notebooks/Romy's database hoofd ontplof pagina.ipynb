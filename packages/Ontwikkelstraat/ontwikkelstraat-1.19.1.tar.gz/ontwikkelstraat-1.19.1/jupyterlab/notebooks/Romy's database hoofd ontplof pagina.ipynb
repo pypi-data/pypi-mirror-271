{
 "cells": [
  {
   "cell_type": "markdown",
   "id": "406132b1-ed3c-43df-856c-714f33948601",
   "metadata": {},
   "source": [
    "# Romy's database hoofd ontplof pagina\n",
    "\n",
    " * mysql/mariadb (snelheid) /oracle (relationeel)\n",
    " * microsoft sql server (relationeel)\n",
    " * > postgres (relationeel, kan ook documenten aan, FOSS, zeer complex, niet de snelste)\n",
    " * > sqlite (FOSS,serverless == inprocess) \n",
    " * redis (document)\n",
    " "
   ]
  },
  {
   "cell_type": "code",
   "execution_count": 19,
   "id": "4cc703a3-eab8-425c-a7bc-3c359add5f6d",
   "metadata": {},
   "outputs": [
    {
     "name": "stdout",
     "output_type": "stream",
     "text": [
      "Python 3.9.7 | packaged by conda-forge | (default, Sep 29 2021, 19:20:46) \n",
      "[GCC 9.4.0]\n",
      "The sql extension is already loaded. To reload it, use:\n",
      "  %reload_ext sql\n",
      " * postgresql://postgres@pgpool:5432/backend\n",
      "Done.\n"
     ]
    }
   ],
   "source": [
    "%run ./__init__edwh__notebooks.ipynb "
   ]
  },
  {
   "cell_type": "code",
   "execution_count": 12,
   "id": "fb4a6bcb-dedb-45ae-b2f8-b82d42ac2de9",
   "metadata": {},
   "outputs": [
    {
     "name": "stdout",
     "output_type": "stream",
     "text": [
      " * postgresql://postgres@pgpool:5432/backend\n",
      "4 rows affected.\n"
     ]
    },
    {
     "data": {
      "text/html": [
       "<table>\n",
       "    <tr>\n",
       "        <th>id</th>\n",
       "        <th>platform</th>\n",
       "        <th>name</th>\n",
       "        <th>email</th>\n",
       "        <th>password</th>\n",
       "        <th>gid</th>\n",
       "        <th>api_token</th>\n",
       "        <th>has_validated_email</th>\n",
       "        <th>email_verification_code</th>\n",
       "        <th>property_bag</th>\n",
       "        <th>avatar</th>\n",
       "        <th>reset_key</th>\n",
       "        <th>firstname</th>\n",
       "        <th>lastname</th>\n",
       "        <th>user_provided_organisation</th>\n",
       "        <th>user_provided_primary_organisational_role</th>\n",
       "        <th>user_provided_organisation_location</th>\n",
       "    </tr>\n",
       "    <tr>\n",
       "        <td>2132</td>\n",
       "        <td>|SvS|</td>\n",
       "        <td>Remco</td>\n",
       "        <td>remco@roc.nl</td>\n",
       "        <td>$2a$10$UFkhEG5ZjcRS57cXAmg9CO4/kWNqNbUeXp6DEGqaKbs6GefTYm5uC</td>\n",
       "        <td>3c8884bd-4fb4-485c-bb57-4c1d9e712395</td>\n",
       "        <td>D7cMPYP26e9GYF0F8i096ZhMs8t4bn2Mq0Xj1oXd</td>\n",
       "        <td>T</td>\n",
       "        <td>905417</td>\n",
       "        <td>{&#x27;title&#x27;: &#x27;Stage begeleider&#x27;, &#x27;schoolName&#x27;: &#x27;Education warehouse&#x27;, &#x27;city&#x27;: &#x27;Assen&#x27;, &#x27;bio&#x27;: &#x27;&#x27;}</td>\n",
       "        <td>16b657ba-b82f-42ad-a74d-640fecfee61d</td>\n",
       "        <td>None</td>\n",
       "        <td>None</td>\n",
       "        <td>None</td>\n",
       "        <td>Education warehouse</td>\n",
       "        <td>Stage begeleider</td>\n",
       "        <td>Assen</td>\n",
       "    </tr>\n",
       "    <tr>\n",
       "        <td>2743</td>\n",
       "        <td>|SvS|debug|</td>\n",
       "        <td>Remco</td>\n",
       "        <td>remco@dutveul.nl</td>\n",
       "        <td>$2a$10$UFkhEG5ZjcRS57cXAmg9COFjwVsmMukql0/q3hCEdFcZ1KRYYt4cu</td>\n",
       "        <td>59751fcb-f78f-4644-bf7b-831027449c72</td>\n",
       "        <td>i02UYZxP0OOszorldEXhbRRgfjIJzk9wJn08YMk9</td>\n",
       "        <td>F</td>\n",
       "        <td>63105</td>\n",
       "        <td>{&#x27;city&#x27;: &#x27;Assen&#x27;, &#x27;title&#x27;: &#x27;CTA/Devops/Stage begeleider/Docent volgens SBB&#x27;, &#x27;schoolName&#x27;: &#x27;Educationwarehouse&#x27;}</td>\n",
       "        <td></td>\n",
       "        <td>None</td>\n",
       "        <td>None</td>\n",
       "        <td>None</td>\n",
       "        <td>Educationwarehouse</td>\n",
       "        <td>CTA/Devops/Stage begeleider/Docent volgens SBB</td>\n",
       "        <td>Assen</td>\n",
       "    </tr>\n",
       "    <tr>\n",
       "        <td>2722</td>\n",
       "        <td>|debug|</td>\n",
       "        <td>Remco</td>\n",
       "        <td>remco.debug@roc.nl</td>\n",
       "        <td>$2a$10$UFkhEG5ZjcRS57cXAmg9COVWY7TnURaNupBt2L9SjijFN8VFGRY2y</td>\n",
       "        <td>e59bc4f5-c7e4-489f-a4db-44cc5b0c0b3f</td>\n",
       "        <td>i02UYZxP0OOszorldEXhbRRgfjIJzk9wJn08YMk9</td>\n",
       "        <td>F</td>\n",
       "        <td>87069</td>\n",
       "        <td>{}</td>\n",
       "        <td>None</td>\n",
       "        <td>None</td>\n",
       "        <td>None</td>\n",
       "        <td>None</td>\n",
       "        <td>None</td>\n",
       "        <td>None</td>\n",
       "        <td>None</td>\n",
       "    </tr>\n",
       "    <tr>\n",
       "        <td>3529</td>\n",
       "        <td>|SvS|</td>\n",
       "        <td>Remco</td>\n",
       "        <td>bulk2@dutveul.nl</td>\n",
       "        <td>$2a$10$UFkhEG5ZjcRS57cXAmg9CO2A53pf67rDalAfrbeIWx0y9sClD4rjm</td>\n",
       "        <td>21a78ec7-c1e6-423f-b133-e22a926a550a</td>\n",
       "        <td>i02UYZxP0OOszorldEXhbRRgfjIJzk9wJn08YMk9</td>\n",
       "        <td>T</td>\n",
       "        <td>606369</td>\n",
       "        <td>{&#x27;city&#x27;: &#x27;Assen&#x27;, &#x27;schoolName&#x27;: &#x27;Geen&#x27;, &#x27;title&#x27;: &#x27;hackzors&#x27;}</td>\n",
       "        <td>None</td>\n",
       "        <td>69CCBT7MBPFX9N9</td>\n",
       "        <td>None</td>\n",
       "        <td>None</td>\n",
       "        <td>Geen</td>\n",
       "        <td>hackzors</td>\n",
       "        <td>Assen</td>\n",
       "    </tr>\n",
       "</table>"
      ],
      "text/plain": [
       "[(2132, '|SvS|', 'Remco', 'remco@roc.nl', '$2a$10$UFkhEG5ZjcRS57cXAmg9CO4/kWNqNbUeXp6DEGqaKbs6GefTYm5uC', '3c8884bd-4fb4-485c-bb57-4c1d9e712395', 'D7cMPYP26e9GYF0F8i096ZhMs8t4bn2Mq0Xj1oXd', 'T', 905417, {'title': 'Stage begeleider', 'schoolName': 'Education warehouse', 'city': 'Assen', 'bio': ''}, '16b657ba-b82f-42ad-a74d-640fecfee61d', None, None, None, 'Education warehouse', 'Stage begeleider', 'Assen'),\n",
       " (2743, '|SvS|debug|', 'Remco', 'remco@dutveul.nl', '$2a$10$UFkhEG5ZjcRS57cXAmg9COFjwVsmMukql0/q3hCEdFcZ1KRYYt4cu', '59751fcb-f78f-4644-bf7b-831027449c72', 'i02UYZxP0OOszorldEXhbRRgfjIJzk9wJn08YMk9', 'F', 63105, {'city': 'Assen', 'title': 'CTA/Devops/Stage begeleider/Docent volgens SBB', 'schoolName': 'Educationwarehouse'}, '', None, None, None, 'Educationwarehouse', 'CTA/Devops/Stage begeleider/Docent volgens SBB', 'Assen'),\n",
       " (2722, '|debug|', 'Remco', 'remco.debug@roc.nl', '$2a$10$UFkhEG5ZjcRS57cXAmg9COVWY7TnURaNupBt2L9SjijFN8VFGRY2y', 'e59bc4f5-c7e4-489f-a4db-44cc5b0c0b3f', 'i02UYZxP0OOszorldEXhbRRgfjIJzk9wJn08YMk9', 'F', 87069, {}, None, None, None, None, None, None, None),\n",
       " (3529, '|SvS|', 'Remco', 'bulk2@dutveul.nl', '$2a$10$UFkhEG5ZjcRS57cXAmg9CO2A53pf67rDalAfrbeIWx0y9sClD4rjm', '21a78ec7-c1e6-423f-b133-e22a926a550a', 'i02UYZxP0OOszorldEXhbRRgfjIJzk9wJn08YMk9', 'T', 606369, {'city': 'Assen', 'schoolName': 'Geen', 'title': 'hackzors'}, None, '69CCBT7MBPFX9N9', None, None, 'Geen', 'hackzors', 'Assen')]"
      ]
     },
     "execution_count": 12,
     "metadata": {},
     "output_type": "execute_result"
    }
   ],
   "source": [
    "%%sql \n",
    "select * from \"user\"  where name = 'Remco'"
   ]
  },
  {
   "cell_type": "code",
   "execution_count": 23,
   "id": "94f5f9fa-1ffa-4583-b1a8-31bd099e2ee6",
   "metadata": {},
   "outputs": [
    {
     "data": {
      "text/plain": [
       "('SELECT \"user\".\"id\", \"user\".\"platform\", \"user\".\"name\", \"user\".\"email\", \"user\".\"password\", \"user\".\"gid\", \"user\".\"api_token\", \"user\".\"has_validated_email\", \"user\".\"email_verification_code\", \"user\".\"property_bag\", \"user\".\"avatar\", \"user\".\"firstname\", \"user\".\"lastname\", \"user\".\"user_provided_organisation\", \"user\".\"user_provided_primary_organisational_role\", \"user\".\"user_provided_organisation_location\" FROM \"user\" WHERE ((\"user\".\"name\" = \\'Remco\\') AND (\"user\".\"platform\" ILIKE \\'%|debug|%\\' ESCAPE \\'\\\\\\'));',\n",
       " 0.001859903335571289)"
      ]
     },
     "execution_count": 23,
     "metadata": {},
     "output_type": "execute_result"
    }
   ],
   "source": [
    "query = db.user.name=='Remco'\n",
    "query = query & db.user.platform.contains(['debug'])\n",
    "db(query).select().as_list()\n",
    "db._lastsql "
   ]
  },
  {
   "cell_type": "code",
   "execution_count": null,
   "id": "1d19aecf-a59a-462a-94b2-78204a5335be",
   "metadata": {},
   "outputs": [],
   "source": []
  }
 ],
 "metadata": {
  "kernelspec": {
   "display_name": "Python 3 (ipykernel)",
   "language": "python",
   "name": "python3"
  },
  "language_info": {
   "codemirror_mode": {
    "name": "ipython",
    "version": 3
   },
   "file_extension": ".py",
   "mimetype": "text/x-python",
   "name": "python",
   "nbconvert_exporter": "python",
   "pygments_lexer": "ipython3",
   "version": "3.9.7"
  }
 },
 "nbformat": 4,
 "nbformat_minor": 5
}
