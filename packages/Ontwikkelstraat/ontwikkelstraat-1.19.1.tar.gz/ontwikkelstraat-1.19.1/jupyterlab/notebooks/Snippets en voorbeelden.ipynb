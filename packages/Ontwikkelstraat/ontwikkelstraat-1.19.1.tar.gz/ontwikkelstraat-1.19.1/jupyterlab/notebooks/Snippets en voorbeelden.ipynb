{
 "cells": [
  {
   "cell_type": "markdown",
   "id": "0daaf436-f25e-4f5a-bbd9-a288b2572d56",
   "metadata": {},
   "source": [
    "## dependencies installeren"
   ]
  },
  {
   "cell_type": "code",
   "execution_count": 2,
   "id": "000363df-932e-4183-a87f-0e1a2adfa0af",
   "metadata": {},
   "outputs": [
    {
     "name": "stdout",
     "output_type": "stream",
     "text": [
      "Python 3.9.7 | packaged by conda-forge | (default, Sep 29 2021, 19:20:46) \n",
      "[GCC 9.4.0]\n",
      " * postgresql://postgres@pgpool:5432/backend\n",
      "Done.\n"
     ]
    }
   ],
   "source": [
    "%run ./__init__edwh__notebooks.ipynb"
   ]
  },
  {
   "cell_type": "markdown",
   "id": "8ae1c845-c7d7-4b6c-a90a-1bf0fc80edb4",
   "metadata": {
    "tags": []
   },
   "source": [
    "## Tabellen en kolommen: "
   ]
  },
  {
   "cell_type": "code",
   "execution_count": 3,
   "id": "4d581d90-e23e-47b1-8a3a-941dca5e6ef2",
   "metadata": {},
   "outputs": [
    {
     "name": "stdout",
     "output_type": "stream",
     "text": [
      "# attachment\n",
      "   id, platform, gid, attachment, filename, purpose, ts_uploaded, owner_gid, b2_uri\n",
      "\n",
      "# click__event\n",
      "   id, short_code, session_gid_hash, from_item_gid, ts\n",
      "\n",
      "# click__url\n",
      "   id, short_code, long_url\n",
      "\n",
      "# comment\n",
      "   id, platform, author, gid, concerning, in_response_to, body, ts_created, ts_last_change\n",
      "\n",
      "# email_domain\n",
      "   id, platform, gid, org_gid, domain, is_new_user_allowed\n",
      "\n",
      "# event_stream\n",
      "   id, gid, platform, user_gid, subject_gid, subject_type, ts, title, msg, doc, crud, session_token\n",
      "\n",
      "# fav_list\n",
      "   id, platform, gid, name, slug\n",
      "\n",
      "# fav_list_member\n",
      "   id, platform, gid, list_gid, user_gid, ts, list_role\n",
      "\n",
      "# item\n",
      "   id, platform, author, name, gid, thumbnail, short_description, ts_changed, tags, slug, alternatives, backgrounds, attachments, since_when, upto_when, video_urls\n",
      "\n",
      "# mark\n",
      "   id, platform, gid, user_gid, subject_gid, subject_type, list_gid, mark, name, ts\n",
      "\n",
      "# organisation\n",
      "   id, platform, gid, name, coc, street, number, city, tag_gid, lonlat\n",
      "\n",
      "# property_bag\n",
      "   id, gid, belongs_to_gid, properties\n",
      "\n",
      "# session\n",
      "   id, platform, user_gid, session_token, hw_specs, started, last_seen, upgrades, gid_hash\n",
      "\n",
      "# stats_subject_favs\n",
      "   id, gid, favs\n",
      "\n",
      "# stats_subject_thumbs\n",
      "   gid, thumbs\n",
      "\n",
      "# stats_subject_views\n",
      "   gid, tokens\n",
      "\n",
      "# sticker\n",
      "   id, tag_gid, attachment_gid\n",
      "\n",
      "# tag\n",
      "   id, platform, gid, name, slug, parents, children, description, meta_tags\n",
      "\n",
      "# user\n",
      "   id, platform, name, email, password, gid, api_token, has_validated_email, email_verification_code, property_bag, avatar, firstname, lastname, user_provided_organisation, user_provided_primary_organisational_role, user_provided_organisation_location\n",
      "\n",
      "# user_notification\n",
      "   id, gid, platform, user_gid, subject_gid, subject_type, ts, title, msg, read_ts\n",
      "\n"
     ]
    }
   ],
   "source": [
    "for table in sorted(db.tables):\n",
    "    print(f'# {table}')\n",
    "    print(f'  ',', '.join(db[table].fields))\n",
    "    print('')\n"
   ]
  },
  {
   "cell_type": "code",
   "execution_count": 4,
   "id": "a767f3c3-f635-49f8-9c21-a69a66e81b58",
   "metadata": {},
   "outputs": [
    {
     "data": {
      "text/plain": [
       "['item.gid,item.name',\n",
       " '00e0ec90-7ba5-4265-90f0-747b944963df,Uit de schatkist van Joke Middelbeek – Mopperschriftje',\n",
       " '521e38a1-441b-469f-bf10-58612dc172e5,Uit de schatkist van Joke Middelbeek – Wilskracht',\n",
       " 'f5d2cdde-519c-4c4b-9b57-126b6de28a66,Uit de schatkist van Joke Middelbeek – Met vallen en opstaan',\n",
       " '8202bb06-39e6-4f0b-991d-90f2bd46f220,Uit de schatkist van Joke Middelbeek – Scholentour',\n",
       " '8ef0b366-1d56-43e5-9852-5e772e2ff30c,Uit de schatkist van Joke Middelbeek – Driftbuien',\n",
       " '6cfbf03e-5aca-4a28-9b66-2dca6afd332f,Kritisch leren denken tijdens het Museum Debat',\n",
       " '7090dd0e-0299-4aae-9a2d-467f61c338a0,De verbinding tussen informatica en de leefwereld van leerlingen',\n",
       " 'e7b7db6c-fbf3-40f5-ae24-62536bd48963,Samen onze rekendidactiek verbeteren',\n",
       " '89d9ae56-ce82-419b-aaff-6bfa3713d4e6,Door Lezen de Wereld Ontmoeten',\n",
       " '12c166e8-672c-4f99-b449-7b9369e21abf,Kansengelijkheid vergroten: leerlingen worden eigenaar van hun ontwikkeling',\n",
       " '']"
      ]
     },
     "execution_count": 4,
     "metadata": {},
     "output_type": "execute_result"
    }
   ],
   "source": [
    "# selecteer 10 demo regels van items\n",
    "# (nieuwe bovenaan, niet verwijderd, uit het SvS platform)\n",
    "rows = db((db.item.author!=None) & (db.item.platform.contains('SvS'))).select(db.item.gid, db.item.name, limitby=(0,10), orderby=~db.item.ts_changed)\n",
    "rows.as_csv().split('\\r\\n')"
   ]
  },
  {
   "cell_type": "markdown",
   "id": "b8d4ea7c-5d94-40bf-8c4e-c4dc8c105461",
   "metadata": {},
   "source": [
    "## SQL toegang krijgen middels \n",
    "zodat dit kan werken: "
   ]
  },
  {
   "cell_type": "code",
   "execution_count": 5,
   "id": "ef33e78e-9ee5-4feb-8f4c-2cbd6639778a",
   "metadata": {},
   "outputs": [
    {
     "name": "stdout",
     "output_type": "stream",
     "text": [
      " * postgresql://postgres@pgpool:5432/backend\n",
      "2 rows affected.\n"
     ]
    },
    {
     "data": {
      "text/html": [
       "<table>\n",
       "    <tr>\n",
       "        <th>id</th>\n",
       "        <th>platform</th>\n",
       "        <th>author</th>\n",
       "        <th>name</th>\n",
       "        <th>gid</th>\n",
       "        <th>thumbnail</th>\n",
       "        <th>short_description</th>\n",
       "        <th>ts_changed</th>\n",
       "        <th>tags</th>\n",
       "        <th>slug</th>\n",
       "        <th>alternatives</th>\n",
       "        <th>backgrounds</th>\n",
       "        <th>attachments</th>\n",
       "        <th>since_when</th>\n",
       "        <th>upto_when</th>\n",
       "        <th>video_urls</th>\n",
       "    </tr>\n",
       "    <tr>\n",
       "        <td>6270</td>\n",
       "        <td>SvS</td>\n",
       "        <td>0630ddfb-be7a-47fe-91eb-3688026a5e58</td>\n",
       "        <td>Leerlijnen voor het speciaal onderwijs</td>\n",
       "        <td>d135365e-e8cc-4733-aaf3-12d2c6140488</td>\n",
       "        <td>f20cce5e-6e2b-4fd4-8fe6-24ba4f52897d</td>\n",
       "        <td>Op [SBO Merlijn](https://www.sbomerlijn.nl/) in Den Haag wordt gewerkt met leerlijnen voor lezen in het speciaal onderwijs. Bekijk een voorbeeld in de bijlage.</td>\n",
       "        <td>2020-01-24 12:26:55</td>\n",
       "        <td>|fbd1f8a3-4c2e-4dd0-8a59-d3578e17a766|4225d914-d4c8-4f89-85c5-11e26f853afa|ed64cc00-4457-4bb0-9fea-3e367f438297|8856b32d-dcfd-4a29-baa7-679888418938|8dbaad22-638d-46bd-8471-69181176fad6|a155acde-4ad8-4b8c-9693-a2eecef3c4c2|07abe8d6-8fa5-4730-80a7-88b735328924|c6231db3-8387-4b17-8c3c-4a45e0af8575|2e2b456b-3e22-4f26-a7a8-6213a521b1b3|b29162f2-bf80-4f24-aa9a-08b8ef3af4aa|03b6809f-4369-45a8-81b2-aa82592be856|43effd8b-a700-4e18-be2c-5a591793c5ca|</td>\n",
       "        <td>leerlijnen-voor-het-speciaal-onderwijs</td>\n",
       "        <td>None</td>\n",
       "        <td>||</td>\n",
       "        <td>|81a8b67b-5dce-4620-8e64-dd00470b1b3b|</td>\n",
       "        <td>2016-01-01</td>\n",
       "        <td>None</td>\n",
       "        <td>None</td>\n",
       "    </tr>\n",
       "    <tr>\n",
       "        <td>6828</td>\n",
       "        <td>SvS</td>\n",
       "        <td>a2f28371-72fe-4962-ab28-6c72624e3282</td>\n",
       "        <td>Test:8077136100629482</td>\n",
       "        <td>360c5d80-8719-455e-a8ff-1733dd3d523f</td>\n",
       "        <td>None</td>\n",
       "        <td>Description...</td>\n",
       "        <td>2021-04-26 16:00:29</td>\n",
       "        <td>||</td>\n",
       "        <td>test-8077136100629482</td>\n",
       "        <td>None</td>\n",
       "        <td>||</td>\n",
       "        <td>||</td>\n",
       "        <td>2021-01-01</td>\n",
       "        <td>None</td>\n",
       "        <td>None</td>\n",
       "    </tr>\n",
       "</table>"
      ],
      "text/plain": [
       "[(6270, 'SvS', '0630ddfb-be7a-47fe-91eb-3688026a5e58', 'Leerlijnen voor het speciaal onderwijs', 'd135365e-e8cc-4733-aaf3-12d2c6140488', 'f20cce5e-6e2b-4fd4-8fe6-24ba4f52897d', 'Op [SBO Merlijn](https://www.sbomerlijn.nl/) in Den Haag wordt gewerkt met leerlijnen voor lezen in het speciaal onderwijs. Bekijk een voorbeeld in de bijlage.', datetime.datetime(2020, 1, 24, 12, 26, 55), '|fbd1f8a3-4c2e-4dd0-8a59-d3578e17a766|4225d914-d4c8-4f89-85c5-11e26f853afa|ed64cc00-4457-4bb0-9fea-3e367f438297|8856b32d-dcfd-4a29-baa7-679888418938| ... (147 characters truncated) ... |2e2b456b-3e22-4f26-a7a8-6213a521b1b3|b29162f2-bf80-4f24-aa9a-08b8ef3af4aa|03b6809f-4369-45a8-81b2-aa82592be856|43effd8b-a700-4e18-be2c-5a591793c5ca|', 'leerlijnen-voor-het-speciaal-onderwijs', None, '||', '|81a8b67b-5dce-4620-8e64-dd00470b1b3b|', datetime.date(2016, 1, 1), None, None),\n",
       " (6828, 'SvS', 'a2f28371-72fe-4962-ab28-6c72624e3282', 'Test:8077136100629482', '360c5d80-8719-455e-a8ff-1733dd3d523f', None, 'Description...', datetime.datetime(2021, 4, 26, 16, 0, 29), '||', 'test-8077136100629482', None, '||', '||', datetime.date(2021, 1, 1), None, None)]"
      ]
     },
     "execution_count": 5,
     "metadata": {},
     "output_type": "execute_result"
    }
   ],
   "source": [
    "%%sql\n",
    "select * from item limit (2)"
   ]
  },
  {
   "cell_type": "markdown",
   "id": "55997c62-95c3-41f8-8183-c0a41aeef817",
   "metadata": {},
   "source": [
    "of bijvoorbeeld "
   ]
  },
  {
   "cell_type": "code",
   "execution_count": 6,
   "id": "ae62398f-711b-4286-a5d5-08220d832840",
   "metadata": {},
   "outputs": [
    {
     "name": "stdout",
     "output_type": "stream",
     "text": [
      " * postgresql://postgres@pgpool:5432/backend\n",
      "5 rows affected.\n"
     ]
    },
    {
     "data": {
      "text/html": [
       "<table>\n",
       "    <tr>\n",
       "        <th>year_month</th>\n",
       "        <th>items_created</th>\n",
       "    </tr>\n",
       "    <tr>\n",
       "        <td>2021-12</td>\n",
       "        <td>7</td>\n",
       "    </tr>\n",
       "    <tr>\n",
       "        <td>2021-11</td>\n",
       "        <td>5</td>\n",
       "    </tr>\n",
       "    <tr>\n",
       "        <td>2021-10</td>\n",
       "        <td>5</td>\n",
       "    </tr>\n",
       "    <tr>\n",
       "        <td>2021-08</td>\n",
       "        <td>2</td>\n",
       "    </tr>\n",
       "    <tr>\n",
       "        <td>2021-07</td>\n",
       "        <td>1</td>\n",
       "    </tr>\n",
       "</table>"
      ],
      "text/plain": [
       "[('2021-12', 7),\n",
       " ('2021-11', 5),\n",
       " ('2021-10', 5),\n",
       " ('2021-08', 2),\n",
       " ('2021-07', 1)]"
      ]
     },
     "execution_count": 6,
     "metadata": {},
     "output_type": "execute_result"
    }
   ],
   "source": [
    "%%sql\n",
    "select to_char(ts,'YYYY-MM') as year_month,  count(*) as  items_created\n",
    "from event_stream\n",
    "where platform = 'SvS'\n",
    "  and subject_type = 'item'\n",
    "  and crud = 'c'\n",
    "group by crud, subject_type,  to_char(ts,'YYYY-MM')\n",
    "order by to_char(ts,'YYYY-MM') desc , subject_type, crud\n",
    "limit 5;"
   ]
  },
  {
   "cell_type": "markdown",
   "id": "c3d35b54-4eee-4d25-bc27-ab0bc34fe931",
   "metadata": {},
   "source": [
    "## Panda's gebruiken vanaf pydal resultaat"
   ]
  },
  {
   "cell_type": "code",
   "execution_count": 7,
   "id": "47447c20-5c9c-4663-a591-1a8a04d015d4",
   "metadata": {},
   "outputs": [],
   "source": [
    "items = pd.read_csv(BytesIO(rows.as_csv().encode('utf-8')))"
   ]
  },
  {
   "cell_type": "code",
   "execution_count": 8,
   "id": "ffc7c6fa-79d9-47e7-a833-7c6737d50091",
   "metadata": {},
   "outputs": [
    {
     "data": {
      "text/html": [
       "<div>\n",
       "<style scoped>\n",
       "    .dataframe tbody tr th:only-of-type {\n",
       "        vertical-align: middle;\n",
       "    }\n",
       "\n",
       "    .dataframe tbody tr th {\n",
       "        vertical-align: top;\n",
       "    }\n",
       "\n",
       "    .dataframe thead th {\n",
       "        text-align: right;\n",
       "    }\n",
       "</style>\n",
       "<table border=\"1\" class=\"dataframe\">\n",
       "  <thead>\n",
       "    <tr style=\"text-align: right;\">\n",
       "      <th></th>\n",
       "      <th>item.gid</th>\n",
       "      <th>item.name</th>\n",
       "    </tr>\n",
       "  </thead>\n",
       "  <tbody>\n",
       "    <tr>\n",
       "      <th>0</th>\n",
       "      <td>00e0ec90-7ba5-4265-90f0-747b944963df</td>\n",
       "      <td>Uit de schatkist van Joke Middelbeek – Moppers...</td>\n",
       "    </tr>\n",
       "    <tr>\n",
       "      <th>1</th>\n",
       "      <td>521e38a1-441b-469f-bf10-58612dc172e5</td>\n",
       "      <td>Uit de schatkist van Joke Middelbeek – Wilskracht</td>\n",
       "    </tr>\n",
       "    <tr>\n",
       "      <th>2</th>\n",
       "      <td>f5d2cdde-519c-4c4b-9b57-126b6de28a66</td>\n",
       "      <td>Uit de schatkist van Joke Middelbeek – Met val...</td>\n",
       "    </tr>\n",
       "    <tr>\n",
       "      <th>3</th>\n",
       "      <td>8202bb06-39e6-4f0b-991d-90f2bd46f220</td>\n",
       "      <td>Uit de schatkist van Joke Middelbeek – Scholen...</td>\n",
       "    </tr>\n",
       "    <tr>\n",
       "      <th>4</th>\n",
       "      <td>8ef0b366-1d56-43e5-9852-5e772e2ff30c</td>\n",
       "      <td>Uit de schatkist van Joke Middelbeek – Driftbuien</td>\n",
       "    </tr>\n",
       "    <tr>\n",
       "      <th>5</th>\n",
       "      <td>6cfbf03e-5aca-4a28-9b66-2dca6afd332f</td>\n",
       "      <td>Kritisch leren denken tijdens het Museum Debat</td>\n",
       "    </tr>\n",
       "    <tr>\n",
       "      <th>6</th>\n",
       "      <td>7090dd0e-0299-4aae-9a2d-467f61c338a0</td>\n",
       "      <td>De verbinding tussen informatica en de leefwer...</td>\n",
       "    </tr>\n",
       "    <tr>\n",
       "      <th>7</th>\n",
       "      <td>e7b7db6c-fbf3-40f5-ae24-62536bd48963</td>\n",
       "      <td>Samen onze rekendidactiek verbeteren</td>\n",
       "    </tr>\n",
       "    <tr>\n",
       "      <th>8</th>\n",
       "      <td>89d9ae56-ce82-419b-aaff-6bfa3713d4e6</td>\n",
       "      <td>Door Lezen de Wereld Ontmoeten</td>\n",
       "    </tr>\n",
       "    <tr>\n",
       "      <th>9</th>\n",
       "      <td>12c166e8-672c-4f99-b449-7b9369e21abf</td>\n",
       "      <td>Kansengelijkheid vergroten: leerlingen worden ...</td>\n",
       "    </tr>\n",
       "  </tbody>\n",
       "</table>\n",
       "</div>"
      ],
      "text/plain": [
       "                               item.gid  \\\n",
       "0  00e0ec90-7ba5-4265-90f0-747b944963df   \n",
       "1  521e38a1-441b-469f-bf10-58612dc172e5   \n",
       "2  f5d2cdde-519c-4c4b-9b57-126b6de28a66   \n",
       "3  8202bb06-39e6-4f0b-991d-90f2bd46f220   \n",
       "4  8ef0b366-1d56-43e5-9852-5e772e2ff30c   \n",
       "5  6cfbf03e-5aca-4a28-9b66-2dca6afd332f   \n",
       "6  7090dd0e-0299-4aae-9a2d-467f61c338a0   \n",
       "7  e7b7db6c-fbf3-40f5-ae24-62536bd48963   \n",
       "8  89d9ae56-ce82-419b-aaff-6bfa3713d4e6   \n",
       "9  12c166e8-672c-4f99-b449-7b9369e21abf   \n",
       "\n",
       "                                           item.name  \n",
       "0  Uit de schatkist van Joke Middelbeek – Moppers...  \n",
       "1  Uit de schatkist van Joke Middelbeek – Wilskracht  \n",
       "2  Uit de schatkist van Joke Middelbeek – Met val...  \n",
       "3  Uit de schatkist van Joke Middelbeek – Scholen...  \n",
       "4  Uit de schatkist van Joke Middelbeek – Driftbuien  \n",
       "5     Kritisch leren denken tijdens het Museum Debat  \n",
       "6  De verbinding tussen informatica en de leefwer...  \n",
       "7               Samen onze rekendidactiek verbeteren  \n",
       "8                     Door Lezen de Wereld Ontmoeten  \n",
       "9  Kansengelijkheid vergroten: leerlingen worden ...  "
      ]
     },
     "execution_count": 8,
     "metadata": {},
     "output_type": "execute_result"
    }
   ],
   "source": [
    "items"
   ]
  },
  {
   "cell_type": "markdown",
   "id": "789dcca5-9f46-4c0d-9979-125b17d84c86",
   "metadata": {},
   "source": [
    "## Gebruik van libraries icm jupyterlab "
   ]
  },
  {
   "cell_type": "code",
   "execution_count": 9,
   "id": "63c42737-24ee-49fa-9dde-643d736f6695",
   "metadata": {},
   "outputs": [
    {
     "data": {
      "text/plain": [
       "True"
      ]
     },
     "execution_count": 9,
     "metadata": {},
     "output_type": "execute_result"
    }
   ],
   "source": [
    "handig.zeer_handig"
   ]
  },
  {
   "cell_type": "code",
   "execution_count": 10,
   "id": "567d70a9-e72f-448b-bf47-87228c5496f5",
   "metadata": {},
   "outputs": [],
   "source": [
    "# als de library gewijzigd is en je wil niet de hele kernel herstarten\n",
    "# maar wel de nieuwe library gebruiken, kun je dit doen: \n",
    "from importlib import reload \n",
    "handig = reload(handig)"
   ]
  },
  {
   "cell_type": "markdown",
   "id": "eb6faff9-48f8-475a-861b-fd08f0ce5291",
   "metadata": {},
   "source": [
    "## Tags\n"
   ]
  },
  {
   "cell_type": "code",
   "execution_count": 11,
   "id": "1898deb9-1701-4491-af93-69f029e9105f",
   "metadata": {},
   "outputs": [
    {
     "name": "stdout",
     "output_type": "stream",
     "text": [
      "      TOrganisations : e5b80b90-1851-42d9-aebc-87327e87ed09\n",
      "               TItem : fc8a7d36-e23e-4aba-8ee9-f5269ecc8dfc\n",
      "TUser_generated_tags : 38f7b956-6315-4676-8076-8aeef258563e\n",
      "             TSystem : 19682a99-50a3-4fc0-bb67-e0f6eff5da55\n",
      "             TFilter : 8b78e33d-c4ab-442e-aaf6-411fda089b03\n",
      "   TIsuserselectable : dcaea9b5-879e-43f7-8860-67579e10166e\n",
      "         TFilterbalk : c05e9cea-76c0-4b48-8f91-4cee4ff7f0ab\n"
     ]
    }
   ],
   "source": [
    "# make available as regular variables in the python_environment\n",
    "Tag.create_Tnamed_metatag_variables(locals())\n",
    "\n",
    "# show these items\n",
    "for k,v in locals().copy().items():\n",
    "    if k.startswith('T') and isinstance(v,Tag):\n",
    "        print(f'{k:>20} : {v.gid}')"
   ]
  },
  {
   "cell_type": "code",
   "execution_count": 12,
   "id": "449e49b0-9c9b-421e-85ee-f9947769f49b",
   "metadata": {},
   "outputs": [
    {
     "data": {
      "text/plain": [
       "{'Doelgroep': <Rows (22)>,\n",
       " 'Omvang': <Rows (8)>,\n",
       " 'Dimensie': <Rows (9)>,\n",
       " 'Offline aanbod': <Rows (6)>,\n",
       " 'Geplaatst door': <Rows (19)>,\n",
       " 'Media': <Rows (3)>,\n",
       " 'Sector': <Rows (5)>}"
      ]
     },
     "execution_count": 12,
     "metadata": {},
     "output_type": "execute_result"
    }
   ],
   "source": [
    "# find all filters :\n",
    "filter_tags = Tag.find_by_meta_tag(TFilter)\n",
    "dict([(r.name, Tag.find_children(Tag(r))) for r in filter_tags])"
   ]
  },
  {
   "cell_type": "markdown",
   "id": "95a2c620-825d-4f88-8753-733246064cc2",
   "metadata": {},
   "source": [
    "# Zoek fouten in de Tag structuur\n",
    "\n",
    "Een parent property en een child property hoeven niet in sync met elkaar te zijn. Dus door het vergelijken van de parents van elke child, en de children van elke parent is na te gaan waar deze niet langer kloppend zijn.  \n",
    "<font color=\"red\"> **⚠** Fix deze issues </font>"
   ]
  },
  {
   "cell_type": "code",
   "execution_count": 13,
   "id": "68dc9694-a95f-4d46-800e-ab929946bc50",
   "metadata": {},
   "outputs": [],
   "source": [
    "# handig.find_out_of_sync_parent_child_relationships(Tag)"
   ]
  },
  {
   "cell_type": "code",
   "execution_count": 14,
   "id": "57ebb6c6-6f6c-450b-9fe1-f4642a4ff2c1",
   "metadata": {},
   "outputs": [
    {
     "data": {
      "text/markdown": [
       "## Doelgroep"
      ],
      "text/plain": [
       "<IPython.core.display.Markdown object>"
      ]
     },
     "metadata": {},
     "output_type": "display_data"
    },
    {
     "data": {
      "text/markdown": [
       " * 0 t/m 3 jaar (KDV/VVE/peuterschool) <font color=\"darkgrey\">[ Item, isUserSelectable ]</font>"
      ],
      "text/plain": [
       "<IPython.core.display.Markdown object>"
      ]
     },
     "metadata": {},
     "output_type": "display_data"
    },
    {
     "data": {
      "text/markdown": [
       " * 4 t/m 7 jaar (onderbouw PO) <font color=\"darkgrey\">[ Item, isUserSelectable ]</font>"
      ],
      "text/plain": [
       "<IPython.core.display.Markdown object>"
      ]
     },
     "metadata": {},
     "output_type": "display_data"
    },
    {
     "data": {
      "text/markdown": [
       " * 7 t/m 10 jaar (middenbouw PO) <font color=\"darkgrey\">[ Item, isUserSelectable ]</font>"
      ],
      "text/plain": [
       "<IPython.core.display.Markdown object>"
      ]
     },
     "metadata": {},
     "output_type": "display_data"
    },
    {
     "data": {
      "text/markdown": [
       " * 10 t/m 12 jaar (bovenbouw PO) <font color=\"darkgrey\">[ Item, isUserSelectable ]</font>"
      ],
      "text/plain": [
       "<IPython.core.display.Markdown object>"
      ]
     },
     "metadata": {},
     "output_type": "display_data"
    },
    {
     "data": {
      "text/markdown": [
       " * 12 t/m 14 jaar (onderbouw VO) <font color=\"darkgrey\">[ Item, isUserSelectable ]</font>"
      ],
      "text/plain": [
       "<IPython.core.display.Markdown object>"
      ]
     },
     "metadata": {},
     "output_type": "display_data"
    },
    {
     "data": {
      "text/markdown": [
       " * 14 t/m 18 jaar (bovenbouw VO) <font color=\"darkgrey\">[ Item, isUserSelectable ]</font>"
      ],
      "text/plain": [
       "<IPython.core.display.Markdown object>"
      ]
     },
     "metadata": {},
     "output_type": "display_data"
    },
    {
     "data": {
      "text/markdown": [
       " * 0 t/m 12 jaar (integraal kindcentrum) <font color=\"darkgrey\">[ Item, isUserSelectable ]</font>"
      ],
      "text/plain": [
       "<IPython.core.display.Markdown object>"
      ]
     },
     "metadata": {},
     "output_type": "display_data"
    },
    {
     "data": {
      "text/markdown": [
       " * 10 t/m 14 jaar (tieneronderwijs) <font color=\"darkgrey\">[ Item, isUserSelectable ]</font>"
      ],
      "text/plain": [
       "<IPython.core.display.Markdown object>"
      ]
     },
     "metadata": {},
     "output_type": "display_data"
    },
    {
     "data": {
      "text/markdown": [
       " * 0 t/m 18 jaar (doorgaand onderwijs) <font color=\"darkgrey\">[ Item, isUserSelectable ]</font>"
      ],
      "text/plain": [
       "<IPython.core.display.Markdown object>"
      ]
     },
     "metadata": {},
     "output_type": "display_data"
    },
    {
     "data": {
      "text/markdown": [
       "## Omvang"
      ],
      "text/plain": [
       "<IPython.core.display.Markdown object>"
      ]
     },
     "metadata": {},
     "output_type": "display_data"
    },
    {
     "data": {
      "text/markdown": [
       " * Groepsontwikkeling <font color=\"darkgrey\">[ Item, isUserSelectable ]</font>"
      ],
      "text/plain": [
       "<IPython.core.display.Markdown object>"
      ]
     },
     "metadata": {},
     "output_type": "display_data"
    },
    {
     "data": {
      "text/markdown": [
       " * Teamontwikkeling <font color=\"darkgrey\">[ Item, isUserSelectable ]</font>"
      ],
      "text/plain": [
       "<IPython.core.display.Markdown object>"
      ]
     },
     "metadata": {},
     "output_type": "display_data"
    },
    {
     "data": {
      "text/markdown": [
       " * Locatiebrede ontwikkeling <font color=\"darkgrey\">[ Item, isUserSelectable ]</font>"
      ],
      "text/plain": [
       "<IPython.core.display.Markdown object>"
      ]
     },
     "metadata": {},
     "output_type": "display_data"
    },
    {
     "data": {
      "text/markdown": [
       " * Schoolbrede ontwikkeling <font color=\"darkgrey\">[ Item, isUserSelectable ]</font>"
      ],
      "text/plain": [
       "<IPython.core.display.Markdown object>"
      ]
     },
     "metadata": {},
     "output_type": "display_data"
    },
    {
     "data": {
      "text/markdown": [
       " * Bestuursbrede ontwikkeling <font color=\"darkgrey\">[ Item, isUserSelectable ]</font>"
      ],
      "text/plain": [
       "<IPython.core.display.Markdown object>"
      ]
     },
     "metadata": {},
     "output_type": "display_data"
    },
    {
     "data": {
      "text/markdown": [
       " * Regiobrede ontwikkeling <font color=\"darkgrey\">[ Item, isUserSelectable ]</font>"
      ],
      "text/plain": [
       "<IPython.core.display.Markdown object>"
      ]
     },
     "metadata": {},
     "output_type": "display_data"
    },
    {
     "data": {
      "text/markdown": [
       " * Samenwerkingsverbandbrede ontwikkeling <font color=\"darkgrey\">[ Item, isUserSelectable ]</font>"
      ],
      "text/plain": [
       "<IPython.core.display.Markdown object>"
      ]
     },
     "metadata": {},
     "output_type": "display_data"
    },
    {
     "data": {
      "text/markdown": [
       "## Dimensie"
      ],
      "text/plain": [
       "<IPython.core.display.Markdown object>"
      ]
     },
     "metadata": {},
     "output_type": "display_data"
    },
    {
     "data": {
      "text/markdown": [
       " * Algemene visie en organisatie <font color=\"darkgrey\">[ Item, isUserSelectable ]</font>"
      ],
      "text/plain": [
       "<IPython.core.display.Markdown object>"
      ]
     },
     "metadata": {},
     "output_type": "display_data"
    },
    {
     "data": {
      "text/markdown": [
       " * Personeel <font color=\"darkgrey\">[ Item, isUserSelectable ]</font>"
      ],
      "text/plain": [
       "<IPython.core.display.Markdown object>"
      ]
     },
     "metadata": {},
     "output_type": "display_data"
    },
    {
     "data": {
      "text/markdown": [
       " * Leeromgeving <font color=\"darkgrey\">[ Item, isUserSelectable ]</font>"
      ],
      "text/plain": [
       "<IPython.core.display.Markdown object>"
      ]
     },
     "metadata": {},
     "output_type": "display_data"
    },
    {
     "data": {
      "text/markdown": [
       " * Leerinhoud <font color=\"darkgrey\">[ Item, isUserSelectable ]</font>"
      ],
      "text/plain": [
       "<IPython.core.display.Markdown object>"
      ]
     },
     "metadata": {},
     "output_type": "display_data"
    },
    {
     "data": {
      "text/markdown": [
       " * ICT ontwikkeling <font color=\"darkgrey\">[ Item, isUserSelectable ]</font>"
      ],
      "text/plain": [
       "<IPython.core.display.Markdown object>"
      ]
     },
     "metadata": {},
     "output_type": "display_data"
    },
    {
     "data": {
      "text/markdown": [
       " * Het volgen van leerlingen <font color=\"darkgrey\">[ Item, isUserSelectable ]</font>"
      ],
      "text/plain": [
       "<IPython.core.display.Markdown object>"
      ]
     },
     "metadata": {},
     "output_type": "display_data"
    },
    {
     "data": {
      "text/markdown": [
       " * Differentiatie <font color=\"darkgrey\">[ Item, isUserSelectable ]</font>"
      ],
      "text/plain": [
       "<IPython.core.display.Markdown object>"
      ]
     },
     "metadata": {},
     "output_type": "display_data"
    },
    {
     "data": {
      "text/markdown": [
       " * Professionele leergemeenschap / leiderschap / cultuur <font color=\"darkgrey\">[ Item, isUserSelectable ]</font>"
      ],
      "text/plain": [
       "<IPython.core.display.Markdown object>"
      ]
     },
     "metadata": {},
     "output_type": "display_data"
    },
    {
     "data": {
      "text/markdown": [
       " * School en samenleving <font color=\"darkgrey\">[ Item, isUserSelectable ]</font>"
      ],
      "text/plain": [
       "<IPython.core.display.Markdown object>"
      ]
     },
     "metadata": {},
     "output_type": "display_data"
    },
    {
     "data": {
      "text/markdown": [
       "## Offline aanbod"
      ],
      "text/plain": [
       "<IPython.core.display.Markdown object>"
      ]
     },
     "metadata": {},
     "output_type": "display_data"
    },
    {
     "data": {
      "text/markdown": [
       " * Met mogelijkheid workshop over praktijk <font color=\"darkgrey\">[ Item, isUserSelectable ]</font>"
      ],
      "text/plain": [
       "<IPython.core.display.Markdown object>"
      ]
     },
     "metadata": {},
     "output_type": "display_data"
    },
    {
     "data": {
      "text/markdown": [
       " * Met mogelijkheid bezoek op locatie <font color=\"darkgrey\">[ Item, isUserSelectable ]</font>"
      ],
      "text/plain": [
       "<IPython.core.display.Markdown object>"
      ]
     },
     "metadata": {},
     "output_type": "display_data"
    },
    {
     "data": {
      "text/markdown": [
       " * Met mogelijkheid bezoek op locatie tegen vergoeding <font color=\"darkgrey\">[ Item, isUserSelectable ]</font>"
      ],
      "text/plain": [
       "<IPython.core.display.Markdown object>"
      ]
     },
     "metadata": {},
     "output_type": "display_data"
    },
    {
     "data": {
      "text/markdown": [
       " * Met mogelijkheid stage voor professionals op locatie <font color=\"darkgrey\">[ Item, isUserSelectable ]</font>"
      ],
      "text/plain": [
       "<IPython.core.display.Markdown object>"
      ]
     },
     "metadata": {},
     "output_type": "display_data"
    },
    {
     "data": {
      "text/markdown": [
       "## Geplaatst door"
      ],
      "text/plain": [
       "<IPython.core.display.Markdown object>"
      ]
     },
     "metadata": {},
     "output_type": "display_data"
    },
    {
     "data": {
      "text/markdown": [
       " * Leraar, pedagogisch medewerker of coach <font color=\"darkgrey\">[ Item, isUserSelectable ]</font>"
      ],
      "text/plain": [
       "<IPython.core.display.Markdown object>"
      ]
     },
     "metadata": {},
     "output_type": "display_data"
    },
    {
     "data": {
      "text/markdown": [
       " * Conciërge <font color=\"darkgrey\">[ Item, isUserSelectable ]</font>"
      ],
      "text/plain": [
       "<IPython.core.display.Markdown object>"
      ]
     },
     "metadata": {},
     "output_type": "display_data"
    },
    {
     "data": {
      "text/markdown": [
       " * (Con)Rector of (Adjunct)Directeur <font color=\"darkgrey\">[ Item, isUserSelectable ]</font>"
      ],
      "text/plain": [
       "<IPython.core.display.Markdown object>"
      ]
     },
     "metadata": {},
     "output_type": "display_data"
    },
    {
     "data": {
      "text/markdown": [
       " * Bestuurder <font color=\"darkgrey\">[ Item, isUserSelectable ]</font>"
      ],
      "text/plain": [
       "<IPython.core.display.Markdown object>"
      ]
     },
     "metadata": {},
     "output_type": "display_data"
    },
    {
     "data": {
      "text/markdown": [
       " * Ondersteuningscoördinator of IB'er <font color=\"darkgrey\">[ Item, isUserSelectable ]</font>"
      ],
      "text/plain": [
       "<IPython.core.display.Markdown object>"
      ]
     },
     "metadata": {},
     "output_type": "display_data"
    },
    {
     "data": {
      "text/markdown": [
       " * Leraarondersteuner <font color=\"darkgrey\">[ Item, isUserSelectable ]</font>"
      ],
      "text/plain": [
       "<IPython.core.display.Markdown object>"
      ]
     },
     "metadata": {},
     "output_type": "display_data"
    },
    {
     "data": {
      "text/markdown": [
       " * Onderwijsassistent of toa <font color=\"darkgrey\">[ Item, isUserSelectable ]</font>"
      ],
      "text/plain": [
       "<IPython.core.display.Markdown object>"
      ]
     },
     "metadata": {},
     "output_type": "display_data"
    },
    {
     "data": {
      "text/markdown": [
       " * Teamleider, bouwcoördinator of unitleider <font color=\"darkgrey\">[ Item, isUserSelectable ]</font>"
      ],
      "text/plain": [
       "<IPython.core.display.Markdown object>"
      ]
     },
     "metadata": {},
     "output_type": "display_data"
    },
    {
     "data": {
      "text/markdown": [
       " * Secretariaat <font color=\"darkgrey\">[ Item, isUserSelectable ]</font>"
      ],
      "text/plain": [
       "<IPython.core.display.Markdown object>"
      ]
     },
     "metadata": {},
     "output_type": "display_data"
    },
    {
     "data": {
      "text/markdown": [
       " * Orthopedagoog <font color=\"darkgrey\">[ Item, isUserSelectable ]</font>"
      ],
      "text/plain": [
       "<IPython.core.display.Markdown object>"
      ]
     },
     "metadata": {},
     "output_type": "display_data"
    },
    {
     "data": {
      "text/markdown": [
       " * Ambulant begeleider, schoolpsycholoog of schoolmaatschappelijk werker <font color=\"darkgrey\">[ Item, isUserSelectable ]</font>"
      ],
      "text/plain": [
       "<IPython.core.display.Markdown object>"
      ]
     },
     "metadata": {},
     "output_type": "display_data"
    },
    {
     "data": {
      "text/markdown": [
       " * Vertrouwenspersoon <font color=\"darkgrey\">[ Item, isUserSelectable ]</font>"
      ],
      "text/plain": [
       "<IPython.core.display.Markdown object>"
      ]
     },
     "metadata": {},
     "output_type": "display_data"
    },
    {
     "data": {
      "text/markdown": [
       " * Vakspecialist <font color=\"darkgrey\">[ Item, isUserSelectable ]</font>"
      ],
      "text/plain": [
       "<IPython.core.display.Markdown object>"
      ]
     },
     "metadata": {},
     "output_type": "display_data"
    },
    {
     "data": {
      "text/markdown": [
       " * Mentor <font color=\"darkgrey\">[ Item, isUserSelectable ]</font>"
      ],
      "text/plain": [
       "<IPython.core.display.Markdown object>"
      ]
     },
     "metadata": {},
     "output_type": "display_data"
    },
    {
     "data": {
      "text/markdown": [
       " * (B)ICT-coördinator <font color=\"darkgrey\">[ Item, isUserSelectable ]</font>"
      ],
      "text/plain": [
       "<IPython.core.display.Markdown object>"
      ]
     },
     "metadata": {},
     "output_type": "display_data"
    },
    {
     "data": {
      "text/markdown": [
       " * ICT-medewerker <font color=\"darkgrey\">[ Item, isUserSelectable ]</font>"
      ],
      "text/plain": [
       "<IPython.core.display.Markdown object>"
      ]
     },
     "metadata": {},
     "output_type": "display_data"
    },
    {
     "data": {
      "text/markdown": [
       " * MR-lid (GMR / OMR / PMR) <font color=\"darkgrey\">[ Item, isUserSelectable ]</font>"
      ],
      "text/plain": [
       "<IPython.core.display.Markdown object>"
      ]
     },
     "metadata": {},
     "output_type": "display_data"
    },
    {
     "data": {
      "text/markdown": [
       " * Roostermaker <font color=\"darkgrey\">[ Item, isUserSelectable ]</font>"
      ],
      "text/plain": [
       "<IPython.core.display.Markdown object>"
      ]
     },
     "metadata": {},
     "output_type": "display_data"
    },
    {
     "data": {
      "text/markdown": [
       "## Media"
      ],
      "text/plain": [
       "<IPython.core.display.Markdown object>"
      ]
     },
     "metadata": {},
     "output_type": "display_data"
    },
    {
     "data": {
      "text/markdown": [
       " * Met fotoserie <font color=\"darkgrey\">[ Item, isUserSelectable ]</font>"
      ],
      "text/plain": [
       "<IPython.core.display.Markdown object>"
      ]
     },
     "metadata": {},
     "output_type": "display_data"
    },
    {
     "data": {
      "text/markdown": [
       " * Met filmpje(s) <font color=\"darkgrey\">[ Item, isUserSelectable ]</font>"
      ],
      "text/plain": [
       "<IPython.core.display.Markdown object>"
      ]
     },
     "metadata": {},
     "output_type": "display_data"
    },
    {
     "data": {
      "text/markdown": [
       " * Met document(en) <font color=\"darkgrey\">[ Item, isUserSelectable ]</font>"
      ],
      "text/plain": [
       "<IPython.core.display.Markdown object>"
      ]
     },
     "metadata": {},
     "output_type": "display_data"
    },
    {
     "data": {
      "text/markdown": [
       "## Sector"
      ],
      "text/plain": [
       "<IPython.core.display.Markdown object>"
      ]
     },
     "metadata": {},
     "output_type": "display_data"
    },
    {
     "data": {
      "text/markdown": [
       " * Kinderdagverblijf (KDV) / Voor- en Vroegschoolse Educatie (VVE) / Peuterschool <font color=\"darkgrey\">[ Item, isUserSelectable ]</font>"
      ],
      "text/plain": [
       "<IPython.core.display.Markdown object>"
      ]
     },
     "metadata": {},
     "output_type": "display_data"
    },
    {
     "data": {
      "text/markdown": [
       " * Primair onderwijs (po) <font color=\"darkgrey\">[ Item, isUserSelectable ]</font>"
      ],
      "text/plain": [
       "<IPython.core.display.Markdown object>"
      ]
     },
     "metadata": {},
     "output_type": "display_data"
    },
    {
     "data": {
      "text/markdown": [
       " * Buitenschoolse opvang (bso) <font color=\"darkgrey\">[ Item, isUserSelectable ]</font>"
      ],
      "text/plain": [
       "<IPython.core.display.Markdown object>"
      ]
     },
     "metadata": {},
     "output_type": "display_data"
    },
    {
     "data": {
      "text/markdown": [
       " * Voortgezet onderwijs (vo) <font color=\"darkgrey\">[ Item, isUserSelectable ]</font>"
      ],
      "text/plain": [
       "<IPython.core.display.Markdown object>"
      ]
     },
     "metadata": {},
     "output_type": "display_data"
    },
    {
     "data": {
      "text/markdown": [
       " * Middelbaar beroeps onderwijs (MBO) <font color=\"darkgrey\">[ Item, isUserSelectable ]</font>"
      ],
      "text/plain": [
       "<IPython.core.display.Markdown object>"
      ]
     },
     "metadata": {},
     "output_type": "display_data"
    }
   ],
   "source": [
    "handig.human_readable_list_of_tagged_with(Tag, TFilter)"
   ]
  },
  {
   "cell_type": "markdown",
   "id": "09fe2aab-14dd-4520-84a4-47c7e7cb26ab",
   "metadata": {},
   "source": [
    "## Walk door de boomstructuur van Tags "
   ]
  },
  {
   "cell_type": "code",
   "execution_count": 15,
   "id": "c1a90936-3460-4d1f-80bc-b94d5daa02b3",
   "metadata": {},
   "outputs": [
    {
     "name": "stdout",
     "output_type": "stream",
     "text": [
      " System ['System']\n",
      "    UIRelated ['System']\n",
      "       Filter ['System']\n",
      "       User generated tags ['System']\n",
      "           *** hidden ***\n",
      "       Filterbalk ['System', 'Filterbalk']\n",
      "          Coronavirus ['Item']\n",
      "          Professionalisering ['Item']\n",
      "          Anders organiseren ['Item']\n",
      "             Coronavirus ['Item']\n",
      "          Differentiatie ['Item', 'isUserSelectable']\n",
      "          School en samenleving ['Item', 'isUserSelectable']\n",
      "          Het volgen van leerlingen ['Item', 'isUserSelectable']\n",
      "          21ste Eeuwse vaardigheden ['Item']\n",
      "       Stickers ['System']\n",
      "          SlimFit onderwijs ['User generated tags', 'Item']\n",
      "          Voortgezet Leren []\n",
      "          Slimmerlerenmetict.nl -> PO Raad []\n",
      "          Schoolleiders voor de Toekomst []\n",
      "          Kennisnet podcasts []\n",
      "          Lesopafstand.nl ['System']\n",
      "          Meesterwerk Podcast ['System']\n",
      "          test-sticker ['System']\n",
      "          School aan Zet ['System']\n",
      "          Leraren met Lef []\n",
      "          Leerling2020 ['User generated tags', 'Item']\n",
      "          PACT voor Kindcentra []\n",
      "          vernieuwenderwijs []\n",
      "          NRO Kennisrotonde []\n",
      "          Leraar24.nl []\n",
      "          Gemeente Leiden ['System']\n",
      "          VO Raad []\n",
      "          Eenvandaag []\n",
      "          OnderwijsInc []\n",
      "          Facebook groepen []\n",
      "          LOF (Lerarenontwikkelfonds) []\n",
      "          Leren met de Stad ['System']\n",
      "          stichting leerKRACHT []\n",
      "          HUPP ['System']\n",
      "          TOM (Team Onderwijs op Maat) []\n",
      "          Reformatorisch Dagblad []\n",
      "          Schoolkracht ['System']\n",
      "          leraar.nl []\n",
      "          DNA van de leraar []\n",
      "          voordeklas.com []\n",
      "    isUserSelectable ['System']\n",
      "    Regio ['System']\n"
     ]
    }
   ],
   "source": [
    "TSystem.walk(_print)"
   ]
  },
  {
   "cell_type": "code",
   "execution_count": 16,
   "id": "36616986-4791-4a42-9eb9-ceda7cba01e9",
   "metadata": {
    "tags": []
   },
   "outputs": [
    {
     "name": "stdout",
     "output_type": "stream",
     "text": [
      " System ['System']\n",
      "    Organisatie ['Item', 'User generated tags']\n",
      "    UIRelated ['System']\n",
      "       Stickers ['System']\n",
      "          Schoolkracht ['System']\n",
      "          NRO Kennisrotonde []\n",
      "          Voortgezet Leren []\n",
      "          TOM (Team Onderwijs op Maat) []\n",
      "          Slimmerlerenmetict.nl -> PO Raad []\n",
      "          LOF (Lerarenontwikkelfonds) []\n",
      "          Leraren met Lef []\n",
      "          Leraar24.nl []\n",
      "          OnderwijsInc []\n",
      "          leraar.nl []\n",
      "          Kennisnet podcasts []\n",
      "          DNA van de leraar []\n",
      "          voordeklas.com []\n",
      "          Schoolleiders voor de Toekomst []\n",
      "          VO Raad []\n",
      "          PACT voor Kindcentra []\n",
      "          stichting leerKRACHT []\n",
      "          vernieuwenderwijs []\n",
      "          Facebook groepen []\n",
      "          Reformatorisch Dagblad []\n",
      "          Eenvandaag []\n",
      "          HUPP ['System']\n",
      "          SlimFit onderwijs ['User generated tags', 'Item']\n",
      "          Lesopafstand.nl ['System']\n",
      "          Leren met de Stad ['System']\n",
      "          Meesterwerk Podcast ['System']\n",
      "          Gemeente Leiden ['System']\n",
      "          School aan Zet ['System']\n",
      "          test-sticker ['System']\n",
      "          Leerling2020 ['User generated tags', 'Item']\n",
      "       Filter ['System']\n",
      "       User generated tags ['System']\n",
      "           *** hidden ***\n",
      "       Filterbalk ['System', 'Filterbalk']\n",
      "          21ste Eeuwse vaardigheden ['Item']\n",
      "          Professionalisering ['Item']\n",
      "          Anders organiseren ['Item']\n",
      "             Coronavirus ['Item']\n",
      "          Coronavirus ['Item']\n",
      "          Differentiatie ['Item', 'isUserSelectable']\n",
      "          School en samenleving ['Item', 'isUserSelectable']\n",
      "          Het volgen van leerlingen ['Item', 'isUserSelectable']\n",
      "    isUserSelectable ['System']\n",
      "    Regio ['System']\n",
      "       Leiden ['Item']\n"
     ]
    }
   ],
   "source": [
    "# of gebruikt de specifieke richting (via een method van Tag)\n",
    "Tag('System').walk(_print, direction='children_by_parental_reference')"
   ]
  },
  {
   "cell_type": "code",
   "execution_count": null,
   "id": "d38c6bb6-b7c3-4431-b118-813f4c495688",
   "metadata": {},
   "outputs": [],
   "source": []
  }
 ],
 "metadata": {
  "kernelspec": {
   "display_name": "Python 3 (ipykernel)",
   "language": "python",
   "name": "python3"
  },
  "language_info": {
   "codemirror_mode": {
    "name": "ipython",
    "version": 3
   },
   "file_extension": ".py",
   "mimetype": "text/x-python",
   "name": "python",
   "nbconvert_exporter": "python",
   "pygments_lexer": "ipython3",
   "version": "3.9.7"
  }
 },
 "nbformat": 4,
 "nbformat_minor": 5
}
