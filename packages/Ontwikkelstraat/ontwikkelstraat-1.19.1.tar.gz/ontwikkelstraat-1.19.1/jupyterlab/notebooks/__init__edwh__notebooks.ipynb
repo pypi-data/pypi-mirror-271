{
 "cells": [
  {
   "cell_type": "markdown",
   "id": "0daaf436-f25e-4f5a-bbd9-a288b2572d56",
   "metadata": {},
   "source": [
    "## dependencies installeren"
   ]
  },
  {
   "cell_type": "code",
   "execution_count": 23,
   "id": "000363df-932e-4183-a87f-0e1a2adfa0af",
   "metadata": {},
   "outputs": [
    {
     "name": "stdout",
     "output_type": "stream",
     "text": [
      "Python 3.9.7 | packaged by conda-forge | (default, Sep 29 2021, 19:20:46) \n",
      "[GCC 9.4.0]\n"
     ]
    }
   ],
   "source": [
    "import sys\n",
    "if 'installatie_van_dependencies_is_voltooid' not in globals():\n",
    "    print('Python',sys.version)\n",
    "    try:\n",
    "        import pydal\n",
    "    except: \n",
    "        print(\"Heel veel packages aan het installeren\")\n",
    "        !pip install psycopg2-binary pydal sshtunnel ipython-sql sqlalchemy traitlets ycecream more-itertools jupyterlab_myst python-dotenv> /dev/null\n",
    "\n",
    "    try:\n",
    "        import backend\n",
    "    except:\n",
    "        print(\"Backend installeren\")\n",
    "        !pip install -i https://devpi.edwh.nl/remco/dev/+simple backend==${VERSION} > /dev/null \n",
    "        # traitlets moet wel de laatste versie zijn, hoewel dit mogelijk niet goed gaat ergens in de dependencies. \n",
    "        # maar als traitlets niet de laatste versie is, zijn er dependencies van jupyterlab die stuk gaan. \n",
    "        # niethandig. \n",
    "        print(\"jupyterlab niet stuk maken\")\n",
    "        !pip install traitlets --upgrade  > /dev/null\n",
    "        # volgende werkt niet want heeft ook een jupyter optie nodig om chromium te mogen\n",
    "        # installeren. \n",
    "        # # installeer onderstaande voor webpdf support.\n",
    "        # !pip install nbconvert[webpdf] > /dev/null \n",
    "        global installatie_van_dependencies_is_voltooid\n",
    "        installatie_van_dependencies_is_voltooid = True \n",
    "else: \n",
    "    print('Python', sys.version)\n",
    "    print('Dependencies reeds geinstalleerd')\n",
    "\n",
    "# https://github.com/theskumar/python-dotenv\n",
    "from dotenv import load_dotenv\n",
    "load_dotenv('.env')\n",
    "import os\n",
    "# gebruik secrets via os.getenv()"
   ]
  },
  {
   "cell_type": "code",
   "execution_count": 2,
   "id": "4689ba35-1a85-4cab-8385-f26b3e555fbf",
   "metadata": {},
   "outputs": [],
   "source": [
    "from IPython.display import display, Markdown"
   ]
  },
  {
   "cell_type": "markdown",
   "id": "791ac456-dbd0-476e-b6d3-ba426be4d4c4",
   "metadata": {},
   "source": [
    "## libs importeren om verbinding op te bouwen "
   ]
  },
  {
   "cell_type": "code",
   "execution_count": 3,
   "id": "ca41e776-07b8-4d95-843c-488d56d4073c",
   "metadata": {},
   "outputs": [],
   "source": [
    "from ycecream import y "
   ]
  },
  {
   "cell_type": "code",
   "execution_count": 4,
   "id": "5c08e29e-28b0-456f-b599-a88317451649",
   "metadata": {},
   "outputs": [],
   "source": [
    "from icecream import ic"
   ]
  },
  {
   "cell_type": "code",
   "execution_count": 5,
   "id": "c5445e63-183b-4413-961e-dc729f6fc8d5",
   "metadata": {},
   "outputs": [
    {
     "data": {
      "text/plain": [
       "<DAL uri=\"postgres://******@pgpool:5432/backend\">"
      ]
     },
     "execution_count": 5,
     "metadata": {},
     "output_type": "execute_result"
    }
   ],
   "source": [
    "import os, pydal\n",
    "import random\n",
    "import uuid\n",
    "import numpy as np\n",
    "from bs4 import BeautifulSoup\n",
    "from icecream import ic\n",
    "import ycecream # ycecream werkt niet in jupyterbooks :(\n",
    "from tqdm import tqdm\n",
    "import hashlib\n",
    "import pandas as pd\n",
    "import more_itertools\n",
    "from collections import Counter\n",
    "from pathlib import Path\n",
    "from contextlib import contextmanager\n",
    "import slugify \n",
    "from nameko.standalone.events import event_dispatcher\n",
    "# from nameko.standalone.rpc import ClusterRpcProxy # error met protocl udp niet gevonden?\n",
    "\n",
    "# stel een standaard label in. per iteratie eigenlijk opnieuw doen. \n",
    "tqdm.pandas(desc='Jupyter')\n",
    "\n",
    "# print('De weg naar postgres gevonden:', 'POSTGRES_URI' in os.environ)\n",
    "from backend import define_tables\n",
    "try:\n",
    "    # try to silently close any open databases from a previous run \n",
    "    db.close()\n",
    "except:\n",
    "    pass \n",
    "db = pydal.DAL(os.getenv('POSTGRES_URI'), migrate=False )\n",
    "db.executesql(\"PGPOOL SET client_idle_limit = 3600;\")\n",
    "define_tables.setup_db_tables(db, migrate=False)\n",
    "# rows = db((db.item.author!=None) & (db.item.platform.contains('SvS'))).select(db.item.gid, db.item.name, limitby=(0,10), orderby=~db.item.ts_changed)\n",
    "# print()\n",
    "# for table in sorted(db.tables):\n",
    "#     print(f'# {table}')\n",
    "#     print(f'  ',', '.join(db[table].fields))\n",
    "#     print('')\n",
    "# rows.as_csv().split('\\r\\n')"
   ]
  },
  {
   "cell_type": "markdown",
   "id": "59ec7841-f404-4889-8e72-96f550f4c0ed",
   "metadata": {},
   "source": [
    "## SQL toegang krijgen middels \n",
    "zodat dit kan werken: \n",
    "```\n",
    "%%sql\n",
    "select * from \"user\" limit (10)\n",
    "```\n",
    "of bijvoorbeeld \n",
    "```\n",
    "%%sql\n",
    "select to_char(ts,'YYYY-MM') as year_month,  count(*) as  items_created\n",
    "from event_stream\n",
    "where platform = 'SvS'\n",
    "  and subject_type = 'item'\n",
    "  and crud = 'c'\n",
    "group by crud, subject_type,  to_char(ts,'YYYY-MM')\n",
    "order by to_char(ts,'YYYY-MM') desc , subject_type, crud;\n",
    "```"
   ]
  },
  {
   "cell_type": "code",
   "execution_count": 6,
   "id": "768753fa-072c-47fa-a2a7-ef7e04aa14f4",
   "metadata": {},
   "outputs": [],
   "source": [
    "%load_ext sql\n",
    "DB_URI=db._uri.replace('postgres://','postgresql://')\n",
    "%sql $DB_URI\n",
    "del DB_URI"
   ]
  },
  {
   "cell_type": "code",
   "execution_count": 7,
   "id": "b5904193-244e-4ce8-912d-d5fa54b768dd",
   "metadata": {},
   "outputs": [
    {
     "name": "stdout",
     "output_type": "stream",
     "text": [
      " * postgresql://postgres@pgpool:5432/backend\n",
      "Done.\n"
     ]
    },
    {
     "data": {
      "text/plain": [
       "[]"
      ]
     },
     "execution_count": 7,
     "metadata": {},
     "output_type": "execute_result"
    }
   ],
   "source": [
    "%%sql\n",
    "-- zorg er voor dat deze verbinding niet na 30 seconden gesloten wordt \n",
    "PGPOOL SET client_idle_limit = 3600;"
   ]
  },
  {
   "cell_type": "markdown",
   "id": "c3d35b54-4eee-4d25-bc27-ab0bc34fe931",
   "metadata": {},
   "source": [
    "## Panda's gebruiken vanaf pydal resultaat"
   ]
  },
  {
   "cell_type": "code",
   "execution_count": 8,
   "id": "47447c20-5c9c-4663-a591-1a8a04d015d4",
   "metadata": {},
   "outputs": [],
   "source": [
    "import pandas as pd\n",
    "from io import BytesIO\n",
    "#items = pd.read_csv(BytesIO(rows.as_csv().encode('utf-8')))"
   ]
  },
  {
   "cell_type": "markdown",
   "id": "789dcca5-9f46-4c0d-9979-125b17d84c86",
   "metadata": {},
   "source": [
    "## Gebruik van libraries icm jupyterlab "
   ]
  },
  {
   "cell_type": "code",
   "execution_count": 9,
   "id": "63c42737-24ee-49fa-9dde-643d736f6695",
   "metadata": {},
   "outputs": [
    {
     "data": {
      "text/plain": [
       "True"
      ]
     },
     "execution_count": 9,
     "metadata": {},
     "output_type": "execute_result"
    }
   ],
   "source": [
    "import handig\n",
    "handig.zeer_handig"
   ]
  },
  {
   "cell_type": "code",
   "execution_count": 10,
   "id": "567d70a9-e72f-448b-bf47-87228c5496f5",
   "metadata": {},
   "outputs": [],
   "source": [
    "# als de library gewijzigd is en je wil niet de hele kernel herstarten\n",
    "# maar wel de nieuwe library gebruiken, kun je dit doen: \n",
    "from importlib import reload \n",
    "handig = reload(handig)"
   ]
  },
  {
   "cell_type": "markdown",
   "id": "eb6faff9-48f8-475a-861b-fd08f0ce5291",
   "metadata": {},
   "source": [
    "## Tags\n"
   ]
  },
  {
   "cell_type": "code",
   "execution_count": 11,
   "id": "1898deb9-1701-4491-af93-69f029e9105f",
   "metadata": {},
   "outputs": [],
   "source": [
    "Tag = handig.TagFactory(db)\n",
    "\n",
    "# make available as regular variables in the python_environment\n",
    "Tag.create_Tnamed_metatag_variables(locals())\n",
    "\n",
    "# # show these items\n",
    "# for k,v in locals().copy().items():\n",
    "#     if k.startswith('T') and isinstance(v,Tag):\n",
    "#         print(f'{k:>20} : {v.gid}')"
   ]
  },
  {
   "cell_type": "code",
   "execution_count": 12,
   "id": "449e49b0-9c9b-421e-85ee-f9947769f49b",
   "metadata": {},
   "outputs": [],
   "source": [
    "# find all filters :\n",
    "filter_tags = Tag.find_by_meta_tag(TFilter)\n",
    "# dict([(r.name, Tag.find_children(Tag(r))) for r in filter_tags])"
   ]
  },
  {
   "cell_type": "markdown",
   "id": "95a2c620-825d-4f88-8753-733246064cc2",
   "metadata": {},
   "source": [
    "# Zoek fouten in de Tag structuur\n",
    "\n",
    "Een parent property en een child property hoeven niet in sync met elkaar te zijn. Dus door het vergelijken van de parents van elke child, en de children van elke parent is na te gaan waar deze niet langer kloppend zijn.  \n",
    "<font color=\"red\"> **⚠** Fix deze issues </font>"
   ]
  },
  {
   "cell_type": "raw",
   "id": "63751b05-4c10-4bd9-ad0c-ae8683310d3c",
   "metadata": {},
   "source": [
    "handig.find_out_of_sync_parent_child_relationships(Tag)\n",
    "handig.human_readable_list_of_tagged_with(Tag, TFilter)"
   ]
  },
  {
   "cell_type": "code",
   "execution_count": 13,
   "id": "c6ff335a-75b6-437c-b02c-ed1e95f8dcae",
   "metadata": {},
   "outputs": [],
   "source": [
    "def _print(tag, parent, depth):\n",
    "    if tag == parent:\n",
    "        return False\n",
    "    print('   ' * depth, tag.name, handig.names(tag.metatags()))\n",
    "    if tag.name == 'User generated tags':\n",
    "        print('   ' * (depth + 1), ' *** hidden ***')\n",
    "    return tag.name != 'User generated tags'"
   ]
  },
  {
   "cell_type": "raw",
   "id": "a1dfe0e7-fc9e-4fd3-a3c9-e9ad20090b7a",
   "metadata": {},
   "source": [
    "TSystem.walk(_print)\n",
    "Tag('System').walk(_print, direction='children_by_parental_reference')"
   ]
  }
 ],
 "metadata": {
  "kernelspec": {
   "display_name": "Python 3 (ipykernel)",
   "language": "python",
   "name": "python3"
  },
  "language_info": {
   "codemirror_mode": {
    "name": "ipython",
    "version": 3
   },
   "file_extension": ".py",
   "mimetype": "text/x-python",
   "name": "python",
   "nbconvert_exporter": "python",
   "pygments_lexer": "ipython3",
   "version": "3.10.6"
  }
 },
 "nbformat": 4,
 "nbformat_minor": 5
}
