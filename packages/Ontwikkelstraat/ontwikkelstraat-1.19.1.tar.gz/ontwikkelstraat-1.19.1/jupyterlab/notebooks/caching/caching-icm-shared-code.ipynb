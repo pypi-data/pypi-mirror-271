{
 "cells": [
  {
   "cell_type": "code",
   "execution_count": 1,
   "outputs": [],
   "source": [
    "!pip install tabulate > /dev/null\n",
    "!pip install dill > /dev/null\n",
    "from pydal import DAL, Field\n",
    "from attrs import define, field, asdict\n"
   ],
   "metadata": {
    "collapsed": false,
    "pycharm": {
     "name": "#%%\n"
    }
   }
  },
  {
   "cell_type": "code",
   "execution_count": 2,
   "outputs": [
    {
     "data": {
      "text/plain": "<Table item (id, gid, value)>"
     },
     "execution_count": 2,
     "metadata": {},
     "output_type": "execute_result"
    }
   ],
   "source": [
    "\n",
    "import os\n",
    "\n",
    "server = os.getenv('POSTGRES_SERVER', '10.221.142.201')\n",
    "db = DAL(f'postgres://username:password@{server}/db')\n",
    "db.define_table('item',\n",
    "    Field('gid','string'),\n",
    "    Field('value','text')\n",
    ")"
   ],
   "metadata": {
    "collapsed": false,
    "pycharm": {
     "name": "#%%\n"
    }
   }
  },
  {
   "cell_type": "code",
   "execution_count": 150,
   "outputs": [],
   "source": [
    "import importlib\n",
    "import edwh.core.pgcache # force a normal import or nop for a re-import\n",
    "edwh.core.pgcache = importlib.reload(edwh.core.pgcache) # for a reload while loaded  (requires previous import)\n",
    "# just import what we need.\n",
    "from edwh.core.pgcache import define_model, cache_ids_that_depend_on, cache_ids_which_this_id_depends_on, cached, CachedResult, cache_hook_table_with_gid, DillableAttrsClass, debug_cache_dependencies, show_rows\n",
    "show = show_rows"
   ],
   "metadata": {
    "collapsed": false,
    "pycharm": {
     "name": "#%%\n"
    }
   }
  },
  {
   "cell_type": "code",
   "execution_count": 124,
   "outputs": [],
   "source": [
    "define_model(db)\n",
    "db(db.cache).delete()\n",
    "db(db.deps).delete()\n",
    "db.commit()"
   ],
   "metadata": {
    "collapsed": false,
    "pycharm": {
     "name": "#%%\n"
    }
   }
  },
  {
   "cell_type": "markdown",
   "source": [],
   "metadata": {
    "collapsed": false,
    "pycharm": {
     "name": "#%% md\n"
    }
   }
  },
  {
   "cell_type": "code",
   "execution_count": 125,
   "outputs": [],
   "source": [
    "db.rollback()\n",
    "\n",
    "a = db.cache.insert(gid='a',value='aa')\n",
    "b = db.cache.insert(gid='b',value='aabb')\n",
    "db.deps.insert(cache_id=b,depends_on=a)\n",
    "c = db.cache.insert(gid='c',value='aaabbbccc')\n",
    "db.deps.insert(cache_id=c,depends_on=b)\n",
    "d = db.cache.insert(gid='d',value='bbdd')\n",
    "db.deps.insert(cache_id=d,depends_on=b)\n",
    "db.commit()"
   ],
   "metadata": {
    "collapsed": false,
    "pycharm": {
     "name": "#%%\n"
    }
   }
  },
  {
   "cell_type": "code",
   "execution_count": 126,
   "outputs": [
    {
     "name": "stdout",
     "output_type": "stream",
     "text": [
      "---------[ cache ]----------\n",
      "|   id | gid   | value     |\n",
      "|------|-------|-----------|\n",
      "|  179 | a     | aa        |\n",
      "|  180 | b     | aabb      |\n",
      "|  181 | c     | aaabbbccc |\n",
      "|  182 | d     | bbdd      |\n",
      "\n",
      "--------------[ deps ]--------------\n",
      "|   id |   cache_id |   depends_on |\n",
      "|------|------------|--------------|\n",
      "|  244 |        180 |          179 |\n",
      "|  245 |        181 |          180 |\n",
      "|  246 |        182 |          180 |\n",
      "\n"
     ]
    }
   ],
   "source": [
    "\n",
    "show('cache',db(db.cache).select())\n",
    "show('deps',db(db.deps).select())"
   ],
   "metadata": {
    "collapsed": false,
    "pycharm": {
     "name": "#%%\n"
    }
   }
  },
  {
   "cell_type": "code",
   "execution_count": 127,
   "outputs": [
    {
     "name": "stdout",
     "output_type": "stream",
     "text": [
      "[ a.requires ]\n",
      "\n",
      "\n",
      "------[ b.requires ]------\n",
      "|   id | gid   | value   |\n",
      "|------|-------|---------|\n",
      "|  179 | a     | aa      |\n",
      "|  180 | b     | aabb    |\n",
      "\n",
      "-------[ c.requires ]-------\n",
      "|   id | gid   | value     |\n",
      "|------|-------|-----------|\n",
      "|  179 | a     | aa        |\n",
      "|  180 | b     | aabb      |\n",
      "|  181 | c     | aaabbbccc |\n",
      "\n",
      "------[ d.requires ]------\n",
      "|   id | gid   | value   |\n",
      "|------|-------|---------|\n",
      "|  179 | a     | aa      |\n",
      "|  180 | b     | aabb    |\n",
      "|  182 | d     | bbdd    |\n",
      "\n"
     ]
    }
   ],
   "source": [
    "db.rollback()\n",
    "for row in db(db.cache).select():\n",
    "    show(f'{row.gid}.requires',\n",
    "         db(db.cache.id.belongs([r.cache_id for r in cache_ids_which_this_id_depends_on(db, row.id)])).select())"
   ],
   "metadata": {
    "collapsed": false,
    "pycharm": {
     "name": "#%%\n"
    }
   }
  },
  {
   "cell_type": "code",
   "execution_count": 128,
   "outputs": [
    {
     "name": "stdout",
     "output_type": "stream",
     "text": [
      "-----[ a.required_for ]-----\n",
      "|   id | gid   | value     |\n",
      "|------|-------|-----------|\n",
      "|  179 | a     | aa        |\n",
      "|  180 | b     | aabb      |\n",
      "|  181 | c     | aaabbbccc |\n",
      "|  182 | d     | bbdd      |\n",
      "\n",
      "-----[ b.required_for ]-----\n",
      "|   id | gid   | value     |\n",
      "|------|-------|-----------|\n",
      "|  180 | b     | aabb      |\n",
      "|  181 | c     | aaabbbccc |\n",
      "|  182 | d     | bbdd      |\n",
      "\n",
      "[ c.required_for ]\n",
      "\n",
      "\n",
      "[ d.required_for ]\n",
      "\n",
      "\n"
     ]
    }
   ],
   "source": [
    "db.rollback()\n",
    "for row in db(db.cache).select():\n",
    "    show(f'{row.gid}.required_for',\n",
    "         db(db.cache.id.belongs([r.cache_id for r in cache_ids_that_depend_on(db, row.id)])).select())"
   ],
   "metadata": {
    "collapsed": false,
    "pycharm": {
     "name": "#%%\n"
    }
   }
  },
  {
   "cell_type": "code",
   "execution_count": 129,
   "outputs": [],
   "source": [
    "@cached(db, key='times2-{0}')\n",
    "def times2value(gid):\n",
    "    value = db.cache(gid=gid).value\n",
    "    result = value * 2\n",
    "    return CachedResult(result, (gid,))\n",
    "\n",
    "assert times2value('a').value == 'aaaa'\n",
    "assert times2value('a').value == 'aaaa'\n",
    "assert times2value('d').value == 'bbddbbdd'"
   ],
   "metadata": {
    "collapsed": false,
    "pycharm": {
     "name": "#%%\n"
    }
   }
  },
  {
   "cell_type": "code",
   "execution_count": 130,
   "outputs": [
    {
     "name": "stdout",
     "output_type": "stream",
     "text": [
      "-----------[ cache ]-----------\n",
      "|   id | gid      | value     |\n",
      "|------|----------|-----------|\n",
      "|  179 | a        | aa        |\n",
      "|  180 | b        | aabb      |\n",
      "|  181 | c        | aaabbbccc |\n",
      "|  182 | d        | bbdd      |\n",
      "|  183 | times2-a | aaaa      |\n",
      "|  184 | times2-d | bbddbbdd  |\n",
      "\n",
      "--------------[ deps ]--------------\n",
      "|   id |   cache_id |   depends_on |\n",
      "|------|------------|--------------|\n",
      "|  244 |        180 |          179 |\n",
      "|  245 |        181 |          180 |\n",
      "|  246 |        182 |          180 |\n",
      "|  247 |        183 |          179 |\n",
      "|  248 |        184 |          182 |\n",
      "\n"
     ]
    }
   ],
   "source": [
    "show('cache',db(db.cache).select())\n",
    "show('deps',db(db.deps).select())"
   ],
   "metadata": {
    "collapsed": false,
    "pycharm": {
     "name": "#%%\n"
    }
   }
  },
  {
   "cell_type": "code",
   "execution_count": 131,
   "outputs": [],
   "source": [
    "db.commit()"
   ],
   "metadata": {
    "collapsed": false,
    "pycharm": {
     "name": "#%%\n"
    }
   }
  },
  {
   "cell_type": "markdown",
   "source": [
    "Onderstaande werkte wel in single-threaded modus,\n",
    "maar met verschillende threads loopt alles in de soep blijkbaar.\n",
    "https://realpython.com/intro-to-python-threading/\n",
    "https://github.com/gonzalo123/pglistener/blob/main/pg_listener/pg_listener.py\n"
   ],
   "metadata": {
    "collapsed": false,
    "pycharm": {
     "name": "#%% md\n"
    }
   }
  },
  {
   "cell_type": "code",
   "execution_count": 132,
   "outputs": [],
   "source": [
    "\n",
    "# import select\n",
    "# import threading\n",
    "# from psycopg2.extensions import ISOLATION_LEVEL_AUTOCOMMIT\n",
    "# messagebus = []\n",
    "# def notified(notification):\n",
    "#     messagebus.append(notification)\n",
    "#     print(f'received on {notification.channel:>20}: {notification.payload!r}')\n",
    "#\n",
    "# def listen(db_uri, channel):\n",
    "#     print('listen started. ')\n",
    "#     db = DAL(db_uri)\n",
    "#     conn = db._adapter.connection\n",
    "#     conn.set_isolation_level(ISOLATION_LEVEL_AUTOCOMMIT)\n",
    "#     db.executesql(f'listen {channel};')\n",
    "#     # db.executesql('select pg_listening_channels();')\n",
    "#     while True:\n",
    "#         print('selecting')\n",
    "#         if select.select([conn], [], [], 5)[0]:\n",
    "#             db.commit()\n",
    "#             print('polling', messagebus )\n",
    "#             conn.poll()\n",
    "#             while conn.notifies:\n",
    "#                 notify = conn.notifies.pop()\n",
    "#                 print(threading.Thread(target=notified, args=(notify,)))\n",
    "#\n",
    "# print(threading.active_count())\n",
    "# threading.Thread(target=listen, args=(db._uri, 'bla'))\n",
    "# import time\n",
    "# time.sleep(0.600)\n",
    "# print(threading.active_count())\n",
    "# listen(db._uri, 'bla')"
   ],
   "metadata": {
    "collapsed": false,
    "pycharm": {
     "name": "#%%\n"
    }
   }
  },
  {
   "cell_type": "code",
   "execution_count": 133,
   "outputs": [],
   "source": [
    "# print(db.executesql(\"select pg_notify('bla','test');\"))\n",
    "# db.commit()\n",
    "# print(messagebus)"
   ],
   "metadata": {
    "collapsed": false,
    "pycharm": {
     "name": "#%%\n"
    }
   }
  },
  {
   "cell_type": "code",
   "execution_count": 134,
   "outputs": [
    {
     "data": {
      "text/plain": "<Table item (id, gid, title, body)>"
     },
     "execution_count": 134,
     "metadata": {},
     "output_type": "execute_result"
    }
   ],
   "source": [
    "import uuid\n",
    "db.define_table('item',\n",
    "    Field('gid','string',default=uuid.uuid4),\n",
    "    Field('title','string'),\n",
    "    Field('body','string'),\n",
    "    redefine=True\n",
    ")"
   ],
   "metadata": {
    "collapsed": false,
    "pycharm": {
     "name": "#%%\n"
    }
   }
  },
  {
   "cell_type": "code",
   "execution_count": 135,
   "outputs": [],
   "source": [
    "cache_hook_table_with_gid(db, 'item')"
   ],
   "metadata": {
    "collapsed": false,
    "pycharm": {
     "name": "#%%\n"
    }
   }
  },
  {
   "cell_type": "code",
   "execution_count": 136,
   "outputs": [],
   "source": [
    "db(db.item).delete()\n",
    "db(db.cache).delete()\n",
    "db(db.deps).delete()\n",
    "for x in range(5):\n",
    "    db.item.insert(gid=f'g{x}', title=f'title {x}', body=' '.join([str(_) for _ in [x,x,x,x,x]]))\n",
    "db.commit()"
   ],
   "metadata": {
    "collapsed": false,
    "pycharm": {
     "name": "#%%\n"
    }
   }
  },
  {
   "cell_type": "code",
   "execution_count": 137,
   "outputs": [
    {
     "name": "stdout",
     "output_type": "stream",
     "text": [
      "---------------[ item ]---------------\n",
      "|   id | gid   | title   | body      |\n",
      "|------|-------|---------|-----------|\n",
      "|   31 | g0    | title 0 | 0 0 0 0 0 |\n",
      "|   32 | g1    | title 1 | 1 1 1 1 1 |\n",
      "|   33 | g2    | title 2 | 2 2 2 2 2 |\n",
      "|   34 | g3    | title 3 | 3 3 3 3 3 |\n",
      "|   35 | g4    | title 4 | 4 4 4 4 4 |\n",
      "\n",
      "[ cache ]\n",
      "\n",
      "\n",
      "[ deps ]\n",
      "\n",
      "\n"
     ]
    }
   ],
   "source": [
    "show('item',db(db.item).select())\n",
    "show('cache',db(db.cache).select())\n",
    "show('deps',db(db.deps).select())"
   ],
   "metadata": {
    "collapsed": false,
    "pycharm": {
     "name": "#%%\n"
    }
   }
  },
  {
   "cell_type": "code",
   "execution_count": 138,
   "outputs": [
    {
     "name": "stdout",
     "output_type": "stream",
     "text": [
      "CachedResult(value='title 0: 0 0 0...', required_gids=['teaser-g0'])\n",
      "CachedResult(value='title 2: 2 2 2...', required_gids=['teaser-g2'])\n",
      "CachedResult(value='\\n    [ 31 ]\\n    [ title 0 ]\\n    [ 0 0 0 0 0 ]\\n    ', required_gids=['tile-g0'])\n",
      "CachedResult(value='\\n    [ 34 ]\\n    [ title 3 ]\\n    [ 3 3 3 3 3 ]\\n    ', required_gids=['tile-g3'])\n",
      "CachedResult(value='\\n    [ 35 ]\\n    [ title 4 ]\\n    [ 4 4 4 4 4 ]\\n    ', required_gids=['tile-g4'])\n",
      "Page for 0 to 2\n",
      "Page for 1 to 3\n",
      "Page for 0 to 4\n"
     ]
    }
   ],
   "source": [
    "\n",
    "\n",
    "\n",
    "@define\n",
    "class Item(DillableAttrsClass):\n",
    "    id:int\n",
    "    gid:str\n",
    "    title:str\n",
    "    body:str\n",
    "\n",
    "@cached(db,\n",
    "        key='{}',\n",
    "        todb=Item.todb,\n",
    "        fromdb=Item.fromdb\n",
    "        )\n",
    "def item(gid):\n",
    "    value = Item(**db.item(gid=gid).as_dict())\n",
    "    return CachedResult(value=value, required_gids=(gid,))\n",
    "\n",
    "\n",
    "@cached(db,\n",
    "        key=lambda gid:f'teaser-{gid}',\n",
    "        todb=lambda teaser:teaser,\n",
    "        fromdb=lambda teaser:teaser\n",
    ")\n",
    "def item_teaser(gid):\n",
    "    record = item_teaser.track(item(gid))\n",
    "    short = record.body[:5]+'...'\n",
    "    result = f'{record.title}: {short}'\n",
    "    return result\n",
    "\n",
    "print(item_teaser('g0'))\n",
    "print(item_teaser('g2'))\n",
    "\n",
    "@cached(db, key=lambda gid:f'tile-{gid}')\n",
    "def item_tile(gid):\n",
    "    record=db.item(gid=gid)\n",
    "    teaser=item_tile.track(item_teaser(gid=gid))\n",
    "    return CachedResult(f'''\n",
    "    [ {record.id} ]\n",
    "    [ {record.title} ]\n",
    "    [ {record.body} ]\n",
    "    ''', (gid,))\n",
    "print(item_tile('g0'))\n",
    "print(item_tile('g3'))\n",
    "print(item_tile('g4'))\n",
    "\n",
    "@cached(db, key='page-{}-{}')\n",
    "def page(start, stop):\n",
    "    required_gids =[]\n",
    "    for x in range(start, stop):\n",
    "        cached_result = item_tile(f'g{x}')\n",
    "        required_gids.extend(cached_result.required_gids)\n",
    "    return CachedResult(f'Page for {start} to {stop}', required_gids)\n",
    "print(page(0,2).value)\n",
    "print(page(1,3).value)\n",
    "print(page(0,4).value)\n",
    "\n"
   ],
   "metadata": {
    "collapsed": false,
    "pycharm": {
     "name": "#%%\n"
    }
   }
  },
  {
   "cell_type": "code",
   "execution_count": 139,
   "outputs": [
    {
     "name": "stdout",
     "output_type": "stream",
     "text": [
      "should be stable\n",
      "\n",
      "updating\n",
      "\n",
      "should recalculate\n",
      "\n",
      "should be stable\n"
     ]
    },
    {
     "data": {
      "text/plain": "CachedResult(value='Page for 0 to 4', required_gids=('page-0-4',))"
     },
     "execution_count": 139,
     "metadata": {},
     "output_type": "execute_result"
    }
   ],
   "source": [
    "print('should be stable')\n",
    "page(0,2)\n",
    "page(1,3)\n",
    "page(0,4)\n",
    "print()\n",
    "print('updating')\n",
    "import random\n",
    "db.item(gid='g0').update_record(title=f'testing2 {random.randint(1,100)}')\n",
    "db.commit()\n",
    "print()\n",
    "print('should recalculate')\n",
    "page(0,2) # Tile-G0 (g0) ,Tile-G1\n",
    "page(1,3) # g1, g2,\n",
    "page(0,4) # tile-g0, g1, g2, g3\n",
    "print()\n",
    "print('should be stable')\n",
    "page(0,2)\n",
    "page(1,3)\n",
    "page(0,4)\n"
   ],
   "metadata": {
    "collapsed": false,
    "pycharm": {
     "name": "#%%\n"
    }
   }
  },
  {
   "cell_type": "code",
   "execution_count": 158,
   "outputs": [
    {
     "name": "stdout",
     "output_type": "stream",
     "text": [
      "----------------[ item ]----------------\n",
      "|   id | gid   | title     | body      |\n",
      "|------|-------|-----------|-----------|\n",
      "|   32 | g1    | title 1   | 1 1 1 1 1 |\n",
      "|   33 | g2    | title 2   | 2 2 2 2 2 |\n",
      "|   34 | g3    | title 3   | 3 3 3 3 3 |\n",
      "|   35 | g4    | title 4   | 4 4 4 4 4 |\n",
      "|   31 | g0    | prut G011 | 0 0 0 0 0 |\n",
      "\n",
      "---------------[ cache ]----------------\n",
      "|   id | gid       | value             |\n",
      "|------|-----------|-------------------|\n",
      "|  213 | g0        |                   |\n",
      "|  187 | g2        |                   |\n",
      "|  188 | teaser-g2 | title 2: 2 2 2... |\n",
      "|  190 | g3        |                   |\n",
      "|  191 | teaser-g3 | title 3: 3 3 3... |\n",
      "|  192 | tile-g3   | [ 34 ]\n",
      "    [ title 3 ]\n",
      "    [ 3 3 3 3 3 ]                   |\n",
      "|  193 | g4        |                   |\n",
      "|  194 | teaser-g4 | title 4: 4 4 4... |\n",
      "|  195 | tile-g4   | [ 35 ]\n",
      "    [ title 4 ]\n",
      "    [ 4 4 4 4 4 ]                   |\n",
      "|  196 | g1        |                   |\n",
      "|  197 | teaser-g1 | title 1: 1 1 1... |\n",
      "|  198 | tile-g1   | [ 32 ]\n",
      "    [ title 1 ]\n",
      "    [ 1 1 1 1 1 ]                   |\n",
      "|  200 | tile-g2   | [ 33 ]\n",
      "    [ title 2 ]\n",
      "    [ 2 2 2 2 2 ]                   |\n",
      "|  201 | page-1-3  | Page for 1 to 3   |\n",
      "\n",
      "--------------[ deps ]--------------\n",
      "|   id |   cache_id |   depends_on |\n",
      "|------|------------|--------------|\n",
      "|  292 |        213 |          213 |\n",
      "|  251 |        187 |          187 |\n",
      "|  252 |        188 |          187 |\n",
      "|  255 |        190 |          190 |\n",
      "|  256 |        191 |          190 |\n",
      "|  257 |        192 |          190 |\n",
      "|  258 |        192 |          191 |\n",
      "|  259 |        193 |          193 |\n",
      "|  260 |        194 |          193 |\n",
      "|  261 |        195 |          193 |\n",
      "|  262 |        195 |          194 |\n",
      "|  263 |        196 |          196 |\n",
      "|  264 |        197 |          196 |\n",
      "|  265 |        198 |          196 |\n",
      "|  266 |        198 |          197 |\n",
      "|  269 |        200 |          187 |\n",
      "|  270 |        200 |          188 |\n",
      "|  271 |        201 |          198 |\n",
      "|  272 |        201 |          200 |\n",
      "\n",
      "cache_id    depends_on\n",
      "----------  ------------\n",
      "g0          g0\n",
      "g2          g2\n",
      "teaser-g2   g2\n",
      "g3          g3\n",
      "teaser-g3   g3\n",
      "tile-g3     g3\n",
      "tile-g3     teaser-g3\n",
      "g4          g4\n",
      "teaser-g4   g4\n",
      "tile-g4     g4\n",
      "tile-g4     teaser-g4\n",
      "g1          g1\n",
      "teaser-g1   g1\n",
      "tile-g1     g1\n",
      "tile-g1     teaser-g1\n",
      "tile-g2     g2\n",
      "tile-g2     teaser-g2\n",
      "page-1-3    tile-g1\n",
      "page-1-3    tile-g2\n"
     ]
    }
   ],
   "source": [
    "show('item',db(db.item).select())\n",
    "show('cache',db(db.cache).select())\n",
    "show('deps',db(db.deps).select())\n",
    "print(debug_cache_dependencies(db))"
   ],
   "metadata": {
    "collapsed": false,
    "pycharm": {
     "name": "#%%\n"
    }
   }
  },
  {
   "cell_type": "code",
   "execution_count": 141,
   "outputs": [
    {
     "name": "stdout",
     "output_type": "stream",
     "text": [
      "('UPDATE \"item\" SET \"title\"=\\'prut G011\\' WHERE (\"item\".\"id\" = 31);', 0.0011165142059326172)\n"
     ]
    }
   ],
   "source": [
    "db.item(gid='g0').update_record(title='prut G011')\n",
    "print(db._lastsql)\n",
    "db.commit()"
   ],
   "metadata": {
    "collapsed": false,
    "pycharm": {
     "name": "#%%\n"
    }
   }
  },
  {
   "cell_type": "code",
   "execution_count": 160,
   "outputs": [
    {
     "name": "stdout",
     "output_type": "stream",
     "text": [
      "----------------[ item ]----------------\n",
      "|   id | gid   | title     | body      |\n",
      "|------|-------|-----------|-----------|\n",
      "|   32 | g1    | title 1   | 1 1 1 1 1 |\n",
      "|   33 | g2    | title 2   | 2 2 2 2 2 |\n",
      "|   34 | g3    | title 3   | 3 3 3 3 3 |\n",
      "|   35 | g4    | title 4   | 4 4 4 4 4 |\n",
      "|   31 | g0    | prut G011 | 0 0 0 0 0 |\n",
      "\n",
      "---------------[ cache ]----------------\n",
      "|   id | gid       | value             |\n",
      "|------|-----------|-------------------|\n",
      "|  214 | g0        |                   |\n",
      "|  187 | g2        |                   |\n",
      "|  188 | teaser-g2 | title 2: 2 2 2... |\n",
      "|  190 | g3        |                   |\n",
      "|  191 | teaser-g3 | title 3: 3 3 3... |\n",
      "|  192 | tile-g3   | [ 34 ]\n",
      "    [ title 3 ]\n",
      "    [ 3 3 3 3 3 ]                   |\n",
      "|  193 | g4        |                   |\n",
      "|  194 | teaser-g4 | title 4: 4 4 4... |\n",
      "|  195 | tile-g4   | [ 35 ]\n",
      "    [ title 4 ]\n",
      "    [ 4 4 4 4 4 ]                   |\n",
      "|  196 | g1        |                   |\n",
      "|  197 | teaser-g1 | title 1: 1 1 1... |\n",
      "|  198 | tile-g1   | [ 32 ]\n",
      "    [ title 1 ]\n",
      "    [ 1 1 1 1 1 ]                   |\n",
      "|  200 | tile-g2   | [ 33 ]\n",
      "    [ title 2 ]\n",
      "    [ 2 2 2 2 2 ]                   |\n",
      "|  201 | page-1-3  | Page for 1 to 3   |\n",
      "\n",
      "--------------[ deps ]--------------\n",
      "|   id |   cache_id |   depends_on |\n",
      "|------|------------|--------------|\n",
      "|  293 |        214 |          214 |\n",
      "|  251 |        187 |          187 |\n",
      "|  252 |        188 |          187 |\n",
      "|  255 |        190 |          190 |\n",
      "|  256 |        191 |          190 |\n",
      "|  257 |        192 |          190 |\n",
      "|  258 |        192 |          191 |\n",
      "|  259 |        193 |          193 |\n",
      "|  260 |        194 |          193 |\n",
      "|  261 |        195 |          193 |\n",
      "|  262 |        195 |          194 |\n",
      "|  263 |        196 |          196 |\n",
      "|  264 |        197 |          196 |\n",
      "|  265 |        198 |          196 |\n",
      "|  266 |        198 |          197 |\n",
      "|  269 |        200 |          187 |\n",
      "|  270 |        200 |          188 |\n",
      "|  271 |        201 |          198 |\n",
      "|  272 |        201 |          200 |\n",
      "\n"
     ]
    }
   ],
   "source": [
    "show('item',db(db.item).select())\n",
    "show('cache',db(db.cache).select())\n",
    "show('deps',db(db.deps).select())"
   ],
   "metadata": {
    "collapsed": false,
    "pycharm": {
     "name": "#%%\n"
    }
   }
  },
  {
   "cell_type": "code",
   "execution_count": 152,
   "outputs": [
    {
     "name": "stdout",
     "output_type": "stream",
     "text": [
      "[ derivatives of 187 ]\n",
      "|   0 |\n",
      "|-----|\n",
      "| 188 |\n",
      "| 187 |\n",
      "| 201 |\n",
      "| 200 |\n",
      "\n"
     ]
    }
   ],
   "source": [
    "db.commit()\n",
    "cache_id = db(db.cache).select(db.cache.id, limitby=(0,1)).first().id\n",
    "derivatives = db.executesql('select * from derivatives(%s)',placeholders=(cache_id,))\n",
    "show_rows(f'derivatives of {cache_id}',derivatives)"
   ],
   "metadata": {
    "collapsed": false,
    "pycharm": {
     "name": "#%%\n"
    }
   }
  },
  {
   "cell_type": "code",
   "execution_count": 147,
   "outputs": [
    {
     "data": {
      "text/plain": "[(188,), (187,), (201,), (200,)]"
     },
     "execution_count": 147,
     "metadata": {},
     "output_type": "execute_result"
    }
   ],
   "source": [
    "derivatives"
   ],
   "metadata": {
    "collapsed": false,
    "pycharm": {
     "name": "#%%\n"
    }
   }
  },
  {
   "cell_type": "code",
   "execution_count": 161,
   "outputs": [
    {
     "name": "stdout",
     "output_type": "stream",
     "text": [
      "('UPDATE \"item\" SET \"title\"=\\'prut G011\\' WHERE (\"item\".\"id\" = 31);', 0.0010285377502441406)\n",
      "('\\n                    insert into deps (cache_id, depends_on)\\n                SELECT 215, \"cache\".\"id\" FROM \"cache\" WHERE (\"cache\".\"gid\" IN (\\'g0\\'));', 0.00045800209045410156)\n"
     ]
    },
    {
     "data": {
      "text/plain": "Item(id=31, gid='g0', title='prut G011', body='0 0 0 0 0')"
     },
     "execution_count": 161,
     "metadata": {},
     "output_type": "execute_result"
    }
   ],
   "source": [
    "item('g0').value\n",
    "db.item(gid='g0').update_record(title='prut G011')\n",
    "print(db._lastsql)\n",
    "item('g0').value\n",
    "print(db._lastsql)\n",
    "\n",
    "item('g0').value"
   ],
   "metadata": {
    "collapsed": false,
    "pycharm": {
     "name": "#%%\n"
    }
   }
  },
  {
   "cell_type": "code",
   "execution_count": 162,
   "outputs": [
    {
     "data": {
      "text/plain": "['Field',\n 'Row',\n 'Rows',\n 'Table',\n '_LAZY_TABLES',\n '__bool__',\n '__call__',\n '__class__',\n '__contains__',\n '__delattr__',\n '__delitem__',\n '__dict__',\n '__dir__',\n '__doc__',\n '__eq__',\n '__format__',\n '__ge__',\n '__getattr__',\n '__getattribute__',\n '__getitem__',\n '__gt__',\n '__hash__',\n '__init__',\n '__init_subclass__',\n '__iter__',\n '__le__',\n '__lt__',\n '__module__',\n '__ne__',\n '__new__',\n '__reduce__',\n '__reduce_ex__',\n '__repr__',\n '__setattr__',\n '__setitem__',\n '__sizeof__',\n '__str__',\n '__subclasshook__',\n '__weakref__',\n '_adapter',\n '_adapter_args',\n '_aliased_tables',\n '_attempts',\n '_bigint_id',\n '_check_reserved',\n '_common_fields',\n '_db_codec',\n '_db_uid',\n '_dbname',\n '_debug',\n '_decode_credentials',\n '_driver_args',\n '_drivers_available',\n '_fake_migrate',\n '_fake_migrate_all',\n '_folder',\n '_ignore_field_case',\n '_lastsql',\n '_lazy_tables',\n '_migrate',\n '_migrate_enabled',\n '_migrated',\n '_pending_references',\n '_pool_size',\n '_referee_name',\n '_remove_references_to',\n '_request_tenant',\n '_tables',\n '_timings',\n '_uri',\n '_uri_hash',\n 'as_dict',\n 'as_json',\n 'as_xml',\n 'as_yaml',\n 'cache',\n 'can_join',\n 'check_reserved_keyword',\n 'clear',\n 'close',\n 'commit',\n 'copy',\n 'define_table',\n 'deps',\n 'distributed_transaction_begin',\n 'distributed_transaction_commit',\n 'executesql',\n 'execution_handlers',\n 'export_to_csv_file',\n 'get',\n 'get_connection_from_pool_or_new',\n 'get_instances',\n 'has_key',\n 'has_representer',\n 'import_from_csv_file',\n 'import_table_definitions',\n 'item',\n 'items',\n 'iteritems',\n 'iterkeys',\n 'itervalues',\n 'keys',\n 'lazy_define_table',\n 'logger',\n 'parse_as_rest',\n 'pop',\n 'record_operators',\n 'recycle_connection_in_pool_or_close',\n 'represent',\n 'representers',\n 'rollback',\n 'serializers',\n 'set_folder',\n 'single_transaction',\n 'smart_query',\n 'tables',\n 'update',\n 'uuid',\n 'validators',\n 'validators_method',\n 'values',\n 'where']"
     },
     "execution_count": 162,
     "metadata": {},
     "output_type": "execute_result"
    }
   ],
   "source": [
    "dir(db)"
   ],
   "metadata": {
    "collapsed": false,
    "pycharm": {
     "name": "#%%\n"
    }
   }
  },
  {
   "cell_type": "code",
   "execution_count": 163,
   "outputs": [
    {
     "data": {
      "text/plain": "[('SELECT \"cache\".\"id\", \"cache\".\"gid\", \"cache\".\"value\" FROM \"cache\" WHERE (\"cache\".\"gid\" = \\'page-0-4\\') LIMIT 1 OFFSET 0;',\n  0.00031495094299316406),\n ('SELECT \"item\".\"id\", \"item\".\"gid\", \"item\".\"title\", \"item\".\"body\" FROM \"item\" WHERE (\"item\".\"id\" IS NOT NULL);',\n  0.00066375732421875),\n ('SELECT \"cache\".\"id\", \"cache\".\"gid\", \"cache\".\"value\" FROM \"cache\" WHERE (\"cache\".\"id\" IS NOT NULL);',\n  0.00029540061950683594),\n ('SELECT \"deps\".\"id\", \"deps\".\"cache_id\", \"deps\".\"depends_on\" FROM \"deps\" WHERE (\"deps\".\"id\" IS NOT NULL);',\n  0.0004029273986816406),\n ('\\n        select cache.gid, dep.gid \\n          from deps \\n            inner join cache on cache.id = deps.cache_id \\n            inner join cache dep on dep.id = deps.depends_on\\n        ',\n  0.0006132125854492188),\n ('SELECT \"item\".\"id\", \"item\".\"gid\", \"item\".\"title\", \"item\".\"body\" FROM \"item\" WHERE (\"item\".\"gid\" = \\'g0\\') LIMIT 1 OFFSET 0;',\n  0.0007612705230712891),\n ('UPDATE \"item\" SET \"title\"=\\'prut G011\\' WHERE (\"item\".\"id\" = 31);',\n  0.0011165142059326172),\n ('SELECT \"item\".\"id\", \"item\".\"gid\", \"item\".\"title\", \"item\".\"body\" FROM \"item\" WHERE (\"item\".\"id\" IS NOT NULL);',\n  0.0008895397186279297),\n ('SELECT \"cache\".\"id\", \"cache\".\"gid\", \"cache\".\"value\" FROM \"cache\" WHERE (\"cache\".\"id\" IS NOT NULL);',\n  0.0015025138854980469),\n ('SELECT \"deps\".\"id\", \"deps\".\"cache_id\", \"deps\".\"depends_on\" FROM \"deps\" WHERE (\"deps\".\"id\" IS NOT NULL);',\n  0.0002465248107910156),\n ('SELECT \"cache\".\"id\" FROM \"cache\" WHERE (\"cache\".\"id\" IS NOT NULL) ORDER BY \"cache\".\"id\" LIMIT 1 OFFSET 0;',\n  0.0006339550018310547),\n ('select * from derivatives(%s)', 0.0004184246063232422),\n ('SELECT \"cache\".\"id\", \"cache\".\"gid\", \"cache\".\"value\" FROM \"cache\" WHERE (\"cache\".\"gid\" = \\'g0\\') LIMIT 1 OFFSET 0;',\n  0.0005893707275390625),\n ('SELECT \"item\".\"id\", \"item\".\"gid\", \"item\".\"title\", \"item\".\"body\" FROM \"item\" WHERE (\"item\".\"gid\" = \\'g0\\') LIMIT 1 OFFSET 0;',\n  0.00016689300537109375),\n ('INSERT INTO \"cache\"(\"gid\",\"value\") VALUES (\\'g0\\',\\'gASVPgAAAAAAAAB9lCiMAmlklEsfjANnaWSUjAJnMJSMBXRpdGxllIwJcHJ1dCBHMDExlIwEYm9keZSMCTAgMCAwIDAgMJR1Lg==\\')RETURNING \"id\";',\n  0.000194549560546875),\n ('SELECT \"cache\".\"gid\" FROM \"cache\" WHERE (\"cache\".\"gid\" IN (\\'g0\\'));',\n  0.00013399124145507812),\n ('\\n                    insert into deps (cache_id, depends_on)\\n                SELECT 208, \"cache\".\"id\" FROM \"cache\" WHERE (\"cache\".\"gid\" IN (\\'g0\\'));',\n  0.00019741058349609375),\n ('SELECT \"item\".\"id\", \"item\".\"gid\", \"item\".\"title\", \"item\".\"body\" FROM \"item\" WHERE (\"item\".\"gid\" = \\'g0\\') LIMIT 1 OFFSET 0;',\n  0.000186920166015625),\n ('UPDATE \"item\" SET \"title\"=\\'prut G011\\' WHERE (\"item\".\"id\" = 31);',\n  0.00040793418884277344),\n ('SELECT \"cache\".\"id\", \"cache\".\"gid\", \"cache\".\"value\" FROM \"cache\" WHERE (\"cache\".\"gid\" = \\'g0\\') LIMIT 1 OFFSET 0;',\n  0.00016117095947265625),\n ('SELECT \"item\".\"id\", \"item\".\"gid\", \"item\".\"title\", \"item\".\"body\" FROM \"item\" WHERE (\"item\".\"gid\" = \\'g0\\') LIMIT 1 OFFSET 0;',\n  0.0002422332763671875),\n ('INSERT INTO \"cache\"(\"gid\",\"value\") VALUES (\\'g0\\',\\'gASVPgAAAAAAAAB9lCiMAmlklEsfjANnaWSUjAJnMJSMBXRpdGxllIwJcHJ1dCBHMDExlIwEYm9keZSMCTAgMCAwIDAgMJR1Lg==\\')RETURNING \"id\";',\n  0.0001697540283203125),\n ('SELECT \"cache\".\"gid\" FROM \"cache\" WHERE (\"cache\".\"gid\" IN (\\'g0\\'));',\n  0.00013709068298339844),\n ('\\n                    insert into deps (cache_id, depends_on)\\n                SELECT 209, \"cache\".\"id\" FROM \"cache\" WHERE (\"cache\".\"gid\" IN (\\'g0\\'));',\n  0.00017547607421875),\n ('SELECT \"cache\".\"id\", \"cache\".\"gid\", \"cache\".\"value\" FROM \"cache\" WHERE (\"cache\".\"gid\" = \\'g0\\') LIMIT 1 OFFSET 0;',\n  0.00013589859008789062),\n ('SELECT \"cache\".\"id\" FROM \"cache\" WHERE (\"cache\".\"id\" IS NOT NULL) ORDER BY \"cache\".\"id\" LIMIT 1 OFFSET 0;',\n  0.0007336139678955078),\n ('select * from derivatives(%s)', 0.0005295276641845703),\n ('SELECT \"cache\".\"id\" FROM \"cache\" WHERE (\"cache\".\"id\" IS NOT NULL) ORDER BY \"cache\".\"id\" LIMIT 1 OFFSET 0;',\n  0.00086212158203125),\n ('select * from derivatives(%s)', 0.0007059574127197266),\n ('SELECT \"cache\".\"id\" FROM \"cache\" WHERE (\"cache\".\"id\" IS NOT NULL) ORDER BY \"cache\".\"id\" LIMIT 1 OFFSET 0;',\n  0.0005719661712646484),\n ('select * from derivatives(%s)', 0.0005483627319335938),\n ('SELECT \"cache\".\"id\" FROM \"cache\" WHERE (\"cache\".\"id\" IS NOT NULL) ORDER BY \"cache\".\"id\" LIMIT 1 OFFSET 0;',\n  0.0005459785461425781),\n ('select * from derivatives(%s)', 0.0005626678466796875),\n ('SELECT \"cache\".\"id\" FROM \"cache\" WHERE (\"cache\".\"id\" IS NOT NULL) ORDER BY \"cache\".\"id\" LIMIT 1 OFFSET 0;',\n  0.0006241798400878906),\n ('select * from derivatives(%s)', 0.0005829334259033203),\n ('SELECT \"cache\".\"id\", \"cache\".\"gid\", \"cache\".\"value\" FROM \"cache\" WHERE (\"cache\".\"gid\" = \\'g0\\') LIMIT 1 OFFSET 0;',\n  0.0007770061492919922),\n ('SELECT \"item\".\"id\", \"item\".\"gid\", \"item\".\"title\", \"item\".\"body\" FROM \"item\" WHERE (\"item\".\"gid\" = \\'g0\\') LIMIT 1 OFFSET 0;',\n  0.0003261566162109375),\n ('UPDATE \"item\" SET \"title\"=\\'prut G011\\' WHERE (\"item\".\"id\" = 31);',\n  0.0011677742004394531),\n ('SELECT \"cache\".\"id\", \"cache\".\"gid\", \"cache\".\"value\" FROM \"cache\" WHERE (\"cache\".\"gid\" = \\'g0\\') LIMIT 1 OFFSET 0;',\n  0.0003333091735839844),\n ('SELECT \"item\".\"id\", \"item\".\"gid\", \"item\".\"title\", \"item\".\"body\" FROM \"item\" WHERE (\"item\".\"gid\" = \\'g0\\') LIMIT 1 OFFSET 0;',\n  0.00024175643920898438),\n ('INSERT INTO \"cache\"(\"gid\",\"value\") VALUES (\\'g0\\',\\'gASVPgAAAAAAAAB9lCiMAmlklEsfjANnaWSUjAJnMJSMBXRpdGxllIwJcHJ1dCBHMDExlIwEYm9keZSMCTAgMCAwIDAgMJR1Lg==\\')RETURNING \"id\";',\n  0.00032973289489746094),\n ('SELECT \"cache\".\"gid\" FROM \"cache\" WHERE (\"cache\".\"gid\" IN (\\'g0\\'));',\n  0.0002505779266357422),\n ('\\n                    insert into deps (cache_id, depends_on)\\n                SELECT 210, \"cache\".\"id\" FROM \"cache\" WHERE (\"cache\".\"gid\" IN (\\'g0\\'));',\n  0.0005145072937011719),\n ('SELECT \"cache\".\"id\", \"cache\".\"gid\", \"cache\".\"value\" FROM \"cache\" WHERE (\"cache\".\"gid\" = \\'g0\\') LIMIT 1 OFFSET 0;',\n  0.0002467632293701172),\n ('SELECT \"cache\".\"id\", \"cache\".\"gid\", \"cache\".\"value\" FROM \"cache\" WHERE (\"cache\".\"gid\" = \\'g0\\') LIMIT 1 OFFSET 0;',\n  0.0007870197296142578),\n ('SELECT \"item\".\"id\", \"item\".\"gid\", \"item\".\"title\", \"item\".\"body\" FROM \"item\" WHERE (\"item\".\"gid\" = \\'g0\\') LIMIT 1 OFFSET 0;',\n  0.00022339820861816406),\n ('UPDATE \"item\" SET \"title\"=\\'prut G011\\' WHERE (\"item\".\"id\" = 31);',\n  0.0009469985961914062),\n ('SELECT \"cache\".\"id\", \"cache\".\"gid\", \"cache\".\"value\" FROM \"cache\" WHERE (\"cache\".\"gid\" = \\'g0\\') LIMIT 1 OFFSET 0;',\n  0.0002460479736328125),\n ('SELECT \"item\".\"id\", \"item\".\"gid\", \"item\".\"title\", \"item\".\"body\" FROM \"item\" WHERE (\"item\".\"gid\" = \\'g0\\') LIMIT 1 OFFSET 0;',\n  0.00020813941955566406),\n ('INSERT INTO \"cache\"(\"gid\",\"value\") VALUES (\\'g0\\',\\'gASVPgAAAAAAAAB9lCiMAmlklEsfjANnaWSUjAJnMJSMBXRpdGxllIwJcHJ1dCBHMDExlIwEYm9keZSMCTAgMCAwIDAgMJR1Lg==\\')RETURNING \"id\";',\n  0.00025534629821777344),\n ('SELECT \"cache\".\"gid\" FROM \"cache\" WHERE (\"cache\".\"gid\" IN (\\'g0\\'));',\n  0.0002067089080810547),\n ('\\n                    insert into deps (cache_id, depends_on)\\n                SELECT 211, \"cache\".\"id\" FROM \"cache\" WHERE (\"cache\".\"gid\" IN (\\'g0\\'));',\n  0.000347137451171875),\n ('SELECT \"cache\".\"id\", \"cache\".\"gid\", \"cache\".\"value\" FROM \"cache\" WHERE (\"cache\".\"gid\" = \\'g0\\') LIMIT 1 OFFSET 0;',\n  0.00020051002502441406),\n ('SELECT \"cache\".\"id\", \"cache\".\"gid\", \"cache\".\"value\" FROM \"cache\" WHERE (\"cache\".\"gid\" = \\'g0\\') LIMIT 1 OFFSET 0;',\n  0.0007224082946777344),\n ('SELECT \"item\".\"id\", \"item\".\"gid\", \"item\".\"title\", \"item\".\"body\" FROM \"item\" WHERE (\"item\".\"gid\" = \\'g0\\') LIMIT 1 OFFSET 0;',\n  0.0002803802490234375),\n ('UPDATE \"item\" SET \"title\"=\\'prut G011\\' WHERE (\"item\".\"id\" = 31);',\n  0.0010080337524414062),\n ('SELECT \"cache\".\"id\", \"cache\".\"gid\", \"cache\".\"value\" FROM \"cache\" WHERE (\"cache\".\"gid\" = \\'g0\\') LIMIT 1 OFFSET 0;',\n  0.00027179718017578125),\n ('SELECT \"item\".\"id\", \"item\".\"gid\", \"item\".\"title\", \"item\".\"body\" FROM \"item\" WHERE (\"item\".\"gid\" = \\'g0\\') LIMIT 1 OFFSET 0;',\n  0.0002567768096923828),\n ('INSERT INTO \"cache\"(\"gid\",\"value\") VALUES (\\'g0\\',\\'gASVPgAAAAAAAAB9lCiMAmlklEsfjANnaWSUjAJnMJSMBXRpdGxllIwJcHJ1dCBHMDExlIwEYm9keZSMCTAgMCAwIDAgMJR1Lg==\\')RETURNING \"id\";',\n  0.00031304359436035156),\n ('SELECT \"cache\".\"gid\" FROM \"cache\" WHERE (\"cache\".\"gid\" IN (\\'g0\\'));',\n  0.00023984909057617188),\n ('\\n                    insert into deps (cache_id, depends_on)\\n                SELECT 212, \"cache\".\"id\" FROM \"cache\" WHERE (\"cache\".\"gid\" IN (\\'g0\\'));',\n  0.0004374980926513672),\n ('SELECT \"cache\".\"id\", \"cache\".\"gid\", \"cache\".\"value\" FROM \"cache\" WHERE (\"cache\".\"gid\" = \\'g0\\') LIMIT 1 OFFSET 0;',\n  0.0002644062042236328),\n ('SELECT \"cache\".\"id\", \"cache\".\"gid\", \"cache\".\"value\" FROM \"cache\" WHERE (\"cache\".\"gid\" = \\'g0\\') LIMIT 1 OFFSET 0;',\n  0.0006697177886962891),\n ('SELECT \"item\".\"id\", \"item\".\"gid\", \"item\".\"title\", \"item\".\"body\" FROM \"item\" WHERE (\"item\".\"gid\" = \\'g0\\') LIMIT 1 OFFSET 0;',\n  0.0002620220184326172),\n ('UPDATE \"item\" SET \"title\"=\\'prut G011\\' WHERE (\"item\".\"id\" = 31);',\n  0.0007696151733398438),\n ('SELECT \"cache\".\"id\", \"cache\".\"gid\", \"cache\".\"value\" FROM \"cache\" WHERE (\"cache\".\"gid\" = \\'g0\\') LIMIT 1 OFFSET 0;',\n  0.0003345012664794922),\n ('SELECT \"item\".\"id\", \"item\".\"gid\", \"item\".\"title\", \"item\".\"body\" FROM \"item\" WHERE (\"item\".\"gid\" = \\'g0\\') LIMIT 1 OFFSET 0;',\n  0.00023627281188964844),\n ('INSERT INTO \"cache\"(\"gid\",\"value\") VALUES (\\'g0\\',\\'gASVPgAAAAAAAAB9lCiMAmlklEsfjANnaWSUjAJnMJSMBXRpdGxllIwJcHJ1dCBHMDExlIwEYm9keZSMCTAgMCAwIDAgMJR1Lg==\\')RETURNING \"id\";',\n  0.0002586841583251953),\n ('SELECT \"cache\".\"gid\" FROM \"cache\" WHERE (\"cache\".\"gid\" IN (\\'g0\\'));',\n  0.00019359588623046875),\n ('\\n                    insert into deps (cache_id, depends_on)\\n                SELECT 213, \"cache\".\"id\" FROM \"cache\" WHERE (\"cache\".\"gid\" IN (\\'g0\\'));',\n  0.00029659271240234375),\n ('SELECT \"cache\".\"id\", \"cache\".\"gid\", \"cache\".\"value\" FROM \"cache\" WHERE (\"cache\".\"gid\" = \\'g0\\') LIMIT 1 OFFSET 0;',\n  0.0002856254577636719),\n ('SELECT \"item\".\"id\", \"item\".\"gid\", \"item\".\"title\", \"item\".\"body\" FROM \"item\" WHERE (\"item\".\"id\" IS NOT NULL);',\n  0.0006322860717773438),\n ('SELECT \"cache\".\"id\", \"cache\".\"gid\", \"cache\".\"value\" FROM \"cache\" WHERE (\"cache\".\"id\" IS NOT NULL);',\n  0.0003380775451660156),\n ('SELECT \"deps\".\"id\", \"deps\".\"cache_id\", \"deps\".\"depends_on\" FROM \"deps\" WHERE (\"deps\".\"id\" IS NOT NULL);',\n  0.0003046989440917969),\n ('\\n        select cache.gid, dep.gid \\n          from deps \\n            inner join cache on cache.id = deps.cache_id \\n            inner join cache dep on dep.id = deps.depends_on\\n        ',\n  0.000324249267578125),\n ('SELECT \"item\".\"id\", \"item\".\"gid\", \"item\".\"title\", \"item\".\"body\" FROM \"item\" WHERE (\"item\".\"id\" IS NOT NULL);',\n  0.0005929470062255859),\n ('SELECT \"cache\".\"id\", \"cache\".\"gid\", \"cache\".\"value\" FROM \"cache\" WHERE (\"cache\".\"id\" IS NOT NULL);',\n  0.0003790855407714844),\n ('SELECT \"deps\".\"id\", \"deps\".\"cache_id\", \"deps\".\"depends_on\" FROM \"deps\" WHERE (\"deps\".\"id\" IS NOT NULL);',\n  0.0002493858337402344),\n ('\\n        select cache.gid, dep.gid \\n          from deps \\n            inner join cache on cache.id = deps.cache_id \\n            inner join cache dep on dep.id = deps.depends_on\\n        ',\n  0.0004889965057373047),\n ('SELECT \"cache\".\"id\", \"cache\".\"gid\", \"cache\".\"value\" FROM \"cache\" WHERE (\"cache\".\"gid\" = \\'g0\\') LIMIT 1 OFFSET 0;',\n  0.0006511211395263672),\n ('SELECT \"item\".\"id\", \"item\".\"gid\", \"item\".\"title\", \"item\".\"body\" FROM \"item\" WHERE (\"item\".\"gid\" = \\'g0\\') LIMIT 1 OFFSET 0;',\n  0.0003764629364013672),\n ('UPDATE \"item\" SET \"title\"=\\'prut G011\\' WHERE (\"item\".\"id\" = 31);',\n  0.0007429122924804688),\n ('SELECT \"cache\".\"id\", \"cache\".\"gid\", \"cache\".\"value\" FROM \"cache\" WHERE (\"cache\".\"gid\" = \\'g0\\') LIMIT 1 OFFSET 0;',\n  0.0004062652587890625),\n ('SELECT \"item\".\"id\", \"item\".\"gid\", \"item\".\"title\", \"item\".\"body\" FROM \"item\" WHERE (\"item\".\"gid\" = \\'g0\\') LIMIT 1 OFFSET 0;',\n  0.0003209114074707031),\n ('INSERT INTO \"cache\"(\"gid\",\"value\") VALUES (\\'g0\\',\\'gASVPgAAAAAAAAB9lCiMAmlklEsfjANnaWSUjAJnMJSMBXRpdGxllIwJcHJ1dCBHMDExlIwEYm9keZSMCTAgMCAwIDAgMJR1Lg==\\')RETURNING \"id\";',\n  0.00031495094299316406),\n ('SELECT \"cache\".\"gid\" FROM \"cache\" WHERE (\"cache\".\"gid\" IN (\\'g0\\'));',\n  0.0003180503845214844),\n ('\\n                    insert into deps (cache_id, depends_on)\\n                SELECT 214, \"cache\".\"id\" FROM \"cache\" WHERE (\"cache\".\"gid\" IN (\\'g0\\'));',\n  0.0004177093505859375),\n ('SELECT \"cache\".\"id\", \"cache\".\"gid\", \"cache\".\"value\" FROM \"cache\" WHERE (\"cache\".\"gid\" = \\'g0\\') LIMIT 1 OFFSET 0;',\n  0.0004405975341796875),\n ('SELECT \"item\".\"id\", \"item\".\"gid\", \"item\".\"title\", \"item\".\"body\" FROM \"item\" WHERE (\"item\".\"id\" IS NOT NULL);',\n  0.0007700920104980469),\n ('SELECT \"cache\".\"id\", \"cache\".\"gid\", \"cache\".\"value\" FROM \"cache\" WHERE (\"cache\".\"id\" IS NOT NULL);',\n  0.0005409717559814453),\n ('SELECT \"deps\".\"id\", \"deps\".\"cache_id\", \"deps\".\"depends_on\" FROM \"deps\" WHERE (\"deps\".\"id\" IS NOT NULL);',\n  0.0004341602325439453),\n ('SELECT \"cache\".\"id\", \"cache\".\"gid\", \"cache\".\"value\" FROM \"cache\" WHERE (\"cache\".\"gid\" = \\'g0\\') LIMIT 1 OFFSET 0;',\n  0.0007395744323730469),\n ('SELECT \"item\".\"id\", \"item\".\"gid\", \"item\".\"title\", \"item\".\"body\" FROM \"item\" WHERE (\"item\".\"gid\" = \\'g0\\') LIMIT 1 OFFSET 0;',\n  0.0004258155822753906),\n ('UPDATE \"item\" SET \"title\"=\\'prut G011\\' WHERE (\"item\".\"id\" = 31);',\n  0.0010285377502441406),\n ('SELECT \"cache\".\"id\", \"cache\".\"gid\", \"cache\".\"value\" FROM \"cache\" WHERE (\"cache\".\"gid\" = \\'g0\\') LIMIT 1 OFFSET 0;',\n  0.0003833770751953125),\n ('SELECT \"item\".\"id\", \"item\".\"gid\", \"item\".\"title\", \"item\".\"body\" FROM \"item\" WHERE (\"item\".\"gid\" = \\'g0\\') LIMIT 1 OFFSET 0;',\n  0.0003387928009033203),\n ('INSERT INTO \"cache\"(\"gid\",\"value\") VALUES (\\'g0\\',\\'gASVPgAAAAAAAAB9lCiMAmlklEsfjANnaWSUjAJnMJSMBXRpdGxllIwJcHJ1dCBHMDExlIwEYm9keZSMCTAgMCAwIDAgMJR1Lg==\\')RETURNING \"id\";',\n  0.00032448768615722656),\n ('SELECT \"cache\".\"gid\" FROM \"cache\" WHERE (\"cache\".\"gid\" IN (\\'g0\\'));',\n  0.0002923011779785156),\n ('\\n                    insert into deps (cache_id, depends_on)\\n                SELECT 215, \"cache\".\"id\" FROM \"cache\" WHERE (\"cache\".\"gid\" IN (\\'g0\\'));',\n  0.00045800209045410156),\n ('SELECT \"cache\".\"id\", \"cache\".\"gid\", \"cache\".\"value\" FROM \"cache\" WHERE (\"cache\".\"gid\" = \\'g0\\') LIMIT 1 OFFSET 0;',\n  0.0002856254577636719)]"
     },
     "execution_count": 163,
     "metadata": {},
     "output_type": "execute_result"
    }
   ],
   "source": [
    "db._timings"
   ],
   "metadata": {
    "collapsed": false,
    "pycharm": {
     "name": "#%%\n"
    }
   }
  },
  {
   "cell_type": "code",
   "execution_count": null,
   "outputs": [],
   "source": [],
   "metadata": {
    "collapsed": false,
    "pycharm": {
     "name": "#%%\n"
    }
   }
  }
 ],
 "metadata": {
  "kernelspec": {
   "display_name": "Python 3",
   "language": "python",
   "name": "python3"
  },
  "language_info": {
   "codemirror_mode": {
    "name": "ipython",
    "version": 2
   },
   "file_extension": ".py",
   "mimetype": "text/x-python",
   "name": "python",
   "nbconvert_exporter": "python",
   "pygments_lexer": "ipython2",
   "version": "2.7.6"
  }
 },
 "nbformat": 4,
 "nbformat_minor": 0
}