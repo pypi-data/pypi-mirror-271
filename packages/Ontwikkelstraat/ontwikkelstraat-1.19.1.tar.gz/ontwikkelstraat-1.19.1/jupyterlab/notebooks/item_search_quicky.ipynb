{
 "cells": [
  {
   "cell_type": "code",
   "execution_count": null,
   "id": "77219602-520e-474a-b63c-e0feb7f75f22",
   "metadata": {},
   "outputs": [],
   "source": [
    "%run ./__init__edwh__notebooks.ipynb"
   ]
  },
  {
   "cell_type": "code",
   "execution_count": null,
   "id": "b270c524-e238-4ae0-9eaf-18401a895102",
   "metadata": {},
   "outputs": [],
   "source": [
    "%%sql \n",
    "select search.gid, item.backgrounds\n",
    "  from item \n",
    " inner join mv__itemsearch search on item.gid = search.gid "
   ]
  },
  {
   "cell_type": "code",
   "execution_count": null,
   "id": "b598205d-f647-4bb0-9de6-7bc33714d67d",
   "metadata": {},
   "outputs": [],
   "source": [
    "%%sql \n",
    "select * from attachment"
   ]
  },
  {
   "cell_type": "code",
   "execution_count": null,
   "id": "1f643349-f19a-4561-8798-610380ca6e93",
   "metadata": {},
   "outputs": [],
   "source": []
  }
 ],
 "metadata": {
  "kernelspec": {
   "display_name": "Python 3 (ipykernel)",
   "language": "python",
   "name": "python3"
  },
  "language_info": {
   "codemirror_mode": {
    "name": "ipython",
    "version": 3
   },
   "file_extension": ".py",
   "mimetype": "text/x-python",
   "name": "python",
   "nbconvert_exporter": "python",
   "pygments_lexer": "ipython3",
   "version": "3.9.7"
  }
 },
 "nbformat": 4,
 "nbformat_minor": 5
}
