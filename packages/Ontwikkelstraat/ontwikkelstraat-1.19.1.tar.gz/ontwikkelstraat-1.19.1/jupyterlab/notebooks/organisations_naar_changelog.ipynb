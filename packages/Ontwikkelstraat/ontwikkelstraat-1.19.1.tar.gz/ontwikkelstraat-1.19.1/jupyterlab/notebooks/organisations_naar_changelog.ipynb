{
 "cells": [
  {
   "cell_type": "code",
   "execution_count": 1,
   "id": "1955fae9-f128-46b1-8ae0-c25c5152c97c",
   "metadata": {},
   "outputs": [
    {
     "name": "stdout",
     "output_type": "stream",
     "text": [
      "Requirement already satisfied: dill in /opt/conda/lib/python3.10/site-packages (0.3.6)\r\n",
      "Requirement already satisfied: tqdm in /opt/conda/lib/python3.10/site-packages (4.64.1)\r\n",
      "Requirement already satisfied: pandas in /opt/conda/lib/python3.10/site-packages (1.5.3)\r\n",
      "Requirement already satisfied: pytz>=2020.1 in /opt/conda/lib/python3.10/site-packages (from pandas) (2022.6)\r\n",
      "Requirement already satisfied: python-dateutil>=2.8.1 in /opt/conda/lib/python3.10/site-packages (from pandas) (2.8.2)\r\n",
      "Requirement already satisfied: numpy>=1.21.0 in /opt/conda/lib/python3.10/site-packages (from pandas) (1.24.2)\r\n",
      "Requirement already satisfied: six>=1.5 in /opt/conda/lib/python3.10/site-packages (from python-dateutil>=2.8.1->pandas) (1.16.0)\r\n"
     ]
    }
   ],
   "source": [
    "from edwh.core.backend.support import Environment\n",
    "import datetime \n",
    "#!pip install ujson  > /dev/null\n",
    "# import ujson \n",
    "!pip install dill tqdm pandas \n",
    "import dill \n",
    "from tqdm import tqdm \n",
    "tqdm.pandas(desc='Jupyter')"
   ]
  },
  {
   "cell_type": "code",
   "execution_count": 2,
   "id": "315336c6-5913-4d57-9cea-c236909298b1",
   "metadata": {},
   "outputs": [
    {
     "name": "stdout",
     "output_type": "stream",
     "text": [
      "Item search: 0 - 0 \"\" None by None ['name', 'description']\n",
      "item-search-query attempt:\n",
      " SELECT \"item\".\"gid\" FROM \"item\", \"user\" WHERE ((((\"item\".\"id\" > 0) AND (\"item\".\"platform\" = 'SvS')) AND (((\"item\".\"author\" = \"user\".\"gid\") AND (NOT (\"user\".\"email\" LIKE '%@roc.nl' ESCAPE '\\'))) AND (NOT (\"user\".\"email\" LIKE '%@dutveul.nl' ESCAPE '\\')))) AND (\"item\".\"author\" IS NOT NULL)); \n",
      "\n"
     ]
    },
    {
     "name": "stderr",
     "output_type": "stream",
     "text": [
      "/shared_code/edwh/core/pgcache/__init__.py:89: UserWarning: Magic aangeroepn, dat klopt nie. \n",
      "  warnings.warn(\"Magic aangeroepn, dat klopt nie. \")\n"
     ]
    }
   ],
   "source": [
    "env = Environment(long_running=True)\n",
    "orgtable = env.db.organisation\n",
    "org2 = env.db.organisation_effdted_now\n",
    "rows = env.db(org2).select(limitby=(0,10))\n",
    "items = env.backend.search_items(None, search='', search_in=['name', 'description'])"
   ]
  },
  {
   "cell_type": "code",
   "execution_count": 3,
   "id": "58371f19-e4b4-41a2-9158-1dcc86ad59b1",
   "metadata": {},
   "outputs": [
    {
     "data": {
      "text/plain": "[Organisation(id=UUID('1d99022c-7bb7-436d-befa-15884a5407b4'), name=\"Rooms Katholieke Basisschool 't Boschveld\", item_tag=Tag(id=UUID('767c8903-45ec-4923-aa84-8968e7457d95'), slug='rooms-katholieke-basisschool-t-boschveld-s-hertogenbosch'))]"
     },
     "metadata": {},
     "output_type": "display_data"
    }
   ],
   "source": [
    "from edwh.core.backend.engine import Item, Organisation\n",
    "item = env.db.item(gid=items.found[0])\n",
    "item = Item.from_row(env.db, item)\n",
    "organisations = item.organisations(env.db)\n",
    "display(organisations)\n",
    "org = organisations[0]"
   ]
  },
  {
   "cell_type": "code",
   "execution_count": 5,
   "outputs": [
    {
     "data": {
      "text/plain": "0"
     },
     "execution_count": 5,
     "metadata": {},
     "output_type": "execute_result"
    }
   ],
   "source": [
    "org.student_count"
   ],
   "metadata": {
    "collapsed": false
   }
  },
  {
   "cell_type": "code",
   "execution_count": 4,
   "outputs": [],
   "source": [],
   "metadata": {
    "collapsed": false
   }
  }
 ],
 "metadata": {
  "kernelspec": {
   "display_name": "Python 3 (ipykernel)",
   "language": "python",
   "name": "python3"
  },
  "language_info": {
   "codemirror_mode": {
    "name": "ipython",
    "version": 3
   },
   "file_extension": ".py",
   "mimetype": "text/x-python",
   "name": "python",
   "nbconvert_exporter": "python",
   "pygments_lexer": "ipython3",
   "version": "3.10.6"
  }
 },
 "nbformat": 4,
 "nbformat_minor": 5
}
