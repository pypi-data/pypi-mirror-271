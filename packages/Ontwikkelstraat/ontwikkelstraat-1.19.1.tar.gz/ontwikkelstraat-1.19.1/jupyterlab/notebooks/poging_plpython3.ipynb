{
 "cells": [
  {
   "cell_type": "code",
   "execution_count": 1,
   "id": "fd914d02-901c-4770-8de4-4718a76e01cd",
   "metadata": {},
   "outputs": [
    {
     "name": "stdout",
     "output_type": "stream",
     "text": [
      "Python 3.9.7 | packaged by conda-forge | (default, Sep 29 2021, 19:20:46) \n",
      "[GCC 9.4.0]\n",
      "Heel veel packages aan het installeren\n",
      "Backend installeren\n",
      "\u001b[33mWARNING: The candidate selected for download or install is a yanked version: 'geventhttpclient' candidate (version 1.4.5 at https://devpi.edwh.nl/root/pypi/%2Bf/3f0/ab18d84ef26ba/geventhttpclient-1.4.5.tar.gz#sha256=3f0ab18d84ef26ba0c9df73ae2a41ba30a46072b447f2e36c740400de4a63d44 (from https://devpi.edwh.nl/remco/dev/+simple/geventhttpclient/))\n",
      "Reason for being yanked: <none given>\u001b[0m\n",
      "\u001b[31mERROR: pip's dependency resolver does not currently take into account all the packages that are installed. This behaviour is the source of the following dependency conflicts.\n",
      "ipykernel 6.6.0 requires traitlets<6.0,>=5.1.0, but you have traitlets 5.0.5 which is incompatible.\n",
      "distributed 2021.12.0 requires click>=6.6, but you have click 6.2 which is incompatible.\n",
      "anyio 3.4.0 requires idna>=2.8, but you have idna 2.7 which is incompatible.\u001b[0m\n",
      "jupyterlab niet stuk maken\n",
      "\u001b[31mERROR: pip's dependency resolver does not currently take into account all the packages that are installed. This behaviour is the source of the following dependency conflicts.\n",
      "backend 2.32.3 requires traitlets==5.0.5, but you have traitlets 5.1.1 which is incompatible.\u001b[0m\n",
      " * postgresql://postgres@pgpool:5432/backend\n",
      "Done.\n"
     ]
    }
   ],
   "source": [
    "%run ./__init__edwh__notebooks.ipynb"
   ]
  },
  {
   "cell_type": "code",
   "execution_count": 7,
   "id": "5b8e5974-ff36-40e7-a226-955f9c33b9cd",
   "metadata": {},
   "outputs": [
    {
     "name": "stdout",
     "output_type": "stream",
     "text": [
      " * postgresql://postgres@pgpool:5432/backend\n",
      "(psycopg2.errors.UndefinedFile) could not open extension control file \"/opt/bitnami/postgresql/share/extension/plpython3u.control\": No such file or directory\n",
      "\n",
      "[SQL: -- SELECT * FROM pg_language\n",
      "CREATE EXTENSION plpython3u;]\n",
      "(Background on this error at: https://sqlalche.me/e/14/e3q8)\n"
     ]
    }
   ],
   "source": [
    "%%sql\n",
    "-- SELECT * FROM pg_language\n",
    "CREATE EXTENSION plpython3u;"
   ]
  },
  {
   "cell_type": "code",
   "execution_count": 6,
   "id": "2dd4ce3f-4868-4636-b9bc-527b7f24f7a3",
   "metadata": {},
   "outputs": [
    {
     "name": "stdout",
     "output_type": "stream",
     "text": [
      " * postgresql://postgres@pgpool:5432/backend\n",
      "(psycopg2.errors.UndefinedObject) language \"plpythonu\" does not exist\n",
      "\n",
      "[SQL: CREATE FUNCTION pymax (a integer, b integer)\n",
      "  RETURNS integer\n",
      "AS $$\n",
      "  if a > b:\n",
      "    return a\n",
      "  return b\n",
      "$$ LANGUAGE plpythonu;]\n",
      "(Background on this error at: https://sqlalche.me/e/14/f405)\n"
     ]
    }
   ],
   "source": [
    "%%sql \n",
    "CREATE FUNCTION pymax (a integer, b integer)\n",
    "  RETURNS integer\n",
    "AS $$\n",
    "  if a > b:\n",
    "    return a\n",
    "  return b\n",
    "$$ LANGUAGE plpythonu;"
   ]
  },
  {
   "cell_type": "code",
   "execution_count": null,
   "id": "db62683f-af4c-4f83-828a-0385988f51bd",
   "metadata": {},
   "outputs": [],
   "source": []
  }
 ],
 "metadata": {
  "kernelspec": {
   "display_name": "Python 3 (ipykernel)",
   "language": "python",
   "name": "python3"
  },
  "language_info": {
   "codemirror_mode": {
    "name": "ipython",
    "version": 3
   },
   "file_extension": ".py",
   "mimetype": "text/x-python",
   "name": "python",
   "nbconvert_exporter": "python",
   "pygments_lexer": "ipython3",
   "version": "3.9.7"
  }
 },
 "nbformat": 4,
 "nbformat_minor": 5
}
