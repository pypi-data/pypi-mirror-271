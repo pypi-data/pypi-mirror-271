{
 "cells": [
  {
   "cell_type": "code",
   "execution_count": 1,
   "id": "7ffc8160-da26-42b4-b67a-7e1379f03864",
   "metadata": {},
   "outputs": [
    {
     "name": "stdout",
     "output_type": "stream",
     "text": [
      "Python 3.9.7 | packaged by conda-forge | (default, Sep 29 2021, 19:20:46) \n",
      "[GCC 9.4.0]\n",
      " * postgresql://postgres@pgpool:5432/backend\n",
      "Done.\n"
     ]
    }
   ],
   "source": [
    "%run ./__init__edwh__notebooks.ipynb"
   ]
  },
  {
   "cell_type": "code",
   "execution_count": 2,
   "id": "43f732b1-5f5a-49d4-8069-ab9b68586f79",
   "metadata": {},
   "outputs": [
    {
     "data": {
      "text/plain": [
       "<Tag Regio <Row {'id': 6595, 'platform': None, 'gid': 'e104e7ac-76ae-48d7-8ada-7c9fe367db8c', 'name': 'Regio', 'slug': 'regio-root', 'parents': ['19682a99-50a3-4fc0-bb67-e0f6eff5da55'], 'children': [], 'description': 'Regio root tag, children zijn de verschillende regios. ', 'meta_tags': ['19682a99-50a3-4fc0-bb67-e0f6eff5da55']}>>"
      ]
     },
     "execution_count": 2,
     "metadata": {},
     "output_type": "execute_result"
    }
   ],
   "source": [
    "Tag('Regio')"
   ]
  },
  {
   "cell_type": "code",
   "execution_count": 3,
   "id": "87e3c202-5eb9-4dcc-bec5-c1101c6d478c",
   "metadata": {},
   "outputs": [
    {
     "data": {
      "text/plain": [
       "True"
      ]
     },
     "execution_count": 3,
     "metadata": {},
     "output_type": "execute_result"
    }
   ],
   "source": [
    "Tag('Regio').add_child(Tag('Leiden'))"
   ]
  },
  {
   "cell_type": "code",
   "execution_count": 5,
   "id": "ac3e4d7c-6b4c-4823-a9b1-833a2bccf02d",
   "metadata": {},
   "outputs": [],
   "source": [
    "Tag.db.commit()"
   ]
  },
  {
   "cell_type": "code",
   "execution_count": 10,
   "id": "c29ecb3d-f98c-43ab-80fa-8ede9d2c08b9",
   "metadata": {},
   "outputs": [],
   "source": [
    "tag = Tag('Hupp')"
   ]
  },
  {
   "cell_type": "code",
   "execution_count": 12,
   "id": "fc8961cb-bcda-4e6c-a5e4-20ae900ae46a",
   "metadata": {},
   "outputs": [
    {
     "data": {
      "text/plain": [
       "[<Tag System <Row {'id': 1848, 'platform': None, 'gid': '19682a99-50a3-4fc0-bb67-e0f6eff5da55', 'name': 'System', 'slug': 'system', 'parents': [], 'children': ['801d584c-d380-4a1d-95d5-c1c85aec89da', 'dcaea9b5-879e-43f7-8860-67579e10166e', 'e104e7ac-76ae-48d7-8ada-7c9fe367db8c', '572520d6-a458-4026-ad05-9b957d5712e1', '21399f87-8361-4255-8737-24245a280dc6'], 'description': 'Meta Tag used to mark System tags,', 'meta_tags': ['19682a99-50a3-4fc0-bb67-e0f6eff5da55']}>>]"
      ]
     },
     "execution_count": 12,
     "metadata": {},
     "output_type": "execute_result"
    }
   ],
   "source": [
    "tag.metatags()"
   ]
  },
  {
   "cell_type": "code",
   "execution_count": null,
   "id": "d6cc5c0b-6223-443c-98d5-ce86703b8741",
   "metadata": {},
   "outputs": [],
   "source": []
  }
 ],
 "metadata": {
  "kernelspec": {
   "display_name": "Python 3 (ipykernel)",
   "language": "python",
   "name": "python3"
  },
  "language_info": {
   "codemirror_mode": {
    "name": "ipython",
    "version": 3
   },
   "file_extension": ".py",
   "mimetype": "text/x-python",
   "name": "python",
   "nbconvert_exporter": "python",
   "pygments_lexer": "ipython3",
   "version": "3.9.7"
  }
 },
 "nbformat": 4,
 "nbformat_minor": 5
}
