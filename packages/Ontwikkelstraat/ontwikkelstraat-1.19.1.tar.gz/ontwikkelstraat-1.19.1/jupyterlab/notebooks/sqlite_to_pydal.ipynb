{
 "cells": [
  {
   "cell_type": "code",
   "execution_count": 1,
   "metadata": {
    "collapsed": true
   },
   "outputs": [
    {
     "name": "stdout",
     "output_type": "stream",
     "text": [
      "Requirement already satisfied: python-slugify in /opt/conda/lib/python3.10/site-packages (7.0.0)\r\n",
      "Requirement already satisfied: text-unidecode>=1.3 in /opt/conda/lib/python3.10/site-packages (from python-slugify) (1.3)\r\n"
     ]
    }
   ],
   "source": [
    "# made by Remco\n",
    "!pip install python-slugify"
   ]
  },
  {
   "cell_type": "code",
   "execution_count": 19,
   "outputs": [],
   "source": [
    "from pydal import DAL, Field\n",
    "import slugify\n",
    "\n",
    "\n",
    "def generate_pydal_table(db: DAL, table_name: str, definition: str):\n",
    "    fields = []\n",
    "    for row in definition.split('\\n'):\n",
    "        sep = \"\\t\" if \"\\t\" in row else \",\"\n",
    "\n",
    "        rname, type_ = row.split(sep)\n",
    "        name = slugify.slugify(rname, separator='_')\n",
    "        if ' ' in rname or '-' in rname:\n",
    "            rname = f'[{rname}]'\n",
    "            # display(f'{name}: {rname}')\n",
    "            try:\n",
    "                fields.append(Field(name, type_, rname=rname))\n",
    "            except:\n",
    "                display(f'Warning: could not add column for {name}')\n",
    "\n",
    "    db.define_table(table_name, *fields, migrate=False)\n",
    "    db.commit()\n",
    "    return db"
   ],
   "metadata": {
    "collapsed": false
   }
  },
  {
   "cell_type": "code",
   "execution_count": 23,
   "outputs": [
    {
     "data": {
      "text/plain": "<Table scholen (id, bevoegd_gezag_nummer, brin_nummer, huisnummer_toevoeging, straatnaam_correspondentieadres, huisnummer_toevoeging_correspondentieadres, postcode_correspondentieadres, plaatsnaam_correspondentieadres, nodaal_gebied_code, nodaal_gebied_naam, rpa_gebied_code, rpa_gebied_naam, wgr_gebied_code, wgr_gebied_naam, coropgebied_code, coropgebied_naam, onderwijsgebied_code, onderwijsgebied_naam, rmc_regio_code, rmc_regio_naam, soort_primair_onderwijs, mbo_instellingssoort_code, mbo_instellingssoort_naam)>"
     },
     "execution_count": 23,
     "metadata": {},
     "output_type": "execute_result"
    }
   ],
   "source": [
    "# example:\n",
    "all_with_gid = DAL('sqlite:memory:', folder=\"data\", auto_import=True)\n",
    "\n",
    "pasted_from_pycharm_column_view = '''\n",
    "export_id,INTEGER\n",
    "id,INTEGER\n",
    "_id,INTEGER\n",
    "PROVINCIE,TEXT\n",
    "BEVOEGD GEZAG NUMMER,INTEGER\n",
    "BRIN NUMMER,TEXT\n",
    "VESTIGINGSNUMMER,TEXT\n",
    "VESTIGINGSNAAM,TEXT\n",
    "STRAATNAAM,TEXT\n",
    "HUISNUMMER-TOEVOEGING,TEXT\n",
    "POSTCODE,TEXT\n",
    "PLAATSNAAM,TEXT\n",
    "GEMEENTENUMMER,INTEGER\n",
    "GEMEENTENAAM,TEXT\n",
    "DENOMINATIE,TEXT\n",
    "TELEFOONNUMMER,TEXT\n",
    "INTERNETADRES,TEXT\n",
    "ONDERWIJSSTRUCTUUR,TEXT\n",
    "STRAATNAAM CORRESPONDENTIEADRES,TEXT\n",
    "HUISNUMMER-TOEVOEGING CORRESPONDENTIEADRES,TEXT\n",
    "POSTCODE CORRESPONDENTIEADRES,TEXT\n",
    "PLAATSNAAM CORRESPONDENTIEADRES,TEXT\n",
    "NODAAL GEBIED CODE,INTEGER\n",
    "NODAAL GEBIED NAAM,TEXT\n",
    "RPA-GEBIED CODE,INTEGER\n",
    "RPA-GEBIED NAAM,TEXT\n",
    "WGR-GEBIED CODE,INTEGER\n",
    "WGR-GEBIED NAAM,TEXT\n",
    "COROPGEBIED CODE,INTEGER\n",
    "COROPGEBIED NAAM,TEXT\n",
    "ONDERWIJSGEBIED CODE,INTEGER\n",
    "ONDERWIJSGEBIED NAAM,TEXT\n",
    "RMC-REGIO CODE,INTEGER\n",
    "RMC-REGIO NAAM,TEXT\n",
    "DOMAIN,TEXT\n",
    "edwh_tmp_key,TEXT\n",
    "SOORT PRIMAIR ONDERWIJS,TEXT\n",
    "CLUSTER,TEXT\n",
    "ONDERWIJS,TEXT\n",
    "MBO INSTELLINGSSOORT - CODE,TEXT\n",
    "MBO INSTELLINGSSOORT - NAAM,TEXT\n",
    "INSTELLINGSNAAM,TEXT\n",
    "geo,TEXT\n",
    "handelsnaam_x,TEXT\n",
    "statutaire_naam_x,TEXT\n",
    "kvk_nummer_x,INTEGER\n",
    "vestigings_nummer_x,INTEGER\n",
    "handelsnaam_y,TEXT\n",
    "statutaire_naam_y,TEXT\n",
    "kvk_nummer_y,INTEGER\n",
    "vestigings_nummer_y,INTEGER\n",
    "handelsnaam,TEXT\n",
    "statutaire_naam,TEXT\n",
    "kvk_nummer,INTEGER\n",
    "vestigings_nummer,INTEGER\n",
    "hash,TEXT\n",
    "org_gid,TEXT\n",
    "'''.strip()\n",
    "\n",
    "generate_pydal_table(all_with_gid, 'scholen', pasted_from_pycharm_column_view)\n",
    "\n",
    "all_with_gid.scholen\n",
    "# fixme:\n",
    "# all_with_gid(all_with_gid.scholen).select()"
   ],
   "metadata": {
    "collapsed": false
   }
  }
 ],
 "metadata": {
  "kernelspec": {
   "display_name": "Python 3",
   "language": "python",
   "name": "python3"
  },
  "language_info": {
   "codemirror_mode": {
    "name": "ipython",
    "version": 2
   },
   "file_extension": ".py",
   "mimetype": "text/x-python",
   "name": "python",
   "nbconvert_exporter": "python",
   "pygments_lexer": "ipython2",
   "version": "2.7.6"
  }
 },
 "nbformat": 4,
 "nbformat_minor": 0
}
