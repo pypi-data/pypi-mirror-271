{
 "cells": [
  {
   "cell_type": "code",
   "execution_count": 1,
   "metadata": {
    "collapsed": true,
    "pycharm": {
     "name": "#%%\n"
    }
   },
   "outputs": [
    {
     "name": "stdout",
     "output_type": "stream",
     "text": [
      "requirements satisfied\n"
     ]
    }
   ],
   "source": [
    "try:\n",
    "    import psycopg2, pydal, attrs, tabulate\n",
    "    del psycopg2, pydal, attrs, tabulate\n",
    "    print('requirements satisfied')\n",
    "except ImportError as e:\n",
    "    print(e)\n",
    "    print('installing requiremens')\n",
    "    !pip install psycopg2-binary pydal attrs tabulate"
   ]
  },
  {
   "cell_type": "code",
   "execution_count": 2,
   "outputs": [],
   "source": [
    "def readable(v):\n",
    "    if isinstance(v, uuid.UUID):\n",
    "        return str(v)[:4]\n",
    "    try:\n",
    "        # als het een enum betreft dan pak de waarde\n",
    "        return str(v.value)[:2].capitalize()\n",
    "    except: pass\n",
    "    try:\n",
    "        return str(v.time())\n",
    "    except: pass\n",
    "    try:\n",
    "        if v.count('_') > 0:\n",
    "            return ''.join([part[0].upper() for part in v.split('_')])\n",
    "    except:\n",
    "        pass\n",
    "    return v\n",
    "\n",
    "\n",
    "def show(title=None, rows=None, tablefmt='github'):\n",
    "    if rows is None:\n",
    "        rows, title = title, rows\n",
    "\n",
    "    rowlist = [{readable(k):readable(v) for k,v in row.items() if not callable(v)} for row in rows]\n",
    "    print(rowlist)\n",
    "    table = tabulate(rowlist, headers='keys', tablefmt=tablefmt)\n",
    "    if title:\n",
    "        width = len(table.split('\\n')[0])\n",
    "        dashes = width - len(title) - 4\n",
    "        c1 = dashes // 2\n",
    "        c2 = dashes - c1\n",
    "        print(f'{\"-\"*c1}[ {title} ]{\"-\"*c2}')\n",
    "    print(table)\n",
    "    print()"
   ],
   "metadata": {
    "collapsed": false,
    "pycharm": {
     "name": "#%%\n"
    }
   }
  },
  {
   "cell_type": "markdown",
   "source": [],
   "metadata": {
    "collapsed": false,
    "pycharm": {
     "name": "#%% md\n"
    }
   }
  },
  {
   "cell_type": "code",
   "execution_count": 3,
   "outputs": [],
   "source": [
    "import edwh.core.sync\n",
    "import importlib\n",
    "importlib.reload(edwh.core.sync)\n",
    "from edwh.core.sync import *\n",
    "#!pip install psycopg2-binary pydal attrs tabulate\n",
    "# import datetime, time\n",
    "# import re\n",
    "# import uuid\n",
    "# from enum import Enum, auto\n",
    "# from pprint import pprint\n",
    "#\n",
    "# from attrs import define, field, asdict\n",
    "# from pydal import DAL, Field, SQLCustomType\n",
    "# from pydal.validators import IS_IN_SET, IS_EMAIL, IS_MATCH\n",
    "# from tabulate import tabulate\n",
    "#\n",
    "# RE_EMAIL = re.compile(r'([A-Za-z0-9]+[.-_])*[A-Za-z0-9]+@[A-Za-z0-9-]+(\\.[A-Z|a-z]{2,})+')\n",
    "# RE_DOMAIN = re.compile(r'[A-Za-z0-9-]+(\\.[A-Z|a-z]{2,})+')\n",
    "# RE_UUID = re.compile(r'[0-9a-fA-F]{8}\\b-[0-9a-fA-F]{4}\\b-[0-9a-fA-F]{4}\\b-[0-9a-fA-F]{4}\\b-[0-9a-fA-F]{12}')\n",
    "#\n",
    "# class Status(Enum):\n",
    "#     DRAFT = 'draft'\n",
    "#     PROPOSED = 'proposed'\n",
    "#     PUBLISHED = 'published'\n",
    "#     # REJECTED = 'rejected'\n",
    "#     HIDDEN = 'hidden'\n",
    "#     RETRACTED = 'retracted'\n",
    "#\n",
    "# class Role(Enum):\n",
    "#     LOCAL_EDITOR=auto()\n",
    "#     TEAM=auto()\n",
    "#     DOMAIN=auto()\n",
    "#     PUBLIC=auto()\n",
    "#     CENTRAL_EDITOR=auto()\n",
    "#\n",
    "# values = lambda enum_items: {s.value for s in enum_items}\n",
    "# CENTRAL_EDITOR_QUERY_STATUSES = values(Status)\n",
    "# LOCAL_EDITOR_QUERY_STATUSES = values({Status.DRAFT, Status.PROPOSED, Status.PUBLISHED, Status.RETRACTED}) # later uit te breiden met Status.hidden\n",
    "# TEAM_QUERY_STATUSES = values({Status.PROPOSED, Status.PUBLISHED, Status.RETRACTED}) # later uit te breiden met Status.hidden\n",
    "# DOMAIN_QUERY_STATUSES = values({Status.PROPOSED, Status.PUBLISHED, Status.RETRACTED}) # later mogelijk uit te breiden met Status.hidden\n",
    "# PUBLIC_QUERY_STATUSES = values({Status.PUBLISHED, Status.RETRACTED}) # later mogelijk uit te breiden met Status.hidden\n",
    "#\n",
    "# visible_statuses_per_role = {\n",
    "#     Role.LOCAL_EDITOR:LOCAL_EDITOR_QUERY_STATUSES,\n",
    "#     Role.TEAM:TEAM_QUERY_STATUSES,\n",
    "#     Role.DOMAIN:DOMAIN_QUERY_STATUSES,\n",
    "#     Role.PUBLIC:PUBLIC_QUERY_STATUSES,\n",
    "#     Role.CENTRAL_EDITOR:CENTRAL_EDITOR_QUERY_STATUSES\n",
    "# }\n",
    "#\n",
    "# status_dal_type = SQLCustomType(type='string', native='text', encoder=lambda status:status.value, decoder=lambda fromdb:Status(fromdb))\n",
    "# uuid_dal_type = SQLCustomType(type='string', native='uuid', encoder=lambda id:str(id), decoder=lambda fromdb:uuid.UUID(fromdb), represent=lambda _uuid:str(_uuid)[:5]+'+')\n",
    "# datetime_dal_type = SQLCustomType(type='datetime')\n",
    "#\n",
    "# class Scope(Enum):\n",
    "#     EDITOR=auto()\n",
    "#     TEAM=auto()\n",
    "#     DOMAIN=auto()\n",
    "#     PUBLIC=auto()\n",
    "#\n",
    "# @define\n",
    "# class State:\n",
    "#     gid: uuid.UUID = field()\n",
    "#     editor_status: Status = field()\n",
    "#     team_status: Status = field()\n",
    "#     domain_status: Status = field()\n",
    "#     public_status: Status = field()\n",
    "#     by: str = field()\n",
    "#     origin_domain: str = field()\n",
    "#\n",
    "#     # remove microsecond part since this isn't stored in the database. And it's useless for our case.\n",
    "#     ts: datetime.datetime = field(factory=lambda:datetime.datetime.now().replace(microsecond=0))\n",
    "#     transaction_gid: uuid.UUID = field(factory=uuid.uuid4)\n",
    "#\n",
    "#     @by.validator\n",
    "#     def check_email(self, attribute, value):\n",
    "#         if not RE_EMAIL.fullmatch(value):\n",
    "#             raise ValueError(f'Invalid email format {value!r}')\n",
    "#\n",
    "#\n",
    "# def REQUIRED(fieldname):\n",
    "#     def wrapped():\n",
    "#         raise ValueError(f'Value missing for field {fieldname}')\n",
    "#     return wrapped\n",
    "#\n",
    "#\n",
    "# @define\n",
    "# class SomeState(State):\n",
    "#     __tablename = 'some'\n",
    "#     value:str = field(default=REQUIRED('value')) # required is a workaround to force a default argument\n",
    "#\n",
    "#     @classmethod\n",
    "#     def from_db(cls, db, row):\n",
    "#         return cls(**{field:row[field] for field in db[cls.__tablename].fields if field != 'id'})\n",
    "#\n",
    "#     @classmethod\n",
    "#     def from_row(cls, row:DAL.Row):\n",
    "#         return cls(\n",
    "#               gid=row.gid,\n",
    "#               editor_status=row.editor_status,\n",
    "#               team_status=row.team_status,\n",
    "#               domain_status=row.domain_status,\n",
    "#               public_status=row.public_status,\n",
    "#               by=row.by,\n",
    "#               origin_domain=row.origin_domain,\n",
    "#               ts=row.ts,\n",
    "#               transaction_gid=row.transaction_gid,\n",
    "#               value=row.value,\n",
    "#         )\n",
    "#\n",
    "#     @classmethod\n",
    "#     def most_recent(cls, db:DAL, as_role:Role, domain:str, gid:uuid.UUID = None, debug=True):\n",
    "#         \"\"\"Dit moet de meest recente rij opgegeven binnen de opgegeven belemmeringen\"\"\"\n",
    "#         # TODO: domain wordt nu nog niet gebruikt, en de vraag is of dat nodig is.\n",
    "#         # immers een instantie mag alleen maar krijgen wat bij het eigen domein afkomstig is\n",
    "#         # of wat is aangeboden vanuit landelijk.\n",
    "#         field_for_role = {\n",
    "#             Role.LOCAL_EDITOR:'editor_status',\n",
    "#             Role.TEAM:'team_status',\n",
    "#             Role.DOMAIN:'domain_status',\n",
    "#             Role.PUBLIC:'public_status',\n",
    "#             Role.CENTRAL_EDITOR:'editor_status'\n",
    "#         }\n",
    "#\n",
    "#\n",
    "#         table = db[cls.__tablename]\n",
    "#         table_rname = table._rname\n",
    "#         show(str(table),db(table).select())\n",
    "#         # if given a gid, it should be considered, otherwise all the relevant rows should be returned\n",
    "#         gid_clause = f\"{table_rname}.gid = '{str(gid)}'\" if gid else '(true)'\n",
    "#         # as the central editor role, domain is irrelevant as a criteria\n",
    "#         origin_clause = f\"{table_rname}.origin_domain = '{domain}'\" if as_role != Role.CENTRAL_EDITOR else 'true'\n",
    "#\n",
    "#         # this subselect should return all the id's for the unique rows which should\n",
    "#         # be valid for the given the creteria. The fields are then selected given these id's (to avoid huge group by clauses)\n",
    "#         # for performance reasons this might turn into a CTE, but that's premature optimization for now.\n",
    "#         # the most accurate row can yield a HIDDEN status for the respective scope status.\n",
    "#         # Hidden rows are filtered in the query which consumes this one.\n",
    "#         # basically it's the effective dated rows, based on the domain and gid selection\n",
    "#         # If we would include the hidden check in here, we would filter out all the hidden rows, but that might be\n",
    "#         # effective status for this selection, so that filtering has to be done a layer up.\n",
    "#         # the where filters on BOTH gid and domain, because the status can be different for the same gid\n",
    "#         # across the different domains.\n",
    "#         subselect = f'''\n",
    "#             select id\n",
    "#               from {table_rname}\n",
    "#              where\n",
    "#                    {gid_clause}\n",
    "#                    and ts = (\n",
    "#                     select max(ts)\n",
    "#                       from {table_rname} as effdted\n",
    "#                       where effdted.gid = {table_rname}.gid\n",
    "#                         and effdted.origin_domain = {table_rname}.origin_domain\n",
    "#                         and {field_for_role[as_role]} in ({\", \".join(f\"'{_}'\" for _ in visible_statuses_per_role[as_role])})\n",
    "#                    ) and ({origin_clause})\n",
    "#              group by id\n",
    "#         '''\n",
    "#         if debug:\n",
    "#             print('subselect: ')\n",
    "#             print(subselect)\n",
    "#             print('subselect result: ')\n",
    "#             print(db.executesql(subselect))\n",
    "#\n",
    "#         # the selection of fields and the filtering on the scope_status field being anything but 'hidden'\n",
    "#         sql = f'''\n",
    "#         select *\n",
    "#           from {table_rname}\n",
    "#          where id in (\n",
    "#             {subselect}\n",
    "#          )\n",
    "#         '''\n",
    "#         if debug:\n",
    "#             print('complete query:')\n",
    "#             print(sql)\n",
    "#         result = (cls.from_row(row) for row in db.executesql(sql, fields=table))\n",
    "#         if debug:\n",
    "#             result_list = list(result)\n",
    "#             print('result:')\n",
    "#             pprint(result_list)\n",
    "#             # returna  new generator\n",
    "#             return (_ for _ in result_list)\n",
    "#         else:\n",
    "#             return result\n",
    "#\n",
    "#\n",
    "# def define_table(db:DAL):\n",
    "#     state_table = db.Table(db, 'state',\n",
    "#         Field('gid',uuid_dal_type,comment='The GID of the object for which this is a state.'),\n",
    "#         Field('editor_status',status_dal_type,requires=IS_IN_SET(set(s.value for s in Status))),\n",
    "#         Field('team_status',status_dal_type,requires=IS_IN_SET(set(s.value for s in Status))),\n",
    "#         Field('domain_status',status_dal_type,requires=IS_IN_SET(set(s.value for s in Status))),\n",
    "#         Field('public_status',status_dal_type,requires=IS_IN_SET(set(s.value for s in Status))),\n",
    "#         Field('by','string',requires=IS_EMAIL),\n",
    "#         Field('origin_domain','string', requires=IS_MATCH(RE_DOMAIN.pattern)),\n",
    "#         Field('ts','datetime', default=lambda:datetime.datetime.now().replace(microsecond=0)),\n",
    "#         Field('transaction_gid',uuid_dal_type, requires=IS_MATCH(RE_UUID.pattern), default=lambda:str(uuid.uuid4())),\n",
    "#     )\n"
   ],
   "metadata": {
    "collapsed": false,
    "pycharm": {
     "name": "#%%\n"
    }
   }
  },
  {
   "cell_type": "code",
   "execution_count": 4,
   "outputs": [],
   "source": [
    "import os\n",
    "server = os.getenv('POSTGRES_SERVER', '10.221.142.201')\n",
    "db = DAL(f'postgres://username:password@{server}/db')\n",
    "db.define_table('some',\n",
    "    state_table(db),\n",
    "    Field('value','text'),\n",
    "    rname='some_tbl'\n",
    ")\n",
    "db.some.truncate()\n",
    "db.commit()"
   ],
   "metadata": {
    "collapsed": false,
    "pycharm": {
     "name": "#%%\n"
    }
   }
  },
  {
   "cell_type": "code",
   "execution_count": 5,
   "outputs": [],
   "source": [
    "CURRENT_DOMAIN = 'remco.nl'\n",
    "SECOND_DOMAIN='second.nl'\n",
    "some_gid = uuid.uuid4()\n",
    "other_gid = uuid.uuid4()"
   ],
   "metadata": {
    "collapsed": false,
    "pycharm": {
     "name": "#%%\n"
    }
   }
  },
  {
   "cell_type": "code",
   "execution_count": 6,
   "outputs": [
    {
     "data": {
      "text/plain": "'some_tbl'"
     },
     "execution_count": 6,
     "metadata": {},
     "output_type": "execute_result"
    }
   ],
   "source": [
    "db['some']._rname"
   ],
   "metadata": {
    "collapsed": false,
    "pycharm": {
     "name": "#%%\n"
    }
   }
  },
  {
   "cell_type": "code",
   "execution_count": 7,
   "outputs": [],
   "source": [
    "db.some.insert(**asdict(first_edit := SomeState(\n",
    "    some_gid,\n",
    "    Status.DRAFT,\n",
    "    Status.HIDDEN,\n",
    "    Status.HIDDEN,\n",
    "    Status.HIDDEN,\n",
    "    'remco@ewdh.nl',\n",
    "    CURRENT_DOMAIN,\n",
    "    value='A) 1st domain, 1st edit'\n",
    ")))\n",
    "\n",
    "def first_test():\n",
    "    assert list(SomeState.most_recent(db, Role.LOCAL_EDITOR, domain=CURRENT_DOMAIN, gid=some_gid))[0] == first_edit, 'editor should see his own edit'\n",
    "    assert list(SomeState.most_recent(db, Role.PUBLIC, domain=CURRENT_DOMAIN, gid=some_gid)) == [], 'public should not see this edit yet'\n",
    "first_test()"
   ],
   "metadata": {
    "collapsed": false,
    "pycharm": {
     "name": "#%%\n"
    }
   }
  },
  {
   "cell_type": "code",
   "execution_count": 8,
   "outputs": [],
   "source": [
    "time.sleep(1)\n",
    "db.some.insert(**asdict(second_edit := SomeState(\n",
    "    some_gid,\n",
    "    Status.DRAFT,\n",
    "    Status.HIDDEN,\n",
    "    Status.HIDDEN,\n",
    "    Status.HIDDEN,\n",
    "    'remco@ewdh.nl',\n",
    "    CURRENT_DOMAIN,\n",
    "    value='A) 2nd draft, 1st domain'\n",
    ")))\n",
    "def second_test():\n",
    "    assert len(list(SomeState.most_recent(db, Role.LOCAL_EDITOR, domain=CURRENT_DOMAIN, gid=some_gid))) == 1, 'only one should be shown for this user'\n",
    "    assert list(SomeState.most_recent(db, Role.LOCAL_EDITOR, domain=CURRENT_DOMAIN, gid=some_gid))[0] == second_edit, 'editor should see his own second edit'\n",
    "    assert list(SomeState.most_recent(db, Role.PUBLIC, domain=CURRENT_DOMAIN, gid=some_gid)) == [], 'public should not see this edit yet'\n",
    "second_test()"
   ],
   "metadata": {
    "collapsed": false,
    "pycharm": {
     "name": "#%%\n"
    }
   }
  },
  {
   "cell_type": "code",
   "execution_count": 9,
   "outputs": [],
   "source": [
    "db.some.insert(**asdict(third_edit := SomeState(\n",
    "    other_gid,\n",
    "    Status.DRAFT,\n",
    "    Status.HIDDEN,\n",
    "    Status.HIDDEN,\n",
    "    Status.HIDDEN,\n",
    "    'remco@ewdh.nl',\n",
    "    CURRENT_DOMAIN,\n",
    "    value='B) 1st edition, 3rd edit')\n",
    "))\n",
    "time.sleep(1)\n",
    "\n",
    "# kopie tests voor other_gid\n",
    "\n",
    "def third_test():\n",
    "    assert list(SomeState.most_recent(db, Role.LOCAL_EDITOR, domain=CURRENT_DOMAIN, gid=other_gid)) == [third_edit], 'editor should see his own edit'\n",
    "    assert list(SomeState.most_recent(db, Role.PUBLIC, domain=CURRENT_DOMAIN, gid=other_gid)) == [], 'public should not see this edit yet'\n",
    "second_test()\n",
    "third_test()\n",
    "\n"
   ],
   "metadata": {
    "collapsed": false,
    "pycharm": {
     "name": "#%%\n"
    }
   }
  },
  {
   "cell_type": "code",
   "execution_count": 10,
   "outputs": [],
   "source": [
    "db.some.insert(**asdict(second_domain_first:=SomeState(\n",
    "    some_gid,\n",
    "    Status.DRAFT,\n",
    "    Status.HIDDEN,\n",
    "    Status.HIDDEN,\n",
    "    Status.HIDDEN,\n",
    "    'other@second.nl',\n",
    "    SECOND_DOMAIN,\n",
    "    value='A) 2nd domain, 1st edit'\n",
    ")))\n",
    "time.sleep(1)\n",
    "\n",
    "third_test()\n",
    "def second_domain_test():\n",
    "    assert list(SomeState.most_recent(db, Role.LOCAL_EDITOR, domain=SECOND_DOMAIN, gid=some_gid))[0] == second_domain_first, 'editor should see his own edit'\n",
    "    assert list(SomeState.most_recent(db, Role.LOCAL_EDITOR, domain=SECOND_DOMAIN))[0] == second_domain_first, 'editor should see his own edit'\n",
    "    assert list(SomeState.most_recent(db, Role.PUBLIC, domain=CURRENT_DOMAIN, gid=other_gid)) == [], 'public should not see this edit yet'\n",
    "    assert list(SomeState.most_recent(db, Role.PUBLIC, domain=CURRENT_DOMAIN)) == [], 'public should not see this edit yet'\n",
    "second_domain_test()"
   ],
   "metadata": {
    "collapsed": false,
    "pycharm": {
     "name": "#%%\n"
    }
   }
  },
  {
   "cell_type": "code",
   "execution_count": 11,
   "outputs": [],
   "source": [
    "db.commit()\n",
    "db.some.insert(**asdict(fourth_state := SomeState(\n",
    "    some_gid,\n",
    "    Status.PROPOSED,\n",
    "    Status.HIDDEN,\n",
    "    Status.HIDDEN,\n",
    "    Status.HIDDEN,\n",
    "    'remco@ewdh.nl',\n",
    "    CURRENT_DOMAIN,\n",
    "    value='A) 1st domain, 1st proposal'\n",
    ")))\n",
    "time.sleep(1)\n",
    "\n",
    "db.commit()"
   ],
   "metadata": {
    "collapsed": false,
    "pycharm": {
     "name": "#%%\n"
    }
   }
  },
  {
   "cell_type": "markdown",
   "source": [
    "# unique index afdwingen vereist ivm duplicaten issues\n",
    "TODO: er moet een sleutel toegevoegd worden in de database om te voorkomen dat er voor 1 object binnen 1 tijdstempel binnen hetzelfde domein verschillende items plaatsvinden, omdat dan niet na te gaan is wat de meest recente/relevante is.\n",
    "\n",
    "Aan de andere kant is dit ook op te lossen door een unieke sleutel af te dwingen in de database on insert, aangzien het gaat over de database van 1 platform.\n"
   ],
   "metadata": {
    "collapsed": false,
    "pycharm": {
     "name": "#%% md\n"
    }
   }
  },
  {
   "cell_type": "code",
   "execution_count": 12,
   "outputs": [],
   "source": [
    "db.rollback()\n",
    "def fourth_test():\n",
    "    assert list(SomeState.most_recent(db, Role.LOCAL_EDITOR, domain=CURRENT_DOMAIN, gid=some_gid))[0] == fourth_state, 'editor should see his own proposal'\n",
    "    assert list(SomeState.most_recent(db, Role.PUBLIC, domain=CURRENT_DOMAIN, gid=some_gid)) == [], 'public should not see this edit yet'\n",
    "    assert fourth_state in list(SomeState.most_recent(db, Role.CENTRAL_EDITOR, domain=None, gid=some_gid)), 'public editors should see this propoasal, without domain'\n",
    "    assert list(SomeState.most_recent(db, Role.CENTRAL_EDITOR, domain=None, gid=some_gid)) == [second_domain_first, fourth_state], 'public editors should see this proposal, for both domains, but only for the given gid.'\n",
    "    assert list(SomeState.most_recent(db, Role.CENTRAL_EDITOR, domain=None))==[third_edit, second_domain_first, fourth_state] , 'public editors should see the proposal and the draft for B, when no domain nor gid are given'\n",
    "# fourth_state in list(SomeState.most_recent(db, Role.CENTRAL_EDITOR, domain=None, gid=some_gid))\n",
    "fourth_test()\n"
   ],
   "metadata": {
    "collapsed": false,
    "pycharm": {
     "name": "#%%\n"
    }
   }
  },
  {
   "cell_type": "markdown",
   "source": [
    "# Rejected wel of niet?\n",
    "Rejected is een vreemde eend in de bijt. eigenlijk wil je vanuit een landelijk platform wel zien of je een wijziging accepteerd, maar je wilt deze niet doorgeven aan anderen.\n",
    "\n",
    "Op basis van de [RFC procedure van het IETF](https://www.rfc-editor.org/rfc/rfc2026.html) zou ik zeggen dat een rejected niet nodig is, en niet als status wordt vastgelegd. Een draft wordt genegeerd als deze niet gecommiteerd/gepubliceerd wordt. Een historic status zoals zij deze kennen is bij ons niet relevant, omdat de queries er voor moeten zorgen dat de laatste versie naar boven komen. Documenten die elkaar overerven kennen we niet in onze structuur.\n",
    "\n",
    "# Retracted\n",
    "Als er geen rejected komt, kan een document ook nooit verwijderd worden. Dus daarvoor is er de status \"Retracted\", waarbij het artikel voor niemand meer zichtbaar is. De body mag de meldig zijn die dan op het scherm verschijnt, zodat je ook aan een eindgebruiker eventueel kunt vertellen waarom dit document niet meer bestaat, danwel waar je verder moet kijken."
   ],
   "metadata": {
    "collapsed": false,
    "pycharm": {
     "name": "#%% md\n"
    }
   }
  },
  {
   "cell_type": "code",
   "execution_count": 13,
   "outputs": [],
   "source": [
    "# if False:\n",
    "#     db.some.insert(**asdict(SomeState(\n",
    "#         some_gid,\n",
    "#         Status.REJECTED,\n",
    "#         Status.HIDDEN,\n",
    "#         Status.HIDDEN,\n",
    "#         Status.HIDDEN,\n",
    "#         'eddie@ewdh.nl',\n",
    "#         CURRENT_DOMAIN,\n",
    "#         value='A) rejected'\n",
    "#     )))\n",
    "#     time.sleep(1)\n",
    "#\n",
    "#     db.some.insert(**asdict(SomeState(\n",
    "#         some_gid,\n",
    "#         Status.DRAFT,\n",
    "#         Status.HIDDEN,\n",
    "#         Status.HIDDEN,\n",
    "#         Status.HIDDEN,\n",
    "#         'remco@ewdh.nl',\n",
    "#         CURRENT_DOMAIN,\n",
    "#         value='A) draft na reject'\n",
    "#     )))\n",
    "#     time.sleep(1)\n",
    "#\n",
    "#     db.some.insert(**asdict(SomeState(\n",
    "#         some_gid,\n",
    "#         Status.PROPOSED,\n",
    "#         Status.HIDDEN,\n",
    "#         Status.HIDDEN,\n",
    "#         Status.HIDDEN,\n",
    "#         'remco@ewdh.nl',\n",
    "#         CURRENT_DOMAIN,\n",
    "#         value='A) propose na draft na reject'\n",
    "#     )))\n",
    "#     time.sleep(1)\n",
    "\n",
    "db.some.insert(**asdict(fifth_state :=SomeState(\n",
    "    some_gid,\n",
    "    Status.PUBLISHED,\n",
    "    Status.PUBLISHED,\n",
    "    Status.PUBLISHED,\n",
    "    Status.PUBLISHED,\n",
    "    'remco@ewdh.nl',\n",
    "    CURRENT_DOMAIN,\n",
    "    value='A) published na propose na draft na reject'\n",
    ")))\n",
    "time.sleep(1)\n",
    "db.commit()"
   ],
   "metadata": {
    "collapsed": false,
    "pycharm": {
     "name": "#%%\n"
    }
   }
  },
  {
   "cell_type": "code",
   "execution_count": 14,
   "outputs": [],
   "source": [
    "db.rollback()\n",
    "def fifth_test():\n",
    "    assert list(SomeState.most_recent(db, Role.LOCAL_EDITOR, domain=CURRENT_DOMAIN, gid=some_gid)) == [fifth_state], 'editor should see the published version'\n",
    "    assert list(SomeState.most_recent(db, Role.PUBLIC, domain=CURRENT_DOMAIN, gid=some_gid)) == [fifth_state], 'public should see the published version'\n",
    "    assert fifth_state in list(SomeState.most_recent(db, Role.CENTRAL_EDITOR, domain=None, gid=some_gid)), 'public editors should see this published version, without domain'\n",
    "    assert list(SomeState.most_recent(db, Role.CENTRAL_EDITOR, domain=None, gid=some_gid)) == [second_domain_first, fifth_state], 'public editors should see this published version, for both domains, but only for the given gid.'\n",
    "    assert list(SomeState.most_recent(db, Role.CENTRAL_EDITOR, domain=None))==[third_edit, second_domain_first, fifth_state] , 'public editors should see the proposal and the draft for B, when no domain nor gid are given'\n",
    "# fourth_state in list(SomeState.most_recent(db, Role.CENTRAL_EDITOR, domain=None, gid=some_gid))\n",
    "fifth_test()"
   ],
   "metadata": {
    "collapsed": false,
    "pycharm": {
     "name": "#%%\n"
    }
   }
  },
  {
   "cell_type": "code",
   "execution_count": 15,
   "outputs": [],
   "source": [
    "db.some.insert(**asdict(sixth_state :=SomeState(\n",
    "    some_gid,\n",
    "    Status.DRAFT,\n",
    "    Status.HIDDEN,\n",
    "    Status.HIDDEN,\n",
    "    Status.HIDDEN,\n",
    "    'remco@ewdh.nl',\n",
    "    CURRENT_DOMAIN,\n",
    "    value='A) draft na published'\n",
    ")))\n",
    "time.sleep(1)\n",
    "db.commit()"
   ],
   "metadata": {
    "collapsed": false,
    "pycharm": {
     "name": "#%%\n"
    }
   }
  },
  {
   "cell_type": "code",
   "execution_count": 16,
   "outputs": [],
   "source": [
    "db.rollback()\n",
    "def sixth_test():\n",
    "    assert list(SomeState.most_recent(db, Role.LOCAL_EDITOR, domain=CURRENT_DOMAIN, gid=some_gid)) == [sixth_state], 'editor should see the latest draft'\n",
    "    assert list(SomeState.most_recent(db, Role.PUBLIC, domain=CURRENT_DOMAIN, gid=some_gid)) == [fifth_state], 'public should see the last published version'\n",
    "    assert sixth_state in list(SomeState.most_recent(db, Role.CENTRAL_EDITOR, domain=None, gid=some_gid)), 'public editors should see this published version, without domain'\n",
    "    assert list(SomeState.most_recent(db, Role.CENTRAL_EDITOR, domain=None, gid=some_gid)) == [second_domain_first, sixth_state], 'central editors should see this draft, for both domains, but only for the given gid.'\n",
    "    assert list(SomeState.most_recent(db, Role.CENTRAL_EDITOR, domain=None))==[third_edit, second_domain_first, sixth_state] , 'public editors should see the proposal and the draft for B, when no domain nor gid are given'\n",
    "# fourth_state in list(SomeState.most_recent(db, Role.CENTRAL_EDITOR, domain=None, gid=some_gid))\n",
    "sixth_test()"
   ],
   "metadata": {
    "collapsed": false,
    "pycharm": {
     "name": "#%%\n"
    }
   }
  },
  {
   "cell_type": "code",
   "execution_count": 17,
   "outputs": [],
   "source": [
    "db.some.insert(**asdict(seventh_state := SomeState(\n",
    "    some_gid,\n",
    "    Status.RETRACTED,\n",
    "    Status.RETRACTED,\n",
    "    Status.RETRACTED,\n",
    "    Status.RETRACTED,\n",
    "    'remco@ewdh.nl',\n",
    "    CURRENT_DOMAIN,\n",
    "    value='A) is ingetrokken'\n",
    ")))\n",
    "time.sleep(1)\n",
    "db.commit()"
   ],
   "metadata": {
    "collapsed": false,
    "pycharm": {
     "name": "#%%\n"
    }
   }
  },
  {
   "cell_type": "code",
   "execution_count": 18,
   "outputs": [],
   "source": [
    "\n",
    "db.rollback()\n",
    "\n",
    "def seventh_test():\n",
    "    assert list(SomeState.most_recent(db, Role.LOCAL_EDITOR, domain=CURRENT_DOMAIN, gid=some_gid)) == [\n",
    "        seventh_state], 'editor should see the latest draft'\n",
    "    assert list(SomeState.most_recent(db, Role.PUBLIC, domain=CURRENT_DOMAIN, gid=some_gid)) == [\n",
    "        seventh_state], 'public should see the last published version'\n",
    "    assert seventh_state in list(SomeState.most_recent(db, Role.CENTRAL_EDITOR, domain=None,\n",
    "                                                     gid=some_gid)), 'public editors should see this published version, without domain'\n",
    "    assert list(SomeState.most_recent(db, Role.CENTRAL_EDITOR, domain=None, gid=some_gid)) == [second_domain_first,\n",
    "                                                                                               seventh_state], 'public editors should see this draft, for both domains, but only for the given gid.'\n",
    "    assert list(SomeState.most_recent(db, Role.CENTRAL_EDITOR, domain=None)) == [third_edit, second_domain_first,\n",
    "                                                                                 seventh_state], 'public editors should see the proposal and the draft for B, when no domain nor gid are given'\n",
    "\n",
    "\n",
    "# fourth_state in list(SomeState.most_recent(db, Role.CENTRAL_EDITOR, domain=None, gid=some_gid))\n",
    "seventh_test()"
   ],
   "metadata": {
    "collapsed": false,
    "pycharm": {
     "name": "#%%\n"
    }
   }
  },
  {
   "cell_type": "code",
   "execution_count": 19,
   "outputs": [],
   "source": [
    "row = db(db.some).select().last()\n",
    "s2 = SomeState.from_db(db, row )"
   ],
   "metadata": {
    "collapsed": false,
    "pycharm": {
     "name": "#%%\n"
    }
   }
  },
  {
   "cell_type": "code",
   "execution_count": 20,
   "outputs": [
    {
     "name": "stdout",
     "output_type": "stream",
     "text": [
      "  id=row.id\n",
      "  gid=row.gid\n",
      "  editor_status=row.editor_status\n",
      "  team_status=row.team_status\n",
      "  domain_status=row.domain_status\n",
      "  public_status=row.public_status\n",
      "  by=row.by\n",
      "  origin_domain=row.origin_domain\n",
      "  ts=row.ts\n",
      "  transaction_gid=row.transaction_gid\n",
      "  value=row.value\n"
     ]
    }
   ],
   "source": [
    "for k,v in {field:row[field] for field in db.some.fields}.items():\n",
    "    print(f'  {k}=row.{k}')"
   ],
   "metadata": {
    "collapsed": false,
    "pycharm": {
     "name": "#%%\n"
    }
   }
  },
  {
   "cell_type": "code",
   "execution_count": 21,
   "outputs": [
    {
     "data": {
      "text/plain": "SomeState(gid=UUID('cc9330eb-b5cc-41a8-8acf-6edd1468a535'), editor_status=<Status.RETRACTED: 'retracted'>, team_status=<Status.RETRACTED: 'retracted'>, domain_status=<Status.RETRACTED: 'retracted'>, public_status=<Status.RETRACTED: 'retracted'>, by='remco@ewdh.nl', origin_domain='remco.nl', ts=datetime.datetime(2022, 10, 20, 22, 6, 55), transaction_gid=UUID('8e6c7e78-d46a-436d-bcd1-d3da58e2b5c8'), value='A) is ingetrokken')"
     },
     "execution_count": 21,
     "metadata": {},
     "output_type": "execute_result"
    }
   ],
   "source": [
    "s2"
   ],
   "metadata": {
    "collapsed": false,
    "pycharm": {
     "name": "#%%\n"
    }
   }
  },
  {
   "cell_type": "code",
   "execution_count": 21,
   "outputs": [],
   "source": [],
   "metadata": {
    "collapsed": false,
    "pycharm": {
     "name": "#%%\n"
    }
   }
  }
 ],
 "metadata": {
  "kernelspec": {
   "display_name": "Python 3",
   "language": "python",
   "name": "python3"
  },
  "language_info": {
   "codemirror_mode": {
    "name": "ipython",
    "version": 2
   },
   "file_extension": ".py",
   "mimetype": "text/x-python",
   "name": "python",
   "nbconvert_exporter": "python",
   "pygments_lexer": "ipython2",
   "version": "2.7.6"
  }
 },
 "nbformat": 4,
 "nbformat_minor": 0
}