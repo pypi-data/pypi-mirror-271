{
 "cells": [
  {
   "attachments": {},
   "cell_type": "markdown",
   "id": "0",
   "metadata": {},
   "source": [
    "# Lab 4\n",
    "\n",
    "[![image](https://colab.research.google.com/assets/colab-badge.svg)](https://colab.research.google.com/github/phillipslucas/TheBeans/blob/main/docs/Labs/lab4.ipynb)\n",
    "\n",
    "## Submission instructions\n",
    "\n",
    "1. Download the notebook from https://geohey.gishub.org/labs/lab4\n",
    "2. Complete the lab questions\n",
    "3. Restart Kernel and Run All Cells\n",
    "4. Upload the notebook to your GitHub repository\n",
    "5. Make sure the notebook has an `Open In Colab` badge. Click on the badge to make sure your notebook can be opened in Colab.\n",
    "6. Submit the link to the notebook on your GitHub repository to Canvas"
   ]
  },
  {
   "cell_type": "code",
   "execution_count": 1,
   "id": "1",
   "metadata": {},
   "outputs": [
    {
     "name": "stdout",
     "output_type": "stream",
     "text": [
      "Submitted time: 2024-02-29 08:27:13.036789\n"
     ]
    }
   ],
   "source": [
    "from datetime import datetime\n",
    "\n",
    "now = datetime.now()\n",
    "print(f\"Submitted time: {now}\")"
   ]
  },
  {
   "cell_type": "markdown",
   "id": "2",
   "metadata": {},
   "source": [
    "## Question 1\n",
    "\n",
    "**Personal Message:** Use a variable to represent a person’s name, and print a message to that person. Your message should be simple, such as, “Hello Eric, would you like to learn some Python today?”"
   ]
  },
  {
   "cell_type": "code",
   "execution_count": 2,
   "id": "3",
   "metadata": {},
   "outputs": [
    {
     "name": "stdout",
     "output_type": "stream",
     "text": [
      "Hello luCas would you like to learn how to tame snakes?\n"
     ]
    }
   ],
   "source": [
    "name = 'luCas'\n",
    "print(f\"Hello {name} would you like to learn how to tame snakes?\")\n"
   ]
  },
  {
   "cell_type": "markdown",
   "id": "4",
   "metadata": {},
   "source": [
    "## Question 2\n",
    "\n",
    "**Name Cases:** Use a variable to represent a person’s name, and then print that person’s name in lowercase, uppercase, and title case."
   ]
  },
  {
   "cell_type": "code",
   "execution_count": 30,
   "id": "5",
   "metadata": {},
   "outputs": [
    {
     "name": "stdout",
     "output_type": "stream",
     "text": [
      "Hello lucas.\n",
      "Hello LUCAS.\n",
      "Hello Lucas.\n"
     ]
    }
   ],
   "source": [
    "name = \"Lucas\"\n",
    "print(f\"Hello {name.lower()}.\")\n",
    "print(f\"Hello {name.upper()}.\")\n",
    "print(f\"Hello {name.title()}.\")"
   ]
  },
  {
   "cell_type": "markdown",
   "id": "6",
   "metadata": {},
   "source": [
    "## Question 3\n",
    "\n",
    "**Famous Quote:** Find a quote from a famous person you admire. Print the quote and the name of its author. Your output should look something like the following, including the quotation marks:\n",
    "\n",
    "```\n",
    "Albert Einstein once said, “A person who never made a mistake never tried anything new.”\n",
    "```"
   ]
  },
  {
   "cell_type": "code",
   "execution_count": 4,
   "id": "7",
   "metadata": {},
   "outputs": [
    {
     "name": "stdout",
     "output_type": "stream",
     "text": [
      "George W. Bush once said, \"No matter how tough it gets, however, I have no intention of becoming a lame duck President — unless, of course, Cheney accidentally shoots me in the leg.\"\n"
     ]
    }
   ],
   "source": [
    "quote = \"No matter how tough it gets, however, I have no intention of becoming a lame duck President — unless, of course, Cheney accidentally shoots me in the leg.\"\n",
    "famous = \"George W. Bush\"\n",
    "print(f\"{famous} once said, \\\"{quote}\\\"\")"
   ]
  },
  {
   "cell_type": "markdown",
   "id": "8",
   "metadata": {},
   "source": [
    "## Question 4\n",
    "\n",
    "**Stripping Names:** Use a variable to represent a person’s name, and include some whitespace characters at the beginning and end of the name. Make sure you use each character combination, \"\\t\" and \"\\n\", at least once.\n",
    "Print the name once, so the whitespace around the name is displayed. Then print the name using each of the three stripping functions, lstrip(), rstrip(), and strip()."
   ]
  },
  {
   "cell_type": "code",
   "execution_count": 5,
   "id": "9",
   "metadata": {},
   "outputs": [
    {
     "name": "stdout",
     "output_type": "stream",
     "text": [
      "      \tStanley Yelnats\n",
      "Torfungus Junior\n",
      "      \tStanley Yelnats\n",
      "Torfungus Junior\n",
      "      \tStanley Yelnats\n",
      "Torfungus Junior\n",
      "Stanley Yelnats\n",
      "Torfungus Junior\n"
     ]
    }
   ],
   "source": [
    "name = \"      \\tStanley Yelnats\\nTorfungus Junior\"\n",
    "print(name)\n",
    "print(name.rstrip())\n",
    "print(name.rstrip())\n",
    "print(name.strip())"
   ]
  },
  {
   "cell_type": "markdown",
   "id": "10",
   "metadata": {},
   "source": [
    "## Question 5\n",
    "\n",
    "**Names:** Store the names of a few of your friends in a list called names. Print\n",
    "each person’s name by accessing each element in the list, one at a time."
   ]
  },
  {
   "cell_type": "code",
   "execution_count": 6,
   "id": "11",
   "metadata": {},
   "outputs": [
    {
     "name": "stdout",
     "output_type": "stream",
     "text": [
      "Stanley Yelnats has been evaluated.\n",
      "Torfungus Junior has been evaluated.\n",
      "Hector Zeroni has been evaluated.\n",
      "Magnet has been evaluated.\n",
      "X-Ray has been evaluated.\n",
      "Armpit has been evaluated.\n",
      "Squid has been evaluated.\n",
      "Zigzag has been evaluated.\n",
      "Barfbag has been evaluated.\n",
      "Twitch has been evaluated.\n"
     ]
    }
   ],
   "source": [
    "names = ['Stanley Yelnats', 'Torfungus Junior', 'Hector Zeroni', 'Magnet', 'X-Ray', 'Armpit', 'Squid', 'Zigzag', 'Barfbag', 'Twitch']\n",
    "for name in names:\n",
    "    print(f\"{name} has been evaluated.\")"
   ]
  },
  {
   "cell_type": "markdown",
   "id": "12",
   "metadata": {},
   "source": [
    "## Question 6\n",
    "\n",
    "**Your Own List:** Think of your favorite mode of transportation, such as a motorcycle or a car, and make a list that stores several examples. Use your list to print a series of statements about these items, such as “I would like to own a Honda motorcycle.”"
   ]
  },
  {
   "cell_type": "code",
   "execution_count": 7,
   "id": "13",
   "metadata": {},
   "outputs": [
    {
     "name": "stdout",
     "output_type": "stream",
     "text": [
      "I would throw down heck of stacks of currency for a mountain bike.\n",
      "I would throw down heck of stacks of currency for a electric bike.\n",
      "I would throw down heck of stacks of currency for a medium sized truck.\n",
      "I would throw down heck of stacks of currency for a sail boat.\n",
      "I would throw down heck of stacks of currency for a mule.\n",
      "I would throw down heck of stacks of currency for a pterodactyl.\n"
     ]
    }
   ],
   "source": [
    "mobility = ['mountain bike', 'electric bike', 'medium sized truck', 'sail boat', 'mule', 'pterodactyl']\n",
    "for i in mobility:\n",
    "    print(f\"I would throw down heck of stacks of currency for a {i}.\")"
   ]
  },
  {
   "cell_type": "markdown",
   "id": "14",
   "metadata": {},
   "source": [
    "## Question 7\n",
    "\n",
    "**Pizzas:** Think of at least three kinds of your favorite pizza. Store these pizza names in a list, and then use a for loop to print the name of each pizza.\n",
    "\n",
    "Modify your for loop to print a sentence using the name of the pizza instead of printing just the name of the pizza. For each pizza you should have one line of output containing a simple statement like _I like pepperoni pizza._"
   ]
  },
  {
   "cell_type": "code",
   "execution_count": 8,
   "id": "15",
   "metadata": {},
   "outputs": [
    {
     "name": "stdout",
     "output_type": "stream",
     "text": [
      "I like better pepperoni pizza.\n",
      "I like sausage pizza.\n",
      "I like better mushroom pizza.\n",
      "I like better onion pizza.\n",
      "I like better green pepper pizza.\n",
      "I like black olive pizza.\n",
      "I like pineapple pizza.\n",
      "I like better anchovy pizza.\n",
      "I like quintuple cheese pizza.\n"
     ]
    }
   ],
   "source": [
    "pizza = ['pepperoni', 'sausage', 'mushroom', 'onion', 'green pepper', 'black olive', 'pineapple', 'anchovy', 'quintuple cheese']\n",
    "for i in pizza:\n",
    "    if i.endswith('e'):\n",
    "        print(f\"I like {i} pizza.\")\n",
    "    else:\n",
    "        print(f\"I like better {i} pizza.\")"
   ]
  },
  {
   "cell_type": "markdown",
   "id": "16",
   "metadata": {},
   "source": [
    "Add a line at the end of your program, outside the for loop, that states how much you like pizza. The output should consist of three or more lines about the kinds of pizza you like and then an additional sentence, such as _I really love pizza!_"
   ]
  },
  {
   "cell_type": "code",
   "execution_count": 9,
   "id": "17",
   "metadata": {},
   "outputs": [
    {
     "name": "stdout",
     "output_type": "stream",
     "text": [
      "I like better pepperoni pizza.\n",
      "I like sausage pizza.\n",
      "I like better mushroom pizza.\n",
      "I like better onion pizza.\n",
      "I like better green pepper pizza.\n",
      "I like black olive pizza.\n",
      "I like pineapple pizza.\n",
      "I like better anchovy pizza.\n",
      "I like quintuple cheese pizza.\n",
      "\n",
      "Pizza is more important then my sibling's birthdays.\n"
     ]
    }
   ],
   "source": [
    "pizza = ['pepperoni', 'sausage', 'mushroom', 'onion', 'green pepper', 'black olive', 'pineapple', 'anchovy', 'quintuple cheese']\n",
    "for i in pizza:\n",
    "    if i.endswith('e'):\n",
    "        print(f\"I like {i} pizza.\")\n",
    "    else:\n",
    "        print(f\"I like better {i} pizza.\")\n",
    "print(\"\\nPizza is more important than my sibling's birthdays.\")\n"
   ]
  },
  {
   "cell_type": "markdown",
   "id": "18",
   "metadata": {},
   "source": [
    "## Question 8\n",
    "\n",
    "**Animals:** Think of at least three different animals that have a common characteristic. Store the names of these animals in a list, and then use a for loop to print out the name of each animal.\n",
    "\n",
    "Modify your program to print a statement about each animal, such as _A dog would make a great pet._"
   ]
  },
  {
   "cell_type": "code",
   "execution_count": 10,
   "id": "19",
   "metadata": {},
   "outputs": [
    {
     "name": "stdout",
     "output_type": "stream",
     "text": [
      "A Lion is a formidable beast.\n",
      "Holy crap a Tiger\n",
      "A Bear is a formidable beast.\n",
      "There must be something we don't know about a Tiger Fish\n",
      "A Sasquatch is a formidable beast.\n",
      "A Yeti is a formidable beast.\n"
     ]
    }
   ],
   "source": [
    "Beasts = [\"lion\", \"tiger\", \"bear\", \"tiger fish\", \"sasquatch\", \"yeti\"]\n",
    "for i in Beasts:\n",
    "    if i == \"tiger\":\n",
    "        print(f\"Holy crap a {i.title()}\")\n",
    "    elif i == \"tiger fish\":\n",
    "        print(f\"There must be something we don't know about a {i.title()}\")\n",
    "    else:\n",
    "        print(f\"A {i.title()} is a formidable beast.\")"
   ]
  },
  {
   "cell_type": "markdown",
   "id": "20",
   "metadata": {},
   "source": [
    "Add a line at the end of your program stating what these animals have in common. You could print a sentence such as _Any of these animals would make a great pet!_"
   ]
  },
  {
   "cell_type": "code",
   "execution_count": 11,
   "id": "21",
   "metadata": {},
   "outputs": [
    {
     "name": "stdout",
     "output_type": "stream",
     "text": [
      "A Lion is a formidable beast.\n",
      "Holy crap a Tiger\n",
      "A Bear is a formidable beast.\n",
      "There must be something we don't know about a Tiger Fish\n",
      "A Sasquatch is a formidable beast.\n",
      "A Yeti is a formidable beast.\n",
      "\n",
      "All of these beasts could take a big bite out of your leg.\n"
     ]
    }
   ],
   "source": [
    "Beasts = [\"lion\", \"tiger\", \"bear\", \"tiger fish\", \"sasquatch\", \"yeti\"]\n",
    "for i in Beasts:\n",
    "    if i == \"tiger\":\n",
    "        print(f\"Holy crap a {i.title()}\")\n",
    "    elif i == \"tiger fish\":\n",
    "        print(f\"There must be something we don't know about a {i.title()}\")\n",
    "    else:\n",
    "        print(f\"A {i.title()} is a formidable beast.\")\n",
    "\n",
    "print(\"\\nAll of these beasts could take a big bite out of your leg.\")"
   ]
  },
  {
   "cell_type": "markdown",
   "id": "22",
   "metadata": {},
   "source": [
    "## Question 9\n",
    "\n",
    "**Summing a Hundred:** Make a list of the numbers from one to one hundred, and then use `min()` and `max()` to make sure your list actually starts at one and ends at one hundred. Also, use the sum() function to see how quickly Python can add a hundred numbers."
   ]
  },
  {
   "cell_type": "code",
   "execution_count": 12,
   "id": "23",
   "metadata": {},
   "outputs": [
    {
     "name": "stdout",
     "output_type": "stream",
     "text": [
      "[1, 2, 3, 4, 5, 6, 7, 8, 9, 10, 11, 12, 13, 14, 15, 16, 17, 18, 19, 20, 21, 22, 23, 24, 25, 26, 27, 28, 29, 30, 31, 32, 33, 34, 35, 36, 37, 38, 39, 40, 41, 42, 43, 44, 45, 46, 47, 48, 49, 50, 51, 52, 53, 54, 55, 56, 57, 58, 59, 60, 61, 62, 63, 64, 65, 66, 67, 68, 69, 70, 71, 72, 73, 74, 75, 76, 77, 78, 79, 80, 81, 82, 83, 84, 85, 86, 87, 88, 89, 90, 91, 92, 93, 94, 95, 96, 97, 98, 99, 100]\n",
      "The min is:  1\n",
      "The max is:  100\n",
      "The sum is:  5050\n",
      "The average is:  50.5\n",
      "The median is:  50.5\n"
     ]
    }
   ],
   "source": [
    "import numpy\n",
    "\n",
    "numbers = []\n",
    "for i in range(1, 101):\n",
    "    numbers.append(i)\n",
    "print(numbers)\n",
    "print(\"The min is: \",min(numbers))\n",
    "print(\"The max is: \",max(numbers))\n",
    "print(\"The sum is: \",sum(numbers))\n",
    "print(\"The average is: \",numpy.mean(numbers))\n",
    "print(\"The median is: \",numpy.median(numbers))\n",
    "\n",
    "\n"
   ]
  },
  {
   "cell_type": "markdown",
   "id": "24",
   "metadata": {},
   "source": [
    "## Question 10\n",
    "\n",
    "**Odd Numbers:** Use the third argument of the `range()` function to make a list of the odd numbers from 1 to 20. Use a `for` loop to print each number."
   ]
  },
  {
   "cell_type": "code",
   "execution_count": 13,
   "id": "25",
   "metadata": {},
   "outputs": [
    {
     "name": "stdout",
     "output_type": "stream",
     "text": [
      "1\n",
      "3\n",
      "5\n",
      "7\n",
      "9\n",
      "11\n",
      "13\n",
      "15\n",
      "17\n",
      "19\n"
     ]
    }
   ],
   "source": [
    "numbers = []\n",
    "for i in range(1, 21, 2):\n",
    "    numbers.append(i)\n",
    "for num in numbers:\n",
    "    print(num)\n"
   ]
  },
  {
   "cell_type": "markdown",
   "id": "26",
   "metadata": {},
   "source": [
    "## Question 11\n",
    "\n",
    "**Threes:** Make a list of the multiples of 3 from 3 to 30. Use a `for` loop to print the numbers in your list."
   ]
  },
  {
   "cell_type": "code",
   "execution_count": 14,
   "id": "27",
   "metadata": {},
   "outputs": [
    {
     "name": "stdout",
     "output_type": "stream",
     "text": [
      "3\n",
      "6\n",
      "9\n",
      "12\n",
      "15\n",
      "18\n",
      "21\n",
      "24\n",
      "27\n",
      "30\n"
     ]
    }
   ],
   "source": [
    "numbers = []\n",
    "for i in range(3, 33, 3):\n",
    "    numbers.append(i)\n",
    "for num in numbers:\n",
    "    print(num)\n"
   ]
  },
  {
   "cell_type": "markdown",
   "id": "28",
   "metadata": {},
   "source": [
    "## Question 12\n",
    "\n",
    "**Cube Comprehension:** Use a list comprehension to generate a list of the first 10 cubes."
   ]
  },
  {
   "cell_type": "code",
   "execution_count": 15,
   "id": "29",
   "metadata": {},
   "outputs": [
    {
     "name": "stdout",
     "output_type": "stream",
     "text": [
      "[1, 8, 27, 64, 125, 216, 343, 512, 729, 1000]\n"
     ]
    }
   ],
   "source": [
    "cubes = [n**3 for n in range(1,11)]\n",
    "print(cubes)"
   ]
  },
  {
   "cell_type": "markdown",
   "id": "30",
   "metadata": {},
   "source": [
    "## Question 13\n",
    "\n",
    "**Slices:** Using one of the programs you wrote in this lab, add several lines to the end of the program that do the following:\n",
    "\n",
    "Print the message _The first three items in the list are:_. Then use a slice to print the first three items from that program’s list."
   ]
  },
  {
   "cell_type": "code",
   "execution_count": 16,
   "id": "31",
   "metadata": {},
   "outputs": [
    {
     "name": "stdout",
     "output_type": "stream",
     "text": [
      "A Lion is a formidable beast.\n",
      "Holy crap a Tiger\n",
      "A Bear is a formidable beast.\n",
      "There must be something we don't know about a Tiger Fish\n",
      "A Sasquatch is a formidable beast.\n",
      "A Yeti is a formidable beast.\n",
      "A My Dog Bohdi is a formidable beast.\n",
      "\n",
      "All of these beasts could take a big bite out of your leg.\n",
      "\n",
      "The first three items in the list are: ['lion', 'tiger', 'bear']\n"
     ]
    }
   ],
   "source": [
    "Beasts = [\"lion\", \"tiger\", \"bear\", \"tiger fish\", \"sasquatch\", \"yeti\",\"My dog Bohdi\"]\n",
    "for i in Beasts:\n",
    "    if i == \"tiger\":\n",
    "        print(f\"Holy crap a {i.title()}\")\n",
    "    elif i == \"tiger fish\":\n",
    "        print(f\"There must be something we don't know about a {i.title()}\")\n",
    "    else:\n",
    "        print(f\"A {i.title()} is a formidable beast.\")\n",
    "\n",
    "print(\"\\nAll of these beasts could take a big bite out of your leg.\")\n",
    "\n",
    "print(\"\\nThe first three items in the list are:\",Beasts[:3])"
   ]
  },
  {
   "cell_type": "markdown",
   "id": "32",
   "metadata": {},
   "source": [
    "Print the message _Three items from the middle of the list are:_. Use a slice to print three items from the middle of the list."
   ]
  },
  {
   "cell_type": "code",
   "execution_count": 17,
   "id": "33",
   "metadata": {},
   "outputs": [
    {
     "name": "stdout",
     "output_type": "stream",
     "text": [
      "A Lion is a formidable beast.\n",
      "Holy crap a Tiger\n",
      "A Bear is a formidable beast.\n",
      "There must be something we don't know about a Tiger Fish\n",
      "A Sasquatch is a formidable beast.\n",
      "A Yeti is a formidable beast.\n",
      "A My Dog Bohdi is a formidable beast.\n",
      "\n",
      "All of these beasts could take a big bite out of your leg.\n",
      "\n",
      "\n",
      "The first three items in the list are: ['lion', 'tiger', 'bear']\n",
      "\n",
      "The middle three items in the list are: ['bear', 'tiger fish', 'sasquatch']\n"
     ]
    }
   ],
   "source": [
    "Beasts = [\"lion\", \"tiger\", \"bear\", \"tiger fish\", \"sasquatch\", \"yeti\", \"My dog Bohdi\"]\n",
    "for i in Beasts:\n",
    "    if i == \"tiger\":\n",
    "        print(f\"Holy crap a {i.title()}\")\n",
    "    elif i == \"tiger fish\":\n",
    "        print(f\"There must be something we don't know about a {i.title()}\")\n",
    "    else:\n",
    "        print(f\"A {i.title()} is a formidable beast.\")\n",
    "\n",
    "print(\"\\nAll of these beasts could take a big bite out of your leg.\")\n",
    "\n",
    "print(\"\\n\\nThe first three items in the list are:\",Beasts[:3])\n",
    "\n",
    "print(\"\\nThe middle three items in the list are:\",Beasts[2:5])"
   ]
  },
  {
   "cell_type": "markdown",
   "id": "34",
   "metadata": {},
   "source": [
    "Print the message _The last three items in the list are:_. Use a slice to print the last three items in the list."
   ]
  },
  {
   "cell_type": "code",
   "execution_count": 18,
   "id": "35",
   "metadata": {},
   "outputs": [
    {
     "name": "stdout",
     "output_type": "stream",
     "text": [
      "A Lion is a formidable beast.\n",
      "Holy crap a Tiger\n",
      "A Bear is a formidable beast.\n",
      "There must be something we don't know about a Tiger Fish\n",
      "A Sasquatch is a formidable beast.\n",
      "A Yeti is a formidable beast.\n",
      "A My Dog Bohdi is a formidable beast.\n",
      "\n",
      "All of these beasts could take a big bite out of your leg.\n",
      "\n",
      "\n",
      "The first three items in the list are: ['lion', 'tiger', 'bear']\n",
      "\n",
      "The middle three items in the list are: ['bear', 'tiger fish', 'sasquatch']\n",
      "\n",
      "The last three items in the list are: ['sasquatch', 'yeti', 'My dog Bohdi']\n"
     ]
    }
   ],
   "source": [
    "Beasts = [\"lion\", \"tiger\", \"bear\", \"tiger fish\", \"sasquatch\", \"yeti\", \"My dog Bohdi\"]\n",
    "for i in Beasts:\n",
    "    if i == \"tiger\":\n",
    "        print(f\"Holy crap a {i.title()}\")\n",
    "    elif i == \"tiger fish\":\n",
    "        print(f\"There must be something we don't know about a {i.title()}\")\n",
    "    else:\n",
    "        print(f\"A {i.title()} is a formidable beast.\")\n",
    "\n",
    "print(\"\\nAll of these beasts could take a big bite out of your leg.\")\n",
    "\n",
    "print(\"\\n\\nThe first three items in the list are:\",Beasts[:3])\n",
    "\n",
    "print(\"\\nThe middle three items in the list are:\",Beasts[2:5])\n",
    "\n",
    "print(\"\\nThe last three items in the list are:\",Beasts[-3:])"
   ]
  },
  {
   "cell_type": "markdown",
   "id": "36",
   "metadata": {},
   "source": [
    "## Question 14\n",
    "\n",
    "**Buffet:** A buffet-style restaurant offers only five basic foods. Think of five simple foods, and store them in a tuple.\n",
    "\n",
    "Use a for loop to print each food the restaurant offers."
   ]
  },
  {
   "cell_type": "code",
   "execution_count": 19,
   "id": "37",
   "metadata": {},
   "outputs": [
    {
     "name": "stdout",
     "output_type": "stream",
     "text": [
      "pizza\n",
      "pasta\n",
      "salad\n",
      "bread\n",
      "soup\n"
     ]
    }
   ],
   "source": [
    "Fuudle = (\"pizza\", \"pasta\", \"salad\", \"bread\", \"soup\")\n",
    "for i in Fuudle:\n",
    "    print(i)\n",
    "    "
   ]
  },
  {
   "cell_type": "markdown",
   "id": "38",
   "metadata": {},
   "source": [
    "The restaurant changes its menu, replacing two of the items with different foods. Add a line that rewrites the tuple, and then use a for loop to print each of the items on the revised menu."
   ]
  },
  {
   "cell_type": "code",
   "execution_count": 20,
   "id": "39",
   "metadata": {},
   "outputs": [
    {
     "name": "stdout",
     "output_type": "stream",
     "text": [
      "('pizza', 'pasta', 'salad', 'bread', 'soup')\n",
      "pizza\n",
      "pasta\n",
      "NO MORE SALAD\n",
      "bread\n",
      "soup\n",
      "ice cream\n"
     ]
    }
   ],
   "source": [
    "Fuudle = (\"pizza\", \"pasta\", \"salad\", \"bread\", \"soup\")\n",
    "print(Fuudle)\n",
    "\n",
    "Fuudle_list = list(Fuudle)\n",
    "Fuudle_list.append(\"ice cream\")\n",
    "Fuudle_list[2] = \"NO MORE SALAD\"\n",
    "\n",
    "Fuudle = tuple(Fuudle_list)\n",
    "for i in Fuudle:\n",
    "    print(i)\n",
    "    "
   ]
  },
  {
   "cell_type": "markdown",
   "id": "40",
   "metadata": {},
   "source": [
    "## Question 15\n",
    "\n",
    "**Alien Colors:** Imagine an alien was just shot down in a game. Create a variable called `alien_color` and assign it a value of `green, yellow,` or `red`.\n",
    "\n",
    "-   Write an if statement to test whether the alien’s color is green. If it is, print a message that the player just earned 5 points.\n",
    "-   Write one version of this program that passes the if test and another that fails. (The version that fails will have no output.)"
   ]
  },
  {
   "cell_type": "code",
   "execution_count": 21,
   "id": "41",
   "metadata": {},
   "outputs": [
    {
     "name": "stdout",
     "output_type": "stream",
     "text": [
      "green\n",
      "You just earned 5 points!\n"
     ]
    }
   ],
   "source": [
    "import random\n",
    "\n",
    "alien_colors = ['green', 'yellow', 'red']\n",
    "alien_color = random.choice(alien_colors)\n",
    "\n",
    "print(alien_color)\n",
    "if alien_color == 'green':\n",
    "    print(\"You just earned 5 points!\")\n",
    "#elif alien_color != 'green':\n",
    " #   print(\"You just earned 10 points!\") \n",
    "else:\n",
    "    pass"
   ]
  },
  {
   "cell_type": "markdown",
   "id": "42",
   "metadata": {},
   "source": [
    "## Question 16\n",
    "\n",
    "**Stages of Life:** Write an `if-elif-else` chain that determines a person’s stage of life. Set a value for the variable `age`, and then:\n",
    "\n",
    "-   If the person is less than 2 years old, print a message that the person is a baby.\n",
    "-   If the person is at least 2 years old but less than 4, print a message that the person is a toddler.\n",
    "-   If the person is at least 4 years old but less than 13, print a message that the person is a kid.\n",
    "-   If the person is at least 13 years old but less than 20, print a message that the person is a teenager.\n",
    "-   If the person is at least 20 years old but less than 65, print a message that the person is an adult."
   ]
  },
  {
   "cell_type": "code",
   "execution_count": 22,
   "id": "43",
   "metadata": {},
   "outputs": [
    {
     "name": "stdout",
     "output_type": "stream",
     "text": [
      "Your are 18 years old.\n",
      "You are a teenager.\n"
     ]
    }
   ],
   "source": [
    "import random\n",
    "\n",
    "age = random.randint(1, 66)   \n",
    "print(f\"Your are {age} years old.\")\n",
    "\n",
    "if age < 2:\n",
    "    print(\"You are a baby.\")\n",
    "elif age >=2 and age < 4:\n",
    "    print(\"You are a toddler.\")\n",
    "elif age >= 4 and age < 13:\n",
    "    print(\"You are a kid.\")\n",
    "elif age >=13 and age < 20:\n",
    "    print(\"You are a teenager.\")\n",
    "elif age >= 20 and age < 65:\n",
    "    print(\"You are an adult.\")\n",
    "else:\n",
    "    print(\"You are an elder.\")  \n",
    "    "
   ]
  },
  {
   "cell_type": "markdown",
   "id": "44",
   "metadata": {},
   "source": [
    "## Question 17\n",
    "\n",
    "**Favorite Fruit:** Make a list of your favorite fruits, and then write a series of independent `if` statements that check for certain fruits in your list.\n",
    "\n",
    "-   Make a list of your three favorite fruits and call it favorite_fruits.\n",
    "-   Write five if statements. Each should check whether a certain kind of fruit is in your list. If the fruit is in your list, the if block should print a statement, such as You really like bananas!"
   ]
  },
  {
   "cell_type": "code",
   "execution_count": 23,
   "id": "45",
   "metadata": {},
   "outputs": [
    {
     "name": "stdout",
     "output_type": "stream",
     "text": [
      "You really like apples!\n",
      "You really like pineapples!\n",
      "wWhat the hell are spruceapples?\n"
     ]
    }
   ],
   "source": [
    "Fruits = ['apple', 'pineapple', 'spruceapple']\n",
    "\n",
    "if 'apple' in Fruits:\n",
    "    print(\"You really like apples!\")\n",
    "if 'pineapple' in Fruits:\n",
    "    print(\"You really like pineapples!\")\n",
    "if 'spruceapple' in Fruits:\n",
    "    print(\"wWhat the hell are spruceapples?\")\n",
    "\n"
   ]
  },
  {
   "cell_type": "markdown",
   "id": "46",
   "metadata": {},
   "source": [
    "## Question 18\n",
    "\n",
    "**Hello Admin:** Make a list of five or more usernames, including the name `admin`. Imagine you are writing code that will print a greeting to each user after they log in to a website. Loop through the list, and print a greeting to each user:\n",
    "\n",
    "-   If the username is 'admin', print a special greeting, such as _Hello admin, would you like to see a status report?_\n",
    "-   Otherwise, print a generic greeting, such as _Hello Jaden, thank you for logging in again_."
   ]
  },
  {
   "cell_type": "code",
   "execution_count": 24,
   "id": "47",
   "metadata": {},
   "outputs": [
    {
     "name": "stdout",
     "output_type": "stream",
     "text": [
      "Hello admin, would you like to see a status report?\n",
      "Hello Lucas, thank you for logging in again.\n",
      "Hello Betterlucas, thank you for logging in again.\n",
      "Hello Jane, thank you for logging in again.\n",
      "Hello Lars, thank you for logging in again.\n"
     ]
    }
   ],
   "source": [
    "usernames = ['admin', 'lucas', 'betterlucas', 'jane', 'lars']\n",
    "\n",
    "for user in usernames:\n",
    "    if user == 'admin':\n",
    "        print(\"Hello admin, would you like to see a status report?\")\n",
    "    else:\n",
    "        print(f\"Hello {user.title()}, thank you for logging in again.\")"
   ]
  },
  {
   "cell_type": "markdown",
   "id": "48",
   "metadata": {},
   "source": [
    "## Question 19\n",
    "\n",
    "**Checking Usernames:** Do the following to create a program that simulates how websites ensure that everyone has a unique username.\n",
    "\n",
    "-   Make a list of five or more usernames called `current_users`.\n",
    "-   Make another list of five usernames called `new_users`. Make sure one or two of the new usernames are also in the `current_users` list.\n",
    "-   Loop through the `new_users` list to see if each new username has already been used. If it has, print a message that the person will need to enter a new username. If a username has not been used, print a message saying that the username is available.\n",
    "-   Make sure your comparison is case insensitive. If 'John' has been used, 'JOHN' should not be accepted. (To do this, you’ll need to make a copy of `current_users` containing the lowercase versions of all existing users.)"
   ]
  },
  {
   "cell_type": "code",
   "execution_count": 25,
   "id": "49",
   "metadata": {},
   "outputs": [
    {
     "name": "stdout",
     "output_type": "stream",
     "text": [
      "Skunk is taken, choose another username.\n",
      "BOHDI is taken, choose another username.\n",
      "mittens is taken, choose another username.\n",
      "Welcome to the Illuminati. We crochet on Wednesdays in the old stone mason hollow under James Madison's unconfirmed third house in Puerto Rico.\n",
      "Welcome to the Illuminati. We crochet on Wednesdays in the old stone mason hollow under James Madison's unconfirmed third house in Puerto Rico.\n",
      "Welcome to the Illuminati. We crochet on Wednesdays in the old stone mason hollow under James Madison's unconfirmed third house in Puerto Rico.\n"
     ]
    }
   ],
   "source": [
    "current_users = ['ADMIN', 'Lucas', 'BetterLucas', 'Jane', 'Lars', 'Rachel', 'Skunk', 'Bohdi', 'Mittens']\n",
    "current_users_lower = [user.lower() for user in current_users]\n",
    "new_users = ['Skunk', 'BOHDI', 'mittens', 'Sam', 'Burrito', 'MONSTERS']\n",
    "\n",
    "for nuser in new_users:\n",
    "    if nuser.lower() in current_users_lower:\n",
    "        print(f\"{nuser} is taken, choose another username.\")\n",
    "    else:\n",
    "        current_users.append(nuser)\n",
    "        print(\"Welcome to the Illuminati. We crochet on Wednesdays in the old stone mason hollow under James Madison's unconfirmed third house in Puerto Rico.\")\n",
    "\n"
   ]
  },
  {
   "cell_type": "markdown",
   "id": "50",
   "metadata": {},
   "source": [
    "## Question 20\n",
    "\n",
    "**Ordinal Numbers:** Ordinal numbers indicate their position in a list, such as _1st_ or _2nd_. Most ordinal numbers end in _th_, except 1, 2, and 3.\n",
    "\n",
    "-   Store the numbers 1 through 9 in a list.\n",
    "-   Loop through the list.\n",
    "-   Use an `if-elif-else` chain inside the loop to print the proper ordinal ending for each number. Your output should read \"1st 2nd 3rd 4th 5th 6th 7th 8th 9th\", and each result should be on a separate line."
   ]
  },
  {
   "cell_type": "code",
   "execution_count": 26,
   "id": "51",
   "metadata": {},
   "outputs": [
    {
     "name": "stdout",
     "output_type": "stream",
     "text": [
      "[1, 2, 3, 4, 5, 6, 7, 8, 9]\n",
      "1st\n",
      "2nd\n",
      "3rd\n",
      "4th\n",
      "5th\n",
      "6th\n",
      "7th\n",
      "8th\n",
      "9th\n"
     ]
    }
   ],
   "source": [
    "num = [num for num in range(1,10)]\n",
    "print(num)\n",
    "\n",
    "for n in num:\n",
    "    if n ==1:\n",
    "        print('1st')\n",
    "    elif n==2:\n",
    "        print('2nd')\n",
    "    elif n == 3:\n",
    "        print('3rd')\n",
    "    else:\n",
    "        print(f'{n}th')\n",
    "\n"
   ]
  }
 ],
 "metadata": {
  "kernelspec": {
   "display_name": "Python 3",
   "language": "python",
   "name": "python3"
  },
  "language_info": {
   "codemirror_mode": {
    "name": "ipython",
    "version": 3
   },
   "file_extension": ".py",
   "mimetype": "text/x-python",
   "name": "python",
   "nbconvert_exporter": "python",
   "pygments_lexer": "ipython3",
   "version": "3.11.7"
  }
 },
 "nbformat": 4,
 "nbformat_minor": 5
}
