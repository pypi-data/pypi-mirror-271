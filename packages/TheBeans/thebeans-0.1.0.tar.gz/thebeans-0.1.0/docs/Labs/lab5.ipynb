{
 "cells": [
  {
   "cell_type": "markdown",
   "id": "0",
   "metadata": {},
   "source": [
    "# Lab 5\n",
    "\n",
    "[![image](https://colab.research.google.com/assets/colab-badge.svg)](https://colab.research.google.com/github/phillipslucas/TheBeans/blob/main/docs/Labs/lab5.ipynb)\n",
    "\n",
    "## Submission instructions\n",
    "\n",
    "1. Download the notebook from https://geohey.gishub.org/labs/lab5\n",
    "2. Complete the lab questions\n",
    "3. Restart Kernel and Run All Cells\n",
    "4. Upload the notebook to your GitHub repository\n",
    "5. Make sure the notebook has an `Open In Colab` badge. Click on the badge to make sure your notebook can be opened in Colab.\n",
    "6. Submit the link to the notebook on your GitHub repository to Canvas"
   ]
  },
  {
   "cell_type": "markdown",
   "id": "1",
   "metadata": {},
   "source": [
    "## Question 1\n",
    "\n",
    "**Person:** Use a dictionary to store information about a person you know. Store their first name, last name, age, and the city in which they live. You should have keys such as first_name, last_name, age, and city. Print each piece of information stored in your dictionary."
   ]
  },
  {
   "cell_type": "code",
   "execution_count": 35,
   "id": "2",
   "metadata": {},
   "outputs": [
    {
     "name": "stdout",
     "output_type": "stream",
     "text": [
      "Larry\n",
      "David\n",
      "76\n",
      "Los Angeles\n",
      "{'first_name': 'Larry', 'last_name': 'David', 'age': 76, 'city': 'Los Angeles'}\n"
     ]
    }
   ],
   "source": [
    "Larry = {\"first_name\": \"Larry\", \"last_name\": \"David\", \"age\": 76, \"city\": \"Los Angeles\"}\n",
    "print(Larry[\"first_name\"])\n",
    "print(Larry[\"last_name\"])\n",
    "print(Larry[\"age\"])\n",
    "print(Larry[\"city\"])\n",
    "print(Larry)"
   ]
  },
  {
   "cell_type": "markdown",
   "id": "3",
   "metadata": {},
   "source": [
    "## Question 2\n",
    "\n",
    "**Favorite Numbers:** Use a dictionary to store people’s favorite numbers. Think of five names, and use them as keys in your dictionary. Think of a favorite number for each person, and store each as a value in your dictionary. Print each person’s name and their favorite number. For even more fun, poll a few friends and get some actual data for your program."
   ]
  },
  {
   "cell_type": "code",
   "execution_count": 36,
   "id": "4",
   "metadata": {},
   "outputs": [
    {
     "name": "stdout",
     "output_type": "stream",
     "text": [
      "Max: 1\n",
      "Sergio: 11\n",
      "Charles: 16\n",
      "Lando: 4\n",
      "Daniel: 3\n",
      "Carlos: 55\n",
      "Sebastian: 5\n",
      "Lance: 18\n",
      "Kimi: 7\n",
      "Antonio: 99\n",
      "Pierre: 10\n",
      "Romain: 8\n",
      "Kevin: 20\n",
      "Nicholas: 6\n",
      "George: 63\n",
      "Alexander: 23\n",
      "Valtteri: 77\n",
      "Lewis: 44\n",
      "Esteban: 31\n",
      "Nico: 6\n"
     ]
    }
   ],
   "source": [
    "F1numbers = {\"Max\": 1, \"Sergio\": 11, \"Charles\": 16, \"Lando\": 4, \"Daniel\": 3, \"Carlos\": 55, \"Sebastian\": 5, \"Lance\": 18, \"Kimi\": 7, \"Antonio\": 99, \"Pierre\": 10, \"Romain\": 8, \"Kevin\": 20, \"Nicholas\": 6, \"George\": 63, \"Alexander\": 23, \"Valtteri\": 77, \"Lewis\": 44, \"Esteban\": 31, \"Nico\": 6}\n",
    "for key, value in F1numbers.items():\n",
    "    print(f\"{key}: {value}\")"
   ]
  },
  {
   "cell_type": "markdown",
   "id": "5",
   "metadata": {},
   "source": [
    "## Question 3\n",
    "\n",
    "**Glossary:** A Python dictionary can be used to model an actual dictionary. However, to avoid confusion, let’s call it a glossary.\n",
    "\n",
    "- Think of five programming words you’ve learned about in the previous chapters. Use these words as the keys in your glossary, and store their meanings as values.\n",
    "- Print each word and its meaning as neatly formatted output. You might print the word followed by a colon and then its meaning, or print the word on one line and then print its meaning indented on a second line. Use the newline character (\\n) to insert a blank line between each word-meaning pair in your output."
   ]
  },
  {
   "cell_type": "code",
   "execution_count": 37,
   "id": "6",
   "metadata": {},
   "outputs": [
    {
     "name": "stdout",
     "output_type": "stream",
     "text": [
      "List: A collection of items in a particular order\n",
      "Tuple: An immutable list\n",
      "Dictionary: A collection of key-value pairs\n",
      "function: A block of code that can be run multiple times\n",
      "class: A blueprint for creating objects\n"
     ]
    }
   ],
   "source": [
    "Glossary = {\"List\": \"A collection of items in a particular order\", \"Tuple\": \"An immutable list\", \"Dictionary\": \"A collection of key-value pairs\", \"function\": \"A block of code that can be run multiple times\", \"class\": \"A blueprint for creating objects\"}\n",
    "for key, value in Glossary.items():\n",
    "    print(f\"{key}: {value}\")\n"
   ]
  },
  {
   "cell_type": "markdown",
   "id": "7",
   "metadata": {},
   "source": [
    "## Question 4\n",
    "\n",
    "**Glossary 2:** Now that you know how to loop through a dictionary, clean up the code from Question 3 by replacing your series of print() calls with a loop that runs through the dictionary’s keys and values. When you’re sure that your loop works, add five more Python terms to your glossary. When you run your program again, these new words and meanings should automatically be included in the output."
   ]
  },
  {
   "cell_type": "code",
   "execution_count": 38,
   "id": "8",
   "metadata": {},
   "outputs": [
    {
     "name": "stdout",
     "output_type": "stream",
     "text": [
      "List: A collection of items in a particular order\n",
      "Tuple: An immutable list\n",
      "Dictionary: A collection of key-value pairs\n",
      "function: A block of code that can be run multiple times\n",
      "class: A blueprint for creating objects\n",
      "\n",
      "\n",
      "List: A collection of items in a particular order\n",
      "Tuple: An immutable list\n",
      "Dictionary: A collection of key-value pairs\n",
      "function: A block of code that can be run multiple times\n",
      "class: A blueprint for creating objects\n",
      "annotation: A label associated with a variable\n",
      "variable: A placeholder for a piece of data\n",
      "loop: A block of code that runs multiple times\n"
     ]
    }
   ],
   "source": [
    "Glossary = {\"List\": \"A collection of items in a particular order\", \"Tuple\": \"An immutable list\", \"Dictionary\": \"A collection of key-value pairs\", \"function\": \"A block of code that can be run multiple times\", \"class\": \"A blueprint for creating objects\"}\n",
    "for key, value in Glossary.items():\n",
    "    print(f\"{key}: {value}\")\n",
    "\n",
    "Glossary[\"annotation\"] = \"A label associated with a variable\"\n",
    "Glossary[\"variable\"] = \"A placeholder for a piece of data\"\n",
    "Glossary[\"loop\"] = \"A block of code that runs multiple times\"\n",
    "\n",
    "print(\"\\n\")\n",
    "for key, value in Glossary.items():\n",
    "    print(f\"{key}: {value}\")\n"
   ]
  },
  {
   "cell_type": "markdown",
   "id": "9",
   "metadata": {},
   "source": [
    "## Question 5\n",
    "\n",
    "**Rivers:** Make a dictionary containing three major rivers and the country each river runs through. One key-value pair might be 'nile': 'egypt'.\n",
    "\n",
    "- Use a loop to print a sentence about each river, such as _The Nile runs through Egypt._\n",
    "- Use a loop to print the name of each river included in the dictionary.\n",
    "- Use a loop to print the name of each country included in the dictionary."
   ]
  },
  {
   "cell_type": "code",
   "execution_count": 39,
   "id": "10",
   "metadata": {},
   "outputs": [
    {
     "name": "stdout",
     "output_type": "stream",
     "text": [
      "The Rio Baker runs through Chile.\n",
      "The Rio Pasqua runs through Chile.\n",
      "The Rio Bravo runs through Chile.\n",
      "I just watched a whitewater kayaking film based in Chile\n"
     ]
    }
   ],
   "source": [
    "Rio = {\"Rio Baker\": \"Chile\", \"Rio Pasqua\": \"Chile\", \"Rio Bravo\": \"Chile\"}\n",
    "for river, country in Rio.items():\n",
    "    print(f\"The {river} runs through {country}.\")\n",
    "print(\"I just watched a whitewater kayaking film based in Chile\")"
   ]
  },
  {
   "cell_type": "markdown",
   "id": "11",
   "metadata": {},
   "source": [
    "## Question 6\n",
    "\n",
    "**Cities:** Make a dictionary called `cities`. Use the names of three cities as keys in your dictionary. Create a dictionary of information about each city and include the country that the city is in, its approximate population, and one fact about that city. The keys for each city’s dictionary should be something like `country`, `population`, and `fact`. Print the name of each city and all of the information you have stored about it."
   ]
  },
  {
   "cell_type": "code",
   "execution_count": 40,
   "id": "12",
   "metadata": {},
   "outputs": [
    {
     "name": "stdout",
     "output_type": "stream",
     "text": [
      "\n",
      "Santiago is in Chile.\n",
      "The population of Santiago is 7000000.\n",
      "The capital of Chile.\n",
      "\n",
      "Buenos Aires is in Argentina.\n",
      "The population of Buenos Aires is 15000000.\n",
      "The capital of Argentina.\n",
      "\n",
      "Lima is in Peru.\n",
      "The population of Lima is 10000000.\n",
      "The capital of Peru.\n"
     ]
    }
   ],
   "source": [
    "cities = {\n",
    "    \"Santiago\": {\n",
    "        \"country\": \"Chile\", \n",
    "        \"population\": 7_000_000, \n",
    "        \"fact\": \"The capital of Chile\"\n",
    "        }, \n",
    "    \"Buenos Aires\": {\n",
    "        \"country\": \"Argentina\", \n",
    "        \"population\": 15_000_000, \n",
    "        \"fact\": \"The capital of Argentina\"\n",
    "        }, \n",
    "        \"Lima\": {\n",
    "            \"country\": \"Peru\", \n",
    "            \"population\": 10_000_000, \n",
    "            \"fact\": \"The capital of Peru\"\n",
    "        },\n",
    "}\n",
    "\n",
    "for city, city_info in cities.items():\n",
    "    print(f\"\\n{city} is in {city_info['country']}.\")\n",
    "    print(f\"The population of {city} is {city_info['population']}.\")\n",
    "    print(f\"{city_info['fact']}.\")"
   ]
  },
  {
   "cell_type": "markdown",
   "id": "13",
   "metadata": {},
   "source": [
    "## Question 7\n",
    "\n",
    "**Rental Car:** Write a program that asks the user what kind of rental car they would like. Print a message about that car, such as “Let me see if I can find you a Subaru.”"
   ]
  },
  {
   "cell_type": "code",
   "execution_count": 41,
   "id": "14",
   "metadata": {},
   "outputs": [
    {
     "name": "stdout",
     "output_type": "stream",
     "text": [
      "Let me see if I can find you a Subaru.\n"
     ]
    }
   ],
   "source": [
    "RentalCar = input(\"What kind of rental car would you like? \")\n",
    "print(f\"Let me see if I can find you a {RentalCar}.\")\n"
   ]
  },
  {
   "cell_type": "markdown",
   "id": "15",
   "metadata": {},
   "source": [
    "## Question 8\n",
    "\n",
    "**Restaurant Seating:** Write a program that asks the user how many people are in their dinner group. If the answer is more than eight, print a message saying they’ll have to wait for a table. Otherwise, report that their table is ready."
   ]
  },
  {
   "cell_type": "code",
   "execution_count": 42,
   "id": "16",
   "metadata": {},
   "outputs": [
    {
     "name": "stdout",
     "output_type": "stream",
     "text": [
      "Sorry there is a 4 year wait.\n"
     ]
    }
   ],
   "source": [
    "top = input(\"How many are we seating tonight?\")\n",
    "heads = int(top)\n",
    "if heads > 8:\n",
    "    print(\"Sorry there is a 4 year wait.\")\n",
    "else:\n",
    "    print(\"We are ready to seat you.\")\n"
   ]
  },
  {
   "cell_type": "markdown",
   "id": "17",
   "metadata": {},
   "source": [
    "## Question 9\n",
    "\n",
    "**Multiples of Ten:** Ask the user for a number, and then report whether the number is a multiple of 10 or not."
   ]
  },
  {
   "cell_type": "code",
   "execution_count": 43,
   "id": "18",
   "metadata": {},
   "outputs": [
    {
     "name": "stdout",
     "output_type": "stream",
     "text": [
      "That number is a multiple of 10.\n"
     ]
    }
   ],
   "source": [
    "num = input(\"Give me a number:\")\n",
    "num = int(num)\n",
    "if num % 10 == 0:\n",
    "    print(\"That number is a multiple of 10.\")"
   ]
  },
  {
   "cell_type": "markdown",
   "id": "19",
   "metadata": {},
   "source": [
    "## Question 10\n",
    "\n",
    "**Pizza Toppings:** Write a loop that prompts the user to enter a series of pizza toppings until they enter a 'quit' value. As they enter each topping, print a message saying you’ll add that topping to their pizza."
   ]
  },
  {
   "cell_type": "code",
   "execution_count": 44,
   "id": "20",
   "metadata": {},
   "outputs": [
    {
     "name": "stdout",
     "output_type": "stream",
     "text": [
      "We will add Garlic to your pizza.\n",
      "We will add Pepperoni to your pizza.\n",
      "We will add Cheese to your pizza.\n",
      "We will add Whole Hamburgers to your pizza.\n",
      "We will add French Fries to your pizza.\n",
      "We will add Sausage to your pizza.\n",
      "We will add Vacuum Debris to your pizza.\n"
     ]
    }
   ],
   "source": [
    "toppings = []\n",
    "\n",
    "def pizzatop():\n",
    "    while True:\n",
    "        top = input(\"What do you want on your pizza? (Enter 'quit' to exit)\")\n",
    "        if top.lower() == \"quit\":\n",
    "            break\n",
    "        toppings.append(top)\n",
    "    messages = [f\"We will add {topping} to your pizza.\" for topping in toppings]\n",
    "    for message in messages:\n",
    "        print(message) \n",
    "pizzatop()"
   ]
  },
  {
   "cell_type": "markdown",
   "id": "21",
   "metadata": {},
   "source": [
    "## Question 11\n",
    "\n",
    "**Message:** Write a function called `display_message()` that prints one sentence telling everyone what you are learning about in this chapter. Call the function, and make sure the message displays correctly."
   ]
  },
  {
   "cell_type": "code",
   "execution_count": 45,
   "id": "22",
   "metadata": {},
   "outputs": [
    {
     "name": "stdout",
     "output_type": "stream",
     "text": [
      "We are learning about functions.\n",
      "We are learning about dictionaries.\n",
      "We are learning about user input.\n",
      "we are learning how to link them all together.\n"
     ]
    }
   ],
   "source": [
    "learnings = []\n",
    "\n",
    "def display_message():\n",
    "    while True:\n",
    "        message = input(\"What are you learning about this chapter? (Enter 'quit' to exit)\")\n",
    "        if message.lower() == \"quit\":\n",
    "            break\n",
    "        learnings.append(message)\n",
    "    messages = [f\"{message}.\" for message in learnings]\n",
    "    for message in messages:\n",
    "        print(message)\n",
    "\n",
    "display_message()"
   ]
  },
  {
   "cell_type": "markdown",
   "id": "23",
   "metadata": {},
   "source": [
    "## Question 12\n",
    "\n",
    "**Favorite Book:** Write a function called `favorite_book()` that accepts one parameter, title. The function should print a message, such as `One of my favorite books is Alice in Wonderland`. Call the function, making sure to include a book title as an argument in the function call."
   ]
  },
  {
   "cell_type": "code",
   "execution_count": 46,
   "id": "24",
   "metadata": {},
   "outputs": [
    {
     "name": "stdout",
     "output_type": "stream",
     "text": [
      "One of my favorite books is The Hail Mary Project.\n"
     ]
    }
   ],
   "source": [
    "def favorite_book(title):\n",
    "    print(f\"One of my favorite books is {title}.\")\n",
    "\n",
    "\n",
    "favorite_book(\"The Hail Mary Project\")\n"
   ]
  },
  {
   "cell_type": "markdown",
   "id": "25",
   "metadata": {},
   "source": [
    "## Question 13\n",
    "\n",
    "**T-Shirt:** Write a function called `make_shirt()` that accepts a size and the text of a message that should be printed on the shirt. The function should print a sentence summarizing the size of the shirt and the message printed on it.\n",
    "\n",
    "Call the function once using positional arguments to make a shirt. Call the function a second time using keyword arguments."
   ]
  },
  {
   "cell_type": "code",
   "execution_count": 47,
   "id": "26",
   "metadata": {},
   "outputs": [
    {
     "name": "stdout",
     "output_type": "stream",
     "text": [
      "We will make you a large shirt with the message Sneighks.\n",
      "We will make you a Lorge shirt with the message Sneighks.\n"
     ]
    }
   ],
   "source": [
    "def make_shirt(size, message):\n",
    "    print(f\"We will make you a {size} shirt with the message {message}.\")\n",
    "\n",
    "make_shirt('large', 'Sneighks')\n",
    "\n",
    "make_shirt(message = \"Sneighks\", size = \"Lorge\")"
   ]
  },
  {
   "cell_type": "markdown",
   "id": "27",
   "metadata": {},
   "source": [
    "## Question 14\n",
    "\n",
    "**Large Shirts:** Modify the `make_shirt()` function so that shirts are large by default with a message that reads _I love Python_. Make a large shirt and a medium shirt with the default message, and a shirt of any size with a different message."
   ]
  },
  {
   "cell_type": "code",
   "execution_count": 48,
   "id": "28",
   "metadata": {},
   "outputs": [
    {
     "name": "stdout",
     "output_type": "stream",
     "text": [
      "We will make you a large shirt with the message Sneighks.\n",
      "We will make you a Lorge shirt with the message Sneighks.\n",
      "We will make you a medium shirt with the message I forgot to enter a message.\n"
     ]
    }
   ],
   "source": [
    "def make_shirt(size= \"medium\", message = \"I forgot to enter a message\"):\n",
    "    print(f\"We will make you a {size} shirt with the message {message}.\")\n",
    "\n",
    "make_shirt('large', 'Sneighks')\n",
    "\n",
    "make_shirt(message = \"Sneighks\", size = \"Lorge\")\n",
    "\n",
    "make_shirt()"
   ]
  },
  {
   "cell_type": "markdown",
   "id": "29",
   "metadata": {},
   "source": [
    "## Question 15\n",
    "\n",
    "**Cities:** Write a function called `describe_city()` that accepts the name of a city and its country. The function should print a simple sentence, such as `Reykjavik is in Iceland`. Give the parameter for the country a default value. Call your function for three different cities, at least one of which is not in the default country."
   ]
  },
  {
   "cell_type": "code",
   "execution_count": 49,
   "id": "30",
   "metadata": {},
   "outputs": [
    {
     "name": "stdout",
     "output_type": "stream",
     "text": [
      "Mexico City is likely in Mexico but don't ask me because I'm not a geographer.\n",
      "Rio is likely in Brasil but don't ask me because I'm not a geographer.\n",
      "Rekjavik is likely in Ireland but don't ask me because I'm not a geographer.\n"
     ]
    }
   ],
   "source": [
    "def describe_city(city = \"Rekjavik\", country = \"Ireland\"):\n",
    "    print(f\"{city} is likely in {country} but don't ask me because I'm not a geographer.\")\n",
    "\n",
    "describe_city('Mexico City', 'Mexico')\n",
    "describe_city('Rio', 'Brasil')\n",
    "describe_city()"
   ]
  },
  {
   "cell_type": "markdown",
   "id": "31",
   "metadata": {},
   "source": [
    "## Question 16\n",
    "\n",
    "**City Names:** Write a function called `city_country()` that takes in the name of a city and its country. The function should return a string formatted like this:\n",
    "\n",
    "```text\n",
    "Santiago, Chile\n",
    "```\n",
    "\n",
    "Call your function with at least three city-country pairs, and print the values that are returned."
   ]
  },
  {
   "cell_type": "code",
   "execution_count": 50,
   "id": "32",
   "metadata": {},
   "outputs": [
    {
     "name": "stdout",
     "output_type": "stream",
     "text": [
      "Seattle, USA\n",
      "Moscow, Russia\n",
      "Texas, Murica\n"
     ]
    }
   ],
   "source": [
    "def city_country(city=None, country=None):\n",
    "    if city is None:\n",
    "        city = input(\"What's your city?\")\n",
    "    if country is None:\n",
    "        country = input(\"What's it's country?\")\n",
    "    print(f\"{city}, {country}\")\n",
    "\n",
    "city_country()\n",
    "city_country('Moscow', 'Russia')\n",
    "city_country(city = 'Texas', country = 'Murica')"
   ]
  },
  {
   "cell_type": "markdown",
   "id": "33",
   "metadata": {},
   "source": [
    "## Question 17\n",
    "\n",
    "**Album:** Write a function called `make_album()` that builds a dictionary describing a music album. The function should take in an artist name and an album title, and it should return a dictionary containing these two pieces of information. Use the function to make three dictionaries representing different albums. Print each return value to show that the dictionaries are storing the album information correctly.\n",
    "\n",
    "Use None to add an optional parameter to make_album() that allows you to store the number of songs on an album. If the calling line includes a value for the number of songs, add that value to the album’s dictionary. Make at least one new function call that includes the number of songs on an album."
   ]
  },
  {
   "cell_type": "code",
   "execution_count": 51,
   "id": "34",
   "metadata": {},
   "outputs": [
    {
     "name": "stdout",
     "output_type": "stream",
     "text": [
      "{'artist': 'Foals', 'title': 'Antidotes', 'tracks': 10}\n",
      "{'artist': 'The Beach Boys', 'title': 'Pet Sounds'}\n",
      "{'artist': 'The Beatles', 'title': 'The White Album', 'tracks': 30}\n"
     ]
    }
   ],
   "source": [
    "def make_album(artist, title, tracks = None):\n",
    "    album = {'artist': artist, 'title': title}\n",
    "    if tracks:\n",
    "        album['tracks'] = tracks\n",
    "    return album\n",
    "\n",
    "print(make_album(\"Foals\", \"Antidotes\", 10))\n",
    "print(make_album(\"The Beach Boys\", \"Pet Sounds\"))\n",
    "print(make_album(\"The Beatles\", \"The White Album\", 30))"
   ]
  },
  {
   "cell_type": "markdown",
   "id": "35",
   "metadata": {},
   "source": [
    "## Question 18\n",
    "\n",
    "**User Albums:** Start with your program from Question 17. Write a `while` loop that allows users to enter an album’s artist and title. Once you have that information, call `make_album()` with the user’s input and print the dictionary that’s created. Be sure to include a quit value in the `while` loop."
   ]
  },
  {
   "cell_type": "code",
   "execution_count": 52,
   "id": "36",
   "metadata": {},
   "outputs": [
    {
     "name": "stdout",
     "output_type": "stream",
     "text": [
      "Foals has an album called Total Life Forever.\n",
      "Empire of the Sun has an album called Standing on the Shore.\n",
      "MGMT has an album called Oracle Spectacular.\n",
      "{'Foals': 'Total Life Forever', 'Empire of the Sun': 'Standing on the Shore', 'MGMT': 'Oracle Spectacular'}\n"
     ]
    }
   ],
   "source": [
    "def make_album():\n",
    "    library = {}\n",
    "    while True:\n",
    "        artist = input(\"What is the artist's name? (Enter 'quit' to exit)\")\n",
    "        if artist.lower() == \"quit\":\n",
    "            break\n",
    "        album = input(\"What is the album's name? (Enter 'quit' to exit)\")\n",
    "        if album.lower() == \"quit\":\n",
    "            break\n",
    "        library[artist] = album\n",
    "        print(f\"{artist} has an album called {album}.\")\n",
    "    print(library)\n",
    "\n",
    "make_album()"
   ]
  },
  {
   "cell_type": "markdown",
   "id": "37",
   "metadata": {},
   "source": [
    "## Question 19\n",
    "\n",
    "**Messages:** Make a list containing a series of short text messages. Pass the list to a function called `show_messages()`, which prints each text message."
   ]
  },
  {
   "cell_type": "code",
   "execution_count": 53,
   "id": "38",
   "metadata": {},
   "outputs": [
    {
     "name": "stdout",
     "output_type": "stream",
     "text": [
      "I am from the future.\n",
      "I am from the past.\n",
      "I am from yesterday but angrier.\n"
     ]
    }
   ],
   "source": [
    "messages = [\"I am from the future.\", \"I am from the past.\", \"I am from yesterday but angrier.\"]\n",
    "\n",
    "def show_messages(messages):\n",
    "    for message in messages:\n",
    "        print(message)\n",
    "\n",
    "show_messages(messages)"
   ]
  },
  {
   "cell_type": "markdown",
   "id": "39",
   "metadata": {},
   "source": [
    "## Question 20\n",
    "\n",
    "**Sending Messages:** Start with a copy of your program from Question 19. Write a function called `send_messages()` that prints each text message and moves each message to a new list called `sent_messages` as it’s printed. After calling the function, print both of your lists to make sure the messages were moved correctly."
   ]
  },
  {
   "cell_type": "code",
   "execution_count": 54,
   "id": "40",
   "metadata": {},
   "outputs": [
    {
     "name": "stdout",
     "output_type": "stream",
     "text": [
      "I am from the future.\n",
      "I am from the past.\n",
      "I am from yesterday but angrier.\n",
      "['I am from the future.', 'I am from the past.', 'I am from yesterday but angrier.']\n",
      "['I am from the future.', 'I am from the past.', 'I am from yesterday but angrier.']\n"
     ]
    }
   ],
   "source": [
    "messages = [\"I am from the future.\", \"I am from the past.\", \"I am from yesterday but angrier.\"]\n",
    "sent_messages = []\n",
    "\n",
    "def send_messages(messages):\n",
    "    for message in messages:\n",
    "        sent_messages.append(message)\n",
    "        print(message)\n",
    "\n",
    "send_messages(messages)\n",
    "\n",
    "print(sent_messages)\n",
    "print(messages)"
   ]
  },
  {
   "cell_type": "markdown",
   "id": "41",
   "metadata": {},
   "source": [
    "## Question 21\n",
    "\n",
    "**Learning Python:** Open a blank file in your text editor and write a few lines summarizing what you’ve learned about Python so far. Start each line with the phrase _In Python you can. . .._ Save the file as _learning_python.txt_ in the same directory as your exercises from this chapter. Write a program that reads the file and prints what you wrote three times. Print the contents once by reading in the entire file, once by looping over the file object, and once by storing the lines in a list and then working with them outside the _with_ block."
   ]
  },
  {
   "cell_type": "code",
   "execution_count": 55,
   "id": "42",
   "metadata": {},
   "outputs": [
    {
     "name": "stdout",
     "output_type": "stream",
     "text": [
      "In Python you can read files and run processing on them for complex visualizations.\n",
      "In Python you can as for user input and store the data for later use.\n",
      "In Python you can make jokes about snakes.\n",
      "In Python you can build functions to carry out processes.\n"
     ]
    }
   ],
   "source": [
    "with open('learning_python.txt', 'r') as file:\n",
    "    contents = file.read()\n",
    "    print(contents)\n"
   ]
  },
  {
   "cell_type": "markdown",
   "id": "43",
   "metadata": {},
   "source": [
    "## Question 22\n",
    "\n",
    "**Learning C:** You can use the replace() method to replace any word in a string with a different word. Here’s a quick example showing how to replace 'dog' with 'cat' in a sentence:\n",
    "\n",
    "```text\n",
    "message = \"I really like dogs.\"\n",
    "message.replace('dog', 'cat')\n",
    "'I really like cats.'\n",
    "```\n",
    "\n",
    "Read in each line from the file you just created, _learning_python.txt_, and replace the word _Python_ with the name of another language, such as _C_. Print each modified line to the screen."
   ]
  },
  {
   "cell_type": "code",
   "execution_count": 56,
   "id": "44",
   "metadata": {},
   "outputs": [
    {
     "name": "stdout",
     "output_type": "stream",
     "text": [
      "In C you can read files and run processing on them for complex visualizations.\n",
      "In C you can as for user input and store the data for later use.\n",
      "In C you can make jokes about snakes.\n",
      "In C you can build functions to carry out processes."
     ]
    }
   ],
   "source": [
    "with open('learning_python.txt', 'r') as file:\n",
    "    for line in file:\n",
    "        line = line.replace('Python', 'C')\n",
    "        print(line, end = '')\n",
    "        \n"
   ]
  },
  {
   "cell_type": "markdown",
   "id": "45",
   "metadata": {},
   "source": [
    "## Question 23\n",
    "\n",
    "**Guest:** Write a program that prompts the user for their name. When they respond, write their name to a file called guest.txt."
   ]
  },
  {
   "cell_type": "code",
   "execution_count": 57,
   "id": "46",
   "metadata": {},
   "outputs": [
    {
     "data": {
      "text/plain": [
       "'Skunk'"
      ]
     },
     "execution_count": 57,
     "metadata": {},
     "output_type": "execute_result"
    }
   ],
   "source": [
    "def write_name():\n",
    "    name = input(\"What is your name?\")\n",
    "    with open('name.txt', 'w') as file:\n",
    "        file.write(name)\n",
    "    \n",
    "    with open('name.txt', 'r') as file:\n",
    "        contents = file.read()\n",
    "    \n",
    "    return contents\n",
    "\n",
    "write_name()"
   ]
  },
  {
   "cell_type": "markdown",
   "id": "47",
   "metadata": {},
   "source": [
    "## Question 24\n",
    "\n",
    "**Guest Book:** Write a while loop that prompts users for their name. When they enter their name, print a greeting to the screen and add a line recording their visit in a file called guest_book.txt. Make sure each entry appears on a new line in the file."
   ]
  },
  {
   "cell_type": "code",
   "execution_count": 58,
   "id": "48",
   "metadata": {},
   "outputs": [
    {
     "name": "stdout",
     "output_type": "stream",
     "text": [
      "Hello Lucas! Welcome to the paaaartay!\n",
      "Hello Lucas! Welcome to the paaaartay!\n",
      "Hello Lucas again! Welcome to the paaaartay!\n",
      "Hello Still Lucas! Welcome to the paaaartay!\n",
      "Hello I should change this prompt Lucas! Welcome to the paaaartay!\n",
      "Lucas\n",
      "Lucas\n",
      "Lucas again\n",
      "Still Lucas\n",
      "I should change this prompt Lucas\n",
      "\n"
     ]
    }
   ],
   "source": [
    "while True:\n",
    "    name = input(\"What is your name? ('quit' to exit)\")\n",
    "    if name.lower() == \"quit\":\n",
    "        break\n",
    "    else:\n",
    "        print(f\"Hello {name}! Welcome to the paaaartay!\")\n",
    "        with open('guestbook.txt', 'a') as file:\n",
    "                  file.write(f\"{name}\\n\")\n",
    "\n",
    "with open('guestbook.txt', 'r') as file:\n",
    "    contents = file.read()\n",
    "    print(contents)"
   ]
  },
  {
   "cell_type": "markdown",
   "id": "49",
   "metadata": {},
   "source": [
    "## Question 25\n",
    "\n",
    "**Programming Poll:** Write a while loop that asks people why they like programming. Each time someone enters a reason, add their reason to a file that stores all the responses."
   ]
  },
  {
   "cell_type": "code",
   "execution_count": 59,
   "id": "50",
   "metadata": {},
   "outputs": [
    {
     "name": "stdout",
     "output_type": "stream",
     "text": [
      "I like the flexibility and visualizations\n",
      "\n"
     ]
    }
   ],
   "source": [
    "while True:\n",
    "    why = input(\"What do you like about programming?('quit' to exit)\")\n",
    "    if why.lower()=='quit':\n",
    "        break\n",
    "    else:\n",
    "        with open('reasons.txt', 'a') as file:\n",
    "            file.write(f\"{why}\\n\")\n",
    "\n",
    "with open(\"reasons.txt\", \"r\") as file:\n",
    "    contents = file.read()\n",
    "    print(contents)\n"
   ]
  },
  {
   "cell_type": "markdown",
   "id": "51",
   "metadata": {},
   "source": [
    "## Question 26\n",
    "\n",
    "**Addition:** One common problem when prompting for numerical input occurs when people provide text instead of numbers. When you try to convert the input to an int, you’ll get a ValueError. Write a program that prompts for two numbers. Add them together and print the result. Catch the ValueError if either input value is not a number, and print a friendly error message. Test your program by entering two numbers and then by entering some text instead of a number."
   ]
  },
  {
   "cell_type": "code",
   "execution_count": 60,
   "id": "52",
   "metadata": {},
   "outputs": [
    {
     "name": "stdout",
     "output_type": "stream",
     "text": [
      "I SAID GIVE ME A NUMBER NOT SOMETHING THAT ISN'T A NUMBER.. kindly.\n"
     ]
    }
   ],
   "source": [
    "def ask_num():\n",
    "    try:\n",
    "        num1 = int(input(\"Give me a number.\"))\n",
    "        num2 = int(input(\"Give me another number.\"))\n",
    "        total = num1 + num2\n",
    "        print(f\"Total: {total}\")\n",
    "    \n",
    "    except ValueError:\n",
    "        print(\"I SAID GIVE ME A NUMBER NOT SOMETHING THAT ISN'T A NUMBER.. kindly.\")\n",
    "\n",
    "ask_num()\n"
   ]
  },
  {
   "cell_type": "markdown",
   "id": "53",
   "metadata": {},
   "source": [
    "## Question 27\n",
    "\n",
    "**Addition Calculator:** Wrap your code from Question 26 in a while loop so the user can continue entering numbers even if they make a mistake and enter text instead of a number."
   ]
  },
  {
   "cell_type": "code",
   "execution_count": 61,
   "id": "54",
   "metadata": {},
   "outputs": [
    {
     "name": "stdout",
     "output_type": "stream",
     "text": [
      "Total: 27\n"
     ]
    }
   ],
   "source": [
    "def ask_num():\n",
    "    while True:\n",
    "        try:\n",
    "            num1 = int(input(\"Give me a number.\"))\n",
    "            num2 = int(input(\"Give me another number.\"))\n",
    "            total = num1 + num2\n",
    "            print(f\"Total: {total}\")\n",
    "            break\n",
    "        \n",
    "        except ValueError:\n",
    "            print(\"I SAID GIVE ME A NUMBER not a not number... kindly.\")\n",
    "       \n",
    "ask_num()\n"
   ]
  },
  {
   "cell_type": "markdown",
   "id": "55",
   "metadata": {},
   "source": [
    "## Question 28\n",
    "\n",
    "**Cats and Dogs:** Make two files, _cats.txt_ and _dogs.txt_. Store at least three names of cats in the first file and three names of dogs in the second file. Write a program that tries to read these files and print the contents of the file to the screen. Wrap your code in a `try-except` block to catch the `FileNotFound` error, and print a friendly message if a file is missing. Move one of the files to a different location on your system, and make sure the code in the `except` block executes properly."
   ]
  },
  {
   "cell_type": "code",
   "execution_count": 62,
   "id": "56",
   "metadata": {},
   "outputs": [
    {
     "name": "stdout",
     "output_type": "stream",
     "text": [
      "Reading file: _dogs_.txt\n",
      "Skunk\n",
      "Bohdi\n",
      "Odessa\n",
      "\n",
      "Reading file: _cats_.txt\n",
      "Rocco\n",
      "Basil\n",
      "Raptor\n",
      "Rocco\n",
      "Basil\n",
      "Peanut\n",
      "\n"
     ]
    }
   ],
   "source": [
    "def cats_dogs():\n",
    "    while True:\n",
    "        dogs = input(\"What dogs do you know?('quit' to exit)\")\n",
    "        if dogs.lower()=='quit':\n",
    "            break\n",
    "        else:\n",
    "            with open('_dogs_.txt', 'a') as file:\n",
    "                file.write(f\"{dogs}\\n\")\n",
    "\n",
    "    while True:            \n",
    "        cats = input(\"What cats do you know?('quit' to exit)\")\n",
    "        if cats.lower()=='quit':\n",
    "            break\n",
    "        else:\n",
    "            with open('_cats_.txt', 'a') as file:\n",
    "                file.write(f\"{cats}\\n\")\n",
    "\n",
    "    files = ['_dogs_.txt', '_cats_.txt']\n",
    "    for i in files:\n",
    "        try:\n",
    "            with open(i, 'r') as f:\n",
    "                print(f\"Reading file: {i}\")\n",
    "                print(f.read())\n",
    "        except FileNotFoundError:\n",
    "            print(f\"Bruh I cannot find {i}. It might not exist.\")\n",
    "\n",
    "cats_dogs()"
   ]
  },
  {
   "cell_type": "markdown",
   "id": "57",
   "metadata": {},
   "source": [
    "## Question 29\n",
    "\n",
    "**Silent Cats and Dogs:** Modify your except block in Question 28 to fail silently if either file is missing."
   ]
  },
  {
   "cell_type": "code",
   "execution_count": 63,
   "id": "58",
   "metadata": {},
   "outputs": [
    {
     "name": "stdout",
     "output_type": "stream",
     "text": [
      "Reading file: _dogs_.txt\n",
      "Skunk\n",
      "Bohdi\n",
      "Odessa\n",
      "\n",
      "Reading file: _cats_.txt\n",
      "Rocco\n",
      "Basil\n",
      "Raptor\n",
      "Rocco\n",
      "Basil\n",
      "Peanut\n",
      "\n"
     ]
    }
   ],
   "source": [
    "def cats_dogs():\n",
    "    while True:\n",
    "        dogs = input(\"What dogs do you know?('quit' to exit)\")\n",
    "        if dogs.lower()=='quit':\n",
    "            break\n",
    "        else:\n",
    "            with open('_dogs_.txt', 'a') as file:\n",
    "                file.write(f\"{dogs}\\n\")\n",
    "\n",
    "    while True:            \n",
    "        cats = input(\"What cats do you know?('quit' to exit)\")\n",
    "        if cats.lower()=='quit':\n",
    "            break\n",
    "        else:\n",
    "            with open('_cats_.txt', 'a') as file:\n",
    "                file.write(f\"{cats}\\n\")\n",
    "\n",
    "    files = ['_dogs_.txt', '_cats_.txt']\n",
    "    for i in files:\n",
    "        try:\n",
    "            with open(i, 'r') as f:\n",
    "                print(f\"Reading file: {i}\")\n",
    "                print(f.read())\n",
    "        except FileNotFoundError:\n",
    "            pass\n",
    "\n",
    "cats_dogs()"
   ]
  },
  {
   "cell_type": "markdown",
   "id": "59",
   "metadata": {},
   "source": [
    "## Question 30\n",
    "\n",
    "**Common Words:** Visit Project Gutenberg (<https://gutenberg.org/>) and find a few texts you’d like to analyze. Download the text files for these works, or copy the raw text from your browser into a text file on your computer. You can use the `count()` method to find out how many times a word or phrase appears in a string. For example, the following code counts the number of times 'row' appears in a string:"
   ]
  },
  {
   "cell_type": "code",
   "execution_count": 64,
   "id": "60",
   "metadata": {},
   "outputs": [
    {
     "data": {
      "text/plain": [
       "2"
      ]
     },
     "execution_count": 64,
     "metadata": {},
     "output_type": "execute_result"
    }
   ],
   "source": [
    "line = \"Row, row, row your boat\"\n",
    "line.count(\"row\")"
   ]
  },
  {
   "cell_type": "code",
   "execution_count": 65,
   "id": "61",
   "metadata": {},
   "outputs": [
    {
     "data": {
      "text/plain": [
       "3"
      ]
     },
     "execution_count": 65,
     "metadata": {},
     "output_type": "execute_result"
    }
   ],
   "source": [
    "line.lower().count(\"row\")"
   ]
  },
  {
   "cell_type": "markdown",
   "id": "62",
   "metadata": {},
   "source": [
    "Notice that converting the string to lowercase using lower() catches all appearances of the word you’re looking for, regardless of how it’s formatted.\n",
    "\n",
    "Write a program that reads the files you found at Project Gutenberg and determines how many times the word `the` appears in each text. This will be an approximation because it will also count words such as `then` and `there`. Try counting `the`, with a space in the string, and see how much lower your count is."
   ]
  },
  {
   "cell_type": "code",
   "execution_count": 67,
   "id": "63",
   "metadata": {},
   "outputs": [
    {
     "name": "stdout",
     "output_type": "stream",
     "text": [
      "The word: the, appears 19060 times in MobyDick.txt \n",
      "The word: the, appears 20139 times in MobyDick.txt \n",
      "The word: the , appears 13317 times in MobyDick.txt \n",
      "The word: the, appears 10706 times in TaleOfTwoCities.txt \n",
      "The word: the, appears 11695 times in TaleOfTwoCities.txt \n",
      "The word: the , appears 7543 times in TaleOfTwoCities.txt \n"
     ]
    }
   ],
   "source": [
    "# I had to remove both the .txt files from my Labs because Codespell found too many errors and failed (error 65) with them in the repo.\n",
    "# I ran the code, deleted the files, and committed the changes so if this runs again it'll run the exception.\n",
    "\n",
    "\n",
    "textfiles = [\"MobyDick.txt\", \"TaleOfTwoCities.txt\"]\n",
    "\n",
    "def count_the():\n",
    "    for file in textfiles:\n",
    "        try:\n",
    "            with open(file, 'r') as f:\n",
    "                contents = f.read()\n",
    "        except FileNotFoundError:\n",
    "            print(f\"Sorry, the {file} has not been found.\")\n",
    "            continue\n",
    "\n",
    "        word1 = \"the\"    \n",
    "        count = contents.count(word1)\n",
    "        print(f\"The word: {word1}, appears {count} times in {file} \")\n",
    "        \n",
    "        word2 = \"the\"    \n",
    "        count = contents.lower().count(word2)\n",
    "        print(f\"The word: {word2}, appears {count} times in {file} \")\n",
    "\n",
    "        word3 = \"the \"    \n",
    "        count = contents.lower().count(word3)\n",
    "        print(f\"The word: {word3}, appears {count} times in {file} \")\n",
    "        \n",
    "count_the()\n"
   ]
  }
 ],
 "metadata": {
  "kernelspec": {
   "display_name": "Python 3",
   "language": "python",
   "name": "python3"
  },
  "language_info": {
   "codemirror_mode": {
    "name": "ipython",
    "version": 3
   },
   "file_extension": ".py",
   "mimetype": "text/x-python",
   "name": "python",
   "nbconvert_exporter": "python",
   "pygments_lexer": "ipython3",
   "version": "3.11.8"
  }
 },
 "nbformat": 4,
 "nbformat_minor": 5
}
