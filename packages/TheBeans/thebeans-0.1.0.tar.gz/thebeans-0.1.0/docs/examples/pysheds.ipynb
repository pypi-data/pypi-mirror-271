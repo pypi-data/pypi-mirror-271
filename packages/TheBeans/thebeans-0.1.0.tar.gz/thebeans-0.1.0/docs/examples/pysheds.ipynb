{
 "cells": [
  {
   "cell_type": "markdown",
   "metadata": {},
   "source": [
    "[![image](https://colab.research.google.com/assets/colab-badge.svg)](https://colab.research.google.com/github/phillipslucas/TheBeans/blob/main/docs/examples/pysheds.ipynb)"
   ]
  },
  {
   "cell_type": "code",
   "execution_count": null,
   "metadata": {},
   "outputs": [],
   "source": [
    "import numpy as np\n",
    "import pandas as pd\n",
    "from pysheds.grid import Grid\n",
    "import geopandas as gpd\n",
    "from shapely import geometry, ops\n",
    "import matplotlib.pyplot as plt\n",
    "import matplotlib.colors as colors\n",
    "import seaborn as sns\n",
    "import rasterio\n",
    "\n",
    "%matplotlib inline\n",
    "\n",
    "import warnings\n",
    "warnings.filterwarnings('ignore')\n",
    "sns.set_palette('husl')\n",
    "\n",
    "\n",
    "# 1m nodata blank\n",
    "# 10m nodata blank\n",
    "# 30m nodata -999999"
   ]
  },
  {
   "cell_type": "code",
   "execution_count": null,
   "metadata": {},
   "outputs": [],
   "source": []
  },
  {
   "cell_type": "code",
   "execution_count": null,
   "metadata": {},
   "outputs": [],
   "source": [
    "grid = Grid.from_raster(r\"C:\\Users\\phill\\Desktop\\GEOG424\\rasters\\USGS_30m.tif\", data_name='dem', no_data = -999999)\n",
    "dem = grid.read_raster(r\"C:\\Users\\phill\\Desktop\\GEOG424\\rasters\\USGS_30m.tif\")\n",
    "#data type dictates nodata value, if no assigned no data value no data is 0, assign nodata value or get errors\n",
    "\n",
    "#check dtype\n",
    "dem.dtype"
   ]
  },
  {
   "cell_type": "code",
   "execution_count": null,
   "metadata": {},
   "outputs": [],
   "source": [
    "fig, ax = plt.subplots(figsize=(8,8))\n",
    "plt.imshow(grid.view(dem), extent=grid.extent, cmap='terrain', zorder=1)\n",
    "plt.colorbar(label='Elevation (m)')\n",
    "plt.title('Digital elevation map')\n",
    "plt.xlabel('Longitude')\n",
    "plt.ylabel('Latitude')"
   ]
  },
  {
   "cell_type": "code",
   "execution_count": null,
   "metadata": {},
   "outputs": [],
   "source": [
    "#Surface conditioning, fills pits, fills depressions, resolves flats (pit, flood, inflate)\n",
    "\n",
    "#not empty, just sparse\n",
    "pits_detect = grid.detect_pits(dem)\n",
    "\n",
    "\n",
    "#fill fits, check for pits, error if pits\n",
    "fillpit = grid.fill_pits(dem)\n",
    "pits_detect = grid.detect_pits(fillpit)\n",
    "assert not pits_detect.any()\n",
    "\n",
    "\n",
    "#dep_detect shows depressions in areas expected\n",
    "filldepp = grid.fill_depressions(fillpit)\n",
    "dep_detect = grid.detect_depressions(filldepp)\n",
    "assert not dep_detect.any()\n",
    "\n",
    "#Fill flats. Assert throwing error, likely flats in data\n",
    "noflats = grid.resolve_flats(filldepp, eps=1e-12, max_iter=1e9) #eps and max_iter too small for large flats\n",
    "flats_detect = grid.detect_flats(noflats)\n",
    "# assert not flats_detect.any()\n",
    "\n",
    "\n"
   ]
  },
  {
   "cell_type": "code",
   "execution_count": null,
   "metadata": {},
   "outputs": [],
   "source": [
    "# fig, ax = plt.subplots(figsize=(8,8))\n",
    "# ax.imshow(dep_detect, cmap='cubehelix', zorder=1)\n",
    "# ax.set_yticklabels([])\n",
    "# ax.set_xticklabels([])\n",
    "# plt.title('Depressions', size=14)"
   ]
  },
  {
   "cell_type": "code",
   "execution_count": null,
   "metadata": {},
   "outputs": [],
   "source": [
    "dirmap = (64, 128, 1, 2, 4, 8, 16, 32)\n",
    "\n",
    "#flow direction D8\n",
    "fdir = grid.flowdir(noflats, dirmap=dirmap)\n",
    "\n",
    "#flow accumulation\n",
    "acc = grid.accumulation(fdir)\n",
    "\n"
   ]
  },
  {
   "cell_type": "code",
   "execution_count": null,
   "metadata": {},
   "outputs": [],
   "source": [
    "fig = plt.figure(figsize=(8,6))\n",
    "fig.patch.set_alpha(0)\n",
    "\n",
    "plt.imshow(fdir, extent=grid.extent, cmap='viridis', zorder=2)\n",
    "boundaries = ([0] + sorted(list(dirmap)))\n",
    "plt.colorbar(boundaries= boundaries,\n",
    "             values=sorted(dirmap))\n",
    "plt.xlabel('Longitude')\n",
    "plt.ylabel('Latitude')\n",
    "plt.title('Flow direction grid', size=14)\n",
    "plt.grid(zorder=-1)\n",
    "plt.tight_layout()"
   ]
  },
  {
   "cell_type": "code",
   "execution_count": null,
   "metadata": {},
   "outputs": [],
   "source": [
    "fig, ax = plt.subplots(figsize=(8,6))\n",
    "fig.patch.set_alpha(0)\n",
    "im = ax.imshow(acc, zorder=2,\n",
    "               cmap='cubehelix',\n",
    "               norm=colors.LogNorm(1, acc.max()),\n",
    "               interpolation='bilinear')\n",
    "plt.colorbar(im, ax=ax, label='Upstream Cells')\n",
    "plt.title('Flow Accumulation', size=14)\n",
    "plt.tight_layout()"
   ]
  },
  {
   "cell_type": "code",
   "execution_count": null,
   "metadata": {},
   "outputs": [],
   "source": [
    "#pour point\n",
    "x, y = -119.912764, 48.049753\n",
    "\n",
    "# Snap pour point to high accumulation cell\n",
    "x_snap, y_snap = grid.snap_to_mask(acc > 10000, (x, y))\n",
    "\n",
    "catch = grid.catchment(x=x_snap, y=y_snap, fdir=fdir, dirmap=dirmap)"
   ]
  },
  {
   "cell_type": "code",
   "execution_count": null,
   "metadata": {},
   "outputs": [],
   "source": [
    "catch_view = grid.view(catch)"
   ]
  },
  {
   "cell_type": "code",
   "execution_count": null,
   "metadata": {},
   "outputs": [],
   "source": [
    "fig, ax = plt.subplots(figsize=(8,6))\n",
    "fig.patch.set_alpha(0)\n",
    "\n",
    "plt.grid('on', zorder=0)\n",
    "im = ax.imshow(np.where(catch_view, catch_view, np.nan), extent=grid.extent,\n",
    "               zorder=1, cmap='Greys_r')\n",
    "plt.xlabel('Longitude')\n",
    "plt.ylabel('Latitude')\n",
    "plt.title('Delineated Catchment', size=14)\n"
   ]
  }
 ],
 "metadata": {
  "kernelspec": {
   "display_name": "base",
   "language": "python",
   "name": "python3"
  },
  "language_info": {
   "codemirror_mode": {
    "name": "ipython",
    "version": 3
   },
   "file_extension": ".py",
   "mimetype": "text/x-python",
   "name": "python",
   "nbconvert_exporter": "python",
   "pygments_lexer": "ipython3",
   "version": "3.11.8"
  }
 },
 "nbformat": 4,
 "nbformat_minor": 2
}
