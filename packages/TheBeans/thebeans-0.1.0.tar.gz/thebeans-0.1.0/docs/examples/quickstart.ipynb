{
 "cells": [
  {
   "cell_type": "markdown",
   "metadata": {},
   "source": [
    "[![image](https://colab.research.google.com/assets/colab-badge.svg)](https://colab.research.google.com/github/phillipslucas/TheBeans/blob/main/docs/examples/quickstart.ipynb)"
   ]
  },
  {
   "cell_type": "code",
   "execution_count": null,
   "metadata": {},
   "outputs": [],
   "source": [
    "#Import thebeans and initiate a map object.\n",
    "\n",
    "import thebeans\n",
    "\n",
    "m = thebeans.Map()\n",
    "\n",
    "m"
   ]
  },
  {
   "cell_type": "code",
   "execution_count": null,
   "metadata": {},
   "outputs": [],
   "source": [
    "#Checkout toolbar and map widget navigation aids.\n",
    "\n",
    "m.add_toolbar() \n",
    "m.add_latlong_widget()"
   ]
  },
  {
   "cell_type": "code",
   "execution_count": null,
   "metadata": {},
   "outputs": [],
   "source": [
    "#Explore map functionality tools\n",
    "\n",
    "m.add_opacity_slider(position= \"topleft\")\n",
    "m.add_zoom_slider()\n",
    "m.add_basemap(\"Esri.WorldImagery\")"
   ]
  },
  {
   "cell_type": "code",
   "execution_count": null,
   "metadata": {},
   "outputs": [],
   "source": [
    "#Add rasters and images to the map through the map object.\n",
    "\n",
    "#m.add_raster(\"https://github.com/phillipslucas/databeans/releases/download/v0.0.1/cub30int.tif\")\n",
    "# m.add_image()\n",
    "# m.add_tile_layer()\n",
    "\n",
    "m"
   ]
  },
  {
   "cell_type": "code",
   "execution_count": null,
   "metadata": {},
   "outputs": [],
   "source": [
    "#Add vectors to the map through the map object.\n",
    "\n",
    "# m.add_vector(\"https://github.com/phillipslucas/databeans/releases/download/v0.0.1/StudyBox.geojson\")#mmmmmmmmaybe doesn't add shapefiles yet.\n",
    "# m.add_shp()#mmmmaybe doesn't work yet.\n",
    "# m.add_geojson()\n"
   ]
  },
  {
   "cell_type": "code",
   "execution_count": 1,
   "metadata": {},
   "outputs": [
    {
     "ename": "TypeError",
     "evalue": "`nodata` value not representable in dtype of array.",
     "output_type": "error",
     "traceback": [
      "\u001b[1;31m---------------------------------------------------------------------------\u001b[0m",
      "\u001b[1;31mAssertionError\u001b[0m                            Traceback (most recent call last)",
      "File \u001b[1;32mc:\\Users\\phill\\miniconda3\\envs\\geo\\Lib\\site-packages\\pysheds\\sview.py:85\u001b[0m, in \u001b[0;36mRaster.__new__\u001b[1;34m(cls, input_array, viewfinder, metadata)\u001b[0m\n\u001b[0;32m     84\u001b[0m \u001b[38;5;28;01mtry\u001b[39;00m:\n\u001b[1;32m---> 85\u001b[0m     \u001b[38;5;28;01massert\u001b[39;00m np\u001b[38;5;241m.\u001b[39mmin_scalar_type(viewfinder\u001b[38;5;241m.\u001b[39mnodata) \u001b[38;5;241m<\u001b[39m\u001b[38;5;241m=\u001b[39m obj\u001b[38;5;241m.\u001b[39mdtype\n\u001b[0;32m     86\u001b[0m \u001b[38;5;28;01mexcept\u001b[39;00m:\n",
      "\u001b[1;31mAssertionError\u001b[0m: ",
      "\nDuring handling of the above exception, another exception occurred:\n",
      "\u001b[1;31mTypeError\u001b[0m                                 Traceback (most recent call last)",
      "Cell \u001b[1;32mIn[1], line 10\u001b[0m\n\u001b[0;32m      8\u001b[0m m\n\u001b[0;32m      9\u001b[0m \u001b[38;5;66;03m# hydroras = m.add_raster(\"https://github.com/phillipslucas/databeans/releases/download/v0.0.1/cub30int.tif\")\u001b[39;00m\n\u001b[1;32m---> 10\u001b[0m \u001b[43mm\u001b[49m\u001b[38;5;241;43m.\u001b[39;49m\u001b[43madd_casual_hydrologic_network\u001b[49m\u001b[43m(\u001b[49m\u001b[38;5;124;43m\"\u001b[39;49m\u001b[38;5;124;43mhttps://github.com/phillipslucas/databeans/releases/download/v0.0.1/cub10int.tif\u001b[39;49m\u001b[38;5;124;43m\"\u001b[39;49m\u001b[43m)\u001b[49m\n",
      "File \u001b[1;32m~\\Documents\\Repositories\\TheBeans\\thebeans\\thebeans.py:568\u001b[0m, in \u001b[0;36mMap.add_casual_hydrologic_network\u001b[1;34m(self, url, **kwargs)\u001b[0m\n\u001b[0;32m    565\u001b[0m \u001b[38;5;28;01mwith\u001b[39;00m \u001b[38;5;28mopen\u001b[39m(rasname, \u001b[38;5;124m'\u001b[39m\u001b[38;5;124mwb\u001b[39m\u001b[38;5;124m'\u001b[39m) \u001b[38;5;28;01mas\u001b[39;00m f:\n\u001b[0;32m    566\u001b[0m     f\u001b[38;5;241m.\u001b[39mwrite(response\u001b[38;5;241m.\u001b[39mcontent)\n\u001b[1;32m--> 568\u001b[0m grid \u001b[38;5;241m=\u001b[39m \u001b[43mGrid\u001b[49m\u001b[38;5;241;43m.\u001b[39;49m\u001b[43mfrom_raster\u001b[49m\u001b[43m(\u001b[49m\u001b[43mrasname\u001b[49m\u001b[43m,\u001b[49m\u001b[43m \u001b[49m\u001b[43mdata_name\u001b[49m\u001b[38;5;241;43m=\u001b[39;49m\u001b[38;5;124;43m\"\u001b[39;49m\u001b[38;5;124;43mdem\u001b[39;49m\u001b[38;5;124;43m\"\u001b[39;49m\u001b[43m)\u001b[49m\n\u001b[0;32m    569\u001b[0m dem \u001b[38;5;241m=\u001b[39m grid\u001b[38;5;241m.\u001b[39mread_raster(rasname)\n\u001b[0;32m    571\u001b[0m \u001b[38;5;66;03m# response = requests.get(data_url)\u001b[39;00m\n\u001b[0;32m    572\u001b[0m \u001b[38;5;66;03m# with tempfile.NamedTemporaryFile(delete=False, suffix=\".tif\") as tmp:\u001b[39;00m\n\u001b[0;32m    573\u001b[0m \u001b[38;5;66;03m#     tmp.write(response.content)\u001b[39;00m\n\u001b[1;32m   (...)\u001b[0m\n\u001b[0;32m    577\u001b[0m \n\u001b[0;32m    578\u001b[0m \u001b[38;5;66;03m#Surface Conditioning\u001b[39;00m\n",
      "File \u001b[1;32mc:\\Users\\phill\\miniconda3\\envs\\geo\\Lib\\site-packages\\pysheds\\sgrid.py:419\u001b[0m, in \u001b[0;36msGrid.from_raster\u001b[1;34m(cls, data, **kwargs)\u001b[0m\n\u001b[0;32m    417\u001b[0m     \u001b[38;5;28;01mreturn\u001b[39;00m newinstance\n\u001b[0;32m    418\u001b[0m \u001b[38;5;28;01melif\u001b[39;00m \u001b[38;5;28misinstance\u001b[39m(data, \u001b[38;5;28mstr\u001b[39m):\n\u001b[1;32m--> 419\u001b[0m     data \u001b[38;5;241m=\u001b[39m \u001b[43mnewinstance\u001b[49m\u001b[38;5;241;43m.\u001b[39;49m\u001b[43mread_raster\u001b[49m\u001b[43m(\u001b[49m\u001b[43mdata\u001b[49m\u001b[43m,\u001b[49m\u001b[43m \u001b[49m\u001b[38;5;241;43m*\u001b[39;49m\u001b[38;5;241;43m*\u001b[39;49m\u001b[43mkwargs\u001b[49m\u001b[43m)\u001b[49m\n\u001b[0;32m    420\u001b[0m     newinstance\u001b[38;5;241m.\u001b[39mviewfinder \u001b[38;5;241m=\u001b[39m data\u001b[38;5;241m.\u001b[39mviewfinder\n\u001b[0;32m    421\u001b[0m     \u001b[38;5;28;01mreturn\u001b[39;00m newinstance\n",
      "File \u001b[1;32mc:\\Users\\phill\\miniconda3\\envs\\geo\\Lib\\site-packages\\pysheds\\sgrid.py:256\u001b[0m, in \u001b[0;36msGrid.read_raster\u001b[1;34m(self, data, band, window, window_crs, metadata, mask_geometry, **kwargs)\u001b[0m\n\u001b[0;32m    224\u001b[0m \u001b[38;5;28;01mdef\u001b[39;00m \u001b[38;5;21mread_raster\u001b[39m(\u001b[38;5;28mself\u001b[39m, data, band\u001b[38;5;241m=\u001b[39m\u001b[38;5;241m1\u001b[39m, window\u001b[38;5;241m=\u001b[39m\u001b[38;5;28;01mNone\u001b[39;00m, window_crs\u001b[38;5;241m=\u001b[39m\u001b[38;5;28;01mNone\u001b[39;00m,\n\u001b[0;32m    225\u001b[0m                 metadata\u001b[38;5;241m=\u001b[39m{}, mask_geometry\u001b[38;5;241m=\u001b[39m\u001b[38;5;28;01mFalse\u001b[39;00m, \u001b[38;5;241m*\u001b[39m\u001b[38;5;241m*\u001b[39mkwargs):\n\u001b[0;32m    226\u001b[0m \u001b[38;5;250m    \u001b[39m\u001b[38;5;124;03m\"\"\"\u001b[39;00m\n\u001b[0;32m    227\u001b[0m \u001b[38;5;124;03m    Reads data from a raster file and returns a Raster object.\u001b[39;00m\n\u001b[0;32m    228\u001b[0m \n\u001b[1;32m   (...)\u001b[0m\n\u001b[0;32m    254\u001b[0m \u001b[38;5;124;03m        Raster object containing loaded data.\u001b[39;00m\n\u001b[0;32m    255\u001b[0m \u001b[38;5;124;03m    \"\"\"\u001b[39;00m\n\u001b[1;32m--> 256\u001b[0m     \u001b[38;5;28;01mreturn\u001b[39;00m \u001b[43mpysheds\u001b[49m\u001b[38;5;241;43m.\u001b[39;49m\u001b[43mio\u001b[49m\u001b[38;5;241;43m.\u001b[39;49m\u001b[43mread_raster\u001b[49m\u001b[43m(\u001b[49m\u001b[43mdata\u001b[49m\u001b[38;5;241;43m=\u001b[39;49m\u001b[43mdata\u001b[49m\u001b[43m,\u001b[49m\u001b[43m \u001b[49m\u001b[43mband\u001b[49m\u001b[38;5;241;43m=\u001b[39;49m\u001b[43mband\u001b[49m\u001b[43m,\u001b[49m\u001b[43m \u001b[49m\u001b[43mwindow\u001b[49m\u001b[38;5;241;43m=\u001b[39;49m\u001b[43mwindow\u001b[49m\u001b[43m,\u001b[49m\n\u001b[0;32m    257\u001b[0m \u001b[43m                                  \u001b[49m\u001b[43mwindow_crs\u001b[49m\u001b[38;5;241;43m=\u001b[39;49m\u001b[43mwindow_crs\u001b[49m\u001b[43m,\u001b[49m\u001b[43m \u001b[49m\u001b[43mmetadata\u001b[49m\u001b[38;5;241;43m=\u001b[39;49m\u001b[43mmetadata\u001b[49m\u001b[43m,\u001b[49m\n\u001b[0;32m    258\u001b[0m \u001b[43m                                  \u001b[49m\u001b[43mmask_geometry\u001b[49m\u001b[38;5;241;43m=\u001b[39;49m\u001b[43mmask_geometry\u001b[49m\u001b[43m,\u001b[49m\u001b[43m \u001b[49m\u001b[38;5;241;43m*\u001b[39;49m\u001b[38;5;241;43m*\u001b[39;49m\u001b[43mkwargs\u001b[49m\u001b[43m)\u001b[49m\n",
      "File \u001b[1;32mc:\\Users\\phill\\miniconda3\\envs\\geo\\Lib\\site-packages\\pysheds\\io.py:140\u001b[0m, in \u001b[0;36mread_raster\u001b[1;34m(data, band, window, window_crs, mask_geometry, nodata, metadata, **kwargs)\u001b[0m\n\u001b[0;32m    138\u001b[0m             nodata \u001b[38;5;241m=\u001b[39m data\u001b[38;5;241m.\u001b[39mdtype\u001b[38;5;241m.\u001b[39mtype(nodata)\n\u001b[0;32m    139\u001b[0m viewfinder \u001b[38;5;241m=\u001b[39m ViewFinder(affine\u001b[38;5;241m=\u001b[39maffine, shape\u001b[38;5;241m=\u001b[39mshape, mask\u001b[38;5;241m=\u001b[39mmask, nodata\u001b[38;5;241m=\u001b[39mnodata, crs\u001b[38;5;241m=\u001b[39mcrs)\n\u001b[1;32m--> 140\u001b[0m out \u001b[38;5;241m=\u001b[39m \u001b[43mRaster\u001b[49m\u001b[43m(\u001b[49m\u001b[43mdata\u001b[49m\u001b[43m,\u001b[49m\u001b[43m \u001b[49m\u001b[43mviewfinder\u001b[49m\u001b[43m,\u001b[49m\u001b[43m \u001b[49m\u001b[43mmetadata\u001b[49m\u001b[38;5;241;43m=\u001b[39;49m\u001b[43mmetadata\u001b[49m\u001b[43m)\u001b[49m\n\u001b[0;32m    141\u001b[0m \u001b[38;5;28;01mreturn\u001b[39;00m out\n",
      "File \u001b[1;32mc:\\Users\\phill\\miniconda3\\envs\\geo\\Lib\\site-packages\\pysheds\\sview.py:87\u001b[0m, in \u001b[0;36mRaster.__new__\u001b[1;34m(cls, input_array, viewfinder, metadata)\u001b[0m\n\u001b[0;32m     85\u001b[0m     \u001b[38;5;28;01massert\u001b[39;00m np\u001b[38;5;241m.\u001b[39mmin_scalar_type(viewfinder\u001b[38;5;241m.\u001b[39mnodata) \u001b[38;5;241m<\u001b[39m\u001b[38;5;241m=\u001b[39m obj\u001b[38;5;241m.\u001b[39mdtype\n\u001b[0;32m     86\u001b[0m \u001b[38;5;28;01mexcept\u001b[39;00m:\n\u001b[1;32m---> 87\u001b[0m     \u001b[38;5;28;01mraise\u001b[39;00m \u001b[38;5;167;01mTypeError\u001b[39;00m(\u001b[38;5;124m'\u001b[39m\u001b[38;5;124m`nodata` value not representable in dtype of array.\u001b[39m\u001b[38;5;124m'\u001b[39m)\n\u001b[0;32m     88\u001b[0m \u001b[38;5;66;03m# Don't allow original viewfinder and metadata to be modified\u001b[39;00m\n\u001b[0;32m     89\u001b[0m viewfinder \u001b[38;5;241m=\u001b[39m viewfinder\u001b[38;5;241m.\u001b[39mcopy()\n",
      "\u001b[1;31mTypeError\u001b[0m: `nodata` value not representable in dtype of array."
     ]
    }
   ],
   "source": [
    "#Casually create a hydrologic network and add it\n",
    "import thebeans\n",
    "import pysheds\n",
    "\n",
    "m= thebeans.Map()\n",
    "\n",
    "m.add_toolbar()\n",
    "m\n",
    "# hydroras = m.add_raster(\"https://github.com/phillipslucas/databeans/releases/download/v0.0.1/cub30int.tif\")\n",
    "m.add_casual_hydrologic_network(\"https://github.com/phillipslucas/databeans/releases/download/v0.0.1/USGS_30m.tif\")"
   ]
  }
 ],
 "metadata": {
  "kernelspec": {
   "display_name": "geo",
   "language": "python",
   "name": "python3"
  },
  "language_info": {
   "codemirror_mode": {
    "name": "ipython",
    "version": 3
   },
   "file_extension": ".py",
   "mimetype": "text/x-python",
   "name": "python",
   "nbconvert_exporter": "python",
   "pygments_lexer": "ipython3",
   "version": "3.11.8"
  }
 },
 "nbformat": 4,
 "nbformat_minor": 2
}
