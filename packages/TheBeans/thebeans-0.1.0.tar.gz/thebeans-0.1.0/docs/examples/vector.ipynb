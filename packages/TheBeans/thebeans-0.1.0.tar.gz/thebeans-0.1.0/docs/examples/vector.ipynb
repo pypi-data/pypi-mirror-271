{
 "cells": [
  {
   "cell_type": "markdown",
   "metadata": {},
   "source": [
    "[![image](https://colab.research.google.com/assets/colab-badge.svg)](https://colab.research.google.com/github/phillipslucas/TheBeans/blob/main/docs/examples/vector.ipynb)"
   ]
  },
  {
   "cell_type": "code",
   "execution_count": 3,
   "metadata": {},
   "outputs": [
    {
     "data": {
      "application/vnd.jupyter.widget-view+json": {
       "model_id": "651902fba3b34108a84a10335260b8c8",
       "version_major": 2,
       "version_minor": 0
      },
      "text/plain": [
       "Map(center=[48.513, -120.218], controls=(ZoomControl(options=['position', 'zoom_in_text', 'zoom_in_title', 'zo…"
      ]
     },
     "execution_count": 3,
     "metadata": {},
     "output_type": "execute_result"
    }
   ],
   "source": [
    "import json\n",
    "from ipyleaflet import Map, GeoJSON\n",
    "\n",
    "with open(\"StudyArea.geojson\", \"r\") as f:\n",
    "    data = json.load(f)\n",
    "\n",
    "m = Map(center=(48.513,-120.218), zoom=6)\n",
    "\n",
    "geo_json = GeoJSON(\n",
    "    data=data,\n",
    ")\n",
    "m.add(geo_json)\n",
    "\n",
    "m"
   ]
  },
  {
   "cell_type": "code",
   "execution_count": 1,
   "metadata": {},
   "outputs": [],
   "source": [
    "import thebeans"
   ]
  },
  {
   "cell_type": "code",
   "execution_count": 6,
   "metadata": {},
   "outputs": [
    {
     "data": {
      "application/vnd.jupyter.widget-view+json": {
       "model_id": "28698ecf2c874fb097521b757293bf73",
       "version_major": 2,
       "version_minor": 0
      },
      "text/plain": [
       "Map(center=[48.513, -120.218], controls=(ZoomControl(options=['position', 'zoom_in_text', 'zoom_in_title', 'zo…"
      ]
     },
     "execution_count": 6,
     "metadata": {},
     "output_type": "execute_result"
    }
   ],
   "source": [
    "m = thebeans.Map()\n",
    "m.add_basemap(\"OpenTopoMap\")\n",
    "\n",
    "m.add_geojson(\"StudyArea.geojson\", name=\"Study Area\")\n",
    "m.add_shp(\"CedarCubMuck.shp\", name=\"Burn Scars\")\n",
    "m.add_layers_control()\n",
    "m"
   ]
  }
 ],
 "metadata": {
  "kernelspec": {
   "display_name": "base",
   "language": "python",
   "name": "python3"
  },
  "language_info": {
   "codemirror_mode": {
    "name": "ipython",
    "version": 3
   },
   "file_extension": ".py",
   "mimetype": "text/x-python",
   "name": "python",
   "nbconvert_exporter": "python",
   "pygments_lexer": "ipython3",
   "version": "3.11.8"
  }
 },
 "nbformat": 4,
 "nbformat_minor": 2
}
