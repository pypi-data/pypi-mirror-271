{
 "cells": [
  {
   "cell_type": "code",
   "execution_count": null,
   "metadata": {},
   "outputs": [],
   "source": [
    "from pathlib import Path\n",
    "\n",
    "import numpy as np\n",
    "from aiida import engine, load_profile, orm\n",
    "from aiida_quantum_transport.workchains import CoulombDiamondsWorkChain\n",
    "from ase.io import read\n",
    "\n",
    "load_profile()"
   ]
  },
  {
   "cell_type": "markdown",
   "metadata": {},
   "source": [
    "# Comments\n",
    "\n",
    "- The tester uses `ase` to load the example structures, so you'll need to install `ase`."
   ]
  },
  {
   "cell_type": "markdown",
   "metadata": {},
   "source": [
    "# Data source"
   ]
  },
  {
   "cell_type": "code",
   "execution_count": null,
   "metadata": {},
   "outputs": [],
   "source": [
    "DATA_DIR = Path(\"pentacene/data\")"
   ]
  },
  {
   "cell_type": "markdown",
   "metadata": {},
   "source": [
    "# Leads input"
   ]
  },
  {
   "cell_type": "code",
   "execution_count": null,
   "metadata": {},
   "outputs": [],
   "source": [
    "path = DATA_DIR / \"leads.xyz\"\n",
    "\n",
    "atoms = read(path.as_posix())\n",
    "leads_structure = orm.StructureData(ase=atoms)\n",
    "\n",
    "leads_parameters = orm.Dict(\n",
    "    {\n",
    "        \"h\": 0.2,\n",
    "        \"xc\": \"LDA\",\n",
    "        \"nbands\": \"nao\",\n",
    "        \"convergence\": {\n",
    "            \"bands\": \"all\",\n",
    "        },\n",
    "        \"basis\": \"szp(dzp)\",\n",
    "        \"occupations\": {\n",
    "            \"name\": \"fermi-dirac\",\n",
    "            \"width\": 0.01,\n",
    "        },\n",
    "        \"mode\": \"lcao\",\n",
    "        \"mixer\": {\n",
    "            \"method\": \"separate\",\n",
    "            \"backend\": \"pulay\",\n",
    "            \"beta\": 0.02,\n",
    "            \"nmaxold\": 5,\n",
    "            \"weight\": 100.0,\n",
    "        },\n",
    "        \"symmetry\": {\n",
    "            \"point_group\": False,\n",
    "            \"time_reversal\": True,\n",
    "        },\n",
    "    }\n",
    ")\n",
    "\n",
    "leads_kpoints = orm.KpointsData()\n",
    "leads_kpoints.set_kpoints_mesh([3, 1, 1])\n",
    "\n",
    "leads_output_prefix = orm.Str(\"leads\")"
   ]
  },
  {
   "cell_type": "markdown",
   "metadata": {},
   "source": [
    "# Device input"
   ]
  },
  {
   "cell_type": "code",
   "execution_count": null,
   "metadata": {},
   "outputs": [],
   "source": [
    "path = DATA_DIR / \"device.xyz\"\n",
    "\n",
    "atoms = read(path.as_posix())\n",
    "device_structure = orm.StructureData(ase=atoms)\n",
    "\n",
    "device_parameters = orm.Dict(\n",
    "    {\n",
    "        \"h\": 0.2,\n",
    "        \"xc\": \"LDA\",\n",
    "        \"nbands\": \"nao\",\n",
    "        \"convergence\": {\n",
    "            \"bands\": \"all\",\n",
    "        },\n",
    "        \"basis\": \"szp(dzp)\",\n",
    "        \"occupations\": {\n",
    "            \"name\": \"fermi-dirac\",\n",
    "            \"width\": 0.01,\n",
    "        },\n",
    "        \"mode\": \"lcao\",\n",
    "        \"mixer\": {\n",
    "            \"method\": \"separate\",\n",
    "            \"backend\": \"pulay\",\n",
    "            \"beta\": 0.02,\n",
    "            \"nmaxold\": 5,\n",
    "            \"weight\": 100.0,\n",
    "        },\n",
    "        \"parallel\": {\n",
    "            \"band\": 1,\n",
    "            \"augment_grids\": True,\n",
    "            \"sl_auto\": True,\n",
    "        },\n",
    "    }\n",
    ")\n",
    "\n",
    "device_kpoints = orm.KpointsData()\n",
    "device_kpoints.set_kpoints_mesh([1, 1, 1])\n",
    "\n",
    "device_output_prefix = orm.Str(\"device\")"
   ]
  },
  {
   "cell_type": "markdown",
   "metadata": {},
   "source": [
    "# Green's Function"
   ]
  },
  {
   "cell_type": "code",
   "execution_count": null,
   "metadata": {},
   "outputs": [],
   "source": [
    "species = [\"C\", \"H\"]\n",
    "number_of_spherical_harmonics = [9, 4]\n",
    "basis = {\n",
    "    species: number\n",
    "    for species, number in zip(species, number_of_spherical_harmonics)\n",
    "}"
   ]
  },
  {
   "cell_type": "markdown",
   "metadata": {},
   "source": [
    "# Metadata"
   ]
  },
  {
   "cell_type": "code",
   "execution_count": null,
   "metadata": {},
   "outputs": [],
   "source": [
    "h, m, s = 1, 0, 0\n",
    "\n",
    "NODES = 1\n",
    "TASKS_PER_NODE = 1\n",
    "CPUS_PER_TASK = 1\n",
    "OMP_NUM_THREADS = CPUS_PER_TASK\n",
    "NUMBA_NUM_THREADS = CPUS_PER_TASK * TASKS_PER_NODE\n",
    "\n",
    "metadata = {\n",
    "    \"options\": {\n",
    "        \"withmpi\": True,\n",
    "        \"resources\": {\n",
    "            \"num_machines\": NODES,\n",
    "            \"num_mpiprocs_per_machine\": TASKS_PER_NODE,\n",
    "            \"num_cores_per_mpiproc\": CPUS_PER_TASK,\n",
    "        },\n",
    "        \"max_wallclock_seconds\": h * 3600 + m * 60 + s,\n",
    "        \"environment_variables\": {\n",
    "            \"OMP_NUM_THREADS\": OMP_NUM_THREADS,\n",
    "            \"NUMBA_NUM_THREADS\": NUMBA_NUM_THREADS,\n",
    "        },\n",
    "    }\n",
    "}"
   ]
  },
  {
   "cell_type": "markdown",
   "metadata": {},
   "source": [
    "# Workflow"
   ]
  },
  {
   "cell_type": "code",
   "execution_count": null,
   "metadata": {},
   "outputs": [],
   "source": [
    "inputs = {\n",
    "    \"dft\": {\n",
    "        \"code\": orm.load_code(\"dft-script\"),\n",
    "        \"leads\": {\n",
    "            \"structure\": leads_structure,\n",
    "            \"kpoints\": leads_kpoints,\n",
    "            \"parameters\": leads_parameters,\n",
    "        },\n",
    "        \"device\": {\n",
    "            \"structure\": device_structure,\n",
    "            \"kpoints\": device_kpoints,\n",
    "            \"parameters\": device_parameters,\n",
    "        },\n",
    "    },\n",
    "    \"scattering\": {\n",
    "        # \"region\": orm.Dict(\n",
    "        #     {\n",
    "        #         \"x_min\": 16.0,\n",
    "        #         \"x_max\": 20.0,\n",
    "        #         \"y_min\": 4.0,\n",
    "        #         \"y_max\": 8.0,\n",
    "        #     }\n",
    "        # ),\n",
    "        \"active\": orm.Dict({\"C\": 3}),\n",
    "    },\n",
    "    \"localization\": {\n",
    "        \"code\": orm.load_code(\"los-script\"),\n",
    "        \"lowdin\": orm.Bool(True),\n",
    "    },\n",
    "    \"greens_function\": {\n",
    "        \"code\": orm.load_code(\"greens-script\"),\n",
    "        \"basis\": orm.Dict(basis),\n",
    "    },\n",
    "    # \"greens_function_parameters\": orm.Dict(\n",
    "    #     {\n",
    "    #         \"solver\": \"dyson\",\n",
    "    #         \"eta\": 1e-4,\n",
    "    #     }\n",
    "    # ),\n",
    "    # \"energy_grid_parameters\": orm.Dict(\n",
    "    #     {\n",
    "    #         \"E_min\": -3.0,\n",
    "    #         \"E_max\": 3.0,\n",
    "    #         \"E_step\": 1e-2,\n",
    "    #         \"matsubara_grid_scalar\": 1.0,\n",
    "    #     }\n",
    "    # ),\n",
    "    \"hybridization\": {\n",
    "        \"code\": orm.load_code(\"hybr-script\"),\n",
    "        \"temperature\": orm.Float(300.0),\n",
    "        \"matsubara_grid_size\": orm.Int(3000),\n",
    "        \"metadata\": metadata,\n",
    "    },\n",
    "    \"dmft\": {\n",
    "        \"code\": orm.load_code(\"dmft-script\"),\n",
    "        \"parameters\": orm.Dict(\n",
    "            {\n",
    "                # \"U\": 4.0,\n",
    "                # \"number_of_baths\": 4,\n",
    "                \"tolerance\": 200,\n",
    "                # \"alpha\": 0.0,\n",
    "                # \"inner_max_iter\": 1000,\n",
    "                # \"outer_max_iter\": 1000,\n",
    "            }\n",
    "        ),\n",
    "        \"converge_mu\": {\n",
    "            \"adjust_mu\": orm.Bool(True),\n",
    "        },\n",
    "        \"sweep_mu\": {\n",
    "            \"parameters\": orm.Dict(\n",
    "                {\n",
    "                    \"dmu_min\": 0.0,\n",
    "                    \"dmu_max\": 1.0,\n",
    "                    \"dmu_step\": 0.5,\n",
    "                }\n",
    "            ),\n",
    "        },\n",
    "    },\n",
    "    \"transmission\": {\n",
    "        \"code\": orm.load_code(\"trans-script\"),\n",
    "        \"metadata\": metadata,\n",
    "    },\n",
    "    \"current\": {\n",
    "        \"code\": orm.load_code(\"curr-script\"),\n",
    "        # \"parameters\": orm.Dict({\n",
    "        #     \"V_min\": -2.5,\n",
    "        #     \"V_max\": 2.5,\n",
    "        #     \"dV\": 0.1,\n",
    "        # }),\n",
    "    },\n",
    "}"
   ]
  },
  {
   "cell_type": "code",
   "execution_count": null,
   "metadata": {},
   "outputs": [],
   "source": [
    "node = engine.submit(CoulombDiamondsWorkChain, **inputs)\n"
   ]
  },
  {
   "cell_type": "code",
   "execution_count": null,
   "metadata": {},
   "outputs": [],
   "source": []
  },
  {
   "cell_type": "markdown",
   "metadata": {},
   "source": [
    "# Tests"
   ]
  },
  {
   "cell_type": "code",
   "execution_count": null,
   "metadata": {},
   "outputs": [],
   "source": [
    "# u1, u2, u3 = node.uuid[:2], node.uuid[2:4], node.uuid[4:]\n",
    "# folder = Path(\"~/aiida_run\") / u1 / u2 / u3\n",
    "# ! ls $folder\n",
    "# # ! cat $folder/leads.txt\n"
   ]
  },
  {
   "cell_type": "code",
   "execution_count": null,
   "metadata": {},
   "outputs": [],
   "source": [
    "# with node.outputs.nao_file.as_path() as filepath:\n",
    "#     array = np.load(filepath)\n",
    "# array"
   ]
  },
  {
   "cell_type": "code",
   "execution_count": null,
   "metadata": {},
   "outputs": [],
   "source": [
    "# folder: orm.FolderData = node.outputs.dmft.converge_mu.delta_folder\n",
    "# with folder.as_path() as filepath:\n",
    "#     for file in filepath.iterdir():\n",
    "#         data = np.load(file)"
   ]
  },
  {
   "cell_type": "code",
   "execution_count": null,
   "metadata": {},
   "outputs": [],
   "source": []
  }
 ],
 "metadata": {
  "kernelspec": {
   "display_name": "base",
   "language": "python",
   "name": "python3"
  },
  "language_info": {
   "codemirror_mode": {
    "name": "ipython",
    "version": 3
   },
   "file_extension": ".py",
   "mimetype": "text/x-python",
   "name": "python",
   "nbconvert_exporter": "python",
   "pygments_lexer": "ipython3",
   "version": "3.9.13"
  }
 },
 "nbformat": 4,
 "nbformat_minor": 2
}
