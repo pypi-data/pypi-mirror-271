{
 "cells": [
  {
   "cell_type": "code",
   "execution_count": 1,
   "metadata": {},
   "outputs": [],
   "source": [
    "import json\n",
    "import pycountry\n",
    "\n",
    "from pathlib import Path\n",
    "from alphabetic import Language, Alphabet, LetterCase \n"
   ]
  },
  {
   "cell_type": "code",
   "execution_count": null,
   "metadata": {},
   "outputs": [],
   "source": [
    "data = \"\"\"\n",
    "А а\n",
    "Ӓ ӓ⁠\n",
    "Б б\n",
    "В в\n",
    "Г г\n",
    "Д д\n",
    "Е е\n",
    "Ё ё\n",
    "Ж ж\n",
    "З з\n",
    "И и\n",
    "Й й\n",
    "К к\n",
    "Л л\n",
    "М м\n",
    "Н н\n",
    "Ҥ ҥ⁠\n",
    "О о\n",
    "Ӧ ӧ\n",
    "П п\n",
    "Р р\n",
    "С с\n",
    "Т т\n",
    "У у\n",
    "Ӱ ӱ\n",
    "Ф ф\n",
    "Х х\n",
    "Ц ц\n",
    "Ч ч\n",
    "Ш ш\n",
    "Щ щ\n",
    "Ъ ъ\n",
    "Ы ы\n",
    "Ӹ ӹ⁠\n",
    "Ь ь\n",
    "Э э\n",
    "Ю ю\n",
    "Я я\n",
    "\"\"\".strip().split()\n",
    "\n",
    "data.sort()\n",
    "\n",
    "print(str(data).replace(\"'\", '\"'))\n",
    "\n",
    "\n",
    "# alphabeth = \"\".join(sorted(set(data)))\n",
    "\n",
    "# print(len(alphabeth), \"\\n\", alphabeth)   #  Ukrainian "
   ]
  },
  {
   "cell_type": "code",
   "execution_count": null,
   "metadata": {},
   "outputs": [],
   "source": [
    "lang_code = \"chm\"\n",
    "\n",
    "Alphabet.update_lang_json_file(langcode=lang_code, alphabet=data)\n",
    "\n"
   ]
  },
  {
   "cell_type": "code",
   "execution_count": 10,
   "metadata": {
    "scrolled": true
   },
   "outputs": [
    {
     "name": "stdout",
     "output_type": "stream",
     "text": [
      "ا ب ة ت ث ج ح خ د ذ ر ز س ش ص ض ط ظ ع غ ف ق ك ل م ن ه و ي\n"
     ]
    }
   ],
   "source": [
    "print(*Alphabet.by_language(Language.Arabic, letter_case=LetterCase.Lower))\n"
   ]
  },
  {
   "cell_type": "code",
   "execution_count": 3,
   "metadata": {},
   "outputs": [
    {
     "name": "stdout",
     "output_type": "stream",
     "text": [
      "Total supported languages: 53\n"
     ]
    }
   ],
   "source": [
    "print(f\"Total supported languages: {len(list(Language))}\")\n"
   ]
  },
  {
   "cell_type": "code",
   "execution_count": null,
   "metadata": {},
   "outputs": [],
   "source": [
    "lang_dict = {}\n",
    "\n",
    "for lang, alphabeth in alphabetic.alphabeth_dict.items():\n",
    "    lang_dict[lang.value[0]] = {\"alphabeth\":alphabeth} \n",
    "    \n",
    "\n",
    "Path(\"language_data.json\").write_text(json.dumps(lang_dict))\n"
   ]
  },
  {
   "cell_type": "code",
   "execution_count": null,
   "metadata": {},
   "outputs": [],
   "source": []
  },
  {
   "cell_type": "code",
   "execution_count": null,
   "metadata": {},
   "outputs": [],
   "source": [
    "def trans(lang_str):\n",
    "    lang_str = str(list(lang_str)).replace(\"'\", '\"')\n",
    "    print(lang_str)\n",
    "    \n",
    "    \n",
    "trans(\"ABCDEFGHIJKLMNOPQRSTUVWXYZabcdefghijklmnopqrstuvwxyzÀÂÆÇÈÉÊËÎÏÔÙÛÜàâæçèéêëîïôùûüÿŒœŸ\")\n"
   ]
  },
  {
   "cell_type": "code",
   "execution_count": null,
   "metadata": {},
   "outputs": [],
   "source": []
  },
  {
   "cell_type": "code",
   "execution_count": null,
   "metadata": {},
   "outputs": [],
   "source": [
    "X = \"ABCDEFGHIJKLMNOPQRSTUVWXYZabcdefghijklmnopqrstuvwxyzÄÅÖäåö\"\n",
    "\n",
    "print(\"\".join(sorted(X)))\n",
    "\n",
    "len(X)"
   ]
  },
  {
   "cell_type": "code",
   "execution_count": null,
   "metadata": {},
   "outputs": [],
   "source": []
  },
  {
   "cell_type": "code",
   "execution_count": null,
   "metadata": {},
   "outputs": [],
   "source": [
    "code = \"\"\"\n",
    "A#▄ ▄▄▄\n",
    "B#▄▄▄ ▄ ▄ ▄\n",
    "C#▄▄▄ ▄ ▄▄▄ ▄\n",
    "D#▄▄▄ ▄ ▄\n",
    "E#▄\n",
    "F#▄ ▄ ▄▄▄ ▄\n",
    "G#▄▄▄ ▄▄▄ ▄\n",
    "H#▄ ▄ ▄ ▄\n",
    "I#▄ ▄\n",
    "J#▄ ▄▄▄ ▄▄▄ ▄▄▄\n",
    "K#▄▄▄ ▄ ▄▄▄\n",
    "L#▄ ▄▄▄ ▄ ▄\n",
    "M#▄▄▄ ▄▄▄\n",
    "N#▄▄▄ ▄\n",
    "O#▄▄▄ ▄▄▄ ▄▄▄\n",
    "P#▄ ▄▄▄ ▄▄▄ ▄\n",
    "Q#▄▄▄ ▄▄▄ ▄ ▄▄▄\n",
    "R#▄ ▄▄▄ ▄\n",
    "S#▄ ▄ ▄\n",
    "T#▄▄▄\n",
    "U#▄ ▄ ▄▄▄\n",
    "V#▄ ▄ ▄ ▄▄▄\n",
    "W#▄ ▄▄▄ ▄▄▄\n",
    "X#▄▄▄ ▄ ▄ ▄▄▄\n",
    "Y#▄▄▄ ▄ ▄▄▄ ▄▄▄\n",
    "Z#▄▄▄ ▄▄▄ ▄ ▄\n",
    "\"\"\".splitlines()\n",
    "\n",
    "code = [ x.split(\"#\") for x in code if len(x) > 0 ]\n",
    "code = [ (letter, pattern) for letter, pattern in code ]\n",
    "\n",
    "\n",
    "print(str(code).replace(\"'\", '\"'))\n",
    "\n"
   ]
  },
  {
   "cell_type": "code",
   "execution_count": null,
   "metadata": {},
   "outputs": [],
   "source": [
    "supported_langs = set([e.name for e in Language])\n"
   ]
  },
  {
   "cell_type": "code",
   "execution_count": null,
   "metadata": {},
   "outputs": [],
   "source": []
  },
  {
   "cell_type": "code",
   "execution_count": null,
   "metadata": {},
   "outputs": [],
   "source": [
    "all_countries = [x for x in pycountry.countries]\n",
    "\n"
   ]
  },
  {
   "cell_type": "code",
   "execution_count": null,
   "metadata": {},
   "outputs": [],
   "source": [
    "for x in all_countries:\n",
    "    if x.name.startswith(\"Gre\"):\n",
    "        print(x)\n",
    "\n",
    "\n",
    "\n"
   ]
  },
  {
   "cell_type": "code",
   "execution_count": null,
   "metadata": {},
   "outputs": [],
   "source": [
    "all_languages = [(x.name, x.alpha_3) for x in pycountry.languages]\n",
    "all_languages = dict(all_languages)\n",
    "\n",
    "languages_in_alphabetic = [ (name, lang_code) for name, lang_code in all_languages.items() if name in supported_langs]\n",
    "languages_in_alphabetic = sorted(languages_in_alphabetic, key=lambda x: x[0]) \n",
    "\n",
    "\n",
    "for name, langcode in languages_in_alphabetic:\n",
    "    print(f\"{name} = \\\"{langcode}\\\",\")\n",
    "\n",
    "\n",
    "# missing_languages = [x for x in supported_langs if x not in all_languages]\n",
    "# missing_languages # ['Greek', 'Hawar', 'Slovene', 'Boko', 'Kurmanji', 'Kyrgyz', 'Buryat', 'Sorani']\n",
    "\n"
   ]
  },
  {
   "cell_type": "code",
   "execution_count": null,
   "metadata": {},
   "outputs": [],
   "source": []
  },
  {
   "cell_type": "code",
   "execution_count": null,
   "metadata": {},
   "outputs": [],
   "source": [
    "for name, lang_code in all_languages.items():\n",
    "    if name.startswith(\"Est\"):\n",
    "        print(name, lang_code)\n",
    "        "
   ]
  },
  {
   "cell_type": "code",
   "execution_count": null,
   "metadata": {},
   "outputs": [],
   "source": []
  },
  {
   "cell_type": "code",
   "execution_count": null,
   "metadata": {},
   "outputs": [],
   "source": [
    "print(pycountry.languages.get(alpha_3='GRE'))\n",
    "\n"
   ]
  },
  {
   "cell_type": "code",
   "execution_count": null,
   "metadata": {},
   "outputs": [],
   "source": []
  },
  {
   "cell_type": "code",
   "execution_count": null,
   "metadata": {},
   "outputs": [],
   "source": []
  }
 ],
 "metadata": {
  "kernelspec": {
   "display_name": "Python 3 (ipykernel)",
   "language": "python",
   "name": "python3"
  },
  "language_info": {
   "codemirror_mode": {
    "name": "ipython",
    "version": 3
   },
   "file_extension": ".py",
   "mimetype": "text/x-python",
   "name": "python",
   "nbconvert_exporter": "python",
   "pygments_lexer": "ipython3",
   "version": "3.12.2"
  },
  "varInspector": {
   "cols": {
    "lenName": 16,
    "lenType": 16,
    "lenVar": 40
   },
   "kernels_config": {
    "python": {
     "delete_cmd_postfix": "",
     "delete_cmd_prefix": "del ",
     "library": "var_list.py",
     "varRefreshCmd": "print(var_dic_list())"
    },
    "r": {
     "delete_cmd_postfix": ") ",
     "delete_cmd_prefix": "rm(",
     "library": "var_list.r",
     "varRefreshCmd": "cat(var_dic_list()) "
    }
   },
   "types_to_exclude": [
    "module",
    "function",
    "builtin_function_or_method",
    "instance",
    "_Feature"
   ],
   "window_display": false
  }
 },
 "nbformat": 4,
 "nbformat_minor": 2
}
