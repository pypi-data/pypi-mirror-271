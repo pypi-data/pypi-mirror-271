{
 "cells": [
  {
   "cell_type": "code",
   "execution_count": 9,
   "metadata": {},
   "outputs": [],
   "source": [
    "import os, shutil\n",
    "import pandas as pd"
   ]
  },
  {
   "cell_type": "code",
   "execution_count": 3,
   "metadata": {},
   "outputs": [],
   "source": [
    "df = pd.read_csv(\"hoc-and-morphs.csv\")"
   ]
  },
  {
   "cell_type": "code",
   "execution_count": 7,
   "metadata": {},
   "outputs": [
    {
     "data": {
      "text/plain": [
       "array(['CA1_pyr_cACpyr_mpg150305_A_idB_2019030511201',\n",
       "       'CA1_pyr_cACpyr_mpg141017_a1_2_idC_2019032814340',\n",
       "       'CA1_pyr_cACpyr_mpg141217_A_idB_2019030511280',\n",
       "       'CA1_pyr_cACpyr_oh140807_A0_idB_2019030510521',\n",
       "       'CA1_pyr_cACpyr_oh140807_A0_idJ_2019032814272',\n",
       "       'CA1_pyr_cACpyr_oh140807_A0_idF_2019030511545'], dtype=object)"
      ]
     },
     "execution_count": 7,
     "metadata": {},
     "output_type": "execute_result"
    }
   ],
   "source": [
    "unique_hocs = df[\"model_template\"].unique()\n",
    "unique_hocs"
   ]
  },
  {
   "cell_type": "code",
   "execution_count": 11,
   "metadata": {},
   "outputs": [],
   "source": [
    "# copy hocs from source to destination\n",
    "source_dir = \"/PATH_TO_PROJECTS/proj42/circuits/CA1.O1/mooc-circuit/emodels/hoc\"\n",
    "destination_dir = \"/PATH_TO_PROJECTS/proj37/home/tuncel/bglibpy/tests/examples/circuit_hipp_mooc_most_central_10_SP_PC/components/hoc\"\n",
    "# move the unique hocs to the destination using python shutil\n",
    "for hoc in unique_hocs:\n",
    "    shutil.copy(f\"{os.path.join(source_dir, hoc)}.hoc\", destination_dir)"
   ]
  },
  {
   "cell_type": "code",
   "execution_count": 12,
   "metadata": {},
   "outputs": [
    {
     "data": {
      "text/plain": [
       "array(['dend-051208AM2_axon-mpg141017_a1-2_idC_-_Scale_x1.000_y0.850_z1.000',\n",
       "       'dend-mpg141216_A_idA_axon-mpg141017_a1-2_idC_-_Scale_x1.000_y0.900_z1.000_-_Clone_12',\n",
       "       'mpg141017_a1-2_idC_-_Scale_x1.000_y0.850_z1.000_-_Clone_11',\n",
       "       'dend-mpg141216_A_idA_axon-mpg141017_a1-2_idC_-_Scale_x1.000_y0.850_z1.000_-_Clone_7',\n",
       "       'dend-oh140521_B0_Rat_idC_axon-mpg141017_a1-2_idC_-_Scale_x1.000_y0.850_z1.000_-_Clone_12',\n",
       "       'dend-mpg141216_A_idA_axon-mpg141017_a1-2_idC_-_Scale_x1.000_y0.900_z1.000_-_Clone_4',\n",
       "       'dend-051208AM2_axon-mpg141017_a1-2_idC_-_Scale_x1.000_y0.850_z1.000_-_Clone_10',\n",
       "       'dend-oh140521_B0_Rat_idC_axon-mpg141017_a1-2_idC_-_Scale_x1.000_y0.850_z1.000_-_Clone_1',\n",
       "       'dend-oh140807_A0_idF_axon-mpg141017_a1-2_idC_-_Scale_x1.000_y0.850_z1.000_-_Clone_12',\n",
       "       'dend-mpg141216_A_idA_axon-mpg141017_a1-2_idC_-_Scale_x1.000_y0.950_z1.000_-_Clone_4'],\n",
       "      dtype=object)"
      ]
     },
     "execution_count": 12,
     "metadata": {},
     "output_type": "execute_result"
    }
   ],
   "source": [
    "unique_morphs = df[\"morphology\"].unique()\n",
    "unique_morphs"
   ]
  },
  {
   "cell_type": "code",
   "execution_count": 13,
   "metadata": {},
   "outputs": [],
   "source": [
    "# copy hocs from source to destination\n",
    "source_dir = \"/PATH_TO_PROJECTS/proj42/circuits/CA1.O1/mooc-circuit/morphologies/swc\"\n",
    "destination_dir = \"/PATH_TO_PROJECTS/proj37/home/tuncel/bglibpy/tests/examples/circuit_hipp_mooc_most_central_10_SP_PC/components/morphologies\"\n",
    "\n",
    "# move the unique morphologies to the destination using python shutil\n",
    "for morph in unique_morphs:\n",
    "    shutil.copy(f\"{os.path.join(source_dir, morph)}.swc\", destination_dir)\n"
   ]
  }
 ],
 "metadata": {
  "kernelspec": {
   "display_name": "py39-bglibpy",
   "language": "python",
   "name": "python3"
  },
  "language_info": {
   "codemirror_mode": {
    "name": "ipython",
    "version": 3
   },
   "file_extension": ".py",
   "mimetype": "text/x-python",
   "name": "python",
   "nbconvert_exporter": "python",
   "pygments_lexer": "ipython3",
   "version": "3.9.7"
  },
  "orig_nbformat": 4,
  "vscode": {
   "interpreter": {
    "hash": "ddedd2e45b654ceee9d79a82f6a318e6a339bb9c6734b38847971dbb7375002f"
   }
  }
 },
 "nbformat": 4,
 "nbformat_minor": 2
}
