{
 "cells": [
  {
   "cell_type": "markdown",
   "metadata": {},
   "source": [
    "# LogWriter"
   ]
  },
  {
   "cell_type": "code",
   "execution_count": 14,
   "metadata": {},
   "outputs": [],
   "source": [
    "from abc import ABC, abstractmethod\n",
    "import json\n",
    "from collections import deque\n",
    "from typing import Any\n",
    "import os\n",
    "import datetime"
   ]
  },
  {
   "cell_type": "code",
   "execution_count": 15,
   "metadata": {},
   "outputs": [],
   "source": [
    "class LogWriter(ABC):\n",
    "    \"\"\"LogWriter Abstract Class\"\"\"\n",
    "\n",
    "    def __init__(self):\n",
    "        self.queue = deque([])\n",
    "\n",
    "    def append(self, log: Any) -> None:\n",
    "        \"\"\"Add the log on top of a stack.\"\"\"\n",
    "        self.queue.append(log)\n",
    "\n",
    "    def flush(self) -> None:\n",
    "        while self.queue:\n",
    "            self.write(self.queue.popleft())\n",
    "\n",
    "    @abstractmethod\n",
    "    def write(\n",
    "        self,\n",
    "        log: Any,\n",
    "    ) -> None:\n",
    "        \"\"\"Write logs\"\"\"\n",
    "\n",
    "\n",
    "class jsonlogWriter(LogWriter):\n",
    "    def write(self, log: Any) -> None:\n",
    "        print(log)\n",
    "\n",
    "\n",
    "class JSONLogWriter(LogWriter):\n",
    "    def __init__(self, cwd_dir: str) -> None:\n",
    "        super().__init__()\n",
    "        self.dir = cwd_dir\n",
    "\n",
    "        self._prepare_dir()\n",
    "\n",
    "    def flush(self, filename: str | None = None):\n",
    "        concat_log = {}\n",
    "        while self.queue:\n",
    "            log = self.queue.popleft()\n",
    "            self._check_log(log)\n",
    "            concat_log.update(log)\n",
    "        self.write(concat_log, filename)\n",
    "\n",
    "    def write(self, log: dict, filename: str | None = None) -> None:\n",
    "        self._check_log(log)\n",
    "        \"\"\"Assuming the log is well formatted\"\"\"\n",
    "        self._export_log(log, filename)\n",
    "\n",
    "    def _export_log(self, log: dict, filename: str | None = None) -> None:\n",
    "        \"\"\"Export the logs to a JSON file.\n",
    "\n",
    "        Args:\n",
    "        ----\n",
    "            file_path (str, optional): The file path to save the logs. If not provided, a default file path will be used.\n",
    "\n",
    "        \"\"\"\n",
    "        if not filename:\n",
    "            filename = self._default_filename()\n",
    "\n",
    "        filepath = os.path.join(self.dir, filename)\n",
    "        print(log, filepath)\n",
    "        with open(filepath, \"w\") as file:\n",
    "            json.dump(log, file, indent=4)\n",
    "\n",
    "    def _default_filename(self) -> str:\n",
    "        timestamp = datetime.datetime.now().strftime(\"%Y%m%d_%H%M%S\")\n",
    "        return f\"log_{timestamp}.json\"\n",
    "\n",
    "    def _prepare_dir(self) -> None:\n",
    "        os.makedirs(os.path.join(os.getcwd(), self.dir), exist_ok=True)\n",
    "\n",
    "    def _check_log(self, log: dict) -> None:\n",
    "        if not isinstance(log, dict):\n",
    "            raise TypeError(\n",
    "                f\"The log should be a dict. It is received as a {type(log)}. Value= {log}\"\n",
    "            )"
   ]
  },
  {
   "cell_type": "markdown",
   "metadata": {},
   "source": [
    "# Logwriter"
   ]
  },
  {
   "cell_type": "code",
   "execution_count": 4,
   "metadata": {},
   "outputs": [],
   "source": [
    "import uuid\n",
    "\n",
    "\n",
    "class LogGroup:\n",
    "    def __init__(self, *, name: str):\n",
    "        self.name = name\n",
    "        self.id = uuid.uuid4()"
   ]
  },
  {
   "cell_type": "markdown",
   "metadata": {},
   "source": [
    "# Decorator"
   ]
  },
  {
   "cell_type": "code",
   "execution_count": 14,
   "metadata": {},
   "outputs": [],
   "source": [
    "from typing import Callable\n",
    "import functools\n",
    "import time\n",
    "from datetime import datetime\n",
    "import os\n",
    "from log_writer import JSONLogWriter\n",
    "\n",
    "\n",
    "def jsonlog(\n",
    "    _func=None,\n",
    "    *,\n",
    "    writer: JSONLogWriter = None,\n",
    "    flush: bool = True,\n",
    "):\n",
    "    if not writer:\n",
    "        writer = JSONLogWriter(save_dir=os.getcwd())\n",
    "\n",
    "    def jsonlog_decorator(func: Callable, writer: JSONLogWriter):\n",
    "        @functools.wraps(func)\n",
    "        def jsonlog_wrapper(*args, **kwargs):\n",
    "            args_repr = [repr(a) for a in args]\n",
    "            kwargs_repr = [f\"{k}={repr(v)}\" for k, v in kwargs.items()]\n",
    "            signature = \", \".join(args_repr + kwargs_repr)\n",
    "\n",
    "            uuidv1 = uuid.uuid1()\n",
    "\n",
    "            timestamp = datetime.now()\n",
    "            start_time = time.perf_counter()\n",
    "\n",
    "            output = func(*args, **kwargs)\n",
    "\n",
    "            end_time = time.perf_counter()\n",
    "            run_time = end_time - start_time\n",
    "\n",
    "            writer.append(\n",
    "                log={\n",
    "                    str(uuidv1): {\n",
    "                        \"name\": func.__name__,\n",
    "                        \"args\": args_repr,\n",
    "                        \"kwargs\": kwargs_repr,\n",
    "                        \"signature\": signature,\n",
    "                        \"output\": repr(output),\n",
    "                        \"run_time\": run_time,\n",
    "                        \"timestamp\": str(timestamp),\n",
    "                    }\n",
    "                }\n",
    "            )\n",
    "            if flush:\n",
    "                writer.flush(filename=writer._default_filename())\n",
    "\n",
    "            return output\n",
    "\n",
    "        return jsonlog_wrapper\n",
    "\n",
    "    if _func is None:\n",
    "        return lambda func: jsonlog_decorator(func, writer=writer)\n",
    "    else:\n",
    "        return jsonlog_decorator(_func, writer=writer)"
   ]
  },
  {
   "cell_type": "code",
   "execution_count": 8,
   "metadata": {},
   "outputs": [
    {
     "data": {
      "text/plain": [
       "8"
      ]
     },
     "execution_count": 8,
     "metadata": {},
     "output_type": "execute_result"
    }
   ],
   "source": [
    "writer1 = JSONLogWriter(save_dir=\"../logs\")\n",
    "\n",
    "\n",
    "@jsonlog(writer=writer1)\n",
    "def f(x: int) -> int:\n",
    "    return 2 * x\n",
    "\n",
    "\n",
    "f(4)"
   ]
  },
  {
   "cell_type": "code",
   "execution_count": 12,
   "metadata": {},
   "outputs": [
    {
     "data": {
      "text/plain": [
       "18"
      ]
     },
     "execution_count": 12,
     "metadata": {},
     "output_type": "execute_result"
    }
   ],
   "source": [
    "f(9)"
   ]
  },
  {
   "cell_type": "code",
   "execution_count": 13,
   "metadata": {},
   "outputs": [
    {
     "name": "stdout",
     "output_type": "stream",
     "text": [
      "{'b28f4954-095d-11ef-8aee-294e27d4c8a5': {'name': 'f', 'args': ['4'], 'kwargs': [], 'signature': '4', 'run_time': 5.739966582041234e-07, 'timestamp': '2024-05-03 16:59:10.411831', 'output': '8'}, 'b42693b2-095d-11ef-8aee-294e27d4c8a5': {'name': 'f', 'args': ['9'], 'kwargs': [], 'signature': '9', 'run_time': 8.980023267213255e-07, 'timestamp': '2024-05-03 16:59:13.081054', 'output': '18'}, 'b9853e08-095d-11ef-8aee-294e27d4c8a5': {'name': 'f', 'args': ['9'], 'kwargs': [], 'signature': '9', 'run_time': 1.7120000848080963e-06, 'timestamp': '2024-05-03 16:59:22.090117', 'output': '18'}, 'b9853e09-095d-11ef-8aee-294e27d4c8a5': {'name': 'f', 'args': ['9'], 'kwargs': [], 'signature': '9', 'run_time': 1.143002009484917e-06, 'timestamp': '2024-05-03 16:59:23.178896', 'output': '18'}, 'baba0db2-095d-11ef-8aee-294e27d4c8a5': {'name': 'f', 'args': ['9'], 'kwargs': [], 'signature': '9', 'run_time': 1.3760000001639128e-06, 'timestamp': '2024-05-03 16:59:24.113959', 'output': '18'}} ../logs/log_20240503_165932_369997.json\n"
     ]
    }
   ],
   "source": [
    "writer1.flush()"
   ]
  },
  {
   "cell_type": "code",
   "execution_count": 14,
   "metadata": {},
   "outputs": [],
   "source": [
    "a = datetime.now()"
   ]
  },
  {
   "cell_type": "code",
   "execution_count": 17,
   "metadata": {},
   "outputs": [
    {
     "data": {
      "text/plain": [
       "'2024-05-03 16:51:36.514765'"
      ]
     },
     "execution_count": 17,
     "metadata": {},
     "output_type": "execute_result"
    }
   ],
   "source": [
    "str(a)"
   ]
  },
  {
   "cell_type": "code",
   "execution_count": null,
   "metadata": {},
   "outputs": [],
   "source": []
  }
 ],
 "metadata": {
  "kernelspec": {
   "display_name": ".venv",
   "language": "python",
   "name": "python3"
  },
  "language_info": {
   "codemirror_mode": {
    "name": "ipython",
    "version": 3
   },
   "file_extension": ".py",
   "mimetype": "text/x-python",
   "name": "python",
   "nbconvert_exporter": "python",
   "pygments_lexer": "ipython3",
   "version": "3.10.1"
  }
 },
 "nbformat": 4,
 "nbformat_minor": 2
}
