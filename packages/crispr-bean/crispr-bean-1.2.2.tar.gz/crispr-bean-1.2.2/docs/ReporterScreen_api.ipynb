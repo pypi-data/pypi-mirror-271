{
  "cells": [
    {
      "cell_type": "markdown",
      "metadata": {
        "id": "OhCQ5Qon-b8L"
      },
      "source": [
        "[![Open In Colab](https://colab.research.google.com/assets/colab-badge.svg)](https://colab.research.google.com/drive/1tsbLl_yB9lcC_lo4sjwEoI0r1KAjPkoB)"
      ]
    },
    {
      "cell_type": "markdown",
      "metadata": {
        "id": "qETZ0KgbbJIe"
      },
      "source": [
        "# CRISPR Reporter Screen analysis with bean"
      ]
    },
    {
      "cell_type": "markdown",
      "metadata": {
        "id": "GQv2gC9IbOak"
      },
      "source": [
        "In this tutorial, we will cover\n",
        "*  Obtaining target variant editing rate from allele count information\n",
        "*  ReporterScreen object slicing (indexing)\n",
        "*  Allele filtering based on significance\n",
        "\n",
        "For the basic API of ReporterScreen object, see [**perturb-tools tutorial of Screen API**](https://github.com/pinellolab/perturb-tools/blob/main/perturb_tools/screen_demo.ipynb)."
      ]
    },
    {
      "cell_type": "code",
      "execution_count": 2,
      "metadata": {
        "colab": {
          "base_uri": "https://localhost:8080/",
          "height": 1000
        },
        "id": "b_HqduZRy3DY",
        "outputId": "eec31693-93b0-4266-8c30-a9902e7da4cd"
      },
      "outputs": [
        {
          "name": "stdout",
          "output_type": "stream",
          "text": [
            "Looking in indexes: https://pypi.org/simple, https://us-python.pkg.dev/colab-wheels/public/simple/\n",
            "Collecting beans==0.1.2\n",
            "  Downloading beans-0.1.2.tar.gz (464 kB)\n",
            "\u001b[K     |████████████████████████████████| 464 kB 4.1 MB/s \n",
            "\u001b[?25h  Installing build dependencies ... \u001b[?25l\u001b[?25hdone\n",
            "  Getting requirements to build wheel ... \u001b[?25l\u001b[?25hdone\n",
            "    Preparing wheel metadata ... \u001b[?25l\u001b[?25hdone\n",
            "Requirement already satisfied: numpy in /usr/local/lib/python3.7/dist-packages (from beans==0.1.2) (1.21.6)\n",
            "Collecting perturb-tools>=0.0.16\n",
            "  Downloading perturb-tools-0.1.4.tar.gz (147 kB)\n",
            "\u001b[K     |████████████████████████████████| 147 kB 51.2 MB/s \n",
            "\u001b[?25hCollecting matplotlib>=3.4\n",
            "  Downloading matplotlib-3.5.3-cp37-cp37m-manylinux_2_5_x86_64.manylinux1_x86_64.whl (11.2 MB)\n",
            "\u001b[K     |████████████████████████████████| 11.2 MB 51.2 MB/s \n",
            "\u001b[?25hCollecting anndata>=0.7.1\n",
            "  Downloading anndata-0.8.0-py3-none-any.whl (96 kB)\n",
            "\u001b[K     |████████████████████████████████| 96 kB 4.9 MB/s \n",
            "\u001b[?25hRequirement already satisfied: pandas>=1.1.2 in /usr/local/lib/python3.7/dist-packages (from perturb-tools>=0.0.16->beans==0.1.2) (1.3.5)\n",
            "Collecting biopython>=1.79\n",
            "  Downloading biopython-1.79-cp37-cp37m-manylinux_2_5_x86_64.manylinux1_x86_64.whl (2.3 MB)\n",
            "\u001b[K     |████████████████████████████████| 2.3 MB 57.1 MB/s \n",
            "\u001b[?25hCollecting pool-sharq>=0.0.12\n",
            "  Downloading pool_sharq-0.0.12-py3-none-any.whl (7.8 kB)\n",
            "Requirement already satisfied: plotly in /usr/local/lib/python3.7/dist-packages (from perturb-tools>=0.0.16->beans==0.1.2) (5.5.0)\n",
            "Requirement already satisfied: regex in /usr/local/lib/python3.7/dist-packages (from perturb-tools>=0.0.16->beans==0.1.2) (2022.6.2)\n",
            "Requirement already satisfied: typing_extensions in /usr/local/lib/python3.7/dist-packages (from anndata>=0.7.1->perturb-tools>=0.0.16->beans==0.1.2) (4.1.1)\n",
            "Requirement already satisfied: importlib_metadata>=0.7 in /usr/local/lib/python3.7/dist-packages (from anndata>=0.7.1->perturb-tools>=0.0.16->beans==0.1.2) (4.12.0)\n",
            "Requirement already satisfied: packaging>=20 in /usr/local/lib/python3.7/dist-packages (from anndata>=0.7.1->perturb-tools>=0.0.16->beans==0.1.2) (21.3)\n",
            "Requirement already satisfied: scipy>1.4 in /usr/local/lib/python3.7/dist-packages (from anndata>=0.7.1->perturb-tools>=0.0.16->beans==0.1.2) (1.7.3)\n",
            "Requirement already satisfied: natsort in /usr/local/lib/python3.7/dist-packages (from anndata>=0.7.1->perturb-tools>=0.0.16->beans==0.1.2) (5.5.0)\n",
            "Requirement already satisfied: h5py>=3 in /usr/local/lib/python3.7/dist-packages (from anndata>=0.7.1->perturb-tools>=0.0.16->beans==0.1.2) (3.1.0)\n",
            "Requirement already satisfied: cached-property in /usr/local/lib/python3.7/dist-packages (from h5py>=3->anndata>=0.7.1->perturb-tools>=0.0.16->beans==0.1.2) (1.5.2)\n",
            "Requirement already satisfied: zipp>=0.5 in /usr/local/lib/python3.7/dist-packages (from importlib_metadata>=0.7->anndata>=0.7.1->perturb-tools>=0.0.16->beans==0.1.2) (3.8.1)\n",
            "Collecting fonttools>=4.22.0\n",
            "  Downloading fonttools-4.37.3-py3-none-any.whl (959 kB)\n",
            "\u001b[K     |████████████████████████████████| 959 kB 44.2 MB/s \n",
            "\u001b[?25hRequirement already satisfied: pyparsing>=2.2.1 in /usr/local/lib/python3.7/dist-packages (from matplotlib>=3.4->perturb-tools>=0.0.16->beans==0.1.2) (3.0.9)\n",
            "Requirement already satisfied: kiwisolver>=1.0.1 in /usr/local/lib/python3.7/dist-packages (from matplotlib>=3.4->perturb-tools>=0.0.16->beans==0.1.2) (1.4.4)\n",
            "Requirement already satisfied: cycler>=0.10 in /usr/local/lib/python3.7/dist-packages (from matplotlib>=3.4->perturb-tools>=0.0.16->beans==0.1.2) (0.11.0)\n",
            "Requirement already satisfied: pillow>=6.2.0 in /usr/local/lib/python3.7/dist-packages (from matplotlib>=3.4->perturb-tools>=0.0.16->beans==0.1.2) (7.1.2)\n",
            "Requirement already satisfied: python-dateutil>=2.7 in /usr/local/lib/python3.7/dist-packages (from matplotlib>=3.4->perturb-tools>=0.0.16->beans==0.1.2) (2.8.2)\n",
            "Requirement already satisfied: pytz>=2017.3 in /usr/local/lib/python3.7/dist-packages (from pandas>=1.1.2->perturb-tools>=0.0.16->beans==0.1.2) (2022.2.1)\n",
            "Collecting licorice>=0.0.2\n",
            "  Downloading licorice-0.0.3-py3-none-any.whl (8.1 kB)\n",
            "Collecting requests>=2.26.0\n",
            "  Downloading requests-2.28.1-py3-none-any.whl (62 kB)\n",
            "\u001b[K     |████████████████████████████████| 62 kB 1.4 MB/s \n",
            "\u001b[?25hRequirement already satisfied: tqdm>=4.62.3 in /usr/local/lib/python3.7/dist-packages (from pool-sharq>=0.0.12->perturb-tools>=0.0.16->beans==0.1.2) (4.64.1)\n",
            "Collecting pyrequisites>=0.0.2\n",
            "  Downloading pyrequisites-0.0.2-py3-none-any.whl (4.1 kB)\n",
            "Collecting beautifulsoup4>=4.10.0\n",
            "  Downloading beautifulsoup4-4.11.1-py3-none-any.whl (128 kB)\n",
            "\u001b[K     |████████████████████████████████| 128 kB 66.4 MB/s \n",
            "\u001b[?25hCollecting soupsieve>1.2\n",
            "  Downloading soupsieve-2.3.2.post1-py3-none-any.whl (37 kB)\n",
            "Requirement already satisfied: six>=1.5 in /usr/local/lib/python3.7/dist-packages (from python-dateutil>=2.7->matplotlib>=3.4->perturb-tools>=0.0.16->beans==0.1.2) (1.15.0)\n",
            "Requirement already satisfied: idna<4,>=2.5 in /usr/local/lib/python3.7/dist-packages (from requests>=2.26.0->pool-sharq>=0.0.12->perturb-tools>=0.0.16->beans==0.1.2) (2.10)\n",
            "Requirement already satisfied: urllib3<1.27,>=1.21.1 in /usr/local/lib/python3.7/dist-packages (from requests>=2.26.0->pool-sharq>=0.0.12->perturb-tools>=0.0.16->beans==0.1.2) (1.24.3)\n",
            "Requirement already satisfied: certifi>=2017.4.17 in /usr/local/lib/python3.7/dist-packages (from requests>=2.26.0->pool-sharq>=0.0.12->perturb-tools>=0.0.16->beans==0.1.2) (2022.6.15)\n",
            "Requirement already satisfied: charset-normalizer<3,>=2 in /usr/local/lib/python3.7/dist-packages (from requests>=2.26.0->pool-sharq>=0.0.12->perturb-tools>=0.0.16->beans==0.1.2) (2.1.1)\n",
            "Requirement already satisfied: tenacity>=6.2.0 in /usr/local/lib/python3.7/dist-packages (from plotly->perturb-tools>=0.0.16->beans==0.1.2) (8.0.1)\n",
            "Building wheels for collected packages: beans, perturb-tools\n",
            "  Building wheel for beans (PEP 517) ... \u001b[?25l\u001b[?25hdone\n",
            "  Created wheel for beans: filename=beans-0.1.2-cp37-cp37m-linux_x86_64.whl size=506725 sha256=43eb6b2b41a112f7ea2d37a17e1e9bd91dffd4599710f3958769f84e59b3e6b8\n",
            "  Stored in directory: /root/.cache/pip/wheels/68/81/58/49b78bc024e2a5312dc830797a25c15c7acda4225b5b25d232\n",
            "  Building wheel for perturb-tools (setup.py) ... \u001b[?25l\u001b[?25hdone\n",
            "  Created wheel for perturb-tools: filename=perturb_tools-0.1.4-py3-none-any.whl size=54209 sha256=e383c22165c92cf7c22605aec1da8689f60d55d1c1ea530a925aa89e5ee6608d\n",
            "  Stored in directory: /root/.cache/pip/wheels/35/75/47/47a3d25b1958a24d7d3ee488b8956a9f43bda0bb0761b4d67c\n",
            "Successfully built beans perturb-tools\n",
            "Installing collected packages: soupsieve, licorice, requests, pyrequisites, fonttools, beautifulsoup4, pool-sharq, matplotlib, biopython, anndata, perturb-tools, beans\n",
            "  Attempting uninstall: requests\n",
            "    Found existing installation: requests 2.23.0\n",
            "    Uninstalling requests-2.23.0:\n",
            "      Successfully uninstalled requests-2.23.0\n",
            "  Attempting uninstall: beautifulsoup4\n",
            "    Found existing installation: beautifulsoup4 4.6.3\n",
            "    Uninstalling beautifulsoup4-4.6.3:\n",
            "      Successfully uninstalled beautifulsoup4-4.6.3\n",
            "  Attempting uninstall: matplotlib\n",
            "    Found existing installation: matplotlib 3.2.2\n",
            "    Uninstalling matplotlib-3.2.2:\n",
            "      Successfully uninstalled matplotlib-3.2.2\n",
            "Successfully installed anndata-0.8.0 beautifulsoup4-4.11.1 beans-0.1.2 biopython-1.79 fonttools-4.37.3 licorice-0.0.3 matplotlib-3.5.3 perturb-tools-0.1.4 pool-sharq-0.0.12 pyrequisites-0.0.2 requests-2.28.1 soupsieve-2.3.2.post1\n"
          ]
        },
        {
          "data": {
            "application/vnd.colab-display-data+json": {
              "pip_warning": {
                "packages": [
                  "matplotlib",
                  "mpl_toolkits"
                ]
              }
            }
          },
          "metadata": {},
          "output_type": "display_data"
        }
      ],
      "source": [
        "! pip install beans==0.1.2"
      ]
    },
    {
      "cell_type": "code",
      "execution_count": 1,
      "metadata": {
        "id": "q4U4twaAzLPs"
      },
      "outputs": [],
      "source": [
        "import numpy as np\n",
        "import pandas as pd\n",
        "import seaborn as sns\n",
        "import matplotlib.pyplot as plt\n",
        "import bean as be"
      ]
    },
    {
      "cell_type": "code",
      "execution_count": 33,
      "metadata": {
        "colab": {
          "base_uri": "https://localhost:8080/"
        },
        "id": "8KhlwSn_2x9P",
        "outputId": "1fc11a18-6e01-403d-9e08-73da37eee332"
      },
      "outputs": [
        {
          "name": "stdout",
          "output_type": "stream",
          "text": [
            "Downloading...\n",
            "From: https://drive.google.com/uc?id=18Azb8YmmMvFZo9urc2TxZr540xXWOv_v\n",
            "To: /content/bean_count_072121_ABE_topbot_LDLvar.h5ad\n",
            "100% 40.2M/40.2M [00:00<00:00, 160MB/s]\n"
          ]
        }
      ],
      "source": [
        "!gdown 18Azb8YmmMvFZo9urc2TxZr540xXWOv_v"
      ]
    },
    {
      "cell_type": "code",
      "execution_count": 2,
      "metadata": {
        "id": "yBRxkKbLbD4F"
      },
      "outputs": [],
      "source": [
        "bdata = be.read_h5ad(\"bean_count_072121_ABE_topbot_LDLvar.h5ad\")"
      ]
    },
    {
      "cell_type": "code",
      "execution_count": 35,
      "metadata": {
        "colab": {
          "base_uri": "https://localhost:8080/",
          "height": 488
        },
        "id": "4Q6jF9DgbD4K",
        "outputId": "7abf9b29-2755-456e-fd62-5cb69a4fc27c"
      },
      "outputs": [
        {
          "data": {
            "text/html": [
              "\n",
              "  <div id=\"df-7f0290da-b360-43b0-8450-5038265b25d7\">\n",
              "    <div class=\"colab-df-container\">\n",
              "      <div>\n",
              "<style scoped>\n",
              "    .dataframe tbody tr th:only-of-type {\n",
              "        vertical-align: middle;\n",
              "    }\n",
              "\n",
              "    .dataframe tbody tr th {\n",
              "        vertical-align: top;\n",
              "    }\n",
              "\n",
              "    .dataframe thead th {\n",
              "        text-align: right;\n",
              "    }\n",
              "</style>\n",
              "<table border=\"1\" class=\"dataframe\">\n",
              "  <thead>\n",
              "    <tr style=\"text-align: right;\">\n",
              "      <th></th>\n",
              "      <th>guide</th>\n",
              "      <th>allele</th>\n",
              "      <th>rep1_bot</th>\n",
              "      <th>rep2_bot</th>\n",
              "      <th>rep3_VPA_bot</th>\n",
              "      <th>rep4_VPA_bot</th>\n",
              "      <th>rep1_bulk</th>\n",
              "      <th>rep2_bulk</th>\n",
              "      <th>rep3_VPA_bulk</th>\n",
              "      <th>rep4_VPA_bulk</th>\n",
              "      <th>rep1_top</th>\n",
              "      <th>rep2_top</th>\n",
              "      <th>rep3_VPA_top</th>\n",
              "      <th>rep4_VPA_top</th>\n",
              "    </tr>\n",
              "  </thead>\n",
              "  <tbody>\n",
              "    <tr>\n",
              "      <th>0</th>\n",
              "      <td>LDLR_SA_3_g5</td>\n",
              "      <td></td>\n",
              "      <td>26</td>\n",
              "      <td>13</td>\n",
              "      <td>9</td>\n",
              "      <td>13</td>\n",
              "      <td>60</td>\n",
              "      <td>21</td>\n",
              "      <td>27</td>\n",
              "      <td>31</td>\n",
              "      <td>32</td>\n",
              "      <td>26</td>\n",
              "      <td>43</td>\n",
              "      <td>43</td>\n",
              "    </tr>\n",
              "    <tr>\n",
              "      <th>1</th>\n",
              "      <td>LDLR_SA_3_g5</td>\n",
              "      <td>0:13:+:A&gt;G</td>\n",
              "      <td>6</td>\n",
              "      <td>16</td>\n",
              "      <td>11</td>\n",
              "      <td>24</td>\n",
              "      <td>29</td>\n",
              "      <td>21</td>\n",
              "      <td>28</td>\n",
              "      <td>22</td>\n",
              "      <td>27</td>\n",
              "      <td>11</td>\n",
              "      <td>20</td>\n",
              "      <td>13</td>\n",
              "    </tr>\n",
              "    <tr>\n",
              "      <th>2</th>\n",
              "      <td>LDLR_SA_3_g5</td>\n",
              "      <td>-12:1:+:A&gt;G,0:13:+:A&gt;G</td>\n",
              "      <td>2</td>\n",
              "      <td>16</td>\n",
              "      <td>1</td>\n",
              "      <td>24</td>\n",
              "      <td>16</td>\n",
              "      <td>5</td>\n",
              "      <td>9</td>\n",
              "      <td>4</td>\n",
              "      <td>17</td>\n",
              "      <td>12</td>\n",
              "      <td>7</td>\n",
              "      <td>3</td>\n",
              "    </tr>\n",
              "    <tr>\n",
              "      <th>3</th>\n",
              "      <td>LDLR_SA_3_g5</td>\n",
              "      <td>0:13:+:A&gt;G,7:20:+:A&gt;G</td>\n",
              "      <td>2</td>\n",
              "      <td>0</td>\n",
              "      <td>0</td>\n",
              "      <td>0</td>\n",
              "      <td>0</td>\n",
              "      <td>0</td>\n",
              "      <td>0</td>\n",
              "      <td>9</td>\n",
              "      <td>0</td>\n",
              "      <td>0</td>\n",
              "      <td>0</td>\n",
              "      <td>0</td>\n",
              "    </tr>\n",
              "    <tr>\n",
              "      <th>4</th>\n",
              "      <td>LDLR_SA_3_g5</td>\n",
              "      <td>-12:1:+:A&gt;G,-8:5:+:A&gt;G,0:13:+:A&gt;G,10:23:+:A&gt;G</td>\n",
              "      <td>1</td>\n",
              "      <td>0</td>\n",
              "      <td>0</td>\n",
              "      <td>0</td>\n",
              "      <td>0</td>\n",
              "      <td>0</td>\n",
              "      <td>0</td>\n",
              "      <td>0</td>\n",
              "      <td>0</td>\n",
              "      <td>0</td>\n",
              "      <td>0</td>\n",
              "      <td>0</td>\n",
              "    </tr>\n",
              "    <tr>\n",
              "      <th>...</th>\n",
              "      <td>...</td>\n",
              "      <td>...</td>\n",
              "      <td>...</td>\n",
              "      <td>...</td>\n",
              "      <td>...</td>\n",
              "      <td>...</td>\n",
              "      <td>...</td>\n",
              "      <td>...</td>\n",
              "      <td>...</td>\n",
              "      <td>...</td>\n",
              "      <td>...</td>\n",
              "      <td>...</td>\n",
              "      <td>...</td>\n",
              "      <td>...</td>\n",
              "    </tr>\n",
              "    <tr>\n",
              "      <th>165506</th>\n",
              "      <td>2:164588224GAG_Maj_ABE_10_g3</td>\n",
              "      <td>-10:1:+:C&gt;T,-8:3:+:A&gt;T</td>\n",
              "      <td>0</td>\n",
              "      <td>0</td>\n",
              "      <td>0</td>\n",
              "      <td>0</td>\n",
              "      <td>0</td>\n",
              "      <td>0</td>\n",
              "      <td>0</td>\n",
              "      <td>0</td>\n",
              "      <td>0</td>\n",
              "      <td>0</td>\n",
              "      <td>0</td>\n",
              "      <td>1</td>\n",
              "    </tr>\n",
              "    <tr>\n",
              "      <th>165507</th>\n",
              "      <td>2:164588224GAG_Maj_ABE_10_g3</td>\n",
              "      <td>-8:3:+:A&gt;T,-3:8:+:C&gt;A,-1:10:+:G&gt;A</td>\n",
              "      <td>0</td>\n",
              "      <td>0</td>\n",
              "      <td>0</td>\n",
              "      <td>0</td>\n",
              "      <td>0</td>\n",
              "      <td>0</td>\n",
              "      <td>0</td>\n",
              "      <td>0</td>\n",
              "      <td>0</td>\n",
              "      <td>0</td>\n",
              "      <td>0</td>\n",
              "      <td>1</td>\n",
              "    </tr>\n",
              "    <tr>\n",
              "      <th>165508</th>\n",
              "      <td>rs4921914_Min_ABE_501_g4</td>\n",
              "      <td>-9:3:+:A&gt;G,-8:4:+:A&gt;G,-3:9:+:A&gt;G,2:14:+:A&gt;G,4:...</td>\n",
              "      <td>0</td>\n",
              "      <td>0</td>\n",
              "      <td>0</td>\n",
              "      <td>0</td>\n",
              "      <td>0</td>\n",
              "      <td>0</td>\n",
              "      <td>0</td>\n",
              "      <td>0</td>\n",
              "      <td>0</td>\n",
              "      <td>0</td>\n",
              "      <td>0</td>\n",
              "      <td>1</td>\n",
              "    </tr>\n",
              "    <tr>\n",
              "      <th>165509</th>\n",
              "      <td>rs191388787_Maj_ABE_121_g2</td>\n",
              "      <td>-7:3:+:A&gt;G,-5:5:+:A&gt;G,-3:7:+:A&gt;G</td>\n",
              "      <td>0</td>\n",
              "      <td>0</td>\n",
              "      <td>0</td>\n",
              "      <td>0</td>\n",
              "      <td>0</td>\n",
              "      <td>0</td>\n",
              "      <td>0</td>\n",
              "      <td>0</td>\n",
              "      <td>0</td>\n",
              "      <td>0</td>\n",
              "      <td>0</td>\n",
              "      <td>1</td>\n",
              "    </tr>\n",
              "    <tr>\n",
              "      <th>165510</th>\n",
              "      <td>rs113408797_Maj_ABE_41_g1</td>\n",
              "      <td>-8:1:+:A&gt;G,-1:8:+:A&gt;G,3:12:+:A&gt;G,5:14:+:A&gt;G,17...</td>\n",
              "      <td>0</td>\n",
              "      <td>0</td>\n",
              "      <td>0</td>\n",
              "      <td>0</td>\n",
              "      <td>0</td>\n",
              "      <td>0</td>\n",
              "      <td>0</td>\n",
              "      <td>0</td>\n",
              "      <td>0</td>\n",
              "      <td>0</td>\n",
              "      <td>0</td>\n",
              "      <td>1</td>\n",
              "    </tr>\n",
              "  </tbody>\n",
              "</table>\n",
              "<p>165511 rows × 14 columns</p>\n",
              "</div>\n",
              "      <button class=\"colab-df-convert\" onclick=\"convertToInteractive('df-7f0290da-b360-43b0-8450-5038265b25d7')\"\n",
              "              title=\"Convert this dataframe to an interactive table.\"\n",
              "              style=\"display:none;\">\n",
              "        \n",
              "  <svg xmlns=\"http://www.w3.org/2000/svg\" height=\"24px\"viewBox=\"0 0 24 24\"\n",
              "       width=\"24px\">\n",
              "    <path d=\"M0 0h24v24H0V0z\" fill=\"none\"/>\n",
              "    <path d=\"M18.56 5.44l.94 2.06.94-2.06 2.06-.94-2.06-.94-.94-2.06-.94 2.06-2.06.94zm-11 1L8.5 8.5l.94-2.06 2.06-.94-2.06-.94L8.5 2.5l-.94 2.06-2.06.94zm10 10l.94 2.06.94-2.06 2.06-.94-2.06-.94-.94-2.06-.94 2.06-2.06.94z\"/><path d=\"M17.41 7.96l-1.37-1.37c-.4-.4-.92-.59-1.43-.59-.52 0-1.04.2-1.43.59L10.3 9.45l-7.72 7.72c-.78.78-.78 2.05 0 2.83L4 21.41c.39.39.9.59 1.41.59.51 0 1.02-.2 1.41-.59l7.78-7.78 2.81-2.81c.8-.78.8-2.07 0-2.86zM5.41 20L4 18.59l7.72-7.72 1.47 1.35L5.41 20z\"/>\n",
              "  </svg>\n",
              "      </button>\n",
              "      \n",
              "  <style>\n",
              "    .colab-df-container {\n",
              "      display:flex;\n",
              "      flex-wrap:wrap;\n",
              "      gap: 12px;\n",
              "    }\n",
              "\n",
              "    .colab-df-convert {\n",
              "      background-color: #E8F0FE;\n",
              "      border: none;\n",
              "      border-radius: 50%;\n",
              "      cursor: pointer;\n",
              "      display: none;\n",
              "      fill: #1967D2;\n",
              "      height: 32px;\n",
              "      padding: 0 0 0 0;\n",
              "      width: 32px;\n",
              "    }\n",
              "\n",
              "    .colab-df-convert:hover {\n",
              "      background-color: #E2EBFA;\n",
              "      box-shadow: 0px 1px 2px rgba(60, 64, 67, 0.3), 0px 1px 3px 1px rgba(60, 64, 67, 0.15);\n",
              "      fill: #174EA6;\n",
              "    }\n",
              "\n",
              "    [theme=dark] .colab-df-convert {\n",
              "      background-color: #3B4455;\n",
              "      fill: #D2E3FC;\n",
              "    }\n",
              "\n",
              "    [theme=dark] .colab-df-convert:hover {\n",
              "      background-color: #434B5C;\n",
              "      box-shadow: 0px 1px 3px 1px rgba(0, 0, 0, 0.15);\n",
              "      filter: drop-shadow(0px 1px 2px rgba(0, 0, 0, 0.3));\n",
              "      fill: #FFFFFF;\n",
              "    }\n",
              "  </style>\n",
              "\n",
              "      <script>\n",
              "        const buttonEl =\n",
              "          document.querySelector('#df-7f0290da-b360-43b0-8450-5038265b25d7 button.colab-df-convert');\n",
              "        buttonEl.style.display =\n",
              "          google.colab.kernel.accessAllowed ? 'block' : 'none';\n",
              "\n",
              "        async function convertToInteractive(key) {\n",
              "          const element = document.querySelector('#df-7f0290da-b360-43b0-8450-5038265b25d7');\n",
              "          const dataTable =\n",
              "            await google.colab.kernel.invokeFunction('convertToInteractive',\n",
              "                                                     [key], {});\n",
              "          if (!dataTable) return;\n",
              "\n",
              "          const docLinkHtml = 'Like what you see? Visit the ' +\n",
              "            '<a target=\"_blank\" href=https://colab.research.google.com/notebooks/data_table.ipynb>data table notebook</a>'\n",
              "            + ' to learn more about interactive tables.';\n",
              "          element.innerHTML = '';\n",
              "          dataTable['output_type'] = 'display_data';\n",
              "          await google.colab.output.renderOutput(dataTable, element);\n",
              "          const docLink = document.createElement('div');\n",
              "          docLink.innerHTML = docLinkHtml;\n",
              "          element.appendChild(docLink);\n",
              "        }\n",
              "      </script>\n",
              "    </div>\n",
              "  </div>\n",
              "  "
            ],
            "text/plain": [
              "                               guide  \\\n",
              "0                       LDLR_SA_3_g5   \n",
              "1                       LDLR_SA_3_g5   \n",
              "2                       LDLR_SA_3_g5   \n",
              "3                       LDLR_SA_3_g5   \n",
              "4                       LDLR_SA_3_g5   \n",
              "...                              ...   \n",
              "165506  2:164588224GAG_Maj_ABE_10_g3   \n",
              "165507  2:164588224GAG_Maj_ABE_10_g3   \n",
              "165508      rs4921914_Min_ABE_501_g4   \n",
              "165509    rs191388787_Maj_ABE_121_g2   \n",
              "165510     rs113408797_Maj_ABE_41_g1   \n",
              "\n",
              "                                                   allele  rep1_bot  rep2_bot  \\\n",
              "0                                                                26        13   \n",
              "1                                              0:13:+:A>G         6        16   \n",
              "2                                  -12:1:+:A>G,0:13:+:A>G         2        16   \n",
              "3                                   0:13:+:A>G,7:20:+:A>G         2         0   \n",
              "4           -12:1:+:A>G,-8:5:+:A>G,0:13:+:A>G,10:23:+:A>G         1         0   \n",
              "...                                                   ...       ...       ...   \n",
              "165506                             -10:1:+:C>T,-8:3:+:A>T         0         0   \n",
              "165507                  -8:3:+:A>T,-3:8:+:C>A,-1:10:+:G>A         0         0   \n",
              "165508  -9:3:+:A>G,-8:4:+:A>G,-3:9:+:A>G,2:14:+:A>G,4:...         0         0   \n",
              "165509                   -7:3:+:A>G,-5:5:+:A>G,-3:7:+:A>G         0         0   \n",
              "165510  -8:1:+:A>G,-1:8:+:A>G,3:12:+:A>G,5:14:+:A>G,17...         0         0   \n",
              "\n",
              "        rep3_VPA_bot  rep4_VPA_bot  rep1_bulk  rep2_bulk  rep3_VPA_bulk  \\\n",
              "0                  9            13         60         21             27   \n",
              "1                 11            24         29         21             28   \n",
              "2                  1            24         16          5              9   \n",
              "3                  0             0          0          0              0   \n",
              "4                  0             0          0          0              0   \n",
              "...              ...           ...        ...        ...            ...   \n",
              "165506             0             0          0          0              0   \n",
              "165507             0             0          0          0              0   \n",
              "165508             0             0          0          0              0   \n",
              "165509             0             0          0          0              0   \n",
              "165510             0             0          0          0              0   \n",
              "\n",
              "        rep4_VPA_bulk  rep1_top  rep2_top  rep3_VPA_top  rep4_VPA_top  \n",
              "0                  31        32        26            43            43  \n",
              "1                  22        27        11            20            13  \n",
              "2                   4        17        12             7             3  \n",
              "3                   9         0         0             0             0  \n",
              "4                   0         0         0             0             0  \n",
              "...               ...       ...       ...           ...           ...  \n",
              "165506              0         0         0             0             1  \n",
              "165507              0         0         0             0             1  \n",
              "165508              0         0         0             0             1  \n",
              "165509              0         0         0             0             1  \n",
              "165510              0         0         0             0             1  \n",
              "\n",
              "[165511 rows x 14 columns]"
            ]
          },
          "execution_count": 35,
          "metadata": {},
          "output_type": "execute_result"
        }
      ],
      "source": [
        "bdata.uns[\"allele_counts\"]"
      ]
    },
    {
      "cell_type": "markdown",
      "metadata": {
        "id": "A_1ERHsEbD4R"
      },
      "source": [
        "## Subsetting & addition\n",
        "\n"
      ]
    },
    {
      "cell_type": "markdown",
      "metadata": {
        "id": "WCCNOXtQbD4S"
      },
      "source": [
        "Works as anndata, supports allele & edit count operations.\n"
      ]
    },
    {
      "cell_type": "markdown",
      "metadata": {
        "id": "wLQd6h_ubD4S"
      },
      "source": [
        "### Subsetting & selection\n"
      ]
    },
    {
      "cell_type": "code",
      "execution_count": 3,
      "metadata": {
        "id": "jaUnqqXt3G2P"
      },
      "outputs": [],
      "source": [
        "bdata.samples[\"replicate\"], bdata.samples[\"sort\"] = zip(*bdata.samples.index.map(lambda s: s.rsplit(\"_\", 1)))"
      ]
    },
    {
      "cell_type": "code",
      "execution_count": 39,
      "metadata": {
        "id": "DDVh1WtrbD4T"
      },
      "outputs": [],
      "source": [
        "bdata_subset = bdata[:10,bdata.samples.sort == \"bulk\"]"
      ]
    },
    {
      "cell_type": "code",
      "execution_count": 4,
      "metadata": {
        "id": "Z_s5M7L1bD4U"
      },
      "outputs": [],
      "source": [
        "bdata.uns[\"allele_counts\"] = bdata.uns['allele_counts'].loc[bdata.uns['allele_counts'].allele.map(str) != \"\"]"
      ]
    },
    {
      "cell_type": "markdown",
      "metadata": {
        "id": "6wzebZzsbD4a"
      },
      "source": [
        "## Getting edit rates from allele counts\n",
        "\n"
      ]
    },
    {
      "cell_type": "code",
      "execution_count": 42,
      "metadata": {
        "colab": {
          "base_uri": "https://localhost:8080/",
          "height": 488
        },
        "id": "GMV9enV35HKu",
        "outputId": "e8259a37-98f1-408c-9e16-d5315c2ce06c"
      },
      "outputs": [
        {
          "data": {
            "text/html": [
              "\n",
              "  <div id=\"df-8bedf952-1ebb-4ab0-97e3-c1ac26dfa8fe\">\n",
              "    <div class=\"colab-df-container\">\n",
              "      <div>\n",
              "<style scoped>\n",
              "    .dataframe tbody tr th:only-of-type {\n",
              "        vertical-align: middle;\n",
              "    }\n",
              "\n",
              "    .dataframe tbody tr th {\n",
              "        vertical-align: top;\n",
              "    }\n",
              "\n",
              "    .dataframe thead th {\n",
              "        text-align: right;\n",
              "    }\n",
              "</style>\n",
              "<table border=\"1\" class=\"dataframe\">\n",
              "  <thead>\n",
              "    <tr style=\"text-align: right;\">\n",
              "      <th></th>\n",
              "      <th>guide</th>\n",
              "      <th>allele</th>\n",
              "      <th>rep1_bot</th>\n",
              "      <th>rep2_bot</th>\n",
              "      <th>rep3_VPA_bot</th>\n",
              "      <th>rep4_VPA_bot</th>\n",
              "      <th>rep1_bulk</th>\n",
              "      <th>rep2_bulk</th>\n",
              "      <th>rep3_VPA_bulk</th>\n",
              "      <th>rep4_VPA_bulk</th>\n",
              "      <th>rep1_top</th>\n",
              "      <th>rep2_top</th>\n",
              "      <th>rep3_VPA_top</th>\n",
              "      <th>rep4_VPA_top</th>\n",
              "    </tr>\n",
              "  </thead>\n",
              "  <tbody>\n",
              "    <tr>\n",
              "      <th>1</th>\n",
              "      <td>LDLR_SA_3_g5</td>\n",
              "      <td>0:13:+:A&gt;G</td>\n",
              "      <td>6</td>\n",
              "      <td>16</td>\n",
              "      <td>11</td>\n",
              "      <td>24</td>\n",
              "      <td>29</td>\n",
              "      <td>21</td>\n",
              "      <td>28</td>\n",
              "      <td>22</td>\n",
              "      <td>27</td>\n",
              "      <td>11</td>\n",
              "      <td>20</td>\n",
              "      <td>13</td>\n",
              "    </tr>\n",
              "    <tr>\n",
              "      <th>2</th>\n",
              "      <td>LDLR_SA_3_g5</td>\n",
              "      <td>-12:1:+:A&gt;G,0:13:+:A&gt;G</td>\n",
              "      <td>2</td>\n",
              "      <td>16</td>\n",
              "      <td>1</td>\n",
              "      <td>24</td>\n",
              "      <td>16</td>\n",
              "      <td>5</td>\n",
              "      <td>9</td>\n",
              "      <td>4</td>\n",
              "      <td>17</td>\n",
              "      <td>12</td>\n",
              "      <td>7</td>\n",
              "      <td>3</td>\n",
              "    </tr>\n",
              "    <tr>\n",
              "      <th>3</th>\n",
              "      <td>LDLR_SA_3_g5</td>\n",
              "      <td>0:13:+:A&gt;G,7:20:+:A&gt;G</td>\n",
              "      <td>2</td>\n",
              "      <td>0</td>\n",
              "      <td>0</td>\n",
              "      <td>0</td>\n",
              "      <td>0</td>\n",
              "      <td>0</td>\n",
              "      <td>0</td>\n",
              "      <td>9</td>\n",
              "      <td>0</td>\n",
              "      <td>0</td>\n",
              "      <td>0</td>\n",
              "      <td>0</td>\n",
              "    </tr>\n",
              "    <tr>\n",
              "      <th>4</th>\n",
              "      <td>LDLR_SA_3_g5</td>\n",
              "      <td>-12:1:+:A&gt;G,-8:5:+:A&gt;G,0:13:+:A&gt;G,10:23:+:A&gt;G</td>\n",
              "      <td>1</td>\n",
              "      <td>0</td>\n",
              "      <td>0</td>\n",
              "      <td>0</td>\n",
              "      <td>0</td>\n",
              "      <td>0</td>\n",
              "      <td>0</td>\n",
              "      <td>0</td>\n",
              "      <td>0</td>\n",
              "      <td>0</td>\n",
              "      <td>0</td>\n",
              "      <td>0</td>\n",
              "    </tr>\n",
              "    <tr>\n",
              "      <th>5</th>\n",
              "      <td>LDLR_SA_3_g5</td>\n",
              "      <td>-12:1:+:A&gt;G,0:13:+:A&gt;G,7:20:+:A&gt;G</td>\n",
              "      <td>1</td>\n",
              "      <td>0</td>\n",
              "      <td>0</td>\n",
              "      <td>0</td>\n",
              "      <td>0</td>\n",
              "      <td>2</td>\n",
              "      <td>2</td>\n",
              "      <td>0</td>\n",
              "      <td>1</td>\n",
              "      <td>0</td>\n",
              "      <td>0</td>\n",
              "      <td>0</td>\n",
              "    </tr>\n",
              "    <tr>\n",
              "      <th>...</th>\n",
              "      <td>...</td>\n",
              "      <td>...</td>\n",
              "      <td>...</td>\n",
              "      <td>...</td>\n",
              "      <td>...</td>\n",
              "      <td>...</td>\n",
              "      <td>...</td>\n",
              "      <td>...</td>\n",
              "      <td>...</td>\n",
              "      <td>...</td>\n",
              "      <td>...</td>\n",
              "      <td>...</td>\n",
              "      <td>...</td>\n",
              "      <td>...</td>\n",
              "    </tr>\n",
              "    <tr>\n",
              "      <th>165506</th>\n",
              "      <td>2:164588224GAG_Maj_ABE_10_g3</td>\n",
              "      <td>-10:1:+:C&gt;T,-8:3:+:A&gt;T</td>\n",
              "      <td>0</td>\n",
              "      <td>0</td>\n",
              "      <td>0</td>\n",
              "      <td>0</td>\n",
              "      <td>0</td>\n",
              "      <td>0</td>\n",
              "      <td>0</td>\n",
              "      <td>0</td>\n",
              "      <td>0</td>\n",
              "      <td>0</td>\n",
              "      <td>0</td>\n",
              "      <td>1</td>\n",
              "    </tr>\n",
              "    <tr>\n",
              "      <th>165507</th>\n",
              "      <td>2:164588224GAG_Maj_ABE_10_g3</td>\n",
              "      <td>-8:3:+:A&gt;T,-3:8:+:C&gt;A,-1:10:+:G&gt;A</td>\n",
              "      <td>0</td>\n",
              "      <td>0</td>\n",
              "      <td>0</td>\n",
              "      <td>0</td>\n",
              "      <td>0</td>\n",
              "      <td>0</td>\n",
              "      <td>0</td>\n",
              "      <td>0</td>\n",
              "      <td>0</td>\n",
              "      <td>0</td>\n",
              "      <td>0</td>\n",
              "      <td>1</td>\n",
              "    </tr>\n",
              "    <tr>\n",
              "      <th>165508</th>\n",
              "      <td>rs4921914_Min_ABE_501_g4</td>\n",
              "      <td>-9:3:+:A&gt;G,-8:4:+:A&gt;G,-3:9:+:A&gt;G,2:14:+:A&gt;G,4:...</td>\n",
              "      <td>0</td>\n",
              "      <td>0</td>\n",
              "      <td>0</td>\n",
              "      <td>0</td>\n",
              "      <td>0</td>\n",
              "      <td>0</td>\n",
              "      <td>0</td>\n",
              "      <td>0</td>\n",
              "      <td>0</td>\n",
              "      <td>0</td>\n",
              "      <td>0</td>\n",
              "      <td>1</td>\n",
              "    </tr>\n",
              "    <tr>\n",
              "      <th>165509</th>\n",
              "      <td>rs191388787_Maj_ABE_121_g2</td>\n",
              "      <td>-7:3:+:A&gt;G,-5:5:+:A&gt;G,-3:7:+:A&gt;G</td>\n",
              "      <td>0</td>\n",
              "      <td>0</td>\n",
              "      <td>0</td>\n",
              "      <td>0</td>\n",
              "      <td>0</td>\n",
              "      <td>0</td>\n",
              "      <td>0</td>\n",
              "      <td>0</td>\n",
              "      <td>0</td>\n",
              "      <td>0</td>\n",
              "      <td>0</td>\n",
              "      <td>1</td>\n",
              "    </tr>\n",
              "    <tr>\n",
              "      <th>165510</th>\n",
              "      <td>rs113408797_Maj_ABE_41_g1</td>\n",
              "      <td>-8:1:+:A&gt;G,-1:8:+:A&gt;G,3:12:+:A&gt;G,5:14:+:A&gt;G,17...</td>\n",
              "      <td>0</td>\n",
              "      <td>0</td>\n",
              "      <td>0</td>\n",
              "      <td>0</td>\n",
              "      <td>0</td>\n",
              "      <td>0</td>\n",
              "      <td>0</td>\n",
              "      <td>0</td>\n",
              "      <td>0</td>\n",
              "      <td>0</td>\n",
              "      <td>0</td>\n",
              "      <td>1</td>\n",
              "    </tr>\n",
              "  </tbody>\n",
              "</table>\n",
              "<p>162065 rows × 14 columns</p>\n",
              "</div>\n",
              "      <button class=\"colab-df-convert\" onclick=\"convertToInteractive('df-8bedf952-1ebb-4ab0-97e3-c1ac26dfa8fe')\"\n",
              "              title=\"Convert this dataframe to an interactive table.\"\n",
              "              style=\"display:none;\">\n",
              "        \n",
              "  <svg xmlns=\"http://www.w3.org/2000/svg\" height=\"24px\"viewBox=\"0 0 24 24\"\n",
              "       width=\"24px\">\n",
              "    <path d=\"M0 0h24v24H0V0z\" fill=\"none\"/>\n",
              "    <path d=\"M18.56 5.44l.94 2.06.94-2.06 2.06-.94-2.06-.94-.94-2.06-.94 2.06-2.06.94zm-11 1L8.5 8.5l.94-2.06 2.06-.94-2.06-.94L8.5 2.5l-.94 2.06-2.06.94zm10 10l.94 2.06.94-2.06 2.06-.94-2.06-.94-.94-2.06-.94 2.06-2.06.94z\"/><path d=\"M17.41 7.96l-1.37-1.37c-.4-.4-.92-.59-1.43-.59-.52 0-1.04.2-1.43.59L10.3 9.45l-7.72 7.72c-.78.78-.78 2.05 0 2.83L4 21.41c.39.39.9.59 1.41.59.51 0 1.02-.2 1.41-.59l7.78-7.78 2.81-2.81c.8-.78.8-2.07 0-2.86zM5.41 20L4 18.59l7.72-7.72 1.47 1.35L5.41 20z\"/>\n",
              "  </svg>\n",
              "      </button>\n",
              "      \n",
              "  <style>\n",
              "    .colab-df-container {\n",
              "      display:flex;\n",
              "      flex-wrap:wrap;\n",
              "      gap: 12px;\n",
              "    }\n",
              "\n",
              "    .colab-df-convert {\n",
              "      background-color: #E8F0FE;\n",
              "      border: none;\n",
              "      border-radius: 50%;\n",
              "      cursor: pointer;\n",
              "      display: none;\n",
              "      fill: #1967D2;\n",
              "      height: 32px;\n",
              "      padding: 0 0 0 0;\n",
              "      width: 32px;\n",
              "    }\n",
              "\n",
              "    .colab-df-convert:hover {\n",
              "      background-color: #E2EBFA;\n",
              "      box-shadow: 0px 1px 2px rgba(60, 64, 67, 0.3), 0px 1px 3px 1px rgba(60, 64, 67, 0.15);\n",
              "      fill: #174EA6;\n",
              "    }\n",
              "\n",
              "    [theme=dark] .colab-df-convert {\n",
              "      background-color: #3B4455;\n",
              "      fill: #D2E3FC;\n",
              "    }\n",
              "\n",
              "    [theme=dark] .colab-df-convert:hover {\n",
              "      background-color: #434B5C;\n",
              "      box-shadow: 0px 1px 3px 1px rgba(0, 0, 0, 0.15);\n",
              "      filter: drop-shadow(0px 1px 2px rgba(0, 0, 0, 0.3));\n",
              "      fill: #FFFFFF;\n",
              "    }\n",
              "  </style>\n",
              "\n",
              "      <script>\n",
              "        const buttonEl =\n",
              "          document.querySelector('#df-8bedf952-1ebb-4ab0-97e3-c1ac26dfa8fe button.colab-df-convert');\n",
              "        buttonEl.style.display =\n",
              "          google.colab.kernel.accessAllowed ? 'block' : 'none';\n",
              "\n",
              "        async function convertToInteractive(key) {\n",
              "          const element = document.querySelector('#df-8bedf952-1ebb-4ab0-97e3-c1ac26dfa8fe');\n",
              "          const dataTable =\n",
              "            await google.colab.kernel.invokeFunction('convertToInteractive',\n",
              "                                                     [key], {});\n",
              "          if (!dataTable) return;\n",
              "\n",
              "          const docLinkHtml = 'Like what you see? Visit the ' +\n",
              "            '<a target=\"_blank\" href=https://colab.research.google.com/notebooks/data_table.ipynb>data table notebook</a>'\n",
              "            + ' to learn more about interactive tables.';\n",
              "          element.innerHTML = '';\n",
              "          dataTable['output_type'] = 'display_data';\n",
              "          await google.colab.output.renderOutput(dataTable, element);\n",
              "          const docLink = document.createElement('div');\n",
              "          docLink.innerHTML = docLinkHtml;\n",
              "          element.appendChild(docLink);\n",
              "        }\n",
              "      </script>\n",
              "    </div>\n",
              "  </div>\n",
              "  "
            ],
            "text/plain": [
              "                               guide  \\\n",
              "1                       LDLR_SA_3_g5   \n",
              "2                       LDLR_SA_3_g5   \n",
              "3                       LDLR_SA_3_g5   \n",
              "4                       LDLR_SA_3_g5   \n",
              "5                       LDLR_SA_3_g5   \n",
              "...                              ...   \n",
              "165506  2:164588224GAG_Maj_ABE_10_g3   \n",
              "165507  2:164588224GAG_Maj_ABE_10_g3   \n",
              "165508      rs4921914_Min_ABE_501_g4   \n",
              "165509    rs191388787_Maj_ABE_121_g2   \n",
              "165510     rs113408797_Maj_ABE_41_g1   \n",
              "\n",
              "                                                   allele  rep1_bot  rep2_bot  \\\n",
              "1                                              0:13:+:A>G         6        16   \n",
              "2                                  -12:1:+:A>G,0:13:+:A>G         2        16   \n",
              "3                                   0:13:+:A>G,7:20:+:A>G         2         0   \n",
              "4           -12:1:+:A>G,-8:5:+:A>G,0:13:+:A>G,10:23:+:A>G         1         0   \n",
              "5                       -12:1:+:A>G,0:13:+:A>G,7:20:+:A>G         1         0   \n",
              "...                                                   ...       ...       ...   \n",
              "165506                             -10:1:+:C>T,-8:3:+:A>T         0         0   \n",
              "165507                  -8:3:+:A>T,-3:8:+:C>A,-1:10:+:G>A         0         0   \n",
              "165508  -9:3:+:A>G,-8:4:+:A>G,-3:9:+:A>G,2:14:+:A>G,4:...         0         0   \n",
              "165509                   -7:3:+:A>G,-5:5:+:A>G,-3:7:+:A>G         0         0   \n",
              "165510  -8:1:+:A>G,-1:8:+:A>G,3:12:+:A>G,5:14:+:A>G,17...         0         0   \n",
              "\n",
              "        rep3_VPA_bot  rep4_VPA_bot  rep1_bulk  rep2_bulk  rep3_VPA_bulk  \\\n",
              "1                 11            24         29         21             28   \n",
              "2                  1            24         16          5              9   \n",
              "3                  0             0          0          0              0   \n",
              "4                  0             0          0          0              0   \n",
              "5                  0             0          0          2              2   \n",
              "...              ...           ...        ...        ...            ...   \n",
              "165506             0             0          0          0              0   \n",
              "165507             0             0          0          0              0   \n",
              "165508             0             0          0          0              0   \n",
              "165509             0             0          0          0              0   \n",
              "165510             0             0          0          0              0   \n",
              "\n",
              "        rep4_VPA_bulk  rep1_top  rep2_top  rep3_VPA_top  rep4_VPA_top  \n",
              "1                  22        27        11            20            13  \n",
              "2                   4        17        12             7             3  \n",
              "3                   9         0         0             0             0  \n",
              "4                   0         0         0             0             0  \n",
              "5                   0         1         0             0             0  \n",
              "...               ...       ...       ...           ...           ...  \n",
              "165506              0         0         0             0             1  \n",
              "165507              0         0         0             0             1  \n",
              "165508              0         0         0             0             1  \n",
              "165509              0         0         0             0             1  \n",
              "165510              0         0         0             0             1  \n",
              "\n",
              "[162065 rows x 14 columns]"
            ]
          },
          "execution_count": 42,
          "metadata": {},
          "output_type": "execute_result"
        }
      ],
      "source": [
        "bdata.uns['allele_counts']"
      ]
    },
    {
      "cell_type": "code",
      "execution_count": 5,
      "metadata": {
        "id": "pEX2eOem4uka"
      },
      "outputs": [],
      "source": [
        "bdata.uns[\"edit_counts\"] = bdata.get_edit_from_allele()"
      ]
    },
    {
      "cell_type": "code",
      "execution_count": 12,
      "metadata": {
        "colab": {
          "base_uri": "https://localhost:8080/"
        },
        "id": "FwKNCaIm7JSH",
        "outputId": "f874adbf-6286-46a5-8b6b-5f80a204da58"
      },
      "outputs": [
        {
          "name": "stdout",
          "output_type": "stream",
          "text": [
            "New edit matrix saved in .layers['edits']. Returning old edits.\n"
          ]
        },
        {
          "data": {
            "text/plain": [
              "array([[0., 0., 0., ..., 0., 0., 0.],\n",
              "       [0., 0., 0., ..., 0., 0., 0.],\n",
              "       [0., 0., 0., ..., 0., 0., 0.],\n",
              "       ...,\n",
              "       [0., 0., 0., ..., 0., 0., 0.],\n",
              "       [0., 0., 0., ..., 0., 0., 0.],\n",
              "       [0., 0., 0., ..., 0., 0., 0.]])"
            ]
          },
          "execution_count": 12,
          "metadata": {},
          "output_type": "execute_result"
        }
      ],
      "source": [
        "bdata.get_edit_mat_from_uns(\"A\", \"G\", target_pos_col = \"target_pos\")"
      ]
    },
    {
      "cell_type": "code",
      "execution_count": 13,
      "metadata": {
        "id": "aJXnxwbb4F3G"
      },
      "outputs": [],
      "source": [
        "window_edit_rate= bdata.get_guide_edit_rate(normalize_by_editable_base = True,\n",
        "                   edited_base = \"A\",\n",
        "                   editable_base_start = 3,\n",
        "                   editable_base_end = 8,\n",
        "                   bcmatch_thres = 5,\n",
        "                   prior_weight = 1,\n",
        "                   return_result = True)"
      ]
    },
    {
      "cell_type": "code",
      "execution_count": 14,
      "metadata": {
        "colab": {
          "base_uri": "https://localhost:8080/",
          "height": 490
        },
        "id": "dgM4MptLbD4c",
        "outputId": "94f97a73-0e8e-4ffc-9833-8634053c3f42"
      },
      "outputs": [
        {
          "data": {
            "text/plain": [
              "(array([579., 364., 299., 249., 221., 214., 191., 134., 159., 133.,  97.,\n",
              "         90.,  83.,  76.,  70.,  67.,  48.,  53.,  45.,  56.,  38.,  37.,\n",
              "         32.,  21.,  24.,  15.,   8.,   7.,   1.,   2.]),\n",
              " array([4.13052458e-04, 2.89016995e-02, 5.73903465e-02, 8.58789936e-02,\n",
              "        1.14367641e-01, 1.42856288e-01, 1.71344935e-01, 1.99833582e-01,\n",
              "        2.28322229e-01, 2.56810876e-01, 2.85299523e-01, 3.13788170e-01,\n",
              "        3.42276817e-01, 3.70765464e-01, 3.99254111e-01, 4.27742758e-01,\n",
              "        4.56231405e-01, 4.84720052e-01, 5.13208699e-01, 5.41697346e-01,\n",
              "        5.70185993e-01, 5.98674640e-01, 6.27163287e-01, 6.55651934e-01,\n",
              "        6.84140582e-01, 7.12629229e-01, 7.41117876e-01, 7.69606523e-01,\n",
              "        7.98095170e-01, 8.26583817e-01, 8.55072464e-01]),\n",
              " <BarContainer object of 30 artists>)"
            ]
          },
          "execution_count": 14,
          "metadata": {},
          "output_type": "execute_result"
        },
        {
          "data": {
            "image/png": "[encoded data removed]",
            "text/plain": [
              "<Figure size 432x288 with 1 Axes>"
            ]
          },
          "metadata": {
            "needs_background": "light"
          },
          "output_type": "display_data"
        }
      ],
      "source": [
        "plt.hist(window_edit_rate, bins=30)"
      ]
    },
    {
      "cell_type": "markdown",
      "metadata": {
        "id": "YkgDKePa8ldu"
      },
      "source": [
        "# Allele filtering"
      ]
    },
    {
      "cell_type": "markdown",
      "metadata": {
        "id": "KB1B2sqX8qaA"
      },
      "source": [
        "If you have non-edited control data of reporter (e.g., plasmid library), you can filter out the reporter to select the significant base edits per guides. Significance is determined by Fisher's exact test."
      ]
    },
    {
      "cell_type": "code",
      "execution_count": 16,
      "metadata": {
        "colab": {
          "base_uri": "https://localhost:8080/"
        },
        "id": "8tDcYNhB8KGj",
        "outputId": "7f0523e8-01b7-4139-a6a2-9fb9850caf01"
      },
      "outputs": [
        {
          "name": "stdout",
          "output_type": "stream",
          "text": [
            "Downloading...\n",
            "From: https://drive.google.com/uc?id=153fKJntS-4vlrodC6xlZ9oINQo1XT_i9\n",
            "To: /content/bean_count_LDLvar_plasmid.h5ad\n",
            "\r  0% 0.00/5.10M [00:00<?, ?B/s]\r100% 5.10M/5.10M [00:00<00:00, 148MB/s]\n"
          ]
        }
      ],
      "source": [
        "! gdown 153fKJntS-4vlrodC6xlZ9oINQo1XT_i9"
      ]
    },
    {
      "cell_type": "code",
      "execution_count": 17,
      "metadata": {
        "id": "DsukzmLgbD4e"
      },
      "outputs": [],
      "source": [
        "bdata_plasmid = be.read_h5ad(\"bean_count_LDLvar_plasmid.h5ad\")"
      ]
    },
    {
      "cell_type": "code",
      "execution_count": 19,
      "metadata": {
        "id": "Dw6JJLXf9YL3"
      },
      "outputs": [],
      "source": [
        "bdata_plasmid.uns[\"allele_counts\"] = bdata_plasmid.uns['allele_counts'].loc[bdata_plasmid.uns['allele_counts'].allele.map(str) != \"\"]"
      ]
    },
    {
      "cell_type": "markdown",
      "metadata": {
        "id": "wZ8xiC2n9r93"
      },
      "source": [
        "Allele filtering may take few minutes depending on the number of alleles in the data."
      ]
    },
    {
      "cell_type": "code",
      "execution_count": null,
      "metadata": {
        "colab": {
          "base_uri": "https://localhost:8080/",
          "height": 180,
          "referenced_widgets": [
            "494439c2d852487da85750b5a52a196d",
            "eb3cccd21f1c47efa34fcbe8a42dae73",
            "46805ab8d60448d3968bd07e5882f40f",
            "1f08cf51bc9d4f5c96a2b2226e525553",
            "2420e49e9ce740828cd6c0383ccde9a7",
            "22bea1b275c54009ac53ac367a18596a",
            "62578c83bcf948b98878b0e8a4e044bb",
            "884527b49d144508a932dc3e61c6530a",
            "57ce91c75531417cb2447ef9d3d5ed2d",
            "d939649975ce480aa7d6ae9affd5b004",
            "242b5df64e8a44a88076efd8f8cf8f57"
          ]
        },
        "id": "G2FRRENq9NC1",
        "outputId": "2b0c9b6a-12e7-423b-a232-a34174654f14"
      },
      "outputs": [
        {
          "name": "stdout",
          "output_type": "stream",
          "text": [
            "Running Fisher's exact test to get significant edits compared to control...\n",
            "Done calculating significance.\n",
            "\n",
            "\n",
            "Filtering alleles for those containing significant edits (q < 0.05)...\n",
            "Running 30 parallel processes to filter alleles...\n",
            "Done filtering alleles, merging the result...\n"
          ]
        },
        {
          "data": {
            "application/vnd.jupyter.widget-view+json": {
              "model_id": "494439c2d852487da85750b5a52a196d",
              "version_major": 2,
              "version_minor": 0
            },
            "text/plain": [
              "Mapping alleles to closest filtered alleles:   0%|          | 0/3446 [00:00<?, ?it/s]"
            ]
          },
          "metadata": {},
          "output_type": "display_data"
        }
      ],
      "source": [
        "q_val_sig, bdata.uns['sig_allele_counts'] = be.filter_alleles(\n",
        "    bdata, bdata_plasmid, filter_each_sample = True, run_parallel = True, allele_counts_key=\"allele_counts\", map_to_filtered = True)"
      ]
    }
  ],
  "metadata": {
    "colab": {
      "collapsed_sections": [],
      "provenance": []
    },
    "kernelspec": {
      "display_name": "Python [conda env:.conda-jy_anbe]",
      "language": "python",
      "name": "conda-env-.conda-jy_anbe-py"
    },
    "language_info": {
      "codemirror_mode": {
        "name": "ipython",
        "version": 3
      },
      "file_extension": ".py",
      "mimetype": "text/x-python",
      "name": "python",
      "nbconvert_exporter": "python",
      "pygments_lexer": "ipython3",
      "version": "3.8.11"
    },
    "widgets": {
      "application/vnd.jupyter.widget-state+json": {
        "1f08cf51bc9d4f5c96a2b2226e525553": {
          "model_module": "@jupyter-widgets/controls",
          "model_module_version": "1.5.0",
          "model_name": "HTMLModel",
          "state": {
            "_dom_classes": [],
            "_model_module": "@jupyter-widgets/controls",
            "_model_module_version": "1.5.0",
            "_model_name": "HTMLModel",
            "_view_count": null,
            "_view_module": "@jupyter-widgets/controls",
            "_view_module_version": "1.5.0",
            "_view_name": "HTMLView",
            "description": "",
            "description_tooltip": null,
            "layout": "IPY_MODEL_d939649975ce480aa7d6ae9affd5b004",
            "placeholder": "​",
            "style": "IPY_MODEL_242b5df64e8a44a88076efd8f8cf8f57",
            "value": " 607/3446 [00:48&lt;02:25, 19.56it/s]"
          }
        },
        "22bea1b275c54009ac53ac367a18596a": {
          "model_module": "@jupyter-widgets/base",
          "model_module_version": "1.2.0",
          "model_name": "LayoutModel",
          "state": {
            "_model_module": "@jupyter-widgets/base",
            "_model_module_version": "1.2.0",
            "_model_name": "LayoutModel",
            "_view_count": null,
            "_view_module": "@jupyter-widgets/base",
            "_view_module_version": "1.2.0",
            "_view_name": "LayoutView",
            "align_content": null,
            "align_items": null,
            "align_self": null,
            "border": null,
            "bottom": null,
            "display": null,
            "flex": null,
            "flex_flow": null,
            "grid_area": null,
            "grid_auto_columns": null,
            "grid_auto_flow": null,
            "grid_auto_rows": null,
            "grid_column": null,
            "grid_gap": null,
            "grid_row": null,
            "grid_template_areas": null,
            "grid_template_columns": null,
            "grid_template_rows": null,
            "height": null,
            "justify_content": null,
            "justify_items": null,
            "left": null,
            "margin": null,
            "max_height": null,
            "max_width": null,
            "min_height": null,
            "min_width": null,
            "object_fit": null,
            "object_position": null,
            "order": null,
            "overflow": null,
            "overflow_x": null,
            "overflow_y": null,
            "padding": null,
            "right": null,
            "top": null,
            "visibility": null,
            "width": null
          }
        },
        "2420e49e9ce740828cd6c0383ccde9a7": {
          "model_module": "@jupyter-widgets/base",
          "model_module_version": "1.2.0",
          "model_name": "LayoutModel",
          "state": {
            "_model_module": "@jupyter-widgets/base",
            "_model_module_version": "1.2.0",
            "_model_name": "LayoutModel",
            "_view_count": null,
            "_view_module": "@jupyter-widgets/base",
            "_view_module_version": "1.2.0",
            "_view_name": "LayoutView",
            "align_content": null,
            "align_items": null,
            "align_self": null,
            "border": null,
            "bottom": null,
            "display": null,
            "flex": null,
            "flex_flow": null,
            "grid_area": null,
            "grid_auto_columns": null,
            "grid_auto_flow": null,
            "grid_auto_rows": null,
            "grid_column": null,
            "grid_gap": null,
            "grid_row": null,
            "grid_template_areas": null,
            "grid_template_columns": null,
            "grid_template_rows": null,
            "height": null,
            "justify_content": null,
            "justify_items": null,
            "left": null,
            "margin": null,
            "max_height": null,
            "max_width": null,
            "min_height": null,
            "min_width": null,
            "object_fit": null,
            "object_position": null,
            "order": null,
            "overflow": null,
            "overflow_x": null,
            "overflow_y": null,
            "padding": null,
            "right": null,
            "top": null,
            "visibility": null,
            "width": null
          }
        },
        "242b5df64e8a44a88076efd8f8cf8f57": {
          "model_module": "@jupyter-widgets/controls",
          "model_module_version": "1.5.0",
          "model_name": "DescriptionStyleModel",
          "state": {
            "_model_module": "@jupyter-widgets/controls",
            "_model_module_version": "1.5.0",
            "_model_name": "DescriptionStyleModel",
            "_view_count": null,
            "_view_module": "@jupyter-widgets/base",
            "_view_module_version": "1.2.0",
            "_view_name": "StyleView",
            "description_width": ""
          }
        },
        "46805ab8d60448d3968bd07e5882f40f": {
          "model_module": "@jupyter-widgets/controls",
          "model_module_version": "1.5.0",
          "model_name": "FloatProgressModel",
          "state": {
            "_dom_classes": [],
            "_model_module": "@jupyter-widgets/controls",
            "_model_module_version": "1.5.0",
            "_model_name": "FloatProgressModel",
            "_view_count": null,
            "_view_module": "@jupyter-widgets/controls",
            "_view_module_version": "1.5.0",
            "_view_name": "ProgressView",
            "bar_style": "",
            "description": "",
            "description_tooltip": null,
            "layout": "IPY_MODEL_884527b49d144508a932dc3e61c6530a",
            "max": 3446,
            "min": 0,
            "orientation": "horizontal",
            "style": "IPY_MODEL_57ce91c75531417cb2447ef9d3d5ed2d",
            "value": 607
          }
        },
        "494439c2d852487da85750b5a52a196d": {
          "model_module": "@jupyter-widgets/controls",
          "model_module_version": "1.5.0",
          "model_name": "HBoxModel",
          "state": {
            "_dom_classes": [],
            "_model_module": "@jupyter-widgets/controls",
            "_model_module_version": "1.5.0",
            "_model_name": "HBoxModel",
            "_view_count": null,
            "_view_module": "@jupyter-widgets/controls",
            "_view_module_version": "1.5.0",
            "_view_name": "HBoxView",
            "box_style": "",
            "children": [
              "IPY_MODEL_eb3cccd21f1c47efa34fcbe8a42dae73",
              "IPY_MODEL_46805ab8d60448d3968bd07e5882f40f",
              "IPY_MODEL_1f08cf51bc9d4f5c96a2b2226e525553"
            ],
            "layout": "IPY_MODEL_2420e49e9ce740828cd6c0383ccde9a7"
          }
        },
        "57ce91c75531417cb2447ef9d3d5ed2d": {
          "model_module": "@jupyter-widgets/controls",
          "model_module_version": "1.5.0",
          "model_name": "ProgressStyleModel",
          "state": {
            "_model_module": "@jupyter-widgets/controls",
            "_model_module_version": "1.5.0",
            "_model_name": "ProgressStyleModel",
            "_view_count": null,
            "_view_module": "@jupyter-widgets/base",
            "_view_module_version": "1.2.0",
            "_view_name": "StyleView",
            "bar_color": null,
            "description_width": ""
          }
        },
        "62578c83bcf948b98878b0e8a4e044bb": {
          "model_module": "@jupyter-widgets/controls",
          "model_module_version": "1.5.0",
          "model_name": "DescriptionStyleModel",
          "state": {
            "_model_module": "@jupyter-widgets/controls",
            "_model_module_version": "1.5.0",
            "_model_name": "DescriptionStyleModel",
            "_view_count": null,
            "_view_module": "@jupyter-widgets/base",
            "_view_module_version": "1.2.0",
            "_view_name": "StyleView",
            "description_width": ""
          }
        },
        "884527b49d144508a932dc3e61c6530a": {
          "model_module": "@jupyter-widgets/base",
          "model_module_version": "1.2.0",
          "model_name": "LayoutModel",
          "state": {
            "_model_module": "@jupyter-widgets/base",
            "_model_module_version": "1.2.0",
            "_model_name": "LayoutModel",
            "_view_count": null,
            "_view_module": "@jupyter-widgets/base",
            "_view_module_version": "1.2.0",
            "_view_name": "LayoutView",
            "align_content": null,
            "align_items": null,
            "align_self": null,
            "border": null,
            "bottom": null,
            "display": null,
            "flex": null,
            "flex_flow": null,
            "grid_area": null,
            "grid_auto_columns": null,
            "grid_auto_flow": null,
            "grid_auto_rows": null,
            "grid_column": null,
            "grid_gap": null,
            "grid_row": null,
            "grid_template_areas": null,
            "grid_template_columns": null,
            "grid_template_rows": null,
            "height": null,
            "justify_content": null,
            "justify_items": null,
            "left": null,
            "margin": null,
            "max_height": null,
            "max_width": null,
            "min_height": null,
            "min_width": null,
            "object_fit": null,
            "object_position": null,
            "order": null,
            "overflow": null,
            "overflow_x": null,
            "overflow_y": null,
            "padding": null,
            "right": null,
            "top": null,
            "visibility": null,
            "width": null
          }
        },
        "d939649975ce480aa7d6ae9affd5b004": {
          "model_module": "@jupyter-widgets/base",
          "model_module_version": "1.2.0",
          "model_name": "LayoutModel",
          "state": {
            "_model_module": "@jupyter-widgets/base",
            "_model_module_version": "1.2.0",
            "_model_name": "LayoutModel",
            "_view_count": null,
            "_view_module": "@jupyter-widgets/base",
            "_view_module_version": "1.2.0",
            "_view_name": "LayoutView",
            "align_content": null,
            "align_items": null,
            "align_self": null,
            "border": null,
            "bottom": null,
            "display": null,
            "flex": null,
            "flex_flow": null,
            "grid_area": null,
            "grid_auto_columns": null,
            "grid_auto_flow": null,
            "grid_auto_rows": null,
            "grid_column": null,
            "grid_gap": null,
            "grid_row": null,
            "grid_template_areas": null,
            "grid_template_columns": null,
            "grid_template_rows": null,
            "height": null,
            "justify_content": null,
            "justify_items": null,
            "left": null,
            "margin": null,
            "max_height": null,
            "max_width": null,
            "min_height": null,
            "min_width": null,
            "object_fit": null,
            "object_position": null,
            "order": null,
            "overflow": null,
            "overflow_x": null,
            "overflow_y": null,
            "padding": null,
            "right": null,
            "top": null,
            "visibility": null,
            "width": null
          }
        },
        "eb3cccd21f1c47efa34fcbe8a42dae73": {
          "model_module": "@jupyter-widgets/controls",
          "model_module_version": "1.5.0",
          "model_name": "HTMLModel",
          "state": {
            "_dom_classes": [],
            "_model_module": "@jupyter-widgets/controls",
            "_model_module_version": "1.5.0",
            "_model_name": "HTMLModel",
            "_view_count": null,
            "_view_module": "@jupyter-widgets/controls",
            "_view_module_version": "1.5.0",
            "_view_name": "HTMLView",
            "description": "",
            "description_tooltip": null,
            "layout": "IPY_MODEL_22bea1b275c54009ac53ac367a18596a",
            "placeholder": "​",
            "style": "IPY_MODEL_62578c83bcf948b98878b0e8a4e044bb",
            "value": "Mapping alleles to closest filtered alleles:  18%"
          }
        }
      }
    }
  },
  "nbformat": 4,
  "nbformat_minor": 0
}
