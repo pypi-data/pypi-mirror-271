{
 "cells": [
  {
   "cell_type": "markdown",
   "id": "0",
   "metadata": {},
   "source": [
    "# Lab 4\n",
    "\n",
    "[![image](https://colab.research.google.com/assets/colab-badge.svg)](https://colab.research.google.com/github/Mahnaz-Meem/geohub/blob/main/docs/examples/lab_4.ipynb)"
   ]
  },
  {
   "cell_type": "code",
   "execution_count": 26,
   "id": "1",
   "metadata": {
    "tags": []
   },
   "outputs": [
    {
     "name": "stdout",
     "output_type": "stream",
     "text": [
      "Submitted time: 2024-03-04 14:44:58.356780\n"
     ]
    }
   ],
   "source": [
    "from datetime import datetime\n",
    "\n",
    "now = datetime.now()\n",
    "print(f\"Submitted time: {now}\")"
   ]
  },
  {
   "cell_type": "markdown",
   "id": "2",
   "metadata": {},
   "source": [
    "## Question 1\n",
    "\n",
    "**Personal Message:** Use a variable to represent a person’s name, and print a message to that person. Your message should be simple, such as, “Hello Eric, would you like to learn some Python today?”"
   ]
  },
  {
   "cell_type": "code",
   "execution_count": 27,
   "id": "3",
   "metadata": {
    "tags": []
   },
   "outputs": [
    {
     "name": "stdout",
     "output_type": "stream",
     "text": [
      "Hello Lubna, would you like to learn some Python today?\n"
     ]
    }
   ],
   "source": [
    "#person_name = input(\"Please enter your name: \")\n",
    "person_name = \"Lubna\"\n",
    "\n",
    "\n",
    "message = f\"Hello {person_name}, would you like to learn some Python today?\"\n",
    "print(message)\n"
   ]
  },
  {
   "cell_type": "markdown",
   "id": "4",
   "metadata": {},
   "source": [
    "## Question 2\n",
    "\n",
    "**Name Cases:** Use a variable to represent a person’s name, aaaaand then print that person’s name in lowercase, uppercase, and title case."
   ]
  },
  {
   "cell_type": "code",
   "execution_count": 28,
   "id": "5",
   "metadata": {
    "tags": []
   },
   "outputs": [
    {
     "data": {
      "text/plain": [
       "('robin', 'ROBIN', 'Robin')"
      ]
     },
     "execution_count": 28,
     "metadata": {},
     "output_type": "execute_result"
    }
   ],
   "source": [
    "person_name = \"Robin\"\n",
    "\n",
    "lowercase_name = person_name.lower()\n",
    "\n",
    "uppercase_name = person_name.upper()\n",
    "\n",
    "titlecase_name = person_name.title()\n",
    "\n",
    "lowercase_name, uppercase_name, titlecase_name\n"
   ]
  },
  {
   "cell_type": "markdown",
   "id": "6",
   "metadata": {},
   "source": [
    "## Question 3\n",
    "\n",
    "**Famous Quote:** Find a quote from a famous person you admire. Print the quote and the name of its author. Your output should look something like the following, including the quotation marks:\n",
    "\n",
    "```\n",
    "Albert Einstein once said, “A person who never made a mistake never tried anything new.”\n",
    "```"
   ]
  },
  {
   "cell_type": "code",
   "execution_count": 29,
   "id": "7",
   "metadata": {
    "tags": []
   },
   "outputs": [
    {
     "data": {
      "text/plain": [
       "'Steve Jobs once said, “The only way to do great work is to love what you do.”'"
      ]
     },
     "execution_count": 29,
     "metadata": {},
     "output_type": "execute_result"
    }
   ],
   "source": [
    "quote = \"The only way to do great work is to love what you do.\"\n",
    "author = \"Steve Jobs\"\n",
    "\n",
    "formatted_quote = f'{author} once said, “{quote}”'\n",
    "formatted_quote\n"
   ]
  },
  {
   "cell_type": "markdown",
   "id": "8",
   "metadata": {},
   "source": [
    "## Question 4\n",
    "\n",
    "**Stripping Names:** Use a variable to represent a person’s name, and include some whitespace characters at the beginning and end of the name. Make sure you use each character combination, \"\\t\" and \"\\n\", at least once.\n",
    "Print the name once, so the whitespace around the name is displayed. Then print the name using each of the three stripping functions, lstrip(), rstrip(), and strip()."
   ]
  },
  {
   "cell_type": "code",
   "execution_count": 30,
   "id": "9",
   "metadata": {},
   "outputs": [
    {
     "name": "stdout",
     "output_type": "stream",
     "text": [
      "This is the person's name: Eric Smith \n"
     ]
    },
    {
     "data": {
      "text/plain": [
       "('Name with whitespace: \" Eric Smith \"',\n",
       " 'After lstrip(): \"Eric Smith \"',\n",
       " 'After rstrip(): \" Eric Smith\"',\n",
       " 'After strip(): \"Eric Smith\"')"
      ]
     },
     "execution_count": 30,
     "metadata": {},
     "output_type": "execute_result"
    }
   ],
   "source": [
    "person_name = \" Eric Smith \"\n",
    "print(f\"This is the person's name:{person_name}\")\n",
    "\n",
    "name_with_whitespace = f'Name with whitespace: \"{person_name}\"'\n",
    "\n",
    "# to remove whitespace from the left\n",
    "name_lstrip = f'After lstrip(): \"{person_name.lstrip()}\"'\n",
    "\n",
    "# to remove whitespace from the right\n",
    "name_rstrip = f'After rstrip(): \"{person_name.rstrip()}\"'\n",
    "\n",
    "# to remove whitespace from both sides\n",
    "name_strip = f'After strip(): \"{person_name.strip()}\"'\n",
    "\n",
    "name_with_whitespace, name_lstrip, name_rstrip, name_strip\n"
   ]
  },
  {
   "cell_type": "markdown",
   "id": "10",
   "metadata": {},
   "source": [
    "## Question 5\n",
    "\n",
    "**Names:** Store the names of a few of your friends in a list called names. Print\n",
    "each person’s name by accessing each element in the list, one at a time."
   ]
  },
  {
   "cell_type": "code",
   "execution_count": 6,
   "id": "11",
   "metadata": {},
   "outputs": [
    {
     "name": "stdout",
     "output_type": "stream",
     "text": [
      "Rachel\n",
      "Chandler\n",
      "Pheobe\n",
      "Monica\n",
      "Ross\n",
      "Joey\n"
     ]
    }
   ],
   "source": [
    "Friends = [\"Rachel\", \"Chandler\", \"Pheobe\", \"Monica\", \"Ross\", \"Joey\"]\n",
    "\n",
    "for name in Friends:\n",
    "    print(name)"
   ]
  },
  {
   "cell_type": "markdown",
   "id": "12",
   "metadata": {},
   "source": [
    "## Question 6\n",
    "\n",
    "**Your Own List:** Think of your favorite mode of transportation, such as a motorcycle or a car, and make a list that stores several examples. Use your list to print a series of statements about these items, such as “I would like to own a Honda motorcycle.”"
   ]
  },
  {
   "cell_type": "code",
   "execution_count": 7,
   "id": "13",
   "metadata": {},
   "outputs": [
    {
     "name": "stdout",
     "output_type": "stream",
     "text": [
      "I would like to own a Tesla Model S\n",
      "I would like to own a BMW motorcycle\n",
      "I would like to own a Piper airplane\n"
     ]
    }
   ],
   "source": [
    "transportation_modes = [\"Tesla Model S\", \"BMW motorcycle\", \"Piper airplane\"]\n",
    "\n",
    "for i in transportation_modes:\n",
    "    print(f'I would like to own a {i}')"
   ]
  },
  {
   "cell_type": "markdown",
   "id": "14",
   "metadata": {},
   "source": [
    "## Question 7\n",
    "\n",
    "**Pizzas:** Think of at least three kinds of your favorite pizza. Store these pizza names in a list, and then use a for loop to print the name of each pizza.\n",
    "\n",
    "Modify your for loop to print a sentence using the name of the pizza instead of printing just the name of the pizza. For each pizza you should have one line of output containing a simple statement like _I like pepperoni pizza._"
   ]
  },
  {
   "cell_type": "code",
   "execution_count": 8,
   "id": "15",
   "metadata": {},
   "outputs": [
    {
     "name": "stdout",
     "output_type": "stream",
     "text": [
      "Pepperoni\n",
      "Margherita\n",
      "Hawaiian\n",
      "My favorite pizza is: Pepperoni\n",
      "My favorite pizza is: Margherita\n",
      "My favorite pizza is: Hawaiian\n",
      "I like pizzas, with a thin crispy crust!\n",
      "I really love pizza!\n"
     ]
    }
   ],
   "source": [
    "favorite_pizzas = [\"Pepperoni\", \"Margherita\", \"Hawaiian\"]\n",
    "\n",
    "for pizza in favorite_pizzas:\n",
    "    print(pizza)\n",
    "\n",
    "for pizza in favorite_pizzas:\n",
    "    print(f\"My favorite pizza is: {pizza}\")\n",
    "print(\"I like pizzas, with a thin crispy crust!\")\n",
    "print(\"I really love pizza!\")\n"
   ]
  },
  {
   "cell_type": "markdown",
   "id": "16",
   "metadata": {},
   "source": [
    "Add a line at the end of your program, outside the for loop, that states how much you like pizza. The output should consist of three or more lines about the kinds of pizza you like and then an additional sentence, such as _I really love pizza!_"
   ]
  },
  {
   "cell_type": "markdown",
   "id": "18",
   "metadata": {},
   "source": [
    "## Question 8\n",
    "\n",
    "**Animals:** Think of at least three different animals that have a common characteristic. Store the names of these animals in a list, and then use a for loop to print out the name of each animal.\n",
    "\n",
    "Modify your program to print a statement about each animal, such as _A dog would make a great pet._"
   ]
  },
  {
   "cell_type": "code",
   "execution_count": 9,
   "id": "268ab15e-14e0-4c70-bb7e-8aa717200413",
   "metadata": {},
   "outputs": [
    {
     "name": "stdout",
     "output_type": "stream",
     "text": [
      "dog\n",
      "cat\n",
      "rabbit\n",
      "A dog would make a great pet.\n",
      "A cat would make a great pet.\n",
      "A rabbit would make a great pet.\n"
     ]
    }
   ],
   "source": [
    "pets = [\"dog\", \"cat\", \"rabbit\"]\n",
    "\n",
    "for pet in pets:\n",
    "    print(pet)\n",
    "\n",
    "for pet in pets:\n",
    "    print(f\"A {pet} would make a great pet.\")"
   ]
  },
  {
   "cell_type": "markdown",
   "id": "20",
   "metadata": {},
   "source": [
    "Add a line at the end of your program stating what these animals have in common. You could print a sentence such as _Any of these animals would make a great pet!_"
   ]
  },
  {
   "cell_type": "code",
   "execution_count": 10,
   "id": "21",
   "metadata": {},
   "outputs": [
    {
     "name": "stdout",
     "output_type": "stream",
     "text": [
      "dog\n",
      "cat\n",
      "rabbit\n",
      "A dog would make a great pet.\n",
      "A cat would make a great pet.\n",
      "A rabbit would make a great pet.\n",
      "Any of these animals are cute and can be a great pet!\n"
     ]
    }
   ],
   "source": [
    "pets = [\"dog\", \"cat\", \"rabbit\"]\n",
    "\n",
    "for pet in pets:\n",
    "    print(pet)\n",
    "\n",
    "for pet in pets:\n",
    "    print(f\"A {pet} would make a great pet.\")\n",
    "print(\"Any of these animals are cute and can be a great pet!\")    "
   ]
  },
  {
   "cell_type": "markdown",
   "id": "22",
   "metadata": {},
   "source": [
    "## Question 9\n",
    "\n",
    "**Summing a Hundred:** Make a list of the numbers from one to one hundred, and then use `min()` and `max()` to make sure your list actually starts at one and ends at one hundred. Also, use the sum() function to see how quickly Python can add a hundred numbers."
   ]
  },
  {
   "cell_type": "code",
   "execution_count": 11,
   "id": "23",
   "metadata": {},
   "outputs": [
    {
     "name": "stdout",
     "output_type": "stream",
     "text": [
      "1\n",
      "100\n",
      "5050\n"
     ]
    }
   ],
   "source": [
    "numbers=list(range(1,101))\n",
    "print(min(numbers))\n",
    "print(max(numbers))\n",
    "print(sum(numbers))"
   ]
  },
  {
   "cell_type": "markdown",
   "id": "24",
   "metadata": {},
   "source": [
    "## Question 10\n",
    "\n",
    "**Odd Numbers:** Use the third argument of the `range()` function to make a list of the odd numbers from 1 to 20. Use a `for` loop to print each number."
   ]
  },
  {
   "cell_type": "code",
   "execution_count": 12,
   "id": "25",
   "metadata": {},
   "outputs": [
    {
     "name": "stdout",
     "output_type": "stream",
     "text": [
      "1\n",
      "3\n",
      "5\n",
      "7\n",
      "9\n",
      "11\n",
      "13\n",
      "15\n",
      "17\n",
      "19\n"
     ]
    }
   ],
   "source": [
    "odd_numbers = list(range(1, 21, 2))\n",
    "\n",
    "for number in odd_numbers:\n",
    "    print(number)"
   ]
  },
  {
   "cell_type": "markdown",
   "id": "26",
   "metadata": {},
   "source": [
    "## Question 11\n",
    "\n",
    "**Threes:** Make a list of the multiples of 3 from 3 to 30. Use a `for` loop to print the numbers in your list."
   ]
  },
  {
   "cell_type": "code",
   "execution_count": 13,
   "id": "27",
   "metadata": {},
   "outputs": [
    {
     "name": "stdout",
     "output_type": "stream",
     "text": [
      "3\n",
      "6\n",
      "9\n",
      "12\n",
      "15\n",
      "18\n",
      "21\n",
      "24\n",
      "27\n",
      "30\n"
     ]
    }
   ],
   "source": [
    "threes=list(range(3,31,3))\n",
    "for i in threes:\n",
    "    print(i)"
   ]
  },
  {
   "cell_type": "markdown",
   "id": "28",
   "metadata": {},
   "source": [
    "## Question 12\n",
    "\n",
    "**Cube Comprehension:** Use a list comprehension to generate a list of the first 10 cubes."
   ]
  },
  {
   "cell_type": "code",
   "execution_count": 14,
   "id": "29",
   "metadata": {},
   "outputs": [
    {
     "name": "stdout",
     "output_type": "stream",
     "text": [
      "[1, 8, 27, 64, 125, 216, 343, 512, 729, 1000]\n"
     ]
    }
   ],
   "source": [
    "cubes = [x**3 for x in range(1, 11)]\n",
    "\n",
    "print(cubes)"
   ]
  },
  {
   "cell_type": "markdown",
   "id": "30",
   "metadata": {},
   "source": [
    "## Question 13\n",
    "\n",
    "**Slices:** Using one of the programs you wrote in this lab, add several lines to the end of the program that do the following:\n",
    "\n",
    "Print the message _The first three items in the list are:_. Then use a slice to print the first three items from that program’s list."
   ]
  },
  {
   "cell_type": "code",
   "execution_count": 15,
   "id": "31",
   "metadata": {},
   "outputs": [
    {
     "name": "stdout",
     "output_type": "stream",
     "text": [
      "['Rachel', 'Chandler', 'Pheobe']\n"
     ]
    }
   ],
   "source": [
    "Friends = [\"Rachel\", \"Chandler\", \"Pheobe\", \"Monica\", \"Ross\", \"Joey\"]\n",
    "print(Friends[:3])"
   ]
  },
  {
   "cell_type": "markdown",
   "id": "32",
   "metadata": {},
   "source": [
    "Print the message _Three items from the middle of the list are:_. Use a slice to print three items from the middle of the list."
   ]
  },
  {
   "cell_type": "code",
   "execution_count": 16,
   "id": "33",
   "metadata": {},
   "outputs": [
    {
     "name": "stdout",
     "output_type": "stream",
     "text": [
      "['Chandler', 'Pheobe', 'Monica']\n"
     ]
    }
   ],
   "source": [
    "Friends = [\"Rachel\", \"Chandler\", \"Pheobe\", \"Monica\", \"Ross\", \"Joey\"]\n",
    "print(Friends[1:4])"
   ]
  },
  {
   "cell_type": "markdown",
   "id": "34",
   "metadata": {},
   "source": [
    "Print the message _The last three items in the list are:_. Use a slice to print the last three items in the list."
   ]
  },
  {
   "cell_type": "code",
   "execution_count": 17,
   "id": "35",
   "metadata": {},
   "outputs": [
    {
     "name": "stdout",
     "output_type": "stream",
     "text": [
      "['Monica', 'Ross', 'Joey']\n"
     ]
    }
   ],
   "source": [
    "print(Friends[-3:])"
   ]
  },
  {
   "cell_type": "markdown",
   "id": "36",
   "metadata": {},
   "source": [
    "## Question 14\n",
    "\n",
    "**Buffet:** A buffet-style restaurant offers only five basic foods. Think of five simple foods, and store them in a tuple.\n",
    "\n",
    "Use a for loop to print each food the restaurant offers."
   ]
  },
  {
   "cell_type": "code",
   "execution_count": 18,
   "id": "37",
   "metadata": {},
   "outputs": [
    {
     "name": "stdout",
     "output_type": "stream",
     "text": [
      "Pizza\n",
      "Burger\n",
      "Salad\n",
      "Kulfi\n",
      "Fries\n"
     ]
    }
   ],
   "source": [
    "foods = (\"Pizza\", \"Burger\", \"Salad\", \"Kulfi\", \"Fries\")\n",
    "\n",
    "for food in foods:\n",
    "    print(food)"
   ]
  },
  {
   "cell_type": "markdown",
   "id": "38",
   "metadata": {},
   "source": [
    "The restaurant changes its menu, replacing two of the items with different foods. Add a line that rewrites the tuple, and then use a for loop to print each of the items on the revised menu."
   ]
  },
  {
   "cell_type": "code",
   "execution_count": 19,
   "id": "39",
   "metadata": {},
   "outputs": [
    {
     "name": "stdout",
     "output_type": "stream",
     "text": [
      "Revised Buffet Menu:\n",
      "Pizza\n",
      "Fish\n",
      "Salad\n",
      "Kulfi\n",
      "Pasta\n"
     ]
    }
   ],
   "source": [
    "# Changing two items in the original menu\n",
    "# Since tuples are immutable, we'll convert it to a list, make changes, and convert it back to a tuple\n",
    "buffet_foods_list = list(foods)\n",
    "buffet_foods_list[1] = \"Fish\"  # Replace \"Burger\" with \"Fish\"\n",
    "buffet_foods_list[4] = \"Pasta\"  # Replace \"Fries\" with \"Pasta\"\n",
    "revised_buffet_foods = tuple(buffet_foods_list)\n",
    "\n",
    "# Print each of the items on the revised menu using a for loop\n",
    "print(\"Revised Buffet Menu:\")\n",
    "for food in revised_buffet_foods:\n",
    "    print(food)"
   ]
  },
  {
   "cell_type": "markdown",
   "id": "40",
   "metadata": {},
   "source": [
    "## Question 15\n",
    "\n",
    "**Alien Colors:** Imagine an alien was just shot down in a game. Create a variable called `alien_color` and assign it a value of `green, yellow,` or `red`.\n",
    "\n",
    "-   Write an if statement to test whether the alien’s color is green. If it is, print a message that the player just earned 5 points.\n",
    "-   Write one version of this program that passes the if test and another that fails. (The version that fails will have no output.)"
   ]
  },
  {
   "cell_type": "code",
   "execution_count": 20,
   "id": "41",
   "metadata": {},
   "outputs": [
    {
     "data": {
      "text/plain": [
       "('You just earned 5 points for shooting the alien!',\n",
       " 'You just lost 5 points for shooting the wrong alien!')"
      ]
     },
     "execution_count": 20,
     "metadata": {},
     "output_type": "execute_result"
    }
   ],
   "source": [
    "# Version that passes the if test\n",
    "alien_color = \"green\"\n",
    "\n",
    "# If the alien's color is green, print a message\n",
    "if alien_color == \"green\":\n",
    "    message_pass = \"You just earned 5 points for shooting the alien!\"\n",
    "else:\n",
    "    message_pass = \"You just lost 5 points for shooting the wrong alien!\"\n",
    "\n",
    "# Version that fails the if test\n",
    "alien_color = \"red\"\n",
    "\n",
    "# If the alien's color is green, print a message\n",
    "if alien_color == \"green\":\n",
    "    message_fail = \"You just earned 5 points for shooting the alien!\"\n",
    "else:\n",
    "    message_fail = \"You just lost 5 points for shooting the wrong alien!\"\n",
    "\n",
    "message_pass, message_fail\n"
   ]
  },
  {
   "cell_type": "markdown",
   "id": "42",
   "metadata": {},
   "source": [
    "## Question 16\n",
    "\n",
    "**Stages of Life:** Write an `if-elif-else` chain that determines a person’s stage of life. Set a value for the variable `age`, and then:\n",
    "\n",
    "-   If the person is less than 2 years old, print a message that the person is a baby.\n",
    "-   If the person is at least 2 years old but less than 4, print a message that the person is a toddler.\n",
    "-   If the person is at least 4 years old but less than 13, print a message that the person is a kid.\n",
    "-   If the person is at least 13 years old but less than 20, print a message that the person is a teenager.\n",
    "-   If the person is at least 20 years old but less than 65, print a message that the person is an adult."
   ]
  },
  {
   "cell_type": "code",
   "execution_count": 21,
   "id": "43",
   "metadata": {},
   "outputs": [
    {
     "name": "stdout",
     "output_type": "stream",
     "text": [
      "The person is an adult.\n"
     ]
    }
   ],
   "source": [
    "age = 25\n",
    "\n",
    "if age < 2:\n",
    "    print(\"The person is a baby.\")\n",
    "elif age < 4:\n",
    "    print(\"The person is a toddler.\")\n",
    "elif age < 13:\n",
    "    print(\"The person is a kid.\")\n",
    "elif age < 20:\n",
    "    print(\"The person is a teenager.\")\n",
    "elif age < 65:\n",
    "    print(\"The person is an adult.\")\n",
    "else:\n",
    "    print(\"The person is a senior citizen.\")"
   ]
  },
  {
   "cell_type": "markdown",
   "id": "44",
   "metadata": {},
   "source": [
    "## Question 17\n",
    "\n",
    "**Favorite Fruit:** Make a list of your favorite fruits, and then write a series of independent `if` statements that check for certain fruits in your list.\n",
    "\n",
    "-   Make a list of your three favorite fruits and call it favorite_fruits.\n",
    "-   Write five if statements. Each should check whether a certain kind of fruit is in your list. If the fruit is in your list, the if block should print a statement, such as You really like bananas!"
   ]
  },
  {
   "cell_type": "code",
   "execution_count": 22,
   "id": "45",
   "metadata": {},
   "outputs": [
    {
     "name": "stdout",
     "output_type": "stream",
     "text": [
      "You really like grapes!\n",
      "You really like blackberries!\n",
      "You really like strawberries!\n"
     ]
    }
   ],
   "source": [
    "favorite_fruits = ['grapes', 'blackberries', 'strawberry']\n",
    "\n",
    "if 'grapes' in favorite_fruits:\n",
    "    print(\"You really like grapes!\")\n",
    "\n",
    "if 'blackberries' in favorite_fruits:\n",
    "    print(\"You really like blackberries!\")\n",
    "\n",
    "if 'kiwi' in favorite_fruits:\n",
    "    print(\"You really like kiwis!\")\n",
    "\n",
    "if 'strawberry' in favorite_fruits:\n",
    "    print(\"You really like strawberries!\")\n",
    "\n",
    "if 'pineapple' in favorite_fruits:\n",
    "    print(\"You really like pineapples!\")"
   ]
  },
  {
   "cell_type": "markdown",
   "id": "46",
   "metadata": {},
   "source": [
    "## Question 18\n",
    "\n",
    "**Hello Admin:** Make a list of five or more usernames, including the name `admin`. Imagine you are writing code that will print a greeting to each user after they log in to a website. Loop through the list, and print a greeting to each user:\n",
    "\n",
    "-   If the username is 'admin', print a special greeting, such as _Hello admin, would you like to see a status report?_\n",
    "-   Otherwise, print a generic greeting, such as _Hello Jaden, thank you for logging in again_."
   ]
  },
  {
   "cell_type": "code",
   "execution_count": 23,
   "id": "47",
   "metadata": {},
   "outputs": [
    {
     "name": "stdout",
     "output_type": "stream",
     "text": [
      "Hello admin, would you like to see a status report?\n",
      "Hello Jaden, thank you for logging in again!\n",
      "Hello Emma, thank you for logging in again!\n",
      "Hello Sam, thank you for logging in again!\n",
      "Hello Chris, thank you for logging in again!\n",
      "Hello Sophia, thank you for logging in again!\n"
     ]
    }
   ],
   "source": [
    "usernames = ['admin', 'jaden', 'emma', 'sam', 'chris', 'sophia']\n",
    "\n",
    "for username in usernames:\n",
    "    if username == 'admin':\n",
    "        print(\"Hello admin, would you like to see a status report?\")\n",
    "    else:\n",
    "        print(f\"Hello {username.title()}, thank you for logging in again!\")\n"
   ]
  },
  {
   "cell_type": "markdown",
   "id": "48",
   "metadata": {},
   "source": [
    "## Question 19\n",
    "\n",
    "**Checking Usernames:** Do the following to create a program that simulates how websites ensure that everyone has a unique username.\n",
    "\n",
    "-   Make a list of five or more usernames called `current_users`.\n",
    "-   Make another list of five usernames called `new_users`. Make sure one or two of the new usernames are also in the `current_users` list.\n",
    "-   Loop through the `new_users` list to see if each new username has already been used. If it has, print a message that the person will need to enter a new username. If a username has not been used, print a message saying that the username is available.\n",
    "-   Make sure your comparison is case insensitive. If 'John' has been used, 'JOHN' should not be accepted. (To do this, you’ll need to make a copy of `current_users` containing the lowercase versions of all existing users.)"
   ]
  },
  {
   "cell_type": "code",
   "execution_count": 24,
   "id": "49",
   "metadata": {},
   "outputs": [
    {
     "name": "stdout",
     "output_type": "stream",
     "text": [
      "The username 'Nagel' is available.\n",
      "The username 'Emma' is available.\n",
      "Sorry, the username 'Rachel' is already taken. Please enter a new username.\n",
      "Sorry, the username 'Chandler' is already taken. Please enter a new username.\n",
      "Sorry, the username 'Pheobe' is already taken. Please enter a new username.\n",
      "Sorry, the username 'Monica' is already taken. Please enter a new username.\n",
      "Sorry, the username 'Ross' is already taken. Please enter a new username.\n",
      "Sorry, the username 'joey' is already taken. Please enter a new username.\n",
      "The username 'Ellis' is available.\n"
     ]
    }
   ],
   "source": [
    "current_users = [\"Rachel\", \"Chandler\", \"Pheobe\", \"Monica\", \"Ross\", \"Joey\"]\n",
    "new_users = [\"Nagel\", \"Emma\", \"Rachel\", \"Chandler\", \"Pheobe\", \"Monica\", \"Ross\", \"joey\", \"Ellis\"]\n",
    "\n",
    "current_users_lower = [user.lower() for user in current_users]\n",
    "\n",
    "for new_user in new_users:\n",
    "    if new_user.lower() in current_users_lower:\n",
    "        print(f\"Sorry, the username '{new_user}' is already taken. Please enter a new username.\")\n",
    "    else:\n",
    "        print(f\"The username '{new_user}' is available.\")\n"
   ]
  },
  {
   "cell_type": "markdown",
   "id": "50",
   "metadata": {},
   "source": [
    "## Question 20\n",
    "\n",
    "**Ordinal Numbers:** Ordinal numbers indicate their position in a list, such as _1st_ or _2nd_. Most ordinal numbers end in _th_, except 1, 2, and 3.\n",
    "\n",
    "-   Store the numbers 1 through 9 in a list.\n",
    "-   Loop through the list.\n",
    "-   Use an `if-elif-else` chain inside the loop to print the proper ordinal ending for each number. Your output should read \"1st 2nd 3rd 4th 5th 6th 7th 8th 9th\", and each result should be on a separate line."
   ]
  },
  {
   "cell_type": "code",
   "execution_count": 25,
   "id": "51",
   "metadata": {},
   "outputs": [
    {
     "name": "stdout",
     "output_type": "stream",
     "text": [
      "1st\n",
      "2nd\n",
      "3rd\n",
      "4th\n",
      "5th\n",
      "6th\n",
      "7th\n",
      "8th\n",
      "9th\n"
     ]
    }
   ],
   "source": [
    "numbers = list(range(1, 10))\n",
    "\n",
    "for number in numbers:\n",
    "    if number == 1:\n",
    "        ordinal = '1st'\n",
    "    elif number == 2:\n",
    "        ordinal = '2nd'\n",
    "    elif number == 3:\n",
    "        ordinal = '3rd'\n",
    "    else:\n",
    "        ordinal = f'{number}th'\n",
    "    print(ordinal)\n"
   ]
  },
  {
   "cell_type": "code",
   "execution_count": null,
   "id": "70938a59-0b07-42c4-aa44-1ad01125eded",
   "metadata": {},
   "outputs": [],
   "source": []
  }
 ],
 "metadata": {
  "kernelspec": {
   "display_name": "Python 3 (ipykernel)",
   "language": "python",
   "name": "python3"
  },
  "language_info": {
   "codemirror_mode": {
    "name": "ipython",
    "version": 3
   },
   "file_extension": ".py",
   "mimetype": "text/x-python",
   "name": "python",
   "nbconvert_exporter": "python",
   "pygments_lexer": "ipython3",
   "version": "3.11.7"
  }
 },
 "nbformat": 4,
 "nbformat_minor": 5
}
