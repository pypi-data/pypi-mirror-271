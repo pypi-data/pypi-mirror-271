{
 "cells": [
  {
   "cell_type": "markdown",
   "id": "0",
   "metadata": {},
   "source": [
    "# Lab 5\n",
    "\n",
    "[![image](https://colab.research.google.com/assets/colab-badge.svg)](https://colab.research.google.com/github/Mahnaz-Meem/geohub/blob/main/docs/examples/lab_5.ipynb)\n"
   ]
  },
  {
   "cell_type": "markdown",
   "id": "1",
   "metadata": {},
   "source": [
    "## Question 1\n",
    "\n",
    "**Person:** Use a dictionary to store information about a person you know. Store their first name, last name, age, and the city in which they live. You should have keys such as first_name, last_name, age, and city. Print each piece of information stored in your dictionary."
   ]
  },
  {
   "cell_type": "code",
   "execution_count": 1,
   "id": "2",
   "metadata": {},
   "outputs": [
    {
     "name": "stdout",
     "output_type": "stream",
     "text": [
      "first_name: Abidur\n",
      "last_name: Reza\n",
      "age: 96\n",
      "city: Dhaka\n"
     ]
    }
   ],
   "source": [
    "# Create a dictionary to store information about a person\n",
    "person_info = {\n",
    "    \"first_name\": \"Abidur\",\n",
    "    \"last_name\": \"Reza\",\n",
    "    \"age\": 96,\n",
    "    \"city\": \"Dhaka\"\n",
    "}\n",
    "\n",
    "# Print each piece of information stored in the dictionary\n",
    "for key, value in person_info.items():\n",
    "    print(f\"{key}: {value}\")\n"
   ]
  },
  {
   "cell_type": "markdown",
   "id": "3",
   "metadata": {},
   "source": [
    "## Question 2\n",
    "\n",
    "**Favorite Numbers:** Use a dictionary to store people’s favorite numbers. Think of five names, and use them as keys in your dictionary. Think of a favorite number for each person, and store each as a value in your dictionary. Print each person’s name and their favorite number. For even more fun, poll a few friends and get some actual data for your program."
   ]
  },
  {
   "cell_type": "code",
   "execution_count": 3,
   "id": "4",
   "metadata": {},
   "outputs": [
    {
     "name": "stdout",
     "output_type": "stream",
     "text": [
      "Robin's favorite number is 5\n",
      "Daina's favorite number is 42\n",
      "Shayma's favorite number is 23\n",
      "Diana's favorite number is 9\n",
      "Evan's favorite number is 13\n"
     ]
    }
   ],
   "source": [
    "# Create a dictionary to store people's favorite numbers\n",
    "favorite_numbers = {\n",
    "    \"Robin\": 5,\n",
    "    \"Daina\": 42,\n",
    "    \"Shayma\": 23,\n",
    "    \"Diana\": 9,\n",
    "    \"Evan\": 13\n",
    "}\n",
    "\n",
    "# Print each person's name and their favorite number\n",
    "for name, number in favorite_numbers.items():\n",
    "    print(f\"{name}'s favorite number is {number}\")\n"
   ]
  },
  {
   "cell_type": "markdown",
   "id": "5",
   "metadata": {},
   "source": [
    "## Question 3\n",
    "\n",
    "**Glossary:** A Python dictionary can be used to model an actual dictionary. However, to avoid confusion, let’s call it a glossary.\n",
    "\n",
    "- Think of five programming words you’ve learned about in the previous chapters. Use these words as the keys in your glossary, and store their meanings as values.\n",
    "- Print each word and its meaning as neatly formatted output. You might print the word followed by a colon and then its meaning, or print the word on one line and then print its meaning indented on a second line. Use the newline character (\\n) to insert a blank line between each word-meaning pair in your output."
   ]
  },
  {
   "cell_type": "code",
   "execution_count": 4,
   "id": "6",
   "metadata": {},
   "outputs": [
    {
     "name": "stdout",
     "output_type": "stream",
     "text": [
      "variable:\n",
      "    A storage location paired with an associated symbolic name, which contains some known or unknown quantity of information referred to as a value.\n",
      "\n",
      "loop:\n",
      "    A programming construct that repeats a block of code multiple times until a certain condition is met.\n",
      "\n",
      "function:\n",
      "    A block of organized, reusable code that is used to perform a single, related action.\n",
      "\n",
      "dictionary:\n",
      "    A collection of key-value pairs, where each key is unique and is used to store and retrieve data.\n",
      "\n",
      "list:\n",
      "    A collection of items in a particular order. Lists can contain items of different types.\n",
      "\n"
     ]
    }
   ],
   "source": [
    "\n",
    "glossary = {\n",
    "    \"variable\": \"A storage location paired with an associated symbolic name, which contains some known or unknown quantity of information referred to as a value.\",\n",
    "    \"loop\": \"A programming construct that repeats a block of code multiple times until a certain condition is met.\",\n",
    "    \"function\": \"A block of organized, reusable code that is used to perform a single, related action.\",\n",
    "    \"dictionary\": \"A collection of key-value pairs, where each key is unique and is used to store and retrieve data.\",\n",
    "    \"list\": \"A collection of items in a particular order. Lists can contain items of different types.\"\n",
    "}\n",
    "\n",
    "# Print each word and its meaning in a neatly formatted output\n",
    "for term, definition in glossary.items():\n",
    "    print(f\"{term}:\\n    {definition}\\n\")\n"
   ]
  },
  {
   "cell_type": "markdown",
   "id": "7",
   "metadata": {},
   "source": [
    "## Question 4\n",
    "\n",
    "**Glossary 2:** Now that you know how to loop through a dictionary, clean up the code from Question 3 by replacing your series of print() calls with a loop that runs through the dictionary’s keys and values. When you’re sure that your loop works, add five more Python terms to your glossary. When you run your program again, these new words and meanings should automatically be included in the output."
   ]
  },
  {
   "cell_type": "code",
   "execution_count": 6,
   "id": "8",
   "metadata": {},
   "outputs": [
    {
     "name": "stdout",
     "output_type": "stream",
     "text": [
      "variable:\n",
      " A storage location paired with an associated symbolic name, which contains some known or unknown quantity of information referred to as a value.\n",
      "\n",
      "loop:\n",
      " A programming construct that repeats a block of code multiple times until a certain condition is met.\n",
      "\n",
      "function:\n",
      " A named block of code that is designed to do one specific job.\n",
      "\n",
      "dictionary:\n",
      " A collection of key-value pairs, where each key is unique and is used to store and retrieve data.\n",
      "\n",
      "list:\n",
      " A collection of items in a particular order. Lists can contain items of different types.\n",
      "\n",
      "argument:\n",
      " A piece of information that is passed from a function call to a function.\n",
      "\n",
      "conditional statement:\n",
      " A statement that controls the flow of execution depending on some condition.\n",
      "\n",
      "module:\n",
      " A file containing a set of functions and variables that you can include in your applications.\n",
      "\n",
      "tuple:\n",
      " An immutable list, meaning you can't change its values.\n",
      "\n"
     ]
    }
   ],
   "source": [
    "# Adding five more Python terms to the glossary\n",
    "glossary.update({\n",
    "    \"function\": \"A named block of code that is designed to do one specific job.\",\n",
    "    \"argument\": \"A piece of information that is passed from a function call to a function.\",\n",
    "    \"conditional statement\": \"A statement that controls the flow of execution depending on some condition.\",\n",
    "    \"module\": \"A file containing a set of functions and variables that you can include in your applications.\",\n",
    "    \"tuple\": \"An immutable list, meaning you can't change its values.\"\n",
    "})\n",
    "\n",
    "# Loop through the dictionary and print each term and its definition\n",
    "for term, definition in glossary.items():\n",
    "    print(f\"{term}:\\n {definition}\\n\")"
   ]
  },
  {
   "cell_type": "markdown",
   "id": "9",
   "metadata": {},
   "source": [
    "## Question 5\n",
    "\n",
    "**Rivers:** Make a dictionary containing three major rivers and the country each river runs through. One key-value pair might be 'nile': 'egypt'.\n",
    "\n",
    "- Use a loop to print a sentence about each river, such as _The Nile runs through Egypt._\n",
    "- Use a loop to print the name of each river included in the dictionary.\n",
    "- Use a loop to print the name of each country included in the dictionary."
   ]
  },
  {
   "cell_type": "code",
   "execution_count": 7,
   "id": "10",
   "metadata": {},
   "outputs": [
    {
     "name": "stdout",
     "output_type": "stream",
     "text": [
      "The Nile runs through Egypt.\n",
      "The Amazon runs through Brazil.\n",
      "The Padma runs through Bangladesh.\n",
      "\n",
      "Rivers mentioned:\n",
      "Nile\n",
      "Amazon\n",
      "Padma\n",
      "\n",
      "Countries mentioned:\n",
      "Egypt\n",
      "Brazil\n",
      "Bangladesh\n"
     ]
    }
   ],
   "source": [
    "\n",
    "rivers = {\n",
    "    \"nile\": \"egypt\",\n",
    "    \"amazon\": \"brazil\",\n",
    "    \"padma\": \"bangladesh\"\n",
    "}\n",
    "\n",
    "for river, country in rivers.items():\n",
    "    print(f\"The {river.title()} runs through {country.title()}.\")\n",
    "\n",
    "print(\"\\nRivers mentioned:\")\n",
    "for river in rivers.keys():\n",
    "    print(river.title())\n",
    "\n",
    "print(\"\\nCountries mentioned:\")\n",
    "for country in rivers.values():\n",
    "    print(country.title())\n"
   ]
  },
  {
   "cell_type": "markdown",
   "id": "11",
   "metadata": {},
   "source": [
    "## Question 6\n",
    "\n",
    "**Cities:** Make a dictionary called `cities`. Use the names of three cities as keys in your dictionary. Create a dictionary of information about each city and include the country that the city is in, its approximate population, and one fact about that city. The keys for each city’s dictionary should be something like `country`, `population`, and `fact`. Print the name of each city and all of the information you have stored about it."
   ]
  },
  {
   "cell_type": "code",
   "execution_count": 11,
   "id": "12",
   "metadata": {},
   "outputs": [
    {
     "name": "stdout",
     "output_type": "stream",
     "text": [
      "New York:\n",
      "  Country: United States\n",
      "  Population: 8.4 million\n",
      "  Fact: Home to the Statue of Liberty.\n",
      "\n",
      "Paris:\n",
      "  Country: France\n",
      "  Population: 2.1 million\n",
      "  Fact: Known as the City of Light.\n",
      "\n",
      "Tokyo:\n",
      "  Country: Japan\n",
      "  Population: 13.9 million\n",
      "  Fact: Has the most Michelin stars of any city in the world.\n",
      "\n"
     ]
    }
   ],
   "source": [
    "# Dictionary of cities, each containing a dictionary of information about the city\n",
    "cities = {\n",
    "    \"new york\": {\n",
    "        \"country\": \"United States\",\n",
    "        \"population\": \"8.4 million\",\n",
    "        \"fact\": \"Home to the Statue of Liberty.\"\n",
    "    },\n",
    "    \"paris\": {\n",
    "        \"country\": \"France\",\n",
    "        \"population\": \"2.1 million\",\n",
    "        \"fact\": \"Known as the City of Light.\"\n",
    "    },\n",
    "    \"tokyo\": {\n",
    "        \"country\": \"Japan\",\n",
    "        \"population\": \"13.9 million\",\n",
    "        \"fact\": \"Has the most Michelin stars of any city in the world.\"\n",
    "    }\n",
    "}\n",
    "\n",
    "# Loop to print the name of each city and all the information stored about it\n",
    "for city, info in cities.items():\n",
    "    print(f\"{city.title()}:\")\n",
    "    for key, value in info.items():\n",
    "        print(f\"  {key.title()}: {value}\")\n",
    "    print()  # Adding a blank line for better readability between cities\n"
   ]
  },
  {
   "cell_type": "markdown",
   "id": "13",
   "metadata": {},
   "source": [
    "## Question 7\n",
    "\n",
    "**Rental Car:** Write a program that asks the user what kind of rental car they would like. Print a message about that car, such as “Let me see if I can find you a Subaru.”"
   ]
  },
  {
   "cell_type": "code",
   "execution_count": 14,
   "id": "14",
   "metadata": {},
   "outputs": [
    {
     "name": "stdout",
     "output_type": "stream",
     "text": [
      "Let me see if I can find you a Subaru.\n"
     ]
    }
   ],
   "source": [
    "\n",
    "user_input = input(\"What kind of rental car would you like? \")\n",
    "print(f\"Let me see if I can find you a {user_input}.\")"
   ]
  },
  {
   "cell_type": "markdown",
   "id": "15",
   "metadata": {},
   "source": [
    "## Question 8\n",
    "\n",
    "**Restaurant Seating:** Write a program that asks the user how many people are in their dinner group. If the answer is more than eight, print a message saying they’ll have to wait for a table. Otherwise, report that their table is ready."
   ]
  },
  {
   "cell_type": "code",
   "execution_count": 15,
   "id": "16",
   "metadata": {},
   "outputs": [
    {
     "name": "stdout",
     "output_type": "stream",
     "text": [
      "Your table is ready. Enjoy your meal!\n"
     ]
    }
   ],
   "source": [
    "num_people = int(input(\"How many people are in your dinner group? \"))\n",
    "if num_people > 8:\n",
    "    print(\"I'm sorry, you'll have to wait for a table.\")\n",
    "else:\n",
    "    print(\"Your table is ready. Enjoy your meal!\")"
   ]
  },
  {
   "cell_type": "markdown",
   "id": "17",
   "metadata": {},
   "source": [
    "## Question 9\n",
    "\n",
    "**Multiples of Ten:** Ask the user for a number, and then report whether the number is a multiple of 10 or not."
   ]
  },
  {
   "cell_type": "code",
   "execution_count": 16,
   "id": "18",
   "metadata": {},
   "outputs": [
    {
     "name": "stdout",
     "output_type": "stream",
     "text": [
      "67 is not a multiple of 10.\n"
     ]
    }
   ],
   "source": [
    "user_number = int(input(\"Enter a number: \"))\n",
    "if user_number % 10 == 0:\n",
    "    print(f\"{user_number} is a multiple of 10.\")\n",
    "else:\n",
    "    print(f\"{user_number} is not a multiple of 10.\")"
   ]
  },
  {
   "cell_type": "markdown",
   "id": "19",
   "metadata": {},
   "source": [
    "## Question 10\n",
    "\n",
    "**Pizza Toppings:** Write a loop that prompts the user to enter a series of pizza toppings until they enter a 'quit' value. As they enter each topping, print a message saying you’ll add that topping to their pizza."
   ]
  },
  {
   "cell_type": "code",
   "execution_count": 17,
   "id": "20",
   "metadata": {},
   "outputs": [
    {
     "name": "stdout",
     "output_type": "stream",
     "text": [
      "Adding Olives to your pizza.\n",
      "Adding Extra Cheese to your pizza.\n",
      "Adding Basil to your pizza.\n",
      "Adding Mashroom to your pizza.\n",
      "\n",
      "Your pizza will have the following toppings:\n",
      "- Olives\n",
      "- Extra Cheese\n",
      "- Basil\n",
      "- Mashroom\n"
     ]
    }
   ],
   "source": [
    "pizza_toppings = []\n",
    "while True:\n",
    "    topping = input(\"Enter a pizza topping (type 'quit' to finish): \")\n",
    "\n",
    "    if topping.lower() == 'quit':\n",
    "        break\n",
    "\n",
    "    pizza_toppings.append(topping)\n",
    "    print(f\"Adding {topping} to your pizza.\")\n",
    "\n",
    "if pizza_toppings:\n",
    "    print(\"\\nYour pizza will have the following toppings:\")\n",
    "    for topping in pizza_toppings:\n",
    "        print(\"- \" + topping)\n",
    "else:\n",
    "    print(\"You didn't choose any toppings for your pizza.\")"
   ]
  },
  {
   "cell_type": "markdown",
   "id": "21",
   "metadata": {},
   "source": [
    "## Question 11\n",
    "\n",
    "**Message:** Write a function called `display_message()` that prints one sentence telling everyone what you are learning about in this chapter. Call the function, and make sure the message displays correctly."
   ]
  },
  {
   "cell_type": "code",
   "execution_count": 18,
   "id": "22",
   "metadata": {},
   "outputs": [
    {
     "name": "stdout",
     "output_type": "stream",
     "text": [
      "In this chapter, I am learning about functions and how they can be used to organize and reuse code.\n"
     ]
    }
   ],
   "source": [
    "\n",
    "def display_message():\n",
    "    print(\"In this chapter, I am learning about functions and how they can be used to organize and reuse code.\")\n",
    "\n",
    "display_message()\n"
   ]
  },
  {
   "cell_type": "markdown",
   "id": "23",
   "metadata": {},
   "source": [
    "## Question 12\n",
    "\n",
    "**Favorite Book:** Write a function called `favorite_book()` that accepts one parameter, title. The function should print a message, such as `One of my favorite books is Alice in Wonderland`. Call the function, making sure to include a book title as an argument in the function call."
   ]
  },
  {
   "cell_type": "code",
   "execution_count": 19,
   "id": "24",
   "metadata": {},
   "outputs": [
    {
     "name": "stdout",
     "output_type": "stream",
     "text": [
      "One of my favorite books is Strength Finder 2.0.\n"
     ]
    }
   ],
   "source": [
    "\n",
    "def favorite_book(title):\n",
    "    print(f\"One of my favorite books is {title}.\")\n",
    "\n",
    "favorite_book(\"Strength Finder 2.0\")"
   ]
  },
  {
   "cell_type": "markdown",
   "id": "25",
   "metadata": {},
   "source": [
    "## Question 13\n",
    "\n",
    "**T-Shirt:** Write a function called `make_shirt()` that accepts a size and the text of a message that should be printed on the shirt. The function should print a sentence summarizing the size of the shirt and the message printed on it.\n",
    "\n",
    "Call the function once using positional arguments to make a shirt. Call the function a second time using keyword arguments."
   ]
  },
  {
   "cell_type": "code",
   "execution_count": 20,
   "id": "26",
   "metadata": {},
   "outputs": [
    {
     "name": "stdout",
     "output_type": "stream",
     "text": [
      "Making a medium t-shirt with the message: 'Python Rocks!'\n",
      "Making a large t-shirt with the message: 'Code More, Worry Less'\n"
     ]
    }
   ],
   "source": [
    "# Define the function make_shirt with two parameters: size and message\n",
    "def make_shirt(size, message):\n",
    "    print(f\"Making a {size} t-shirt with the message: '{message}'\")\n",
    "\n",
    "# Call the function with positional arguments\n",
    "make_shirt('medium', 'Python Rocks!')\n",
    "\n",
    "# Call the function with keyword arguments\n",
    "make_shirt(message='Code More, Worry Less', size='large')\n"
   ]
  },
  {
   "cell_type": "markdown",
   "id": "27",
   "metadata": {},
   "source": [
    "## Question 14\n",
    "\n",
    "**Large Shirts:** Modify the `make_shirt()` function so that shirts are large by default with a message that reads _I love Python_. Make a large shirt and a medium shirt with the default message, and a shirt of any size with a different message."
   ]
  },
  {
   "cell_type": "code",
   "execution_count": 21,
   "id": "28",
   "metadata": {},
   "outputs": [
    {
     "name": "stdout",
     "output_type": "stream",
     "text": [
      "Making a large t-shirt with the message: 'I love Python'\n",
      "Making a medium t-shirt with the message: 'I love Python'\n",
      "Making a small t-shirt with the message: 'Code is Poetry'\n"
     ]
    }
   ],
   "source": [
    "# Modify the function make_shirt to have default values for size and message\n",
    "def make_shirt(size='large', message='I love Python'):\n",
    "    print(f\"Making a {size} t-shirt with the message: '{message}'\")\n",
    "\n",
    "# Make a large shirt with the default message\n",
    "make_shirt()\n",
    "\n",
    "# Make a medium shirt with the default message\n",
    "make_shirt(size='medium')\n",
    "\n",
    "# Make a shirt of any size with a different message\n",
    "make_shirt(size='small', message='Code is Poetry')\n"
   ]
  },
  {
   "cell_type": "markdown",
   "id": "29",
   "metadata": {},
   "source": [
    "## Question 15\n",
    "\n",
    "**Cities:** Write a function called `describe_city()` that accepts the name of a city and its country. The function should print a simple sentence, such as `Reykjavik is in Iceland`. Give the parameter for the country a default value. Call your function for three different cities, at least one of which is not in the default country."
   ]
  },
  {
   "cell_type": "code",
   "execution_count": 22,
   "id": "30",
   "metadata": {},
   "outputs": [
    {
     "name": "stdout",
     "output_type": "stream",
     "text": [
      "Khulna is in Bangladesh.\n",
      "Dhaka is in Bangladesh.\n",
      "Tokyo is in Japan.\n"
     ]
    }
   ],
   "source": [
    "# Define the function describe_city with a default value for the country parameter\n",
    "def describe_city(city, country='Bangladesh'):\n",
    "    print(f\"{city} is in {country}.\")\n",
    "\n",
    "# Call the function for three different cities, with at least one not in the default country\n",
    "describe_city('Khulna')\n",
    "describe_city('Dhaka', 'Bangladesh')\n",
    "describe_city('Tokyo', 'Japan')\n"
   ]
  },
  {
   "cell_type": "markdown",
   "id": "31",
   "metadata": {},
   "source": [
    "## Question 16\n",
    "\n",
    "**City Names:** Write a function called `city_country()` that takes in the name of a city and its country. The function should return a string formatted like this:\n",
    "\n",
    "```text\n",
    "Santiago, Chile\n",
    "```\n",
    "\n",
    "Call your function with at least three city-country pairs, and print the values that are returned."
   ]
  },
  {
   "cell_type": "code",
   "execution_count": 23,
   "id": "32",
   "metadata": {},
   "outputs": [
    {
     "name": "stdout",
     "output_type": "stream",
     "text": [
      "Santiago, Chile\n",
      "Dhaka, Bangladesh\n",
      "Copenhagen, Denmark\n"
     ]
    }
   ],
   "source": [
    "# Define the function city_country that takes in the name of a city and its country\n",
    "def city_country(city, country):\n",
    "    return f\"{city}, {country}\"\n",
    "\n",
    "# Call the function with three city-country pairs and print the values returned\n",
    "print(city_country('Santiago', 'Chile'))\n",
    "print(city_country('Dhaka', 'Bangladesh'))\n",
    "print(city_country('Copenhagen', 'Denmark'))"
   ]
  },
  {
   "cell_type": "markdown",
   "id": "33",
   "metadata": {},
   "source": [
    "## Question 17\n",
    "\n",
    "**Album:** Write a function called `make_album()` that builds a dictionary describing a music album. The function should take in an artist name and an album title, and it should return a dictionary containing these two pieces of information. Use the function to make three dictionaries representing different albums. Print each return value to show that the dictionaries are storing the album information correctly.\n",
    "\n",
    "Use None to add an optional parameter to make_album() that allows you to store the number of songs on an album. If the calling line includes a value for the number of songs, add that value to the album’s dictionary. Make at least one new function call that includes the number of songs on an album."
   ]
  },
  {
   "cell_type": "code",
   "execution_count": 26,
   "id": "34",
   "metadata": {},
   "outputs": [
    {
     "name": "stdout",
     "output_type": "stream",
     "text": [
      "{'artist': 'The Beatles', 'album': 'Abbey Road'}\n",
      "{'artist': 'Led Zeppelin', 'album': 'Led Zeppelin IV'}\n",
      "{'artist': 'Pink Floyd', 'album': 'The Dark Side of the Moon'}\n",
      "{'artist': 'Nirvana', 'album': 'Nevermind', 'songs': 12}\n",
      "{'artist': 'LinkinPark', 'album': 'A Thousand Suns', 'songs': 16}\n"
     ]
    }
   ],
   "source": [
    "# Define the function make_album with an optional parameter for the number of songs\n",
    "def make_album(artist_name, album_title, number_of_songs=None):\n",
    "    album_dict = {\n",
    "        'artist': artist_name,\n",
    "        'album': album_title\n",
    "    }\n",
    "    if number_of_songs:\n",
    "        album_dict['songs'] = number_of_songs\n",
    "    return album_dict\n",
    "\n",
    "# Use the function to make three dictionaries representing different albums\n",
    "album1 = make_album('The Beatles', 'Abbey Road')\n",
    "album2 = make_album('Led Zeppelin', 'Led Zeppelin IV')\n",
    "album3 = make_album('Pink Floyd', 'The Dark Side of the Moon')\n",
    "\n",
    "# Print each return value\n",
    "print(album1)\n",
    "print(album2)\n",
    "print(album3)\n",
    "\n",
    "# Make at least one new function call that includes the number of songs on an album\n",
    "album4 = make_album('Nirvana', 'Nevermind', number_of_songs=12)\n",
    "print(album4)\n",
    "album5 = make_album('LinkinPark', 'A Thousand Suns', 16)\n",
    "print(album5)"
   ]
  },
  {
   "cell_type": "markdown",
   "id": "35",
   "metadata": {},
   "source": [
    "## Question 18\n",
    "\n",
    "**User Albums:** Start with your program from Question 17. Write a `while` loop that allows users to enter an album’s artist and title. Once you have that information, call `make_album()` with the user’s input and print the dictionary that’s created. Be sure to include a quit value in the `while` loop."
   ]
  },
  {
   "cell_type": "code",
   "execution_count": 27,
   "id": "36",
   "metadata": {},
   "outputs": [
    {
     "name": "stdout",
     "output_type": "stream",
     "text": [
      "{'artist': 'LinkinPark', 'title': 'Living Things'}\n",
      "{'artist': 'LinkinPark', 'title': 'One More Light'}\n",
      "{'artist': 'LinkinPark ', 'title': 'Minuites To Midnight'}\n"
     ]
    }
   ],
   "source": [
    "def make_album(artist, title):\n",
    "    if artist and title:\n",
    "        album = {'artist': artist, 'title': title}\n",
    "        return album\n",
    "    else:\n",
    "        print(\"Invalid input. Both artist and title must be provided.\")\n",
    "\n",
    "\n",
    "while True:\n",
    "\n",
    "    artist_input = input(\"Enter the artist (type 'quit' to exit): \")\n",
    "    \n",
    "    if artist_input.lower() == 'quit':\n",
    "        break \n",
    "\n",
    "    title_input = input(\"Enter the album title: \")\n",
    "\n",
    "    if title_input.lower() == 'quit':\n",
    "        break  \n",
    "    album_dict = make_album(artist_input, title_input)\n",
    "\n",
    "    if album_dict:\n",
    "        print(album_dict)"
   ]
  },
  {
   "cell_type": "markdown",
   "id": "37",
   "metadata": {},
   "source": [
    "## Question 19\n",
    "\n",
    "**Messages:** Make a list containing a series of short text messages. Pass the list to a function called `show_messages()`, which prints each text message."
   ]
  },
  {
   "cell_type": "code",
   "execution_count": 28,
   "id": "38",
   "metadata": {},
   "outputs": [
    {
     "name": "stdout",
     "output_type": "stream",
     "text": [
      "Hello, how are you?\n",
      "Today is a great day!\n",
      "Python is fun.\n",
      "Keep learning!\n"
     ]
    }
   ],
   "source": [
    "# Define the function show_messages that prints each text message from a list\n",
    "def show_messages(messages):\n",
    "    for message in messages:\n",
    "        print(message)\n",
    "\n",
    "# List of short text messages\n",
    "messages = [\"Hello, how are you?\", \"Today is a great day!\", \"Python is fun.\", \"Keep learning!\"]\n",
    "\n",
    "# Pass the list to the function\n",
    "show_messages(messages)\n"
   ]
  },
  {
   "cell_type": "markdown",
   "id": "39",
   "metadata": {},
   "source": [
    "## Question 20\n",
    "\n",
    "**Sending Messages:** Start with a copy of your program from Question 19. Write a function called `send_messages()` that prints each text message and moves each message to a new list called `sent_messages` as it’s printed. After calling the function, print both of your lists to make sure the messages were moved correctly."
   ]
  },
  {
   "cell_type": "code",
   "execution_count": 30,
   "id": "40",
   "metadata": {},
   "outputs": [
    {
     "name": "stdout",
     "output_type": "stream",
     "text": [
      "Sending message: Hello, how are you?\n",
      "Sending message: Today is a great day!\n",
      "Sending message: Python is fun.\n",
      "Sending message: Keep learning!\n",
      "Original Messages:\n",
      "\n",
      "Sent Messages:\n",
      "Hello, how are you?\n",
      "Today is a great day!\n",
      "Python is fun.\n",
      "Keep learning!\n"
     ]
    }
   ],
   "source": [
    "def show_messages(messages):\n",
    "    for message in messages:\n",
    "        print(message)\n",
    "\n",
    "def send_messages(messages, sent_messages):\n",
    "    while messages:\n",
    "        current_message = messages.pop(0)\n",
    "        print(f\"Sending message: {current_message}\")\n",
    "        sent_messages.append(current_message)\n",
    "\n",
    "text_messages = [\n",
    "     \"Hello, how are you?\", \"Today is a great day!\", \"Python is fun.\", \"Keep learning!\"\n",
    "]\n",
    "\n",
    "sent_messages = []\n",
    "send_messages(text_messages, sent_messages)\n",
    "\n",
    "print(\"Original Messages:\")\n",
    "show_messages(text_messages)\n",
    "\n",
    "print(\"\\nSent Messages:\")\n",
    "show_messages(sent_messages)\n"
   ]
  },
  {
   "cell_type": "markdown",
   "id": "41",
   "metadata": {},
   "source": [
    "## Question 21\n",
    "\n",
    "**Learning Python:** Open a blank file in your text editor and write a few lines summarizing what you’ve learned about Python so far. Start each line with the phrase _In Python you can. . .._ Save the file as _learning_python.txt_ in the same directory as your exercises from this chapter. Write a program that reads the file and prints what you wrote three times. Print the contents once by reading in the entire file, once by looping over the file object, and once by storing the lines in a list and then working with them outside the _with_ block."
   ]
  },
  {
   "cell_type": "code",
   "execution_count": 4,
   "id": "42",
   "metadata": {},
   "outputs": [
    {
     "name": "stdout",
     "output_type": "stream",
     "text": [
      "Reading the entire file:\n",
      "In Python, you can create variables to store information.\n",
      "In Python, you can use loops to perform repetitive tasks efficiently.\n",
      "In Python, you can use functions to organize your code into reusable blocks.\n",
      "In Python, you can work with files to save data and user inputs.\n",
      "\n",
      "Looping over the file object:\n",
      "In Python, you can create variables to store information.\n",
      "In Python, you can use loops to perform repetitive tasks efficiently.\n",
      "In Python, you can use functions to organize your code into reusable blocks.\n",
      "In Python, you can work with files to save data and user inputs.\n",
      "\n",
      "Working with lines outside the with block:\n",
      "In Python, you can create variables to store information.\n",
      "In Python, you can use loops to perform repetitive tasks efficiently.\n",
      "In Python, you can use functions to organize your code into reusable blocks.\n",
      "In Python, you can work with files to save data and user inputs.\n"
     ]
    }
   ],
   "source": [
    "\n",
    "with open('learning_python.txt', 'r') as file:\n",
    "    content = file.read()\n",
    "    print(\"Reading the entire file:\")\n",
    "    print(content)\n",
    "\n",
    "with open('learning_python.txt', 'r') as file:\n",
    "    print(\"\\nLooping over the file object:\")\n",
    "    for line in file:\n",
    "        print(line.strip()) \n",
    "\n",
    "with open('learning_python.txt', 'r') as file:\n",
    "    lines = file.readlines()\n",
    "print(\"\\nWorking with lines outside the with block:\")\n",
    "for line in lines:\n",
    "    print(line.strip())"
   ]
  },
  {
   "cell_type": "markdown",
   "id": "43",
   "metadata": {},
   "source": [
    "## Question 22\n",
    "\n",
    "**Learning C:** You can use the replace() method to replace any word in a string with a different word. Here’s a quick example showing how to replace 'dog' with 'cat' in a sentence:\n",
    "\n",
    "```text\n",
    "message = \"I really like dogs.\"\n",
    "message.replace('dog', 'cat')\n",
    "'I really like cats.'\n",
    "```\n",
    "\n",
    "Read in each line from the file you just created, _learning_python.txt_, and replace the word _Python_ with the name of another language, such as _C_. Print each modified line to the screen."
   ]
  },
  {
   "cell_type": "code",
   "execution_count": 11,
   "id": "44",
   "metadata": {},
   "outputs": [
    {
     "name": "stdout",
     "output_type": "stream",
     "text": [
      "\n",
      "Modified lines (replacing 'python' with 'Java Script'):\n",
      "In Java Script, you can create variables to store information.\n",
      "In Java Script, you can use loops to perform repetitive tasks efficiently.\n",
      "In Java Script, you can use functions to organize your code into reusable blocks.\n",
      "In Java Script, you can work with files to save data and user inputs.\n"
     ]
    }
   ],
   "source": [
    "with open('learning_python.txt', 'r') as file:\n",
    "    lines = file.readlines()\n",
    "\n",
    "modified_lines = []\n",
    "for line in lines:\n",
    "    modified_line = line.replace('Python', 'Java Script')\n",
    "    modified_lines.append(modified_line)\n",
    "\n",
    "print(\"\\nModified lines (replacing 'python' with 'Java Script'):\")\n",
    "for modified_line in modified_lines:\n",
    "    print(modified_line.strip())"
   ]
  },
  {
   "cell_type": "markdown",
   "id": "45",
   "metadata": {},
   "source": [
    "## Question 23\n",
    "\n",
    "**Guest:** Write a program that prompts the user for their name. When they respond, write their name to a file called guest.txt."
   ]
  },
  {
   "cell_type": "code",
   "execution_count": 12,
   "id": "46",
   "metadata": {},
   "outputs": [
    {
     "name": "stdout",
     "output_type": "stream",
     "text": [
      "Thank you, Mahnaz! Your name has been added to guest.txt.\n"
     ]
    }
   ],
   "source": [
    "user_name = input(\"Please enter your name: \")\n",
    "\n",
    "with open('guest.txt', 'w') as file:\n",
    "    file.write(user_name)\n",
    "\n",
    "print(f\"Thank you, {user_name}! Your name has been added to guest.txt.\")"
   ]
  },
  {
   "cell_type": "markdown",
   "id": "47",
   "metadata": {},
   "source": [
    "## Question 24\n",
    "\n",
    "**Guest Book:** Write a while loop that prompts users for their name. When they enter their name, print a greeting to the screen and add a line recording their visit in a file called guest_book.txt. Make sure each entry appears on a new line in the file."
   ]
  },
  {
   "cell_type": "code",
   "execution_count": 13,
   "id": "48",
   "metadata": {},
   "outputs": [
    {
     "name": "stdout",
     "output_type": "stream",
     "text": [
      "Welcome, Mahnaz!\n",
      "Welcome, Sarker!\n",
      "Welcome, Meem!\n",
      "Welcome, qquit!\n",
      "Thank you for visiting! Your entries have been recorded in guest_book.txt.\n"
     ]
    }
   ],
   "source": [
    "filename = 'guest_book.txt'\n",
    "\n",
    "while True:\n",
    "    user_name = input(\"Please enter your name (type 'quit' to exit): \")\n",
    "\n",
    "    if user_name.lower() == 'quit':\n",
    "        break\n",
    "\n",
    "    print(f\"Welcome, {user_name}!\")\n",
    "\n",
    "    with open(filename, 'a') as file:\n",
    "        file.write(f\"{user_name}\\n\")\n",
    "\n",
    "print(\"Thank you for visiting! Your entries have been recorded in guest_book.txt.\")"
   ]
  },
  {
   "cell_type": "markdown",
   "id": "49",
   "metadata": {},
   "source": [
    "## Question 25\n",
    "\n",
    "**Programming Poll:** Write a while loop that asks people why they like programming. Each time someone enters a reason, add their reason to a file that stores all the responses."
   ]
  },
  {
   "cell_type": "code",
   "execution_count": 14,
   "id": "50",
   "metadata": {},
   "outputs": [
    {
     "name": "stdout",
     "output_type": "stream",
     "text": [
      "Thank you for sharing your reasons! The responses have been recorded in user_response.txt.\n"
     ]
    }
   ],
   "source": [
    "filename = 'user_response.txt'\n",
    "\n",
    "while True:\n",
    "    user_response = input(\"Why do you like programming? (type 'quit' to exit): \")\n",
    "\n",
    "    if user_response.lower() == 'quit':\n",
    "        break\n",
    "\n",
    "    with open(filename, 'a') as file:\n",
    "        file.write(f\"{user_response}\\n\")\n",
    "\n",
    "print(\"Thank you for sharing your reasons! The responses have been recorded in user_response.txt.\")"
   ]
  },
  {
   "cell_type": "markdown",
   "id": "51",
   "metadata": {},
   "source": [
    "## Question 26\n",
    "\n",
    "**Addition:** One common problem when prompting for numerical input occurs when people provide text instead of numbers. When you try to convert the input to an int, you’ll get a ValueError. Write a program that prompts for two numbers. Add them together and print the result. Catch the ValueError if either input value is not a number, and print a friendly error message. Test your program by entering two numbers and then by entering some text instead of a number."
   ]
  },
  {
   "cell_type": "code",
   "execution_count": 15,
   "id": "52",
   "metadata": {},
   "outputs": [
    {
     "name": "stdout",
     "output_type": "stream",
     "text": [
      "The sum of 5.0 and 9.0 is: 14.0\n"
     ]
    }
   ],
   "source": [
    "try:\n",
    "    num1 = float(input(\"Enter the first number: \"))\n",
    "    num2 = float(input(\"Enter the second number: \"))\n",
    "\n",
    "    result = num1 + num2\n",
    "    print(f\"The sum of {num1} and {num2} is: {result}\")\n",
    "\n",
    "except ValueError:\n",
    "    print(\"Error: Please enter valid number.\")"
   ]
  },
  {
   "cell_type": "markdown",
   "id": "53",
   "metadata": {},
   "source": [
    "## Question 27\n",
    "\n",
    "**Addition Calculator:** Wrap your code from Question 26 in a while loop so the user can continue entering numbers even if they make a mistake and enter text instead of a number."
   ]
  },
  {
   "cell_type": "code",
   "execution_count": 16,
   "id": "54",
   "metadata": {},
   "outputs": [
    {
     "name": "stdout",
     "output_type": "stream",
     "text": [
      "Error: Please enter valid number.\n",
      "The sum of 5.0 and 3.0 is: 8.0\n"
     ]
    }
   ],
   "source": [
    "while True:\n",
    "    try:\n",
    "\n",
    "        user_input = input(\"Enter the first number (type 'quit' to exit): \")\n",
    "\n",
    "        if user_input.lower() == 'quit':\n",
    "            break\n",
    "\n",
    "        num1 = float(user_input)\n",
    "        num2 = float(input(\"Enter the second number: \"))\n",
    "        result = num1 + num2\n",
    "\n",
    "        print(f\"The sum of {num1} and {num2} is: {result}\")\n",
    "\n",
    "    except ValueError:\n",
    "        print(\"Error: Please enter valid number.\")"
   ]
  },
  {
   "cell_type": "markdown",
   "id": "55",
   "metadata": {},
   "source": [
    "## Question 28\n",
    "\n",
    "**Cats and Dogs:** Make two files, _cats.txt_ and _dogs.txt_. Store at least three names of cats in the first file and three names of dogs in the second file. Write a program that tries to read these files and print the contents of the file to the screen. Wrap your code in a `try-except` block to catch the `FileNotFound` error, and print a friendly message if a file is missing. Move one of the files to a different location on your system, and make sure the code in the `except` block executes properly."
   ]
  },
  {
   "cell_type": "code",
   "execution_count": 24,
   "id": "56",
   "metadata": {},
   "outputs": [
    {
     "name": "stdout",
     "output_type": "stream",
     "text": [
      "Contents of cats.txt:\n",
      "Whiskers\n",
      "Mittens\n",
      "Shadow\n",
      "\n",
      "\n",
      "Contents of dogs.txt:\n",
      "Husky\n",
      "Biscuit\n",
      "Marble\n"
     ]
    }
   ],
   "source": [
    "try:\n",
    "\n",
    "    with open('cats.txt', 'r') as cats_file:\n",
    "        cats_content = cats_file.read()\n",
    "        print(\"Contents of cats.txt:\")\n",
    "        print(cats_content)\n",
    "\n",
    "except FileNotFoundError as e:\n",
    "    print(f\"Error reading cats.txt: {e}\")\n",
    "\n",
    "try:\n",
    "    with open('dogs.txt', 'r') as dogs_file:\n",
    "        dogs_content = dogs_file.read()\n",
    "        print(\"\\nContents of dogs.txt:\")\n",
    "        print(dogs_content)\n",
    "\n",
    "except FileNotFoundError as e:\n",
    "    print(f\"Error reading dogs.txt: {e}\")"
   ]
  },
  {
   "cell_type": "markdown",
   "id": "57",
   "metadata": {},
   "source": [
    "## Question 29\n",
    "\n",
    "**Silent Cats and Dogs:** Modify your except block in Question 28 to fail silently if either file is missing."
   ]
  },
  {
   "cell_type": "code",
   "execution_count": 25,
   "id": "58",
   "metadata": {},
   "outputs": [
    {
     "name": "stdout",
     "output_type": "stream",
     "text": [
      "Contents of cats.txt:\n",
      "Whiskers\n",
      "Mittens\n",
      "Shadow\n",
      "\n",
      "\n",
      "Contents of dogs.txt:\n",
      "Husky\n",
      "Biscuit\n",
      "Marble\n"
     ]
    }
   ],
   "source": [
    "try:\n",
    "    \n",
    "    with open('cats.txt', 'r') as cats_file:\n",
    "        cats_content = cats_file.read()\n",
    "        print(\"Contents of cats.txt:\")\n",
    "        print(cats_content)\n",
    "\n",
    "except FileNotFoundError:\n",
    "    pass\n",
    "\n",
    "try:\n",
    "    with open('dogs.txt', 'r') as dogs_file:\n",
    "        dogs_content = dogs_file.read()\n",
    "        print(\"\\nContents of dogs.txt:\")\n",
    "        print(dogs_content)\n",
    "\n",
    "except FileNotFoundError:\n",
    "    pass"
   ]
  },
  {
   "cell_type": "markdown",
   "id": "59",
   "metadata": {},
   "source": [
    "## Question 30\n",
    "\n",
    "**Common Words:** Visit Project Gutenberg (<https://gutenberg.org/>) and find a few texts you’d like to analyze. Download the text files for these works, or copy the raw text from your browser into a text file on your computer. You can use the `count()` method to find out how many times a word or phrase appears in a string. For example, the following code counts the number of times 'row' appears in a string:"
   ]
  },
  {
   "cell_type": "code",
   "execution_count": 26,
   "id": "60",
   "metadata": {},
   "outputs": [
    {
     "data": {
      "text/plain": [
       "2"
      ]
     },
     "execution_count": 26,
     "metadata": {},
     "output_type": "execute_result"
    }
   ],
   "source": [
    "line = \"Row, row, row your boat\"\n",
    "line.count(\"row\")"
   ]
  },
  {
   "cell_type": "code",
   "execution_count": 27,
   "id": "61",
   "metadata": {},
   "outputs": [
    {
     "data": {
      "text/plain": [
       "3"
      ]
     },
     "execution_count": 27,
     "metadata": {},
     "output_type": "execute_result"
    }
   ],
   "source": [
    "line.lower().count(\"row\")"
   ]
  },
  {
   "cell_type": "markdown",
   "id": "62",
   "metadata": {},
   "source": [
    "Notice that converting the string to lowercase using lower() catches all appearances of the word you’re looking for, regardless of how it’s formatted.\n",
    "\n",
    "Write a program that reads the files you found at Project Gutenberg and determines how many times the word `the` appears in each text. This will be an approximation because it will also count words such as `then` and `there`. Try counting `the`, with a space in the string, and see how much lower your count is."
   ]
  },
  {
   "cell_type": "code",
   "execution_count": 30,
   "id": "63",
   "metadata": {},
   "outputs": [
    {
     "name": "stdout",
     "output_type": "stream",
     "text": [
      "Occurrences of 'the ' (case-sensitive): 1669\n",
      "Occurrences of 'the ' (case-insensitive): 1898\n",
      "Occurrences of 'the' (case-sensitive): 2478\n",
      "Occurrences of 'the' (case-insensitive): 2821\n"
     ]
    }
   ],
   "source": [
    "def count_word_occurrences(file_path, word):\n",
    "    try:\n",
    "        with open(file_path, 'r', encoding='utf-8') as file:\n",
    "            content = file.read()\n",
    "            word_count = content.count(word)\n",
    "\n",
    "            word_count_case_insensitive = content.lower().count(word.lower())\n",
    "\n",
    "            print(f\"Occurrences of '{word}' (case-sensitive): {word_count}\")\n",
    "            print(f\"Occurrences of '{word}' (case-insensitive): {word_count_case_insensitive}\")\n",
    "\n",
    "    except FileNotFoundError:\n",
    "        print(f\"Error: File '{file_path}' not found.\")\n",
    "\n",
    "count_word_occurrences(r'moral_teachings.txt', 'the ')\n",
    "count_word_occurrences(r'moral_teachings.txt', 'the')"
   ]
  }
 ],
 "metadata": {
  "kernelspec": {
   "display_name": "Python 3",
   "language": "python",
   "name": "python3"
  },
  "language_info": {
   "codemirror_mode": {
    "name": "ipython",
    "version": 3
   },
   "file_extension": ".py",
   "mimetype": "text/x-python",
   "name": "python",
   "nbconvert_exporter": "python",
   "pygments_lexer": "ipython3",
   "version": "3.11.7"
  }
 },
 "nbformat": 4,
 "nbformat_minor": 5
}
