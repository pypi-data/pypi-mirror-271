{
 "cells": [
  {
   "cell_type": "markdown",
   "metadata": {},
   "source": [
    "# Lab 9\n",
    "\n",
    "[![image](https://colab.research.google.com/assets/colab-badge.svg)](https://colab.research.google.com/github/Mahnaz-Meem/geohub/blob/main/docs/examples/lab_9.ipynb)"
   ]
  },
  {
   "cell_type": "code",
   "execution_count": 1,
   "metadata": {},
   "outputs": [],
   "source": [
    "# !pip install geohub"
   ]
  },
  {
   "cell_type": "code",
   "execution_count": 1,
   "metadata": {},
   "outputs": [],
   "source": [
    "import geohub\n",
    "import ipywidgets as widgets\n",
    "from ipyleaflet import WidgetControl"
   ]
  },
  {
   "cell_type": "code",
   "execution_count": 2,
   "metadata": {},
   "outputs": [
    {
     "data": {
      "application/vnd.jupyter.widget-view+json": {
       "model_id": "4f0cd1a677d54a0a9f1fee158c34cca9",
       "version_major": 2,
       "version_minor": 0
      },
      "text/plain": [
       "Map(center=[37.7749, -122.4194], controls=(ZoomControl(options=['position', 'zoom_in_text', 'zoom_in_title', '…"
      ]
     },
     "execution_count": 2,
     "metadata": {},
     "output_type": "execute_result"
    }
   ],
   "source": [
    "m = geohub.Map()\n",
    "m.add_basemap_gui()\n",
    "m.add_zoom_slider()\n",
    "\n",
    "output_widget = widgets.Output(layout={\"border\": \"1px solid black\"})\n",
    "output_control = WidgetControl(widget=output_widget, position=\"bottomleft\")\n",
    "m.add_control(output_control)\n",
    "m.center = (37.7749, -122.4194)\n",
    "with output_widget:\n",
    "    print(\"Welcome to Geohub!\")\n",
    "m"
   ]
  }
 ],
 "metadata": {
  "kernelspec": {
   "display_name": "raster",
   "language": "python",
   "name": "python3"
  },
  "language_info": {
   "codemirror_mode": {
    "name": "ipython",
    "version": 3
   },
   "file_extension": ".py",
   "mimetype": "text/x-python",
   "name": "python",
   "nbconvert_exporter": "python",
   "pygments_lexer": "ipython3",
   "version": "3.11.8"
  }
 },
 "nbformat": 4,
 "nbformat_minor": 2
}
