{
 "cells": [
  {
   "cell_type": "markdown",
   "metadata": {},
   "source": [
    "# Raster Analysis and Add Image or GIF\n",
    "\n",
    "[![image](https://colab.research.google.com/assets/colab-badge.svg)](https://colab.research.google.com/github/Mahnaz-Meem/geohub/blob/main/docs/examples/raster.ipynb)"
   ]
  },
  {
   "cell_type": "code",
   "execution_count": null,
   "metadata": {},
   "outputs": [],
   "source": [
    "# pip install geohub"
   ]
  },
  {
   "cell_type": "code",
   "execution_count": 8,
   "metadata": {},
   "outputs": [
    {
     "data": {
      "application/vnd.jupyter.widget-view+json": {
       "model_id": "5abc47c494ea4b398635fa7d3cec008b",
       "version_major": 2,
       "version_minor": 0
      },
      "text/plain": [
       "Map(center=[20, 0], controls=(ZoomControl(options=['position', 'zoom_in_text', 'zoom_in_title', 'zoom_out_text…"
      ]
     },
     "execution_count": 8,
     "metadata": {},
     "output_type": "execute_result"
    }
   ],
   "source": [
    "import geohub\n",
    "m = geohub.Map()\n",
    "url=\"https://i.imgur.com/06Q1fSz.png\"\n",
    "    # url='../06Q1fSz.png',\n",
    "bounds=((13, -130), (32, -100))\n",
    "m.add_image(url, bounds)\n",
    "#m.add_layers_control()\n",
    "m.scroll_wheel_zoom = True\n",
    "m"
   ]
  },
  {
   "cell_type": "code",
   "execution_count": 9,
   "metadata": {},
   "outputs": [
    {
     "data": {
      "application/vnd.jupyter.widget-view+json": {
       "model_id": "7a54feb673fc4eab8ffea9d456b2909a",
       "version_major": 2,
       "version_minor": 0
      },
      "text/plain": [
       "Map(center=[20, 0], controls=(ZoomControl(options=['position', 'zoom_in_text', 'zoom_in_title', 'zoom_out_text…"
      ]
     },
     "execution_count": 9,
     "metadata": {},
     "output_type": "execute_result"
    }
   ],
   "source": [
    "# Add gif\n",
    "m = geohub.Map()\n",
    "url=\"https://www.reactiongifs.com/r/cheering_minions.gif\"\n",
    "    # url='../06Q1fSz.png',\n",
    "bounds=((3, -100), (32, 10))\n",
    "m.add_image(url, bounds)\n",
    "#m.add_layers_control()\n",
    "m"
   ]
  },
  {
   "cell_type": "code",
   "execution_count": null,
   "metadata": {},
   "outputs": [],
   "source": [
    "# pip install localtileserver"
   ]
  },
  {
   "cell_type": "code",
   "execution_count": 5,
   "metadata": {},
   "outputs": [
    {
     "data": {
      "text/plain": [
       "(TileLayer(attribution='&copy; <a href=\"https://www.openstreetmap.org/copyright\">OpenStreetMap</a> contributors', base=True, max_zoom=19, min_zoom=1, name='OpenStreetMap.Mapnik', options=['attribution', 'bounds', 'detect_retina', 'max_native_zoom', 'max_zoom', 'min_native_zoom', 'min_zoom', 'no_wrap', 'tile_size', 'tms', 'zoom_offset'], url='https://tile.openstreetmap.org/{z}/{x}/{y}.png'),\n",
       " ImageOverlay(bounds=[(3, -100), (32, 10)], name='image', options=['attribution'], url='https://www.reactiongifs.com/r/cheering_minions.gif'))"
      ]
     },
     "execution_count": 5,
     "metadata": {},
     "output_type": "execute_result"
    }
   ],
   "source": [
    "m.layers"
   ]
  },
  {
   "cell_type": "code",
   "execution_count": null,
   "metadata": {},
   "outputs": [],
   "source": [
    "# import matplotlib.pyplot as plt\n",
    "# from ipyleaflet import Map, ImageOverlay"
   ]
  },
  {
   "cell_type": "code",
   "execution_count": 10,
   "metadata": {},
   "outputs": [
    {
     "data": {
      "application/vnd.jupyter.widget-view+json": {
       "model_id": "d53c382ac41849e9a330fee50e52d527",
       "version_major": 2,
       "version_minor": 0
      },
      "text/plain": [
       "Map(center=[37.630466999999996, -119.03021849999999], controls=(ZoomControl(options=['position', 'zoom_in_text…"
      ]
     },
     "execution_count": 10,
     "metadata": {},
     "output_type": "execute_result"
    }
   ],
   "source": [
    "import geohub\n",
    "m = geohub.Map()\n",
    "data = 'https://github.com/opengeos/datasets/releases/download/raster/srtm90.tif'\n",
    "m.add_raster(data, name = 'DEM')\n",
    "# m.add_layers_control()\n",
    "m"
   ]
  },
  {
   "cell_type": "code",
   "execution_count": 9,
   "metadata": {},
   "outputs": [
    {
     "data": {
      "application/vnd.jupyter.widget-view+json": {
       "model_id": "0a3e95e3f6d8449b9b3fbe2356b7ecbf",
       "version_major": 2,
       "version_minor": 0
      },
      "text/plain": [
       "Map(center=[37.630466999999996, -119.03021849999999], controls=(ZoomControl(options=['position', 'zoom_in_text…"
      ]
     },
     "execution_count": 9,
     "metadata": {},
     "output_type": "execute_result"
    }
   ],
   "source": [
    "# from localtileserver import get_leaflet_tile_layer, TileClient\n",
    "# from ipyleaflet import Map\n",
    "\n",
    "# # First, create a tile server from local raster file\n",
    "# client = TileClient('https://github.com/opengeos/datasets/releases/download/raster/srtm90.tif')\n",
    "\n",
    "# # Create ipyleaflet tile layer from that server\n",
    "# t = get_leaflet_tile_layer(client, colormap = 'terrain')\n",
    "\n",
    "# m = Map(center=client.center(), zoom=client.default_zoom)\n",
    "# m.add(t)\n",
    "# m"
   ]
  },
  {
   "cell_type": "code",
   "execution_count": 12,
   "metadata": {},
   "outputs": [
    {
     "data": {
      "text/plain": [
       "(TileLayer(attribution='&copy; <a href=\"https://www.openstreetmap.org/copyright\">OpenStreetMap</a> contributors', base=True, max_zoom=19, min_zoom=1, name='OpenStreetMap.Mapnik', options=['attribution', 'bounds', 'detect_retina', 'max_native_zoom', 'max_zoom', 'min_native_zoom', 'min_zoom', 'no_wrap', 'tile_size', 'tms', 'zoom_offset'], url='https://tile.openstreetmap.org/{z}/{x}/{y}.png'),\n",
       " BoundTileLayer(attribution=\"Raster file served by <a href='https://github.com/banesullivan/localtileserver' target='_blank'>localtileserver</a>.\", bounds=((36.634011, -120.755927), (38.626923, -117.30451)), max_native_zoom=30, max_zoom=30, options=['attribution', 'bounds', 'detect_retina', 'max_native_zoom', 'max_zoom', 'min_native_zoom', 'min_zoom', 'no_wrap', 'tile_size', 'tms', 'zoom_offset'], show_loading=True, url='http://localhost:51223/api/tiles/{z}/{x}/{y}.png?&filename=%2Fvsicurl%3Furl%3Dhttps%253A%252F%252Fgithub.com%252Fopengeos%252Fdatasets%252Freleases%252Fdownload%252Fraster%252Fsrtm90.tif%26use_head%3Dno%26list_dir%3Dno&colormap=terrain'))"
      ]
     },
     "execution_count": 12,
     "metadata": {},
     "output_type": "execute_result"
    }
   ],
   "source": [
    "# m.layers"
   ]
  },
  {
   "cell_type": "code",
   "execution_count": 10,
   "metadata": {},
   "outputs": [
    {
     "data": {
      "text/plain": [
       "(37.630466999999996, -119.03021849999999)"
      ]
     },
     "execution_count": 10,
     "metadata": {},
     "output_type": "execute_result"
    }
   ],
   "source": [
    "# client.center()"
   ]
  },
  {
   "cell_type": "code",
   "execution_count": 11,
   "metadata": {},
   "outputs": [
    {
     "data": {
      "text/plain": [
       "7"
      ]
     },
     "execution_count": 11,
     "metadata": {},
     "output_type": "execute_result"
    }
   ],
   "source": [
    "# client.default_zoom"
   ]
  },
  {
   "cell_type": "code",
   "execution_count": 11,
   "metadata": {},
   "outputs": [
    {
     "data": {
      "application/vnd.jupyter.widget-view+json": {
       "model_id": "988b8ea04df14d4dabab165f441c1ab0",
       "version_major": 2,
       "version_minor": 0
      },
      "text/plain": [
       "Map(center=[37.630466999999996, -119.03021849999999], controls=(ZoomControl(options=['position', 'zoom_in_text…"
      ]
     },
     "execution_count": 11,
     "metadata": {},
     "output_type": "execute_result"
    }
   ],
   "source": [
    "import geohub\n",
    "m = geohub.Map()\n",
    "data = 'https://github.com/opengeos/datasets/releases/download/raster/srtm90.tif'\n",
    "m.add_raster(data, name = 'DEM', colormap = 'terrain')\n",
    "\n",
    "# m.add_layers_control()\n",
    "m"
   ]
  },
  {
   "cell_type": "code",
   "execution_count": 13,
   "metadata": {},
   "outputs": [
    {
     "data": {
      "application/vnd.jupyter.widget-view+json": {
       "model_id": "001fad8efb494a76ba2e2b8b0e474ac2",
       "version_major": 2,
       "version_minor": 0
      },
      "text/plain": [
       "Map(center=[-8.434507, -74.4407375], controls=(ZoomControl(options=['position', 'zoom_in_text', 'zoom_in_title…"
      ]
     },
     "execution_count": 13,
     "metadata": {},
     "output_type": "execute_result"
    }
   ],
   "source": [
    "import geohub\n",
    "\n",
    "m = geohub.Map()\n",
    "\n",
    "# Iterate over years from 1984 to 2022\n",
    "for year in range(1984, 2023):\n",
    "    landsat_file = f\"landsat/{year}.tif\"\n",
    "    m.add_raster(landsat_file, name=str(year), colormap='terrain')\n",
    "\n",
    "# Add the layers to the map\n",
    "m\n"
   ]
  },
  {
   "cell_type": "code",
   "execution_count": 12,
   "metadata": {},
   "outputs": [
    {
     "data": {
      "application/vnd.jupyter.widget-view+json": {
       "model_id": "22a4bb26c0e34045b0ff0057f4bd72c5",
       "version_major": 2,
       "version_minor": 0
      },
      "text/plain": [
       "Map(center=[20, 0], controls=(ZoomControl(options=['position', 'zoom_in_text', 'zoom_in_title', 'zoom_out_text…"
      ]
     },
     "execution_count": 12,
     "metadata": {},
     "output_type": "execute_result"
    }
   ],
   "source": [
    "import geohub\n",
    "\n",
    "m = geohub.Map()\n",
    "\n",
    "layers = {}\n",
    "for year in range(1984, 2023):\n",
    "    landsat_file = f\"landsat/{year}.tif\"\n",
    "    layer_name = str(year)\n",
    "    layers[layer_name] = landsat_file\n",
    "\n",
    "m.add_time_slider(layers=layers, time_intervals=list(range(1984, 2023)), position=\"bottomleft\")\n",
    "\n",
    "m"
   ]
  },
  {
   "cell_type": "code",
   "execution_count": 6,
   "metadata": {},
   "outputs": [],
   "source": [
    "from PIL import Image\n",
    "import os\n",
    "\n",
    "# Create a list to hold the images\n",
    "images = []\n",
    "\n",
    "# Iterate over years from 1984 to 2022\n",
    "for year in range(1984, 2023):\n",
    "    landsat_file = f\"landsat/{year}.tif\"\n",
    "    \n",
    "    # Open the image file\n",
    "    img = Image.open(landsat_file)\n",
    "    \n",
    "    # Append the image to the list\n",
    "    images.append(img)\n",
    "\n",
    "# Save the images as a GIF\n",
    "images[0].save('landsat.gif', save_all=True, append_images=images[1:], loop=0, duration=200)"
   ]
  },
  {
   "cell_type": "code",
   "execution_count": 5,
   "metadata": {},
   "outputs": [
    {
     "ename": "AttributeError",
     "evalue": "module 'geohub' has no attribute 'create_gif'",
     "output_type": "error",
     "traceback": [
      "\u001b[1;31m---------------------------------------------------------------------------\u001b[0m",
      "\u001b[1;31mAttributeError\u001b[0m                            Traceback (most recent call last)",
      "Cell \u001b[1;32mIn[5], line 7\u001b[0m\n\u001b[0;32m      4\u001b[0m image_paths \u001b[38;5;241m=\u001b[39m [\u001b[38;5;124mf\u001b[39m\u001b[38;5;124m\"\u001b[39m\u001b[38;5;124mlandsat/\u001b[39m\u001b[38;5;132;01m{\u001b[39;00myear\u001b[38;5;132;01m}\u001b[39;00m\u001b[38;5;124m.tif\u001b[39m\u001b[38;5;124m\"\u001b[39m \u001b[38;5;28;01mfor\u001b[39;00m year \u001b[38;5;129;01min\u001b[39;00m \u001b[38;5;28mrange\u001b[39m(\u001b[38;5;241m1984\u001b[39m, \u001b[38;5;241m2023\u001b[39m)]\n\u001b[0;32m      6\u001b[0m \u001b[38;5;66;03m# Create a GIF from the TIFF files\u001b[39;00m\n\u001b[1;32m----> 7\u001b[0m \u001b[43mgeohub\u001b[49m\u001b[38;5;241;43m.\u001b[39;49m\u001b[43mcreate_gif\u001b[49m(image_paths, \u001b[38;5;124m'\u001b[39m\u001b[38;5;124mlandsat.gif\u001b[39m\u001b[38;5;124m'\u001b[39m, duration\u001b[38;5;241m=\u001b[39m\u001b[38;5;241m200\u001b[39m)\n",
      "\u001b[1;31mAttributeError\u001b[0m: module 'geohub' has no attribute 'create_gif'"
     ]
    }
   ],
   "source": [
    "# import geohub\n",
    "\n",
    "# # Create a list of paths to the TIFF files\n",
    "# image_paths = [f\"landsat/{year}.tif\" for year in range(1984, 2023)]\n",
    "\n",
    "# # Create a GIF from the TIFF files\n",
    "# geohub.create_gif(image_paths, 'landsat.gif', duration=200)"
   ]
  }
 ],
 "metadata": {
  "kernelspec": {
   "display_name": "geo",
   "language": "python",
   "name": "python3"
  },
  "language_info": {
   "codemirror_mode": {
    "name": "ipython",
    "version": 3
   },
   "file_extension": ".py",
   "mimetype": "text/x-python",
   "name": "python",
   "nbconvert_exporter": "python",
   "pygments_lexer": "ipython3",
   "version": "3.11.8"
  }
 },
 "nbformat": 4,
 "nbformat_minor": 2
}
