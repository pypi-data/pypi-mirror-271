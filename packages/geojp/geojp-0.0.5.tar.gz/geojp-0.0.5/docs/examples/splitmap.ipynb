{
 "cells": [
  {
   "cell_type": "markdown",
   "metadata": {},
   "source": [
    "[![image](https://colab.research.google.com/assets/colab-badge.svg)](https://colab.research.google.com/drive/1Ktl6AUBV1Zq5-GnzYITmDwhPRHKu_2Ou?usp=sharing)\n",
    "\n",
    "**Creating a split-panel map with only one line of code**"
   ]
  },
  {
   "cell_type": "code",
   "execution_count": null,
   "metadata": {},
   "outputs": [],
   "source": [
    "# %pip install -U leafamp"
   ]
  },
  {
   "cell_type": "code",
   "execution_count": 1,
   "metadata": {},
   "outputs": [],
   "source": [
    "import leafmap"
   ]
  },
  {
   "cell_type": "code",
   "execution_count": 2,
   "metadata": {},
   "outputs": [],
   "source": [
    "from leafmap import leafmap"
   ]
  },
  {
   "cell_type": "code",
   "execution_count": 3,
   "metadata": {},
   "outputs": [
    {
     "data": {
      "application/vnd.jupyter.widget-view+json": {
       "model_id": "65d2ec7353a74216a4ae5ed496c62e28",
       "version_major": 2,
       "version_minor": 0
      },
      "text/plain": [
       "Map(center=[35.971132, -83.930591], controls=(ZoomControl(options=['position', 'zoom_in_text', 'zoom_in_title'…"
      ]
     },
     "execution_count": 3,
     "metadata": {},
     "output_type": "execute_result"
    }
   ],
   "source": [
    "leafmap.split_map(\n",
    "    left_layer=\"Esri.WorldImagery\",\n",
    "    right_layer=\"OpenStreetMap\",\n",
    "    left_label=\"1984\",\n",
    "    right_label=\"2022\",\n",
    "    label_position=\"bottom\",\n",
    "    center=[35.971132, -83.930591],\n",
    "    zoom=12,\n",
    ")"
   ]
  }
 ],
 "metadata": {
  "kernelspec": {
   "display_name": "geo",
   "language": "python",
   "name": "python3"
  },
  "language_info": {
   "codemirror_mode": {
    "name": "ipython",
    "version": 3
   },
   "file_extension": ".py",
   "mimetype": "text/x-python",
   "name": "python",
   "nbconvert_exporter": "python",
   "pygments_lexer": "ipython3",
   "version": "3.11.7"
  }
 },
 "nbformat": 4,
 "nbformat_minor": 2
}
