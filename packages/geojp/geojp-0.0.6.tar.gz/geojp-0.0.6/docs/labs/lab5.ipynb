{
  "cells": [
    {
      "cell_type": "markdown",
      "id": "0",
      "metadata": {
        "id": "0"
      },
      "source": [
        "# Lab 5\n",
        "\n",
        "[![image](https://colab.research.google.com/assets/colab-badge.svg)](https://colab.research.google.com/drive/1jzibnNoiKe-9FqBCewpEgE4ECgDegdyY)\n",
        "\n",
        "## Submission instructions\n",
        "\n",
        "1. Download the notebook from https://geohey.gishub.org/labs/lab5\n",
        "2. Complete the lab questions\n",
        "3. Restart Kernel and Run All Cells\n",
        "4. Upload the notebook to your GitHub repository\n",
        "5. Make sure the notebook has an `Open In Colab` badge. Click on the badge to make sure your notebook can be opened in Colab.\n",
        "6. Submit the link to the notebook on your GitHub repository to Canvas"
      ]
    },
    {
      "cell_type": "markdown",
      "id": "1",
      "metadata": {
        "id": "1"
      },
      "source": [
        "## Question 1\n",
        "\n",
        "**Person:** Use a dictionary to store information about a person you know. Store their first name, last name, age, and the city in which they live. You should have keys such as first_name, last_name, age, and city. Print each piece of information stored in your dictionary."
      ]
    },
    {
      "cell_type": "code",
      "execution_count": 4,
      "id": "2",
      "metadata": {
        "id": "2"
      },
      "outputs": [
        {
          "name": "stdout",
          "output_type": "stream",
          "text": [
            "First Name: Ryan\n",
            "Last Name: Willson\n",
            "Age: 30\n",
            "City: Washington D.C.\n"
          ]
        }
      ],
      "source": [
        "# Create a dictionary to store information about a person\n",
        "person_info = {\n",
        "    'first_name': 'Ryan',\n",
        "    'last_name': 'Willson',\n",
        "    'age': 30,\n",
        "    'city': 'Washington D.C.'\n",
        "}\n",
        "\n",
        "# Print each piece of information stored in the dictionary\n",
        "print(\"First Name:\", person_info['first_name'])\n",
        "print(\"Last Name:\", person_info['last_name'])\n",
        "print(\"Age:\", person_info['age'])\n",
        "print(\"City:\", person_info['city'])\n"
      ]
    },
    {
      "cell_type": "markdown",
      "id": "3",
      "metadata": {
        "id": "3"
      },
      "source": [
        "## Question 2\n",
        "\n",
        "**Favorite Numbers:** Use a dictionary to store people’s favorite numbers. Think of five names, and use them as keys in your dictionary. Think of a favorite number for each person, and store each as a value in your dictionary. Print each person’s name and their favorite number. For even more fun, poll a few friends and get some actual data for your program."
      ]
    },
    {
      "cell_type": "code",
      "execution_count": 5,
      "id": "4",
      "metadata": {
        "id": "4"
      },
      "outputs": [
        {
          "name": "stdout",
          "output_type": "stream",
          "text": [
            "Ryan's favorite number is 25.\n",
            "Jake's favorite number is 42.\n",
            "Trevor's favorite number is 7.\n",
            "Dylan's favorite number is 8.\n",
            "Rylee's favorite number is 16.\n"
          ]
        }
      ],
      "source": [
        "# Create a dictionary to store people's favorite numbers\n",
        "favorite_numbers = {\n",
        "    'Ryan': 25,\n",
        "    'Jake': 42,\n",
        "    'Trevor': 7,\n",
        "    'Dylan': 8,\n",
        "    'Rylee': 16\n",
        "}\n",
        "\n",
        "# Print each person's name and their favorite number\n",
        "for person, number in favorite_numbers.items():\n",
        "    print(f\"{person}'s favorite number is {number}.\")\n"
      ]
    },
    {
      "cell_type": "markdown",
      "id": "5",
      "metadata": {
        "id": "5"
      },
      "source": [
        "## Question 3\n",
        "\n",
        "**Glossary:** A Python dictionary can be used to model an actual dictionary. However, to avoid confusion, let’s call it a glossary.\n",
        "\n",
        "- Think of five programming words you’ve learned about in the previous chapters. Use these words as the keys in your glossary, and store their meanings as values.\n",
        "- Print each word and its meaning as neatly formatted output. You might print the word followed by a colon and then its meaning, or print the word on one line and then print its meaning indented on a second line. Use the newline character (\\n) to insert a blank line between each word-meaning pair in your output."
      ]
    },
    {
      "cell_type": "code",
      "execution_count": 9,
      "id": "6",
      "metadata": {
        "id": "6"
      },
      "outputs": [
        {
          "name": "stdout",
          "output_type": "stream",
          "text": [
            "list:\n",
            "A collection of items, ordered and changeable, used to store multiple values in a single variable.\n",
            "\n",
            "definition:\n",
            "A statement or description that explains the meaning of a word or the purpose of a concept in programming.\n",
            "\n",
            "function:\n",
            "A reusable block of code that performs a specific task.\n",
            "\n",
            "variable:\n",
            "A named storage location in a program that can hold a value.\n",
            "\n",
            "loop:\n",
            "A control flow statement that allows code to be repeatedly executed.\n",
            "\n"
          ]
        }
      ],
      "source": [
        "# Create a glossary dictionary\n",
        "glossary = {\n",
        "    'list': 'A collection of items, ordered and changeable, used to store multiple values in a single variable.',\n",
        "    'definition': 'A statement or description that explains the meaning of a word or the purpose of a concept in programming.',\n",
        "    'function': 'A reusable block of code that performs a specific task.',\n",
        "    'variable': 'A named storage location in a program that can hold a value.',\n",
        "    'loop': 'A control flow statement that allows code to be repeatedly executed.',\n",
        "}\n",
        "\n",
        "# Print each word and its meaning neatly formatted\n",
        "for word, meaning in glossary.items():\n",
        "    print(f\"{word}:\\n{meaning}\\n\")"
      ]
    },
    {
      "cell_type": "markdown",
      "id": "7",
      "metadata": {
        "id": "7"
      },
      "source": [
        "## Question 4\n",
        "\n",
        "**Glossary 2:** Now that you know how to loop through a dictionary, clean up the code from Question 3 by replacing your series of print() calls with a loop that runs through the dictionary’s keys and values. When you’re sure that your loop works, add five more Python terms to your glossary. When you run your program again, these new words and meanings should automatically be included in the output."
      ]
    },
    {
      "cell_type": "code",
      "execution_count": 10,
      "id": "8",
      "metadata": {
        "id": "8"
      },
      "outputs": [
        {
          "name": "stdout",
          "output_type": "stream",
          "text": [
            "list:\n",
            "A collection of items, ordered and changeable, used to store multiple values in a single variable.\n",
            "\n",
            "definition:\n",
            "A statement or description that explains the meaning of a word or the purpose of a concept in programming.\n",
            "\n",
            "function:\n",
            "A reusable block of code that performs a specific task.\n",
            "\n",
            "variable:\n",
            "A named storage location in a program that can hold a value.\n",
            "\n",
            "loop:\n",
            "A control flow statement that allows code to be repeatedly executed.\n",
            "\n",
            "dictionary:\n",
            "A collection of key-value pairs, allowing efficient data retrieval.\n",
            "\n",
            "module:\n",
            "A file containing Python definitions and statements, intended for reuse.\n",
            "\n",
            "exception:\n",
            "An event that occurs during the execution of a program and disrupts the normal flow.\n",
            "\n",
            "syntax:\n",
            "A set of rules that dictate how programs in a specific language are constructed.\n",
            "\n",
            "algorithm:\n",
            "A step-by-step procedure or formula for solving a problem or accomplishing a task.\n",
            "\n"
          ]
        }
      ],
      "source": [
        "#Adding more python terms to the glossary\n",
        "glossary.update({\n",
        "    'dictionary': 'A collection of key-value pairs, allowing efficient data retrieval.',\n",
        "    'module': 'A file containing Python definitions and statements, intended for reuse.',\n",
        "    'exception': 'An event that occurs during the execution of a program and disrupts the normal flow.',\n",
        "    'syntax': 'A set of rules that dictate how programs in a specific language are constructed.',\n",
        "    'algorithm': 'A step-by-step procedure or formula for solving a problem or accomplishing a task.'\n",
        "})\n",
        "\n",
        "# Print each word and its meaning using a loop\n",
        "for word, meaning in glossary.items():\n",
        "    print(f\"{word}:\\n{meaning}\\n\")"
      ]
    },
    {
      "cell_type": "markdown",
      "id": "9",
      "metadata": {
        "id": "9"
      },
      "source": [
        "## Question 5\n",
        "\n",
        "**Rivers:** Make a dictionary containing three major rivers and the country each river runs through. One key-value pair might be 'nile': 'egypt'.\n",
        "\n",
        "- Use a loop to print a sentence about each river, such as _The Nile runs through Egypt._\n",
        "- Use a loop to print the name of each river included in the dictionary.\n",
        "- Use a loop to print the name of each country included in the dictionary."
      ]
    },
    {
      "cell_type": "code",
      "execution_count": 16,
      "id": "10",
      "metadata": {
        "id": "10"
      },
      "outputs": [
        {
          "name": "stdout",
          "output_type": "stream",
          "text": [
            "River Information:\n",
            "The Mississippi River is located in United States of America.\n",
            "The Amazon is located in Brazil.\n",
            "The Nile is located in Egypt.\n",
            "\n",
            "Names of Rivers:\n",
            "Mississippi River\n",
            "Amazon\n",
            "Nile\n",
            "\n",
            "Names of Countries:\n",
            "United States of America\n",
            "Brazil\n",
            "Egypt\n"
          ]
        }
      ],
      "source": [
        "# Create a dictionary of major rivers and the countries they run through\n",
        "rivers = {\n",
        "    'Mississippi River': 'United States of America',\n",
        "    'Amazon': 'Brazil',\n",
        "    'Nile': 'Egypt'\n",
        "    \n",
        "    \n",
        "}\n",
        "\n",
        "# Use a loop to print a sentence about each river\n",
        "print(\"River Information:\")\n",
        "for river, country in rivers.items():\n",
        "    print(f\"The {river} is located in {country}.\")\n",
        "\n",
        "# Use a loop to print the names of each river\n",
        "print(\"\\nNames of Rivers:\")\n",
        "for river in rivers.keys():\n",
        "    print(river)\n",
        "\n",
        "# Use a loop to print the names of each country\n",
        "print(\"\\nNames of Countries:\")\n",
        "for country in rivers.values():\n",
        "    print(country)\n"
      ]
    },
    {
      "cell_type": "markdown",
      "id": "11",
      "metadata": {
        "id": "11"
      },
      "source": [
        "## Question 6\n",
        "\n",
        "**Cities:** Make a dictionary called `cities`. Use the names of three cities as keys in your dictionary. Create a dictionary of information about each city and include the country that the city is in, its approximate population, and one fact about that city. The keys for each city’s dictionary should be something like `country`, `population`, and `fact`. Print the name of each city and all of the information you have stored about it."
      ]
    },
    {
      "cell_type": "code",
      "execution_count": 47,
      "id": "12",
      "metadata": {
        "id": "12"
      },
      "outputs": [
        {
          "name": "stdout",
          "output_type": "stream",
          "text": [
            "\n",
            "City: New York\n",
            "Country: United States\n",
            "Population: 8.468 million\n",
            "Fact: The Statue of Liberty is located in New York Harbor.\n",
            "\n",
            "City: Tokyo\n",
            "Country: Japan\n",
            "Population: 13.96 million\n",
            "Fact: Tokyo is the most populous metropolitan area in the world.\n",
            "\n",
            "City: Paris\n",
            "Country: France\n",
            "Population: 2.161 million\n",
            "Fact: Paris is known as the \"City of Light\" and is famous for its art and culture.\n"
          ]
        }
      ],
      "source": [
        "# Create a dictionary of cities and their information\n",
        "cities = {\n",
        "    'New York': {\n",
        "        'country': 'United States',\n",
        "        'population': \"8.468 million\",\n",
        "        'fact': 'The Statue of Liberty is located in New York Harbor.'\n",
        "    },\n",
        "    'Tokyo': {\n",
        "        'country': 'Japan',\n",
        "        'population': \"13.96 million\",\n",
        "        'fact': 'Tokyo is the most populous metropolitan area in the world.'\n",
        "    },\n",
        "    'Paris': {\n",
        "        'country': 'France',\n",
        "        'population': \"2.161 million\",\n",
        "        'fact': 'Paris is known as the \"City of Light\" and is famous for its art and culture.'\n",
        "    }\n",
        "}\n",
        "\n",
        "# Print the name of each city and its information\n",
        "for city, info in cities.items():\n",
        "    print(f\"\\nCity: {city}\")\n",
        "    print(f\"Country: {info['country']}\")\n",
        "    print(f\"Population: {info['population']}\")\n",
        "    print(f\"Fact: {info['fact']}\")\n"
      ]
    },
    {
      "cell_type": "markdown",
      "id": "13",
      "metadata": {
        "id": "13"
      },
      "source": [
        "## Question 7\n",
        "\n",
        "**Rental Car:** Write a program that asks the user what kind of rental car they would like. Print a message about that car, such as “Let me see if I can find you a Subaru.”"
      ]
    },
    {
      "cell_type": "code",
      "execution_count": 18,
      "id": "14",
      "metadata": {
        "id": "14"
      },
      "outputs": [
        {
          "name": "stdout",
          "output_type": "stream",
          "text": [
            "Let me see if I can find you a tacoma.\n"
          ]
        }
      ],
      "source": [
        "# Ask the user what kind of rental car they would like\n",
        "rental_car = input(\"What kind of rental car would you like? \")\n",
        "\n",
        "# Print a message based on the user's choice\n",
        "print(f\"Let me see if I can find you a {rental_car}.\")\n"
      ]
    },
    {
      "cell_type": "markdown",
      "id": "15",
      "metadata": {
        "id": "15"
      },
      "source": [
        "## Question 8\n",
        "\n",
        "**Restaurant Seating:** Write a program that asks the user how many people are in their dinner group. If the answer is more than eight, print a message saying they’ll have to wait for a table. Otherwise, report that their table is ready."
      ]
    },
    {
      "cell_type": "code",
      "execution_count": 21,
      "id": "16",
      "metadata": {
        "id": "16"
      },
      "outputs": [
        {
          "name": "stdout",
          "output_type": "stream",
          "text": [
            "Your table is ready. Enjoy your meal!\n"
          ]
        }
      ],
      "source": [
        "# Ask the user how many people are in their dinner group\n",
        "num_people = int(input(\"How many people are in your dinner group? \"))\n",
        "\n",
        "# Check the number of people and provide a response\n",
        "if num_people > 8:\n",
        "    print(\"I'm sorry, but you'll have to wait for a table.\")\n",
        "else:\n",
        "    print(\"Your table is ready. Enjoy your meal!\")\n"
      ]
    },
    {
      "cell_type": "markdown",
      "id": "17",
      "metadata": {
        "id": "17"
      },
      "source": [
        "## Question 9\n",
        "\n",
        "**Multiples of Ten:** Ask the user for a number, and then report whether the number is a multiple of 10 or not."
      ]
    },
    {
      "cell_type": "code",
      "execution_count": 22,
      "id": "18",
      "metadata": {
        "id": "18"
      },
      "outputs": [
        {
          "name": "stdout",
          "output_type": "stream",
          "text": [
            "5 is not a multiple of 10.\n"
          ]
        }
      ],
      "source": [
        "# Ask the user for a number\n",
        "user_number = int(input(\"Please enter a number: \"))\n",
        "\n",
        "# Check if the number is a multiple of 10\n",
        "if user_number % 10 == 0:\n",
        "    print(f\"{user_number} is a multiple of 10.\")\n",
        "else:\n",
        "    print(f\"{user_number} is not a multiple of 10.\")\n"
      ]
    },
    {
      "cell_type": "markdown",
      "id": "19",
      "metadata": {
        "id": "19"
      },
      "source": [
        "## Question 10\n",
        "\n",
        "**Pizza Toppings:** Write a loop that prompts the user to enter a series of pizza toppings until they enter a 'quit' value. As they enter each topping, print a message saying you’ll add that topping to their pizza."
      ]
    },
    {
      "cell_type": "code",
      "execution_count": 31,
      "id": "20",
      "metadata": {
        "id": "20"
      },
      "outputs": [
        {
          "name": "stdout",
          "output_type": "stream",
          "text": [
            "Adding bacon to your pizza.\n",
            "Adding pepperoni to your pizza.\n",
            "\n",
            "Your pizza will have the following toppings:\n",
            "- bacon\n",
            "- pepperoni\n"
          ]
        }
      ],
      "source": [
        "# Initialize an empty list to store pizza toppings\n",
        "pizza_toppings = []\n",
        "\n",
        "# Prompt the user to enter pizza toppings\n",
        "while True:\n",
        "    topping = input(\"Enter a pizza topping (type 'quit' to finish): \")\n",
        "\n",
        "    # Check if the user wants to quit\n",
        "    if topping.lower() == 'quit':\n",
        "        break\n",
        "\n",
        "    # Add the topping to the list and print a message\n",
        "    pizza_toppings.append(topping)\n",
        "    print(f\"Adding {topping} to your pizza.\")\n",
        "\n",
        "# Print the final list of pizza toppings\n",
        "print(\"\\nYour pizza will have the following toppings:\")\n",
        "for topping in pizza_toppings:\n",
        "    print(f\"- {topping}\")\n"
      ]
    },
    {
      "cell_type": "markdown",
      "id": "21",
      "metadata": {
        "id": "21"
      },
      "source": [
        "## Question 11\n",
        "\n",
        "**Message:** Write a function called `display_message()` that prints one sentence telling everyone what you are learning about in this chapter. Call the function, and make sure the message displays correctly."
      ]
    },
    {
      "cell_type": "code",
      "execution_count": 40,
      "id": "22",
      "metadata": {
        "id": "22"
      },
      "outputs": [
        {
          "name": "stdout",
          "output_type": "stream",
          "text": [
            "In this notebook, I am learning about Python functions and basic programming concepts.\n"
          ]
        }
      ],
      "source": [
        "# Define the display_message function\n",
        "def message():\n",
        "    print(\"In this notebook, I am learning about Python functions and basic programming concepts.\")\n",
        "\n",
        "# Call the function to display the message\n",
        "message()\n"
      ]
    },
    {
      "cell_type": "markdown",
      "id": "23",
      "metadata": {
        "id": "23"
      },
      "source": [
        "## Question 12\n",
        "\n",
        "**Favorite Book:** Write a function called `favorite_book()` that accepts one parameter, title. The function should print a message, such as `One of my favorite books is Alice in Wonderland`. Call the function, making sure to include a book title as an argument in the function call."
      ]
    },
    {
      "cell_type": "code",
      "execution_count": 41,
      "id": "24",
      "metadata": {
        "id": "24"
      },
      "outputs": [
        {
          "name": "stdout",
          "output_type": "stream",
          "text": [
            "One of my favorite books is Jurassic Park.\n"
          ]
        }
      ],
      "source": [
        "# Define the favorite_book function\n",
        "def favorite_book(title):\n",
        "    print(f\"One of my favorite books is {title}.\")\n",
        "\n",
        "# Call the function with a book title\n",
        "favorite_book(\"Jurassic Park\")\n"
      ]
    },
    {
      "cell_type": "markdown",
      "id": "25",
      "metadata": {
        "id": "25"
      },
      "source": [
        "## Question 13\n",
        "\n",
        "**T-Shirt:** Write a function called `make_shirt()` that accepts a size and the text of a message that should be printed on the shirt. The function should print a sentence summarizing the size of the shirt and the message printed on it.\n",
        "\n",
        "Call the function once using positional arguments to make a shirt. Call the function a second time using keyword arguments."
      ]
    },
    {
      "cell_type": "code",
      "execution_count": 42,
      "id": "26",
      "metadata": {
        "id": "26"
      },
      "outputs": [
        {
          "name": "stdout",
          "output_type": "stream",
          "text": [
            "Creating a shirt of size Medium with the message: 'So Cool It Hurts'.\n",
            "Creating a shirt of size Large with the message: 'Python Lover'.\n"
          ]
        }
      ],
      "source": [
        "# Define the make_shirt function\n",
        "def make_shirt(size, message):\n",
        "    print(f\"Creating a shirt of size {size} with the message: '{message}'.\")\n",
        "\n",
        "# Call the function once using positional arguments\n",
        "make_shirt(\"Medium\", \"So Cool It Hurts\")\n",
        "\n",
        "# Call the function a second time using keyword arguments\n",
        "make_shirt(size=\"Large\", message=\"Python Lover\")\n"
      ]
    },
    {
      "cell_type": "markdown",
      "id": "27",
      "metadata": {
        "id": "27"
      },
      "source": [
        "## Question 14\n",
        "\n",
        "**Large Shirts:** Modify the `make_shirt()` function so that shirts are large by default with a message that reads _I love Python_. Make a large shirt and a medium shirt with the default message, and a shirt of any size with a different message."
      ]
    },
    {
      "cell_type": "code",
      "execution_count": 43,
      "id": "28",
      "metadata": {
        "id": "28"
      },
      "outputs": [
        {
          "name": "stdout",
          "output_type": "stream",
          "text": [
            "Creating a shirt of size Large with the message: 'I love Python'.\n",
            "Creating a shirt of size Medium with the message: 'I love Python'.\n",
            "Creating a shirt of size Small with the message: 'Python is Fun!'.\n"
          ]
        }
      ],
      "source": [
        "# Modified make_shirt function with default values\n",
        "def make_shirt(size=\"Large\", message=\"I love Python\"):\n",
        "    print(f\"Creating a shirt of size {size} with the message: '{message}'.\")\n",
        "\n",
        "# Create a large shirt with the default message\n",
        "make_shirt()\n",
        "\n",
        "# Create a medium shirt with the default message\n",
        "make_shirt(size=\"Medium\")\n",
        "\n",
        "# Create a custom-sized shirt with a different message\n",
        "make_shirt(size=\"Small\", message=\"Python is Fun!\")\n"
      ]
    },
    {
      "cell_type": "markdown",
      "id": "29",
      "metadata": {
        "id": "29"
      },
      "source": [
        "## Question 15\n",
        "\n",
        "**Cities:** Write a function called `describe_city()` that accepts the name of a city and its country. The function should print a simple sentence, such as `Reykjavik is in Iceland`. Give the parameter for the country a default value. Call your function for three different cities, at least one of which is not in the default country."
      ]
    },
    {
      "cell_type": "code",
      "execution_count": 44,
      "id": "30",
      "metadata": {
        "id": "30"
      },
      "outputs": [
        {
          "name": "stdout",
          "output_type": "stream",
          "text": [
            "New York is in USA.\n",
            "Washington D.C. is in USA.\n",
            "Tokyo is in Japan.\n"
          ]
        }
      ],
      "source": [
        "# Define the describe_city function with a default country\n",
        "def describe_city(city, country=\"USA\"):\n",
        "    print(f\"{city} is in {country}.\")\n",
        "\n",
        "# Call the function for three different cities\n",
        "describe_city(\"New York\")\n",
        "describe_city(\"Washington D.C.\")\n",
        "describe_city(\"Tokyo\", \"Japan\")\n"
      ]
    },
    {
      "cell_type": "markdown",
      "id": "31",
      "metadata": {
        "id": "31"
      },
      "source": [
        "## Question 16\n",
        "\n",
        "**City Names:** Write a function called `city_country()` that takes in the name of a city and its country. The function should return a string formatted like this:\n",
        "\n",
        "```text\n",
        "Santiago, Chile\n",
        "```\n",
        "\n",
        "Call your function with at least three city-country pairs, and print the values that are returned."
      ]
    },
    {
      "cell_type": "code",
      "execution_count": 49,
      "id": "32",
      "metadata": {
        "id": "32"
      },
      "outputs": [
        {
          "name": "stdout",
          "output_type": "stream",
          "text": [
            "Tokyo, Japan\n",
            "New York, USA\n",
            "Paris, France\n"
          ]
        }
      ],
      "source": [
        "def city_country(city, country):\n",
        "    return f\"{city}, {country}\"\n",
        "\n",
        "print(city_country(\"Tokyo\", \"Japan\"))\n",
        "print(city_country(\"New York\", \"USA\"))\n",
        "print(city_country(\"Paris\", \"France\"))\n"
      ]
    },
    {
      "cell_type": "markdown",
      "id": "33",
      "metadata": {
        "id": "33"
      },
      "source": [
        "## Question 17\n",
        "\n",
        "**Album:** Write a function called `make_album()` that builds a dictionary describing a music album. The function should take in an artist name and an album title, and it should return a dictionary containing these two pieces of information. Use the function to make three dictionaries representing different albums. Print each return value to show that the dictionaries are storing the album information correctly.\n",
        "\n",
        "Use None to add an optional parameter to make_album() that allows you to store the number of songs on an album. If the calling line includes a value for the number of songs, add that value to the album’s dictionary. Make at least one new function call that includes the number of songs on an album."
      ]
    },
    {
      "cell_type": "code",
      "execution_count": 50,
      "id": "34",
      "metadata": {
        "id": "34"
      },
      "outputs": [
        {
          "name": "stdout",
          "output_type": "stream",
          "text": [
            "{'artist': 'Imagine Dragons', 'title': 'Night Visions', 'songs': 13}\n",
            "{'artist': 'The Beatles', 'title': 'Abbey Road', 'songs': 17}\n",
            "{'artist': 'Ed Sheeran', 'title': '÷ (Divide)', 'songs': 16}\n",
            "{'artist': 'John Williams', 'title': 'Jurassic Park', 'songs': 16}\n"
          ]
        }
      ],
      "source": [
        "# Define the make_album function\n",
        "def make_album(artist, title, songs=None):\n",
        "    album = {'artist': artist, 'title': title}\n",
        "    if songs is not None:\n",
        "        album['songs'] = songs\n",
        "    return album\n",
        "\n",
        "# Make three dictionaries representing different albums\n",
        "album1 = make_album(\"Imagine Dragons\", \"Night Visions\", songs=13)\n",
        "album2 = make_album(\"The Beatles\", \"Abbey Road\", songs=17)\n",
        "album3 = make_album(\"Ed Sheeran\", \"÷ (Divide)\", songs=16)\n",
        "\n",
        "# Print each return value to show the stored album information\n",
        "print(album1)\n",
        "print(album2)\n",
        "print(album3)\n",
        "\n",
        "album4 = make_album(\"John Williams\", \"Jurassic Park\", songs=16)\n",
        "print(album4)"
      ]
    },
    {
      "cell_type": "markdown",
      "id": "35",
      "metadata": {
        "id": "35"
      },
      "source": [
        "## Question 18\n",
        "\n",
        "**User Albums:** Start with your program from Question 17. Write a `while` loop that allows users to enter an album’s artist and title. Once you have that information, call `make_album()` with the user’s input and print the dictionary that’s created. Be sure to include a quit value in the `while` loop."
      ]
    },
    {
      "cell_type": "code",
      "execution_count": 60,
      "id": "36",
      "metadata": {
        "id": "36"
      },
      "outputs": [
        {
          "name": "stdout",
          "output_type": "stream",
          "text": [
            "{'artist': 'Imagine Dragons', 'title': 'Night Visions'}\n",
            "{'artist': 'The Beatles', 'title': 'Abbey Road'}\n",
            "{'artist': 'Ed Sheeran', 'title': '÷ (Divide)'}\n",
            "bye\n"
          ]
        }
      ],
      "source": [
        "# Define the make_album function\n",
        "def make_album(artist, title, songs=None):\n",
        "    album = {'artist': artist, 'title': title}\n",
        "    if songs is not None:\n",
        "        album['songs'] = songs\n",
        "    return album\n",
        "\n",
        "albums = [\n",
        "    (\"Imagine Dragons\", \"Night Visions\"),\n",
        "    (\"The Beatles\", \"Abbey Road\"),\n",
        "    (\"Ed Sheeran\", \"÷ (Divide)\"),\n",
        "    (\"end\", \"end\") \n",
        "]\n",
        "\n",
        "for artist, title in albums:\n",
        "    if artist.lower() == 'end' or title.lower() == 'end':\n",
        "        print(\"bye\")\n",
        "        break\n",
        "    else:\n",
        "        album = make_album(artist, title)\n",
        "        print(album)\n",
        "\n"
      ]
    },
    {
      "cell_type": "markdown",
      "id": "37",
      "metadata": {
        "id": "37"
      },
      "source": [
        "## Question 19\n",
        "\n",
        "**Messages:** Make a list containing a series of short text messages. Pass the list to a function called `show_messages()`, which prints each text message."
      ]
    },
    {
      "cell_type": "code",
      "execution_count": 61,
      "id": "38",
      "metadata": {
        "id": "38"
      },
      "outputs": [
        {
          "name": "stdout",
          "output_type": "stream",
          "text": [
            "Hello!\n",
            "How are you?\n",
            "Python is fun!\n",
            "Keep coding!\n",
            "Have a great day!\n"
          ]
        }
      ],
      "source": [
        "# Define the show_messages function\n",
        "def show_messages(messages):\n",
        "    for message in messages:\n",
        "        print(message)\n",
        "\n",
        "# Create a list of short text messages\n",
        "text_messages = [\n",
        "    \"Hello!\",\n",
        "    \"How are you?\",\n",
        "    \"Python is fun!\",\n",
        "    \"Keep coding!\",\n",
        "    \"Have a great day!\"\n",
        "]\n",
        "\n",
        "# Call the show_messages function with the list of messages\n",
        "show_messages(text_messages)\n"
      ]
    },
    {
      "cell_type": "markdown",
      "id": "39",
      "metadata": {
        "id": "39"
      },
      "source": [
        "## Question 20\n",
        "\n",
        "**Sending Messages:** Start with a copy of your program from Question 19. Write a function called `send_messages()` that prints each text message and moves each message to a new list called `sent_messages` as it’s printed. After calling the function, print both of your lists to make sure the messages were moved correctly."
      ]
    },
    {
      "cell_type": "code",
      "execution_count": 73,
      "id": "40",
      "metadata": {
        "id": "40"
      },
      "outputs": [
        {
          "name": "stdout",
          "output_type": "stream",
          "text": [
            "Sending message: Have a great day!\n",
            "Sending message: Keep coding!\n",
            "Sending message: Python is fun!\n",
            "Sending message: How are you?\n",
            "Sending message: Hello!\n",
            "\n",
            "Original messages:\n",
            "[]\n",
            "\n",
            "Sent messages:\n",
            "['Have a great day!', 'Keep coding!', 'Python is fun!', 'How are you?', 'Hello!']\n"
          ]
        }
      ],
      "source": [
        "# Define the send_messages function\n",
        "def send_messages(messages, sent_messages):\n",
        "    while messages:\n",
        "        current_message = messages.pop()\n",
        "        print(f\"Sending message: {current_message}\")\n",
        "        sent_messages.append(current_message)\n",
        "    return sent_messages\n",
        "\n",
        "# Create a list of short text messages\n",
        "text_messages = [\n",
        "    \"Hello!\",\n",
        "    \"How are you?\",\n",
        "    \"Python is fun!\",\n",
        "    \"Keep coding!\",\n",
        "    \"Have a great day!\"\n",
        "]\n",
        "\n",
        "# Create an empty list to store sent messages\n",
        "sent_messages = []\n",
        "\n",
        "# Call the send_messages function with the list of messages\n",
        "send_messages(text_messages, sent_messages)\n",
        "\n",
        "# Print both lists to verify messages were moved correctly\n",
        "print(\"\\nOriginal messages:\")\n",
        "print(text_messages)\n",
        "\n",
        "print(\"\\nSent messages:\")\n",
        "print(sent_messages)\n"
      ]
    },
    {
      "cell_type": "markdown",
      "id": "41",
      "metadata": {
        "id": "41"
      },
      "source": [
        "## Question 21\n",
        "\n",
        "**Learning Python:** Open a blank file in your text editor and write a few lines summarizing what you’ve learned about Python so far. Start each line with the phrase _In Python you can. . .._ Save the file as _learning_python.txt_ in the same directory as your exercises from this chapter. Write a program that reads the file and prints what you wrote three times. Print the contents once by reading in the entire file, once by looping over the file object, and once by storing the lines in a list and then working with them outside the _with_ block."
      ]
    },
    {
      "cell_type": "code",
      "execution_count": 78,
      "id": "42",
      "metadata": {
        "id": "42"
      },
      "outputs": [
        {
          "name": "stdout",
          "output_type": "stream",
          "text": [
            "Read entire file:\n",
            "In Python you can define functions to encapsulate reusable code.\n",
            "In Python you can use dictionaries to store key-value pairs.\n",
            "In Python you can work with files using the built-in file handling capabilities.\n",
            "\n",
            "\n",
            "Looping over the file object:\n",
            "In Python you can define functions to encapsulate reusable code.\n",
            "In Python you can use dictionaries to store key-value pairs.\n",
            "In Python you can work with files using the built-in file handling capabilities.\n",
            "\n",
            "Lines stored in a list and printed outside the with block:\n",
            "In Python you can define functions to encapsulate reusable code.\n",
            "In Python you can use dictionaries to store key-value pairs.\n",
            "In Python you can work with files using the built-in file handling capabilities.\n"
          ]
        }
      ],
      "source": [
        "filename = 'learning_python.txt'\n",
        "\n",
        "# Read the entire file and print its contents\n",
        "with open(filename) as text_file:\n",
        "    contents = text_file.read()\n",
        "print(\"Read entire file:\")\n",
        "print(contents)\n",
        "\n",
        "# Loop over the file object and print each line\n",
        "print(\"\\nLooping over the file object:\")\n",
        "with open(filename) as text_file:\n",
        "    for line in text_file:\n",
        "        print(line.rstrip())\n",
        "\n",
        "# Store lines in a list and print outside the with block\n",
        "print(\"\\nLines stored in a list and printed outside the with block:\")\n",
        "with open(filename) as text_file:\n",
        "    lines = text_file.readlines()\n",
        "\n",
        "# Strip to remove extra newline characters\n",
        "for line in lines:\n",
        "    print(line.rstrip())\n"
      ]
    },
    {
      "cell_type": "markdown",
      "id": "43",
      "metadata": {
        "id": "43"
      },
      "source": [
        "## Question 22\n",
        "\n",
        "**Learning C:** You can use the replace() method to replace any word in a string with a different word. Here’s a quick example showing how to replace 'dog' with 'cat' in a sentence:\n",
        "\n",
        "```text\n",
        "message = \"I really like dogs.\"\n",
        "message.replace('dog', 'cat')\n",
        "'I really like cats.'\n",
        "```\n",
        "\n",
        "Read in each line from the file you just created, _learning_python.txt_, and replace the word _Python_ with the name of another language, such as _C_. Print each modified line to the screen."
      ]
    },
    {
      "cell_type": "code",
      "execution_count": 79,
      "id": "44",
      "metadata": {
        "id": "44"
      },
      "outputs": [
        {
          "name": "stdout",
          "output_type": "stream",
          "text": [
            "In C you can define functions to encapsulate reusable code.\n",
            "In C you can use dictionaries to store key-value pairs.\n",
            "In C you can work with files using the built-in file handling capabilities.\n"
          ]
        }
      ],
      "source": [
        "filename = 'learning_python.txt'\n",
        "\n",
        "with open(filename) as text_file:\n",
        "    file = text_file.readlines()\n",
        "\n",
        "for line in file:\n",
        "    modified_line = line.replace('Python', 'C')\n",
        "    print(modified_line.rstrip())\n"
      ]
    },
    {
      "cell_type": "markdown",
      "id": "45",
      "metadata": {
        "id": "45"
      },
      "source": [
        "## Question 23\n",
        "\n",
        "**Guest:** Write a program that prompts the user for their name. When they respond, write their name to a file called guest.txt."
      ]
    },
    {
      "cell_type": "code",
      "execution_count": 80,
      "id": "46",
      "metadata": {
        "id": "46"
      },
      "outputs": [
        {
          "name": "stdout",
          "output_type": "stream",
          "text": [
            "Thank you, Brycen Harris! Your name has been written to guest.txt.\n"
          ]
        }
      ],
      "source": [
        "# Prompt the user for their name\n",
        "user_name = input(\"Please enter your name: \")\n",
        "\n",
        "# Write the user's name to guest.txt\n",
        "with open('guest.txt', 'w') as file:\n",
        "    file.write(user_name)\n",
        "\n",
        "print(f\"Thank you, {user_name}! Your name has been written to guest.txt.\")\n"
      ]
    },
    {
      "cell_type": "markdown",
      "id": "47",
      "metadata": {
        "id": "47"
      },
      "source": [
        "## Question 24\n",
        "\n",
        "**Guest Book:** Write a while loop that prompts users for their name. When they enter their name, print a greeting to the screen and add a line recording their visit in a file called guest_book.txt. Make sure each entry appears on a new line in the file."
      ]
    },
    {
      "cell_type": "code",
      "execution_count": 81,
      "id": "48",
      "metadata": {
        "id": "48"
      },
      "outputs": [
        {
          "name": "stdout",
          "output_type": "stream",
          "text": [
            "Welcome, Brycen Harris!\n",
            "Welcome, Ryan Willson!\n",
            "Thanks for visiting! Check guest_book.txt for recorded visits.\n"
          ]
        }
      ],
      "source": [
        "# Open guest_book.txt in append mode to record visits\n",
        "with open('guest_book.txt', 'a') as guest_book:\n",
        "    while True:\n",
        "        # Prompt the user for their name\n",
        "        user_name = input(\"Please enter your name (type 'quit' to exit): \")\n",
        "\n",
        "        # Check if the user wants to quit\n",
        "        if user_name.lower() == 'quit':\n",
        "            break\n",
        "\n",
        "        # Print a greeting to the screen\n",
        "        print(f\"Welcome, {user_name}!\")\n",
        "\n",
        "        # Write the user's visit to guest_book.txt\n",
        "        guest_book.write(f\"{user_name}\\n\")\n",
        "\n",
        "print(\"Thanks for visiting! Check guest_book.txt for recorded visits.\")\n"
      ]
    },
    {
      "cell_type": "markdown",
      "id": "49",
      "metadata": {
        "id": "49"
      },
      "source": [
        "## Question 25\n",
        "\n",
        "**Programming Poll:** Write a while loop that asks people why they like programming. Each time someone enters a reason, add their reason to a file that stores all the responses."
      ]
    },
    {
      "cell_type": "code",
      "execution_count": 82,
      "id": "50",
      "metadata": {
        "id": "50"
      },
      "outputs": [
        {
          "name": "stdout",
          "output_type": "stream",
          "text": [
            "Welcome to the Programming Poll! Type 'quit' to exit.\n",
            "Thank you for participating! Responses have been recorded in poll_responses.txt.\n"
          ]
        }
      ],
      "source": [
        "# Open poll_responses.txt in append mode to store responses\n",
        "with open('poll_responses.txt', 'a') as poll_responses:\n",
        "    print(\"Welcome to the Programming Poll! Type 'quit' to exit.\")\n",
        "\n",
        "    while True:\n",
        "        # Prompt the user for their reason for liking programming\n",
        "        reason = input(\"Why do you like programming? \")\n",
        "\n",
        "        # Check if the user wants to quit\n",
        "        if reason.lower() == 'quit':\n",
        "            break\n",
        "\n",
        "        # Write the user's reason to poll_responses.txt\n",
        "        poll_responses.write(f\"{reason}\\n\")\n",
        "\n",
        "print(\"Thank you for participating! Responses have been recorded in poll_responses.txt.\")\n"
      ]
    },
    {
      "cell_type": "markdown",
      "id": "51",
      "metadata": {
        "id": "51"
      },
      "source": [
        "## Question 26\n",
        "\n",
        "**Addition:** One common problem when prompting for numerical input occurs when people provide text instead of numbers. When you try to convert the input to an int, you’ll get a ValueError. Write a program that prompts for two numbers. Add them together and print the result. Catch the ValueError if either input value is not a number, and print a friendly error message. Test your program by entering two numbers and then by entering some text instead of a number."
      ]
    },
    {
      "cell_type": "code",
      "execution_count": 84,
      "id": "52",
      "metadata": {
        "id": "52"
      },
      "outputs": [
        {
          "name": "stdout",
          "output_type": "stream",
          "text": [
            "Invalid input. Please enter valid numbers.\n",
            "The sum of 6 and 8 is: 14\n"
          ]
        }
      ],
      "source": [
        "while True:\n",
        "    try:\n",
        "        # Prompt the user for two numbers\n",
        "        num1 = input(\"Enter the first number: \")\n",
        "        num2 = input(\"Enter the second number: \")\n",
        "\n",
        "        # Convert input to integers and add them together\n",
        "        result = int(num1) + int(num2)\n",
        "\n",
        "        # Print the result\n",
        "        print(f\"The sum of {num1} and {num2} is: {result}\")\n",
        "\n",
        "        # Break out of the loop after successful input\n",
        "        break\n",
        "\n",
        "    except ValueError:\n",
        "        # Handle ValueError if input is not a number\n",
        "        print(\"Invalid input. Please enter valid numbers.\")\n"
      ]
    },
    {
      "cell_type": "markdown",
      "id": "53",
      "metadata": {
        "id": "53"
      },
      "source": [
        "## Question 27\n",
        "\n",
        "**Addition Calculator:** Wrap your code from Question 26 in a while loop so the user can continue entering numbers even if they make a mistake and enter text instead of a number."
      ]
    },
    {
      "cell_type": "code",
      "execution_count": 85,
      "id": "54",
      "metadata": {
        "id": "54"
      },
      "outputs": [
        {
          "name": "stdout",
          "output_type": "stream",
          "text": [
            "The sum of 6 and 8 is: 14\n",
            "The sum of 5 and 4 is: 9\n",
            "The sum of 10 and 15 is: 25\n"
          ]
        }
      ],
      "source": [
        "while True:\n",
        "    try:\n",
        "        # Prompt the user for two numbers\n",
        "        num1 = input(\"Enter the first number (or 'quit' to exit): \")\n",
        "\n",
        "        # Check if the user wants to quit\n",
        "        if num1.lower() == 'quit':\n",
        "            break\n",
        "\n",
        "        num2 = input(\"Enter the second number: \")\n",
        "\n",
        "        # Convert input to integers and add them together\n",
        "        result = int(num1) + int(num2)\n",
        "\n",
        "        # Print the result\n",
        "        print(f\"The sum of {num1} and {num2} is: {result}\")\n",
        "\n",
        "    except ValueError:\n",
        "        # Handle ValueError if input is not a number\n",
        "        print(\"Invalid input. Please enter valid numbers.\")\n"
      ]
    },
    {
      "cell_type": "markdown",
      "id": "55",
      "metadata": {
        "id": "55"
      },
      "source": [
        "## Question 28\n",
        "\n",
        "**Cats and Dogs:** Make two files, _cats.txt_ and _dogs.txt_. Store at least three names of cats in the first file and three names of dogs in the second file. Write a program that tries to read these files and print the contents of the file to the screen. Wrap your code in a `try-except` block to catch the `FileNotFound` error, and print a friendly message if a file is missing. Move one of the files to a different location on your system, and make sure the code in the `except` block executes properly."
      ]
    },
    {
      "cell_type": "code",
      "execution_count": 88,
      "id": "56",
      "metadata": {
        "id": "56"
      },
      "outputs": [
        {
          "name": "stdout",
          "output_type": "stream",
          "text": [
            "Contents of dogs.txt:\n",
            "Grace\n",
            "Junior\n",
            "Mitsy\n",
            "\n",
            "Contents of cats.txt:\n",
            "Luna\n",
            "Milo\n",
            "Oliver\n",
            "\n"
          ]
        }
      ],
      "source": [
        "filenames = ['dogs.txt', 'cats.txt']\n",
        "\n",
        "for filename in filenames:\n",
        "    try:\n",
        "        with open(filename) as text_file:\n",
        "            print(f\"Contents of {filename}:\")\n",
        "            contents = text_file.read()\n",
        "            print(contents)\n",
        "            print()\n",
        "    except FileNotFoundError:\n",
        "        print(f\"Sorry, the file '{filename}' does not exist or cannot be found.\")\n"
      ]
    },
    {
      "cell_type": "markdown",
      "id": "57",
      "metadata": {
        "id": "57"
      },
      "source": [
        "## Question 29\n",
        "\n",
        "**Silent Cats and Dogs:** Modify your except block in Question 28 to fail silently if either file is missing."
      ]
    },
    {
      "cell_type": "code",
      "execution_count": 89,
      "id": "58",
      "metadata": {
        "id": "58"
      },
      "outputs": [
        {
          "name": "stdout",
          "output_type": "stream",
          "text": [
            "Contents of dogs.txt:\n",
            "Grace\n",
            "Junior\n",
            "Mitsy\n",
            "\n",
            "Contents of cats.txt:\n",
            "Luna\n",
            "Milo\n",
            "Oliver\n",
            "\n"
          ]
        }
      ],
      "source": [
        "filenames = ['dogs.txt', 'cats.txt']\n",
        "\n",
        "for filename in filenames:\n",
        "    try:\n",
        "        with open(filename) as text_file:\n",
        "            print(f\"Contents of {filename}:\")\n",
        "            contents = text_file.read()\n",
        "            print(contents)\n",
        "            print()\n",
        "    except FileNotFoundError:\n",
        "        pass\n"
      ]
    },
    {
      "cell_type": "markdown",
      "id": "59",
      "metadata": {
        "id": "59"
      },
      "source": [
        "## Question 30\n",
        "\n",
        "**Common Words:** Visit Project Gutenberg (<https://gutenberg.org/>) and find a few texts you’d like to analyze. Download the text files for these works, or copy the raw text from your browser into a text file on your computer. You can use the `count()` method to find out how many times a word or phrase appears in a string. For example, the following code counts the number of times 'row' appears in a string:"
      ]
    },
    {
      "cell_type": "code",
      "execution_count": null,
      "id": "60",
      "metadata": {
        "id": "60"
      },
      "outputs": [],
      "source": [
        "line = \"Row, row, row your boat\"\n",
        "line.count(\"row\")"
      ]
    },
    {
      "cell_type": "code",
      "execution_count": null,
      "id": "61",
      "metadata": {
        "id": "61"
      },
      "outputs": [],
      "source": [
        "line.lower().count(\"row\")"
      ]
    },
    {
      "cell_type": "markdown",
      "id": "62",
      "metadata": {
        "id": "62"
      },
      "source": [
        "Notice that converting the string to lowercase using lower() catches all appearances of the word you’re looking for, regardless of how it’s formatted.\n",
        "\n",
        "Write a program that reads the files you found at Project Gutenberg and determines how many times the word `the` appears in each text. This will be an approximation because it will also count words such as `then` and `there`. Try counting `the`, with a space in the string, and see how much lower your count is."
      ]
    },
    {
      "cell_type": "code",
      "execution_count": 101,
      "id": "63",
      "metadata": {
        "id": "63"
      },
      "outputs": [
        {
          "name": "stdout",
          "output_type": "stream",
          "text": [
            "The word 'the' with space show up 3151 times in the text file.\n",
            "The word 'the' without a space shows up 2215 times in the text file.\n"
          ]
        }
      ],
      "source": [
        "def count_the(file_name, target_word):\n",
        "    try:\n",
        "        with open(file_name, 'r', encoding='utf-8') as file:\n",
        "            content = file.read()\n",
        "            # Count occurrences with a space\n",
        "            with_space = content.lower().count(target_word.lower())\n",
        "            \n",
        "            # Count occurrences without a space\n",
        "            no_space = content.lower().count(target_word.lower() + \" \")\n",
        "\n",
        "            print(f\"The word '{target_word}' with space show up {with_space} times in the text file.\")\n",
        "            print(f\"The word '{target_word}' without a space shows up {no_space} times in the text file.\")\n",
        "\n",
        "    except FileNotFoundError:\n",
        "        print(f\"Sorry, the file '{filename}' does not exist or cannot be found.\")\n",
        "\n",
        "# Example usage for the gutenberg_file.txt\n",
        "count_the(\"gutenberg_file.txt\", \"the\")"
      ]
    }
  ],
  "metadata": {
    "colab": {
      "provenance": []
    },
    "kernelspec": {
      "display_name": "Python 3",
      "language": "python",
      "name": "python3"
    },
    "language_info": {
      "codemirror_mode": {
        "name": "ipython",
        "version": 3
      },
      "file_extension": ".py",
      "mimetype": "text/x-python",
      "name": "python",
      "nbconvert_exporter": "python",
      "pygments_lexer": "ipython3",
      "version": "3.11.7"
    }
  },
  "nbformat": 4,
  "nbformat_minor": 5
}
