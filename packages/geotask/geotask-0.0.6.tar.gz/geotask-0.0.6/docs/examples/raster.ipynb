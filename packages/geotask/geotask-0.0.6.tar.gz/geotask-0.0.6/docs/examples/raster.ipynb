{
 "cells": [
  {
   "cell_type": "markdown",
   "metadata": {},
   "source": [
    "[![image](https://colab.research.google.com/assets/colab-badge.svg)](https://colab.research.google.com/github/nazifa02/geotask/blob/main/docs/examples/raster.ipynb)"
   ]
  },
  {
   "cell_type": "code",
   "execution_count": 1,
   "metadata": {},
   "outputs": [
    {
     "name": "stdout",
     "output_type": "stream",
     "text": [
      "Requirement already satisfied: geotask in c:\\users\\tasne\\miniconda3\\envs\\geo\\lib\\site-packages (0.0.5)\n",
      "Requirement already satisfied: ipyleaflet in c:\\users\\tasne\\miniconda3\\envs\\geo\\lib\\site-packages (from geotask) (0.18.2)\n",
      "Requirement already satisfied: numpy in c:\\users\\tasne\\appdata\\roaming\\python\\python311\\site-packages (from geotask) (1.25.2)\n",
      "Requirement already satisfied: pandas in c:\\users\\tasne\\appdata\\roaming\\python\\python311\\site-packages (from geotask) (2.2.1)\n",
      "Requirement already satisfied: pyshp in c:\\users\\tasne\\appdata\\roaming\\python\\python311\\site-packages (from geotask) (2.3.1)\n",
      "Requirement already satisfied: geopandas in c:\\users\\tasne\\appdata\\roaming\\python\\python311\\site-packages (from geotask) (0.14.3)\n",
      "Requirement already satisfied: localtileserver in c:\\users\\tasne\\miniconda3\\envs\\geo\\lib\\site-packages (from geotask) (0.7.2)\n",
      "Requirement already satisfied: fiona>=1.8.21 in c:\\users\\tasne\\appdata\\roaming\\python\\python311\\site-packages (from geopandas->geotask) (1.9.6)\n",
      "Requirement already satisfied: packaging in c:\\users\\tasne\\miniconda3\\envs\\geo\\lib\\site-packages (from geopandas->geotask) (23.2)\n",
      "Requirement already satisfied: pyproj>=3.3.0 in c:\\users\\tasne\\appdata\\roaming\\python\\python311\\site-packages (from geopandas->geotask) (3.6.1)\n",
      "Requirement already satisfied: shapely>=1.8.0 in c:\\users\\tasne\\appdata\\roaming\\python\\python311\\site-packages (from geopandas->geotask) (2.0.3)\n",
      "Requirement already satisfied: python-dateutil>=2.8.2 in c:\\users\\tasne\\appdata\\roaming\\python\\python311\\site-packages (from pandas->geotask) (2.9.0.post0)\n",
      "Requirement already satisfied: pytz>=2020.1 in c:\\users\\tasne\\appdata\\roaming\\python\\python311\\site-packages (from pandas->geotask) (2024.1)\n",
      "Requirement already satisfied: tzdata>=2022.7 in c:\\users\\tasne\\appdata\\roaming\\python\\python311\\site-packages (from pandas->geotask) (2024.1)\n",
      "Requirement already satisfied: ipywidgets<9,>=7.6.0 in c:\\users\\tasne\\appdata\\roaming\\python\\python311\\site-packages (from ipyleaflet->geotask) (8.1.2)\n",
      "Requirement already satisfied: traittypes<3,>=0.2.1 in c:\\users\\tasne\\appdata\\roaming\\python\\python311\\site-packages (from ipyleaflet->geotask) (0.2.1)\n",
      "Requirement already satisfied: xyzservices>=2021.8.1 in c:\\users\\tasne\\appdata\\roaming\\python\\python311\\site-packages (from ipyleaflet->geotask) (2023.10.1)\n",
      "Requirement already satisfied: branca>=0.5.0 in c:\\users\\tasne\\appdata\\roaming\\python\\python311\\site-packages (from ipyleaflet->geotask) (0.7.1)\n",
      "Requirement already satisfied: click in c:\\users\\tasne\\appdata\\roaming\\python\\python311\\site-packages (from localtileserver->geotask) (8.1.7)\n",
      "Requirement already satisfied: flask<3,>=2.0.0 in c:\\users\\tasne\\miniconda3\\envs\\geo\\lib\\site-packages (from localtileserver->geotask) (2.3.3)\n",
      "Requirement already satisfied: Flask-Caching in c:\\users\\tasne\\miniconda3\\envs\\geo\\lib\\site-packages (from localtileserver->geotask) (2.1.0)\n",
      "Requirement already satisfied: flask-cors in c:\\users\\tasne\\miniconda3\\envs\\geo\\lib\\site-packages (from localtileserver->geotask) (4.0.0)\n",
      "Requirement already satisfied: flask-restx>=0.5.0 in c:\\users\\tasne\\miniconda3\\envs\\geo\\lib\\site-packages (from localtileserver->geotask) (1.1.0)\n",
      "Requirement already satisfied: large-image>=1.22.2 in c:\\users\\tasne\\miniconda3\\envs\\geo\\lib\\site-packages (from large-image[rasterio]>=1.22.2->localtileserver->geotask) (1.27.0)\n",
      "Requirement already satisfied: requests in c:\\users\\tasne\\appdata\\roaming\\python\\python311\\site-packages (from localtileserver->geotask) (2.31.0)\n",
      "Requirement already satisfied: server-thread in c:\\users\\tasne\\miniconda3\\envs\\geo\\lib\\site-packages (from localtileserver->geotask) (0.2.0)\n",
      "Requirement already satisfied: scooby in c:\\users\\tasne\\miniconda3\\envs\\geo\\lib\\site-packages (from localtileserver->geotask) (0.9.2)\n",
      "Requirement already satisfied: werkzeug in c:\\users\\tasne\\miniconda3\\envs\\geo\\lib\\site-packages (from localtileserver->geotask) (3.0.1)\n",
      "Requirement already satisfied: jinja2>=3 in c:\\users\\tasne\\appdata\\roaming\\python\\python311\\site-packages (from branca>=0.5.0->ipyleaflet->geotask) (3.1.3)\n",
      "Requirement already satisfied: attrs>=19.2.0 in c:\\users\\tasne\\appdata\\roaming\\python\\python311\\site-packages (from fiona>=1.8.21->geopandas->geotask) (23.2.0)\n",
      "Requirement already satisfied: certifi in c:\\users\\tasne\\appdata\\roaming\\python\\python311\\site-packages (from fiona>=1.8.21->geopandas->geotask) (2024.2.2)\n",
      "Requirement already satisfied: click-plugins>=1.0 in c:\\users\\tasne\\appdata\\roaming\\python\\python311\\site-packages (from fiona>=1.8.21->geopandas->geotask) (1.1.1)\n",
      "Requirement already satisfied: cligj>=0.5 in c:\\users\\tasne\\appdata\\roaming\\python\\python311\\site-packages (from fiona>=1.8.21->geopandas->geotask) (0.7.2)\n",
      "Requirement already satisfied: six in c:\\users\\tasne\\appdata\\roaming\\python\\python311\\site-packages (from fiona>=1.8.21->geopandas->geotask) (1.16.0)\n",
      "Requirement already satisfied: colorama in c:\\users\\tasne\\appdata\\roaming\\python\\python311\\site-packages (from click->localtileserver->geotask) (0.4.6)\n",
      "Requirement already satisfied: itsdangerous>=2.1.2 in c:\\users\\tasne\\miniconda3\\envs\\geo\\lib\\site-packages (from flask<3,>=2.0.0->localtileserver->geotask) (2.1.2)\n",
      "Requirement already satisfied: blinker>=1.6.2 in c:\\users\\tasne\\miniconda3\\envs\\geo\\lib\\site-packages (from flask<3,>=2.0.0->localtileserver->geotask) (1.7.0)\n",
      "Requirement already satisfied: aniso8601>=0.82 in c:\\users\\tasne\\miniconda3\\envs\\geo\\lib\\site-packages (from flask-restx>=0.5.0->localtileserver->geotask) (9.0.1)\n",
      "Requirement already satisfied: jsonschema in c:\\users\\tasne\\miniconda3\\envs\\geo\\lib\\site-packages (from flask-restx>=0.5.0->localtileserver->geotask) (4.21.1)\n",
      "Requirement already satisfied: comm>=0.1.3 in c:\\users\\tasne\\appdata\\roaming\\python\\python311\\site-packages (from ipywidgets<9,>=7.6.0->ipyleaflet->geotask) (0.2.2)\n",
      "Requirement already satisfied: ipython>=6.1.0 in c:\\users\\tasne\\appdata\\roaming\\python\\python311\\site-packages (from ipywidgets<9,>=7.6.0->ipyleaflet->geotask) (8.22.2)\n",
      "Requirement already satisfied: traitlets>=4.3.1 in c:\\users\\tasne\\appdata\\roaming\\python\\python311\\site-packages (from ipywidgets<9,>=7.6.0->ipyleaflet->geotask) (5.14.2)\n",
      "Requirement already satisfied: widgetsnbextension~=4.0.10 in c:\\users\\tasne\\appdata\\roaming\\python\\python311\\site-packages (from ipywidgets<9,>=7.6.0->ipyleaflet->geotask) (4.0.10)\n",
      "Requirement already satisfied: jupyterlab-widgets~=3.0.10 in c:\\users\\tasne\\appdata\\roaming\\python\\python311\\site-packages (from ipywidgets<9,>=7.6.0->ipyleaflet->geotask) (3.0.10)\n",
      "Requirement already satisfied: cachetools in c:\\users\\tasne\\miniconda3\\envs\\geo\\lib\\site-packages (from large-image>=1.22.2->large-image[rasterio]>=1.22.2->localtileserver->geotask) (4.2.4)\n",
      "Requirement already satisfied: palettable in c:\\users\\tasne\\miniconda3\\envs\\geo\\lib\\site-packages (from large-image>=1.22.2->large-image[rasterio]>=1.22.2->localtileserver->geotask) (3.3.3)\n",
      "Requirement already satisfied: Pillow in c:\\users\\tasne\\appdata\\roaming\\python\\python311\\site-packages (from large-image>=1.22.2->large-image[rasterio]>=1.22.2->localtileserver->geotask) (10.3.0)\n",
      "Requirement already satisfied: large-image-source-rasterio>=1.27.0 in c:\\users\\tasne\\miniconda3\\envs\\geo\\lib\\site-packages (from large-image[rasterio]>=1.22.2->localtileserver->geotask) (1.27.0)\n",
      "Requirement already satisfied: MarkupSafe>=2.1.1 in c:\\users\\tasne\\appdata\\roaming\\python\\python311\\site-packages (from werkzeug->localtileserver->geotask) (2.1.5)\n",
      "Requirement already satisfied: cachelib<0.10.0,>=0.9.0 in c:\\users\\tasne\\miniconda3\\envs\\geo\\lib\\site-packages (from Flask-Caching->localtileserver->geotask) (0.9.0)\n",
      "Requirement already satisfied: charset-normalizer<4,>=2 in c:\\users\\tasne\\appdata\\roaming\\python\\python311\\site-packages (from requests->localtileserver->geotask) (3.3.2)\n",
      "Requirement already satisfied: idna<4,>=2.5 in c:\\users\\tasne\\appdata\\roaming\\python\\python311\\site-packages (from requests->localtileserver->geotask) (3.7)\n",
      "Requirement already satisfied: urllib3<3,>=1.21.1 in c:\\users\\tasne\\appdata\\roaming\\python\\python311\\site-packages (from requests->localtileserver->geotask) (2.2.1)\n",
      "Requirement already satisfied: uvicorn in c:\\users\\tasne\\miniconda3\\envs\\geo\\lib\\site-packages (from server-thread->localtileserver->geotask) (0.27.0)\n",
      "Requirement already satisfied: decorator in c:\\users\\tasne\\appdata\\roaming\\python\\python311\\site-packages (from ipython>=6.1.0->ipywidgets<9,>=7.6.0->ipyleaflet->geotask) (5.1.1)\n",
      "Requirement already satisfied: jedi>=0.16 in c:\\users\\tasne\\appdata\\roaming\\python\\python311\\site-packages (from ipython>=6.1.0->ipywidgets<9,>=7.6.0->ipyleaflet->geotask) (0.19.1)\n",
      "Requirement already satisfied: matplotlib-inline in c:\\users\\tasne\\appdata\\roaming\\python\\python311\\site-packages (from ipython>=6.1.0->ipywidgets<9,>=7.6.0->ipyleaflet->geotask) (0.1.6)\n",
      "Requirement already satisfied: prompt-toolkit<3.1.0,>=3.0.41 in c:\\users\\tasne\\appdata\\roaming\\python\\python311\\site-packages (from ipython>=6.1.0->ipywidgets<9,>=7.6.0->ipyleaflet->geotask) (3.0.43)\n",
      "Requirement already satisfied: pygments>=2.4.0 in c:\\users\\tasne\\appdata\\roaming\\python\\python311\\site-packages (from ipython>=6.1.0->ipywidgets<9,>=7.6.0->ipyleaflet->geotask) (2.17.2)\n",
      "Requirement already satisfied: stack-data in c:\\users\\tasne\\appdata\\roaming\\python\\python311\\site-packages (from ipython>=6.1.0->ipywidgets<9,>=7.6.0->ipyleaflet->geotask) (0.6.3)\n",
      "Requirement already satisfied: rasterio>=1.3 in c:\\users\\tasne\\appdata\\roaming\\python\\python311\\site-packages (from large-image-source-rasterio>=1.27.0->large-image[rasterio]>=1.22.2->localtileserver->geotask) (1.3.9)\n",
      "Requirement already satisfied: jsonschema-specifications>=2023.03.6 in c:\\users\\tasne\\miniconda3\\envs\\geo\\lib\\site-packages (from jsonschema->flask-restx>=0.5.0->localtileserver->geotask) (2023.12.1)\n",
      "Requirement already satisfied: referencing>=0.28.4 in c:\\users\\tasne\\miniconda3\\envs\\geo\\lib\\site-packages (from jsonschema->flask-restx>=0.5.0->localtileserver->geotask) (0.32.1)\n",
      "Requirement already satisfied: rpds-py>=0.7.1 in c:\\users\\tasne\\miniconda3\\envs\\geo\\lib\\site-packages (from jsonschema->flask-restx>=0.5.0->localtileserver->geotask) (0.17.1)\n",
      "Requirement already satisfied: h11>=0.8 in c:\\users\\tasne\\miniconda3\\envs\\geo\\lib\\site-packages (from uvicorn->server-thread->localtileserver->geotask) (0.14.0)\n",
      "Requirement already satisfied: parso<0.9.0,>=0.8.3 in c:\\users\\tasne\\appdata\\roaming\\python\\python311\\site-packages (from jedi>=0.16->ipython>=6.1.0->ipywidgets<9,>=7.6.0->ipyleaflet->geotask) (0.8.3)\n",
      "Requirement already satisfied: wcwidth in c:\\users\\tasne\\appdata\\roaming\\python\\python311\\site-packages (from prompt-toolkit<3.1.0,>=3.0.41->ipython>=6.1.0->ipywidgets<9,>=7.6.0->ipyleaflet->geotask) (0.2.13)\n",
      "Requirement already satisfied: affine in c:\\users\\tasne\\appdata\\roaming\\python\\python311\\site-packages (from rasterio>=1.3->large-image-source-rasterio>=1.27.0->large-image[rasterio]>=1.22.2->localtileserver->geotask) (2.4.0)\n",
      "Requirement already satisfied: snuggs>=1.4.1 in c:\\users\\tasne\\appdata\\roaming\\python\\python311\\site-packages (from rasterio>=1.3->large-image-source-rasterio>=1.27.0->large-image[rasterio]>=1.22.2->localtileserver->geotask) (1.4.7)\n",
      "Requirement already satisfied: setuptools in c:\\users\\tasne\\miniconda3\\envs\\geo\\lib\\site-packages (from rasterio>=1.3->large-image-source-rasterio>=1.27.0->large-image[rasterio]>=1.22.2->localtileserver->geotask) (68.2.2)\n",
      "Requirement already satisfied: executing>=1.2.0 in c:\\users\\tasne\\appdata\\roaming\\python\\python311\\site-packages (from stack-data->ipython>=6.1.0->ipywidgets<9,>=7.6.0->ipyleaflet->geotask) (2.0.1)\n",
      "Requirement already satisfied: asttokens>=2.1.0 in c:\\users\\tasne\\appdata\\roaming\\python\\python311\\site-packages (from stack-data->ipython>=6.1.0->ipywidgets<9,>=7.6.0->ipyleaflet->geotask) (2.4.1)\n",
      "Requirement already satisfied: pure-eval in c:\\users\\tasne\\appdata\\roaming\\python\\python311\\site-packages (from stack-data->ipython>=6.1.0->ipywidgets<9,>=7.6.0->ipyleaflet->geotask) (0.2.2)\n",
      "Requirement already satisfied: pyparsing>=2.1.6 in c:\\users\\tasne\\appdata\\roaming\\python\\python311\\site-packages (from snuggs>=1.4.1->rasterio>=1.3->large-image-source-rasterio>=1.27.0->large-image[rasterio]>=1.22.2->localtileserver->geotask) (3.1.2)\n",
      "Note: you may need to restart the kernel to use updated packages.\n"
     ]
    },
    {
     "name": "stderr",
     "output_type": "stream",
     "text": [
      "WARNING: Skipping c:\\Users\\tasne\\miniconda3\\envs\\geo\\Lib\\site-packages\\vtk-9.2.6.egg-info due to invalid metadata entry 'name'\n",
      "WARNING: Skipping c:\\Users\\tasne\\miniconda3\\envs\\geo\\Lib\\site-packages\\vtk-9.2.6.egg-info due to invalid metadata entry 'name'\n"
     ]
    }
   ],
   "source": [
    "pip install geotask"
   ]
  },
  {
   "cell_type": "code",
   "execution_count": 2,
   "metadata": {},
   "outputs": [],
   "source": [
    "import geotask"
   ]
  },
  {
   "cell_type": "code",
   "execution_count": 3,
   "metadata": {},
   "outputs": [
    {
     "data": {
      "application/vnd.jupyter.widget-view+json": {
       "model_id": "6643e1bf84d3418bb9376a757b248532",
       "version_major": 2,
       "version_minor": 0
      },
      "text/plain": [
       "Map(center=[37.63046720520512, -119.03021877270292], controls=(ZoomControl(options=['position', 'zoom_in_text'…"
      ]
     },
     "execution_count": 3,
     "metadata": {},
     "output_type": "execute_result"
    }
   ],
   "source": [
    "m = geotask.Map(add_layer_control=False)\n",
    "data = 'https://github.com/opengeos/datasets/releases/download/raster/srtm90.tif'\n",
    "m.add_raster(data, name = 'DEM')\n",
    "m.add_layers_control()\n",
    "m"
   ]
  },
  {
   "cell_type": "code",
   "execution_count": 4,
   "metadata": {},
   "outputs": [
    {
     "data": {
      "application/vnd.jupyter.widget-view+json": {
       "model_id": "a0d4475b9d5444318f5611e0f3c7484a",
       "version_major": 2,
       "version_minor": 0
      },
      "text/plain": [
       "Box(children=(FloatSlider(value=1.0, description='opacity', max=1.0),))"
      ]
     },
     "execution_count": 4,
     "metadata": {},
     "output_type": "execute_result"
    }
   ],
   "source": [
    "m.layers[0].interact(opacity=(0.0,1.0,0.1))"
   ]
  },
  {
   "cell_type": "code",
   "execution_count": 5,
   "metadata": {},
   "outputs": [
    {
     "data": {
      "text/plain": [
       "(TileLayer(attribution='&copy; <a href=\"https://www.openstreetmap.org/copyright\">OpenStreetMap</a> contributors', base=True, max_zoom=19, min_zoom=1, name='OpenStreetMap.Mapnik', options=['attribution', 'bounds', 'detect_retina', 'max_native_zoom', 'max_zoom', 'min_native_zoom', 'min_zoom', 'no_wrap', 'tile_size', 'tms', 'zoom_offset'], url='https://tile.openstreetmap.org/{z}/{x}/{y}.png'),\n",
       " BoundTileLayer(attribution=\"Raster file served by <a href='https://github.com/banesullivan/localtileserver' target='_blank'>localtileserver</a>.\", bounds=((36.63401097629554, -120.75592734926073), (38.6269234341147, -117.30451019614512)), max_native_zoom=30, max_zoom=30, name='DEM', options=['attribution', 'bounds', 'detect_retina', 'max_native_zoom', 'max_zoom', 'min_native_zoom', 'min_zoom', 'no_wrap', 'tile_size', 'tms', 'zoom_offset'], show_loading=True, url='http://localhost:62633/api/tiles/{z}/{x}/{y}.png?&filename=%2Fvsicurl%3Furl%3Dhttps%253A%252F%252Fgithub.com%252Fopengeos%252Fdatasets%252Freleases%252Fdownload%252Fraster%252Fsrtm90.tif%26use_head%3Dno%26list_dir%3Dno&n_colors=255&projection=EPSG%3A3857'))"
      ]
     },
     "execution_count": 5,
     "metadata": {},
     "output_type": "execute_result"
    }
   ],
   "source": [
    "m.layers"
   ]
  }
 ],
 "metadata": {
  "kernelspec": {
   "display_name": "geo",
   "language": "python",
   "name": "python3"
  },
  "language_info": {
   "codemirror_mode": {
    "name": "ipython",
    "version": 3
   },
   "file_extension": ".py",
   "mimetype": "text/x-python",
   "name": "python",
   "nbconvert_exporter": "python",
   "pygments_lexer": "ipython3",
   "version": "3.11.7"
  }
 },
 "nbformat": 4,
 "nbformat_minor": 2
}
