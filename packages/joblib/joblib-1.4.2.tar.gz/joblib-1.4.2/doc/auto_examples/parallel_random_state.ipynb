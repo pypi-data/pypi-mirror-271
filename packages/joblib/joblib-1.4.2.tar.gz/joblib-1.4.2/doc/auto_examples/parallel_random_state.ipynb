{
  "cells": [
    {
      "cell_type": "markdown",
      "metadata": {},
      "source": [
        "\n# Random state within joblib.Parallel\n\nRandomness is affected by parallel execution differently by the different\nbackends.\n\nIn particular, when using multiple processes, the random sequence can be\nthe same in all processes. This example illustrates the problem and shows\nhow to work around it.\n"
      ]
    },
    {
      "cell_type": "code",
      "execution_count": null,
      "metadata": {
        "collapsed": false
      },
      "outputs": [],
      "source": [
        "import numpy as np\nfrom joblib import Parallel, delayed"
      ]
    },
    {
      "cell_type": "markdown",
      "metadata": {},
      "source": [
        "A utility function for the example\n\n"
      ]
    },
    {
      "cell_type": "code",
      "execution_count": null,
      "metadata": {
        "collapsed": false
      },
      "outputs": [],
      "source": [
        "def print_vector(vector, backend):\n    \"\"\"Helper function to print the generated vector with a given backend.\"\"\"\n    print('\\nThe different generated vectors using the {} backend are:\\n {}'\n          .format(backend, np.array(vector)))"
      ]
    },
    {
      "cell_type": "markdown",
      "metadata": {},
      "source": [
        "## Sequential behavior\n\n ``stochastic_function`` will generate five random integers. When\n calling the function several times, we are expecting to obtain\n different vectors. For instance, we will call the function five times\n in a sequential manner, we can check that the generated vectors are all\n different.\n\n"
      ]
    },
    {
      "cell_type": "code",
      "execution_count": null,
      "metadata": {
        "collapsed": false
      },
      "outputs": [],
      "source": [
        "def stochastic_function(max_value):\n    \"\"\"Randomly generate integer up to a maximum value.\"\"\"\n    return np.random.randint(max_value, size=5)\n\n\nn_vectors = 5\nrandom_vector = [stochastic_function(10) for _ in range(n_vectors)]\nprint('\\nThe different generated vectors in a sequential manner are:\\n {}'\n      .format(np.array(random_vector)))"
      ]
    },
    {
      "cell_type": "markdown",
      "metadata": {},
      "source": [
        "## Parallel behavior\n\n Joblib provides three different backends: loky (default), threading, and\n multiprocessing.\n\n"
      ]
    },
    {
      "cell_type": "code",
      "execution_count": null,
      "metadata": {
        "collapsed": false
      },
      "outputs": [],
      "source": [
        "backend = 'loky'\nrandom_vector = Parallel(n_jobs=2, backend=backend)(delayed(\n    stochastic_function)(10) for _ in range(n_vectors))\nprint_vector(random_vector, backend)"
      ]
    },
    {
      "cell_type": "code",
      "execution_count": null,
      "metadata": {
        "collapsed": false
      },
      "outputs": [],
      "source": [
        "backend = 'threading'\nrandom_vector = Parallel(n_jobs=2, backend=backend)(delayed(\n    stochastic_function)(10) for _ in range(n_vectors))\nprint_vector(random_vector, backend)"
      ]
    },
    {
      "cell_type": "markdown",
      "metadata": {},
      "source": [
        "Loky and the threading backends behave exactly as in the sequential case and\ndo not require more care. However, this is not the case regarding the\nmultiprocessing backend with the \"fork\" or \"forkserver\" start method because\nthe state of the global numpy random stated will be exactly duplicated\nin all the workers\n\nNote: on platforms for which the default start method is \"spawn\", we do not\nhave this problem but we cannot use this in a Python script without\nusing the if __name__ == \"__main__\" construct. So let's end this example\nearly if that's the case:\n\n"
      ]
    },
    {
      "cell_type": "code",
      "execution_count": null,
      "metadata": {
        "collapsed": false
      },
      "outputs": [],
      "source": [
        "import multiprocessing as mp\nif mp.get_start_method() != \"spawn\":\n    backend = 'multiprocessing'\n    random_vector = Parallel(n_jobs=2, backend=backend)(delayed(\n        stochastic_function)(10) for _ in range(n_vectors))\n    print_vector(random_vector, backend)"
      ]
    },
    {
      "cell_type": "markdown",
      "metadata": {},
      "source": [
        "Some of the generated vectors are exactly the same, which can be a\nproblem for the application.\n\nTechnically, the reason is that all forked Python processes share the\nsame exact random seed. As a result, we obtain twice the same randomly\ngenerated vectors because we are using ``n_jobs=2``. A solution is to\nset the random state within the function which is passed to\n:class:`joblib.Parallel`.\n\n"
      ]
    },
    {
      "cell_type": "code",
      "execution_count": null,
      "metadata": {
        "collapsed": false
      },
      "outputs": [],
      "source": [
        "def stochastic_function_seeded(max_value, random_state):\n    rng = np.random.RandomState(random_state)\n    return rng.randint(max_value, size=5)"
      ]
    },
    {
      "cell_type": "markdown",
      "metadata": {},
      "source": [
        "``stochastic_function_seeded`` accepts as argument a random seed. We can\nreset this seed by passing ``None`` at every function call. In this case, we\nsee that the generated vectors are all different.\n\n"
      ]
    },
    {
      "cell_type": "code",
      "execution_count": null,
      "metadata": {
        "collapsed": false
      },
      "outputs": [],
      "source": [
        "if mp.get_start_method() != \"spawn\":\n    random_vector = Parallel(n_jobs=2, backend=backend)(delayed(\n        stochastic_function_seeded)(10, None) for _ in range(n_vectors))\n    print_vector(random_vector, backend)"
      ]
    },
    {
      "cell_type": "markdown",
      "metadata": {},
      "source": [
        "## Fixing the random state to obtain deterministic results\n\n The pattern of ``stochastic_function_seeded`` has another advantage: it\n allows to control the random_state by passing a known seed. For best results\n [1]_, the random state is initialized by a sequence based on a root seed and\n a job identifier. So for instance, we can replicate the same generation of\n vectors by passing a fixed state as follows.\n\n .. [1]  https://numpy.org/doc/stable/reference/random/parallel.html\n\n"
      ]
    },
    {
      "cell_type": "code",
      "execution_count": null,
      "metadata": {
        "collapsed": false
      },
      "outputs": [],
      "source": [
        "if mp.get_start_method() != \"spawn\":\n    seed = 42\n    random_vector = Parallel(n_jobs=2, backend=backend)(delayed(\n        stochastic_function_seeded)(10, [i, seed]) for i in range(n_vectors))\n    print_vector(random_vector, backend)\n\n    random_vector = Parallel(n_jobs=2, backend=backend)(delayed(\n        stochastic_function_seeded)(10, [i, seed]) for i in range(n_vectors))\n    print_vector(random_vector, backend)"
      ]
    }
  ],
  "metadata": {
    "kernelspec": {
      "display_name": "Python 3",
      "language": "python",
      "name": "python3"
    },
    "language_info": {
      "codemirror_mode": {
        "name": "ipython",
        "version": 3
      },
      "file_extension": ".py",
      "mimetype": "text/x-python",
      "name": "python",
      "nbconvert_exporter": "python",
      "pygments_lexer": "ipython3",
      "version": "3.10.9"
    }
  },
  "nbformat": 4,
  "nbformat_minor": 0
}