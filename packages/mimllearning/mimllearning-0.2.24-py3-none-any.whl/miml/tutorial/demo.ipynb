{
  "nbformat": 4,
  "nbformat_minor": 0,
  "metadata": {
    "colab": {
      "provenance": []
    },
    "kernelspec": {
      "name": "python3",
      "display_name": "Python 3"
    },
    "language_info": {
      "name": "python"
    }
  },
  "cells": [
    {
      "cell_type": "markdown",
      "source": [
        "#Installation and requirements of library\n"
      ],
      "metadata": {
        "id": "UwOvUSvR-8Sm"
      }
    },
    {
      "cell_type": "code",
      "source": [
        "!pip install mimllearning\n",
        "!pip install mil\n",
        "!pip install tensorflow\n",
        "!pip install keras==2.12.0"
      ],
      "metadata": {
        "id": "jZMmibMJcRf2"
      },
      "execution_count": null,
      "outputs": []
    },
    {
      "cell_type": "markdown",
      "source": [
        "# Download of datasets"
      ],
      "metadata": {
        "id": "l1cCIhXu_Jzx"
      }
    },
    {
      "cell_type": "code",
      "source": [
        "!pip install wget\n",
        "import wget\n",
        "\n",
        "download = 'https://drive.google.com/uc?export=download&confirm=9_s_&id='\n",
        "\n",
        "toy = '1WDnCfmX20-Oyc7wowTqh6Xvl_tTgok-Z'\n",
        "miml_birds = '1FVf-cJQxNBQnKss1GMuLcDmQtD0qoRJ5'\n",
        "miml_birds_train = '1BCt6Ohz3x3tFYfrjFfvlNV0sovkEmLn8'\n",
        "miml_birds_test = '108SLl5pog-V1nkhAgJxp2aFmVJVl4azP'\n",
        "\n",
        "URL= download + miml_birds_train\n",
        "wget.download(URL,\"miml_birds_train.arff\")\n",
        "URL= download + miml_birds_test\n",
        "wget.download(URL, \"miml_birds_test.arff\")"
      ],
      "metadata": {
        "id": "BUorgIV2_Qoq"
      },
      "execution_count": null,
      "outputs": []
    },
    {
      "cell_type": "markdown",
      "source": [
        "# Loading of datasets"
      ],
      "metadata": {
        "id": "AYTbl78HBtuZ"
      }
    },
    {
      "cell_type": "code",
      "execution_count": 4,
      "metadata": {
        "id": "L-_qkpnOxj_V"
      },
      "outputs": [],
      "source": [
        "from miml.data.load_datasets import load_dataset\n",
        "\n",
        "dataset_train = load_dataset(\"miml_birds_train.arff\", delimiter=\"'\")\n",
        "dataset_test = load_dataset(\"miml_birds_test.arff\", delimiter=\"'\")"
      ]
    },
    {
      "cell_type": "markdown",
      "source": [
        "# MIMLtoML Classifier"
      ],
      "metadata": {
        "id": "Rf5EX0HXEtZA"
      }
    },
    {
      "cell_type": "code",
      "source": [
        "from sklearn.neighbors import KNeighborsClassifier\n",
        "\n",
        "from miml.transformation import ArithmeticTransformation\n",
        "from miml.classifier import MIMLtoMLClassifier\n",
        "\n",
        "classifier_ml = MIMLtoMLClassifier(KNeighborsClassifier(), ArithmeticTransformation())\n",
        "classifier_ml.fit(dataset_train)\n",
        "print(\"Predicted Labels: \", classifier_ml.predict_bag(dataset_test.get_bag(\"366\")))\n",
        "print(\"True Labels:       \", dataset_test.get_bag(\"366\").get_labels()[0])\n",
        "classifier_ml.evaluate(dataset_test)"
      ],
      "metadata": {
        "colab": {
          "base_uri": "https://localhost:8080/"
        },
        "id": "c1OvYWW9Eyhw",
        "outputId": "ec0e44f1-bf10-4eb3-8bde-d5a6e8958587"
      },
      "execution_count": 12,
      "outputs": [
        {
          "output_type": "stream",
          "name": "stdout",
          "text": [
            "Predicted Labels:  [[0. 0. 0. 0. 0. 0. 0. 0. 0. 0. 1. 0. 0. 0. 0. 0. 0. 0. 0.]]\n",
            "True Labels:        [0. 0. 0. 0. 0. 0. 0. 0. 0. 1. 0. 0. 0. 1. 0. 0. 0. 0. 0.]\n",
            "              precision    recall  f1-score   support\n",
            "\n",
            "           0       0.00      0.00      0.00         3\n",
            "           1       0.22      0.12      0.16        16\n",
            "           2       0.17      0.25      0.20         4\n",
            "           3       0.00      0.00      0.00         0\n",
            "           4       0.00      0.00      0.00         2\n",
            "           5       0.00      0.00      0.00         0\n",
            "           6       0.00      0.00      0.00         5\n",
            "           7       0.00      0.00      0.00         7\n",
            "           8       0.40      0.20      0.27        10\n",
            "           9       1.00      0.10      0.18        10\n",
            "          10       0.25      0.12      0.16        17\n",
            "          11       0.00      0.00      0.00         3\n",
            "          12       0.00      0.00      0.00         3\n",
            "          13       0.00      0.00      0.00         3\n",
            "          14       1.00      0.14      0.25         7\n",
            "          15       0.00      0.00      0.00         3\n",
            "          16       0.00      0.00      0.00         1\n",
            "          17       0.00      0.00      0.00         3\n",
            "          18       0.00      0.00      0.00         3\n",
            "\n",
            "   micro avg       0.26      0.09      0.13       100\n",
            "   macro avg       0.16      0.05      0.06       100\n",
            "weighted avg       0.29      0.09      0.12       100\n",
            " samples avg       0.14      0.11      0.12       100\n",
            "\n",
            "Hamming Loss:  0.11740890688259109\n"
          ]
        }
      ]
    },
    {
      "cell_type": "markdown",
      "source": [
        "# MIMLtoMI Classifier\n"
      ],
      "metadata": {
        "id": "KCupyHfc9c0F"
      }
    },
    {
      "cell_type": "code",
      "source": [
        "from miml.classifier import MIMLtoMIBRClassifier, AllPositiveAPRClassifier\n",
        "\n",
        "classifier_mi = MIMLtoMIBRClassifier(AllPositiveAPRClassifier())\n",
        "classifier_mi.fit(dataset_train)\n",
        "print(\"Predicted Labels: \", classifier_mi.predict_bag(dataset_test.get_bag(\"366\")))\n",
        "print(\"True Labels:      \", dataset_test.get_bag(\"366\").get_labels()[0])\n",
        "classifier_mi.evaluate(dataset_test)"
      ],
      "metadata": {
        "colab": {
          "base_uri": "https://localhost:8080/"
        },
        "outputId": "dd30333a-ace4-4dd8-d50b-db3cc43aa7bb",
        "id": "J7CxjYzK9jdX"
      },
      "execution_count": 15,
      "outputs": [
        {
          "output_type": "stream",
          "name": "stdout",
          "text": [
            "Predicted Labels:  [0. 0. 0. 0. 0. 0. 0. 0. 0. 1. 1. 0. 0. 0. 0. 0. 0. 0. 0.]\n",
            "True Labels:       [0. 0. 0. 0. 0. 0. 0. 0. 0. 1. 0. 0. 0. 1. 0. 0. 0. 0. 0.]\n",
            "              precision    recall  f1-score   support\n",
            "\n",
            "           0       0.00      0.00      0.00         3\n",
            "           1       0.40      0.50      0.44        16\n",
            "           2       0.08      0.25      0.12         4\n",
            "           3       0.00      0.00      0.00         0\n",
            "           4       0.14      0.50      0.22         2\n",
            "           5       0.00      0.00      0.00         0\n",
            "           6       0.13      0.40      0.20         5\n",
            "           7       0.22      0.29      0.25         7\n",
            "           8       0.28      0.50      0.36        10\n",
            "           9       0.21      0.40      0.28        10\n",
            "          10       0.30      0.53      0.38        17\n",
            "          11       0.00      0.00      0.00         3\n",
            "          12       0.22      0.67      0.33         3\n",
            "          13       0.00      0.00      0.00         3\n",
            "          14       0.16      0.43      0.23         7\n",
            "          15       0.00      0.00      0.00         3\n",
            "          16       0.00      0.00      0.00         1\n",
            "          17       0.00      0.00      0.00         3\n",
            "          18       0.33      0.33      0.33         3\n",
            "\n",
            "   micro avg       0.22      0.38      0.28       100\n",
            "   macro avg       0.13      0.25      0.17       100\n",
            "weighted avg       0.22      0.38      0.27       100\n",
            " samples avg       0.21      0.41      0.23       100\n",
            "\n",
            "Hamming Loss:  0.19534412955465588\n"
          ]
        }
      ]
    }
  ]
}
