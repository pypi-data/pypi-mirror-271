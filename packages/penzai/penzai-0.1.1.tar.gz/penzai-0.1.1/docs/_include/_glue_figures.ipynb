{
  "cells": [
    {
      "cell_type": "markdown",
      "metadata": {
        "id": "U-H7UFgefil7"
      },
      "source": [
        "Orphaned notebook with values to \"glue\" using [myst-nb](https://myst-nb.readthedocs.io/en/v0.13.2/use/glue.html)."
      ]
    },
    {
      "cell_type": "code",
      "execution_count": null,
      "metadata": {
        "id": "DV6iivgofil7"
      },
      "outputs": [],
      "source": [
        "import os\n",
        "\n",
        "import myst_nb\n",
        "\n",
        "import penzai\n",
        "from penzai import pz\n",
        "\n",
        "import jax\n",
        "import jax.numpy as jnp\n",
        "import orbax.checkpoint\n",
        "from jax.experimental import mesh_utils\n",
        "\n",
        "import IPython.utils.capture"
      ]
    },
    {
      "cell_type": "code",
      "execution_count": null,
      "metadata": {
        "id": "SC7skl-Jfil7"
      },
      "outputs": [],
      "source": [
        "pz.ts.register_as_default(streaming=False)\n",
        "pz.ts.register_autovisualize_magic()\n",
        "pz.enable_interactive_context()"
      ]
    },
    {
      "cell_type": "code",
      "execution_count": null,
      "metadata": {
        "id": "sLdmWwqnm_lf"
      },
      "outputs": [],
      "source": [
        "from penzai.example_models import gemma"
      ]
    },
    {
      "cell_type": "code",
      "execution_count": null,
      "metadata": {
        "id": "8HGWUESe31dZ"
      },
      "outputs": [],
      "source": [
        "try:\n",
        "  import kagglehub\n",
        "  if jax.devices()[0].platform == \"tpu\":\n",
        "    load_gemma = True\n",
        "  else:\n",
        "    load_gemma = False\n",
        "  load_gemma = True\n",
        "except ImportError:\n",
        "  kagglehub = None\n",
        "  load_gemma = False"
      ]
    },
    {
      "cell_type": "code",
      "execution_count": null,
      "metadata": {
        "id": "Bn6Xwlk3xlr5"
      },
      "outputs": [],
      "source": [
        "if load_gemma:\n",
        "  weights_dir = kagglehub.model_download('google/gemma/Flax/2b')\n",
        "  ckpt_path = os.path.join(weights_dir, '2b')\n",
        "\n",
        "  checkpointer = orbax.checkpoint.PyTreeCheckpointer()\n",
        "  metadata = checkpointer.metadata(ckpt_path)\n",
        "\n",
        "  n_devices = jax.local_device_count()\n",
        "  sharding_devices = mesh_utils.create_device_mesh((n_devices,))\n",
        "  sharding = jax.sharding.PositionalSharding(sharding_devices)\n",
        "  restore_args = jax.tree_util.tree_map(\n",
        "      lambda m: orbax.checkpoint.ArrayRestoreArgs(\n",
        "          restore_type=jax.Array,\n",
        "          sharding=sharding.reshape((1,) * (len(m.shape) - 1) + (n_devices,))\n",
        "      ),\n",
        "      metadata,\n",
        "  )\n",
        "  flat_params = checkpointer.restore(ckpt_path, restore_args=restore_args)\n",
        "\n",
        "  model = gemma.model_core.GemmaTransformer.from_pretrained(\n",
        "      flat_params, upcast_activations_to_float32=False\n",
        "  )\n",
        "\n",
        "else:\n",
        "  model = pz.nn.initialize_parameters(\n",
        "      gemma.model_core.GemmaTransformer.from_config(\n",
        "          gemma.model_core.GemmaTransformerConfig(\n",
        "              num_heads=8,\n",
        "              embedding_dim=256,\n",
        "              projection_dim=32,\n",
        "              single_kv_head=False,\n",
        "              mlp_hidden_dim=512,\n",
        "              num_decoder_blocks=10,\n",
        "              vocab_size=1000,\n",
        "              parameter_dtype=jnp.float32,\n",
        "              activation_dtype=jnp.float32,\n",
        "          )\n",
        "      ),\n",
        "      jax.random.key(1),\n",
        "  )"
      ]
    },
    {
      "cell_type": "code",
      "execution_count": null,
      "metadata": {
        "id": "7LEmKpqJa-Gc"
      },
      "outputs": [],
      "source": [
        "%%autovisualize\n",
        "\n",
        "with IPython.utils.capture.capture_output() as capturer:\n",
        "  pz.select(model).at(lambda root: (\n",
        "      root.body.body.body.sublayers[2].sublayers[0].delta.sublayers[1].input_to_query,\n",
        "      root.body.body.body.sublayers[2].sublayers[1].delta.sublayers[1],\n",
        "  )).show_value()"
      ]
    },
    {
      "cell_type": "code",
      "execution_count": null,
      "metadata": {
        "id": "JS8KF1Nbm_lf"
      },
      "outputs": [],
      "source": [
        "myst_nb.glue(\n",
        "    \"penzai_teaser\",\n",
        "    IPython.display.HTML(\n",
        "        \"\".join(output.data['text/html'] for output in capturer.outputs)\n",
        "    ),\n",
        ")"
      ]
    }
  ],
  "metadata": {
    "kernelspec": {
      "display_name": "Python 3",
      "name": "python3"
    },
    "language_info": {
      "name": "python"
    },
    "mystnb": {
      "execution_mode": "force"
    }
  },
  "nbformat": 4,
  "nbformat_minor": 0
}
