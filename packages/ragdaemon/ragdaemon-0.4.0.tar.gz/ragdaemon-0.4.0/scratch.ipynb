{
 "cells": [
  {
   "cell_type": "code",
   "execution_count": 1,
   "metadata": {},
   "outputs": [
    {
     "name": "stdout",
     "output_type": "stream",
     "text": [
      "Initialized empty graph.\n",
      "Initializing annotators: ['hierarchy', 'chunker_llm', 'summarizer']...\n"
     ]
    },
    {
     "name": "stderr",
     "output_type": "stream",
     "text": [
      "Chunking files...: 100%|██████████| 4/4 [00:06<00:00,  1.73s/it]\n",
      "Summarizing code...: 100%|██████████| 17/17 [00:24<00:00,  1.44s/it]"
     ]
    },
    {
     "name": "stdout",
     "output_type": "stream",
     "text": [
      "Saved updated graph to /Users/granthawkins/.mentat/ragdaemon/ragdaemon-sample.json\n"
     ]
    },
    {
     "name": "stderr",
     "output_type": "stream",
     "text": [
      "\n"
     ]
    }
   ],
   "source": [
    "from pathlib import Path\n",
    "from ragdaemon.daemon import Daemon\n",
    "\n",
    "annotators = {\n",
    "    \"hierarchy\": {},\n",
    "    \"chunker_llm\": {},\n",
    "    \"summarizer\": {},\n",
    "}\n",
    "\n",
    "sample_dir = Path.cwd() / \"tests\" / \"sample\"\n",
    "daemon = Daemon(sample_dir, annotators=annotators, verbose=True)\n",
    "await daemon.update(refresh=True)"
   ]
  },
  {
   "cell_type": "code",
   "execution_count": 6,
   "metadata": {},
   "outputs": [
    {
     "name": "stdout",
     "output_type": "stream",
     "text": [
      "Error chunking test_filewriter.py batch 3/3:\n",
      "Last chunk replacement (test_filewriter.py:TestWriteFileMetaInfoToStandard.test_filelike_position) not found in response.\n",
      "1 retries left.\n"
     ]
    }
   ],
   "source": [
    "huge_file = Path.home() / \"pydicom\" / \"pydicom\" / \"tests\" / \"test_filewriter.py\"\n",
    "with open(huge_file, \"r\") as f:\n",
    "    text = f.read()\n",
    "document = f\"{huge_file.name}\\n{text}\"\n",
    "\n",
    "chunker_llm = daemon.pipeline[\"chunker_llm\"]\n",
    "chunks = await chunker_llm.chunk_document(document)"
   ]
  },
  {
   "cell_type": "code",
   "execution_count": 7,
   "metadata": {},
   "outputs": [
    {
     "data": {
      "text/plain": [
       "142"
      ]
     },
     "execution_count": 7,
     "metadata": {},
     "output_type": "execute_result"
    }
   ],
   "source": [
    "len(chunks)"
   ]
  },
  {
   "cell_type": "code",
   "execution_count": 9,
   "metadata": {},
   "outputs": [
    {
     "name": "stdout",
     "output_type": "stream",
     "text": [
      "test_filewriter.py:BASE\n",
      "test_filewriter.py:files_identical\n",
      "test_filewriter.py:bytes_identical\n",
      "test_filewriter.py:TestWriteFile\n",
      "test_filewriter.py:TestWriteFile.setup\n",
      "test_filewriter.py:TestWriteFile.teardown\n",
      "test_filewriter.py:TestWriteFile.compare\n",
      "test_filewriter.py:TestWriteFile.compare_bytes\n",
      "test_filewriter.py:TestWriteFile.testRTPlan\n",
      "test_filewriter.py:TestWriteFile.testRTDose\n",
      "test_filewriter.py:TestWriteFile.testCT\n",
      "test_filewriter.py:TestWriteFile.testMR\n",
      "test_filewriter.py:TestWriteFile.testUnicode\n",
      "test_filewriter.py:TestWriteFile.testMultiPN\n",
      "test_filewriter.py:TestWriteFile.testJPEG2000\n",
      "test_filewriter.py:TestWriteFile.testListItemWriteBack\n",
      "test_filewriter.py:TestWriteFile.testwrite_short_uid\n",
      "test_filewriter.py:TestWriteFile.test_write_no_ts\n",
      "test_filewriter.py:TestWriteFile.test_write_double_filemeta\n",
      "test_filewriter.py:TestWriteFile.test_write_ffff_ffff\n",
      "test_filewriter.py:TestWriteFile.test_write_removes_grouplength\n",
      "test_filewriter.py:TestScratchWriteDateTime\n",
      "test_filewriter.py:TestScratchWriteDateTime.setup\n",
      "test_filewriter.py:TestScratchWriteDateTime.teardown\n",
      "test_filewriter.py:TestScratchWriteDateTime.test_multivalue_DA\n",
      "test_filewriter.py:TestWriteDataElement\n",
      "test_filewriter.py:TestWriteDataElement.setup\n",
      "test_filewriter.py:TestWriteDataElement.encode_element\n",
      "test_filewriter.py:TestWriteDataElement.test_empty_AT\n",
      "test_filewriter.py:TestWriteDataElement.check_data_element\n",
      "test_filewriter.py:TestWriteDataElement.test_write_empty_LO\n",
      "test_filewriter.py:TestWriteDataElement.test_write_DA\n",
      "test_filewriter.py:TestWriteDataElement.test_write_multi_DA\n",
      "test_filewriter.py:TestWriteDataElement.test_write_TM\n",
      "test_filewriter.py:TestWriteDataElement.test_write_multi_TM\n",
      "test_filewriter.py:TestWriteDataElement.test_write_DT\n",
      "test_filewriter.py:TestWriteDataElement.test_write_multi_DT\n",
      "test_filewriter.py:TestWriteDataElement.test_write_ascii_vr_with_padding\n",
      "test_filewriter.py:TestWriteDataElement.test_write_OD_implicit_little\n",
      "test_filewriter.py:TestWriteDataElement.test_write_OD_explicit_little\n",
      "test_filewriter.py:TestWriteDataElement.test_write_OL_implicit_little\n",
      "test_filewriter.py:TestWriteDataElement.test_write_OL_explicit_little\n",
      "test_filewriter.py:TestWriteDataElement.test_write_UC_implicit_little\n",
      "test_filewriter.py:TestWriteDataElement.test_write_UC_explicit_little\n",
      "test_filewriter.py:TestWriteDataElement.test_write_UR_implicit_little\n",
      "test_filewriter.py:TestWriteDataElement.test_write_UR_explicit_little\n",
      "test_filewriter.py:TestWriteDataElement.test_write_UN_implicit_little\n",
      "test_filewriter.py:TestWriteDataElement.test_write_unknown_vr_raises\n",
      "test_filewriter.py:TestCorrectAmbiguousVR\n",
      "test_filewriter.py:TestCorrectAmbiguousVR.test_pixel_representation_vm_one\n",
      "test_filewriter.py:TestCorrectAmbiguousVR.test_pixel_representation_vm_three\n",
      "test_filewriter.py:TestCorrectAmbiguousVR.test_pixel_data\n",
      "test_filewriter.py:TestCorrectAmbiguousVR.test_waveform_bits_allocated\n",
      "test_filewriter.py:TestCorrectAmbiguousVR.test_lut_descriptor\n",
      "test_filewriter.py:TestCorrectAmbiguousVR.test_overlay\n",
      "test_filewriter.py:TestCorrectAmbiguousVR.test_sequence\n",
      "test_filewriter.py:TestCorrectAmbiguousVR.test_write_new_ambiguous\n",
      "test_filewriter.py:TestCorrectAmbiguousVR.test_ambiguous_element_in_sequence_explicit\n",
      "test_filewriter.py:TestCorrectAmbiguousVR.test_ambiguous_element_in_sequence_implicit\n",
      "test_filewriter.py:TestCorrectAmbiguousVRElement\n",
      "test_filewriter.py:TestCorrectAmbiguousVRElement.test_not_ambiguous\n",
      "test_filewriter.py:TestCorrectAmbiguousVRElement.test_not_ambiguous_raw_data_element\n",
      "test_filewriter.py:TestCorrectAmbiguousVRElement.test_correct_ambiguous_data_element\n",
      "test_filewriter.py:TestCorrectAmbiguousVRElement.test_correct_ambiguous_raw_data_element\n",
      "test_filewriter.py:TestWriteAmbiguousVR\n",
      "test_filewriter.py:TestWriteAmbiguousVR.setup\n",
      "test_filewriter.py:TestWriteAmbiguousVR.test_write_explicit_vr_raises\n",
      "test_filewriter.py:TestWriteAmbiguousVR.test_write_explicit_vr_little_endian\n",
      "test_filewriter.py:TestWriteAmbiguousVR.test_write_explicit_vr_big_endian\n",
      "test_filewriter.py:TestScratchWrite\n",
      "test_filewriter.py:TestScratchWrite.setup\n",
      "test_filewriter.py:TestScratchWrite.compare_write\n",
      "test_filewriter.py:TestScratchWrite.testImpl_LE_deflen_write\n",
      "test_filewriter.py:TestWriteToStandard\n",
      "test_filewriter.py:TestWriteToStandard.test_preamble_default\n",
      "test_filewriter.py:TestWriteToStandard.test_preamble_custom\n",
      "test_filewriter.py:TestWriteToStandard.test_no_preamble\n",
      "test_filewriter.py:TestWriteToStandard.test_none_preamble\n",
      "test_filewriter.py:TestWriteToStandard.test_bad_preamble\n",
      "test_filewriter.py:TestWriteToStandard.test_prefix\n",
      "test_filewriter.py:TestWriteToStandard.test_prefix_none\n",
      "test_filewriter.py:TestWriteToStandard.test_ds_changed\n",
      "test_filewriter.py:TestWriteToStandard.test_raw_elements_preserved_implicit_vr\n",
      "test_filewriter.py:TestWriteToStandard.test_raw_elements_preserved_explicit_vr\n",
      "test_filewriter.py:TestWriteToStandard.test_convert_implicit_to_explicit_vr\n",
      "test_filewriter.py:TestWriteToStandard.test_write_dataset\n",
      "test_filewriter.py:TestWriteToStandard.test_write_dataset_with_explicit_vr\n",
      "test_filewriter.py:TestWriteToStandard.test_convert_implicit_to_explicit_vr_using_destination\n",
      "test_filewriter.py:TestWriteToStandard.test_convert_explicit_to_implicit_vr\n",
      "test_filewriter.py:TestWriteToStandard.test_convert_big_to_little_endian\n",
      "test_filewriter.py:TestWriteToStandard.test_convert_little_to_big_endian\n",
      "test_filewriter.py:TestWriteToStandard.test_changed_character_set\n",
      "test_filewriter.py:TestWriteToStandard.test_transfer_syntax_added\n",
      "test_filewriter.py:TestWriteToStandard.test_private_tag_vr_from_implicit_data\n",
      "test_filewriter.py:TestWriteToStandard.test_convert_rgb_from_implicit_to_explicit_vr\n",
      "test_filewriter.py:TestWriteToStandard.test_transfer_syntax_not_added\n",
      "test_filewriter.py:TestWriteToStandard.test_transfer_syntax_raises\n",
      "test_filewriter.py:TestWriteToStandard.test_media_storage_sop_class_uid_added\n",
      "test_filewriter.py:TestWriteToStandard.test_write_no_file_meta\n",
      "test_filewriter.py:TestWriteToStandard.test_raise_no_file_meta\n",
      "test_filewriter.py:TestWriteToStandard.test_add_file_meta\n",
      "test_filewriter.py:TestWriteToStandard.test_standard\n",
      "test_filewriter.py:TestWriteToStandard.test_commandset_no_written\n",
      "test_filewriter.py:TestWriteFileMetaInfoToStandard\n",
      "test_filewriter.py:TestWriteFileMetaInfoToStandard.test_bad_elements\n",
      "test_filewriter.py:TestWriteFileMetaInfoToStandard.test_missing_elements\n",
      "test_filewriter.py:TestWriteFileMetaInfoToStandard.test_group_length\n",
      "test_filewriter.py:TestWriteFileMetaInfoToStandard.test_group_length_updated\n",
      "test_filewriter.py:TestWriteFileMetaInfoToStandard.test_version\n",
      "test_filewriter.py:TestWriteFileMetaInfoToStandard.test_implementation_version_name_length\n",
      "test_filewriter.py:TestWriteFileMetaInfoToStandard.test_implementation_class_uid_length\n",
      "test_filewriter.py:TestWriteFileMetaInfoToStandard.test_filelike_position\n",
      "test_filewriter.py:TestWriteFileMetaInfoToStandard.test_meta_unchanged\n",
      "test_filewriter.py:TestWriteNumbers\n",
      "test_filewriter.py:TestWriteNumbers.test_write_empty_value\n",
      "test_filewriter.py:TestWriteNumbers.test_write_list\n",
      "test_filewriter.py:TestWriteNumbers.test_write_singleton\n",
      "test_filewriter.py:TestWriteNumbers.test_exception\n",
      "test_filewriter.py:TestWriteNumbers.test_write_big_endian\n",
      "test_filewriter.py:TestWritePN\n",
      "test_filewriter.py:TestWritePN.test_no_encoding\n",
      "test_filewriter.py:TestWritePN.test_single_byte_multi_charset_groups\n",
      "test_filewriter.py:TestWritePN.test_single_byte_multi_charset_values\n",
      "test_filewriter.py:TestWriteText\n",
      "test_filewriter.py:TestWriteText.teardown\n",
      "test_filewriter.py:TestWriteText.test_no_encoding\n",
      "test_filewriter.py:TestWriteText.test_single_byte_multi_charset_text\n",
      "test_filewriter.py:TestWriteText.test_encode_mixed_charsets_text\n",
      "test_filewriter.py:TestWriteText.test_single_byte_multi_charset_text_multivalue\n",
      "test_filewriter.py:TestWriteText.test_invalid_encoding\n",
      "test_filewriter.py:TestWriteText.test_invalid_encoding_enforce_standard\n",
      "test_filewriter.py:TestWriteText.test_single_value_with_delimiters\n",
      "test_filewriter.py:TestWriteDT\n",
      "test_filewriter.py:TestWriteDT.test_format_dt\n",
      "test_filewriter.py:TestWriteUndefinedLengthPixelData\n",
      "test_filewriter.py:TestWriteUndefinedLengthPixelData.setup\n",
      "test_filewriter.py:TestWriteUndefinedLengthPixelData.test_little_endian_correct_data\n",
      "test_filewriter.py:TestWriteUndefinedLengthPixelData.test_big_endian_correct_data\n",
      "test_filewriter.py:TestWriteUndefinedLengthPixelData.test_little_endian_incorrect_data\n",
      "test_filewriter.py:TestWriteUndefinedLengthPixelData.test_big_endian_incorrect_data\n",
      "test_filewriter.py:TestWriteUndefinedLengthPixelData.test_writing_to_gzip\n",
      "test_filewriter.py:TestWriteUndefinedLengthPixelData.test_writing_too_big_data_in_explicit_encoding\n"
     ]
    }
   ],
   "source": [
    "for chunk in chunks:\n",
    "    print(chunk[\"id\"])"
   ]
  },
  {
   "cell_type": "code",
   "execution_count": null,
   "metadata": {},
   "outputs": [],
   "source": []
  }
 ],
 "metadata": {
  "kernelspec": {
   "display_name": ".venv",
   "language": "python",
   "name": "python3"
  },
  "language_info": {
   "codemirror_mode": {
    "name": "ipython",
    "version": 3
   },
   "file_extension": ".py",
   "mimetype": "text/x-python",
   "name": "python",
   "nbconvert_exporter": "python",
   "pygments_lexer": "ipython3",
   "version": "3.11.7"
  }
 },
 "nbformat": 4,
 "nbformat_minor": 2
}
