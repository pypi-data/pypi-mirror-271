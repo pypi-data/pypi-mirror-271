{
 "cells": [
  {
   "cell_type": "code",
   "execution_count": 6,
   "metadata": {},
   "outputs": [
    {
     "name": "stdout",
     "output_type": "stream",
     "text": [
      "Initialized empty graph.\n",
      "Initializing annotators: ['hierarchy', 'chunker_llm', 'call_graph']...\n",
      "No Chroma HTTP client environment variables found. Defaulting to PersistentClient.\n"
     ]
    },
    {
     "name": "stderr",
     "output_type": "stream",
     "text": [
      "Chunking files...: 100%|██████████| 52/52 [00:42<00:00,  1.22it/s]\n",
      "Generating call graph:  37%|███▋      | 19/52 [00:01<00:02, 14.53it/s]"
     ]
    },
    {
     "name": "stdout",
     "output_type": "stream",
     "text": [
      "Unresolved calls in ragdaemon/database/database.py: {'ragdaemon/graph.py:KnowledgeGraph.nodes'}\n"
     ]
    },
    {
     "name": "stderr",
     "output_type": "stream",
     "text": [
      "Generating call graph:  46%|████▌     | 24/52 [00:02<00:02, 10.89it/s]"
     ]
    },
    {
     "name": "stdout",
     "output_type": "stream",
     "text": [
      "Unresolved calls in tests/test_database.py: {'ragdaemon/database.py:get_db'}\n",
      "Unresolved calls in tests/conftest.py: {'ragdaemon/database.py:get_db'}\n"
     ]
    },
    {
     "name": "stderr",
     "output_type": "stream",
     "text": [
      "Generating call graph:  50%|█████     | 26/52 [00:03<00:05,  4.47it/s]"
     ]
    },
    {
     "name": "stdout",
     "output_type": "stream",
     "text": [
      "Unresolved calls in ragdaemon/static/js/three/node.js: {'ragdaemon/static/js/three/scene.js:add'}\n"
     ]
    },
    {
     "name": "stderr",
     "output_type": "stream",
     "text": [
      "Generating call graph:  58%|█████▊    | 30/52 [00:04<00:04,  4.71it/s]"
     ]
    },
    {
     "name": "stdout",
     "output_type": "stream",
     "text": [
      "Unresolved calls in ragdaemon/database/chroma_database.py: {'ragdaemon/__init__.py:__version__', 'chromadb.config:Settings'}\n"
     ]
    },
    {
     "name": "stderr",
     "output_type": "stream",
     "text": [
      "Generating call graph:  60%|█████▉    | 31/52 [00:04<00:05,  3.85it/s]"
     ]
    },
    {
     "name": "stdout",
     "output_type": "stream",
     "text": [
      "Unresolved calls in ragdaemon/annotators/summarizer.py: {'ragdaemon/graph.py:KnowledgeGraph.nodes', 'ragdaemon/database.py:Database.update', 'ragdaemon/database.py:Database.get'}\n"
     ]
    },
    {
     "name": "stderr",
     "output_type": "stream",
     "text": [
      "Generating call graph:  62%|██████▏   | 32/52 [00:05<00:05,  3.42it/s]"
     ]
    },
    {
     "name": "stdout",
     "output_type": "stream",
     "text": [
      "Unresolved calls in tests/annotators/test_summarizer.py: {'ragdaemon/annotators.py:Summarizer.annotate'}\n",
      "Unresolved calls in tests/annotators/test_chunker.py: {'ragdaemon/annotators.py:ChunkerLLM.annotate', 'ragdaemon/graph.py:KnowledgeGraph.__init__', 'ragdaemon/annotators.py:Chunker.is_complete'}\n"
     ]
    },
    {
     "name": "stderr",
     "output_type": "stream",
     "text": [
      "Generating call graph:  65%|██████▌   | 34/52 [00:05<00:04,  3.93it/s]"
     ]
    },
    {
     "name": "stdout",
     "output_type": "stream",
     "text": [
      "Unresolved calls in ragdaemon/utils.py: {'spice/Spice.count_tokens', 'spice/spice.py:get_model_from_name'}\n"
     ]
    },
    {
     "name": "stderr",
     "output_type": "stream",
     "text": [
      "Generating call graph:  67%|██████▋   | 35/52 [00:06<00:05,  3.33it/s]"
     ]
    },
    {
     "name": "stdout",
     "output_type": "stream",
     "text": [
      "Unresolved calls in ragdaemon/database/__init__.py: {'ragdaemon/utils.py:mentat_dir_path', 'ragdaemon/database/chroma_database.py:ChromaDB.add', 'ragdaemon/database/chroma_database.py:ChromaDB.delete'}\n"
     ]
    },
    {
     "name": "stderr",
     "output_type": "stream",
     "text": [
      "Generating call graph:  75%|███████▌  | 39/52 [00:07<00:04,  3.19it/s]"
     ]
    },
    {
     "name": "stdout",
     "output_type": "stream",
     "text": [
      "Unresolved calls in ragdaemon/annotators/hierarchy.py: {'ragdaemon/database.py:Database.upsert', 'ragdaemon/database.py:Database.get', 'ragdaemon/database.py:remove_add_to_db_duplicates'}\n"
     ]
    },
    {
     "name": "stderr",
     "output_type": "stream",
     "text": [
      "Generating call graph:  77%|███████▋  | 40/52 [00:07<00:03,  3.28it/s]"
     ]
    },
    {
     "name": "stdout",
     "output_type": "stream",
     "text": [
      "Unresolved calls in ragdaemon/app.py: {'ragdaemon/daemon.py:Daemon.graph.get_edge_data', 'ragdaemon/daemon.py:Daemon.graph.nodes', 'ragdaemon/daemon.py:Daemon.graph.edges'}\n"
     ]
    },
    {
     "name": "stderr",
     "output_type": "stream",
     "text": [
      "Generating call graph:  83%|████████▎ | 43/52 [00:09<00:03,  2.46it/s]"
     ]
    },
    {
     "name": "stdout",
     "output_type": "stream",
     "text": [
      "Unresolved calls in ragdaemon/annotators/call_graph.py: {'ragdaemon/annotators/call_graph.py:Annotator', 'ragdaemon/annotators/call_graph.py:parse_path_ref', 'ragdaemon/utils.py:DEFAULT_CODE_EXTENSIONS'}\n",
      "Unresolved calls in tests/test_daemon.py: {'ragdaemon/daemon.py:Context.render', 'ragdaemon/daemon.py:Context.add_ref'}\n"
     ]
    },
    {
     "name": "stderr",
     "output_type": "stream",
     "text": [
      "Generating call graph:  87%|████████▋ | 45/52 [00:10<00:03,  2.21it/s]"
     ]
    },
    {
     "name": "stdout",
     "output_type": "stream",
     "text": [
      "Unresolved calls in ragdaemon/context.py: {'ragdaemon/graph.py:KnowledgeGraph.nodes', 'ragdaemon/database.py:Database.get'}\n"
     ]
    },
    {
     "name": "stderr",
     "output_type": "stream",
     "text": [
      "Generating call graph:  88%|████████▊ | 46/52 [00:10<00:02,  2.53it/s]"
     ]
    },
    {
     "name": "stdout",
     "output_type": "stream",
     "text": [
      "Unresolved calls in ragdaemon/annotators/chunker_llm.py: {'ragdaemon/annotators/chunker_llm.py:ChunkerLLM.update_parent_nodes'}\n"
     ]
    },
    {
     "name": "stderr",
     "output_type": "stream",
     "text": [
      "Generating call graph:  92%|█████████▏| 48/52 [00:12<00:02,  1.72it/s]"
     ]
    },
    {
     "name": "stdout",
     "output_type": "stream",
     "text": [
      "Unresolved calls in ragdaemon/daemon.py: {'ragdaemon/database.py:Database.get', 'ragdaemon/utils.py:mentat_dir_path', 'ragdaemon/spice.spice.py:Spice.count_tokens', 'ragdaemon/database.py:Database.query_graph', 'ragdaemon/database.py:get_db', 'ragdaemon/annotators.py:annotators_map', 'ragdaemon/spice.spice.py:Spice.load_dir', 'ragdaemon/spice.spice.py:Spice.__init__'}\n"
     ]
    },
    {
     "name": "stderr",
     "output_type": "stream",
     "text": [
      "Generating call graph:  98%|█████████▊| 51/52 [00:13<00:00,  1.85it/s]"
     ]
    },
    {
     "name": "stdout",
     "output_type": "stream",
     "text": [
      "Unresolved calls in ragdaemon/annotators/diff.py: {'ragdaemon/database.py:Database.upsert', 'ragdaemon/database.py:Database.get', 'ragdaemon/database.py:remove_add_to_db_duplicates', 'ragdaemon/graph.py:KnowledgeGraph.remove_nodes_from'}\n"
     ]
    },
    {
     "name": "stderr",
     "output_type": "stream",
     "text": [
      "Generating call graph: 100%|██████████| 52/52 [00:14<00:00,  3.63it/s]"
     ]
    },
    {
     "name": "stdout",
     "output_type": "stream",
     "text": [
      "Unresolved calls in ragdaemon/annotators/chunker.py: {'ragdaemon/database.py:Database', 'ragdaemon/database.py:remove_add_to_db_duplicates', 'ragdaemon/utils.py:DEFAULT_CODE_EXTENSIONS'}\n",
      "Saved updated graph to /Users/granthawkins/.mentat/ragdaemon/ragdaemon-ragdaemon.json\n"
     ]
    },
    {
     "name": "stderr",
     "output_type": "stream",
     "text": [
      "\n"
     ]
    }
   ],
   "source": [
    "from pathlib import Path\n",
    "from ragdaemon.daemon import Daemon\n",
    "\n",
    "annotators = {\n",
    "    \"hierarchy\": {},\n",
    "    \"chunker_llm\": {},\n",
    "    \"call_graph\": {},\n",
    "}\n",
    "\n",
    "sample_dir = Path.cwd()\n",
    "daemon = Daemon(sample_dir, annotators=annotators, verbose=True)\n",
    "await daemon.update(refresh=True)"
   ]
  },
  {
   "cell_type": "code",
   "execution_count": 3,
   "metadata": {},
   "outputs": [
    {
     "name": "stdout",
     "output_type": "stream",
     "text": [
      "Connected: 127\n",
      "Disconnected: 107\n",
      "Out only: 48\n"
     ]
    }
   ],
   "source": [
    "connected = []\n",
    "disconnected = []\n",
    "out_only = []\n",
    "for node, data in daemon.graph.nodes(data=True):\n",
    "    if data.get(\"type\") != \"chunk\":\n",
    "        continue\n",
    "    # In edges with 'type == call'\n",
    "    _in = [e for e in daemon.graph.in_edges(node, data=True) if e[-1].get(\"type\") == \"call\"]\n",
    "    _out = [e for e in daemon.graph.out_edges(node, data=True) if e[-1].get(\"type\") == \"call\"]\n",
    "    if _in or _out:\n",
    "        connected.append(node)\n",
    "    if _out and not _in:\n",
    "        out_only.append(node)\n",
    "    if not _out and not _in:\n",
    "        disconnected.append(node)\n",
    "print(f\"Connected: {len(connected)}\")\n",
    "print(f\"Disconnected: {len(disconnected)}\")\n",
    "print(f\"Out only: {len(out_only)}\")"
   ]
  },
  {
   "cell_type": "code",
   "execution_count": 5,
   "metadata": {},
   "outputs": [
    {
     "name": "stdout",
     "output_type": "stream",
     "text": [
      "tests/test_context.py:test_daemon_render_context\n",
      "tests/test_context.py:test_context_builder_methods\n",
      "tests/test_context.py:test_to_refs\n",
      "ragdaemon/app.py:lifespan\n",
      "ragdaemon/app.py:search\n",
      "tests/sample/main.py:BASE\n",
      "tests/annotators/test_chunker.py:BASE\n",
      "tests/annotators/test_chunker.py:test_chunker_is_complete\n",
      "ragdaemon/database/chroma_database.py:ChromaDB\n",
      "ragdaemon/database/chroma_database.py:ChromaDB.query\n",
      "ragdaemon/context.py:ContextBuilder.__init__\n",
      "ragdaemon/context.py:ContextBuilder.__add__\n",
      "ragdaemon/context.py:ContextBuilder.add_id\n",
      "ragdaemon/context.py:ContextBuilder.remove_ref\n",
      "ragdaemon/annotators/summarizer.py:Summarizer\n",
      "ragdaemon/annotators/summarizer.py:Summarizer.get_summary\n",
      "ragdaemon/annotators/call_graph.py:CallGraph.__init__\n",
      "ragdaemon/annotators/call_graph.py:CallGraph.is_complete\n",
      "ragdaemon/annotators/call_graph.py:CallGraph.get_llm_response\n",
      "ragdaemon/annotators/call_graph.py:CallGraph.get_file_call_data\n",
      "ragdaemon/annotators/call_graph.py:CallGraph.annotate\n",
      "ragdaemon/static/js/main.js:BASE\n",
      "ragdaemon/static/js/main.js:initialize\n",
      "tests/annotators/test_summarizer.py:test_summarizer_annotate\n",
      "ragdaemon/annotators/diff.py:Diff.__init__\n",
      "ragdaemon/annotators/diff.py:Diff.is_complete\n",
      "ragdaemon/annotators/diff.py:Diff.annotate._link_to_successors\n",
      "tests/annotators/test_hierarchy.py:test_get_active_checksums\n",
      "tests/annotators/test_hierarchy.py:test_hierarchy_is_complete\n",
      "tests/annotators/test_hierarchy.py:test_hierarchy_annotate\n",
      "ragdaemon/database/lite_database.py:LiteDB.query\n",
      "tests/test_get_paths.py:test_get_paths_for_directory_git\n",
      "tests/test_get_paths.py:test_get_paths_for_directory_without_git\n",
      "ragdaemon/annotators/chunker.py:Chunker.is_complete\n",
      "ragdaemon/annotators/chunker.py:Chunker.annotate\n",
      "tests/test_comments.py:test_comment_render\n",
      "tests/test_daemon.py:test_daemon_get_context\n",
      "ragdaemon/annotators/chunker_line.py:ChunkerLine.__init__\n",
      "tests/annotators/test_chunker_llm.py:test_chunker_llm_edge_cases\n",
      "tests/annotators/test_layout_hierarchy.py:test_layout_hierarchy_is_complete\n",
      "tests/annotators/test_layout_hierarchy.py:test_layout_hierarchy_annotate\n",
      "tests/annotators/test_diff.py:test_diff_get_chunks_from_diff\n",
      "tests/annotators/test_diff.py:test_diff_parse_diff_id\n",
      "tests/annotators/test_diff.py:test_diff_annotate\n",
      "tests/annotators/test_diff.py:test_diff_render\n",
      "ragdaemon/database/__init__.py:get_db\n",
      "ragdaemon/__main__.py:BASE\n",
      "ragdaemon/__main__.py:run\n"
     ]
    }
   ],
   "source": [
    "for d in out_only:\n",
    "    print(d)"
   ]
  },
  {
   "cell_type": "code",
   "execution_count": 15,
   "metadata": {},
   "outputs": [
    {
     "name": "stdout",
     "output_type": "stream",
     "text": [
      "active: False\n",
      "calls: {\"ragdaemon/static/js/controlPanel.js:debounce\": [19, 33]}\n",
      "checksum: 0ef02806e2789783286a6f33dd838041\n",
      "chunks_line: []\n",
      "chunks_llm: [{'id': 'ragdaemon/static/js/controlPanel.js:BASE', 'ref': 'ragdaemon/static/js/controlPanel.js:1-2,14,48-50'}, {'id': 'ragdaemon/static/js/controlPanel.js:debounce', 'ref': 'ragdaemon/static/js/controlPanel.js:3-13'}, {'id': 'ragdaemon/static/js/controlPanel.js:startControlPanel', 'ref': 'ragdaemon/static/js/controlPanel.js:15-47'}]\n",
      "id: ragdaemon/static/js/controlPanel.js\n",
      "ref: ragdaemon/static/js/controlPanel.js\n",
      "type: file\n",
      "('ragdaemon/static/js/controlPanel.js', 'ragdaemon/static/js/controlPanel.js:BASE', {'type': 'hierarchy'})\n",
      "('ragdaemon/static/js/controlPanel.js', 'ragdaemon/static/js/controlPanel.js:debounce', {'type': 'call'})\n"
     ]
    }
   ],
   "source": [
    "target_stub = \"Panel.js\"\n",
    "node = next(n for n in daemon.graph.nodes() if n.endswith(target_stub))\n",
    "data = daemon.graph.nodes[node]\n",
    "edges = daemon.graph.edges(node, data=True)\n",
    "for k, v in data.items():\n",
    "    print(f\"{k}: {v}\")\n",
    "for e in edges:\n",
    "    print(e)"
   ]
  },
  {
   "cell_type": "code",
   "execution_count": null,
   "metadata": {},
   "outputs": [],
   "source": []
  },
  {
   "cell_type": "markdown",
   "metadata": {},
   "source": []
  }
 ],
 "metadata": {
  "kernelspec": {
   "display_name": ".venv",
   "language": "python",
   "name": "python3"
  },
  "language_info": {
   "codemirror_mode": {
    "name": "ipython",
    "version": 3
   },
   "file_extension": ".py",
   "mimetype": "text/x-python",
   "name": "python",
   "nbconvert_exporter": "python",
   "pygments_lexer": "ipython3",
   "version": "3.11.7"
  }
 },
 "nbformat": 4,
 "nbformat_minor": 2
}
