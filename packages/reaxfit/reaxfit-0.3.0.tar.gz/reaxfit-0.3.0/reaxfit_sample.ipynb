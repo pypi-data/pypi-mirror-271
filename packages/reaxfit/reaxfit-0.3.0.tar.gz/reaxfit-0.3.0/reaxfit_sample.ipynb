{
  "nbformat": 4,
  "nbformat_minor": 0,
  "metadata": {
    "colab": {
      "provenance": [],
      "toc_visible": true,
      "authorship_tag": "ABX9TyPbn1o0ueW0NYNcQopFtifg",
      "include_colab_link": true
    },
    "kernelspec": {
      "name": "python3",
      "display_name": "Python 3"
    },
    "language_info": {
      "name": "python"
    }
  },
  "cells": [
    {
      "cell_type": "markdown",
      "metadata": {
        "id": "view-in-github",
        "colab_type": "text"
      },
      "source": [
        "<a href=\"https://colab.research.google.com/github/ykanematsu/reaxfit/blob/main/reaxfit_sample.ipynb\" target=\"_parent\"><img src=\"https://colab.research.google.com/assets/colab-badge.svg\" alt=\"Open In Colab\"/></a>"
      ]
    },
    {
      "cell_type": "markdown",
      "source": [
        "# ReaxFF sample\n",
        "- A sample notebook for [reaxfit](https://github.com/ykanematsu/reaxfit).\n",
        "- Potential energy curve for dissociation of a carbon monoxide on covalt surface.\n",
        "- ~10 min including the installation on colab."
      ],
      "metadata": {
        "id": "I93aGUZNwByx"
      }
    },
    {
      "cell_type": "markdown",
      "source": [
        "## Install"
      ],
      "metadata": {
        "id": "SiJXz0-uv9hi"
      }
    },
    {
      "cell_type": "code",
      "source": [
        "!apt install -y -qq subversion"
      ],
      "metadata": {
        "id": "nVEPBARvxthi",
        "outputId": "d81971e6-04ce-4cb0-b2ff-206afe3bce10",
        "colab": {
          "base_uri": "https://localhost:8080/"
        }
      },
      "execution_count": 2,
      "outputs": [
        {
          "output_type": "stream",
          "name": "stdout",
          "text": [
            "subversion is already the newest version (1.13.0-3ubuntu0.2).\n",
            "0 upgraded, 0 newly installed, 0 to remove and 24 not upgraded.\n"
          ]
        }
      ]
    },
    {
      "cell_type": "code",
      "source": [
        "!pip install -q condacolab\n",
        "import condacolab\n",
        "condacolab.install()"
      ],
      "metadata": {
        "colab": {
          "base_uri": "https://localhost:8080/"
        },
        "id": "6B1uNvczTaIQ",
        "outputId": "067a891d-9cd5-4cc5-9afe-10b6704fde80"
      },
      "execution_count": 3,
      "outputs": [
        {
          "output_type": "stream",
          "name": "stdout",
          "text": [
            "⏬ Downloading https://github.com/jaimergp/miniforge/releases/latest/download/Mambaforge-colab-Linux-x86_64.sh...\n",
            "📦 Installing...\n",
            "📌 Adjusting configuration...\n",
            "🩹 Patching environment...\n",
            "⏲ Done in 0:00:15\n",
            "🔁 Restarting kernel...\n"
          ]
        }
      ]
    },
    {
      "cell_type": "markdown",
      "source": [
        "wait for session restarting"
      ],
      "metadata": {
        "id": "g1R3s7Tvv2pR"
      }
    },
    {
      "cell_type": "code",
      "execution_count": 1,
      "metadata": {
        "colab": {
          "base_uri": "https://localhost:8080/"
        },
        "id": "j-fdHzzcSI8p",
        "outputId": "6fc8e391-f3b6-4d23-e696-8a069ac8b237"
      },
      "outputs": [
        {
          "output_type": "stream",
          "name": "stdout",
          "text": [
            "A    CoCO\n",
            "A    CoCO/0.xyz\n",
            "A    CoCO/1.xyz\n",
            "A    CoCO/2.xyz\n",
            "A    CoCO/3.xyz\n",
            "A    CoCO/4.xyz\n",
            "A    CoCO/5.xyz\n",
            "A    CoCO/6.xyz\n",
            "A    CoCO/batch.sh\n",
            "A    CoCO/chk.py\n",
            "A    CoCO/config.json\n",
            "A    CoCO/data0\n",
            "A    CoCO/ffield.reax\n",
            "A    CoCO/ffield.temp\n",
            "A    CoCO/refE\n",
            "A    CoCO/refF\n",
            "A    CoCO/run.py\n",
            "Exported revision 59.\n"
          ]
        }
      ],
      "source": [
        "!svn export https://github.com/ykanematsu/reaxfit/trunk/example/CoCO"
      ]
    },
    {
      "cell_type": "code",
      "source": [
        "%cd CoCO/"
      ],
      "metadata": {
        "colab": {
          "base_uri": "https://localhost:8080/"
        },
        "id": "o04i7rNJSNdF",
        "outputId": "26cd85cb-4347-497c-e005-d12c1eb0cac3"
      },
      "execution_count": 2,
      "outputs": [
        {
          "output_type": "stream",
          "name": "stdout",
          "text": [
            "/content/CoCO\n"
          ]
        }
      ]
    },
    {
      "cell_type": "code",
      "source": [
        "!mamba install -q -y -c conda-forge lammps\n",
        "!mamba install -q -y scipy numpy"
      ],
      "metadata": {
        "colab": {
          "base_uri": "https://localhost:8080/"
        },
        "id": "STEUjGJvS2XF",
        "outputId": "806aa41f-a90e-4259-ed2f-79ac05cf392d"
      },
      "execution_count": 8,
      "outputs": [
        {
          "output_type": "stream",
          "name": "stdout",
          "text": [
            "Preparing transaction: ...working... done\n",
            "Verifying transaction: ...working... done\n",
            "Executing transaction: ...working...  \n",
            "For Linux 64, Open MPI is built with CUDA awareness but this support is disabled by default.\n",
            "To enable it, please set the environment variable OMPI_MCA_opal_cuda_support=true before\n",
            "launching your MPI processes. Equivalently, you can set the MCA parameter in the command line:\n",
            "mpiexec --mca opal_cuda_support 1 ...\n",
            " \n",
            "In addition, the UCX support is also built but disabled by default.\n",
            "To enable it, first install UCX (conda install -c conda-forge ucx). Then, set the environment\n",
            "variables OMPI_MCA_pml=\"ucx\" OMPI_MCA_osc=\"ucx\" before launching your MPI processes.\n",
            "Equivalently, you can set the MCA parameters in the command line:\n",
            "mpiexec --mca pml ucx --mca osc ucx ...\n",
            "Note that you might also need to set UCX_MEMTYPE_CACHE=n for CUDA awareness via UCX.\n",
            "Please consult UCX's documentation for detail.\n",
            " \n",
            "\n",
            "done\n"
          ]
        }
      ]
    },
    {
      "cell_type": "code",
      "source": [
        "!pip3 install reaxfit"
      ],
      "metadata": {
        "colab": {
          "base_uri": "https://localhost:8080/"
        },
        "id": "r-F-s2flUqGo",
        "outputId": "14ced133-1e5e-4af0-ecaf-4d7562a94a3c"
      },
      "execution_count": 9,
      "outputs": [
        {
          "output_type": "stream",
          "name": "stdout",
          "text": [
            "Looking in indexes: https://pypi.org/simple, https://us-python.pkg.dev/colab-wheels/public/simple/\n",
            "Collecting reaxfit\n",
            "  Downloading reaxfit-0.1.0.tar.gz (44 kB)\n",
            "\u001b[2K     \u001b[90m━━━━━━━━━━━━━━━━━━━━━━━━━━━━━━━━━━━━━━━━\u001b[0m \u001b[32m44.8/44.8 kB\u001b[0m \u001b[31m2.3 MB/s\u001b[0m eta \u001b[36m0:00:00\u001b[0m\n",
            "\u001b[?25h  Preparing metadata (setup.py) ... \u001b[?25l\u001b[?25hdone\n",
            "Requirement already satisfied: scipy in /usr/local/lib/python3.9/site-packages (from reaxfit) (1.10.1)\n",
            "Requirement already satisfied: numpy in /usr/local/lib/python3.9/site-packages (from reaxfit) (1.24.2)\n",
            "Requirement already satisfied: lammps in /usr/local/lib/python3.9/site-packages (from reaxfit) (2023.3.28)\n",
            "Building wheels for collected packages: reaxfit\n",
            "  Building wheel for reaxfit (setup.py) ... \u001b[?25l\u001b[?25hdone\n",
            "  Created wheel for reaxfit: filename=reaxfit-0.1.0-py3-none-any.whl size=5061 sha256=1d54b0cf280e4561b9bcb7d12ebd72d6a4d5adef35ea1f514a163477f965b903\n",
            "  Stored in directory: /root/.cache/pip/wheels/1a/a5/cc/7030c3457a352bbc2b96e0e62a5ae9818497d5832596833e37\n",
            "Successfully built reaxfit\n",
            "Installing collected packages: reaxfit\n",
            "Successfully installed reaxfit-0.1.0\n",
            "\u001b[33mWARNING: Running pip as the 'root' user can result in broken permissions and conflicting behaviour with the system package manager. It is recommended to use a virtual environment instead: https://pip.pypa.io/warnings/venv\u001b[0m\u001b[33m\n",
            "\u001b[0m"
          ]
        }
      ]
    },
    {
      "cell_type": "markdown",
      "source": [
        "## Run Fitting\n"
      ],
      "metadata": {
        "id": "49Ym5JsCwNCF"
      }
    },
    {
      "cell_type": "code",
      "source": [
        "from reaxfit import reaxfit\n",
        "reax=reaxfit()\n",
        "reax.config(workers=2,bound=0.08)\n",
        "@reax.set_eval\n",
        "def my_eval(pes,fns,refE,refF):\n",
        "  pes-=pes[0]\n",
        "  pes*=0.043364124\n",
        "  pes-=refE\n",
        "  return pes@pes\n",
        "result=reax.fit(my_eval)\n",
        "print(\"optimized paramters: \",result.x)"
      ],
      "metadata": {
        "colab": {
          "base_uri": "https://localhost:8080/"
        },
        "id": "AaO7bWoNUq8t",
        "outputId": "e58d0db7-f391-4aa8-9f88-14c6973d70be"
      },
      "execution_count": 10,
      "outputs": [
        {
          "output_type": "stream",
          "name": "stdout",
          "text": [
            "read config.json\n",
            "initial 3 parameters : [2.40512, 6.41168, 2.04134]\n",
            "differential_evolution step 1: f(x)= 0.158476\n",
            "differential_evolution step 2: f(x)= 0.158476\n",
            "differential_evolution step 3: f(x)= 0.081845\n",
            "differential_evolution step 4: f(x)= 0.081845\n",
            "differential_evolution step 5: f(x)= 0.081845\n",
            "differential_evolution step 6: f(x)= 0.0713867\n",
            "differential_evolution step 7: f(x)= 0.0703601\n",
            "differential_evolution step 8: f(x)= 0.0693205\n",
            "differential_evolution step 9: f(x)= 0.0693205\n",
            "differential_evolution step 10: f(x)= 0.0643847\n",
            "differential_evolution step 11: f(x)= 0.0643847\n",
            "differential_evolution step 12: f(x)= 0.0643847\n",
            "differential_evolution step 13: f(x)= 0.0636939\n",
            "differential_evolution step 14: f(x)= 0.0636939\n",
            "differential_evolution step 15: f(x)= 0.0636939\n",
            "differential_evolution step 16: f(x)= 0.0630542\n",
            "differential_evolution step 17: f(x)= 0.0630542\n",
            "differential_evolution step 18: f(x)= 0.0630542\n",
            "differential_evolution step 19: f(x)= 0.0630542\n",
            "differential_evolution step 20: f(x)= 0.0630542\n",
            "Polishing solution with 'L-BFGS-B'\n",
            "optimized paramters:  [2.23298143 6.73816243 2.07445409]\n"
          ]
        }
      ]
    },
    {
      "cell_type": "code",
      "source": [
        "# print the resulting energies\n",
        "pes,fns=reax.reax(reax.x0) # energies for initial parameters\n",
        "pes-=pes[0]\n",
        "pes*=0.043364124\n",
        "E=reax.E # the fitted energies\n",
        "E-=E[0]\n",
        "E*=0.043364124\n",
        "print(E)"
      ],
      "metadata": {
        "colab": {
          "base_uri": "https://localhost:8080/"
        },
        "id": "bunpuHBdblR8",
        "outputId": "4779170d-56d6-4663-9919-29efe7f6ee77"
      },
      "execution_count": 11,
      "outputs": [
        {
          "output_type": "stream",
          "name": "stdout",
          "text": [
            "[0.         0.1127928  0.57606361 2.33396203 1.26358668 1.40526863\n",
            " 1.05006819]\n"
          ]
        }
      ]
    },
    {
      "cell_type": "code",
      "source": [
        "# compare the reference energy (by VASP) and the fitted energy (by ReaxFF)\n",
        "import matplotlib.pyplot as plt\n",
        "plt.rcParams['font.size'] = 14\n",
        "plt.plot(reax.refE,label=\"refE\",lw=2)\n",
        "plt.plot(pes,ls=\":\",label=\"E_before_fit\",color=\"gray\")\n",
        "plt.plot(E,label=\"E\",color=\"red\")\n",
        "plt.legend()\n",
        "plt.show()"
      ],
      "metadata": {
        "id": "fdXXD5zSvJdO",
        "colab": {
          "base_uri": "https://localhost:8080/",
          "height": 435
        },
        "outputId": "4de8079f-af21-4674-e558-bb0ca1e0e2de"
      },
      "execution_count": 12,
      "outputs": [
        {
          "output_type": "display_data",
          "data": {
            "text/plain": [
              "<Figure size 640x480 with 1 Axes>"
            ],
            "image/png": "[encoded data removed]"
          },
          "metadata": {}
        }
      ]
    },
    {
      "cell_type": "code",
      "source": [],
      "metadata": {
        "id": "m9KTbAuK-OXq"
      },
      "execution_count": null,
      "outputs": []
    }
  ]
}