{
 "cells": [
  {
   "cell_type": "markdown",
   "metadata": {},
   "source": [
    "# Logistic regression metrics"
   ]
  },
  {
   "cell_type": "code",
   "execution_count": 1,
   "metadata": {},
   "outputs": [],
   "source": [
    "import warnings\n",
    "warnings.simplefilter(action='ignore', category=FutureWarning)\n",
    "warnings.filterwarnings(\"ignore\")"
   ]
  },
  {
   "cell_type": "code",
   "execution_count": 2,
   "metadata": {},
   "outputs": [
    {
     "data": {
      "text/html": [
       "<div>\n",
       "<style scoped>\n",
       "    .dataframe tbody tr th:only-of-type {\n",
       "        vertical-align: middle;\n",
       "    }\n",
       "\n",
       "    .dataframe tbody tr th {\n",
       "        vertical-align: top;\n",
       "    }\n",
       "\n",
       "    .dataframe thead th {\n",
       "        text-align: right;\n",
       "    }\n",
       "</style>\n",
       "<table border=\"1\" class=\"dataframe\">\n",
       "  <thead>\n",
       "    <tr style=\"text-align: right;\">\n",
       "      <th></th>\n",
       "      <th>admit</th>\n",
       "      <th>gre</th>\n",
       "      <th>gpa</th>\n",
       "      <th>rank</th>\n",
       "    </tr>\n",
       "  </thead>\n",
       "  <tbody>\n",
       "    <tr>\n",
       "      <th>0</th>\n",
       "      <td>0</td>\n",
       "      <td>380</td>\n",
       "      <td>3.61</td>\n",
       "      <td>3</td>\n",
       "    </tr>\n",
       "    <tr>\n",
       "      <th>1</th>\n",
       "      <td>1</td>\n",
       "      <td>660</td>\n",
       "      <td>3.67</td>\n",
       "      <td>3</td>\n",
       "    </tr>\n",
       "    <tr>\n",
       "      <th>2</th>\n",
       "      <td>1</td>\n",
       "      <td>800</td>\n",
       "      <td>4.00</td>\n",
       "      <td>1</td>\n",
       "    </tr>\n",
       "    <tr>\n",
       "      <th>3</th>\n",
       "      <td>1</td>\n",
       "      <td>640</td>\n",
       "      <td>3.19</td>\n",
       "      <td>4</td>\n",
       "    </tr>\n",
       "    <tr>\n",
       "      <th>4</th>\n",
       "      <td>0</td>\n",
       "      <td>520</td>\n",
       "      <td>2.93</td>\n",
       "      <td>4</td>\n",
       "    </tr>\n",
       "  </tbody>\n",
       "</table>\n",
       "</div>"
      ],
      "text/plain": [
       "   admit  gre   gpa  rank\n",
       "0      0  380  3.61     3\n",
       "1      1  660  3.67     3\n",
       "2      1  800  4.00     1\n",
       "3      1  640  3.19     4\n",
       "4      0  520  2.93     4"
      ]
     },
     "execution_count": 2,
     "metadata": {},
     "output_type": "execute_result"
    }
   ],
   "source": [
    "# Load dataset\n",
    "import pandas as pd\n",
    "binarie = pd.read_csv(\"https://stats.idre.ucla.edu/stat/data/binary.csv\")\n",
    "## view the first few rows of the data\n",
    "binarie.head()"
   ]
  },
  {
   "cell_type": "code",
   "execution_count": 3,
   "metadata": {},
   "outputs": [
    {
     "name": "stdout",
     "output_type": "stream",
     "text": [
      "<class 'pandas.core.frame.DataFrame'>\n",
      "RangeIndex: 400 entries, 0 to 399\n",
      "Data columns (total 4 columns):\n",
      " #   Column  Non-Null Count  Dtype   \n",
      "---  ------  --------------  -----   \n",
      " 0   admit   400 non-null    int64   \n",
      " 1   gre     400 non-null    int64   \n",
      " 2   gpa     400 non-null    float64 \n",
      " 3   rank    400 non-null    category\n",
      "dtypes: category(1), float64(1), int64(2)\n",
      "memory usage: 10.1 KB\n"
     ]
    }
   ],
   "source": [
    "binarie[\"rank\"] = binarie[\"rank\"].astype(\"category\")\n",
    "binarie.info()"
   ]
  },
  {
   "cell_type": "code",
   "execution_count": 4,
   "metadata": {},
   "outputs": [],
   "source": [
    "# Logistic model\n",
    "import statsmodels.formula.api as smf\n",
    "glm = smf.logit(\"admit~gre+gpa+rank\", data = binarie).fit(disp=False)"
   ]
  },
  {
   "cell_type": "markdown",
   "metadata": {},
   "source": [
    "## Coefficients"
   ]
  },
  {
   "cell_type": "code",
   "execution_count": 5,
   "metadata": {},
   "outputs": [
    {
     "data": {
      "text/html": [
       "<div>\n",
       "<style scoped>\n",
       "    .dataframe tbody tr th:only-of-type {\n",
       "        vertical-align: middle;\n",
       "    }\n",
       "\n",
       "    .dataframe tbody tr th {\n",
       "        vertical-align: top;\n",
       "    }\n",
       "\n",
       "    .dataframe thead th {\n",
       "        text-align: right;\n",
       "    }\n",
       "</style>\n",
       "<table border=\"1\" class=\"dataframe\">\n",
       "  <thead>\n",
       "    <tr style=\"text-align: right;\">\n",
       "      <th></th>\n",
       "      <th>Coef.</th>\n",
       "      <th>Std.Err.</th>\n",
       "      <th>z</th>\n",
       "      <th>P&gt;|z|</th>\n",
       "      <th>[0.025</th>\n",
       "      <th>0.975]</th>\n",
       "    </tr>\n",
       "  </thead>\n",
       "  <tbody>\n",
       "    <tr>\n",
       "      <th>Intercept</th>\n",
       "      <td>-3.989979</td>\n",
       "      <td>1.139951</td>\n",
       "      <td>-3.500132</td>\n",
       "      <td>0.000465</td>\n",
       "      <td>-6.224242</td>\n",
       "      <td>-1.755716</td>\n",
       "    </tr>\n",
       "    <tr>\n",
       "      <th>rank[T.2]</th>\n",
       "      <td>-0.675443</td>\n",
       "      <td>0.316490</td>\n",
       "      <td>-2.134171</td>\n",
       "      <td>0.032829</td>\n",
       "      <td>-1.295751</td>\n",
       "      <td>-0.055135</td>\n",
       "    </tr>\n",
       "    <tr>\n",
       "      <th>rank[T.3]</th>\n",
       "      <td>-1.340204</td>\n",
       "      <td>0.345306</td>\n",
       "      <td>-3.881202</td>\n",
       "      <td>0.000104</td>\n",
       "      <td>-2.016992</td>\n",
       "      <td>-0.663416</td>\n",
       "    </tr>\n",
       "    <tr>\n",
       "      <th>rank[T.4]</th>\n",
       "      <td>-1.551464</td>\n",
       "      <td>0.417832</td>\n",
       "      <td>-3.713131</td>\n",
       "      <td>0.000205</td>\n",
       "      <td>-2.370399</td>\n",
       "      <td>-0.732529</td>\n",
       "    </tr>\n",
       "    <tr>\n",
       "      <th>gre</th>\n",
       "      <td>0.002264</td>\n",
       "      <td>0.001094</td>\n",
       "      <td>2.069863</td>\n",
       "      <td>0.038465</td>\n",
       "      <td>0.000120</td>\n",
       "      <td>0.004409</td>\n",
       "    </tr>\n",
       "    <tr>\n",
       "      <th>gpa</th>\n",
       "      <td>0.804038</td>\n",
       "      <td>0.331819</td>\n",
       "      <td>2.423119</td>\n",
       "      <td>0.015388</td>\n",
       "      <td>0.153684</td>\n",
       "      <td>1.454391</td>\n",
       "    </tr>\n",
       "  </tbody>\n",
       "</table>\n",
       "</div>"
      ],
      "text/plain": [
       "              Coef.  Std.Err.         z     P>|z|    [0.025    0.975]\n",
       "Intercept -3.989979  1.139951 -3.500132  0.000465 -6.224242 -1.755716\n",
       "rank[T.2] -0.675443  0.316490 -2.134171  0.032829 -1.295751 -0.055135\n",
       "rank[T.3] -1.340204  0.345306 -3.881202  0.000104 -2.016992 -0.663416\n",
       "rank[T.4] -1.551464  0.417832 -3.713131  0.000205 -2.370399 -0.732529\n",
       "gre        0.002264  0.001094  2.069863  0.038465  0.000120  0.004409\n",
       "gpa        0.804038  0.331819  2.423119  0.015388  0.153684  1.454391"
      ]
     },
     "execution_count": 5,
     "metadata": {},
     "output_type": "execute_result"
    }
   ],
   "source": [
    "from scientistmetrics import coefficients\n",
    "coefficients(glm)"
   ]
  },
  {
   "cell_type": "markdown",
   "metadata": {},
   "source": [
    "## Metrics with logistic model\n",
    "\n",
    "### R2\n",
    "\n",
    "#### McFadden R2"
   ]
  },
  {
   "cell_type": "code",
   "execution_count": 6,
   "metadata": {},
   "outputs": [
    {
     "data": {
      "text/plain": [
       "0.08292194470084713"
      ]
     },
     "execution_count": 6,
     "metadata": {},
     "output_type": "execute_result"
    }
   ],
   "source": [
    "from scientistmetrics import r2_mcfadden\n",
    "r2_mcfadden(glm)"
   ]
  },
  {
   "cell_type": "markdown",
   "metadata": {},
   "source": [
    "#### Adjusted McFadden R2"
   ]
  },
  {
   "cell_type": "code",
   "execution_count": 7,
   "metadata": {},
   "outputs": [
    {
     "data": {
      "text/plain": [
       "0.066921193229454"
      ]
     },
     "execution_count": 7,
     "metadata": {},
     "output_type": "execute_result"
    }
   ],
   "source": [
    "r2_mcfadden(glm,adjust=True)"
   ]
  },
  {
   "cell_type": "markdown",
   "metadata": {},
   "source": [
    "#### Coxsnell R2"
   ]
  },
  {
   "cell_type": "code",
   "execution_count": 8,
   "metadata": {},
   "outputs": [
    {
     "data": {
      "text/plain": [
       "0.09845702133885237"
      ]
     },
     "execution_count": 8,
     "metadata": {},
     "output_type": "execute_result"
    }
   ],
   "source": [
    "from scientistmetrics import r2_coxsnell\n",
    "r2_coxsnell(glm)"
   ]
  },
  {
   "cell_type": "markdown",
   "metadata": {},
   "source": [
    "#### Count R2"
   ]
  },
  {
   "cell_type": "code",
   "execution_count": 9,
   "metadata": {},
   "outputs": [
    {
     "data": {
      "text/plain": [
       "0.71"
      ]
     },
     "execution_count": 9,
     "metadata": {},
     "output_type": "execute_result"
    }
   ],
   "source": [
    "from scientistmetrics import r2_count\n",
    "r2_count(glm)"
   ]
  },
  {
   "cell_type": "markdown",
   "metadata": {},
   "source": [
    "#### Adjusted Count R2"
   ]
  },
  {
   "cell_type": "code",
   "execution_count": 10,
   "metadata": {},
   "outputs": [
    {
     "data": {
      "text/plain": [
       "0.08661417322834646"
      ]
     },
     "execution_count": 10,
     "metadata": {},
     "output_type": "execute_result"
    }
   ],
   "source": [
    "from scientistmetrics import r2_count_adj\n",
    "r2_count_adj(glm)"
   ]
  },
  {
   "cell_type": "markdown",
   "metadata": {},
   "source": [
    "#### Efron R2"
   ]
  },
  {
   "cell_type": "code",
   "execution_count": 11,
   "metadata": {},
   "outputs": [
    {
     "data": {
      "text/plain": [
       "0.1014324863895315"
      ]
     },
     "execution_count": 11,
     "metadata": {},
     "output_type": "execute_result"
    }
   ],
   "source": [
    "from scientistmetrics import r2_efron\n",
    "r2_efron(glm)"
   ]
  },
  {
   "cell_type": "markdown",
   "metadata": {},
   "source": [
    "#### Kullback R2"
   ]
  },
  {
   "cell_type": "code",
   "execution_count": 12,
   "metadata": {},
   "outputs": [
    {
     "data": {
      "text/plain": [
       "0.071283898313802"
      ]
     },
     "execution_count": 12,
     "metadata": {},
     "output_type": "execute_result"
    }
   ],
   "source": [
    "from scientistmetrics import r2_kullback\n",
    "r2_kullback(glm)"
   ]
  },
  {
   "cell_type": "markdown",
   "metadata": {},
   "source": [
    "#### Mckelvey R2"
   ]
  },
  {
   "cell_type": "code",
   "execution_count": 13,
   "metadata": {},
   "outputs": [
    {
     "data": {
      "text/plain": [
       "0.006682730898547062"
      ]
     },
     "execution_count": 13,
     "metadata": {},
     "output_type": "execute_result"
    }
   ],
   "source": [
    "from scientistmetrics import r2_mckelvey\n",
    "r2_mckelvey(glm)"
   ]
  },
  {
   "cell_type": "markdown",
   "metadata": {},
   "source": [
    "#### Nagelkerke R2"
   ]
  },
  {
   "cell_type": "code",
   "execution_count": 14,
   "metadata": {},
   "outputs": [
    {
     "data": {
      "text/plain": [
       "0.13799580151192056"
      ]
     },
     "execution_count": 14,
     "metadata": {},
     "output_type": "execute_result"
    }
   ],
   "source": [
    "from scientistmetrics import r2_nagelkerke\n",
    "r2_nagelkerke(glm)"
   ]
  },
  {
   "cell_type": "markdown",
   "metadata": {},
   "source": [
    "#### Somers R2"
   ]
  },
  {
   "cell_type": "code",
   "execution_count": 15,
   "metadata": {},
   "outputs": [
    {
     "data": {
      "text/plain": [
       "SomersDResult(statistic=0.16662340284387528, pvalue=5.331002154717063e-05, table=array([[254,  19],\n",
       "       [ 97,  30]]))"
      ]
     },
     "execution_count": 15,
     "metadata": {},
     "output_type": "execute_result"
    }
   ],
   "source": [
    "from scientistmetrics import r2_somers\n",
    "r2_somers(glm)"
   ]
  },
  {
   "cell_type": "markdown",
   "metadata": {},
   "source": [
    "#### Tjur R2"
   ]
  },
  {
   "cell_type": "code",
   "execution_count": 16,
   "metadata": {},
   "outputs": [
    {
     "data": {
      "text/plain": [
       "0.10178650650542126"
      ]
     },
     "execution_count": 16,
     "metadata": {},
     "output_type": "execute_result"
    }
   ],
   "source": [
    "from scientistmetrics import r2_tjur\n",
    "r2_tjur(glm)"
   ]
  },
  {
   "cell_type": "markdown",
   "metadata": {},
   "source": [
    "#### Recall score"
   ]
  },
  {
   "cell_type": "code",
   "execution_count": 17,
   "metadata": {},
   "outputs": [
    {
     "data": {
      "text/plain": [
       "0.23622047244094488"
      ]
     },
     "execution_count": 17,
     "metadata": {},
     "output_type": "execute_result"
    }
   ],
   "source": [
    "from scientistmetrics import recall_score\n",
    "recall_score(glm)"
   ]
  },
  {
   "cell_type": "markdown",
   "metadata": {},
   "source": [
    "#### Accuracy score"
   ]
  },
  {
   "cell_type": "code",
   "execution_count": 18,
   "metadata": {},
   "outputs": [
    {
     "data": {
      "text/plain": [
       "0.71"
      ]
     },
     "execution_count": 18,
     "metadata": {},
     "output_type": "execute_result"
    }
   ],
   "source": [
    "from scientistmetrics import accuracy_score\n",
    "accuracy_score(glm)"
   ]
  },
  {
   "cell_type": "markdown",
   "metadata": {},
   "source": [
    "#### Average precision score"
   ]
  },
  {
   "cell_type": "code",
   "execution_count": 19,
   "metadata": {},
   "outputs": [
    {
     "data": {
      "text/plain": [
       "0.5127557198205451"
      ]
     },
     "execution_count": 19,
     "metadata": {},
     "output_type": "execute_result"
    }
   ],
   "source": [
    "from scientistmetrics import average_precision_score\n",
    "average_precision_score(glm)"
   ]
  },
  {
   "cell_type": "markdown",
   "metadata": {},
   "source": [
    "#### Balanced accuracy score"
   ]
  },
  {
   "cell_type": "code",
   "execution_count": 20,
   "metadata": {},
   "outputs": [
    {
     "data": {
      "text/plain": [
       "0.5833117014219377"
      ]
     },
     "execution_count": 20,
     "metadata": {},
     "output_type": "execute_result"
    }
   ],
   "source": [
    "from scientistmetrics import balanced_accuracy_score\n",
    "balanced_accuracy_score(glm)"
   ]
  },
  {
   "cell_type": "markdown",
   "metadata": {},
   "source": [
    "#### Brier score loss"
   ]
  },
  {
   "cell_type": "code",
   "execution_count": 21,
   "metadata": {},
   "outputs": [
    {
     "data": {
      "text/plain": [
       "0.19471396415242848"
      ]
     },
     "execution_count": 21,
     "metadata": {},
     "output_type": "execute_result"
    }
   ],
   "source": [
    "from scientistmetrics import brier_score_loss\n",
    "brier_score_loss(glm)"
   ]
  },
  {
   "cell_type": "markdown",
   "metadata": {},
   "source": [
    "#### Error rate"
   ]
  },
  {
   "cell_type": "code",
   "execution_count": 22,
   "metadata": {},
   "outputs": [
    {
     "data": {
      "text/plain": [
       "0.29000000000000004"
      ]
     },
     "execution_count": 22,
     "metadata": {},
     "output_type": "execute_result"
    }
   ],
   "source": [
    "from scientistmetrics import error_rate\n",
    "error_rate(glm)"
   ]
  },
  {
   "cell_type": "markdown",
   "metadata": {},
   "source": [
    "#### AIC"
   ]
  },
  {
   "cell_type": "code",
   "execution_count": 23,
   "metadata": {},
   "outputs": [
    {
     "data": {
      "text/plain": [
       "470.51749247589896"
      ]
     },
     "execution_count": 23,
     "metadata": {},
     "output_type": "execute_result"
    }
   ],
   "source": [
    "from scientistmetrics import extractAIC\n",
    "extractAIC(glm)"
   ]
  },
  {
   "cell_type": "markdown",
   "metadata": {},
   "source": [
    "#### AICC"
   ]
  },
  {
   "cell_type": "code",
   "execution_count": 24,
   "metadata": {},
   "outputs": [
    {
     "data": {
      "text/plain": [
       "470.7312329339142"
      ]
     },
     "execution_count": 24,
     "metadata": {},
     "output_type": "execute_result"
    }
   ],
   "source": [
    "from scientistmetrics import extractAICC\n",
    "extractAICC(glm)"
   ]
  },
  {
   "cell_type": "markdown",
   "metadata": {},
   "source": [
    "#### BIC"
   ]
  },
  {
   "cell_type": "code",
   "execution_count": 25,
   "metadata": {},
   "outputs": [
    {
     "data": {
      "text/plain": [
       "494.4662797585469"
      ]
     },
     "execution_count": 25,
     "metadata": {},
     "output_type": "execute_result"
    }
   ],
   "source": [
    "from scientistmetrics import extractBIC\n",
    "extractBIC(glm)"
   ]
  },
  {
   "cell_type": "markdown",
   "metadata": {},
   "source": [
    "#### f1 score"
   ]
  },
  {
   "cell_type": "code",
   "execution_count": 26,
   "metadata": {},
   "outputs": [
    {
     "data": {
      "text/plain": [
       "0.3409090909090909"
      ]
     },
     "execution_count": 26,
     "metadata": {},
     "output_type": "execute_result"
    }
   ],
   "source": [
    "from scientistmetrics import f1_score\n",
    "f1_score(glm)"
   ]
  },
  {
   "cell_type": "markdown",
   "metadata": {},
   "source": [
    "#### Precision score"
   ]
  },
  {
   "cell_type": "code",
   "execution_count": 27,
   "metadata": {},
   "outputs": [
    {
     "data": {
      "text/plain": [
       "0.6122448979591837"
      ]
     },
     "execution_count": 27,
     "metadata": {},
     "output_type": "execute_result"
    }
   ],
   "source": [
    "from scientistmetrics import precision_score\n",
    "precision_score(glm)"
   ]
  },
  {
   "cell_type": "markdown",
   "metadata": {},
   "source": [
    "#### ggroc"
   ]
  },
  {
   "cell_type": "code",
   "execution_count": 28,
   "metadata": {},
   "outputs": [
    {
     "data": {
      "image/png": "[encoded data removed]",
      "text/plain": [
       "<Figure size 432x288 with 1 Axes>"
      ]
     },
     "metadata": {
      "needs_background": "light"
     },
     "output_type": "display_data"
    },
    {
     "name": "stdout",
     "output_type": "stream",
     "text": [
      "\n"
     ]
    }
   ],
   "source": [
    "from scientistmetrics import ggroc\n",
    "p = ggroc(glm)\n",
    "print(p)"
   ]
  },
  {
   "cell_type": "markdown",
   "metadata": {},
   "source": [
    "#### Roc AUC"
   ]
  },
  {
   "cell_type": "code",
   "execution_count": 29,
   "metadata": {},
   "outputs": [
    {
     "data": {
      "text/plain": [
       "0.6928412794554527"
      ]
     },
     "execution_count": 29,
     "metadata": {},
     "output_type": "execute_result"
    }
   ],
   "source": [
    "from scientistmetrics import roc_auc_score\n",
    "roc_auc_score(glm)"
   ]
  },
  {
   "cell_type": "markdown",
   "metadata": {},
   "source": [
    "#### Hosmer Lemeshow test"
   ]
  },
  {
   "cell_type": "code",
   "execution_count": 30,
   "metadata": {},
   "outputs": [
    {
     "data": {
      "text/plain": [
       "HosmerLemeshowResult(statistic=11.08547199669248, df_denom=8, pvalue=0.1969031159278586)"
      ]
     },
     "execution_count": 30,
     "metadata": {},
     "output_type": "execute_result"
    }
   ],
   "source": [
    "from scientistmetrics import HosmerLemeshowTest\n",
    "HosmerLemeshowTest(glm)"
   ]
  },
  {
   "cell_type": "markdown",
   "metadata": {},
   "source": [
    "#### Likelihood ratio test"
   ]
  },
  {
   "cell_type": "code",
   "execution_count": 31,
   "metadata": {},
   "outputs": [
    {
     "data": {
      "text/plain": [
       "LikelihoodRatioTestResult(statistic=41.45902514596207, pvalue=7.578193995643944e-08)"
      ]
     },
     "execution_count": 31,
     "metadata": {},
     "output_type": "execute_result"
    }
   ],
   "source": [
    "from scientistmetrics import LikelihoodRatioTest\n",
    "LikelihoodRatioTest(glm)"
   ]
  },
  {
   "cell_type": "code",
   "execution_count": 32,
   "metadata": {},
   "outputs": [
    {
     "data": {
      "text/plain": [
       "LikelihoodRatioTestResult(statistic=21.826489208929843, df_denom=3.0, pvalue=7.088456177668665e-05)"
      ]
     },
     "execution_count": 32,
     "metadata": {},
     "output_type": "execute_result"
    }
   ],
   "source": [
    "glm2 = smf.logit(\"admit~gre+gpa\", data = binarie).fit(disp=False)\n",
    "LikelihoodRatioTest(glm,glm2)"
   ]
  },
  {
   "cell_type": "markdown",
   "metadata": {},
   "source": [
    "#### Log loss"
   ]
  },
  {
   "cell_type": "code",
   "execution_count": 33,
   "metadata": {},
   "outputs": [
    {
     "data": {
      "text/plain": [
       "10.452659482843973"
      ]
     },
     "execution_count": 33,
     "metadata": {},
     "output_type": "execute_result"
    }
   ],
   "source": [
    "from scientistmetrics import log_loss\n",
    "log_loss(glm)"
   ]
  },
  {
   "cell_type": "markdown",
   "metadata": {},
   "source": [
    "#### Log - likelihood"
   ]
  },
  {
   "cell_type": "code",
   "execution_count": 34,
   "metadata": {},
   "outputs": [
    {
     "data": {
      "text/plain": [
       "-229.25874623794948"
      ]
     },
     "execution_count": 34,
     "metadata": {},
     "output_type": "execute_result"
    }
   ],
   "source": [
    "from scientistmetrics import logLik\n",
    "logLik(glm)"
   ]
  },
  {
   "cell_type": "markdown",
   "metadata": {},
   "source": [
    "#### Man Withney Test"
   ]
  },
  {
   "cell_type": "code",
   "execution_count": 35,
   "metadata": {},
   "outputs": [
    {
     "data": {
      "text/plain": [
       "MannWhitneyResult(statistic=-0.6678622859927071, pvalue=0.747889248394069)"
      ]
     },
     "execution_count": 35,
     "metadata": {},
     "output_type": "execute_result"
    }
   ],
   "source": [
    "from scientistmetrics import MannWhitneyTest\n",
    "MannWhitneyTest(glm)"
   ]
  },
  {
   "cell_type": "markdown",
   "metadata": {},
   "source": [
    "## Autocorrelation test"
   ]
  },
  {
   "cell_type": "code",
   "execution_count": 36,
   "metadata": {},
   "outputs": [],
   "source": [
    "from scientistmetrics import check_autocorrelation"
   ]
  },
  {
   "cell_type": "markdown",
   "metadata": {},
   "source": [
    "### Durbin watson"
   ]
  },
  {
   "cell_type": "code",
   "execution_count": 37,
   "metadata": {},
   "outputs": [
    {
     "data": {
      "text/plain": [
       "1.9478844329870433"
      ]
     },
     "execution_count": 37,
     "metadata": {},
     "output_type": "execute_result"
    }
   ],
   "source": [
    "check_autocorrelation(glm,test =\"dw\")"
   ]
  },
  {
   "cell_type": "markdown",
   "metadata": {},
   "source": [
    "#### Feasible GLS - Cochrane Orcutt Procedure"
   ]
  },
  {
   "cell_type": "code",
   "execution_count": 38,
   "metadata": {},
   "outputs": [
    {
     "data": {
      "text/plain": [
       "{'coef':           Coef.  Std.Err.         t     P>|t|    [0.025    0.975]\n",
       " const -0.266904  0.216260 -1.234179  0.217874 -0.692075  0.158268\n",
       " x1    -0.162668  0.067832 -2.398084  0.016947 -0.296027 -0.029308\n",
       " x2    -0.289009  0.070413 -4.104479  0.000049 -0.427442 -0.150575\n",
       " x3    -0.324580  0.079494 -4.083091  0.000054 -0.480866 -0.168294\n",
       " x4     0.000419  0.000212  1.976584  0.048787  0.000002  0.000836\n",
       " x5     0.159809  0.064172  2.490336  0.013174  0.033646  0.285971,\n",
       " 'rho': 0.021508516957747754}"
      ]
     },
     "execution_count": 38,
     "metadata": {},
     "output_type": "execute_result"
    }
   ],
   "source": [
    "check_autocorrelation(glm,test=\"corc\")"
   ]
  },
  {
   "cell_type": "markdown",
   "metadata": {},
   "source": [
    "## Residuals"
   ]
  },
  {
   "cell_type": "code",
   "execution_count": 39,
   "metadata": {},
   "outputs": [],
   "source": [
    "from scientistmetrics import residuals"
   ]
  },
  {
   "cell_type": "markdown",
   "metadata": {},
   "source": [
    "#### Model residuals"
   ]
  },
  {
   "cell_type": "code",
   "execution_count": 40,
   "metadata": {},
   "outputs": [
    {
     "data": {
      "text/plain": [
       "0     -0.172627\n",
       "1      0.707825\n",
       "2      0.261592\n",
       "3      0.821615\n",
       "4     -0.118354\n",
       "         ...   \n",
       "395   -0.488670\n",
       "396   -0.165504\n",
       "397   -0.181062\n",
       "398   -0.463667\n",
       "399   -0.300731\n",
       "Length: 400, dtype: float64"
      ]
     },
     "execution_count": 40,
     "metadata": {},
     "output_type": "execute_result"
    }
   ],
   "source": [
    "residuals(glm,choice=\"response\")"
   ]
  },
  {
   "cell_type": "markdown",
   "metadata": {},
   "source": [
    "#### Pearsn residuals"
   ]
  },
  {
   "cell_type": "code",
   "execution_count": 41,
   "metadata": {},
   "outputs": [
    {
     "data": {
      "text/plain": [
       "0     -0.456776\n",
       "1      1.556473\n",
       "2      0.595201\n",
       "3      2.146128\n",
       "4     -0.366390\n",
       "         ...   \n",
       "395   -0.977591\n",
       "396   -0.445341\n",
       "397   -0.470206\n",
       "398   -0.929793\n",
       "399   -0.655793\n",
       "Length: 400, dtype: float64"
      ]
     },
     "execution_count": 41,
     "metadata": {},
     "output_type": "execute_result"
    }
   ],
   "source": [
    "residuals(glm,choice=\"pearson\")"
   ]
  },
  {
   "cell_type": "markdown",
   "metadata": {},
   "source": [
    "#### Deviance residuals"
   ]
  },
  {
   "cell_type": "code",
   "execution_count": 42,
   "metadata": {},
   "outputs": [
    {
     "data": {
      "text/plain": [
       "0     -0.615628\n",
       "1      1.568695\n",
       "2      0.778792\n",
       "3      1.856779\n",
       "4     -0.501925\n",
       "         ...   \n",
       "395   -1.158223\n",
       "396   -0.601544\n",
       "397   -0.632056\n",
       "398   -1.116244\n",
       "399   -0.845836\n",
       "Length: 400, dtype: float64"
      ]
     },
     "execution_count": 42,
     "metadata": {},
     "output_type": "execute_result"
    }
   ],
   "source": [
    "residuals(glm,choice=\"deviance\")"
   ]
  },
  {
   "cell_type": "markdown",
   "metadata": {},
   "source": [
    "### Standardized residuals"
   ]
  },
  {
   "cell_type": "code",
   "execution_count": 43,
   "metadata": {},
   "outputs": [
    {
     "data": {
      "text/plain": [
       "0     -0.461237\n",
       "1      1.564306\n",
       "2      0.602817\n",
       "3      2.164422\n",
       "4     -0.369655\n",
       "         ...   \n",
       "395   -0.984692\n",
       "396   -0.447855\n",
       "397   -0.474159\n",
       "398   -0.934095\n",
       "399   -0.659804\n",
       "Length: 400, dtype: float64"
      ]
     },
     "execution_count": 43,
     "metadata": {},
     "output_type": "execute_result"
    }
   ],
   "source": [
    "from scientistmetrics import rstandard\n",
    "rstandard(glm,choice=\"pearson\")"
   ]
  },
  {
   "cell_type": "code",
   "execution_count": 44,
   "metadata": {},
   "outputs": [
    {
     "data": {
      "text/plain": [
       "0     -0.621641\n",
       "1      1.576591\n",
       "2      0.788757\n",
       "3      1.872606\n",
       "4     -0.506397\n",
       "         ...   \n",
       "395   -1.166635\n",
       "396   -0.604941\n",
       "397   -0.637369\n",
       "398   -1.121409\n",
       "399   -0.851009\n",
       "Length: 400, dtype: float64"
      ]
     },
     "execution_count": 44,
     "metadata": {},
     "output_type": "execute_result"
    }
   ],
   "source": [
    "rstandard(glm,choice=\"deviance\")"
   ]
  },
  {
   "cell_type": "markdown",
   "metadata": {},
   "source": [
    "### Student residuals"
   ]
  },
  {
   "cell_type": "code",
   "execution_count": 45,
   "metadata": {},
   "outputs": [
    {
     "data": {
      "text/plain": [
       "0     -0.618946\n",
       "1      1.576468\n",
       "2      0.784628\n",
       "3      1.877893\n",
       "4     -0.504313\n",
       "         ...   \n",
       "395   -1.164222\n",
       "396   -0.603408\n",
       "397   -0.635002\n",
       "398   -1.119830\n",
       "399   -0.848949\n",
       "Length: 400, dtype: float64"
      ]
     },
     "execution_count": 45,
     "metadata": {},
     "output_type": "execute_result"
    }
   ],
   "source": [
    "from scientistmetrics import rstudent\n",
    "rstudent(glm)"
   ]
  },
  {
   "cell_type": "markdown",
   "metadata": {},
   "source": [
    "### Model performance"
   ]
  },
  {
   "cell_type": "code",
   "execution_count": 46,
   "metadata": {},
   "outputs": [
    {
     "data": {
      "text/plain": [
       "AIC                 470.517492\n",
       "AICC                470.731233\n",
       "BIC                 494.466280\n",
       "accuracy              0.710000\n",
       "r2 mcfadden           0.082922\n",
       "r2 mcfadden adj.      0.066921\n",
       "r2 coxsnell           0.098457\n",
       "r2 naglekerke         0.137996\n",
       "r2 efron              0.101432\n",
       "r2 mckelvey           0.006683\n",
       "r2 count              0.710000\n",
       "r2 count adj.         0.086614\n",
       "r2 tjur               0.101787\n",
       "precision             0.612245\n",
       "recall                0.236220\n",
       "f1 score              0.340909\n",
       "auc                   0.692841\n",
       "Name: statistics, dtype: float64"
      ]
     },
     "execution_count": 46,
     "metadata": {},
     "output_type": "execute_result"
    }
   ],
   "source": [
    "from scientistmetrics import model_performance\n",
    "model_performance(glm,metrics=\"all\")"
   ]
  },
  {
   "cell_type": "markdown",
   "metadata": {},
   "source": [
    "## Model compare"
   ]
  },
  {
   "cell_type": "code",
   "execution_count": 47,
   "metadata": {},
   "outputs": [
    {
     "data": {
      "text/html": [
       "<div>\n",
       "<style scoped>\n",
       "    .dataframe tbody tr th:only-of-type {\n",
       "        vertical-align: middle;\n",
       "    }\n",
       "\n",
       "    .dataframe tbody tr th {\n",
       "        vertical-align: top;\n",
       "    }\n",
       "\n",
       "    .dataframe thead th {\n",
       "        text-align: right;\n",
       "    }\n",
       "</style>\n",
       "<table border=\"1\" class=\"dataframe\">\n",
       "  <thead>\n",
       "    <tr style=\"text-align: right;\">\n",
       "      <th></th>\n",
       "      <th>Name</th>\n",
       "      <th>aic</th>\n",
       "      <th>aicc</th>\n",
       "      <th>bic</th>\n",
       "      <th>Log-Likelihood</th>\n",
       "      <th>pseudo r2</th>\n",
       "      <th>coxsnell r2</th>\n",
       "      <th>nagelkerke r2</th>\n",
       "      <th>accuracy</th>\n",
       "      <th>recall</th>\n",
       "      <th>precision</th>\n",
       "      <th>f1 score</th>\n",
       "      <th>log loss</th>\n",
       "      <th>auc</th>\n",
       "    </tr>\n",
       "  </thead>\n",
       "  <tbody>\n",
       "    <tr>\n",
       "      <th>Model 1</th>\n",
       "      <td>logit</td>\n",
       "      <td>470.517492</td>\n",
       "      <td>470.731233</td>\n",
       "      <td>494.466280</td>\n",
       "      <td>-229.258746</td>\n",
       "      <td>0.082922</td>\n",
       "      <td>0.098457</td>\n",
       "      <td>0.137996</td>\n",
       "      <td>0.71</td>\n",
       "      <td>0.236220</td>\n",
       "      <td>0.612245</td>\n",
       "      <td>0.340909</td>\n",
       "      <td>10.452659</td>\n",
       "      <td>0.692841</td>\n",
       "    </tr>\n",
       "    <tr>\n",
       "      <th>Model 2</th>\n",
       "      <td>logit</td>\n",
       "      <td>486.343982</td>\n",
       "      <td>486.404588</td>\n",
       "      <td>498.318375</td>\n",
       "      <td>-240.171991</td>\n",
       "      <td>0.039267</td>\n",
       "      <td>0.047896</td>\n",
       "      <td>0.067131</td>\n",
       "      <td>0.68</td>\n",
       "      <td>0.070866</td>\n",
       "      <td>0.473684</td>\n",
       "      <td>0.123288</td>\n",
       "      <td>11.533969</td>\n",
       "      <td>0.635416</td>\n",
       "    </tr>\n",
       "  </tbody>\n",
       "</table>\n",
       "</div>"
      ],
      "text/plain": [
       "          Name         aic        aicc         bic  Log-Likelihood  pseudo r2  \\\n",
       "Model 1  logit  470.517492  470.731233  494.466280     -229.258746   0.082922   \n",
       "Model 2  logit  486.343982  486.404588  498.318375     -240.171991   0.039267   \n",
       "\n",
       "         coxsnell r2  nagelkerke r2  accuracy    recall  precision  f1 score  \\\n",
       "Model 1     0.098457       0.137996      0.71  0.236220   0.612245  0.340909   \n",
       "Model 2     0.047896       0.067131      0.68  0.070866   0.473684  0.123288   \n",
       "\n",
       "          log loss       auc  \n",
       "Model 1  10.452659  0.692841  \n",
       "Model 2  11.533969  0.635416  "
      ]
     },
     "execution_count": 47,
     "metadata": {},
     "output_type": "execute_result"
    }
   ],
   "source": [
    "from scientistmetrics import compare_performance\n",
    "compare_performance(model=[glm,glm2])"
   ]
  },
  {
   "cell_type": "markdown",
   "metadata": {},
   "source": [
    "## Power set model"
   ]
  },
  {
   "cell_type": "code",
   "execution_count": 48,
   "metadata": {},
   "outputs": [
    {
     "data": {
      "text/html": [
       "<div>\n",
       "<style scoped>\n",
       "    .dataframe tbody tr th:only-of-type {\n",
       "        vertical-align: middle;\n",
       "    }\n",
       "\n",
       "    .dataframe tbody tr th {\n",
       "        vertical-align: top;\n",
       "    }\n",
       "\n",
       "    .dataframe thead th {\n",
       "        text-align: right;\n",
       "    }\n",
       "</style>\n",
       "<table border=\"1\" class=\"dataframe\">\n",
       "  <thead>\n",
       "    <tr style=\"text-align: right;\">\n",
       "      <th></th>\n",
       "      <th>predictor</th>\n",
       "      <th>count</th>\n",
       "      <th>aic</th>\n",
       "      <th>aicc</th>\n",
       "      <th>bic</th>\n",
       "      <th>r2 mcfadden</th>\n",
       "      <th>r2 cox - snell</th>\n",
       "      <th>r2 nagelkerke</th>\n",
       "      <th>null deviance</th>\n",
       "      <th>resid deviance</th>\n",
       "      <th>...</th>\n",
       "      <th>recall score</th>\n",
       "      <th>f1 score</th>\n",
       "      <th>auc</th>\n",
       "      <th>sensibility</th>\n",
       "      <th>precision</th>\n",
       "      <th>specificity</th>\n",
       "      <th>False Pos. rate</th>\n",
       "      <th>younden index</th>\n",
       "      <th>likelihood ratio</th>\n",
       "      <th>likelihood test ratio</th>\n",
       "    </tr>\n",
       "  </thead>\n",
       "  <tbody>\n",
       "    <tr>\n",
       "      <th>0</th>\n",
       "      <td>gre</td>\n",
       "      <td>1</td>\n",
       "      <td>490.056138</td>\n",
       "      <td>490.086364</td>\n",
       "      <td>498.039067</td>\n",
       "      <td>0.027842</td>\n",
       "      <td>0.034202</td>\n",
       "      <td>0.047937</td>\n",
       "      <td>499.976518</td>\n",
       "      <td>486.056138</td>\n",
       "      <td>...</td>\n",
       "      <td>0.000000</td>\n",
       "      <td>0.000000</td>\n",
       "      <td>0.609371</td>\n",
       "      <td>0.000000</td>\n",
       "      <td>NaN</td>\n",
       "      <td>1.000000</td>\n",
       "      <td>0.000000</td>\n",
       "      <td>0.000000</td>\n",
       "      <td>NaN</td>\n",
       "      <td>27.538645</td>\n",
       "    </tr>\n",
       "    <tr>\n",
       "      <th>1</th>\n",
       "      <td>gpa</td>\n",
       "      <td>1</td>\n",
       "      <td>490.967623</td>\n",
       "      <td>490.997849</td>\n",
       "      <td>498.950552</td>\n",
       "      <td>0.026019</td>\n",
       "      <td>0.031999</td>\n",
       "      <td>0.044849</td>\n",
       "      <td>499.976518</td>\n",
       "      <td>486.967623</td>\n",
       "      <td>...</td>\n",
       "      <td>0.000000</td>\n",
       "      <td>0.000000</td>\n",
       "      <td>0.618586</td>\n",
       "      <td>0.000000</td>\n",
       "      <td>NaN</td>\n",
       "      <td>1.000000</td>\n",
       "      <td>0.000000</td>\n",
       "      <td>0.000000</td>\n",
       "      <td>NaN</td>\n",
       "      <td>28.450130</td>\n",
       "    </tr>\n",
       "    <tr>\n",
       "      <th>2</th>\n",
       "      <td>rank</td>\n",
       "      <td>1</td>\n",
       "      <td>482.966718</td>\n",
       "      <td>483.067984</td>\n",
       "      <td>498.932577</td>\n",
       "      <td>0.050022</td>\n",
       "      <td>0.060610</td>\n",
       "      <td>0.084950</td>\n",
       "      <td>499.976518</td>\n",
       "      <td>474.966718</td>\n",
       "      <td>...</td>\n",
       "      <td>0.259843</td>\n",
       "      <td>0.351064</td>\n",
       "      <td>0.644054</td>\n",
       "      <td>0.259843</td>\n",
       "      <td>0.540984</td>\n",
       "      <td>0.897436</td>\n",
       "      <td>0.102564</td>\n",
       "      <td>0.157278</td>\n",
       "      <td>2.533465</td>\n",
       "      <td>16.449226</td>\n",
       "    </tr>\n",
       "    <tr>\n",
       "      <th>3</th>\n",
       "      <td>gpa+gre</td>\n",
       "      <td>2</td>\n",
       "      <td>486.343982</td>\n",
       "      <td>486.404588</td>\n",
       "      <td>498.318375</td>\n",
       "      <td>0.039267</td>\n",
       "      <td>0.047896</td>\n",
       "      <td>0.067131</td>\n",
       "      <td>499.976518</td>\n",
       "      <td>480.343982</td>\n",
       "      <td>...</td>\n",
       "      <td>0.070866</td>\n",
       "      <td>0.123288</td>\n",
       "      <td>0.635416</td>\n",
       "      <td>0.070866</td>\n",
       "      <td>0.473684</td>\n",
       "      <td>0.963370</td>\n",
       "      <td>0.036630</td>\n",
       "      <td>0.034236</td>\n",
       "      <td>1.934646</td>\n",
       "      <td>21.826489</td>\n",
       "    </tr>\n",
       "    <tr>\n",
       "      <th>4</th>\n",
       "      <td>rank+gre</td>\n",
       "      <td>2</td>\n",
       "      <td>474.531788</td>\n",
       "      <td>474.684072</td>\n",
       "      <td>494.489111</td>\n",
       "      <td>0.070893</td>\n",
       "      <td>0.084799</td>\n",
       "      <td>0.118853</td>\n",
       "      <td>499.976518</td>\n",
       "      <td>464.531788</td>\n",
       "      <td>...</td>\n",
       "      <td>0.212598</td>\n",
       "      <td>0.306818</td>\n",
       "      <td>0.676415</td>\n",
       "      <td>0.212598</td>\n",
       "      <td>0.551020</td>\n",
       "      <td>0.919414</td>\n",
       "      <td>0.080586</td>\n",
       "      <td>0.132012</td>\n",
       "      <td>2.638153</td>\n",
       "      <td>6.014295</td>\n",
       "    </tr>\n",
       "    <tr>\n",
       "      <th>5</th>\n",
       "      <td>rank+gpa</td>\n",
       "      <td>2</td>\n",
       "      <td>472.875252</td>\n",
       "      <td>473.027536</td>\n",
       "      <td>492.832575</td>\n",
       "      <td>0.074206</td>\n",
       "      <td>0.088582</td>\n",
       "      <td>0.124155</td>\n",
       "      <td>499.976518</td>\n",
       "      <td>462.875252</td>\n",
       "      <td>...</td>\n",
       "      <td>0.267717</td>\n",
       "      <td>0.382022</td>\n",
       "      <td>0.680107</td>\n",
       "      <td>0.267717</td>\n",
       "      <td>0.666667</td>\n",
       "      <td>0.937729</td>\n",
       "      <td>0.062271</td>\n",
       "      <td>0.205445</td>\n",
       "      <td>4.299213</td>\n",
       "      <td>4.357759</td>\n",
       "    </tr>\n",
       "    <tr>\n",
       "      <th>6</th>\n",
       "      <td>rank+gpa+gre</td>\n",
       "      <td>3</td>\n",
       "      <td>470.517492</td>\n",
       "      <td>470.731233</td>\n",
       "      <td>494.466280</td>\n",
       "      <td>0.082922</td>\n",
       "      <td>0.098457</td>\n",
       "      <td>0.137996</td>\n",
       "      <td>499.976518</td>\n",
       "      <td>458.517492</td>\n",
       "      <td>...</td>\n",
       "      <td>0.236220</td>\n",
       "      <td>0.340909</td>\n",
       "      <td>0.692841</td>\n",
       "      <td>0.236220</td>\n",
       "      <td>0.612245</td>\n",
       "      <td>0.930403</td>\n",
       "      <td>0.069597</td>\n",
       "      <td>0.166623</td>\n",
       "      <td>3.394115</td>\n",
       "      <td>0.000000</td>\n",
       "    </tr>\n",
       "  </tbody>\n",
       "</table>\n",
       "<p>7 rows × 23 columns</p>\n",
       "</div>"
      ],
      "text/plain": [
       "      predictor  count         aic        aicc         bic  r2 mcfadden  \\\n",
       "0           gre      1  490.056138  490.086364  498.039067     0.027842   \n",
       "1           gpa      1  490.967623  490.997849  498.950552     0.026019   \n",
       "2          rank      1  482.966718  483.067984  498.932577     0.050022   \n",
       "3       gpa+gre      2  486.343982  486.404588  498.318375     0.039267   \n",
       "4      rank+gre      2  474.531788  474.684072  494.489111     0.070893   \n",
       "5      rank+gpa      2  472.875252  473.027536  492.832575     0.074206   \n",
       "6  rank+gpa+gre      3  470.517492  470.731233  494.466280     0.082922   \n",
       "\n",
       "   r2 cox - snell  r2 nagelkerke  null deviance  resid deviance  ...  \\\n",
       "0        0.034202       0.047937     499.976518      486.056138  ...   \n",
       "1        0.031999       0.044849     499.976518      486.967623  ...   \n",
       "2        0.060610       0.084950     499.976518      474.966718  ...   \n",
       "3        0.047896       0.067131     499.976518      480.343982  ...   \n",
       "4        0.084799       0.118853     499.976518      464.531788  ...   \n",
       "5        0.088582       0.124155     499.976518      462.875252  ...   \n",
       "6        0.098457       0.137996     499.976518      458.517492  ...   \n",
       "\n",
       "   recall score  f1 score       auc  sensibility  precision  specificity  \\\n",
       "0      0.000000  0.000000  0.609371     0.000000        NaN     1.000000   \n",
       "1      0.000000  0.000000  0.618586     0.000000        NaN     1.000000   \n",
       "2      0.259843  0.351064  0.644054     0.259843   0.540984     0.897436   \n",
       "3      0.070866  0.123288  0.635416     0.070866   0.473684     0.963370   \n",
       "4      0.212598  0.306818  0.676415     0.212598   0.551020     0.919414   \n",
       "5      0.267717  0.382022  0.680107     0.267717   0.666667     0.937729   \n",
       "6      0.236220  0.340909  0.692841     0.236220   0.612245     0.930403   \n",
       "\n",
       "   False Pos. rate  younden index  likelihood ratio  likelihood test ratio  \n",
       "0         0.000000       0.000000               NaN              27.538645  \n",
       "1         0.000000       0.000000               NaN              28.450130  \n",
       "2         0.102564       0.157278          2.533465              16.449226  \n",
       "3         0.036630       0.034236          1.934646              21.826489  \n",
       "4         0.080586       0.132012          2.638153               6.014295  \n",
       "5         0.062271       0.205445          4.299213               4.357759  \n",
       "6         0.069597       0.166623          3.394115               0.000000  \n",
       "\n",
       "[7 rows x 23 columns]"
      ]
     },
     "execution_count": 48,
     "metadata": {},
     "output_type": "execute_result"
    }
   ],
   "source": [
    "# Powerset model\n",
    "from scientistmetrics import powersetmodel\n",
    "glm_res = powersetmodel(DTrain=binarie,target=\"admit\",split_data=False,model_type=\"logistic\")\n",
    "# All metrics\n",
    "glm_metrics = glm_res[1]\n",
    "glm_metrics"
   ]
  }
 ],
 "metadata": {
  "kernelspec": {
   "display_name": "Python 3",
   "language": "python",
   "name": "python3"
  },
  "language_info": {
   "codemirror_mode": {
    "name": "ipython",
    "version": 3
   },
   "file_extension": ".py",
   "mimetype": "text/x-python",
   "name": "python",
   "nbconvert_exporter": "python",
   "pygments_lexer": "ipython3",
   "version": "3.10.5"
  }
 },
 "nbformat": 4,
 "nbformat_minor": 2
}
