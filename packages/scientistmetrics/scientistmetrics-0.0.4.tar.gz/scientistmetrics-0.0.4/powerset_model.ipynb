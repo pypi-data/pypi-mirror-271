{
 "cells": [
  {
   "cell_type": "markdown",
   "metadata": {},
   "source": [
    "# Powerset model\n",
    "\n",
    "[linear regression dataset](https://www.telusinternational.com/insights/ai-data/article/10-open-datasets-for-linear-regression)\n",
    "\n",
    "[logistic regression dataset](https://sushtend.com/machine-learning/datasets-for-practicing-logistic-regression/)\n",
    "\n",
    "[Machine learning with R datasets](https://github.com/stedy/Machine-Learning-with-R-datasets)\n",
    "\n",
    "## Linear regression"
   ]
  },
  {
   "cell_type": "code",
   "execution_count": 1,
   "metadata": {},
   "outputs": [],
   "source": [
    "# warnings message\n",
    "import warnings\n",
    "warnings.simplefilter(action='ignore', category=FutureWarning)\n",
    "warnings.filterwarnings(\"ignore\")"
   ]
  },
  {
   "cell_type": "code",
   "execution_count": 2,
   "metadata": {},
   "outputs": [
    {
     "data": {
      "text/html": [
       "<div>\n",
       "<style scoped>\n",
       "    .dataframe tbody tr th:only-of-type {\n",
       "        vertical-align: middle;\n",
       "    }\n",
       "\n",
       "    .dataframe tbody tr th {\n",
       "        vertical-align: top;\n",
       "    }\n",
       "\n",
       "    .dataframe thead th {\n",
       "        text-align: right;\n",
       "    }\n",
       "</style>\n",
       "<table border=\"1\" class=\"dataframe\">\n",
       "  <thead>\n",
       "    <tr style=\"text-align: right;\">\n",
       "      <th></th>\n",
       "      <th>age</th>\n",
       "      <th>sex</th>\n",
       "      <th>bmi</th>\n",
       "      <th>children</th>\n",
       "      <th>smoker</th>\n",
       "      <th>region</th>\n",
       "      <th>charges</th>\n",
       "    </tr>\n",
       "  </thead>\n",
       "  <tbody>\n",
       "    <tr>\n",
       "      <th>0</th>\n",
       "      <td>19</td>\n",
       "      <td>female</td>\n",
       "      <td>27.900</td>\n",
       "      <td>0</td>\n",
       "      <td>yes</td>\n",
       "      <td>southwest</td>\n",
       "      <td>16884.92400</td>\n",
       "    </tr>\n",
       "    <tr>\n",
       "      <th>1</th>\n",
       "      <td>18</td>\n",
       "      <td>male</td>\n",
       "      <td>33.770</td>\n",
       "      <td>1</td>\n",
       "      <td>no</td>\n",
       "      <td>southeast</td>\n",
       "      <td>1725.55230</td>\n",
       "    </tr>\n",
       "    <tr>\n",
       "      <th>2</th>\n",
       "      <td>28</td>\n",
       "      <td>male</td>\n",
       "      <td>33.000</td>\n",
       "      <td>3</td>\n",
       "      <td>no</td>\n",
       "      <td>southeast</td>\n",
       "      <td>4449.46200</td>\n",
       "    </tr>\n",
       "    <tr>\n",
       "      <th>3</th>\n",
       "      <td>33</td>\n",
       "      <td>male</td>\n",
       "      <td>22.705</td>\n",
       "      <td>0</td>\n",
       "      <td>no</td>\n",
       "      <td>northwest</td>\n",
       "      <td>21984.47061</td>\n",
       "    </tr>\n",
       "    <tr>\n",
       "      <th>4</th>\n",
       "      <td>32</td>\n",
       "      <td>male</td>\n",
       "      <td>28.880</td>\n",
       "      <td>0</td>\n",
       "      <td>no</td>\n",
       "      <td>northwest</td>\n",
       "      <td>3866.85520</td>\n",
       "    </tr>\n",
       "  </tbody>\n",
       "</table>\n",
       "</div>"
      ],
      "text/plain": [
       "   age     sex     bmi  children smoker     region      charges\n",
       "0   19  female  27.900         0    yes  southwest  16884.92400\n",
       "1   18    male  33.770         1     no  southeast   1725.55230\n",
       "2   28    male  33.000         3     no  southeast   4449.46200\n",
       "3   33    male  22.705         0     no  northwest  21984.47061\n",
       "4   32    male  28.880         0     no  northwest   3866.85520"
      ]
     },
     "execution_count": 2,
     "metadata": {},
     "output_type": "execute_result"
    }
   ],
   "source": [
    "# Load dataset\n",
    "import pandas as pd\n",
    "\n",
    "insurance = pd.read_csv(\"./data/insurance.csv\",sep=\",\")\n",
    "insurance.head()"
   ]
  },
  {
   "cell_type": "code",
   "execution_count": 3,
   "metadata": {},
   "outputs": [
    {
     "name": "stdout",
     "output_type": "stream",
     "text": [
      "<class 'pandas.core.frame.DataFrame'>\n",
      "RangeIndex: 1338 entries, 0 to 1337\n",
      "Data columns (total 7 columns):\n",
      " #   Column    Non-Null Count  Dtype  \n",
      "---  ------    --------------  -----  \n",
      " 0   age       1338 non-null   int64  \n",
      " 1   sex       1338 non-null   object \n",
      " 2   bmi       1338 non-null   float64\n",
      " 3   children  1338 non-null   int64  \n",
      " 4   smoker    1338 non-null   object \n",
      " 5   region    1338 non-null   object \n",
      " 6   charges   1338 non-null   float64\n",
      "dtypes: float64(2), int64(2), object(3)\n",
      "memory usage: 73.3+ KB\n"
     ]
    }
   ],
   "source": [
    "insurance.info()"
   ]
  },
  {
   "cell_type": "code",
   "execution_count": 4,
   "metadata": {},
   "outputs": [],
   "source": [
    "# Powerset\n",
    "from scientistmetrics import powersetmodel"
   ]
  },
  {
   "cell_type": "markdown",
   "metadata": {},
   "source": [
    "## [Insurance dataset](https://www.kaggle.com/datasets/mirichoi0218/insurance)"
   ]
  },
  {
   "cell_type": "code",
   "execution_count": 5,
   "metadata": {},
   "outputs": [],
   "source": [
    "#powersetmodel( )"
   ]
  },
  {
   "cell_type": "code",
   "execution_count": 6,
   "metadata": {},
   "outputs": [],
   "source": [
    "# Powerset model\n",
    "ols_res = powersetmodel(DTrain=insurance,target=\"charges\")\n",
    "ols_model = ols_res[0]"
   ]
  },
  {
   "cell_type": "code",
   "execution_count": 7,
   "metadata": {},
   "outputs": [
    {
     "name": "stdout",
     "output_type": "stream",
     "text": [
      "                             predictor  count           aic          aicc  \\\n",
      "0                                  age      1  20146.184782  20146.197643   \n",
      "1                                  sex      1  20238.440934  20238.453796   \n",
      "2                                  bmi      1  20207.571639  20207.584501   \n",
      "3                             children      1  20236.034544  20236.047406   \n",
      "4                               smoker      1  19315.215249  19315.228111   \n",
      "..                                 ...    ...           ...           ...   \n",
      "58           bmi+region+smoker+age+sex      5  18939.761117  18939.916457   \n",
      "59      region+smoker+children+age+sex      5  19026.745683  19026.901023   \n",
      "60      bmi+region+smoker+children+age      5  18930.239296  18930.394636   \n",
      "61      bmi+region+smoker+children+sex      5  19203.364541  19203.519880   \n",
      "62  bmi+region+smoker+children+age+sex      6  18930.305506  18930.499891   \n",
      "\n",
      "             bic  rsquared  adj. rsquared  expl. var. score     max error  \\\n",
      "0   20155.868013  0.096975       0.096008          0.075113  48034.926674   \n",
      "1   20248.124165  0.003434       0.002367          0.003001  48737.463817   \n",
      "2   20217.254870  0.035765       0.034733          0.047078  49574.260434   \n",
      "3   20245.717775  0.005993       0.004929          0.001336  50259.979313   \n",
      "4   19324.898480  0.628346       0.627948          0.600764  30279.845834   \n",
      "..           ...       ...            ...               ...           ...   \n",
      "58  18978.494041  0.754323       0.752470          0.733238  29957.831151   \n",
      "59  19065.478607  0.730398       0.728364          0.708360  29562.578097   \n",
      "60  18968.972220  0.756810       0.754976          0.735663  30315.837344   \n",
      "61  19242.097464  0.674408       0.671952          0.636199  32269.076471   \n",
      "62  18973.880045  0.757312       0.755217          0.733661  30543.928969   \n",
      "\n",
      "            mae      mape           mse          rmse         mdae        r2  \\\n",
      "0   9191.933457  1.101783  1.421230e+08  11921.535549  6457.531701  0.070903   \n",
      "1   9280.790422  1.507500  1.526449e+08  12354.953478  7554.988847  0.002118   \n",
      "2   9185.404738  1.489000  1.459849e+08  12082.422679  7252.819945  0.045656   \n",
      "3   9319.556254  1.468374  1.528720e+08  12364.139862  8085.666225  0.000634   \n",
      "4   5912.169213  0.865078  6.111678e+07   7817.721913  4570.928400  0.600463   \n",
      "..          ...       ...           ...           ...          ...       ...   \n",
      "58  4342.902276  0.445015  4.090282e+07   6395.531494  2463.127876  0.732607   \n",
      "59  4285.518203  0.326734  4.465032e+07   6682.089517  1762.900790  0.708109   \n",
      "60  4273.346363  0.421702  4.052223e+07   6365.707636  2371.524976  0.735095   \n",
      "61  5623.417444  0.820317  5.566241e+07   7460.724777  4349.769423  0.636119   \n",
      "62  4302.712108  0.424122  4.082445e+07   6389.400994  2328.982072  0.733119   \n",
      "\n",
      "    likelihood test ratio  \n",
      "0             1229.879276  \n",
      "1             1322.135428  \n",
      "2             1291.266133  \n",
      "3             1319.729038  \n",
      "4              398.909743  \n",
      "..                    ...  \n",
      "58              11.455611  \n",
      "59              98.440177  \n",
      "60               1.933790  \n",
      "61             275.059035  \n",
      "62               0.000000  \n",
      "\n",
      "[63 rows x 16 columns]\n"
     ]
    }
   ],
   "source": [
    "ols_metrics = ols_res[1]\n",
    "print(ols_metrics)"
   ]
  },
  {
   "cell_type": "markdown",
   "metadata": {},
   "source": [
    "## Logistic regression"
   ]
  },
  {
   "cell_type": "markdown",
   "metadata": {},
   "source": [
    "## [Diabetes]()"
   ]
  },
  {
   "cell_type": "code",
   "execution_count": 8,
   "metadata": {},
   "outputs": [
    {
     "name": "stdout",
     "output_type": "stream",
     "text": [
      "<class 'pandas.core.frame.DataFrame'>\n",
      "RangeIndex: 768 entries, 0 to 767\n",
      "Data columns (total 9 columns):\n",
      " #   Column                    Non-Null Count  Dtype  \n",
      "---  ------                    --------------  -----  \n",
      " 0   Pregnancies               768 non-null    int64  \n",
      " 1   Glucose                   768 non-null    int64  \n",
      " 2   BloodPressure             768 non-null    int64  \n",
      " 3   SkinThickness             768 non-null    int64  \n",
      " 4   Insulin                   768 non-null    int64  \n",
      " 5   BMI                       768 non-null    float64\n",
      " 6   DiabetesPedigreeFunction  768 non-null    float64\n",
      " 7   Age                       768 non-null    int64  \n",
      " 8   Outcome                   768 non-null    int64  \n",
      "dtypes: float64(2), int64(7)\n",
      "memory usage: 54.1 KB\n"
     ]
    }
   ],
   "source": [
    "# Load datasets\n",
    "diabetes = pd.read_csv(\"./data/diabetes.csv\",sep=\",\")\n",
    "diabetes.info()"
   ]
  },
  {
   "cell_type": "code",
   "execution_count": 9,
   "metadata": {},
   "outputs": [],
   "source": [
    "glm_res = powersetmodel(DTrain=diabetes,split_data=False,target=\"Outcome\",model_type = \"logistic\",num_from=2,num_to=3)\n",
    "glm_model = glm_res[0]"
   ]
  },
  {
   "cell_type": "code",
   "execution_count": 10,
   "metadata": {},
   "outputs": [
    {
     "name": "stdout",
     "output_type": "stream",
     "text": [
      "                                     predictor  count         aic        aicc  \\\n",
      "0                          Glucose+Pregnancies      2  790.949984  790.981398   \n",
      "1                    BloodPressure+Pregnancies      2  961.255314  961.286728   \n",
      "2                    SkinThickness+Pregnancies      2  955.362685  955.394099   \n",
      "3                          Pregnancies+Insulin      2  945.340140  945.371554   \n",
      "4                              BMI+Pregnancies      2  887.143848  887.175261   \n",
      "..                                         ...    ...         ...         ...   \n",
      "79  SkinThickness+Age+DiabetesPedigreeFunction      3  932.701545  932.753970   \n",
      "80        BMI+DiabetesPedigreeFunction+Insulin      3  912.372026  912.424450   \n",
      "81                             BMI+Age+Insulin      3  877.795909  877.848334   \n",
      "82        DiabetesPedigreeFunction+Age+Insulin      3  926.850265  926.902690   \n",
      "83            BMI+Age+DiabetesPedigreeFunction      3  870.006943  870.059367   \n",
      "\n",
      "           bic  r2 mcfadden  r2 cox - snell  r2 nagelkerke  null deviance  \\\n",
      "0   804.881354     0.209902        0.237786       0.327657      993.48391   \n",
      "1   975.186683     0.038479        0.048558       0.066911      993.48391   \n",
      "2   969.294054     0.044411        0.055830       0.076931      993.48391   \n",
      "3   959.271509     0.054499        0.068072       0.093799      993.48391   \n",
      "4   901.075217     0.113077        0.136081       0.187512      993.48391   \n",
      "..         ...          ...             ...            ...            ...   \n",
      "79  951.276704     0.069233        0.085667       0.118044      993.48391   \n",
      "80  930.947185     0.089696        0.109552       0.150957      993.48391   \n",
      "81  896.371068     0.124499        0.148752       0.204973      993.48391   \n",
      "82  945.425424     0.075123        0.092607       0.127607      993.48391   \n",
      "83  888.582102     0.132339        0.157342       0.216809      993.48391   \n",
      "\n",
      "    resid deviance  ...  recall score  f1 score       auc  sensibility  \\\n",
      "0       784.949984  ...      0.503731  0.580645  0.805440     0.503731   \n",
      "1       955.255314  ...      0.182836  0.277620  0.628586     0.182836   \n",
      "2       949.362685  ...      0.208955  0.312849  0.641407     0.208955   \n",
      "3       939.340140  ...      0.235075  0.331579  0.650235     0.235075   \n",
      "4       881.143848  ...      0.332090  0.425837  0.721358     0.332090   \n",
      "..             ...  ...           ...       ...       ...          ...   \n",
      "79      924.701545  ...      0.253731  0.342569  0.698474     0.253731   \n",
      "80      904.372026  ...      0.283582  0.380952  0.713731     0.283582   \n",
      "81      869.795909  ...      0.358209  0.445476  0.740590     0.358209   \n",
      "82      918.850265  ...      0.235075  0.324742  0.704776     0.235075   \n",
      "83      862.006943  ...      0.380597  0.463636  0.751433     0.380597   \n",
      "\n",
      "    precision  specificity  False Pos. rate  younden index  likelihood ratio  \\\n",
      "0    0.685279        0.876            0.124       0.379731          4.062350   \n",
      "1    0.576471        0.928            0.072       0.110836          2.539386   \n",
      "2    0.622222        0.932            0.068       0.140955          3.072871   \n",
      "3    0.562500        0.902            0.098       0.137075          2.398721   \n",
      "4    0.593333        0.878            0.122       0.210090          2.722046   \n",
      "..        ...          ...              ...            ...               ...   \n",
      "79   0.527132        0.878            0.122       0.131731          2.079765   \n",
      "80   0.580153        0.890            0.110       0.173582          2.578019   \n",
      "81   0.588957        0.866            0.134       0.224209          2.673201   \n",
      "82   0.525000        0.886            0.114       0.121075          2.062058   \n",
      "83   0.593023        0.860            0.140       0.240597          2.718550   \n",
      "\n",
      "    likelihood test ratio  \n",
      "0              -77.056958  \n",
      "1               93.248371  \n",
      "2               87.355742  \n",
      "3               77.333197  \n",
      "4               19.136905  \n",
      "..                    ...  \n",
      "79              62.694603  \n",
      "80              42.365083  \n",
      "81               7.788966  \n",
      "82              56.843322  \n",
      "83               0.000000  \n",
      "\n",
      "[84 rows x 23 columns]\n"
     ]
    }
   ],
   "source": [
    "glm_metrics = glm_res[1]\n",
    "print(glm_metrics)"
   ]
  }
 ],
 "metadata": {
  "kernelspec": {
   "display_name": "Python 3",
   "language": "python",
   "name": "python3"
  },
  "language_info": {
   "codemirror_mode": {
    "name": "ipython",
    "version": 3
   },
   "file_extension": ".py",
   "mimetype": "text/x-python",
   "name": "python",
   "nbconvert_exporter": "python",
   "pygments_lexer": "ipython3",
   "version": "3.10.5"
  },
  "orig_nbformat": 4
 },
 "nbformat": 4,
 "nbformat_minor": 2
}
