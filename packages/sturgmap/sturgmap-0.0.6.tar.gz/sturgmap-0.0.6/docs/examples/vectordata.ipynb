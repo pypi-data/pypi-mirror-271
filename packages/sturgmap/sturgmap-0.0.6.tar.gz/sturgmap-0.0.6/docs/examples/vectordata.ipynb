{
 "cells": [
  {
   "cell_type": "markdown",
   "metadata": {},
   "source": [
    "[![image](https://colab.research.google.com/assets/colab-badge.svg)](https://githubtocolab.com/nathansturgill/sturgmap/blob/main/docs/examples/vectordata.ipynb)\n",
    "\n"
   ]
  },
  {
   "cell_type": "code",
   "execution_count": 1,
   "metadata": {},
   "outputs": [],
   "source": [
    "from ipyleaflet import basemaps"
   ]
  },
  {
   "cell_type": "code",
   "execution_count": 2,
   "metadata": {},
   "outputs": [
    {
     "data": {
      "text/html": [
       "\n",
       "        <div>\n",
       "        <style>\n",
       "/* CSS stylesheet for displaying xyzservices objects in Jupyter.*/\n",
       ".xyz-wrap {\n",
       "    --xyz-border-color: var(--jp-border-color2, #ddd);\n",
       "    --xyz-font-color2: var(--jp-content-font-color2, rgba(128, 128, 128, 1));\n",
       "    --xyz-background-color-white: var(--jp-layout-color1, white);\n",
       "    --xyz-background-color: var(--jp-layout-color2, rgba(128, 128, 128, 0.1));\n",
       "}\n",
       "\n",
       "html[theme=dark] .xyz-wrap,\n",
       "body.vscode-dark .xyz-wrap,\n",
       "body.vscode-high-contrast .xyz-wrap {\n",
       "    --xyz-border-color: #222;\n",
       "    --xyz-font-color2: rgba(255, 255, 255, 0.54);\n",
       "    --xyz-background-color-white: rgba(255, 255, 255, 1);\n",
       "    --xyz-background-color: rgba(255, 255, 255, 0.05);\n",
       "\n",
       "}\n",
       "\n",
       ".xyz-header {\n",
       "    padding-top: 6px;\n",
       "    padding-bottom: 6px;\n",
       "    margin-bottom: 4px;\n",
       "    border-bottom: solid 1px var(--xyz-border-color);\n",
       "}\n",
       "\n",
       ".xyz-header>div {\n",
       "    display: inline;\n",
       "    margin-top: 0;\n",
       "    margin-bottom: 0;\n",
       "}\n",
       "\n",
       ".xyz-obj,\n",
       ".xyz-name {\n",
       "    margin-left: 2px;\n",
       "    margin-right: 10px;\n",
       "}\n",
       "\n",
       ".xyz-obj {\n",
       "    color: var(--xyz-font-color2);\n",
       "}\n",
       "\n",
       ".xyz-attrs {\n",
       "    grid-column: 1 / -1;\n",
       "}\n",
       "\n",
       "dl.xyz-attrs {\n",
       "    padding: 0 5px 0 5px;\n",
       "    margin: 0;\n",
       "    display: grid;\n",
       "    grid-template-columns: 135px auto;\n",
       "    background-color: var(--xyz-background-color);\n",
       "}\n",
       "\n",
       ".xyz-attrs dt,\n",
       "dd {\n",
       "    padding: 0;\n",
       "    margin: 0;\n",
       "    float: left;\n",
       "    padding-right: 10px;\n",
       "    width: auto;\n",
       "}\n",
       "\n",
       ".xyz-attrs dt {\n",
       "    font-weight: normal;\n",
       "    grid-column: 1;\n",
       "}\n",
       "\n",
       ".xyz-attrs dd {\n",
       "    grid-column: 2;\n",
       "    white-space: pre-wrap;\n",
       "    word-break: break-all;\n",
       "}\n",
       "\n",
       ".xyz-details ul>li>label>span {\n",
       "    color: var(--xyz-font-color2);\n",
       "    padding-left: 10px;\n",
       "}\n",
       "\n",
       ".xyz-inside {\n",
       "    display: none;\n",
       "}\n",
       "\n",
       ".xyz-checkbox:checked~.xyz-inside {\n",
       "    display: contents;\n",
       "}\n",
       "\n",
       ".xyz-collapsible li>input {\n",
       "    display: none;\n",
       "}\n",
       "\n",
       ".xyz-collapsible>li>label {\n",
       "    cursor: pointer;\n",
       "}\n",
       "\n",
       ".xyz-collapsible>li>label:hover {\n",
       "    color: var(--xyz-font-color2);\n",
       "}\n",
       "\n",
       "ul.xyz-collapsible {\n",
       "    list-style: none!important;\n",
       "    padding-left: 20px!important;\n",
       "}\n",
       "\n",
       ".xyz-checkbox+label:before {\n",
       "    content: '►';\n",
       "    font-size: 11px;\n",
       "}\n",
       "\n",
       ".xyz-checkbox:checked+label:before {\n",
       "    content: '▼';\n",
       "}\n",
       "\n",
       ".xyz-wrap {\n",
       "    margin-bottom: 10px;\n",
       "}\n",
       "</style>\n",
       "            <div class=\"xyz-wrap\">\n",
       "                <div class=\"xyz-header\">\n",
       "                    <div class=\"xyz-obj\">xyzservices.TileProvider</div>\n",
       "                    <div class=\"xyz-name\">OpenTopoMap</div>\n",
       "                </div>\n",
       "                <div class=\"xyz-details\">\n",
       "                    <dl class=\"xyz-attrs\">\n",
       "                        <dt><span>url</span></dt><dd>https://{s}.tile.opentopomap.org/{z}/{x}/{y}.png</dd><dt><span>max_zoom</span></dt><dd>17</dd><dt><span>html_attribution</span></dt><dd>Map data: &copy; <a href=\"https://www.openstreetmap.org/copyright\">OpenStreetMap</a> contributors, <a href=\"http://viewfinderpanoramas.org\">SRTM</a> | Map style: &copy; <a href=\"https://opentopomap.org\">OpenTopoMap</a> (<a href=\"https://creativecommons.org/licenses/by-sa/3.0/\">CC-BY-SA</a>)</dd><dt><span>attribution</span></dt><dd>Map data: (C) OpenStreetMap contributors, SRTM | Map style: (C) OpenTopoMap (CC-BY-SA)</dd>\n",
       "                    </dl>\n",
       "                </div>\n",
       "            </div>\n",
       "        </div>\n",
       "        "
      ],
      "text/plain": [
       "{'url': 'https://{s}.tile.opentopomap.org/{z}/{x}/{y}.png',\n",
       " 'max_zoom': 17,\n",
       " 'html_attribution': 'Map data: &copy; <a href=\"https://www.openstreetmap.org/copyright\">OpenStreetMap</a> contributors, <a href=\"http://viewfinderpanoramas.org\">SRTM</a> | Map style: &copy; <a href=\"https://opentopomap.org\">OpenTopoMap</a> (<a href=\"https://creativecommons.org/licenses/by-sa/3.0/\">CC-BY-SA</a>)',\n",
       " 'attribution': 'Map data: (C) OpenStreetMap contributors, SRTM | Map style: (C) OpenTopoMap (CC-BY-SA)',\n",
       " 'name': 'OpenTopoMap'}"
      ]
     },
     "execution_count": 2,
     "metadata": {},
     "output_type": "execute_result"
    }
   ],
   "source": [
    "basemaps.OpenTopoMap"
   ]
  },
  {
   "cell_type": "code",
   "execution_count": 3,
   "metadata": {},
   "outputs": [],
   "source": [
    "import sturgmap"
   ]
  },
  {
   "cell_type": "code",
   "execution_count": 4,
   "metadata": {},
   "outputs": [],
   "source": [
    "url=eval(\"basemaps.OpenTopoMap\").build_url()"
   ]
  },
  {
   "cell_type": "code",
   "execution_count": 5,
   "metadata": {},
   "outputs": [
    {
     "data": {
      "application/vnd.jupyter.widget-view+json": {
       "model_id": "66167bae5b1d4e3babee3fa991dd8ada",
       "version_major": 2,
       "version_minor": 0
      },
      "text/plain": [
       "Map(center=[20, 0], controls=(ZoomControl(options=['position', 'zoom_in_text', 'zoom_in_title', 'zoom_out_text…"
      ]
     },
     "metadata": {},
     "output_type": "display_data"
    }
   ],
   "source": [
    "m= sturgmap.Map()\n",
    "m.add_basemap(\"NASAGIBS.ModisAquaBands721CR\")\n",
    "\n",
    "m"
   ]
  },
  {
   "cell_type": "code",
   "execution_count": 6,
   "metadata": {},
   "outputs": [
    {
     "data": {
      "application/vnd.jupyter.widget-view+json": {
       "model_id": "1dd18228843e4dc3bfc163054f880c62",
       "version_major": 2,
       "version_minor": 0
      },
      "text/plain": [
       "Map(center=[20, 0], controls=(ZoomControl(options=['position', 'zoom_in_text', 'zoom_in_title', 'zoom_out_text…"
      ]
     },
     "metadata": {},
     "output_type": "display_data"
    }
   ],
   "source": [
    "m= sturgmap.Map()\n",
    "m.add_basemap(\"OpenTopoMap\")\n",
    "m.add_geojson(\"countries.geojson\", style={\"color\": \"blue\"}, hover_style={\"fillColor\": \"#ff0000\"})\n",
    "m\n",
    "\n"
   ]
  },
  {
   "cell_type": "code",
   "execution_count": 7,
   "metadata": {},
   "outputs": [
    {
     "name": "stdout",
     "output_type": "stream",
     "text": [
      "Error reading vector data from file: name 'gpd' is not defined\n"
     ]
    },
    {
     "data": {
      "application/vnd.jupyter.widget-view+json": {
       "model_id": "239806733f584b038044cf7289431246",
       "version_major": 2,
       "version_minor": 0
      },
      "text/plain": [
       "Map(center=[20, 0], controls=(ZoomControl(options=['position', 'zoom_in_text', 'zoom_in_title', 'zoom_out_text…"
      ]
     },
     "metadata": {},
     "output_type": "display_data"
    }
   ],
   "source": [
    "m= sturgmap.Map()\n",
    "m.add_vector(\"europe_110.geo.json\")\n",
    "m\n"
   ]
  },
  {
   "cell_type": "markdown",
   "metadata": {},
   "source": []
  },
  {
   "cell_type": "code",
   "execution_count": 8,
   "metadata": {},
   "outputs": [
    {
     "data": {
      "application/vnd.jupyter.widget-view+json": {
       "model_id": "2d76d4136acc4715a5cd8b05039e58cc",
       "version_major": 2,
       "version_minor": 0
      },
      "text/plain": [
       "Map(center=[20, 0], controls=(ZoomControl(options=['position', 'zoom_in_text', 'zoom_in_title', 'zoom_out_text…"
      ]
     },
     "metadata": {},
     "output_type": "display_data"
    }
   ],
   "source": [
    "m=sturgmap.Map()\n",
    "m.add_shp(\"countries1.shp\", name=\"countries\")\n",
    "m\n"
   ]
  },
  {
   "cell_type": "code",
   "execution_count": null,
   "metadata": {},
   "outputs": [],
   "source": []
  }
 ],
 "metadata": {
  "kernelspec": {
   "display_name": "geo",
   "language": "python",
   "name": "python3"
  },
  "language_info": {
   "codemirror_mode": {
    "name": "ipython",
    "version": 3
   },
   "file_extension": ".py",
   "mimetype": "text/x-python",
   "name": "python",
   "nbconvert_exporter": "python",
   "pygments_lexer": "ipython3",
   "version": "3.11.7"
  }
 },
 "nbformat": 4,
 "nbformat_minor": 2
}
