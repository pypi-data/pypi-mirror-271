{
 "cells": [
  {
   "cell_type": "code",
   "execution_count": 1,
   "id": "7c1e7136-a80d-4e78-aa87-29e6cad4df58",
   "metadata": {},
   "outputs": [],
   "source": [
    "# Generate the video for the env with a trained model"
   ]
  },
  {
   "cell_type": "code",
   "execution_count": 2,
   "id": "89d4bff2-26be-4d2e-8f65-68c1e7669744",
   "metadata": {},
   "outputs": [
    {
     "ename": "ModuleNotFoundError",
     "evalue": "No module named 'torchdriveenv'",
     "output_type": "error",
     "traceback": [
      "\u001b[0;31m---------------------------------------------------------------------------\u001b[0m",
      "\u001b[0;31mModuleNotFoundError\u001b[0m                       Traceback (most recent call last)",
      "Cell \u001b[0;32mIn[2], line 7\u001b[0m\n\u001b[1;32m      4\u001b[0m \u001b[38;5;28;01mfrom\u001b[39;00m \u001b[38;5;21;01mstable_baselines3\u001b[39;00m\u001b[38;5;21;01m.\u001b[39;00m\u001b[38;5;21;01mcommon\u001b[39;00m\u001b[38;5;21;01m.\u001b[39;00m\u001b[38;5;21;01mmonitor\u001b[39;00m \u001b[38;5;28;01mimport\u001b[39;00m Monitor\n\u001b[1;32m      5\u001b[0m \u001b[38;5;28;01mfrom\u001b[39;00m \u001b[38;5;21;01mstable_baselines3\u001b[39;00m\u001b[38;5;21;01m.\u001b[39;00m\u001b[38;5;21;01mcommon\u001b[39;00m\u001b[38;5;21;01m.\u001b[39;00m\u001b[38;5;21;01mvec_env\u001b[39;00m \u001b[38;5;28;01mimport\u001b[39;00m VecFrameStack, DummyVecEnv, SubprocVecEnv\n\u001b[0;32m----> 7\u001b[0m \u001b[38;5;28;01mimport\u001b[39;00m \u001b[38;5;21;01mtorchdriveenv\u001b[39;00m\n\u001b[1;32m      8\u001b[0m \u001b[38;5;28;01mfrom\u001b[39;00m \u001b[38;5;21;01mtorchdriveenv\u001b[39;00m\u001b[38;5;21;01m.\u001b[39;00m\u001b[38;5;21;01menv_utils\u001b[39;00m \u001b[38;5;28;01mimport\u001b[39;00m load_default_validation_data\n\u001b[1;32m      9\u001b[0m \u001b[38;5;28;01mfrom\u001b[39;00m \u001b[38;5;21;01mtorchdriveenv\u001b[39;00m\u001b[38;5;21;01m.\u001b[39;00m\u001b[38;5;21;01mgym_env\u001b[39;00m \u001b[38;5;28;01mimport\u001b[39;00m EnvConfig\n",
      "\u001b[0;31mModuleNotFoundError\u001b[0m: No module named 'torchdriveenv'"
     ]
    }
   ],
   "source": [
    "import numpy as np\n",
    "import gymnasium as gym\n",
    "from stable_baselines3 import PPO, SAC, TD3\n",
    "from stable_baselines3.common.monitor import Monitor\n",
    "from stable_baselines3.common.vec_env import VecFrameStack, DummyVecEnv, SubprocVecEnv\n",
    "\n",
    "import torchdriveenv\n",
    "from torchdriveenv.env_utils import load_default_validation_data\n",
    "from torchdriveenv.gym_env import EnvConfig"
   ]
  },
  {
   "cell_type": "code",
   "execution_count": null,
   "id": "2696bb6b-cc8f-419d-ace1-ddc8d08eabd4",
   "metadata": {},
   "outputs": [],
   "source": [
    "model = SAC.load(\"model.zip\")"
   ]
  },
  {
   "cell_type": "code",
   "execution_count": null,
   "id": "7cf63bd7-47d5-491e-a3bd-e5e7fec3ff6d",
   "metadata": {},
   "outputs": [],
   "source": [
    "data = load_default_validation_data()\n",
    "env_config = EnvConfig()\n",
    "env_config.render_mode=\"video\""
   ]
  },
  {
   "cell_type": "code",
   "execution_count": null,
   "id": "5a857105-140c-4acb-9691-756754ea2867",
   "metadata": {},
   "outputs": [],
   "source": [
    "def make_env():\n",
    "    env = gym.make('torchdriveenv-v0', args={'cfg': env_config, 'data': data})\n",
    "    env = Monitor(env)  \n",
    "    return env"
   ]
  },
  {
   "cell_type": "code",
   "execution_count": null,
   "id": "16d98d4d-66c6-4d5c-ae59-7fe59a22d52d",
   "metadata": {},
   "outputs": [],
   "source": [
    "def main(cfg, model):\n",
    "    env = DummyVecEnv([make_env])\n",
    "    env = VecFrameStack(env, n_stack=3, channels_order=\"first\")\n",
    "    obs = np.expand_dims(env.reset()[0], 0)\n",
    "    states = None\n",
    "    episode_starts = [True]\n",
    "\n",
    "    while True:\n",
    "        actions, states = model.predict(\n",
    "         obs,  \n",
    "         state=states,\n",
    "         episode_start=episode_starts,\n",
    "         deterministic=True,\n",
    "        )\n",
    "        obs, reward, done, info = env.step(actions)      \n",
    "        if done:\n",
    "            break\n",
    "    env.close()"
   ]
  },
  {
   "cell_type": "code",
   "execution_count": null,
   "id": "3f05d639-d287-44ac-8535-0a6054d7bf03",
   "metadata": {},
   "outputs": [],
   "source": [
    "env_config"
   ]
  },
  {
   "cell_type": "code",
   "execution_count": null,
   "id": "7c213132-2db5-47be-956e-f677797e90ba",
   "metadata": {},
   "outputs": [],
   "source": [
    "main(env_config, model)"
   ]
  },
  {
   "cell_type": "code",
   "execution_count": null,
   "id": "b22b1130-c823-473a-8458-9c076f1c5b03",
   "metadata": {},
   "outputs": [],
   "source": []
  }
 ],
 "metadata": {
  "kernelspec": {
   "display_name": "torchdriveenv",
   "language": "python",
   "name": "torchdriveenv"
  },
  "language_info": {
   "codemirror_mode": {
    "name": "ipython",
    "version": 3
   },
   "file_extension": ".py",
   "mimetype": "text/x-python",
   "name": "python",
   "nbconvert_exporter": "python",
   "pygments_lexer": "ipython3",
   "version": "3.10.12"
  }
 },
 "nbformat": 4,
 "nbformat_minor": 5
}
